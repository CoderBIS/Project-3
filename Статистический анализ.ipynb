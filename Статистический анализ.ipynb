{
 "cells": [
  {
   "cell_type": "markdown",
   "metadata": {},
   "source": [
    "## Исследование поведения клиентов оператора сотовой связи, определение какой из двух представленных тарифов более прибыльный для оператора.\n",
    "\n",
    "Исследование проводится для компании «Мегалайн» — федерального оператора сотовой связи. Клиентам предлагают два тарифных плана: «Смарт» и «Ультра». Чтобы скорректировать рекламный бюджет, коммерческий департамент хочет понять, какой тариф приносит больше денег.\n",
    "\n",
    "**Описание тарифов:**\n",
    "\n",
    "1. **Тариф «Смарт»**\n",
    "\n",
    "Ежемесячная плата: 550 рублей\n",
    "* Включено 500 минут разговора, 50 сообщений и 15 Гб интернет-трафика\n",
    "* Стоимость услуг сверх тарифного пакета: минута разговора - 3 рубля, сообщение - 3 рубля, 1 Гб интернет-трафика - 200 рублей\n",
    "\n",
    "2. **Тариф «Ультра»**\n",
    "\n",
    "Ежемесячная плата: 1950 рублей\n",
    "* Включено 3000 минут разговора, 1000 сообщений и 30 Гб интернет-трафика\n",
    "* Стоимость услуг сверх тарифного пакета: минута разговора - 1 рубль, сообщение - 1 рубль, 1 Гб интернет-трафика - 150 рублей\n",
    "\n",
    "**Цель исследования** — проанализировать поведение клиентов и сделать вывод — какой тариф лучше, проверить гипотезы:\n",
    "* средняя выручка пользователей тарифов «Ультра» и «Смарт» различаются;\n",
    "* средняя выручка пользователей из Москвы отличается от выручки пользователей из других регионов.\n",
    "\n",
    "**Ход исследования:**\n",
    "\n",
    "Данные получаем из файлов:\n",
    "- /datasets/calls.csv\n",
    "- /datasets/internet.csv\n",
    "- /datasets/messages.csv\n",
    "- /datasets/tariffs.csv\n",
    "- /datasets/users.csv\n",
    "\n",
    "Качество данных неизвестно, поэтому перед началом выполнения основной задачи понадобится обзор данных. \n",
    "\n",
    "Необходимо проверить данные на ошибки и оценить их влияние на исследование. Затем, на этапе предобработки необходимо найти возможность исправить самые критичные ошибки данных.\n",
    " \n",
    "Таким образом, исследование пройдёт в пять этапов:\n",
    " 1. Открытие файлов с данными и изучение общей информации.\n",
    " 2. Предобработка данных.\n",
    " 3. Проведение анализа данных (исследование).\n",
    " 4. Проверка гипотез:\n",
    "* средняя выручка пользователей тарифов «Ультра» и «Смарт» различаются;\n",
    "* средняя выручка пользователей из Москвы отличается от выручки пользователей из других регионов.\n",
    " 5. Общие выводы по полученным результатам."
   ]
  },
  {
   "cell_type": "markdown",
   "metadata": {},
   "source": [
    "## 1. Откроем файлы с данными и изучим общую информацию:"
   ]
  },
  {
   "cell_type": "code",
   "execution_count": 1,
   "metadata": {
    "scrolled": true
   },
   "outputs": [],
   "source": [
    "import pandas as pd\n",
    "\n",
    "import seaborn\n",
    "\n",
    "import numpy as np\n",
    "\n",
    "import math\n",
    "\n",
    "from scipy import stats as st"
   ]
  },
  {
   "cell_type": "code",
   "execution_count": 2,
   "metadata": {
    "scrolled": true
   },
   "outputs": [],
   "source": [
    "df_calls = pd.read_csv('C:/DA/Project-3/calls.csv')\n",
    "df_internet = pd.read_csv('C:/DA/Project-3/internet.csv')\n",
    "df_messages = pd.read_csv('C:/DA/Project-3/messages.csv')\n",
    "df_tariffs = pd.read_csv('C:/DA/Project-3/tariffs.csv')\n",
    "df_users = pd.read_csv('C:/DA/Project-3/users.csv')"
   ]
  },
  {
   "cell_type": "markdown",
   "metadata": {},
   "source": [
    "Поочередно просмотрим каждую таблицу.\n",
    "\n",
    "Посмотрим таблицу с информацией по звонкам:"
   ]
  },
  {
   "cell_type": "code",
   "execution_count": 3,
   "metadata": {
    "scrolled": true
   },
   "outputs": [
    {
     "data": {
      "text/html": [
       "<div>\n",
       "<style scoped>\n",
       "    .dataframe tbody tr th:only-of-type {\n",
       "        vertical-align: middle;\n",
       "    }\n",
       "\n",
       "    .dataframe tbody tr th {\n",
       "        vertical-align: top;\n",
       "    }\n",
       "\n",
       "    .dataframe thead th {\n",
       "        text-align: right;\n",
       "    }\n",
       "</style>\n",
       "<table border=\"1\" class=\"dataframe\">\n",
       "  <thead>\n",
       "    <tr style=\"text-align: right;\">\n",
       "      <th></th>\n",
       "      <th>id</th>\n",
       "      <th>call_date</th>\n",
       "      <th>duration</th>\n",
       "      <th>user_id</th>\n",
       "    </tr>\n",
       "  </thead>\n",
       "  <tbody>\n",
       "    <tr>\n",
       "      <th>0</th>\n",
       "      <td>1000_0</td>\n",
       "      <td>2018-07-25</td>\n",
       "      <td>0.00</td>\n",
       "      <td>1000</td>\n",
       "    </tr>\n",
       "    <tr>\n",
       "      <th>1</th>\n",
       "      <td>1000_1</td>\n",
       "      <td>2018-08-17</td>\n",
       "      <td>0.00</td>\n",
       "      <td>1000</td>\n",
       "    </tr>\n",
       "    <tr>\n",
       "      <th>2</th>\n",
       "      <td>1000_2</td>\n",
       "      <td>2018-06-11</td>\n",
       "      <td>2.85</td>\n",
       "      <td>1000</td>\n",
       "    </tr>\n",
       "    <tr>\n",
       "      <th>3</th>\n",
       "      <td>1000_3</td>\n",
       "      <td>2018-09-21</td>\n",
       "      <td>13.80</td>\n",
       "      <td>1000</td>\n",
       "    </tr>\n",
       "    <tr>\n",
       "      <th>4</th>\n",
       "      <td>1000_4</td>\n",
       "      <td>2018-12-15</td>\n",
       "      <td>5.18</td>\n",
       "      <td>1000</td>\n",
       "    </tr>\n",
       "  </tbody>\n",
       "</table>\n",
       "</div>"
      ],
      "text/plain": [
       "       id   call_date  duration  user_id\n",
       "0  1000_0  2018-07-25      0.00     1000\n",
       "1  1000_1  2018-08-17      0.00     1000\n",
       "2  1000_2  2018-06-11      2.85     1000\n",
       "3  1000_3  2018-09-21     13.80     1000\n",
       "4  1000_4  2018-12-15      5.18     1000"
      ]
     },
     "execution_count": 3,
     "metadata": {},
     "output_type": "execute_result"
    }
   ],
   "source": [
    "df_calls.head()"
   ]
  },
  {
   "cell_type": "code",
   "execution_count": 4,
   "metadata": {
    "scrolled": true
   },
   "outputs": [
    {
     "name": "stdout",
     "output_type": "stream",
     "text": [
      "<class 'pandas.core.frame.DataFrame'>\n",
      "RangeIndex: 202607 entries, 0 to 202606\n",
      "Data columns (total 4 columns):\n",
      " #   Column     Non-Null Count   Dtype  \n",
      "---  ------     --------------   -----  \n",
      " 0   id         202607 non-null  object \n",
      " 1   call_date  202607 non-null  object \n",
      " 2   duration   202607 non-null  float64\n",
      " 3   user_id    202607 non-null  int64  \n",
      "dtypes: float64(1), int64(1), object(2)\n",
      "memory usage: 6.2+ MB\n"
     ]
    }
   ],
   "source": [
    "df_calls.info()"
   ]
  },
  {
   "cell_type": "code",
   "execution_count": 5,
   "metadata": {
    "scrolled": true
   },
   "outputs": [
    {
     "data": {
      "text/plain": [
       "0"
      ]
     },
     "execution_count": 5,
     "metadata": {},
     "output_type": "execute_result"
    }
   ],
   "source": [
    "df_calls.duplicated().sum()"
   ]
  },
  {
   "cell_type": "markdown",
   "metadata": {},
   "source": [
    "Согласно документации к данным в таблице 4 столбца:\n",
    "- id — уникальный номер звонка\n",
    "- call_date — дата звонка\n",
    "- duration — длительность звонка в минутах\n",
    "- user_id — идентификатор пользователя, сделавшего звонок\n",
    "\n",
    "По предварительному просмотру данных видно, что в таблице 202607 строк и в столбцах отсутствуют пропуски.\n",
    "\n",
    "Посмотрим таблицу с информацией об интернет-сессиях:"
   ]
  },
  {
   "cell_type": "code",
   "execution_count": 6,
   "metadata": {
    "scrolled": true
   },
   "outputs": [
    {
     "data": {
      "text/html": [
       "<div>\n",
       "<style scoped>\n",
       "    .dataframe tbody tr th:only-of-type {\n",
       "        vertical-align: middle;\n",
       "    }\n",
       "\n",
       "    .dataframe tbody tr th {\n",
       "        vertical-align: top;\n",
       "    }\n",
       "\n",
       "    .dataframe thead th {\n",
       "        text-align: right;\n",
       "    }\n",
       "</style>\n",
       "<table border=\"1\" class=\"dataframe\">\n",
       "  <thead>\n",
       "    <tr style=\"text-align: right;\">\n",
       "      <th></th>\n",
       "      <th>Unnamed: 0</th>\n",
       "      <th>id</th>\n",
       "      <th>mb_used</th>\n",
       "      <th>session_date</th>\n",
       "      <th>user_id</th>\n",
       "    </tr>\n",
       "  </thead>\n",
       "  <tbody>\n",
       "    <tr>\n",
       "      <th>0</th>\n",
       "      <td>0</td>\n",
       "      <td>1000_0</td>\n",
       "      <td>112.95</td>\n",
       "      <td>2018-11-25</td>\n",
       "      <td>1000</td>\n",
       "    </tr>\n",
       "    <tr>\n",
       "      <th>1</th>\n",
       "      <td>1</td>\n",
       "      <td>1000_1</td>\n",
       "      <td>1052.81</td>\n",
       "      <td>2018-09-07</td>\n",
       "      <td>1000</td>\n",
       "    </tr>\n",
       "    <tr>\n",
       "      <th>2</th>\n",
       "      <td>2</td>\n",
       "      <td>1000_2</td>\n",
       "      <td>1197.26</td>\n",
       "      <td>2018-06-25</td>\n",
       "      <td>1000</td>\n",
       "    </tr>\n",
       "    <tr>\n",
       "      <th>3</th>\n",
       "      <td>3</td>\n",
       "      <td>1000_3</td>\n",
       "      <td>550.27</td>\n",
       "      <td>2018-08-22</td>\n",
       "      <td>1000</td>\n",
       "    </tr>\n",
       "    <tr>\n",
       "      <th>4</th>\n",
       "      <td>4</td>\n",
       "      <td>1000_4</td>\n",
       "      <td>302.56</td>\n",
       "      <td>2018-09-24</td>\n",
       "      <td>1000</td>\n",
       "    </tr>\n",
       "  </tbody>\n",
       "</table>\n",
       "</div>"
      ],
      "text/plain": [
       "   Unnamed: 0      id  mb_used session_date  user_id\n",
       "0           0  1000_0   112.95   2018-11-25     1000\n",
       "1           1  1000_1  1052.81   2018-09-07     1000\n",
       "2           2  1000_2  1197.26   2018-06-25     1000\n",
       "3           3  1000_3   550.27   2018-08-22     1000\n",
       "4           4  1000_4   302.56   2018-09-24     1000"
      ]
     },
     "execution_count": 6,
     "metadata": {},
     "output_type": "execute_result"
    }
   ],
   "source": [
    "df_internet.head()"
   ]
  },
  {
   "cell_type": "code",
   "execution_count": 7,
   "metadata": {
    "scrolled": true
   },
   "outputs": [
    {
     "name": "stdout",
     "output_type": "stream",
     "text": [
      "<class 'pandas.core.frame.DataFrame'>\n",
      "RangeIndex: 149396 entries, 0 to 149395\n",
      "Data columns (total 5 columns):\n",
      " #   Column        Non-Null Count   Dtype  \n",
      "---  ------        --------------   -----  \n",
      " 0   Unnamed: 0    149396 non-null  int64  \n",
      " 1   id            149396 non-null  object \n",
      " 2   mb_used       149396 non-null  float64\n",
      " 3   session_date  149396 non-null  object \n",
      " 4   user_id       149396 non-null  int64  \n",
      "dtypes: float64(1), int64(2), object(2)\n",
      "memory usage: 5.7+ MB\n"
     ]
    }
   ],
   "source": [
    "df_internet.info()"
   ]
  },
  {
   "cell_type": "code",
   "execution_count": 8,
   "metadata": {
    "scrolled": true
   },
   "outputs": [
    {
     "data": {
      "text/plain": [
       "0"
      ]
     },
     "execution_count": 8,
     "metadata": {},
     "output_type": "execute_result"
    }
   ],
   "source": [
    "df_internet.duplicated().sum()"
   ]
  },
  {
   "cell_type": "markdown",
   "metadata": {},
   "source": [
    "Согласно документации к данным в таблице 4 столбца:\n",
    "- id — уникальный номер сессии\n",
    "- mb_used — объём потраченного за сессию интернет-трафика (в мегабайтах)\n",
    "- session_date — дата интернет-сессии\n",
    "- user_id — идентификатор пользователя\n",
    "\n",
    "По предварительному просмотру данных видно, что в таблице имеется лишний столбец, дублирующий номера индекса, а также 149396 строк, пропуски в столбцах отсутствуют.\n",
    "\n",
    "Посмотрим таблицу с информацией о сообщениях:"
   ]
  },
  {
   "cell_type": "code",
   "execution_count": 9,
   "metadata": {
    "scrolled": true
   },
   "outputs": [
    {
     "data": {
      "text/html": [
       "<div>\n",
       "<style scoped>\n",
       "    .dataframe tbody tr th:only-of-type {\n",
       "        vertical-align: middle;\n",
       "    }\n",
       "\n",
       "    .dataframe tbody tr th {\n",
       "        vertical-align: top;\n",
       "    }\n",
       "\n",
       "    .dataframe thead th {\n",
       "        text-align: right;\n",
       "    }\n",
       "</style>\n",
       "<table border=\"1\" class=\"dataframe\">\n",
       "  <thead>\n",
       "    <tr style=\"text-align: right;\">\n",
       "      <th></th>\n",
       "      <th>id</th>\n",
       "      <th>message_date</th>\n",
       "      <th>user_id</th>\n",
       "    </tr>\n",
       "  </thead>\n",
       "  <tbody>\n",
       "    <tr>\n",
       "      <th>0</th>\n",
       "      <td>1000_0</td>\n",
       "      <td>2018-06-27</td>\n",
       "      <td>1000</td>\n",
       "    </tr>\n",
       "    <tr>\n",
       "      <th>1</th>\n",
       "      <td>1000_1</td>\n",
       "      <td>2018-10-08</td>\n",
       "      <td>1000</td>\n",
       "    </tr>\n",
       "    <tr>\n",
       "      <th>2</th>\n",
       "      <td>1000_2</td>\n",
       "      <td>2018-08-04</td>\n",
       "      <td>1000</td>\n",
       "    </tr>\n",
       "    <tr>\n",
       "      <th>3</th>\n",
       "      <td>1000_3</td>\n",
       "      <td>2018-06-16</td>\n",
       "      <td>1000</td>\n",
       "    </tr>\n",
       "    <tr>\n",
       "      <th>4</th>\n",
       "      <td>1000_4</td>\n",
       "      <td>2018-12-05</td>\n",
       "      <td>1000</td>\n",
       "    </tr>\n",
       "  </tbody>\n",
       "</table>\n",
       "</div>"
      ],
      "text/plain": [
       "       id message_date  user_id\n",
       "0  1000_0   2018-06-27     1000\n",
       "1  1000_1   2018-10-08     1000\n",
       "2  1000_2   2018-08-04     1000\n",
       "3  1000_3   2018-06-16     1000\n",
       "4  1000_4   2018-12-05     1000"
      ]
     },
     "execution_count": 9,
     "metadata": {},
     "output_type": "execute_result"
    }
   ],
   "source": [
    "df_messages.head()"
   ]
  },
  {
   "cell_type": "code",
   "execution_count": 10,
   "metadata": {
    "scrolled": true
   },
   "outputs": [
    {
     "name": "stdout",
     "output_type": "stream",
     "text": [
      "<class 'pandas.core.frame.DataFrame'>\n",
      "RangeIndex: 123036 entries, 0 to 123035\n",
      "Data columns (total 3 columns):\n",
      " #   Column        Non-Null Count   Dtype \n",
      "---  ------        --------------   ----- \n",
      " 0   id            123036 non-null  object\n",
      " 1   message_date  123036 non-null  object\n",
      " 2   user_id       123036 non-null  int64 \n",
      "dtypes: int64(1), object(2)\n",
      "memory usage: 2.8+ MB\n"
     ]
    }
   ],
   "source": [
    "df_messages.info()"
   ]
  },
  {
   "cell_type": "code",
   "execution_count": 11,
   "metadata": {
    "scrolled": true
   },
   "outputs": [
    {
     "data": {
      "text/plain": [
       "0"
      ]
     },
     "execution_count": 11,
     "metadata": {},
     "output_type": "execute_result"
    }
   ],
   "source": [
    "df_messages.duplicated().sum()"
   ]
  },
  {
   "cell_type": "markdown",
   "metadata": {},
   "source": [
    "Согласно документации к данным в таблице 3 столбца:\n",
    "- id — уникальный номер сообщения\n",
    "- message_date — дата сообщения\n",
    "- user_id — идентификатор пользователя, отправившего сообщение\n",
    "\n",
    "По предварительному просмотру данных видно, что в таблице 123036 строк, пропуски в столбцах отсутствуют.\n",
    "\n",
    "Посмотрим таблицу с информацией о тарифах:"
   ]
  },
  {
   "cell_type": "code",
   "execution_count": 12,
   "metadata": {
    "scrolled": true
   },
   "outputs": [
    {
     "data": {
      "text/html": [
       "<div>\n",
       "<style scoped>\n",
       "    .dataframe tbody tr th:only-of-type {\n",
       "        vertical-align: middle;\n",
       "    }\n",
       "\n",
       "    .dataframe tbody tr th {\n",
       "        vertical-align: top;\n",
       "    }\n",
       "\n",
       "    .dataframe thead th {\n",
       "        text-align: right;\n",
       "    }\n",
       "</style>\n",
       "<table border=\"1\" class=\"dataframe\">\n",
       "  <thead>\n",
       "    <tr style=\"text-align: right;\">\n",
       "      <th></th>\n",
       "      <th>messages_included</th>\n",
       "      <th>mb_per_month_included</th>\n",
       "      <th>minutes_included</th>\n",
       "      <th>rub_monthly_fee</th>\n",
       "      <th>rub_per_gb</th>\n",
       "      <th>rub_per_message</th>\n",
       "      <th>rub_per_minute</th>\n",
       "      <th>tariff_name</th>\n",
       "    </tr>\n",
       "  </thead>\n",
       "  <tbody>\n",
       "    <tr>\n",
       "      <th>0</th>\n",
       "      <td>50</td>\n",
       "      <td>15360</td>\n",
       "      <td>500</td>\n",
       "      <td>550</td>\n",
       "      <td>200</td>\n",
       "      <td>3</td>\n",
       "      <td>3</td>\n",
       "      <td>smart</td>\n",
       "    </tr>\n",
       "    <tr>\n",
       "      <th>1</th>\n",
       "      <td>1000</td>\n",
       "      <td>30720</td>\n",
       "      <td>3000</td>\n",
       "      <td>1950</td>\n",
       "      <td>150</td>\n",
       "      <td>1</td>\n",
       "      <td>1</td>\n",
       "      <td>ultra</td>\n",
       "    </tr>\n",
       "  </tbody>\n",
       "</table>\n",
       "</div>"
      ],
      "text/plain": [
       "   messages_included  mb_per_month_included  minutes_included  \\\n",
       "0                 50                  15360               500   \n",
       "1               1000                  30720              3000   \n",
       "\n",
       "   rub_monthly_fee  rub_per_gb  rub_per_message  rub_per_minute tariff_name  \n",
       "0              550         200                3               3       smart  \n",
       "1             1950         150                1               1       ultra  "
      ]
     },
     "execution_count": 12,
     "metadata": {},
     "output_type": "execute_result"
    }
   ],
   "source": [
    "df_tariffs"
   ]
  },
  {
   "cell_type": "code",
   "execution_count": 13,
   "metadata": {
    "scrolled": true
   },
   "outputs": [
    {
     "name": "stdout",
     "output_type": "stream",
     "text": [
      "<class 'pandas.core.frame.DataFrame'>\n",
      "RangeIndex: 2 entries, 0 to 1\n",
      "Data columns (total 8 columns):\n",
      " #   Column                 Non-Null Count  Dtype \n",
      "---  ------                 --------------  ----- \n",
      " 0   messages_included      2 non-null      int64 \n",
      " 1   mb_per_month_included  2 non-null      int64 \n",
      " 2   minutes_included       2 non-null      int64 \n",
      " 3   rub_monthly_fee        2 non-null      int64 \n",
      " 4   rub_per_gb             2 non-null      int64 \n",
      " 5   rub_per_message        2 non-null      int64 \n",
      " 6   rub_per_minute         2 non-null      int64 \n",
      " 7   tariff_name            2 non-null      object\n",
      "dtypes: int64(7), object(1)\n",
      "memory usage: 256.0+ bytes\n"
     ]
    }
   ],
   "source": [
    "df_tariffs.info()"
   ]
  },
  {
   "cell_type": "markdown",
   "metadata": {},
   "source": [
    "Согласно документации к данным в таблице 8 столбцов:\n",
    "- tariff_name — название тарифа\n",
    "- rub_monthly_fee — ежемесячная абонентская плата в рублях\n",
    "- minutes_included — количество минут разговора в месяц, включённых в абонентскую плату\n",
    "- messages_included — количество сообщений в месяц, включённых в абонентскую плату\n",
    "- mb_per_month_included — объём интернет-трафика, включённого в абонентскую плату (в мегабайтах)\n",
    "- rub_per_minute — стоимость минуты разговора сверх тарифного пакета (например, если в тарифе 100 минут разговора в месяц, то со 101 минуты будет взиматься плата)\n",
    "- rub_per_message — стоимость отправки сообщения сверх тарифного пакета\n",
    "- rub_per_gb — стоимость дополнительного гигабайта интернет-трафика сверх тарифного пакета (1 гигабайт = 1024 мегабайта)\n",
    "\n",
    "По предварительному просмотру данных видно, что в таблице всего 2 строки в соответствии с представленными тарифами, пропущенные значения в таблице отсутствуют.\n",
    "\n",
    "Посмотрим таблицу с информацией о пользователях:"
   ]
  },
  {
   "cell_type": "code",
   "execution_count": 14,
   "metadata": {
    "scrolled": true
   },
   "outputs": [
    {
     "data": {
      "text/html": [
       "<div>\n",
       "<style scoped>\n",
       "    .dataframe tbody tr th:only-of-type {\n",
       "        vertical-align: middle;\n",
       "    }\n",
       "\n",
       "    .dataframe tbody tr th {\n",
       "        vertical-align: top;\n",
       "    }\n",
       "\n",
       "    .dataframe thead th {\n",
       "        text-align: right;\n",
       "    }\n",
       "</style>\n",
       "<table border=\"1\" class=\"dataframe\">\n",
       "  <thead>\n",
       "    <tr style=\"text-align: right;\">\n",
       "      <th></th>\n",
       "      <th>user_id</th>\n",
       "      <th>age</th>\n",
       "      <th>churn_date</th>\n",
       "      <th>city</th>\n",
       "      <th>first_name</th>\n",
       "      <th>last_name</th>\n",
       "      <th>reg_date</th>\n",
       "      <th>tariff</th>\n",
       "    </tr>\n",
       "  </thead>\n",
       "  <tbody>\n",
       "    <tr>\n",
       "      <th>0</th>\n",
       "      <td>1000</td>\n",
       "      <td>52</td>\n",
       "      <td>NaN</td>\n",
       "      <td>Краснодар</td>\n",
       "      <td>Рафаил</td>\n",
       "      <td>Верещагин</td>\n",
       "      <td>2018-05-25</td>\n",
       "      <td>ultra</td>\n",
       "    </tr>\n",
       "    <tr>\n",
       "      <th>1</th>\n",
       "      <td>1001</td>\n",
       "      <td>41</td>\n",
       "      <td>NaN</td>\n",
       "      <td>Москва</td>\n",
       "      <td>Иван</td>\n",
       "      <td>Ежов</td>\n",
       "      <td>2018-11-01</td>\n",
       "      <td>smart</td>\n",
       "    </tr>\n",
       "    <tr>\n",
       "      <th>2</th>\n",
       "      <td>1002</td>\n",
       "      <td>59</td>\n",
       "      <td>NaN</td>\n",
       "      <td>Стерлитамак</td>\n",
       "      <td>Евгений</td>\n",
       "      <td>Абрамович</td>\n",
       "      <td>2018-06-17</td>\n",
       "      <td>smart</td>\n",
       "    </tr>\n",
       "    <tr>\n",
       "      <th>3</th>\n",
       "      <td>1003</td>\n",
       "      <td>23</td>\n",
       "      <td>NaN</td>\n",
       "      <td>Москва</td>\n",
       "      <td>Белла</td>\n",
       "      <td>Белякова</td>\n",
       "      <td>2018-08-17</td>\n",
       "      <td>ultra</td>\n",
       "    </tr>\n",
       "    <tr>\n",
       "      <th>4</th>\n",
       "      <td>1004</td>\n",
       "      <td>68</td>\n",
       "      <td>NaN</td>\n",
       "      <td>Новокузнецк</td>\n",
       "      <td>Татьяна</td>\n",
       "      <td>Авдеенко</td>\n",
       "      <td>2018-05-14</td>\n",
       "      <td>ultra</td>\n",
       "    </tr>\n",
       "  </tbody>\n",
       "</table>\n",
       "</div>"
      ],
      "text/plain": [
       "   user_id  age churn_date         city first_name  last_name    reg_date  \\\n",
       "0     1000   52        NaN    Краснодар     Рафаил  Верещагин  2018-05-25   \n",
       "1     1001   41        NaN       Москва       Иван       Ежов  2018-11-01   \n",
       "2     1002   59        NaN  Стерлитамак    Евгений  Абрамович  2018-06-17   \n",
       "3     1003   23        NaN       Москва      Белла   Белякова  2018-08-17   \n",
       "4     1004   68        NaN  Новокузнецк    Татьяна   Авдеенко  2018-05-14   \n",
       "\n",
       "  tariff  \n",
       "0  ultra  \n",
       "1  smart  \n",
       "2  smart  \n",
       "3  ultra  \n",
       "4  ultra  "
      ]
     },
     "execution_count": 14,
     "metadata": {},
     "output_type": "execute_result"
    }
   ],
   "source": [
    "df_users.head()"
   ]
  },
  {
   "cell_type": "code",
   "execution_count": 15,
   "metadata": {
    "scrolled": false
   },
   "outputs": [
    {
     "name": "stdout",
     "output_type": "stream",
     "text": [
      "<class 'pandas.core.frame.DataFrame'>\n",
      "RangeIndex: 500 entries, 0 to 499\n",
      "Data columns (total 8 columns):\n",
      " #   Column      Non-Null Count  Dtype \n",
      "---  ------      --------------  ----- \n",
      " 0   user_id     500 non-null    int64 \n",
      " 1   age         500 non-null    int64 \n",
      " 2   churn_date  38 non-null     object\n",
      " 3   city        500 non-null    object\n",
      " 4   first_name  500 non-null    object\n",
      " 5   last_name   500 non-null    object\n",
      " 6   reg_date    500 non-null    object\n",
      " 7   tariff      500 non-null    object\n",
      "dtypes: int64(2), object(6)\n",
      "memory usage: 31.4+ KB\n"
     ]
    }
   ],
   "source": [
    "df_users.info()"
   ]
  },
  {
   "cell_type": "code",
   "execution_count": 16,
   "metadata": {},
   "outputs": [
    {
     "data": {
      "text/plain": [
       "500"
      ]
     },
     "execution_count": 16,
     "metadata": {},
     "output_type": "execute_result"
    }
   ],
   "source": [
    "len(df_users['user_id'].unique())"
   ]
  },
  {
   "cell_type": "markdown",
   "metadata": {},
   "source": [
    "Согласно документации к данным в таблице 8 столбцов:\n",
    "- user_id — уникальный идентификатор пользователя\n",
    "- first_name — имя пользователя\n",
    "- last_name — фамилия пользователя\n",
    "- age — возраст пользователя (годы)\n",
    "- reg_date — дата подключения тарифа (день, месяц, год)\n",
    "- churn_date — дата прекращения пользования тарифом (если значение пропущено, то тариф ещё действовал на момент выгрузки данных)\n",
    "- city — город проживания пользователя\n",
    "- tarif — название тарифного плана\n",
    "\n",
    "По предварительному просмотру данных видно, что в таблице 500 строк в соответствии с количеством пользователей, пропущенные значения имеются в столбце churn_date, при этом значения в этом столбце имеются всего в 38 строках (38 пользователей сменили тариф)."
   ]
  },
  {
   "cell_type": "markdown",
   "metadata": {},
   "source": [
    "**Вывод:**\n",
    "\n",
    "В нашем распоряжении имеется 5 таблиц с данными, одна из которых описывает пользователей тарифов, одна описывает тарифы и 3 таблицы описывают объем пользования определенной услугой (каждая таблица разную услугу) - звонки, интернет и сообщения.\n",
    "\n",
    "Предварительно можно утверждать, что данных достаточно для поставленных в работе целей. Но названия некоторых колонок недостаточно информативны / недостаточно корректны. Также в таблице с информацией о звонках в столбце с длительностью звонков значения отражены не в целых минутах, хотя по документации мы знаем, что оператор округляет каждый звонок до минуты.\n",
    "\n",
    "Чтобы двигаться дальше, нужно устранить проблемы в данных."
   ]
  },
  {
   "cell_type": "markdown",
   "metadata": {},
   "source": [
    "## 2. Подготовка данных (предобработка):"
   ]
  },
  {
   "cell_type": "markdown",
   "metadata": {},
   "source": [
    "**Подготовку данных разделим на 2 этапа:**\n",
    "\n",
    "1. Предобработка данных, включающая следующие необходимые действия:\n",
    "- необходимо переименовать столбцы для удобства в работе;\n",
    "- привести данные к нужным типам;\n",
    "- найти и устранить ошибки при наличие.\n",
    "\n",
    "2. Подсчет для каждого пользователя:\n",
    "- количества сделанных звонков и израсходованных минут разговора по месяцам;\n",
    "- количества отправленных сообщений по месяцам;\n",
    "- объема израсходованного интернет-трафика по месяцам;\n",
    "- помесячную выручку с каждого пользователя (вычесть бесплатный лимит из суммарного количества звонков, сообщений и интернет-трафика; остаток умножить на значение из тарифного плана; прибавить абонентскую плату, соответствующую тарифному плану)."
   ]
  },
  {
   "cell_type": "markdown",
   "metadata": {},
   "source": [
    "### 2.1 Предобработка данных:"
   ]
  },
  {
   "cell_type": "markdown",
   "metadata": {},
   "source": [
    "В предыдущем пункте при просмотре таблицы df_calls были выявлены следующие недочеты:\n",
    "- столбец с уникальным номером звонка обозначен просто id, последующие таблицы имеют столбец с аналогичным именем, переименуем столбец в calls_id;\n",
    "- столбец duration для большей информативности переименуем в calls_duration\n",
    "- столбец с информацией о дате звонка call_date необходимо перевести в формат datetime для дальнейшей работы с ним;\n",
    "- столбец с информацией о длительности звонков округлим в большую сторону (согласно правилу оператора по подсчету минут)."
   ]
  },
  {
   "cell_type": "code",
   "execution_count": 17,
   "metadata": {
    "scrolled": true
   },
   "outputs": [
    {
     "data": {
      "text/plain": [
       "Index(['calls_id', 'call_date', 'calls_duration', 'user_id'], dtype='object')"
      ]
     },
     "execution_count": 17,
     "metadata": {},
     "output_type": "execute_result"
    }
   ],
   "source": [
    "df_calls = df_calls.rename(columns={'id': 'calls_id', 'duration': 'calls_duration'})\n",
    "df_calls.columns"
   ]
  },
  {
   "cell_type": "code",
   "execution_count": 18,
   "metadata": {
    "scrolled": true
   },
   "outputs": [
    {
     "name": "stdout",
     "output_type": "stream",
     "text": [
      "<class 'pandas.core.frame.DataFrame'>\n",
      "RangeIndex: 202607 entries, 0 to 202606\n",
      "Data columns (total 4 columns):\n",
      " #   Column          Non-Null Count   Dtype         \n",
      "---  ------          --------------   -----         \n",
      " 0   calls_id        202607 non-null  object        \n",
      " 1   call_date       202607 non-null  datetime64[ns]\n",
      " 2   calls_duration  202607 non-null  int32         \n",
      " 3   user_id         202607 non-null  int64         \n",
      "dtypes: datetime64[ns](1), int32(1), int64(1), object(1)\n",
      "memory usage: 5.4+ MB\n"
     ]
    }
   ],
   "source": [
    "df_calls['call_date'] = pd.to_datetime(df_calls['call_date'], format='%Y-%m-%d')\n",
    "df_calls['calls_duration'] = np.ceil(df_calls['calls_duration']).astype('int')\n",
    "df_calls.info()"
   ]
  },
  {
   "cell_type": "code",
   "execution_count": 19,
   "metadata": {
    "scrolled": true
   },
   "outputs": [
    {
     "data": {
      "text/html": [
       "<div>\n",
       "<style scoped>\n",
       "    .dataframe tbody tr th:only-of-type {\n",
       "        vertical-align: middle;\n",
       "    }\n",
       "\n",
       "    .dataframe tbody tr th {\n",
       "        vertical-align: top;\n",
       "    }\n",
       "\n",
       "    .dataframe thead th {\n",
       "        text-align: right;\n",
       "    }\n",
       "</style>\n",
       "<table border=\"1\" class=\"dataframe\">\n",
       "  <thead>\n",
       "    <tr style=\"text-align: right;\">\n",
       "      <th></th>\n",
       "      <th>calls_id</th>\n",
       "      <th>call_date</th>\n",
       "      <th>calls_duration</th>\n",
       "      <th>user_id</th>\n",
       "    </tr>\n",
       "  </thead>\n",
       "  <tbody>\n",
       "    <tr>\n",
       "      <th>0</th>\n",
       "      <td>1000_0</td>\n",
       "      <td>2018-07-25</td>\n",
       "      <td>0</td>\n",
       "      <td>1000</td>\n",
       "    </tr>\n",
       "    <tr>\n",
       "      <th>1</th>\n",
       "      <td>1000_1</td>\n",
       "      <td>2018-08-17</td>\n",
       "      <td>0</td>\n",
       "      <td>1000</td>\n",
       "    </tr>\n",
       "    <tr>\n",
       "      <th>2</th>\n",
       "      <td>1000_2</td>\n",
       "      <td>2018-06-11</td>\n",
       "      <td>3</td>\n",
       "      <td>1000</td>\n",
       "    </tr>\n",
       "    <tr>\n",
       "      <th>3</th>\n",
       "      <td>1000_3</td>\n",
       "      <td>2018-09-21</td>\n",
       "      <td>14</td>\n",
       "      <td>1000</td>\n",
       "    </tr>\n",
       "    <tr>\n",
       "      <th>4</th>\n",
       "      <td>1000_4</td>\n",
       "      <td>2018-12-15</td>\n",
       "      <td>6</td>\n",
       "      <td>1000</td>\n",
       "    </tr>\n",
       "  </tbody>\n",
       "</table>\n",
       "</div>"
      ],
      "text/plain": [
       "  calls_id  call_date  calls_duration  user_id\n",
       "0   1000_0 2018-07-25               0     1000\n",
       "1   1000_1 2018-08-17               0     1000\n",
       "2   1000_2 2018-06-11               3     1000\n",
       "3   1000_3 2018-09-21              14     1000\n",
       "4   1000_4 2018-12-15               6     1000"
      ]
     },
     "execution_count": 19,
     "metadata": {},
     "output_type": "execute_result"
    }
   ],
   "source": [
    "df_calls.head()"
   ]
  },
  {
   "cell_type": "markdown",
   "metadata": {},
   "source": [
    "В предыдущем пункте при просмотре таблицы df_internet были выявлены следующие недочеты:\n",
    "- столбец с уникальным номером интренет-сессии обозначен просто id, переименуем столбец в internet_session_id;\n",
    "- столбец с информацией о дате сессии session_date необходимо перевести в формат datetime для дальнейшей работы с ним;\n",
    "- удалим лишний столбец Unnamed: 0."
   ]
  },
  {
   "cell_type": "code",
   "execution_count": 20,
   "metadata": {
    "scrolled": true
   },
   "outputs": [
    {
     "data": {
      "text/plain": [
       "Index(['Unnamed: 0', 'internet_session_id', 'mb_used', 'session_date',\n",
       "       'user_id'],\n",
       "      dtype='object')"
      ]
     },
     "execution_count": 20,
     "metadata": {},
     "output_type": "execute_result"
    }
   ],
   "source": [
    "df_internet = df_internet.rename(columns={'id': 'internet_session_id'})\n",
    "df_internet.columns"
   ]
  },
  {
   "cell_type": "code",
   "execution_count": 21,
   "metadata": {
    "scrolled": true
   },
   "outputs": [
    {
     "data": {
      "text/html": [
       "<div>\n",
       "<style scoped>\n",
       "    .dataframe tbody tr th:only-of-type {\n",
       "        vertical-align: middle;\n",
       "    }\n",
       "\n",
       "    .dataframe tbody tr th {\n",
       "        vertical-align: top;\n",
       "    }\n",
       "\n",
       "    .dataframe thead th {\n",
       "        text-align: right;\n",
       "    }\n",
       "</style>\n",
       "<table border=\"1\" class=\"dataframe\">\n",
       "  <thead>\n",
       "    <tr style=\"text-align: right;\">\n",
       "      <th></th>\n",
       "      <th>internet_session_id</th>\n",
       "      <th>mb_used</th>\n",
       "      <th>session_date</th>\n",
       "      <th>user_id</th>\n",
       "    </tr>\n",
       "  </thead>\n",
       "  <tbody>\n",
       "    <tr>\n",
       "      <th>0</th>\n",
       "      <td>1000_0</td>\n",
       "      <td>112.95</td>\n",
       "      <td>2018-11-25</td>\n",
       "      <td>1000</td>\n",
       "    </tr>\n",
       "    <tr>\n",
       "      <th>1</th>\n",
       "      <td>1000_1</td>\n",
       "      <td>1052.81</td>\n",
       "      <td>2018-09-07</td>\n",
       "      <td>1000</td>\n",
       "    </tr>\n",
       "    <tr>\n",
       "      <th>2</th>\n",
       "      <td>1000_2</td>\n",
       "      <td>1197.26</td>\n",
       "      <td>2018-06-25</td>\n",
       "      <td>1000</td>\n",
       "    </tr>\n",
       "    <tr>\n",
       "      <th>3</th>\n",
       "      <td>1000_3</td>\n",
       "      <td>550.27</td>\n",
       "      <td>2018-08-22</td>\n",
       "      <td>1000</td>\n",
       "    </tr>\n",
       "    <tr>\n",
       "      <th>4</th>\n",
       "      <td>1000_4</td>\n",
       "      <td>302.56</td>\n",
       "      <td>2018-09-24</td>\n",
       "      <td>1000</td>\n",
       "    </tr>\n",
       "  </tbody>\n",
       "</table>\n",
       "</div>"
      ],
      "text/plain": [
       "  internet_session_id  mb_used session_date  user_id\n",
       "0              1000_0   112.95   2018-11-25     1000\n",
       "1              1000_1  1052.81   2018-09-07     1000\n",
       "2              1000_2  1197.26   2018-06-25     1000\n",
       "3              1000_3   550.27   2018-08-22     1000\n",
       "4              1000_4   302.56   2018-09-24     1000"
      ]
     },
     "execution_count": 21,
     "metadata": {},
     "output_type": "execute_result"
    }
   ],
   "source": [
    "df_internet.drop('Unnamed: 0', axis=1, inplace=True)\n",
    "df_internet.head()"
   ]
  },
  {
   "cell_type": "code",
   "execution_count": 22,
   "metadata": {},
   "outputs": [
    {
     "data": {
      "image/png": "[encoded data removed]",
      "text/plain": [
       "<Figure size 432x288 with 1 Axes>"
      ]
     },
     "metadata": {
      "needs_background": "light"
     },
     "output_type": "display_data"
    }
   ],
   "source": [
    "#  Комментарий ревьюера V2\n",
    "df_internet.mb_used.hist(bins = 100);"
   ]
  },
  {
   "cell_type": "code",
   "execution_count": 23,
   "metadata": {
    "scrolled": true
   },
   "outputs": [
    {
     "name": "stdout",
     "output_type": "stream",
     "text": [
      "<class 'pandas.core.frame.DataFrame'>\n",
      "RangeIndex: 149396 entries, 0 to 149395\n",
      "Data columns (total 4 columns):\n",
      " #   Column               Non-Null Count   Dtype         \n",
      "---  ------               --------------   -----         \n",
      " 0   internet_session_id  149396 non-null  object        \n",
      " 1   mb_used              149396 non-null  float64       \n",
      " 2   session_date         149396 non-null  datetime64[ns]\n",
      " 3   user_id              149396 non-null  int64         \n",
      "dtypes: datetime64[ns](1), float64(1), int64(1), object(1)\n",
      "memory usage: 4.6+ MB\n"
     ]
    }
   ],
   "source": [
    "df_internet['session_date'] = pd.to_datetime(df_internet['session_date'], format='%Y-%m-%d')\n",
    "df_internet.info()"
   ]
  },
  {
   "cell_type": "markdown",
   "metadata": {},
   "source": [
    "В предыдущем пункте при просмотре таблицы df_messages были выявлены следующие недочеты:\n",
    "- столбец с уникальным номером сообщения обозначен просто id, переименуем столбец в message_id;\n",
    "- столбец с информацией о дате сообщения message_date необходимо перевести в формат datetime для дальнейшей работы с ним."
   ]
  },
  {
   "cell_type": "code",
   "execution_count": 24,
   "metadata": {
    "scrolled": true
   },
   "outputs": [
    {
     "data": {
      "text/plain": [
       "Index(['message_id', 'message_date', 'user_id'], dtype='object')"
      ]
     },
     "execution_count": 24,
     "metadata": {},
     "output_type": "execute_result"
    }
   ],
   "source": [
    "df_messages = df_messages.rename(columns={'id': 'message_id'})\n",
    "df_messages.columns"
   ]
  },
  {
   "cell_type": "code",
   "execution_count": 25,
   "metadata": {
    "scrolled": true
   },
   "outputs": [
    {
     "name": "stdout",
     "output_type": "stream",
     "text": [
      "<class 'pandas.core.frame.DataFrame'>\n",
      "RangeIndex: 123036 entries, 0 to 123035\n",
      "Data columns (total 3 columns):\n",
      " #   Column        Non-Null Count   Dtype         \n",
      "---  ------        --------------   -----         \n",
      " 0   message_id    123036 non-null  object        \n",
      " 1   message_date  123036 non-null  datetime64[ns]\n",
      " 2   user_id       123036 non-null  int64         \n",
      "dtypes: datetime64[ns](1), int64(1), object(1)\n",
      "memory usage: 2.8+ MB\n"
     ]
    }
   ],
   "source": [
    "df_messages['message_date'] = pd.to_datetime(df_messages['message_date'], format='%Y-%m-%d')\n",
    "df_messages.info()"
   ]
  },
  {
   "cell_type": "markdown",
   "metadata": {},
   "source": [
    "В таблице df_tariffs переименуем столбец mb_per_month_included на mb_included:"
   ]
  },
  {
   "cell_type": "code",
   "execution_count": 26,
   "metadata": {
    "scrolled": true
   },
   "outputs": [
    {
     "data": {
      "text/plain": [
       "Index(['messages_included', 'mb_included', 'minutes_included',\n",
       "       'rub_monthly_fee', 'rub_per_gb', 'rub_per_message', 'rub_per_minute',\n",
       "       'tariff_name'],\n",
       "      dtype='object')"
      ]
     },
     "execution_count": 26,
     "metadata": {},
     "output_type": "execute_result"
    }
   ],
   "source": [
    "df_tariffs = df_tariffs.rename(columns={'mb_per_month_included': 'mb_included'})\n",
    "df_tariffs.columns"
   ]
  },
  {
   "cell_type": "markdown",
   "metadata": {},
   "source": [
    "В таблице df_users столбец с информацией о дате прекращения пользования тарифом churn_date и столбец с информацией о дате подключения тарифа reg_date необходимо перевести в формат datetime для дальнейшей работы с ними:"
   ]
  },
  {
   "cell_type": "code",
   "execution_count": 27,
   "metadata": {
    "scrolled": true
   },
   "outputs": [
    {
     "name": "stdout",
     "output_type": "stream",
     "text": [
      "<class 'pandas.core.frame.DataFrame'>\n",
      "RangeIndex: 500 entries, 0 to 499\n",
      "Data columns (total 8 columns):\n",
      " #   Column      Non-Null Count  Dtype         \n",
      "---  ------      --------------  -----         \n",
      " 0   user_id     500 non-null    int64         \n",
      " 1   age         500 non-null    int64         \n",
      " 2   churn_date  38 non-null     datetime64[ns]\n",
      " 3   city        500 non-null    object        \n",
      " 4   first_name  500 non-null    object        \n",
      " 5   last_name   500 non-null    object        \n",
      " 6   reg_date    500 non-null    datetime64[ns]\n",
      " 7   tariff      500 non-null    object        \n",
      "dtypes: datetime64[ns](2), int64(2), object(4)\n",
      "memory usage: 31.4+ KB\n"
     ]
    }
   ],
   "source": [
    "df_users['reg_date'] = pd.to_datetime(df_users['reg_date'], format='%Y-%m-%d')\n",
    "df_users['churn_date'] = pd.to_datetime(df_users['churn_date'], format='%Y-%m-%d')\n",
    "df_users.info()"
   ]
  },
  {
   "cell_type": "markdown",
   "metadata": {},
   "source": [
    "### 2.2 Подсчет информации для каждого пользователя:"
   ]
  },
  {
   "cell_type": "markdown",
   "metadata": {},
   "source": [
    "- количества сделанных звонков и израсходованных минут разговора по месяцам;\n",
    "- количества отправленных сообщений по месяцам;\n",
    "- объема израсходованного интернет-трафика по месяцам;\n",
    "- помесячную выручку с каждого пользователя (вычесть бесплатный лимит из суммарного количества звонков, сообщений и интернет-трафика; остаток умножить на значение из тарифного плана; прибавить абонентскую плату, соответствующую тарифному плану)."
   ]
  },
  {
   "cell_type": "markdown",
   "metadata": {},
   "source": [
    "#### 2.2.1 Посчитаем количество сделанных звонков и израсходованных минут разговора по месяцам, для начала добавим столбец с месяцем:"
   ]
  },
  {
   "cell_type": "code",
   "execution_count": 28,
   "metadata": {
    "scrolled": true
   },
   "outputs": [
    {
     "data": {
      "text/html": [
       "<div>\n",
       "<style scoped>\n",
       "    .dataframe tbody tr th:only-of-type {\n",
       "        vertical-align: middle;\n",
       "    }\n",
       "\n",
       "    .dataframe tbody tr th {\n",
       "        vertical-align: top;\n",
       "    }\n",
       "\n",
       "    .dataframe thead th {\n",
       "        text-align: right;\n",
       "    }\n",
       "</style>\n",
       "<table border=\"1\" class=\"dataframe\">\n",
       "  <thead>\n",
       "    <tr style=\"text-align: right;\">\n",
       "      <th></th>\n",
       "      <th>calls_id</th>\n",
       "      <th>call_date</th>\n",
       "      <th>calls_duration</th>\n",
       "      <th>user_id</th>\n",
       "      <th>month</th>\n",
       "    </tr>\n",
       "  </thead>\n",
       "  <tbody>\n",
       "    <tr>\n",
       "      <th>0</th>\n",
       "      <td>1000_0</td>\n",
       "      <td>2018-07-25</td>\n",
       "      <td>0</td>\n",
       "      <td>1000</td>\n",
       "      <td>7</td>\n",
       "    </tr>\n",
       "    <tr>\n",
       "      <th>1</th>\n",
       "      <td>1000_1</td>\n",
       "      <td>2018-08-17</td>\n",
       "      <td>0</td>\n",
       "      <td>1000</td>\n",
       "      <td>8</td>\n",
       "    </tr>\n",
       "    <tr>\n",
       "      <th>2</th>\n",
       "      <td>1000_2</td>\n",
       "      <td>2018-06-11</td>\n",
       "      <td>3</td>\n",
       "      <td>1000</td>\n",
       "      <td>6</td>\n",
       "    </tr>\n",
       "    <tr>\n",
       "      <th>3</th>\n",
       "      <td>1000_3</td>\n",
       "      <td>2018-09-21</td>\n",
       "      <td>14</td>\n",
       "      <td>1000</td>\n",
       "      <td>9</td>\n",
       "    </tr>\n",
       "    <tr>\n",
       "      <th>4</th>\n",
       "      <td>1000_4</td>\n",
       "      <td>2018-12-15</td>\n",
       "      <td>6</td>\n",
       "      <td>1000</td>\n",
       "      <td>12</td>\n",
       "    </tr>\n",
       "  </tbody>\n",
       "</table>\n",
       "</div>"
      ],
      "text/plain": [
       "  calls_id  call_date  calls_duration  user_id  month\n",
       "0   1000_0 2018-07-25               0     1000      7\n",
       "1   1000_1 2018-08-17               0     1000      8\n",
       "2   1000_2 2018-06-11               3     1000      6\n",
       "3   1000_3 2018-09-21              14     1000      9\n",
       "4   1000_4 2018-12-15               6     1000     12"
      ]
     },
     "execution_count": 28,
     "metadata": {},
     "output_type": "execute_result"
    }
   ],
   "source": [
    "df_calls['month'] = pd.DatetimeIndex(df_calls['call_date']).month\n",
    "df_calls.head()"
   ]
  },
  {
   "cell_type": "markdown",
   "metadata": {},
   "source": [
    "Сгруппируем значения по пользователю и месяцу:"
   ]
  },
  {
   "cell_type": "code",
   "execution_count": 29,
   "metadata": {
    "scrolled": true
   },
   "outputs": [
    {
     "data": {
      "text/html": [
       "<div>\n",
       "<style scoped>\n",
       "    .dataframe tbody tr th:only-of-type {\n",
       "        vertical-align: middle;\n",
       "    }\n",
       "\n",
       "    .dataframe tbody tr th {\n",
       "        vertical-align: top;\n",
       "    }\n",
       "\n",
       "    .dataframe thead th {\n",
       "        text-align: right;\n",
       "    }\n",
       "</style>\n",
       "<table border=\"1\" class=\"dataframe\">\n",
       "  <thead>\n",
       "    <tr style=\"text-align: right;\">\n",
       "      <th></th>\n",
       "      <th>user_id</th>\n",
       "      <th>month</th>\n",
       "      <th>calls_count</th>\n",
       "      <th>calls_sum</th>\n",
       "    </tr>\n",
       "  </thead>\n",
       "  <tbody>\n",
       "    <tr>\n",
       "      <th>0</th>\n",
       "      <td>1000</td>\n",
       "      <td>5</td>\n",
       "      <td>22</td>\n",
       "      <td>159</td>\n",
       "    </tr>\n",
       "    <tr>\n",
       "      <th>1</th>\n",
       "      <td>1000</td>\n",
       "      <td>6</td>\n",
       "      <td>43</td>\n",
       "      <td>172</td>\n",
       "    </tr>\n",
       "    <tr>\n",
       "      <th>2</th>\n",
       "      <td>1000</td>\n",
       "      <td>7</td>\n",
       "      <td>47</td>\n",
       "      <td>340</td>\n",
       "    </tr>\n",
       "    <tr>\n",
       "      <th>3</th>\n",
       "      <td>1000</td>\n",
       "      <td>8</td>\n",
       "      <td>52</td>\n",
       "      <td>408</td>\n",
       "    </tr>\n",
       "    <tr>\n",
       "      <th>4</th>\n",
       "      <td>1000</td>\n",
       "      <td>9</td>\n",
       "      <td>58</td>\n",
       "      <td>466</td>\n",
       "    </tr>\n",
       "  </tbody>\n",
       "</table>\n",
       "</div>"
      ],
      "text/plain": [
       "   user_id  month  calls_count  calls_sum\n",
       "0     1000      5           22        159\n",
       "1     1000      6           43        172\n",
       "2     1000      7           47        340\n",
       "3     1000      8           52        408\n",
       "4     1000      9           58        466"
      ]
     },
     "execution_count": 29,
     "metadata": {},
     "output_type": "execute_result"
    }
   ],
   "source": [
    "calls_group = df_calls.groupby(['user_id', 'month']).agg({'calls_duration': ['count', 'sum']}).reset_index()\n",
    "calls_group.columns = ['user_id', 'month', 'calls_count', 'calls_sum']\n",
    "calls_group.head()"
   ]
  },
  {
   "cell_type": "code",
   "execution_count": 30,
   "metadata": {
    "scrolled": true
   },
   "outputs": [
    {
     "data": {
      "text/plain": [
       "492"
      ]
     },
     "execution_count": 30,
     "metadata": {},
     "output_type": "execute_result"
    }
   ],
   "source": [
    "len(calls_group['user_id'].unique())"
   ]
  },
  {
   "cell_type": "markdown",
   "metadata": {},
   "source": [
    "**Примечание:** 8 пользователей не пользовались услугой звонков."
   ]
  },
  {
   "cell_type": "markdown",
   "metadata": {},
   "source": [
    "#### 2.2.2 Посчитаем количество отправленных сообщений по месяцам - добавим столбец с месяцем и построим сводную таблицу:"
   ]
  },
  {
   "cell_type": "code",
   "execution_count": 31,
   "metadata": {
    "scrolled": true
   },
   "outputs": [
    {
     "data": {
      "text/html": [
       "<div>\n",
       "<style scoped>\n",
       "    .dataframe tbody tr th:only-of-type {\n",
       "        vertical-align: middle;\n",
       "    }\n",
       "\n",
       "    .dataframe tbody tr th {\n",
       "        vertical-align: top;\n",
       "    }\n",
       "\n",
       "    .dataframe thead th {\n",
       "        text-align: right;\n",
       "    }\n",
       "</style>\n",
       "<table border=\"1\" class=\"dataframe\">\n",
       "  <thead>\n",
       "    <tr style=\"text-align: right;\">\n",
       "      <th></th>\n",
       "      <th>message_id</th>\n",
       "      <th>message_date</th>\n",
       "      <th>user_id</th>\n",
       "      <th>month</th>\n",
       "    </tr>\n",
       "  </thead>\n",
       "  <tbody>\n",
       "    <tr>\n",
       "      <th>0</th>\n",
       "      <td>1000_0</td>\n",
       "      <td>2018-06-27</td>\n",
       "      <td>1000</td>\n",
       "      <td>6</td>\n",
       "    </tr>\n",
       "    <tr>\n",
       "      <th>1</th>\n",
       "      <td>1000_1</td>\n",
       "      <td>2018-10-08</td>\n",
       "      <td>1000</td>\n",
       "      <td>10</td>\n",
       "    </tr>\n",
       "    <tr>\n",
       "      <th>2</th>\n",
       "      <td>1000_2</td>\n",
       "      <td>2018-08-04</td>\n",
       "      <td>1000</td>\n",
       "      <td>8</td>\n",
       "    </tr>\n",
       "    <tr>\n",
       "      <th>3</th>\n",
       "      <td>1000_3</td>\n",
       "      <td>2018-06-16</td>\n",
       "      <td>1000</td>\n",
       "      <td>6</td>\n",
       "    </tr>\n",
       "    <tr>\n",
       "      <th>4</th>\n",
       "      <td>1000_4</td>\n",
       "      <td>2018-12-05</td>\n",
       "      <td>1000</td>\n",
       "      <td>12</td>\n",
       "    </tr>\n",
       "  </tbody>\n",
       "</table>\n",
       "</div>"
      ],
      "text/plain": [
       "  message_id message_date  user_id  month\n",
       "0     1000_0   2018-06-27     1000      6\n",
       "1     1000_1   2018-10-08     1000     10\n",
       "2     1000_2   2018-08-04     1000      8\n",
       "3     1000_3   2018-06-16     1000      6\n",
       "4     1000_4   2018-12-05     1000     12"
      ]
     },
     "execution_count": 31,
     "metadata": {},
     "output_type": "execute_result"
    }
   ],
   "source": [
    "df_messages['month'] = pd.DatetimeIndex(df_messages['message_date']).month\n",
    "df_messages.head()"
   ]
  },
  {
   "cell_type": "code",
   "execution_count": 32,
   "metadata": {
    "scrolled": true
   },
   "outputs": [
    {
     "data": {
      "text/html": [
       "<div>\n",
       "<style scoped>\n",
       "    .dataframe tbody tr th:only-of-type {\n",
       "        vertical-align: middle;\n",
       "    }\n",
       "\n",
       "    .dataframe tbody tr th {\n",
       "        vertical-align: top;\n",
       "    }\n",
       "\n",
       "    .dataframe thead th {\n",
       "        text-align: right;\n",
       "    }\n",
       "</style>\n",
       "<table border=\"1\" class=\"dataframe\">\n",
       "  <thead>\n",
       "    <tr style=\"text-align: right;\">\n",
       "      <th></th>\n",
       "      <th>user_id</th>\n",
       "      <th>month</th>\n",
       "      <th>messages_count</th>\n",
       "    </tr>\n",
       "  </thead>\n",
       "  <tbody>\n",
       "    <tr>\n",
       "      <th>0</th>\n",
       "      <td>1000</td>\n",
       "      <td>5</td>\n",
       "      <td>22</td>\n",
       "    </tr>\n",
       "    <tr>\n",
       "      <th>1</th>\n",
       "      <td>1000</td>\n",
       "      <td>6</td>\n",
       "      <td>60</td>\n",
       "    </tr>\n",
       "    <tr>\n",
       "      <th>2</th>\n",
       "      <td>1000</td>\n",
       "      <td>7</td>\n",
       "      <td>75</td>\n",
       "    </tr>\n",
       "    <tr>\n",
       "      <th>3</th>\n",
       "      <td>1000</td>\n",
       "      <td>8</td>\n",
       "      <td>81</td>\n",
       "    </tr>\n",
       "    <tr>\n",
       "      <th>4</th>\n",
       "      <td>1000</td>\n",
       "      <td>9</td>\n",
       "      <td>57</td>\n",
       "    </tr>\n",
       "  </tbody>\n",
       "</table>\n",
       "</div>"
      ],
      "text/plain": [
       "   user_id  month  messages_count\n",
       "0     1000      5              22\n",
       "1     1000      6              60\n",
       "2     1000      7              75\n",
       "3     1000      8              81\n",
       "4     1000      9              57"
      ]
     },
     "execution_count": 32,
     "metadata": {},
     "output_type": "execute_result"
    }
   ],
   "source": [
    "messages_group = df_messages.groupby(['user_id', 'month'])['message_id'].count().reset_index()\n",
    "messages_group.columns = ['user_id', 'month', 'messages_count']\n",
    "messages_group.head()"
   ]
  },
  {
   "cell_type": "code",
   "execution_count": 33,
   "metadata": {
    "scrolled": false
   },
   "outputs": [
    {
     "data": {
      "text/plain": [
       "426"
      ]
     },
     "execution_count": 33,
     "metadata": {},
     "output_type": "execute_result"
    }
   ],
   "source": [
    "len(messages_group['user_id'].unique())"
   ]
  },
  {
   "cell_type": "markdown",
   "metadata": {},
   "source": [
    "**Примечание:** 74 пользователей не пользовались услугой сообщений."
   ]
  },
  {
   "cell_type": "markdown",
   "metadata": {},
   "source": [
    "#### 2.2.3 Посчитаем объем использованного интернет трафика по месяцам - добавим столбец с месяцем и построим сводную таблицу:"
   ]
  },
  {
   "cell_type": "code",
   "execution_count": 34,
   "metadata": {
    "scrolled": true
   },
   "outputs": [
    {
     "data": {
      "text/html": [
       "<div>\n",
       "<style scoped>\n",
       "    .dataframe tbody tr th:only-of-type {\n",
       "        vertical-align: middle;\n",
       "    }\n",
       "\n",
       "    .dataframe tbody tr th {\n",
       "        vertical-align: top;\n",
       "    }\n",
       "\n",
       "    .dataframe thead th {\n",
       "        text-align: right;\n",
       "    }\n",
       "</style>\n",
       "<table border=\"1\" class=\"dataframe\">\n",
       "  <thead>\n",
       "    <tr style=\"text-align: right;\">\n",
       "      <th></th>\n",
       "      <th>internet_session_id</th>\n",
       "      <th>mb_used</th>\n",
       "      <th>session_date</th>\n",
       "      <th>user_id</th>\n",
       "      <th>month</th>\n",
       "    </tr>\n",
       "  </thead>\n",
       "  <tbody>\n",
       "    <tr>\n",
       "      <th>0</th>\n",
       "      <td>1000_0</td>\n",
       "      <td>112.95</td>\n",
       "      <td>2018-11-25</td>\n",
       "      <td>1000</td>\n",
       "      <td>11</td>\n",
       "    </tr>\n",
       "    <tr>\n",
       "      <th>1</th>\n",
       "      <td>1000_1</td>\n",
       "      <td>1052.81</td>\n",
       "      <td>2018-09-07</td>\n",
       "      <td>1000</td>\n",
       "      <td>9</td>\n",
       "    </tr>\n",
       "    <tr>\n",
       "      <th>2</th>\n",
       "      <td>1000_2</td>\n",
       "      <td>1197.26</td>\n",
       "      <td>2018-06-25</td>\n",
       "      <td>1000</td>\n",
       "      <td>6</td>\n",
       "    </tr>\n",
       "    <tr>\n",
       "      <th>3</th>\n",
       "      <td>1000_3</td>\n",
       "      <td>550.27</td>\n",
       "      <td>2018-08-22</td>\n",
       "      <td>1000</td>\n",
       "      <td>8</td>\n",
       "    </tr>\n",
       "    <tr>\n",
       "      <th>4</th>\n",
       "      <td>1000_4</td>\n",
       "      <td>302.56</td>\n",
       "      <td>2018-09-24</td>\n",
       "      <td>1000</td>\n",
       "      <td>9</td>\n",
       "    </tr>\n",
       "  </tbody>\n",
       "</table>\n",
       "</div>"
      ],
      "text/plain": [
       "  internet_session_id  mb_used session_date  user_id  month\n",
       "0              1000_0   112.95   2018-11-25     1000     11\n",
       "1              1000_1  1052.81   2018-09-07     1000      9\n",
       "2              1000_2  1197.26   2018-06-25     1000      6\n",
       "3              1000_3   550.27   2018-08-22     1000      8\n",
       "4              1000_4   302.56   2018-09-24     1000      9"
      ]
     },
     "execution_count": 34,
     "metadata": {},
     "output_type": "execute_result"
    }
   ],
   "source": [
    "df_internet['month'] = pd.DatetimeIndex(df_internet['session_date']).month\n",
    "df_internet.head()"
   ]
  },
  {
   "cell_type": "code",
   "execution_count": 35,
   "metadata": {
    "scrolled": true
   },
   "outputs": [
    {
     "data": {
      "text/html": [
       "<div>\n",
       "<style scoped>\n",
       "    .dataframe tbody tr th:only-of-type {\n",
       "        vertical-align: middle;\n",
       "    }\n",
       "\n",
       "    .dataframe tbody tr th {\n",
       "        vertical-align: top;\n",
       "    }\n",
       "\n",
       "    .dataframe thead th {\n",
       "        text-align: right;\n",
       "    }\n",
       "</style>\n",
       "<table border=\"1\" class=\"dataframe\">\n",
       "  <thead>\n",
       "    <tr style=\"text-align: right;\">\n",
       "      <th></th>\n",
       "      <th>user_id</th>\n",
       "      <th>month</th>\n",
       "      <th>internet_sum</th>\n",
       "    </tr>\n",
       "  </thead>\n",
       "  <tbody>\n",
       "    <tr>\n",
       "      <th>0</th>\n",
       "      <td>1000</td>\n",
       "      <td>5</td>\n",
       "      <td>2253.49</td>\n",
       "    </tr>\n",
       "    <tr>\n",
       "      <th>1</th>\n",
       "      <td>1000</td>\n",
       "      <td>6</td>\n",
       "      <td>23233.77</td>\n",
       "    </tr>\n",
       "    <tr>\n",
       "      <th>2</th>\n",
       "      <td>1000</td>\n",
       "      <td>7</td>\n",
       "      <td>14003.64</td>\n",
       "    </tr>\n",
       "    <tr>\n",
       "      <th>3</th>\n",
       "      <td>1000</td>\n",
       "      <td>8</td>\n",
       "      <td>14055.93</td>\n",
       "    </tr>\n",
       "    <tr>\n",
       "      <th>4</th>\n",
       "      <td>1000</td>\n",
       "      <td>9</td>\n",
       "      <td>14568.91</td>\n",
       "    </tr>\n",
       "  </tbody>\n",
       "</table>\n",
       "</div>"
      ],
      "text/plain": [
       "   user_id  month  internet_sum\n",
       "0     1000      5       2253.49\n",
       "1     1000      6      23233.77\n",
       "2     1000      7      14003.64\n",
       "3     1000      8      14055.93\n",
       "4     1000      9      14568.91"
      ]
     },
     "execution_count": 35,
     "metadata": {},
     "output_type": "execute_result"
    }
   ],
   "source": [
    "internet_group = df_internet.groupby(['user_id', 'month'])['mb_used'].sum().reset_index()\n",
    "internet_group.columns = ['user_id', 'month', 'internet_sum']\n",
    "internet_group.head()"
   ]
  },
  {
   "cell_type": "markdown",
   "metadata": {},
   "source": [
    "Согласно правилу оператора, необходимо округлить мегабайты до гигабайтов:"
   ]
  },
  {
   "cell_type": "code",
   "execution_count": 36,
   "metadata": {
    "scrolled": true
   },
   "outputs": [
    {
     "data": {
      "text/html": [
       "<div>\n",
       "<style scoped>\n",
       "    .dataframe tbody tr th:only-of-type {\n",
       "        vertical-align: middle;\n",
       "    }\n",
       "\n",
       "    .dataframe tbody tr th {\n",
       "        vertical-align: top;\n",
       "    }\n",
       "\n",
       "    .dataframe thead th {\n",
       "        text-align: right;\n",
       "    }\n",
       "</style>\n",
       "<table border=\"1\" class=\"dataframe\">\n",
       "  <thead>\n",
       "    <tr style=\"text-align: right;\">\n",
       "      <th></th>\n",
       "      <th>user_id</th>\n",
       "      <th>month</th>\n",
       "      <th>internet_sum</th>\n",
       "    </tr>\n",
       "  </thead>\n",
       "  <tbody>\n",
       "    <tr>\n",
       "      <th>0</th>\n",
       "      <td>1000</td>\n",
       "      <td>5</td>\n",
       "      <td>3</td>\n",
       "    </tr>\n",
       "    <tr>\n",
       "      <th>1</th>\n",
       "      <td>1000</td>\n",
       "      <td>6</td>\n",
       "      <td>23</td>\n",
       "    </tr>\n",
       "    <tr>\n",
       "      <th>2</th>\n",
       "      <td>1000</td>\n",
       "      <td>7</td>\n",
       "      <td>14</td>\n",
       "    </tr>\n",
       "    <tr>\n",
       "      <th>3</th>\n",
       "      <td>1000</td>\n",
       "      <td>8</td>\n",
       "      <td>14</td>\n",
       "    </tr>\n",
       "    <tr>\n",
       "      <th>4</th>\n",
       "      <td>1000</td>\n",
       "      <td>9</td>\n",
       "      <td>15</td>\n",
       "    </tr>\n",
       "  </tbody>\n",
       "</table>\n",
       "</div>"
      ],
      "text/plain": [
       "   user_id  month  internet_sum\n",
       "0     1000      5             3\n",
       "1     1000      6            23\n",
       "2     1000      7            14\n",
       "3     1000      8            14\n",
       "4     1000      9            15"
      ]
     },
     "execution_count": 36,
     "metadata": {},
     "output_type": "execute_result"
    }
   ],
   "source": [
    "internet_group['internet_sum'] = np.ceil(internet_group['internet_sum'] / 1024).astype('int')\n",
    "internet_group.head()"
   ]
  },
  {
   "cell_type": "code",
   "execution_count": 37,
   "metadata": {
    "scrolled": true
   },
   "outputs": [
    {
     "data": {
      "text/plain": [
       "497"
      ]
     },
     "execution_count": 37,
     "metadata": {},
     "output_type": "execute_result"
    }
   ],
   "source": [
    "len(internet_group['user_id'].unique())"
   ]
  },
  {
   "cell_type": "markdown",
   "metadata": {},
   "source": [
    "**Примечание:** 3 пользователя не пользовались услугой интернета."
   ]
  },
  {
   "cell_type": "markdown",
   "metadata": {},
   "source": [
    "#### 2.2.4 Объединим полученные сгруппированные таблицы с таблицей, содержащей информацию о пользователях:"
   ]
  },
  {
   "cell_type": "code",
   "execution_count": 38,
   "metadata": {
    "scrolled": true
   },
   "outputs": [
    {
     "data": {
      "text/html": [
       "<div>\n",
       "<style scoped>\n",
       "    .dataframe tbody tr th:only-of-type {\n",
       "        vertical-align: middle;\n",
       "    }\n",
       "\n",
       "    .dataframe tbody tr th {\n",
       "        vertical-align: top;\n",
       "    }\n",
       "\n",
       "    .dataframe thead th {\n",
       "        text-align: right;\n",
       "    }\n",
       "</style>\n",
       "<table border=\"1\" class=\"dataframe\">\n",
       "  <thead>\n",
       "    <tr style=\"text-align: right;\">\n",
       "      <th></th>\n",
       "      <th>user_id</th>\n",
       "      <th>month</th>\n",
       "      <th>calls_count</th>\n",
       "      <th>calls_sum</th>\n",
       "      <th>messages_count</th>\n",
       "      <th>internet_sum</th>\n",
       "    </tr>\n",
       "  </thead>\n",
       "  <tbody>\n",
       "    <tr>\n",
       "      <th>0</th>\n",
       "      <td>1000</td>\n",
       "      <td>5</td>\n",
       "      <td>22.0</td>\n",
       "      <td>159.0</td>\n",
       "      <td>22.0</td>\n",
       "      <td>3.0</td>\n",
       "    </tr>\n",
       "    <tr>\n",
       "      <th>1</th>\n",
       "      <td>1000</td>\n",
       "      <td>6</td>\n",
       "      <td>43.0</td>\n",
       "      <td>172.0</td>\n",
       "      <td>60.0</td>\n",
       "      <td>23.0</td>\n",
       "    </tr>\n",
       "    <tr>\n",
       "      <th>2</th>\n",
       "      <td>1000</td>\n",
       "      <td>7</td>\n",
       "      <td>47.0</td>\n",
       "      <td>340.0</td>\n",
       "      <td>75.0</td>\n",
       "      <td>14.0</td>\n",
       "    </tr>\n",
       "    <tr>\n",
       "      <th>3</th>\n",
       "      <td>1000</td>\n",
       "      <td>8</td>\n",
       "      <td>52.0</td>\n",
       "      <td>408.0</td>\n",
       "      <td>81.0</td>\n",
       "      <td>14.0</td>\n",
       "    </tr>\n",
       "    <tr>\n",
       "      <th>4</th>\n",
       "      <td>1000</td>\n",
       "      <td>9</td>\n",
       "      <td>58.0</td>\n",
       "      <td>466.0</td>\n",
       "      <td>57.0</td>\n",
       "      <td>15.0</td>\n",
       "    </tr>\n",
       "    <tr>\n",
       "      <th>5</th>\n",
       "      <td>1000</td>\n",
       "      <td>10</td>\n",
       "      <td>57.0</td>\n",
       "      <td>350.0</td>\n",
       "      <td>73.0</td>\n",
       "      <td>15.0</td>\n",
       "    </tr>\n",
       "    <tr>\n",
       "      <th>6</th>\n",
       "      <td>1000</td>\n",
       "      <td>11</td>\n",
       "      <td>43.0</td>\n",
       "      <td>338.0</td>\n",
       "      <td>58.0</td>\n",
       "      <td>15.0</td>\n",
       "    </tr>\n",
       "    <tr>\n",
       "      <th>7</th>\n",
       "      <td>1000</td>\n",
       "      <td>12</td>\n",
       "      <td>46.0</td>\n",
       "      <td>333.0</td>\n",
       "      <td>70.0</td>\n",
       "      <td>10.0</td>\n",
       "    </tr>\n",
       "    <tr>\n",
       "      <th>8</th>\n",
       "      <td>1001</td>\n",
       "      <td>11</td>\n",
       "      <td>59.0</td>\n",
       "      <td>430.0</td>\n",
       "      <td>NaN</td>\n",
       "      <td>18.0</td>\n",
       "    </tr>\n",
       "    <tr>\n",
       "      <th>9</th>\n",
       "      <td>1001</td>\n",
       "      <td>12</td>\n",
       "      <td>63.0</td>\n",
       "      <td>414.0</td>\n",
       "      <td>NaN</td>\n",
       "      <td>14.0</td>\n",
       "    </tr>\n",
       "  </tbody>\n",
       "</table>\n",
       "</div>"
      ],
      "text/plain": [
       "   user_id  month  calls_count  calls_sum  messages_count  internet_sum\n",
       "0     1000      5         22.0      159.0            22.0           3.0\n",
       "1     1000      6         43.0      172.0            60.0          23.0\n",
       "2     1000      7         47.0      340.0            75.0          14.0\n",
       "3     1000      8         52.0      408.0            81.0          14.0\n",
       "4     1000      9         58.0      466.0            57.0          15.0\n",
       "5     1000     10         57.0      350.0            73.0          15.0\n",
       "6     1000     11         43.0      338.0            58.0          15.0\n",
       "7     1000     12         46.0      333.0            70.0          10.0\n",
       "8     1001     11         59.0      430.0             NaN          18.0\n",
       "9     1001     12         63.0      414.0             NaN          14.0"
      ]
     },
     "execution_count": 38,
     "metadata": {},
     "output_type": "execute_result"
    }
   ],
   "source": [
    "all_monthly_services_values = calls_group.merge(messages_group, on=['user_id', 'month'], how='outer')\n",
    "all_monthly_services_values = all_monthly_services_values.merge(internet_group, on=['user_id', 'month'], how='outer')\n",
    "all_monthly_services_values.head(10)"
   ]
  },
  {
   "cell_type": "code",
   "execution_count": 39,
   "metadata": {
    "scrolled": true
   },
   "outputs": [
    {
     "data": {
      "text/html": [
       "<div>\n",
       "<style scoped>\n",
       "    .dataframe tbody tr th:only-of-type {\n",
       "        vertical-align: middle;\n",
       "    }\n",
       "\n",
       "    .dataframe tbody tr th {\n",
       "        vertical-align: top;\n",
       "    }\n",
       "\n",
       "    .dataframe thead th {\n",
       "        text-align: right;\n",
       "    }\n",
       "</style>\n",
       "<table border=\"1\" class=\"dataframe\">\n",
       "  <thead>\n",
       "    <tr style=\"text-align: right;\">\n",
       "      <th></th>\n",
       "      <th>user_id</th>\n",
       "      <th>month</th>\n",
       "      <th>calls_count</th>\n",
       "      <th>calls_sum</th>\n",
       "      <th>messages_count</th>\n",
       "      <th>internet_sum</th>\n",
       "      <th>age</th>\n",
       "      <th>churn_date</th>\n",
       "      <th>city</th>\n",
       "      <th>first_name</th>\n",
       "      <th>last_name</th>\n",
       "      <th>reg_date</th>\n",
       "      <th>tariff</th>\n",
       "    </tr>\n",
       "  </thead>\n",
       "  <tbody>\n",
       "    <tr>\n",
       "      <th>0</th>\n",
       "      <td>1000</td>\n",
       "      <td>5.0</td>\n",
       "      <td>22.0</td>\n",
       "      <td>159.0</td>\n",
       "      <td>22.0</td>\n",
       "      <td>3.0</td>\n",
       "      <td>52</td>\n",
       "      <td>NaT</td>\n",
       "      <td>Краснодар</td>\n",
       "      <td>Рафаил</td>\n",
       "      <td>Верещагин</td>\n",
       "      <td>2018-05-25</td>\n",
       "      <td>ultra</td>\n",
       "    </tr>\n",
       "    <tr>\n",
       "      <th>1</th>\n",
       "      <td>1000</td>\n",
       "      <td>6.0</td>\n",
       "      <td>43.0</td>\n",
       "      <td>172.0</td>\n",
       "      <td>60.0</td>\n",
       "      <td>23.0</td>\n",
       "      <td>52</td>\n",
       "      <td>NaT</td>\n",
       "      <td>Краснодар</td>\n",
       "      <td>Рафаил</td>\n",
       "      <td>Верещагин</td>\n",
       "      <td>2018-05-25</td>\n",
       "      <td>ultra</td>\n",
       "    </tr>\n",
       "    <tr>\n",
       "      <th>2</th>\n",
       "      <td>1000</td>\n",
       "      <td>7.0</td>\n",
       "      <td>47.0</td>\n",
       "      <td>340.0</td>\n",
       "      <td>75.0</td>\n",
       "      <td>14.0</td>\n",
       "      <td>52</td>\n",
       "      <td>NaT</td>\n",
       "      <td>Краснодар</td>\n",
       "      <td>Рафаил</td>\n",
       "      <td>Верещагин</td>\n",
       "      <td>2018-05-25</td>\n",
       "      <td>ultra</td>\n",
       "    </tr>\n",
       "    <tr>\n",
       "      <th>3</th>\n",
       "      <td>1000</td>\n",
       "      <td>8.0</td>\n",
       "      <td>52.0</td>\n",
       "      <td>408.0</td>\n",
       "      <td>81.0</td>\n",
       "      <td>14.0</td>\n",
       "      <td>52</td>\n",
       "      <td>NaT</td>\n",
       "      <td>Краснодар</td>\n",
       "      <td>Рафаил</td>\n",
       "      <td>Верещагин</td>\n",
       "      <td>2018-05-25</td>\n",
       "      <td>ultra</td>\n",
       "    </tr>\n",
       "    <tr>\n",
       "      <th>4</th>\n",
       "      <td>1000</td>\n",
       "      <td>9.0</td>\n",
       "      <td>58.0</td>\n",
       "      <td>466.0</td>\n",
       "      <td>57.0</td>\n",
       "      <td>15.0</td>\n",
       "      <td>52</td>\n",
       "      <td>NaT</td>\n",
       "      <td>Краснодар</td>\n",
       "      <td>Рафаил</td>\n",
       "      <td>Верещагин</td>\n",
       "      <td>2018-05-25</td>\n",
       "      <td>ultra</td>\n",
       "    </tr>\n",
       "    <tr>\n",
       "      <th>5</th>\n",
       "      <td>1000</td>\n",
       "      <td>10.0</td>\n",
       "      <td>57.0</td>\n",
       "      <td>350.0</td>\n",
       "      <td>73.0</td>\n",
       "      <td>15.0</td>\n",
       "      <td>52</td>\n",
       "      <td>NaT</td>\n",
       "      <td>Краснодар</td>\n",
       "      <td>Рафаил</td>\n",
       "      <td>Верещагин</td>\n",
       "      <td>2018-05-25</td>\n",
       "      <td>ultra</td>\n",
       "    </tr>\n",
       "    <tr>\n",
       "      <th>6</th>\n",
       "      <td>1000</td>\n",
       "      <td>11.0</td>\n",
       "      <td>43.0</td>\n",
       "      <td>338.0</td>\n",
       "      <td>58.0</td>\n",
       "      <td>15.0</td>\n",
       "      <td>52</td>\n",
       "      <td>NaT</td>\n",
       "      <td>Краснодар</td>\n",
       "      <td>Рафаил</td>\n",
       "      <td>Верещагин</td>\n",
       "      <td>2018-05-25</td>\n",
       "      <td>ultra</td>\n",
       "    </tr>\n",
       "    <tr>\n",
       "      <th>7</th>\n",
       "      <td>1000</td>\n",
       "      <td>12.0</td>\n",
       "      <td>46.0</td>\n",
       "      <td>333.0</td>\n",
       "      <td>70.0</td>\n",
       "      <td>10.0</td>\n",
       "      <td>52</td>\n",
       "      <td>NaT</td>\n",
       "      <td>Краснодар</td>\n",
       "      <td>Рафаил</td>\n",
       "      <td>Верещагин</td>\n",
       "      <td>2018-05-25</td>\n",
       "      <td>ultra</td>\n",
       "    </tr>\n",
       "    <tr>\n",
       "      <th>8</th>\n",
       "      <td>1001</td>\n",
       "      <td>11.0</td>\n",
       "      <td>59.0</td>\n",
       "      <td>430.0</td>\n",
       "      <td>NaN</td>\n",
       "      <td>18.0</td>\n",
       "      <td>41</td>\n",
       "      <td>NaT</td>\n",
       "      <td>Москва</td>\n",
       "      <td>Иван</td>\n",
       "      <td>Ежов</td>\n",
       "      <td>2018-11-01</td>\n",
       "      <td>smart</td>\n",
       "    </tr>\n",
       "    <tr>\n",
       "      <th>9</th>\n",
       "      <td>1001</td>\n",
       "      <td>12.0</td>\n",
       "      <td>63.0</td>\n",
       "      <td>414.0</td>\n",
       "      <td>NaN</td>\n",
       "      <td>14.0</td>\n",
       "      <td>41</td>\n",
       "      <td>NaT</td>\n",
       "      <td>Москва</td>\n",
       "      <td>Иван</td>\n",
       "      <td>Ежов</td>\n",
       "      <td>2018-11-01</td>\n",
       "      <td>smart</td>\n",
       "    </tr>\n",
       "  </tbody>\n",
       "</table>\n",
       "</div>"
      ],
      "text/plain": [
       "   user_id  month  calls_count  calls_sum  messages_count  internet_sum  age  \\\n",
       "0     1000    5.0         22.0      159.0            22.0           3.0   52   \n",
       "1     1000    6.0         43.0      172.0            60.0          23.0   52   \n",
       "2     1000    7.0         47.0      340.0            75.0          14.0   52   \n",
       "3     1000    8.0         52.0      408.0            81.0          14.0   52   \n",
       "4     1000    9.0         58.0      466.0            57.0          15.0   52   \n",
       "5     1000   10.0         57.0      350.0            73.0          15.0   52   \n",
       "6     1000   11.0         43.0      338.0            58.0          15.0   52   \n",
       "7     1000   12.0         46.0      333.0            70.0          10.0   52   \n",
       "8     1001   11.0         59.0      430.0             NaN          18.0   41   \n",
       "9     1001   12.0         63.0      414.0             NaN          14.0   41   \n",
       "\n",
       "  churn_date       city first_name  last_name   reg_date tariff  \n",
       "0        NaT  Краснодар     Рафаил  Верещагин 2018-05-25  ultra  \n",
       "1        NaT  Краснодар     Рафаил  Верещагин 2018-05-25  ultra  \n",
       "2        NaT  Краснодар     Рафаил  Верещагин 2018-05-25  ultra  \n",
       "3        NaT  Краснодар     Рафаил  Верещагин 2018-05-25  ultra  \n",
       "4        NaT  Краснодар     Рафаил  Верещагин 2018-05-25  ultra  \n",
       "5        NaT  Краснодар     Рафаил  Верещагин 2018-05-25  ultra  \n",
       "6        NaT  Краснодар     Рафаил  Верещагин 2018-05-25  ultra  \n",
       "7        NaT  Краснодар     Рафаил  Верещагин 2018-05-25  ultra  \n",
       "8        NaT     Москва       Иван       Ежов 2018-11-01  smart  \n",
       "9        NaT     Москва       Иван       Ежов 2018-11-01  smart  "
      ]
     },
     "execution_count": 39,
     "metadata": {},
     "output_type": "execute_result"
    }
   ],
   "source": [
    "all_monthly_services_values = all_monthly_services_values.merge(df_users, on='user_id', how='outer')\n",
    "all_monthly_services_values.head(10)"
   ]
  },
  {
   "cell_type": "code",
   "execution_count": 40,
   "metadata": {
    "scrolled": true
   },
   "outputs": [
    {
     "name": "stdout",
     "output_type": "stream",
     "text": [
      "<class 'pandas.core.frame.DataFrame'>\n",
      "Int64Index: 3216 entries, 0 to 3215\n",
      "Data columns (total 13 columns):\n",
      " #   Column          Non-Null Count  Dtype         \n",
      "---  ------          --------------  -----         \n",
      " 0   user_id         3216 non-null   int64         \n",
      " 1   month           3214 non-null   float64       \n",
      " 2   calls_count     3174 non-null   float64       \n",
      " 3   calls_sum       3174 non-null   float64       \n",
      " 4   messages_count  2717 non-null   float64       \n",
      " 5   internet_sum    3203 non-null   float64       \n",
      " 6   age             3216 non-null   int64         \n",
      " 7   churn_date      189 non-null    datetime64[ns]\n",
      " 8   city            3216 non-null   object        \n",
      " 9   first_name      3216 non-null   object        \n",
      " 10  last_name       3216 non-null   object        \n",
      " 11  reg_date        3216 non-null   datetime64[ns]\n",
      " 12  tariff          3216 non-null   object        \n",
      "dtypes: datetime64[ns](2), float64(5), int64(2), object(4)\n",
      "memory usage: 351.8+ KB\n"
     ]
    }
   ],
   "source": [
    "all_monthly_services_values.info()"
   ]
  },
  {
   "cell_type": "markdown",
   "metadata": {},
   "source": [
    "**Примечание:** всего получилось 3216 строк, в столбцах по объемом использованных услуг имеются пропуски - пользователи не каждый месяц пользовались какой-то из услуг. Также в столбце месяца имеются 2 пропуска - скорее всего 2 пользователя вообще не пользовались услугами, нужно проверить:\n",
    "* пропуски по месяцам и определить возможность удаления данных строк;\n",
    "* заполним пропуски по объемам услуг значением 0 и привести значения к целочисленным значениям."
   ]
  },
  {
   "cell_type": "markdown",
   "metadata": {},
   "source": [
    "##### Технический долг 1 (убираем 2 строки с отсутствием информации по использованию услуг, но абенентская плата за месяц взимается)"
   ]
  },
  {
   "cell_type": "code",
   "execution_count": 41,
   "metadata": {
    "scrolled": true
   },
   "outputs": [
    {
     "data": {
      "text/html": [
       "<div>\n",
       "<style scoped>\n",
       "    .dataframe tbody tr th:only-of-type {\n",
       "        vertical-align: middle;\n",
       "    }\n",
       "\n",
       "    .dataframe tbody tr th {\n",
       "        vertical-align: top;\n",
       "    }\n",
       "\n",
       "    .dataframe thead th {\n",
       "        text-align: right;\n",
       "    }\n",
       "</style>\n",
       "<table border=\"1\" class=\"dataframe\">\n",
       "  <thead>\n",
       "    <tr style=\"text-align: right;\">\n",
       "      <th></th>\n",
       "      <th>user_id</th>\n",
       "      <th>month</th>\n",
       "      <th>calls_count</th>\n",
       "      <th>calls_sum</th>\n",
       "      <th>messages_count</th>\n",
       "      <th>internet_sum</th>\n",
       "      <th>age</th>\n",
       "      <th>churn_date</th>\n",
       "      <th>city</th>\n",
       "      <th>first_name</th>\n",
       "      <th>last_name</th>\n",
       "      <th>reg_date</th>\n",
       "      <th>tariff</th>\n",
       "    </tr>\n",
       "  </thead>\n",
       "  <tbody>\n",
       "    <tr>\n",
       "      <th>3214</th>\n",
       "      <td>1128</td>\n",
       "      <td>NaN</td>\n",
       "      <td>NaN</td>\n",
       "      <td>NaN</td>\n",
       "      <td>NaN</td>\n",
       "      <td>NaN</td>\n",
       "      <td>51</td>\n",
       "      <td>2018-12-23</td>\n",
       "      <td>Волжский</td>\n",
       "      <td>Ксения</td>\n",
       "      <td>Агаева</td>\n",
       "      <td>2018-12-15</td>\n",
       "      <td>ultra</td>\n",
       "    </tr>\n",
       "    <tr>\n",
       "      <th>3215</th>\n",
       "      <td>1371</td>\n",
       "      <td>NaN</td>\n",
       "      <td>NaN</td>\n",
       "      <td>NaN</td>\n",
       "      <td>NaN</td>\n",
       "      <td>NaN</td>\n",
       "      <td>50</td>\n",
       "      <td>2018-12-30</td>\n",
       "      <td>Омск</td>\n",
       "      <td>Ириней</td>\n",
       "      <td>Трофимов</td>\n",
       "      <td>2018-12-25</td>\n",
       "      <td>smart</td>\n",
       "    </tr>\n",
       "  </tbody>\n",
       "</table>\n",
       "</div>"
      ],
      "text/plain": [
       "      user_id  month  calls_count  calls_sum  messages_count  internet_sum  \\\n",
       "3214     1128    NaN          NaN        NaN             NaN           NaN   \n",
       "3215     1371    NaN          NaN        NaN             NaN           NaN   \n",
       "\n",
       "      age churn_date      city first_name last_name   reg_date tariff  \n",
       "3214   51 2018-12-23  Волжский     Ксения    Агаева 2018-12-15  ultra  \n",
       "3215   50 2018-12-30      Омск     Ириней  Трофимов 2018-12-25  smart  "
      ]
     },
     "execution_count": 41,
     "metadata": {},
     "output_type": "execute_result"
    }
   ],
   "source": [
    "all_monthly_services_values[all_monthly_services_values['month'].isna()]"
   ]
  },
  {
   "cell_type": "markdown",
   "metadata": {},
   "source": [
    "Версия подтвердилась - 2 пользователя подключили тариф и в тот же месяц отказались от его использования, удалим эти строки."
   ]
  },
  {
   "cell_type": "code",
   "execution_count": 42,
   "metadata": {
    "scrolled": true
   },
   "outputs": [
    {
     "name": "stdout",
     "output_type": "stream",
     "text": [
      "<class 'pandas.core.frame.DataFrame'>\n",
      "Int64Index: 3214 entries, 0 to 3213\n",
      "Data columns (total 13 columns):\n",
      " #   Column          Non-Null Count  Dtype         \n",
      "---  ------          --------------  -----         \n",
      " 0   user_id         3214 non-null   int64         \n",
      " 1   month           3214 non-null   float64       \n",
      " 2   calls_count     3174 non-null   float64       \n",
      " 3   calls_sum       3174 non-null   float64       \n",
      " 4   messages_count  2717 non-null   float64       \n",
      " 5   internet_sum    3203 non-null   float64       \n",
      " 6   age             3214 non-null   int64         \n",
      " 7   churn_date      187 non-null    datetime64[ns]\n",
      " 8   city            3214 non-null   object        \n",
      " 9   first_name      3214 non-null   object        \n",
      " 10  last_name       3214 non-null   object        \n",
      " 11  reg_date        3214 non-null   datetime64[ns]\n",
      " 12  tariff          3214 non-null   object        \n",
      "dtypes: datetime64[ns](2), float64(5), int64(2), object(4)\n",
      "memory usage: 351.5+ KB\n"
     ]
    }
   ],
   "source": [
    "all_monthly_services_values.drop(labels=[3214, 3215], axis=0, inplace=True)\n",
    "all_monthly_services_values.info()"
   ]
  },
  {
   "cell_type": "code",
   "execution_count": 43,
   "metadata": {
    "scrolled": true
   },
   "outputs": [],
   "source": [
    "empty_columns = ['month', 'calls_count', 'calls_sum', 'messages_count', 'internet_sum']\n",
    "\n",
    "for column in empty_columns:\n",
    "    all_monthly_services_values[column] = all_monthly_services_values[column].fillna(0).astype('int')"
   ]
  },
  {
   "cell_type": "code",
   "execution_count": 44,
   "metadata": {
    "scrolled": true
   },
   "outputs": [
    {
     "name": "stdout",
     "output_type": "stream",
     "text": [
      "<class 'pandas.core.frame.DataFrame'>\n",
      "Int64Index: 3214 entries, 0 to 3213\n",
      "Data columns (total 13 columns):\n",
      " #   Column          Non-Null Count  Dtype         \n",
      "---  ------          --------------  -----         \n",
      " 0   user_id         3214 non-null   int64         \n",
      " 1   month           3214 non-null   int32         \n",
      " 2   calls_count     3214 non-null   int32         \n",
      " 3   calls_sum       3214 non-null   int32         \n",
      " 4   messages_count  3214 non-null   int32         \n",
      " 5   internet_sum    3214 non-null   int32         \n",
      " 6   age             3214 non-null   int64         \n",
      " 7   churn_date      187 non-null    datetime64[ns]\n",
      " 8   city            3214 non-null   object        \n",
      " 9   first_name      3214 non-null   object        \n",
      " 10  last_name       3214 non-null   object        \n",
      " 11  reg_date        3214 non-null   datetime64[ns]\n",
      " 12  tariff          3214 non-null   object        \n",
      "dtypes: datetime64[ns](2), int32(5), int64(2), object(4)\n",
      "memory usage: 288.8+ KB\n"
     ]
    }
   ],
   "source": [
    "all_monthly_services_values.info()"
   ]
  },
  {
   "cell_type": "markdown",
   "metadata": {},
   "source": [
    "**Вывод:**\n",
    "\n",
    "Всего в общей таблице по объемам пользования услугами, сгруппированной по пользователям и месяцам, получилось 3214 строк. При этом выяснилось, что информация содержится по 498 пользователям, а не по 500, т.к. 2 пользователя отказались от услуг в месяц подключения."
   ]
  },
  {
   "cell_type": "markdown",
   "metadata": {},
   "source": [
    "#### 2.2.5 Посчитаем помесячную выручку с каждого пользователя (вычесть бесплатный лимит из суммарного количества звонков, сообщений и интернет-трафика; остаток умножить на значение из тарифного плана; прибавить абонентскую плату, соответствующую тарифному плану)."
   ]
  },
  {
   "cell_type": "code",
   "execution_count": 45,
   "metadata": {
    "scrolled": true
   },
   "outputs": [
    {
     "data": {
      "text/html": [
       "<div>\n",
       "<style scoped>\n",
       "    .dataframe tbody tr th:only-of-type {\n",
       "        vertical-align: middle;\n",
       "    }\n",
       "\n",
       "    .dataframe tbody tr th {\n",
       "        vertical-align: top;\n",
       "    }\n",
       "\n",
       "    .dataframe thead th {\n",
       "        text-align: right;\n",
       "    }\n",
       "</style>\n",
       "<table border=\"1\" class=\"dataframe\">\n",
       "  <thead>\n",
       "    <tr style=\"text-align: right;\">\n",
       "      <th></th>\n",
       "      <th>user_id</th>\n",
       "      <th>month</th>\n",
       "      <th>calls_count</th>\n",
       "      <th>calls_sum</th>\n",
       "      <th>messages_count</th>\n",
       "      <th>internet_sum</th>\n",
       "      <th>age</th>\n",
       "      <th>churn_date</th>\n",
       "      <th>city</th>\n",
       "      <th>first_name</th>\n",
       "      <th>last_name</th>\n",
       "      <th>reg_date</th>\n",
       "      <th>tariff</th>\n",
       "    </tr>\n",
       "  </thead>\n",
       "  <tbody>\n",
       "    <tr>\n",
       "      <th>0</th>\n",
       "      <td>1000</td>\n",
       "      <td>5</td>\n",
       "      <td>22</td>\n",
       "      <td>159</td>\n",
       "      <td>22</td>\n",
       "      <td>3</td>\n",
       "      <td>52</td>\n",
       "      <td>NaT</td>\n",
       "      <td>Краснодар</td>\n",
       "      <td>Рафаил</td>\n",
       "      <td>Верещагин</td>\n",
       "      <td>2018-05-25</td>\n",
       "      <td>ultra</td>\n",
       "    </tr>\n",
       "    <tr>\n",
       "      <th>1</th>\n",
       "      <td>1000</td>\n",
       "      <td>6</td>\n",
       "      <td>43</td>\n",
       "      <td>172</td>\n",
       "      <td>60</td>\n",
       "      <td>23</td>\n",
       "      <td>52</td>\n",
       "      <td>NaT</td>\n",
       "      <td>Краснодар</td>\n",
       "      <td>Рафаил</td>\n",
       "      <td>Верещагин</td>\n",
       "      <td>2018-05-25</td>\n",
       "      <td>ultra</td>\n",
       "    </tr>\n",
       "    <tr>\n",
       "      <th>2</th>\n",
       "      <td>1000</td>\n",
       "      <td>7</td>\n",
       "      <td>47</td>\n",
       "      <td>340</td>\n",
       "      <td>75</td>\n",
       "      <td>14</td>\n",
       "      <td>52</td>\n",
       "      <td>NaT</td>\n",
       "      <td>Краснодар</td>\n",
       "      <td>Рафаил</td>\n",
       "      <td>Верещагин</td>\n",
       "      <td>2018-05-25</td>\n",
       "      <td>ultra</td>\n",
       "    </tr>\n",
       "    <tr>\n",
       "      <th>3</th>\n",
       "      <td>1000</td>\n",
       "      <td>8</td>\n",
       "      <td>52</td>\n",
       "      <td>408</td>\n",
       "      <td>81</td>\n",
       "      <td>14</td>\n",
       "      <td>52</td>\n",
       "      <td>NaT</td>\n",
       "      <td>Краснодар</td>\n",
       "      <td>Рафаил</td>\n",
       "      <td>Верещагин</td>\n",
       "      <td>2018-05-25</td>\n",
       "      <td>ultra</td>\n",
       "    </tr>\n",
       "    <tr>\n",
       "      <th>4</th>\n",
       "      <td>1000</td>\n",
       "      <td>9</td>\n",
       "      <td>58</td>\n",
       "      <td>466</td>\n",
       "      <td>57</td>\n",
       "      <td>15</td>\n",
       "      <td>52</td>\n",
       "      <td>NaT</td>\n",
       "      <td>Краснодар</td>\n",
       "      <td>Рафаил</td>\n",
       "      <td>Верещагин</td>\n",
       "      <td>2018-05-25</td>\n",
       "      <td>ultra</td>\n",
       "    </tr>\n",
       "  </tbody>\n",
       "</table>\n",
       "</div>"
      ],
      "text/plain": [
       "   user_id  month  calls_count  calls_sum  messages_count  internet_sum  age  \\\n",
       "0     1000      5           22        159              22             3   52   \n",
       "1     1000      6           43        172              60            23   52   \n",
       "2     1000      7           47        340              75            14   52   \n",
       "3     1000      8           52        408              81            14   52   \n",
       "4     1000      9           58        466              57            15   52   \n",
       "\n",
       "  churn_date       city first_name  last_name   reg_date tariff  \n",
       "0        NaT  Краснодар     Рафаил  Верещагин 2018-05-25  ultra  \n",
       "1        NaT  Краснодар     Рафаил  Верещагин 2018-05-25  ultra  \n",
       "2        NaT  Краснодар     Рафаил  Верещагин 2018-05-25  ultra  \n",
       "3        NaT  Краснодар     Рафаил  Верещагин 2018-05-25  ultra  \n",
       "4        NaT  Краснодар     Рафаил  Верещагин 2018-05-25  ultra  "
      ]
     },
     "execution_count": 45,
     "metadata": {},
     "output_type": "execute_result"
    }
   ],
   "source": [
    "all_monthly_services_values.head()"
   ]
  },
  {
   "cell_type": "markdown",
   "metadata": {},
   "source": [
    "Напишем функцию для строки и добавим столбец с дополнительными платежами за звонки по результатам месяца:"
   ]
  },
  {
   "cell_type": "code",
   "execution_count": 46,
   "metadata": {
    "scrolled": true
   },
   "outputs": [],
   "source": [
    "def calls_extra_monthly_payments(row):\n",
    "    calls_sum = row['calls_sum']\n",
    "    tariff = row['tariff']\n",
    "    \n",
    "    if tariff == 'smart':\n",
    "        if calls_sum <= 500:\n",
    "            return 0\n",
    "        else:\n",
    "            return (calls_sum - 500) * 3\n",
    "        \n",
    "    if tariff == 'ultra':\n",
    "        if calls_sum <= 3000:\n",
    "            return 0\n",
    "        else:\n",
    "            return (calls_sum - 3000)"
   ]
  },
  {
   "cell_type": "code",
   "execution_count": 47,
   "metadata": {
    "scrolled": true
   },
   "outputs": [
    {
     "data": {
      "text/html": [
       "<div>\n",
       "<style scoped>\n",
       "    .dataframe tbody tr th:only-of-type {\n",
       "        vertical-align: middle;\n",
       "    }\n",
       "\n",
       "    .dataframe tbody tr th {\n",
       "        vertical-align: top;\n",
       "    }\n",
       "\n",
       "    .dataframe thead th {\n",
       "        text-align: right;\n",
       "    }\n",
       "</style>\n",
       "<table border=\"1\" class=\"dataframe\">\n",
       "  <thead>\n",
       "    <tr style=\"text-align: right;\">\n",
       "      <th></th>\n",
       "      <th>user_id</th>\n",
       "      <th>month</th>\n",
       "      <th>calls_count</th>\n",
       "      <th>calls_sum</th>\n",
       "      <th>messages_count</th>\n",
       "      <th>internet_sum</th>\n",
       "      <th>age</th>\n",
       "      <th>churn_date</th>\n",
       "      <th>city</th>\n",
       "      <th>first_name</th>\n",
       "      <th>last_name</th>\n",
       "      <th>reg_date</th>\n",
       "      <th>tariff</th>\n",
       "      <th>calls_extra_payments</th>\n",
       "    </tr>\n",
       "  </thead>\n",
       "  <tbody>\n",
       "    <tr>\n",
       "      <th>0</th>\n",
       "      <td>1000</td>\n",
       "      <td>5</td>\n",
       "      <td>22</td>\n",
       "      <td>159</td>\n",
       "      <td>22</td>\n",
       "      <td>3</td>\n",
       "      <td>52</td>\n",
       "      <td>NaT</td>\n",
       "      <td>Краснодар</td>\n",
       "      <td>Рафаил</td>\n",
       "      <td>Верещагин</td>\n",
       "      <td>2018-05-25</td>\n",
       "      <td>ultra</td>\n",
       "      <td>0</td>\n",
       "    </tr>\n",
       "    <tr>\n",
       "      <th>1</th>\n",
       "      <td>1000</td>\n",
       "      <td>6</td>\n",
       "      <td>43</td>\n",
       "      <td>172</td>\n",
       "      <td>60</td>\n",
       "      <td>23</td>\n",
       "      <td>52</td>\n",
       "      <td>NaT</td>\n",
       "      <td>Краснодар</td>\n",
       "      <td>Рафаил</td>\n",
       "      <td>Верещагин</td>\n",
       "      <td>2018-05-25</td>\n",
       "      <td>ultra</td>\n",
       "      <td>0</td>\n",
       "    </tr>\n",
       "    <tr>\n",
       "      <th>2</th>\n",
       "      <td>1000</td>\n",
       "      <td>7</td>\n",
       "      <td>47</td>\n",
       "      <td>340</td>\n",
       "      <td>75</td>\n",
       "      <td>14</td>\n",
       "      <td>52</td>\n",
       "      <td>NaT</td>\n",
       "      <td>Краснодар</td>\n",
       "      <td>Рафаил</td>\n",
       "      <td>Верещагин</td>\n",
       "      <td>2018-05-25</td>\n",
       "      <td>ultra</td>\n",
       "      <td>0</td>\n",
       "    </tr>\n",
       "    <tr>\n",
       "      <th>3</th>\n",
       "      <td>1000</td>\n",
       "      <td>8</td>\n",
       "      <td>52</td>\n",
       "      <td>408</td>\n",
       "      <td>81</td>\n",
       "      <td>14</td>\n",
       "      <td>52</td>\n",
       "      <td>NaT</td>\n",
       "      <td>Краснодар</td>\n",
       "      <td>Рафаил</td>\n",
       "      <td>Верещагин</td>\n",
       "      <td>2018-05-25</td>\n",
       "      <td>ultra</td>\n",
       "      <td>0</td>\n",
       "    </tr>\n",
       "    <tr>\n",
       "      <th>4</th>\n",
       "      <td>1000</td>\n",
       "      <td>9</td>\n",
       "      <td>58</td>\n",
       "      <td>466</td>\n",
       "      <td>57</td>\n",
       "      <td>15</td>\n",
       "      <td>52</td>\n",
       "      <td>NaT</td>\n",
       "      <td>Краснодар</td>\n",
       "      <td>Рафаил</td>\n",
       "      <td>Верещагин</td>\n",
       "      <td>2018-05-25</td>\n",
       "      <td>ultra</td>\n",
       "      <td>0</td>\n",
       "    </tr>\n",
       "  </tbody>\n",
       "</table>\n",
       "</div>"
      ],
      "text/plain": [
       "   user_id  month  calls_count  calls_sum  messages_count  internet_sum  age  \\\n",
       "0     1000      5           22        159              22             3   52   \n",
       "1     1000      6           43        172              60            23   52   \n",
       "2     1000      7           47        340              75            14   52   \n",
       "3     1000      8           52        408              81            14   52   \n",
       "4     1000      9           58        466              57            15   52   \n",
       "\n",
       "  churn_date       city first_name  last_name   reg_date tariff  \\\n",
       "0        NaT  Краснодар     Рафаил  Верещагин 2018-05-25  ultra   \n",
       "1        NaT  Краснодар     Рафаил  Верещагин 2018-05-25  ultra   \n",
       "2        NaT  Краснодар     Рафаил  Верещагин 2018-05-25  ultra   \n",
       "3        NaT  Краснодар     Рафаил  Верещагин 2018-05-25  ultra   \n",
       "4        NaT  Краснодар     Рафаил  Верещагин 2018-05-25  ultra   \n",
       "\n",
       "   calls_extra_payments  \n",
       "0                     0  \n",
       "1                     0  \n",
       "2                     0  \n",
       "3                     0  \n",
       "4                     0  "
      ]
     },
     "execution_count": 47,
     "metadata": {},
     "output_type": "execute_result"
    }
   ],
   "source": [
    "all_monthly_services_values['calls_extra_payments'] = all_monthly_services_values.apply(calls_extra_monthly_payments, axis=1)\n",
    "all_monthly_services_values.head()"
   ]
  },
  {
   "cell_type": "markdown",
   "metadata": {},
   "source": [
    "Напишем функцию для строки и добавим столбец с дополнительными платежами за сообщения по результатам месяца:"
   ]
  },
  {
   "cell_type": "code",
   "execution_count": 48,
   "metadata": {
    "scrolled": true
   },
   "outputs": [],
   "source": [
    "def messages_extra_monthly_payments(row):\n",
    "    messages_count = row['messages_count']\n",
    "    tariff = row['tariff']\n",
    "    \n",
    "    if tariff == 'smart':\n",
    "        if messages_count <= 50:\n",
    "            return 0\n",
    "        else:\n",
    "            return (messages_count - 50) * 3\n",
    "        \n",
    "    if tariff == 'ultra':\n",
    "        if messages_count <= 1000:\n",
    "            return 0\n",
    "        else:\n",
    "            return (messages_count - 1000)"
   ]
  },
  {
   "cell_type": "code",
   "execution_count": 49,
   "metadata": {
    "scrolled": true
   },
   "outputs": [
    {
     "data": {
      "text/html": [
       "<div>\n",
       "<style scoped>\n",
       "    .dataframe tbody tr th:only-of-type {\n",
       "        vertical-align: middle;\n",
       "    }\n",
       "\n",
       "    .dataframe tbody tr th {\n",
       "        vertical-align: top;\n",
       "    }\n",
       "\n",
       "    .dataframe thead th {\n",
       "        text-align: right;\n",
       "    }\n",
       "</style>\n",
       "<table border=\"1\" class=\"dataframe\">\n",
       "  <thead>\n",
       "    <tr style=\"text-align: right;\">\n",
       "      <th></th>\n",
       "      <th>user_id</th>\n",
       "      <th>month</th>\n",
       "      <th>calls_count</th>\n",
       "      <th>calls_sum</th>\n",
       "      <th>messages_count</th>\n",
       "      <th>internet_sum</th>\n",
       "      <th>age</th>\n",
       "      <th>churn_date</th>\n",
       "      <th>city</th>\n",
       "      <th>first_name</th>\n",
       "      <th>last_name</th>\n",
       "      <th>reg_date</th>\n",
       "      <th>tariff</th>\n",
       "      <th>calls_extra_payments</th>\n",
       "      <th>messages_extra_payments</th>\n",
       "    </tr>\n",
       "  </thead>\n",
       "  <tbody>\n",
       "    <tr>\n",
       "      <th>0</th>\n",
       "      <td>1000</td>\n",
       "      <td>5</td>\n",
       "      <td>22</td>\n",
       "      <td>159</td>\n",
       "      <td>22</td>\n",
       "      <td>3</td>\n",
       "      <td>52</td>\n",
       "      <td>NaT</td>\n",
       "      <td>Краснодар</td>\n",
       "      <td>Рафаил</td>\n",
       "      <td>Верещагин</td>\n",
       "      <td>2018-05-25</td>\n",
       "      <td>ultra</td>\n",
       "      <td>0</td>\n",
       "      <td>0</td>\n",
       "    </tr>\n",
       "    <tr>\n",
       "      <th>1</th>\n",
       "      <td>1000</td>\n",
       "      <td>6</td>\n",
       "      <td>43</td>\n",
       "      <td>172</td>\n",
       "      <td>60</td>\n",
       "      <td>23</td>\n",
       "      <td>52</td>\n",
       "      <td>NaT</td>\n",
       "      <td>Краснодар</td>\n",
       "      <td>Рафаил</td>\n",
       "      <td>Верещагин</td>\n",
       "      <td>2018-05-25</td>\n",
       "      <td>ultra</td>\n",
       "      <td>0</td>\n",
       "      <td>0</td>\n",
       "    </tr>\n",
       "    <tr>\n",
       "      <th>2</th>\n",
       "      <td>1000</td>\n",
       "      <td>7</td>\n",
       "      <td>47</td>\n",
       "      <td>340</td>\n",
       "      <td>75</td>\n",
       "      <td>14</td>\n",
       "      <td>52</td>\n",
       "      <td>NaT</td>\n",
       "      <td>Краснодар</td>\n",
       "      <td>Рафаил</td>\n",
       "      <td>Верещагин</td>\n",
       "      <td>2018-05-25</td>\n",
       "      <td>ultra</td>\n",
       "      <td>0</td>\n",
       "      <td>0</td>\n",
       "    </tr>\n",
       "    <tr>\n",
       "      <th>3</th>\n",
       "      <td>1000</td>\n",
       "      <td>8</td>\n",
       "      <td>52</td>\n",
       "      <td>408</td>\n",
       "      <td>81</td>\n",
       "      <td>14</td>\n",
       "      <td>52</td>\n",
       "      <td>NaT</td>\n",
       "      <td>Краснодар</td>\n",
       "      <td>Рафаил</td>\n",
       "      <td>Верещагин</td>\n",
       "      <td>2018-05-25</td>\n",
       "      <td>ultra</td>\n",
       "      <td>0</td>\n",
       "      <td>0</td>\n",
       "    </tr>\n",
       "    <tr>\n",
       "      <th>4</th>\n",
       "      <td>1000</td>\n",
       "      <td>9</td>\n",
       "      <td>58</td>\n",
       "      <td>466</td>\n",
       "      <td>57</td>\n",
       "      <td>15</td>\n",
       "      <td>52</td>\n",
       "      <td>NaT</td>\n",
       "      <td>Краснодар</td>\n",
       "      <td>Рафаил</td>\n",
       "      <td>Верещагин</td>\n",
       "      <td>2018-05-25</td>\n",
       "      <td>ultra</td>\n",
       "      <td>0</td>\n",
       "      <td>0</td>\n",
       "    </tr>\n",
       "  </tbody>\n",
       "</table>\n",
       "</div>"
      ],
      "text/plain": [
       "   user_id  month  calls_count  calls_sum  messages_count  internet_sum  age  \\\n",
       "0     1000      5           22        159              22             3   52   \n",
       "1     1000      6           43        172              60            23   52   \n",
       "2     1000      7           47        340              75            14   52   \n",
       "3     1000      8           52        408              81            14   52   \n",
       "4     1000      9           58        466              57            15   52   \n",
       "\n",
       "  churn_date       city first_name  last_name   reg_date tariff  \\\n",
       "0        NaT  Краснодар     Рафаил  Верещагин 2018-05-25  ultra   \n",
       "1        NaT  Краснодар     Рафаил  Верещагин 2018-05-25  ultra   \n",
       "2        NaT  Краснодар     Рафаил  Верещагин 2018-05-25  ultra   \n",
       "3        NaT  Краснодар     Рафаил  Верещагин 2018-05-25  ultra   \n",
       "4        NaT  Краснодар     Рафаил  Верещагин 2018-05-25  ultra   \n",
       "\n",
       "   calls_extra_payments  messages_extra_payments  \n",
       "0                     0                        0  \n",
       "1                     0                        0  \n",
       "2                     0                        0  \n",
       "3                     0                        0  \n",
       "4                     0                        0  "
      ]
     },
     "execution_count": 49,
     "metadata": {},
     "output_type": "execute_result"
    }
   ],
   "source": [
    "all_monthly_services_values['messages_extra_payments'] = all_monthly_services_values.apply(messages_extra_monthly_payments, axis=1)\n",
    "all_monthly_services_values.head()"
   ]
  },
  {
   "cell_type": "markdown",
   "metadata": {},
   "source": [
    "Напишем функцию для строки и добавим столбец с дополнительными платежами за интернет по результатам месяца:"
   ]
  },
  {
   "cell_type": "code",
   "execution_count": 50,
   "metadata": {
    "scrolled": true
   },
   "outputs": [],
   "source": [
    "def internet_extra_monthly_payments(row):\n",
    "    internet_sum = row['internet_sum']\n",
    "    tariff = row['tariff']\n",
    "    \n",
    "    if tariff == 'smart':\n",
    "        if internet_sum <= 15:\n",
    "            return 0\n",
    "        else:\n",
    "            return (internet_sum - 15) * 200\n",
    "        \n",
    "    if tariff == 'ultra':\n",
    "        if internet_sum <= 30:\n",
    "            return 0\n",
    "        else:\n",
    "            return (internet_sum - 30) * 150"
   ]
  },
  {
   "cell_type": "code",
   "execution_count": 51,
   "metadata": {
    "scrolled": true
   },
   "outputs": [
    {
     "data": {
      "text/html": [
       "<div>\n",
       "<style scoped>\n",
       "    .dataframe tbody tr th:only-of-type {\n",
       "        vertical-align: middle;\n",
       "    }\n",
       "\n",
       "    .dataframe tbody tr th {\n",
       "        vertical-align: top;\n",
       "    }\n",
       "\n",
       "    .dataframe thead th {\n",
       "        text-align: right;\n",
       "    }\n",
       "</style>\n",
       "<table border=\"1\" class=\"dataframe\">\n",
       "  <thead>\n",
       "    <tr style=\"text-align: right;\">\n",
       "      <th></th>\n",
       "      <th>user_id</th>\n",
       "      <th>month</th>\n",
       "      <th>calls_count</th>\n",
       "      <th>calls_sum</th>\n",
       "      <th>messages_count</th>\n",
       "      <th>internet_sum</th>\n",
       "      <th>age</th>\n",
       "      <th>churn_date</th>\n",
       "      <th>city</th>\n",
       "      <th>first_name</th>\n",
       "      <th>last_name</th>\n",
       "      <th>reg_date</th>\n",
       "      <th>tariff</th>\n",
       "      <th>calls_extra_payments</th>\n",
       "      <th>messages_extra_payments</th>\n",
       "      <th>internet_extra_payments</th>\n",
       "    </tr>\n",
       "  </thead>\n",
       "  <tbody>\n",
       "    <tr>\n",
       "      <th>0</th>\n",
       "      <td>1000</td>\n",
       "      <td>5</td>\n",
       "      <td>22</td>\n",
       "      <td>159</td>\n",
       "      <td>22</td>\n",
       "      <td>3</td>\n",
       "      <td>52</td>\n",
       "      <td>NaT</td>\n",
       "      <td>Краснодар</td>\n",
       "      <td>Рафаил</td>\n",
       "      <td>Верещагин</td>\n",
       "      <td>2018-05-25</td>\n",
       "      <td>ultra</td>\n",
       "      <td>0</td>\n",
       "      <td>0</td>\n",
       "      <td>0</td>\n",
       "    </tr>\n",
       "    <tr>\n",
       "      <th>1</th>\n",
       "      <td>1000</td>\n",
       "      <td>6</td>\n",
       "      <td>43</td>\n",
       "      <td>172</td>\n",
       "      <td>60</td>\n",
       "      <td>23</td>\n",
       "      <td>52</td>\n",
       "      <td>NaT</td>\n",
       "      <td>Краснодар</td>\n",
       "      <td>Рафаил</td>\n",
       "      <td>Верещагин</td>\n",
       "      <td>2018-05-25</td>\n",
       "      <td>ultra</td>\n",
       "      <td>0</td>\n",
       "      <td>0</td>\n",
       "      <td>0</td>\n",
       "    </tr>\n",
       "    <tr>\n",
       "      <th>2</th>\n",
       "      <td>1000</td>\n",
       "      <td>7</td>\n",
       "      <td>47</td>\n",
       "      <td>340</td>\n",
       "      <td>75</td>\n",
       "      <td>14</td>\n",
       "      <td>52</td>\n",
       "      <td>NaT</td>\n",
       "      <td>Краснодар</td>\n",
       "      <td>Рафаил</td>\n",
       "      <td>Верещагин</td>\n",
       "      <td>2018-05-25</td>\n",
       "      <td>ultra</td>\n",
       "      <td>0</td>\n",
       "      <td>0</td>\n",
       "      <td>0</td>\n",
       "    </tr>\n",
       "    <tr>\n",
       "      <th>3</th>\n",
       "      <td>1000</td>\n",
       "      <td>8</td>\n",
       "      <td>52</td>\n",
       "      <td>408</td>\n",
       "      <td>81</td>\n",
       "      <td>14</td>\n",
       "      <td>52</td>\n",
       "      <td>NaT</td>\n",
       "      <td>Краснодар</td>\n",
       "      <td>Рафаил</td>\n",
       "      <td>Верещагин</td>\n",
       "      <td>2018-05-25</td>\n",
       "      <td>ultra</td>\n",
       "      <td>0</td>\n",
       "      <td>0</td>\n",
       "      <td>0</td>\n",
       "    </tr>\n",
       "    <tr>\n",
       "      <th>4</th>\n",
       "      <td>1000</td>\n",
       "      <td>9</td>\n",
       "      <td>58</td>\n",
       "      <td>466</td>\n",
       "      <td>57</td>\n",
       "      <td>15</td>\n",
       "      <td>52</td>\n",
       "      <td>NaT</td>\n",
       "      <td>Краснодар</td>\n",
       "      <td>Рафаил</td>\n",
       "      <td>Верещагин</td>\n",
       "      <td>2018-05-25</td>\n",
       "      <td>ultra</td>\n",
       "      <td>0</td>\n",
       "      <td>0</td>\n",
       "      <td>0</td>\n",
       "    </tr>\n",
       "  </tbody>\n",
       "</table>\n",
       "</div>"
      ],
      "text/plain": [
       "   user_id  month  calls_count  calls_sum  messages_count  internet_sum  age  \\\n",
       "0     1000      5           22        159              22             3   52   \n",
       "1     1000      6           43        172              60            23   52   \n",
       "2     1000      7           47        340              75            14   52   \n",
       "3     1000      8           52        408              81            14   52   \n",
       "4     1000      9           58        466              57            15   52   \n",
       "\n",
       "  churn_date       city first_name  last_name   reg_date tariff  \\\n",
       "0        NaT  Краснодар     Рафаил  Верещагин 2018-05-25  ultra   \n",
       "1        NaT  Краснодар     Рафаил  Верещагин 2018-05-25  ultra   \n",
       "2        NaT  Краснодар     Рафаил  Верещагин 2018-05-25  ultra   \n",
       "3        NaT  Краснодар     Рафаил  Верещагин 2018-05-25  ultra   \n",
       "4        NaT  Краснодар     Рафаил  Верещагин 2018-05-25  ultra   \n",
       "\n",
       "   calls_extra_payments  messages_extra_payments  internet_extra_payments  \n",
       "0                     0                        0                        0  \n",
       "1                     0                        0                        0  \n",
       "2                     0                        0                        0  \n",
       "3                     0                        0                        0  \n",
       "4                     0                        0                        0  "
      ]
     },
     "execution_count": 51,
     "metadata": {},
     "output_type": "execute_result"
    }
   ],
   "source": [
    "all_monthly_services_values['internet_extra_payments'] = all_monthly_services_values.apply(internet_extra_monthly_payments, axis=1)\n",
    "all_monthly_services_values.head()"
   ]
  },
  {
   "cell_type": "markdown",
   "metadata": {},
   "source": [
    "Напишем функцию для строки и добавим столбец с общей суммой платежа за все услуги и абонентской платы по результатам месяца:"
   ]
  },
  {
   "cell_type": "code",
   "execution_count": 52,
   "metadata": {},
   "outputs": [
    {
     "data": {
      "text/html": [
       "<div>\n",
       "<style scoped>\n",
       "    .dataframe tbody tr th:only-of-type {\n",
       "        vertical-align: middle;\n",
       "    }\n",
       "\n",
       "    .dataframe tbody tr th {\n",
       "        vertical-align: top;\n",
       "    }\n",
       "\n",
       "    .dataframe thead th {\n",
       "        text-align: right;\n",
       "    }\n",
       "</style>\n",
       "<table border=\"1\" class=\"dataframe\">\n",
       "  <thead>\n",
       "    <tr style=\"text-align: right;\">\n",
       "      <th></th>\n",
       "      <th>user_id</th>\n",
       "      <th>month</th>\n",
       "      <th>calls_count</th>\n",
       "      <th>calls_sum</th>\n",
       "      <th>messages_count</th>\n",
       "      <th>internet_sum</th>\n",
       "      <th>age</th>\n",
       "      <th>churn_date</th>\n",
       "      <th>city</th>\n",
       "      <th>first_name</th>\n",
       "      <th>last_name</th>\n",
       "      <th>reg_date</th>\n",
       "      <th>tariff</th>\n",
       "      <th>calls_extra_payments</th>\n",
       "      <th>messages_extra_payments</th>\n",
       "      <th>internet_extra_payments</th>\n",
       "      <th>all_payments</th>\n",
       "    </tr>\n",
       "  </thead>\n",
       "  <tbody>\n",
       "    <tr>\n",
       "      <th>0</th>\n",
       "      <td>1000</td>\n",
       "      <td>5</td>\n",
       "      <td>22</td>\n",
       "      <td>159</td>\n",
       "      <td>22</td>\n",
       "      <td>3</td>\n",
       "      <td>52</td>\n",
       "      <td>NaT</td>\n",
       "      <td>Краснодар</td>\n",
       "      <td>Рафаил</td>\n",
       "      <td>Верещагин</td>\n",
       "      <td>2018-05-25</td>\n",
       "      <td>ultra</td>\n",
       "      <td>0</td>\n",
       "      <td>0</td>\n",
       "      <td>0</td>\n",
       "      <td>1950</td>\n",
       "    </tr>\n",
       "    <tr>\n",
       "      <th>1</th>\n",
       "      <td>1000</td>\n",
       "      <td>6</td>\n",
       "      <td>43</td>\n",
       "      <td>172</td>\n",
       "      <td>60</td>\n",
       "      <td>23</td>\n",
       "      <td>52</td>\n",
       "      <td>NaT</td>\n",
       "      <td>Краснодар</td>\n",
       "      <td>Рафаил</td>\n",
       "      <td>Верещагин</td>\n",
       "      <td>2018-05-25</td>\n",
       "      <td>ultra</td>\n",
       "      <td>0</td>\n",
       "      <td>0</td>\n",
       "      <td>0</td>\n",
       "      <td>1950</td>\n",
       "    </tr>\n",
       "    <tr>\n",
       "      <th>2</th>\n",
       "      <td>1000</td>\n",
       "      <td>7</td>\n",
       "      <td>47</td>\n",
       "      <td>340</td>\n",
       "      <td>75</td>\n",
       "      <td>14</td>\n",
       "      <td>52</td>\n",
       "      <td>NaT</td>\n",
       "      <td>Краснодар</td>\n",
       "      <td>Рафаил</td>\n",
       "      <td>Верещагин</td>\n",
       "      <td>2018-05-25</td>\n",
       "      <td>ultra</td>\n",
       "      <td>0</td>\n",
       "      <td>0</td>\n",
       "      <td>0</td>\n",
       "      <td>1950</td>\n",
       "    </tr>\n",
       "    <tr>\n",
       "      <th>3</th>\n",
       "      <td>1000</td>\n",
       "      <td>8</td>\n",
       "      <td>52</td>\n",
       "      <td>408</td>\n",
       "      <td>81</td>\n",
       "      <td>14</td>\n",
       "      <td>52</td>\n",
       "      <td>NaT</td>\n",
       "      <td>Краснодар</td>\n",
       "      <td>Рафаил</td>\n",
       "      <td>Верещагин</td>\n",
       "      <td>2018-05-25</td>\n",
       "      <td>ultra</td>\n",
       "      <td>0</td>\n",
       "      <td>0</td>\n",
       "      <td>0</td>\n",
       "      <td>1950</td>\n",
       "    </tr>\n",
       "    <tr>\n",
       "      <th>4</th>\n",
       "      <td>1000</td>\n",
       "      <td>9</td>\n",
       "      <td>58</td>\n",
       "      <td>466</td>\n",
       "      <td>57</td>\n",
       "      <td>15</td>\n",
       "      <td>52</td>\n",
       "      <td>NaT</td>\n",
       "      <td>Краснодар</td>\n",
       "      <td>Рафаил</td>\n",
       "      <td>Верещагин</td>\n",
       "      <td>2018-05-25</td>\n",
       "      <td>ultra</td>\n",
       "      <td>0</td>\n",
       "      <td>0</td>\n",
       "      <td>0</td>\n",
       "      <td>1950</td>\n",
       "    </tr>\n",
       "  </tbody>\n",
       "</table>\n",
       "</div>"
      ],
      "text/plain": [
       "   user_id  month  calls_count  calls_sum  messages_count  internet_sum  age  \\\n",
       "0     1000      5           22        159              22             3   52   \n",
       "1     1000      6           43        172              60            23   52   \n",
       "2     1000      7           47        340              75            14   52   \n",
       "3     1000      8           52        408              81            14   52   \n",
       "4     1000      9           58        466              57            15   52   \n",
       "\n",
       "  churn_date       city first_name  last_name   reg_date tariff  \\\n",
       "0        NaT  Краснодар     Рафаил  Верещагин 2018-05-25  ultra   \n",
       "1        NaT  Краснодар     Рафаил  Верещагин 2018-05-25  ultra   \n",
       "2        NaT  Краснодар     Рафаил  Верещагин 2018-05-25  ultra   \n",
       "3        NaT  Краснодар     Рафаил  Верещагин 2018-05-25  ultra   \n",
       "4        NaT  Краснодар     Рафаил  Верещагин 2018-05-25  ultra   \n",
       "\n",
       "   calls_extra_payments  messages_extra_payments  internet_extra_payments  \\\n",
       "0                     0                        0                        0   \n",
       "1                     0                        0                        0   \n",
       "2                     0                        0                        0   \n",
       "3                     0                        0                        0   \n",
       "4                     0                        0                        0   \n",
       "\n",
       "   all_payments  \n",
       "0          1950  \n",
       "1          1950  \n",
       "2          1950  \n",
       "3          1950  \n",
       "4          1950  "
      ]
     },
     "execution_count": 52,
     "metadata": {},
     "output_type": "execute_result"
    }
   ],
   "source": [
    "all_monthly_services_values['all_payments'] = (\n",
    "    np.select(\n",
    "        condlist=[all_monthly_services_values['tariff'] == 'ultra', all_monthly_services_values['tariff'] == 'smart'],\n",
    "        \n",
    "        choicelist=[all_monthly_services_values['calls_extra_payments']+all_monthly_services_values['messages_extra_payments']+all_monthly_services_values['internet_extra_payments'] +1950,\n",
    "                    all_monthly_services_values['calls_extra_payments']+all_monthly_services_values['messages_extra_payments']+all_monthly_services_values['internet_extra_payments'] +550] \n",
    "        ))\n",
    "\n",
    "all_monthly_services_values.head()"
   ]
  },
  {
   "cell_type": "markdown",
   "metadata": {},
   "source": [
    "**Вывод:**\n",
    "\n",
    "Подготовка данных выполнена. Предварительно можно считать, что расчитанных данных достаточно для проведения анализа и проверки гипотез."
   ]
  },
  {
   "cell_type": "markdown",
   "metadata": {},
   "source": [
    "## 3. Проведение анализа данных (исследование):"
   ]
  },
  {
   "cell_type": "markdown",
   "metadata": {},
   "source": [
    "Предстоит проверить поведение клиентов оператора, исходя из выборки - определить сколько минут разговора, сколько сообщений и какой объём интернет-трафика требуется пользователям каждого тарифа в месяц, для этого необходимо:\n",
    "- посчитать среднее количество, дисперсию и стандартное отклонение;\n",
    "- построить гистограммы;\n",
    "- описать распределения."
   ]
  },
  {
   "cell_type": "markdown",
   "metadata": {},
   "source": [
    "### 3.1 Расчитаем среднее количество использованных услуг в месяц для пользователей каждого тарифа, а также средний ежемесячный платеж:"
   ]
  },
  {
   "cell_type": "code",
   "execution_count": 53,
   "metadata": {
    "scrolled": true
   },
   "outputs": [],
   "source": [
    "df_smart = all_monthly_services_values.query('tariff == \"smart\"')\n",
    "df_ultra = all_monthly_services_values.query('tariff == \"ultra\"')"
   ]
  },
  {
   "cell_type": "code",
   "execution_count": 54,
   "metadata": {
    "scrolled": true
   },
   "outputs": [
    {
     "name": "stdout",
     "output_type": "stream",
     "text": [
      "Cреднее количество используемых минут в месяц для пользователей тарифа Smart - 418\n",
      "\n",
      "Cреднее количество используемых сообщений в месяц для пользователей тарифа Smart - 33\n",
      "\n",
      "Cреднее количество используемых гигабайтов в месяц для пользователей тарифа Smart - 16\n",
      "\n",
      "Cредний ежемесячный платеж по тарифу Smart - 1290\n",
      "\n",
      "Cреднее количество используемых минут в месяц для пользователей тарифа Ultra - 527\n",
      "\n",
      "Cреднее количество используемых сообщений в месяц для пользователей тарифа Ultra - 49\n",
      "\n",
      "Cреднее количество используемых гигабайтов в месяц для пользователей тарифа Ultra - 19\n",
      "\n",
      "Cредний ежемесячный платеж по тарифу Ultra - 2070\n"
     ]
    }
   ],
   "source": [
    "smart_mean_calls = df_smart['calls_sum'].mean()\n",
    "smart_mean_messages = df_smart['messages_count'].mean()\n",
    "smart_mean_internet = df_smart['internet_sum'].mean()\n",
    "smart_mean_payments = df_smart['all_payments'].mean()\n",
    "\n",
    "ultra_mean_calls = df_ultra['calls_sum'].mean()\n",
    "ultra_mean_messages = df_ultra['messages_count'].mean()\n",
    "ultra_mean_internet = df_ultra['internet_sum'].mean()\n",
    "ultra_mean_payments = df_ultra['all_payments'].mean()\n",
    "\n",
    "print(f'Cреднее количество используемых минут в месяц для пользователей тарифа Smart - {smart_mean_calls:.0f}')\n",
    "print()\n",
    "print(f'Cреднее количество используемых сообщений в месяц для пользователей тарифа Smart - {smart_mean_messages:.0f}')\n",
    "print()\n",
    "print(f'Cреднее количество используемых гигабайтов в месяц для пользователей тарифа Smart - {smart_mean_internet:.0f}')\n",
    "print()\n",
    "print(f'Cредний ежемесячный платеж по тарифу Smart - {smart_mean_payments:.0f}')\n",
    "print()\n",
    "print(f'Cреднее количество используемых минут в месяц для пользователей тарифа Ultra - {ultra_mean_calls:.0f}')\n",
    "print()\n",
    "print(f'Cреднее количество используемых сообщений в месяц для пользователей тарифа Ultra - {ultra_mean_messages:.0f}')\n",
    "print()\n",
    "print(f'Cреднее количество используемых гигабайтов в месяц для пользователей тарифа Ultra - {ultra_mean_internet:.0f}')\n",
    "print()\n",
    "print(f'Cредний ежемесячный платеж по тарифу Ultra - {ultra_mean_payments:.0f}')"
   ]
  },
  {
   "cell_type": "markdown",
   "metadata": {},
   "source": [
    "**Примечание:** судя по полученным значениям, пользователи тарифа Smart в среднем платят в 2 раза больше абонентской платы. Пользователи тарифа Ultra в среднем платят немного больше абонентской платы."
   ]
  },
  {
   "cell_type": "code",
   "execution_count": 55,
   "metadata": {
    "scrolled": false
   },
   "outputs": [
    {
     "data": {
      "text/html": [
       "<div>\n",
       "<style scoped>\n",
       "    .dataframe tbody tr th:only-of-type {\n",
       "        vertical-align: middle;\n",
       "    }\n",
       "\n",
       "    .dataframe tbody tr th {\n",
       "        vertical-align: top;\n",
       "    }\n",
       "\n",
       "    .dataframe thead th {\n",
       "        text-align: right;\n",
       "    }\n",
       "</style>\n",
       "<table border=\"1\" class=\"dataframe\">\n",
       "  <thead>\n",
       "    <tr style=\"text-align: right;\">\n",
       "      <th></th>\n",
       "      <th>calls_sum</th>\n",
       "      <th>messages_count</th>\n",
       "      <th>internet_sum</th>\n",
       "      <th>all_payments</th>\n",
       "    </tr>\n",
       "  </thead>\n",
       "  <tbody>\n",
       "    <tr>\n",
       "      <th>count</th>\n",
       "      <td>985.000000</td>\n",
       "      <td>985.000000</td>\n",
       "      <td>985.000000</td>\n",
       "      <td>985.000000</td>\n",
       "    </tr>\n",
       "    <tr>\n",
       "      <th>mean</th>\n",
       "      <td>526.623350</td>\n",
       "      <td>49.363452</td>\n",
       "      <td>19.494416</td>\n",
       "      <td>2070.152284</td>\n",
       "    </tr>\n",
       "    <tr>\n",
       "      <th>std</th>\n",
       "      <td>317.606098</td>\n",
       "      <td>47.804457</td>\n",
       "      <td>9.853511</td>\n",
       "      <td>376.187114</td>\n",
       "    </tr>\n",
       "    <tr>\n",
       "      <th>min</th>\n",
       "      <td>0.000000</td>\n",
       "      <td>0.000000</td>\n",
       "      <td>0.000000</td>\n",
       "      <td>1950.000000</td>\n",
       "    </tr>\n",
       "    <tr>\n",
       "      <th>25%</th>\n",
       "      <td>284.000000</td>\n",
       "      <td>6.000000</td>\n",
       "      <td>12.000000</td>\n",
       "      <td>1950.000000</td>\n",
       "    </tr>\n",
       "    <tr>\n",
       "      <th>50%</th>\n",
       "      <td>518.000000</td>\n",
       "      <td>38.000000</td>\n",
       "      <td>19.000000</td>\n",
       "      <td>1950.000000</td>\n",
       "    </tr>\n",
       "    <tr>\n",
       "      <th>75%</th>\n",
       "      <td>752.000000</td>\n",
       "      <td>79.000000</td>\n",
       "      <td>27.000000</td>\n",
       "      <td>1950.000000</td>\n",
       "    </tr>\n",
       "    <tr>\n",
       "      <th>max</th>\n",
       "      <td>1673.000000</td>\n",
       "      <td>224.000000</td>\n",
       "      <td>49.000000</td>\n",
       "      <td>4800.000000</td>\n",
       "    </tr>\n",
       "  </tbody>\n",
       "</table>\n",
       "</div>"
      ],
      "text/plain": [
       "         calls_sum  messages_count  internet_sum  all_payments\n",
       "count   985.000000      985.000000    985.000000    985.000000\n",
       "mean    526.623350       49.363452     19.494416   2070.152284\n",
       "std     317.606098       47.804457      9.853511    376.187114\n",
       "min       0.000000        0.000000      0.000000   1950.000000\n",
       "25%     284.000000        6.000000     12.000000   1950.000000\n",
       "50%     518.000000       38.000000     19.000000   1950.000000\n",
       "75%     752.000000       79.000000     27.000000   1950.000000\n",
       "max    1673.000000      224.000000     49.000000   4800.000000"
      ]
     },
     "metadata": {},
     "output_type": "display_data"
    },
    {
     "data": {
      "text/html": [
       "<div>\n",
       "<style scoped>\n",
       "    .dataframe tbody tr th:only-of-type {\n",
       "        vertical-align: middle;\n",
       "    }\n",
       "\n",
       "    .dataframe tbody tr th {\n",
       "        vertical-align: top;\n",
       "    }\n",
       "\n",
       "    .dataframe thead th {\n",
       "        text-align: right;\n",
       "    }\n",
       "</style>\n",
       "<table border=\"1\" class=\"dataframe\">\n",
       "  <thead>\n",
       "    <tr style=\"text-align: right;\">\n",
       "      <th></th>\n",
       "      <th>calls_sum</th>\n",
       "      <th>messages_count</th>\n",
       "      <th>internet_sum</th>\n",
       "      <th>all_payments</th>\n",
       "    </tr>\n",
       "  </thead>\n",
       "  <tbody>\n",
       "    <tr>\n",
       "      <th>count</th>\n",
       "      <td>2229.000000</td>\n",
       "      <td>2229.000000</td>\n",
       "      <td>2229.000000</td>\n",
       "      <td>2229.000000</td>\n",
       "    </tr>\n",
       "    <tr>\n",
       "      <th>mean</th>\n",
       "      <td>417.934948</td>\n",
       "      <td>33.384029</td>\n",
       "      <td>16.328847</td>\n",
       "      <td>1289.973531</td>\n",
       "    </tr>\n",
       "    <tr>\n",
       "      <th>std</th>\n",
       "      <td>190.313730</td>\n",
       "      <td>28.227876</td>\n",
       "      <td>5.747061</td>\n",
       "      <td>818.404367</td>\n",
       "    </tr>\n",
       "    <tr>\n",
       "      <th>min</th>\n",
       "      <td>0.000000</td>\n",
       "      <td>0.000000</td>\n",
       "      <td>0.000000</td>\n",
       "      <td>550.000000</td>\n",
       "    </tr>\n",
       "    <tr>\n",
       "      <th>25%</th>\n",
       "      <td>282.000000</td>\n",
       "      <td>10.000000</td>\n",
       "      <td>13.000000</td>\n",
       "      <td>550.000000</td>\n",
       "    </tr>\n",
       "    <tr>\n",
       "      <th>50%</th>\n",
       "      <td>422.000000</td>\n",
       "      <td>28.000000</td>\n",
       "      <td>17.000000</td>\n",
       "      <td>1023.000000</td>\n",
       "    </tr>\n",
       "    <tr>\n",
       "      <th>75%</th>\n",
       "      <td>545.000000</td>\n",
       "      <td>51.000000</td>\n",
       "      <td>20.000000</td>\n",
       "      <td>1750.000000</td>\n",
       "    </tr>\n",
       "    <tr>\n",
       "      <th>max</th>\n",
       "      <td>1435.000000</td>\n",
       "      <td>143.000000</td>\n",
       "      <td>38.000000</td>\n",
       "      <td>6770.000000</td>\n",
       "    </tr>\n",
       "  </tbody>\n",
       "</table>\n",
       "</div>"
      ],
      "text/plain": [
       "         calls_sum  messages_count  internet_sum  all_payments\n",
       "count  2229.000000     2229.000000   2229.000000   2229.000000\n",
       "mean    417.934948       33.384029     16.328847   1289.973531\n",
       "std     190.313730       28.227876      5.747061    818.404367\n",
       "min       0.000000        0.000000      0.000000    550.000000\n",
       "25%     282.000000       10.000000     13.000000    550.000000\n",
       "50%     422.000000       28.000000     17.000000   1023.000000\n",
       "75%     545.000000       51.000000     20.000000   1750.000000\n",
       "max    1435.000000      143.000000     38.000000   6770.000000"
      ]
     },
     "metadata": {},
     "output_type": "display_data"
    }
   ],
   "source": [
    "display ( all_monthly_services_values[['calls_sum', 'messages_count', 'internet_sum', 'all_payments']]\n",
    "        .loc[(all_monthly_services_values['tariff']=='ultra')].describe()\n",
    "        )\n",
    "\n",
    "display ( all_monthly_services_values[['calls_sum', 'messages_count', 'internet_sum', 'all_payments']]\n",
    "         .loc[(all_monthly_services_values['tariff']=='smart')].describe()\n",
    "        )\n"
   ]
  },
  {
   "cell_type": "code",
   "execution_count": 56,
   "metadata": {
    "scrolled": true
   },
   "outputs": [
    {
     "data": {
      "text/plain": [
       "604.36"
      ]
     },
     "execution_count": 56,
     "metadata": {},
     "output_type": "execute_result"
    }
   ],
   "source": [
    "# применение метода .quantile(.29) показывает значение распределение на 100% шкале, т.е. .quantile(.5) = медиане выборки\n",
    "# посмотрим сколько процентов записей переплачивают за тариф смарт\n",
    "\n",
    "all_monthly_services_values['all_payments'].loc[(all_monthly_services_values['tariff']=='smart')].quantile(.29)"
   ]
  },
  {
   "cell_type": "code",
   "execution_count": 57,
   "metadata": {
    "scrolled": true
   },
   "outputs": [
    {
     "data": {
      "text/plain": [
       "user_id\n",
       "1000     8\n",
       "1001     2\n",
       "1002     7\n",
       "1003     5\n",
       "1004     8\n",
       "        ..\n",
       "1495     5\n",
       "1496    12\n",
       "1497     3\n",
       "1498     4\n",
       "1499     4\n",
       "Name: month, Length: 498, dtype: int64"
      ]
     },
     "execution_count": 57,
     "metadata": {},
     "output_type": "execute_result"
    }
   ],
   "source": [
    "# кол-во месяцев использования клиентами услуг телеком-компании\n",
    "all_monthly_services_values.groupby('user_id')['month'].count()"
   ]
  },
  {
   "cell_type": "markdown",
   "metadata": {},
   "source": [
    "### 3.2 Расчитаем дисперсию использованных услуг в месяц для пользователей каждого тарифа, а также дисперсию для ежемесячного платежа:"
   ]
  },
  {
   "cell_type": "markdown",
   "metadata": {},
   "source": [
    "Т.к. мы имеем дело не с генеральной совокупностью, а с выборкой, то для посчета дисперсии применим метод var() с параметром ddof=1."
   ]
  },
  {
   "cell_type": "code",
   "execution_count": 58,
   "metadata": {
    "scrolled": true
   },
   "outputs": [
    {
     "name": "stdout",
     "output_type": "stream",
     "text": [
      "Дисперсия для значений используемых минут в месяц для пользователей тарифа Smart - 36219.316\n",
      "\n",
      "Дисперсия для значений используемых сообщений в месяц для пользователей тарифа Smart - 796.813\n",
      "\n",
      "Дисперсия для значений используемых гигабайтов в месяц для пользователей тарифа Smart - 33.029\n",
      "\n",
      "Дисперсия для значений ежемесячного платежа по тарифу Smart - 669785.708\n",
      "\n",
      "Дисперсия для значений используемых минут в месяц для пользователей тарифа Ultra - 100873.633\n",
      "\n",
      "Дисперсия для значений используемых сообщений в месяц для пользователей тарифа Ultra - 2285.266\n",
      "\n",
      "Дисперсия для значений используемых гигабайтов в месяц для пользователей тарифа Ultra - 97.092\n",
      "\n",
      "Дисперсия для значений ежемесячного платежа по тарифу Ultra - 141516.745\n"
     ]
    }
   ],
   "source": [
    "smart_variance_calls = np.var(df_smart['calls_sum'], ddof=1)\n",
    "smart_variance_messages = np.var(df_smart['messages_count'], ddof=1)\n",
    "smart_variance_internet = np.var(df_smart['internet_sum'], ddof=1)\n",
    "smart_variance_payments = np.var(df_smart['all_payments'], ddof=1)\n",
    "\n",
    "ultra_variance_calls = np.var(df_ultra['calls_sum'], ddof=1)\n",
    "ultra_variance_messages = np.var(df_ultra['messages_count'], ddof=1)\n",
    "ultra_variance_internet = np.var(df_ultra['internet_sum'], ddof=1)\n",
    "ultra_variance_payments = np.var(df_ultra['all_payments'], ddof=1)\n",
    "\n",
    "print(f'Дисперсия для значений используемых минут в месяц для пользователей тарифа Smart - {smart_variance_calls:.3f}')\n",
    "print()\n",
    "print(f'Дисперсия для значений используемых сообщений в месяц для пользователей тарифа Smart - {smart_variance_messages:.3f}')\n",
    "print()\n",
    "print(f'Дисперсия для значений используемых гигабайтов в месяц для пользователей тарифа Smart - {smart_variance_internet:.3f}')\n",
    "print()\n",
    "print(f'Дисперсия для значений ежемесячного платежа по тарифу Smart - {smart_variance_payments:.3f}')\n",
    "print()\n",
    "print(f'Дисперсия для значений используемых минут в месяц для пользователей тарифа Ultra - {ultra_variance_calls:.3f}')\n",
    "print()\n",
    "print(f'Дисперсия для значений используемых сообщений в месяц для пользователей тарифа Ultra - {ultra_variance_messages:.3f}')\n",
    "print()\n",
    "print(f'Дисперсия для значений используемых гигабайтов в месяц для пользователей тарифа Ultra - {ultra_variance_internet:.3f}')\n",
    "print()\n",
    "print(f'Дисперсия для значений ежемесячного платежа по тарифу Ultra - {ultra_variance_payments:.3f}')"
   ]
  },
  {
   "cell_type": "markdown",
   "metadata": {},
   "source": [
    "### 3.3 Расчитаем стандартное отклонение для значений использованных услуг в месяц для пользователей каждого тарифа, а также стандартное отклонение для значений ежемесячного платежа:"
   ]
  },
  {
   "cell_type": "markdown",
   "metadata": {},
   "source": [
    "Для расчета стандартного отклонения можно воспользоваться методом std() библиотеки numpy, но так как ранее мы нашли дисперсию, то проще вычесть корень из значения дисперсии, воспользовавшись методом sqrt()."
   ]
  },
  {
   "cell_type": "code",
   "execution_count": 59,
   "metadata": {
    "scrolled": true
   },
   "outputs": [
    {
     "name": "stdout",
     "output_type": "stream",
     "text": [
      "Стандартное отклонение для значений используемых минут в месяц для пользователей тарифа Smart - 190.314\n",
      "\n",
      "Стандартное отклонение используемых сообщений в месяц для пользователей тарифа Smart - 28.228\n",
      "\n",
      "Стандартное отклонение используемых гигабайтов в месяц для пользователей тарифа Smart - 5.747\n",
      "\n",
      "Стандартное отклонение по платежам для тарифа Smart - 818.404\n",
      "\n",
      "Стандартное отклонение используемых минут в месяц для пользователей тарифа Ultra - 317.606\n",
      "\n",
      "Стандартное отклонение используемых сообщений в месяц для пользователей тарифа Ultra - 47.804\n",
      "\n",
      "Стандартное отклонение используемых гигабайтов в месяц для пользователей тарифа Ultra - 9.854\n",
      "\n",
      "Стандартное отклонение по платежам для тарифа Ultra - 376.187\n"
     ]
    }
   ],
   "source": [
    "smart_std_calls = np.sqrt(smart_variance_calls)\n",
    "smart_std_messages = np.sqrt(smart_variance_messages)\n",
    "smart_std_internet = np.sqrt(smart_variance_internet)\n",
    "smart_std_payments = np.sqrt(smart_variance_payments)\n",
    "\n",
    "ultra_std_calls = np.sqrt(ultra_variance_calls)\n",
    "ultra_std_messages = np.sqrt(ultra_variance_messages)\n",
    "ultra_std_internet = np.sqrt(ultra_variance_internet)\n",
    "ultra_std_payments = np.sqrt(ultra_variance_payments)\n",
    "\n",
    "print(f'Стандартное отклонение для значений используемых минут в месяц для пользователей тарифа Smart - {smart_std_calls:.3f}')\n",
    "print()\n",
    "print(f'Стандартное отклонение используемых сообщений в месяц для пользователей тарифа Smart - {smart_std_messages:.3f}')\n",
    "print()\n",
    "print(f'Стандартное отклонение используемых гигабайтов в месяц для пользователей тарифа Smart - {smart_std_internet:.3f}')\n",
    "print()\n",
    "print(f'Стандартное отклонение по платежам для тарифа Smart - {smart_std_payments:.3f}')\n",
    "print()\n",
    "print(f'Стандартное отклонение используемых минут в месяц для пользователей тарифа Ultra - {ultra_std_calls:.3f}')\n",
    "print()\n",
    "print(f'Стандартное отклонение используемых сообщений в месяц для пользователей тарифа Ultra - {ultra_std_messages:.3f}')\n",
    "print()\n",
    "print(f'Стандартное отклонение используемых гигабайтов в месяц для пользователей тарифа Ultra - {ultra_std_internet:.3f}')\n",
    "print()\n",
    "print(f'Стандартное отклонение по платежам для тарифа Ultra - {ultra_std_payments:.3f}')"
   ]
  },
  {
   "cell_type": "markdown",
   "metadata": {},
   "source": [
    "### 3.4 Построим гистограммы для значений использованных услуг в месяц для пользователей каждого тарифа и опишем полученные распределения:"
   ]
  },
  {
   "cell_type": "markdown",
   "metadata": {},
   "source": [
    "Для описания выводом по гистограмма посчитаем количество данных по обоим тарифам:"
   ]
  },
  {
   "cell_type": "code",
   "execution_count": 60,
   "metadata": {
    "scrolled": true
   },
   "outputs": [
    {
     "data": {
      "text/plain": [
       "2229"
      ]
     },
     "execution_count": 60,
     "metadata": {},
     "output_type": "execute_result"
    }
   ],
   "source": [
    "len(df_smart)"
   ]
  },
  {
   "cell_type": "code",
   "execution_count": 61,
   "metadata": {
    "scrolled": true
   },
   "outputs": [
    {
     "data": {
      "text/plain": [
       "985"
      ]
     },
     "execution_count": 61,
     "metadata": {},
     "output_type": "execute_result"
    }
   ],
   "source": [
    "len(df_ultra)"
   ]
  },
  {
   "cell_type": "markdown",
   "metadata": {},
   "source": [
    "**Примечание:** значений по тарифу Smart больше чем в 2 раза, учтем это (на гистаграммах плотность значений у тарифа Smart будет больше)."
   ]
  },
  {
   "cell_type": "markdown",
   "metadata": {},
   "source": [
    "Построим гистограммы для объема звонков пользователей по обоим тарифам:"
   ]
  },
  {
   "cell_type": "code",
   "execution_count": 62,
   "metadata": {
    "scrolled": true
   },
   "outputs": [
    {
     "data": {
      "image/png": "[encoded data removed]",
      "text/plain": [
       "<Figure size 720x576 with 1 Axes>"
      ]
     },
     "metadata": {
      "needs_background": "light"
     },
     "output_type": "display_data"
    }
   ],
   "source": [
    "ax = df_smart.plot(\n",
    "    kind='hist',\n",
    "    y='calls_sum',\n",
    "    histtype='step',\n",
    "    bins=100,\n",
    "    linewidth=4,\n",
    "    alpha=0.7,\n",
    "    label='Smart_calls',\n",
    "    figsize=(10, 8)\n",
    ")\n",
    "df_ultra.plot(\n",
    "    kind='hist',\n",
    "    y='calls_sum',\n",
    "    histtype='step',\n",
    "    bins=100,\n",
    "    linewidth=4,\n",
    "    alpha=0.7,\n",
    "    label='Ultra_calls',\n",
    "    ax=ax,\n",
    "    grid=True,\n",
    "    legend=True,\n",
    "    figsize=(10, 8)\n",
    ")\n",
    "\n",
    "limit_smart = 500\n",
    "ax.axvline(x=limit_smart, color='r', linestyle='dashed', linewidth=1)\n",
    "ax.set_title('Длительность звонков')\n",
    "ax.set_xlabel('расход минут в месяц')\n",
    "ax.set_ylabel('плотность значений');"
   ]
  },
  {
   "cell_type": "markdown",
   "metadata": {},
   "source": [
    "- По гистограмме тарифа Smart видно, что распределение стремится к нормальному и основная часть значений лежит в пределах значений от 150 до 700, что означает частое превышение пользователями лимита по доступным минутам разговоров (500 минут в месяц). Справа имеется хвост с отдельными выпадающими значениями, а в значении 0 виден небольшой всплеск (пользователи тарифа Smart часто не пользуются данной услугой).\n",
    "\n",
    "\n",
    "- По гистограмме тарифа Ultra видно, что данные имеют большой разброс, что подтверждает ранее полученные значения дисперсии и стандартного отклонения. Также имеется смещение значений вправо, а слева в значении 0 виден большой всплеск (пользователи тарифа Ultra значительно часто не пользуются данной услугой). Значения превышающие лимит, установленный тарифом Ultra в 3000 минут не превышаются - максимальная длительность звонков достигает значений 1750."
   ]
  },
  {
   "cell_type": "markdown",
   "metadata": {},
   "source": [
    "Построим гистограммы для количества сообщений пользователей по обоим тарифам:"
   ]
  },
  {
   "cell_type": "code",
   "execution_count": 63,
   "metadata": {
    "scrolled": true
   },
   "outputs": [
    {
     "data": {
      "image/png": "[encoded data removed]",
      "text/plain": [
       "<Figure size 720x576 with 1 Axes>"
      ]
     },
     "metadata": {
      "needs_background": "light"
     },
     "output_type": "display_data"
    }
   ],
   "source": [
    "ax = df_smart.plot(\n",
    "    kind='hist',\n",
    "    y='messages_count',\n",
    "    histtype='step',\n",
    "    bins=100,\n",
    "    linewidth=4,\n",
    "    alpha=0.7,\n",
    "    label='Smart_messages',\n",
    "    figsize=(10, 8)\n",
    ")\n",
    "df_ultra.plot(\n",
    "    kind='hist',\n",
    "    y='messages_count',\n",
    "    histtype='step',\n",
    "    bins=100,\n",
    "    linewidth=4,\n",
    "    alpha=0.7,\n",
    "    label='Ultra_messages',\n",
    "    ax=ax,\n",
    "    grid=True,\n",
    "    legend=True,\n",
    "    figsize=(10, 8)\n",
    ")\n",
    "\n",
    "limit_smart = 50\n",
    "ax.axvline(x=limit_smart, color='r', linestyle='dashed', linewidth=1)\n",
    "ax.set_title('Количество сообщений')\n",
    "ax.set_xlabel('количество сообщений в месяц')\n",
    "ax.set_ylabel('плотность значений');"
   ]
  },
  {
   "cell_type": "markdown",
   "metadata": {},
   "source": [
    "- По гистограмме тарифа Smart видно, что основная часть распределения лежит в пределах звачений от 0 до 70, что означает частое превышение пользователями лимита по доступному количеству сообщений (50 сообщений в месяц), распределение смещено вправо. Также имеется большое количество со значением 0, что значит о не использовании многими пользователями данной услуги.\n",
    "\n",
    "\n",
    "- По гистограмме тарифа Ultra видно, что распределение смещено вправо. Также имеется большое количество со значением 0, что значит о не использовании многими пользователями данной услуги, также среди пользователей тарифа Ultra есть те, кто в месяц отправляет более 200 сообщений, но значения превышающие лимит, установленный тарифом Ultra в 1000 сообщений не превышаются - максимальная длительность звонков достигает значений около 250."
   ]
  },
  {
   "cell_type": "markdown",
   "metadata": {},
   "source": [
    "Построим гистограммы для использованного интернет трафика пользователями по обоим тарифам:"
   ]
  },
  {
   "cell_type": "code",
   "execution_count": 64,
   "metadata": {
    "scrolled": false
   },
   "outputs": [
    {
     "data": {
      "image/png": "[encoded data removed]",
      "text/plain": [
       "<Figure size 720x576 with 1 Axes>"
      ]
     },
     "metadata": {
      "needs_background": "light"
     },
     "output_type": "display_data"
    }
   ],
   "source": [
    "ax = df_smart.plot(\n",
    "    kind='hist',\n",
    "    y='internet_sum',\n",
    "    histtype='step',\n",
    "    bins=30,\n",
    "    linewidth=4,\n",
    "    alpha=0.7,\n",
    "    label='Smart_internet',\n",
    "    figsize=(10, 8)\n",
    ")\n",
    "df_ultra.plot(\n",
    "    kind='hist',\n",
    "    y='internet_sum',\n",
    "    histtype='step',\n",
    "    bins=30,\n",
    "    linewidth=4,\n",
    "    alpha=0.7,\n",
    "    label='Ultra_internet',\n",
    "    ax=ax,\n",
    "    grid=True,\n",
    "    legend=True,\n",
    "    figsize=(10, 8)\n",
    ")\n",
    "\n",
    "limit_smart = 15\n",
    "limit_ultra = 30\n",
    "ax.axvline(x=limit_smart, color='r', linestyle='dashed', linewidth=1)\n",
    "ax.axvline(x=limit_ultra, color='g', linestyle='dashed', linewidth=1)\n",
    "ax.set_title('Расход интернет трафика')\n",
    "ax.set_xlabel('расход гигабайт в месяц')\n",
    "ax.set_ylabel('плотность значений');"
   ]
  },
  {
   "cell_type": "markdown",
   "metadata": {},
   "source": [
    "- По гистограмме тарифа Smart видно, что распределение стремится к нормальному и основная часть значений лежит в промежутке от 10 до 22, что означает частое и значительное превышение пользователями лимита по доступному объему интернет трафика (15 гигабайт в месяц), хотя распределение смещено влево.\n",
    "\n",
    "\n",
    "- По гистограмме тарифа Ultra видно, что распределение стремится к нормальному и смещено влево. Основная часть значений лежит в промежутке от 10 до 28 (большенство пользователей укладываются в лимит интернет трафика по тарифу Ultra - 30 гигабайт), но имеются значения, превышающие установленный по тарифу лимит - небольшое количество пользователей превышает лимит."
   ]
  },
  {
   "cell_type": "markdown",
   "metadata": {},
   "source": [
    "**Вывод по гистаграммам:**\n",
    "- В отличае от гистаграмм по звонкам и по сообщениям, на гистаграммах по интернет трафику отсутствуют всплески на значении 0 (пользователи, не использующие интернет трафик не такое частое явление), это позволяет утверждать, что данная услуга мобильной связи является самой популярной;\n",
    "- По тарифу Ultra также видно, что пользователи данного тарифа не превышают лимиты минутам разговоров и по количеству сообщений, но превышают объем доступного интернет трафика."
   ]
  },
  {
   "cell_type": "markdown",
   "metadata": {},
   "source": [
    "## 4. Проверка гипотез:"
   ]
  },
  {
   "cell_type": "markdown",
   "metadata": {},
   "source": [
    "### 4.1 Проверим гипотезу - средняя выручка от пользователей тарифов «Ультра» и «Смарт» различается:"
   ]
  },
  {
   "cell_type": "markdown",
   "metadata": {},
   "source": [
    "Так как мы работаем с выборкой, то данные по двум тарифам являются парными выборками по одной генеральной совокупности, а следовательно для проверки гипотезы о равенстве средней выручки по двум тарифам нужно нужно применить метод scipy.stats.ttest_ind()."
   ]
  },
  {
   "cell_type": "code",
   "execution_count": 65,
   "metadata": {
    "scrolled": true
   },
   "outputs": [
    {
     "data": {
      "text/plain": [
       "985"
      ]
     },
     "execution_count": 65,
     "metadata": {},
     "output_type": "execute_result"
    }
   ],
   "source": [
    "ultra_all_payments_list = list(df_ultra['all_payments'])\n",
    "len(ultra_all_payments_list)"
   ]
  },
  {
   "cell_type": "code",
   "execution_count": 66,
   "metadata": {
    "scrolled": true
   },
   "outputs": [
    {
     "data": {
      "text/plain": [
       "2229"
      ]
     },
     "execution_count": 66,
     "metadata": {},
     "output_type": "execute_result"
    }
   ],
   "source": [
    "smart_all_payments_list = list(df_smart['all_payments'])\n",
    "len(smart_all_payments_list)"
   ]
  },
  {
   "cell_type": "markdown",
   "metadata": {},
   "source": [
    "Наша гипотеза будет двусторонней, а ее нулевая и альтернативная гипотезы:\n",
    "- нулевая гипотеза - средняя выручка пользователей двух тарифов равна;\n",
    "- альтернативная гипотеза - средняя выручка пользователей двух тарифов различается."
   ]
  },
  {
   "cell_type": "code",
   "execution_count": 67,
   "metadata": {
    "scrolled": true
   },
   "outputs": [
    {
     "name": "stdout",
     "output_type": "stream",
     "text": [
      "Средняя выручна от пользователей тарифа Smart: 1289.97\n",
      "Средняя выручна от пользователей тарифа Ultra: 2070.15\n",
      "\n",
      "p-значение: 1.4229814360764067e-160\n",
      "\n",
      "Отвергаем нулевую гипотезу\n"
     ]
    }
   ],
   "source": [
    "alpha = .05\n",
    "\n",
    "results = st.ttest_ind(\n",
    "    smart_all_payments_list, \n",
    "    ultra_all_payments_list)\n",
    "\n",
    "print(f'Средняя выручна от пользователей тарифа Smart: {df_smart[\"all_payments\"].mean():.2f}')\n",
    "print(f'Средняя выручна от пользователей тарифа Ultra: {df_ultra[\"all_payments\"].mean():.2f}')\n",
    "print()\n",
    "print('p-значение:', results.pvalue)\n",
    "print()\n",
    "\n",
    "if results.pvalue < alpha:\n",
    "    print(\"Отвергаем нулевую гипотезу\")\n",
    "else:\n",
    "    print(\"Не получилось отвергнуть нулевую гипотезу\")"
   ]
  },
  {
   "cell_type": "markdown",
   "metadata": {},
   "source": [
    "Нулевая гипотеза не подтвердилась. Это значит, что средняя выручка пользователей двух разных тарифов не равна (даже при более строгом критическом значении статистической значимости — 0.01 получили бы тот же результат: p-value не превышает и этого значения). Следовательно можно считать, что согласно полученным данным можно принять альтернативную гипотезу, что средняя выручка от пользователей тарифов «Ультра» и «Смарт» различается."
   ]
  },
  {
   "cell_type": "markdown",
   "metadata": {},
   "source": [
    "### 4.2 Проверим гипотезу - средняя выручка пользователей из Москвы отличается от выручки пользователей из других регионов:"
   ]
  },
  {
   "cell_type": "markdown",
   "metadata": {},
   "source": [
    "Так как и при проверки предыдущей гипотезы мы работаем с выборкой, то данные по городам являются парными выборками по одной генеральной совокупности, а следовательно для проверки гипотезы о равенстве средней выручки по городам проживания пользователей нужно применить метод scipy.stats.ttest_ind()."
   ]
  },
  {
   "cell_type": "code",
   "execution_count": 68,
   "metadata": {
    "scrolled": true
   },
   "outputs": [
    {
     "data": {
      "text/html": [
       "<div>\n",
       "<style scoped>\n",
       "    .dataframe tbody tr th:only-of-type {\n",
       "        vertical-align: middle;\n",
       "    }\n",
       "\n",
       "    .dataframe tbody tr th {\n",
       "        vertical-align: top;\n",
       "    }\n",
       "\n",
       "    .dataframe thead th {\n",
       "        text-align: right;\n",
       "    }\n",
       "</style>\n",
       "<table border=\"1\" class=\"dataframe\">\n",
       "  <thead>\n",
       "    <tr style=\"text-align: right;\">\n",
       "      <th></th>\n",
       "      <th>user_id</th>\n",
       "      <th>month</th>\n",
       "      <th>calls_count</th>\n",
       "      <th>calls_sum</th>\n",
       "      <th>messages_count</th>\n",
       "      <th>internet_sum</th>\n",
       "      <th>age</th>\n",
       "      <th>churn_date</th>\n",
       "      <th>city</th>\n",
       "      <th>first_name</th>\n",
       "      <th>last_name</th>\n",
       "      <th>reg_date</th>\n",
       "      <th>tariff</th>\n",
       "      <th>calls_extra_payments</th>\n",
       "      <th>messages_extra_payments</th>\n",
       "      <th>internet_extra_payments</th>\n",
       "      <th>all_payments</th>\n",
       "    </tr>\n",
       "  </thead>\n",
       "  <tbody>\n",
       "    <tr>\n",
       "      <th>0</th>\n",
       "      <td>1000</td>\n",
       "      <td>5</td>\n",
       "      <td>22</td>\n",
       "      <td>159</td>\n",
       "      <td>22</td>\n",
       "      <td>3</td>\n",
       "      <td>52</td>\n",
       "      <td>NaT</td>\n",
       "      <td>Краснодар</td>\n",
       "      <td>Рафаил</td>\n",
       "      <td>Верещагин</td>\n",
       "      <td>2018-05-25</td>\n",
       "      <td>ultra</td>\n",
       "      <td>0</td>\n",
       "      <td>0</td>\n",
       "      <td>0</td>\n",
       "      <td>1950</td>\n",
       "    </tr>\n",
       "    <tr>\n",
       "      <th>1</th>\n",
       "      <td>1000</td>\n",
       "      <td>6</td>\n",
       "      <td>43</td>\n",
       "      <td>172</td>\n",
       "      <td>60</td>\n",
       "      <td>23</td>\n",
       "      <td>52</td>\n",
       "      <td>NaT</td>\n",
       "      <td>Краснодар</td>\n",
       "      <td>Рафаил</td>\n",
       "      <td>Верещагин</td>\n",
       "      <td>2018-05-25</td>\n",
       "      <td>ultra</td>\n",
       "      <td>0</td>\n",
       "      <td>0</td>\n",
       "      <td>0</td>\n",
       "      <td>1950</td>\n",
       "    </tr>\n",
       "    <tr>\n",
       "      <th>2</th>\n",
       "      <td>1000</td>\n",
       "      <td>7</td>\n",
       "      <td>47</td>\n",
       "      <td>340</td>\n",
       "      <td>75</td>\n",
       "      <td>14</td>\n",
       "      <td>52</td>\n",
       "      <td>NaT</td>\n",
       "      <td>Краснодар</td>\n",
       "      <td>Рафаил</td>\n",
       "      <td>Верещагин</td>\n",
       "      <td>2018-05-25</td>\n",
       "      <td>ultra</td>\n",
       "      <td>0</td>\n",
       "      <td>0</td>\n",
       "      <td>0</td>\n",
       "      <td>1950</td>\n",
       "    </tr>\n",
       "    <tr>\n",
       "      <th>3</th>\n",
       "      <td>1000</td>\n",
       "      <td>8</td>\n",
       "      <td>52</td>\n",
       "      <td>408</td>\n",
       "      <td>81</td>\n",
       "      <td>14</td>\n",
       "      <td>52</td>\n",
       "      <td>NaT</td>\n",
       "      <td>Краснодар</td>\n",
       "      <td>Рафаил</td>\n",
       "      <td>Верещагин</td>\n",
       "      <td>2018-05-25</td>\n",
       "      <td>ultra</td>\n",
       "      <td>0</td>\n",
       "      <td>0</td>\n",
       "      <td>0</td>\n",
       "      <td>1950</td>\n",
       "    </tr>\n",
       "    <tr>\n",
       "      <th>4</th>\n",
       "      <td>1000</td>\n",
       "      <td>9</td>\n",
       "      <td>58</td>\n",
       "      <td>466</td>\n",
       "      <td>57</td>\n",
       "      <td>15</td>\n",
       "      <td>52</td>\n",
       "      <td>NaT</td>\n",
       "      <td>Краснодар</td>\n",
       "      <td>Рафаил</td>\n",
       "      <td>Верещагин</td>\n",
       "      <td>2018-05-25</td>\n",
       "      <td>ultra</td>\n",
       "      <td>0</td>\n",
       "      <td>0</td>\n",
       "      <td>0</td>\n",
       "      <td>1950</td>\n",
       "    </tr>\n",
       "  </tbody>\n",
       "</table>\n",
       "</div>"
      ],
      "text/plain": [
       "   user_id  month  calls_count  calls_sum  messages_count  internet_sum  age  \\\n",
       "0     1000      5           22        159              22             3   52   \n",
       "1     1000      6           43        172              60            23   52   \n",
       "2     1000      7           47        340              75            14   52   \n",
       "3     1000      8           52        408              81            14   52   \n",
       "4     1000      9           58        466              57            15   52   \n",
       "\n",
       "  churn_date       city first_name  last_name   reg_date tariff  \\\n",
       "0        NaT  Краснодар     Рафаил  Верещагин 2018-05-25  ultra   \n",
       "1        NaT  Краснодар     Рафаил  Верещагин 2018-05-25  ultra   \n",
       "2        NaT  Краснодар     Рафаил  Верещагин 2018-05-25  ultra   \n",
       "3        NaT  Краснодар     Рафаил  Верещагин 2018-05-25  ultra   \n",
       "4        NaT  Краснодар     Рафаил  Верещагин 2018-05-25  ultra   \n",
       "\n",
       "   calls_extra_payments  messages_extra_payments  internet_extra_payments  \\\n",
       "0                     0                        0                        0   \n",
       "1                     0                        0                        0   \n",
       "2                     0                        0                        0   \n",
       "3                     0                        0                        0   \n",
       "4                     0                        0                        0   \n",
       "\n",
       "   all_payments  \n",
       "0          1950  \n",
       "1          1950  \n",
       "2          1950  \n",
       "3          1950  \n",
       "4          1950  "
      ]
     },
     "execution_count": 68,
     "metadata": {},
     "output_type": "execute_result"
    }
   ],
   "source": [
    "all_monthly_services_values.head()"
   ]
  },
  {
   "cell_type": "code",
   "execution_count": 69,
   "metadata": {
    "scrolled": true
   },
   "outputs": [],
   "source": [
    "df_moscow = all_monthly_services_values.query('city == \"Москва\"')\n",
    "df_not_moscow = all_monthly_services_values.query('city != \"Москва\"')"
   ]
  },
  {
   "cell_type": "code",
   "execution_count": 70,
   "metadata": {
    "scrolled": true
   },
   "outputs": [
    {
     "data": {
      "text/plain": [
       "611"
      ]
     },
     "execution_count": 70,
     "metadata": {},
     "output_type": "execute_result"
    }
   ],
   "source": [
    "moscow_payments_list = list(df_moscow['all_payments'])\n",
    "len(moscow_payments_list)"
   ]
  },
  {
   "cell_type": "code",
   "execution_count": 71,
   "metadata": {
    "scrolled": true
   },
   "outputs": [
    {
     "data": {
      "text/plain": [
       "2603"
      ]
     },
     "execution_count": 71,
     "metadata": {},
     "output_type": "execute_result"
    }
   ],
   "source": [
    "not_moscow_payments_list = list(df_not_moscow['all_payments'])\n",
    "len(not_moscow_payments_list)"
   ]
  },
  {
   "cell_type": "markdown",
   "metadata": {},
   "source": [
    "Наша гипотеза будет двусторонней, а ее нулевая и альтернативная гипотезы:\n",
    "- нулевая гипотеза - средняя выручка пользователей из Москвы и других городов равна;\n",
    "- альтернативная гипотеза - средняя выручка пользователей из Москвы и других городов различается."
   ]
  },
  {
   "cell_type": "code",
   "execution_count": 72,
   "metadata": {
    "scrolled": true
   },
   "outputs": [
    {
     "name": "stdout",
     "output_type": "stream",
     "text": [
      "Средняя выручна от пользователей по Москве: 1546.71\n",
      "Средняя выручна от пользователей из других городов: 1524.94\n",
      "\n",
      "p-значение: 0.5440152911670224\n",
      "\n",
      "Не получилось отвергнуть нулевую гипотезу\n"
     ]
    }
   ],
   "source": [
    "alpha = .05\n",
    "\n",
    "results = st.ttest_ind(\n",
    "    moscow_payments_list, \n",
    "    not_moscow_payments_list)\n",
    "\n",
    "print(f'Средняя выручна от пользователей по Москве: {df_moscow[\"all_payments\"].mean():.2f}')\n",
    "print(f'Средняя выручна от пользователей из других городов: {df_not_moscow[\"all_payments\"].mean():.2f}')\n",
    "print()\n",
    "print('p-значение:', results.pvalue)\n",
    "print()\n",
    "\n",
    "if results.pvalue < alpha:\n",
    "    print(\"Отвергаем нулевую гипотезу\")\n",
    "else:\n",
    "    print(\"Не получилось отвергнуть нулевую гипотезу\")"
   ]
  },
  {
   "cell_type": "markdown",
   "metadata": {},
   "source": [
    "Нулевая гипотеза не отвергнута. Статистическая значимость получилась достаточно высокой. По полученным данным можно считать, что гипотеза - средняя выручка пользователей из Москвы отличается от выручки пользователей из других регионов не верна."
   ]
  },
  {
   "cell_type": "markdown",
   "metadata": {},
   "source": [
    "## 5. Общий вывод:"
   ]
  },
  {
   "cell_type": "markdown",
   "metadata": {},
   "source": [
    "- количество пользователей с тарифом Smart в выборке значительно больше количества пользователей с тарифом Ultra, в соответствии с этим можно предположить, что тариф Smart более популярный;\n",
    "- поведение пользователей двух тарифов примерно одинаковое - объем использования услуг в двух категориях похож (в тарифе Ultra имеются отдельные высокие значения, но их количество невелико);\n",
    "- исходя из средней выручки по тарифам, для оператора тариф Ultra более выгодный - средняя выручка с его пользователей в 2 раза больше;\n",
    "- наиболее популярной услугой является интернет - в этой категории услуг наименьшее число пользователей, которые не пользуются данной услугой и это единственная услуга, по которой пользователи тарифа Ultra превышают лимит."
   ]
  },
  {
   "cell_type": "code",
   "execution_count": 73,
   "metadata": {
    "scrolled": true
   },
   "outputs": [
    {
     "name": "stdout",
     "output_type": "stream",
     "text": [
      "Кол-во клентов покинувших компанию за год 38\n",
      "Кол-во клентов покинувших компанию за посл. 4 мес. 2018 г. на двух тарифах 35\n",
      "%  от общего кол-ва всех клиентов, покинувших компанию за посл. 4 мес. 2018 г. на двух тарифах 92.1\n",
      "Распределение оттока клиентов на тарифах за посл. 4 мес. 2018 г.\n"
     ]
    },
    {
     "data": {
      "text/plain": [
       "tariff\n",
       "smart    22\n",
       "ultra    13\n",
       "Name: churn_date, dtype: int64"
      ]
     },
     "execution_count": 73,
     "metadata": {},
     "output_type": "execute_result"
    }
   ],
   "source": [
    "# df.churn_date.value_counts()\n",
    "print ('Кол-во клентов покинувших компанию за год', df_users.churn_date.notna().sum())\n",
    "\n",
    "print ('Кол-во клентов покинувших компанию за посл. 4 мес. 2018 г. на двух тарифах',\n",
    "       df_users.query('churn_date > \"2018-09-25\"').churn_date.notna().sum()\n",
    "      )\n",
    "print ('%  от общего кол-ва всех клиентов, покинувших компанию за посл. 4 мес. 2018 г. на двух тарифах',\n",
    "    (df_users.query('churn_date > \"2018-09-25\"').churn_date.notna().sum()/df_users.churn_date.notna().sum()*100).round(1)\n",
    ")\n",
    "\n",
    "print ('Распределение оттока клиентов на тарифах за посл. 4 мес. 2018 г.')\n",
    "df_users.query('churn_date > \"2018-09-25\"').groupby('tariff')['churn_date'].count()"
   ]
  },
  {
   "cell_type": "code",
   "execution_count": null,
   "metadata": {},
   "outputs": [],
   "source": []
  }
 ],
 "metadata": {
  "ExecuteTimeLog": [
   {
    "duration": 1210,
    "start_time": "2022-02-09T20:06:22.979Z"
   },
   {
    "duration": 448,
    "start_time": "2022-02-09T20:09:14.788Z"
   },
   {
    "duration": 13,
    "start_time": "2022-02-09T20:09:45.527Z"
   },
   {
    "duration": 4,
    "start_time": "2022-02-09T20:11:12.678Z"
   },
   {
    "duration": 4,
    "start_time": "2022-02-09T20:11:46.939Z"
   },
   {
    "duration": 16,
    "start_time": "2022-02-09T20:11:57.348Z"
   },
   {
    "duration": 16,
    "start_time": "2022-02-09T20:12:06.526Z"
   },
   {
    "duration": 17,
    "start_time": "2022-02-09T20:16:09.799Z"
   },
   {
    "duration": 9,
    "start_time": "2022-02-09T20:31:38.237Z"
   },
   {
    "duration": 9,
    "start_time": "2022-02-09T20:32:02.429Z"
   },
   {
    "duration": 23,
    "start_time": "2022-02-09T20:32:34.417Z"
   },
   {
    "duration": 9,
    "start_time": "2022-02-09T20:34:45.717Z"
   },
   {
    "duration": 19,
    "start_time": "2022-02-09T20:35:16.896Z"
   },
   {
    "duration": 8,
    "start_time": "2022-02-09T20:36:15.956Z"
   },
   {
    "duration": 16,
    "start_time": "2022-02-09T20:36:31.286Z"
   },
   {
    "duration": 345,
    "start_time": "2022-02-10T19:36:02.772Z"
   },
   {
    "duration": 1730,
    "start_time": "2022-02-10T19:36:12.835Z"
   },
   {
    "duration": 606,
    "start_time": "2022-02-10T19:36:14.568Z"
   },
   {
    "duration": 19,
    "start_time": "2022-02-10T19:36:15.178Z"
   },
   {
    "duration": 31,
    "start_time": "2022-02-10T19:36:15.200Z"
   },
   {
    "duration": 13,
    "start_time": "2022-02-10T19:36:15.233Z"
   },
   {
    "duration": 38,
    "start_time": "2022-02-10T19:36:15.249Z"
   },
   {
    "duration": 39,
    "start_time": "2022-02-10T19:36:15.291Z"
   },
   {
    "duration": 21,
    "start_time": "2022-02-10T19:36:15.333Z"
   },
   {
    "duration": 23,
    "start_time": "2022-02-10T19:36:22.652Z"
   },
   {
    "duration": 15,
    "start_time": "2022-02-10T19:36:23.579Z"
   },
   {
    "duration": 9,
    "start_time": "2022-02-10T19:37:21.331Z"
   },
   {
    "duration": 21,
    "start_time": "2022-02-10T19:41:00.200Z"
   },
   {
    "duration": 11,
    "start_time": "2022-02-10T19:41:16.171Z"
   },
   {
    "duration": 68,
    "start_time": "2022-02-10T20:07:19.021Z"
   },
   {
    "duration": 32,
    "start_time": "2022-02-10T20:46:03.648Z"
   },
   {
    "duration": 28,
    "start_time": "2022-02-10T20:48:06.500Z"
   },
   {
    "duration": 11,
    "start_time": "2022-02-10T20:48:35.328Z"
   },
   {
    "duration": 57,
    "start_time": "2022-02-10T20:49:06.988Z"
   },
   {
    "duration": 13,
    "start_time": "2022-02-10T20:49:25.888Z"
   },
   {
    "duration": 2183,
    "start_time": "2022-02-10T21:00:41.125Z"
   },
   {
    "duration": 782,
    "start_time": "2022-02-10T21:00:43.312Z"
   },
   {
    "duration": 19,
    "start_time": "2022-02-10T21:00:44.098Z"
   },
   {
    "duration": 42,
    "start_time": "2022-02-10T21:00:44.125Z"
   },
   {
    "duration": 16,
    "start_time": "2022-02-10T21:00:44.170Z"
   },
   {
    "duration": 65,
    "start_time": "2022-02-10T21:00:44.188Z"
   },
   {
    "duration": 15,
    "start_time": "2022-02-10T21:00:44.257Z"
   },
   {
    "duration": 56,
    "start_time": "2022-02-10T21:00:44.274Z"
   },
   {
    "duration": 12,
    "start_time": "2022-02-10T21:00:44.333Z"
   },
   {
    "duration": 11,
    "start_time": "2022-02-10T21:00:44.348Z"
   },
   {
    "duration": 62,
    "start_time": "2022-02-10T21:00:44.363Z"
   },
   {
    "duration": 10,
    "start_time": "2022-02-10T21:00:44.429Z"
   },
   {
    "duration": 32,
    "start_time": "2022-02-10T21:01:13.495Z"
   },
   {
    "duration": 59,
    "start_time": "2022-02-10T21:01:24.843Z"
   },
   {
    "duration": 435,
    "start_time": "2022-02-10T21:02:05.743Z"
   },
   {
    "duration": 338,
    "start_time": "2022-02-10T21:03:07.883Z"
   },
   {
    "duration": 380,
    "start_time": "2022-02-10T21:03:19.803Z"
   },
   {
    "duration": 350,
    "start_time": "2022-02-10T21:05:32.324Z"
   },
   {
    "duration": 335,
    "start_time": "2022-02-10T21:05:41.192Z"
   },
   {
    "duration": 3,
    "start_time": "2022-02-10T21:06:21.712Z"
   },
   {
    "duration": 518,
    "start_time": "2022-02-10T21:06:21.718Z"
   },
   {
    "duration": 11,
    "start_time": "2022-02-10T21:06:22.239Z"
   },
   {
    "duration": 35,
    "start_time": "2022-02-10T21:06:22.253Z"
   },
   {
    "duration": 32,
    "start_time": "2022-02-10T21:06:22.291Z"
   },
   {
    "duration": 28,
    "start_time": "2022-02-10T21:06:22.326Z"
   },
   {
    "duration": 12,
    "start_time": "2022-02-10T21:06:22.358Z"
   },
   {
    "duration": 58,
    "start_time": "2022-02-10T21:06:22.375Z"
   },
   {
    "duration": 14,
    "start_time": "2022-02-10T21:06:22.436Z"
   },
   {
    "duration": 22,
    "start_time": "2022-02-10T21:06:22.452Z"
   },
   {
    "duration": 35,
    "start_time": "2022-02-10T21:06:22.477Z"
   },
   {
    "duration": 11,
    "start_time": "2022-02-10T21:06:22.522Z"
   },
   {
    "duration": 27,
    "start_time": "2022-02-10T21:06:22.536Z"
   },
   {
    "duration": 83,
    "start_time": "2022-02-10T21:06:22.566Z"
   },
   {
    "duration": 304,
    "start_time": "2022-02-10T21:06:47.282Z"
   },
   {
    "duration": 298,
    "start_time": "2022-02-10T21:06:57.222Z"
   },
   {
    "duration": 1448,
    "start_time": "2022-02-10T21:15:51.953Z"
   },
   {
    "duration": 515,
    "start_time": "2022-02-10T21:15:53.404Z"
   },
   {
    "duration": 16,
    "start_time": "2022-02-10T21:15:53.923Z"
   },
   {
    "duration": 28,
    "start_time": "2022-02-10T21:15:53.942Z"
   },
   {
    "duration": 11,
    "start_time": "2022-02-10T21:15:53.973Z"
   },
   {
    "duration": 56,
    "start_time": "2022-02-10T21:15:53.987Z"
   },
   {
    "duration": 10,
    "start_time": "2022-02-10T21:15:54.046Z"
   },
   {
    "duration": 23,
    "start_time": "2022-02-10T21:15:54.058Z"
   },
   {
    "duration": 48,
    "start_time": "2022-02-10T21:15:54.084Z"
   },
   {
    "duration": 11,
    "start_time": "2022-02-10T21:15:54.135Z"
   },
   {
    "duration": 18,
    "start_time": "2022-02-10T21:15:54.148Z"
   },
   {
    "duration": 10,
    "start_time": "2022-02-10T21:15:54.169Z"
   },
   {
    "duration": 66,
    "start_time": "2022-02-10T21:15:54.181Z"
   },
   {
    "duration": 74,
    "start_time": "2022-02-10T21:15:54.249Z"
   },
   {
    "duration": 422,
    "start_time": "2022-02-10T21:15:57.230Z"
   },
   {
    "duration": 74,
    "start_time": "2022-02-10T21:16:07.510Z"
   },
   {
    "duration": 4,
    "start_time": "2022-02-10T21:17:04.044Z"
   },
   {
    "duration": 520,
    "start_time": "2022-02-10T21:17:04.051Z"
   },
   {
    "duration": 11,
    "start_time": "2022-02-10T21:17:04.575Z"
   },
   {
    "duration": 34,
    "start_time": "2022-02-10T21:17:04.589Z"
   },
   {
    "duration": 14,
    "start_time": "2022-02-10T21:17:04.626Z"
   },
   {
    "duration": 45,
    "start_time": "2022-02-10T21:17:04.643Z"
   },
   {
    "duration": 40,
    "start_time": "2022-02-10T21:17:04.690Z"
   },
   {
    "duration": 36,
    "start_time": "2022-02-10T21:17:04.733Z"
   },
   {
    "duration": 48,
    "start_time": "2022-02-10T21:17:04.775Z"
   },
   {
    "duration": 9,
    "start_time": "2022-02-10T21:17:04.826Z"
   },
   {
    "duration": 25,
    "start_time": "2022-02-10T21:17:04.838Z"
   },
   {
    "duration": 13,
    "start_time": "2022-02-10T21:17:04.866Z"
   },
   {
    "duration": 62,
    "start_time": "2022-02-10T21:17:04.882Z"
   },
   {
    "duration": 62,
    "start_time": "2022-02-10T21:17:04.946Z"
   },
   {
    "duration": 12,
    "start_time": "2022-02-10T21:17:07.743Z"
   },
   {
    "duration": 75,
    "start_time": "2022-02-10T21:17:15.523Z"
   },
   {
    "duration": 5,
    "start_time": "2022-02-10T21:17:39.523Z"
   },
   {
    "duration": 80,
    "start_time": "2022-02-10T21:19:31.702Z"
   },
   {
    "duration": 79,
    "start_time": "2022-02-10T21:20:03.962Z"
   },
   {
    "duration": 74,
    "start_time": "2022-02-10T21:20:09.391Z"
   },
   {
    "duration": 96,
    "start_time": "2022-02-10T21:20:28.969Z"
   },
   {
    "duration": 129,
    "start_time": "2022-02-10T21:20:32.083Z"
   },
   {
    "duration": 27848,
    "start_time": "2022-02-10T21:26:58.030Z"
   },
   {
    "duration": 4,
    "start_time": "2022-02-10T21:40:51.020Z"
   },
   {
    "duration": 523,
    "start_time": "2022-02-10T21:40:51.026Z"
   },
   {
    "duration": 11,
    "start_time": "2022-02-10T21:40:51.552Z"
   },
   {
    "duration": 30,
    "start_time": "2022-02-10T21:40:51.567Z"
   },
   {
    "duration": 26,
    "start_time": "2022-02-10T21:40:51.600Z"
   },
   {
    "duration": 30,
    "start_time": "2022-02-10T21:40:51.628Z"
   },
   {
    "duration": 11,
    "start_time": "2022-02-10T21:40:51.663Z"
   },
   {
    "duration": 64,
    "start_time": "2022-02-10T21:40:51.678Z"
   },
   {
    "duration": 18,
    "start_time": "2022-02-10T21:40:51.746Z"
   },
   {
    "duration": 17,
    "start_time": "2022-02-10T21:40:51.767Z"
   },
   {
    "duration": 53,
    "start_time": "2022-02-10T21:40:51.788Z"
   },
   {
    "duration": 15,
    "start_time": "2022-02-10T21:40:51.845Z"
   },
   {
    "duration": 60,
    "start_time": "2022-02-10T21:40:51.863Z"
   },
   {
    "duration": 59,
    "start_time": "2022-02-10T21:40:51.926Z"
   },
   {
    "duration": 37,
    "start_time": "2022-02-10T21:40:51.988Z"
   },
   {
    "duration": 6,
    "start_time": "2022-02-10T21:40:52.029Z"
   },
   {
    "duration": 7,
    "start_time": "2022-02-10T21:40:54.571Z"
   },
   {
    "duration": 6,
    "start_time": "2022-02-10T21:40:55.411Z"
   },
   {
    "duration": 13,
    "start_time": "2022-02-10T21:41:09.551Z"
   },
   {
    "duration": 1538,
    "start_time": "2022-02-10T21:42:07.087Z"
   },
   {
    "duration": 563,
    "start_time": "2022-02-10T21:42:08.628Z"
   },
   {
    "duration": 25,
    "start_time": "2022-02-10T21:42:09.196Z"
   },
   {
    "duration": 29,
    "start_time": "2022-02-10T21:42:09.226Z"
   },
   {
    "duration": 12,
    "start_time": "2022-02-10T21:42:09.258Z"
   },
   {
    "duration": 60,
    "start_time": "2022-02-10T21:42:09.273Z"
   },
   {
    "duration": 12,
    "start_time": "2022-02-10T21:42:09.336Z"
   },
   {
    "duration": 22,
    "start_time": "2022-02-10T21:42:09.351Z"
   },
   {
    "duration": 13,
    "start_time": "2022-02-10T21:42:09.378Z"
   },
   {
    "duration": 10,
    "start_time": "2022-02-10T21:42:09.425Z"
   },
   {
    "duration": 18,
    "start_time": "2022-02-10T21:42:09.438Z"
   },
   {
    "duration": 12,
    "start_time": "2022-02-10T21:42:09.459Z"
   },
   {
    "duration": 77,
    "start_time": "2022-02-10T21:42:09.473Z"
   },
   {
    "duration": 92,
    "start_time": "2022-02-10T21:42:09.553Z"
   },
   {
    "duration": 13,
    "start_time": "2022-02-10T21:42:09.648Z"
   },
   {
    "duration": 22,
    "start_time": "2022-02-10T21:42:09.664Z"
   },
   {
    "duration": 4,
    "start_time": "2022-02-10T21:45:08.588Z"
   },
   {
    "duration": 724,
    "start_time": "2022-02-10T21:45:08.606Z"
   },
   {
    "duration": 12,
    "start_time": "2022-02-10T21:45:09.333Z"
   },
   {
    "duration": 28,
    "start_time": "2022-02-10T21:45:09.348Z"
   },
   {
    "duration": 45,
    "start_time": "2022-02-10T21:45:09.379Z"
   },
   {
    "duration": 27,
    "start_time": "2022-02-10T21:45:09.427Z"
   },
   {
    "duration": 11,
    "start_time": "2022-02-10T21:45:09.456Z"
   },
   {
    "duration": 55,
    "start_time": "2022-02-10T21:45:09.469Z"
   },
   {
    "duration": 13,
    "start_time": "2022-02-10T21:45:09.527Z"
   },
   {
    "duration": 13,
    "start_time": "2022-02-10T21:45:09.546Z"
   },
   {
    "duration": 39,
    "start_time": "2022-02-10T21:45:09.563Z"
   },
   {
    "duration": 14,
    "start_time": "2022-02-10T21:45:09.625Z"
   },
   {
    "duration": 30,
    "start_time": "2022-02-10T21:45:09.642Z"
   },
   {
    "duration": 104,
    "start_time": "2022-02-10T21:45:09.674Z"
   },
   {
    "duration": 12,
    "start_time": "2022-02-10T21:45:09.781Z"
   },
   {
    "duration": 31,
    "start_time": "2022-02-10T21:46:00.027Z"
   },
   {
    "duration": 11,
    "start_time": "2022-02-10T21:46:01.980Z"
   },
   {
    "duration": 1155,
    "start_time": "2022-02-11T21:01:25.136Z"
   },
   {
    "duration": 371,
    "start_time": "2022-02-11T21:01:26.293Z"
   },
   {
    "duration": 11,
    "start_time": "2022-02-11T21:01:26.666Z"
   },
   {
    "duration": 24,
    "start_time": "2022-02-11T21:01:26.679Z"
   },
   {
    "duration": 7,
    "start_time": "2022-02-11T21:01:26.705Z"
   },
   {
    "duration": 18,
    "start_time": "2022-02-11T21:01:26.714Z"
   },
   {
    "duration": 7,
    "start_time": "2022-02-11T21:01:26.733Z"
   },
   {
    "duration": 17,
    "start_time": "2022-02-11T21:01:26.759Z"
   },
   {
    "duration": 7,
    "start_time": "2022-02-11T21:01:26.779Z"
   },
   {
    "duration": 8,
    "start_time": "2022-02-11T21:01:26.788Z"
   },
   {
    "duration": 15,
    "start_time": "2022-02-11T21:01:26.797Z"
   },
   {
    "duration": 9,
    "start_time": "2022-02-11T21:01:26.814Z"
   },
   {
    "duration": 47,
    "start_time": "2022-02-11T21:01:26.825Z"
   },
   {
    "duration": 49,
    "start_time": "2022-02-11T21:01:26.874Z"
   },
   {
    "duration": 7,
    "start_time": "2022-02-11T21:01:26.925Z"
   },
   {
    "duration": 16,
    "start_time": "2022-02-11T21:01:29.540Z"
   },
   {
    "duration": 14,
    "start_time": "2022-02-11T21:02:37.372Z"
   },
   {
    "duration": 8,
    "start_time": "2022-02-11T21:03:20.039Z"
   },
   {
    "duration": 3,
    "start_time": "2022-02-11T21:03:25.216Z"
   },
   {
    "duration": 369,
    "start_time": "2022-02-11T21:03:25.220Z"
   },
   {
    "duration": 8,
    "start_time": "2022-02-11T21:03:25.591Z"
   },
   {
    "duration": 22,
    "start_time": "2022-02-11T21:03:25.600Z"
   },
   {
    "duration": 7,
    "start_time": "2022-02-11T21:03:25.624Z"
   },
   {
    "duration": 20,
    "start_time": "2022-02-11T21:03:25.633Z"
   },
   {
    "duration": 8,
    "start_time": "2022-02-11T21:03:25.659Z"
   },
   {
    "duration": 15,
    "start_time": "2022-02-11T21:03:25.669Z"
   },
   {
    "duration": 9,
    "start_time": "2022-02-11T21:03:25.687Z"
   },
   {
    "duration": 7,
    "start_time": "2022-02-11T21:03:25.698Z"
   },
   {
    "duration": 10,
    "start_time": "2022-02-11T21:03:25.707Z"
   },
   {
    "duration": 40,
    "start_time": "2022-02-11T21:03:25.719Z"
   },
   {
    "duration": 27,
    "start_time": "2022-02-11T21:03:25.760Z"
   },
   {
    "duration": 47,
    "start_time": "2022-02-11T21:03:25.788Z"
   },
   {
    "duration": 25,
    "start_time": "2022-02-11T21:03:25.837Z"
   },
   {
    "duration": 19,
    "start_time": "2022-02-11T21:03:25.863Z"
   },
   {
    "duration": 7,
    "start_time": "2022-02-11T21:03:25.884Z"
   },
   {
    "duration": 12,
    "start_time": "2022-02-11T21:03:36.395Z"
   },
   {
    "duration": 2,
    "start_time": "2022-02-11T21:05:50.242Z"
   },
   {
    "duration": 409,
    "start_time": "2022-02-11T21:05:50.246Z"
   },
   {
    "duration": 8,
    "start_time": "2022-02-11T21:05:50.657Z"
   },
   {
    "duration": 25,
    "start_time": "2022-02-11T21:05:50.667Z"
   },
   {
    "duration": 8,
    "start_time": "2022-02-11T21:05:50.694Z"
   },
   {
    "duration": 24,
    "start_time": "2022-02-11T21:05:50.704Z"
   },
   {
    "duration": 32,
    "start_time": "2022-02-11T21:05:50.729Z"
   },
   {
    "duration": 20,
    "start_time": "2022-02-11T21:05:50.763Z"
   },
   {
    "duration": 10,
    "start_time": "2022-02-11T21:05:50.786Z"
   },
   {
    "duration": 14,
    "start_time": "2022-02-11T21:05:50.798Z"
   },
   {
    "duration": 18,
    "start_time": "2022-02-11T21:05:50.814Z"
   },
   {
    "duration": 10,
    "start_time": "2022-02-11T21:05:50.834Z"
   },
   {
    "duration": 29,
    "start_time": "2022-02-11T21:05:50.846Z"
   },
   {
    "duration": 46,
    "start_time": "2022-02-11T21:05:50.877Z"
   },
   {
    "duration": 8,
    "start_time": "2022-02-11T21:05:50.924Z"
   },
   {
    "duration": 39,
    "start_time": "2022-02-11T21:05:50.933Z"
   },
   {
    "duration": 4556,
    "start_time": "2022-02-11T21:05:50.974Z"
   },
   {
    "duration": -286,
    "start_time": "2022-02-11T21:05:55.818Z"
   },
   {
    "duration": 15,
    "start_time": "2022-02-11T21:06:20.909Z"
   },
   {
    "duration": 4,
    "start_time": "2022-02-11T21:06:42.474Z"
   },
   {
    "duration": 411,
    "start_time": "2022-02-11T21:06:42.480Z"
   },
   {
    "duration": 11,
    "start_time": "2022-02-11T21:06:42.893Z"
   },
   {
    "duration": 28,
    "start_time": "2022-02-11T21:06:42.906Z"
   },
   {
    "duration": 8,
    "start_time": "2022-02-11T21:06:42.936Z"
   },
   {
    "duration": 22,
    "start_time": "2022-02-11T21:06:42.946Z"
   },
   {
    "duration": 8,
    "start_time": "2022-02-11T21:06:42.969Z"
   },
   {
    "duration": 23,
    "start_time": "2022-02-11T21:06:42.980Z"
   },
   {
    "duration": 11,
    "start_time": "2022-02-11T21:06:43.006Z"
   },
   {
    "duration": 10,
    "start_time": "2022-02-11T21:06:43.019Z"
   },
   {
    "duration": 38,
    "start_time": "2022-02-11T21:06:43.030Z"
   },
   {
    "duration": 9,
    "start_time": "2022-02-11T21:06:43.070Z"
   },
   {
    "duration": 30,
    "start_time": "2022-02-11T21:06:43.080Z"
   },
   {
    "duration": 77,
    "start_time": "2022-02-11T21:06:43.112Z"
   },
   {
    "duration": 8,
    "start_time": "2022-02-11T21:06:43.192Z"
   },
   {
    "duration": 22,
    "start_time": "2022-02-11T21:06:43.201Z"
   },
   {
    "duration": 53,
    "start_time": "2022-02-11T21:06:43.225Z"
   },
   {
    "duration": 15,
    "start_time": "2022-02-11T21:06:43.279Z"
   },
   {
    "duration": 3,
    "start_time": "2022-02-11T21:07:18.576Z"
   },
   {
    "duration": 386,
    "start_time": "2022-02-11T21:07:18.581Z"
   },
   {
    "duration": 7,
    "start_time": "2022-02-11T21:07:18.970Z"
   },
   {
    "duration": 23,
    "start_time": "2022-02-11T21:07:18.979Z"
   },
   {
    "duration": 11,
    "start_time": "2022-02-11T21:07:19.003Z"
   },
   {
    "duration": 21,
    "start_time": "2022-02-11T21:07:19.015Z"
   },
   {
    "duration": 24,
    "start_time": "2022-02-11T21:07:19.038Z"
   },
   {
    "duration": 15,
    "start_time": "2022-02-11T21:07:19.066Z"
   },
   {
    "duration": 10,
    "start_time": "2022-02-11T21:07:19.084Z"
   },
   {
    "duration": 8,
    "start_time": "2022-02-11T21:07:19.096Z"
   },
   {
    "duration": 14,
    "start_time": "2022-02-11T21:07:19.106Z"
   },
   {
    "duration": 44,
    "start_time": "2022-02-11T21:07:19.122Z"
   },
   {
    "duration": 24,
    "start_time": "2022-02-11T21:07:19.168Z"
   },
   {
    "duration": 45,
    "start_time": "2022-02-11T21:07:19.194Z"
   },
   {
    "duration": 25,
    "start_time": "2022-02-11T21:07:19.240Z"
   },
   {
    "duration": 18,
    "start_time": "2022-02-11T21:07:19.266Z"
   },
   {
    "duration": 14,
    "start_time": "2022-02-11T21:07:19.286Z"
   },
   {
    "duration": 33,
    "start_time": "2022-02-11T21:07:19.301Z"
   },
   {
    "duration": 17,
    "start_time": "2022-02-11T21:07:22.965Z"
   },
   {
    "duration": 8,
    "start_time": "2022-02-11T21:09:46.058Z"
   },
   {
    "duration": 11,
    "start_time": "2022-02-11T21:11:36.898Z"
   },
   {
    "duration": 28,
    "start_time": "2022-02-11T21:12:25.132Z"
   },
   {
    "duration": 9,
    "start_time": "2022-02-11T21:18:04.382Z"
   },
   {
    "duration": 8,
    "start_time": "2022-02-11T21:18:17.613Z"
   },
   {
    "duration": 6,
    "start_time": "2022-02-11T21:19:57.714Z"
   },
   {
    "duration": 11,
    "start_time": "2022-02-11T21:24:00.532Z"
   },
   {
    "duration": 9,
    "start_time": "2022-02-11T21:26:41.897Z"
   },
   {
    "duration": 18,
    "start_time": "2022-02-11T21:27:28.699Z"
   },
   {
    "duration": 3,
    "start_time": "2022-02-11T21:30:35.233Z"
   },
   {
    "duration": 418,
    "start_time": "2022-02-11T21:30:35.266Z"
   },
   {
    "duration": 9,
    "start_time": "2022-02-11T21:30:35.686Z"
   },
   {
    "duration": 27,
    "start_time": "2022-02-11T21:30:35.697Z"
   },
   {
    "duration": 8,
    "start_time": "2022-02-11T21:30:35.727Z"
   },
   {
    "duration": 20,
    "start_time": "2022-02-11T21:30:35.737Z"
   },
   {
    "duration": 7,
    "start_time": "2022-02-11T21:30:35.759Z"
   },
   {
    "duration": 22,
    "start_time": "2022-02-11T21:30:35.767Z"
   },
   {
    "duration": 15,
    "start_time": "2022-02-11T21:30:35.791Z"
   },
   {
    "duration": 11,
    "start_time": "2022-02-11T21:30:35.808Z"
   },
   {
    "duration": 13,
    "start_time": "2022-02-11T21:30:35.821Z"
   },
   {
    "duration": 23,
    "start_time": "2022-02-11T21:30:35.836Z"
   },
   {
    "duration": 22,
    "start_time": "2022-02-11T21:30:35.861Z"
   },
   {
    "duration": 47,
    "start_time": "2022-02-11T21:30:35.885Z"
   },
   {
    "duration": 29,
    "start_time": "2022-02-11T21:30:35.934Z"
   },
   {
    "duration": 28,
    "start_time": "2022-02-11T21:30:35.965Z"
   },
   {
    "duration": 16,
    "start_time": "2022-02-11T21:30:35.995Z"
   },
   {
    "duration": 51,
    "start_time": "2022-02-11T21:30:36.013Z"
   },
   {
    "duration": 10,
    "start_time": "2022-02-11T21:30:36.066Z"
   },
   {
    "duration": 29,
    "start_time": "2022-02-11T21:30:36.078Z"
   },
   {
    "duration": 5,
    "start_time": "2022-02-11T21:30:36.109Z"
   },
   {
    "duration": 11,
    "start_time": "2022-02-11T21:30:38.687Z"
   },
   {
    "duration": 11,
    "start_time": "2022-02-11T21:30:43.575Z"
   },
   {
    "duration": 5,
    "start_time": "2022-02-11T21:39:31.327Z"
   },
   {
    "duration": 8,
    "start_time": "2022-02-11T21:42:02.467Z"
   },
   {
    "duration": 1159,
    "start_time": "2022-02-11T21:43:25.638Z"
   },
   {
    "duration": 396,
    "start_time": "2022-02-11T21:43:26.799Z"
   },
   {
    "duration": 12,
    "start_time": "2022-02-11T21:43:27.197Z"
   },
   {
    "duration": 26,
    "start_time": "2022-02-11T21:43:27.211Z"
   },
   {
    "duration": 9,
    "start_time": "2022-02-11T21:43:27.238Z"
   },
   {
    "duration": 20,
    "start_time": "2022-02-11T21:43:27.249Z"
   },
   {
    "duration": 7,
    "start_time": "2022-02-11T21:43:27.270Z"
   },
   {
    "duration": 16,
    "start_time": "2022-02-11T21:43:27.279Z"
   },
   {
    "duration": 8,
    "start_time": "2022-02-11T21:43:27.298Z"
   },
   {
    "duration": 6,
    "start_time": "2022-02-11T21:43:27.308Z"
   },
   {
    "duration": 13,
    "start_time": "2022-02-11T21:43:27.316Z"
   },
   {
    "duration": 32,
    "start_time": "2022-02-11T21:43:27.330Z"
   },
   {
    "duration": 26,
    "start_time": "2022-02-11T21:43:27.364Z"
   },
   {
    "duration": 48,
    "start_time": "2022-02-11T21:43:27.392Z"
   },
   {
    "duration": 24,
    "start_time": "2022-02-11T21:43:27.442Z"
   },
   {
    "duration": 20,
    "start_time": "2022-02-11T21:43:27.468Z"
   },
   {
    "duration": 15,
    "start_time": "2022-02-11T21:43:27.490Z"
   },
   {
    "duration": 52,
    "start_time": "2022-02-11T21:43:27.507Z"
   },
   {
    "duration": 10,
    "start_time": "2022-02-11T21:43:27.561Z"
   },
   {
    "duration": 28,
    "start_time": "2022-02-11T21:43:27.573Z"
   },
   {
    "duration": 5,
    "start_time": "2022-02-11T21:43:27.603Z"
   },
   {
    "duration": 17,
    "start_time": "2022-02-11T21:43:27.609Z"
   },
   {
    "duration": 8,
    "start_time": "2022-02-11T21:48:46.299Z"
   },
   {
    "duration": 30,
    "start_time": "2022-02-11T21:53:18.919Z"
   },
   {
    "duration": 35,
    "start_time": "2022-02-11T21:53:31.860Z"
   },
   {
    "duration": 34,
    "start_time": "2022-02-11T21:55:39.132Z"
   },
   {
    "duration": 6,
    "start_time": "2022-02-11T21:56:11.703Z"
   },
   {
    "duration": 2,
    "start_time": "2022-02-11T22:09:38.215Z"
   },
   {
    "duration": 370,
    "start_time": "2022-02-11T22:09:38.219Z"
   },
   {
    "duration": 8,
    "start_time": "2022-02-11T22:09:38.590Z"
   },
   {
    "duration": 28,
    "start_time": "2022-02-11T22:09:38.599Z"
   },
   {
    "duration": 8,
    "start_time": "2022-02-11T22:09:38.629Z"
   },
   {
    "duration": 18,
    "start_time": "2022-02-11T22:09:38.638Z"
   },
   {
    "duration": 6,
    "start_time": "2022-02-11T22:09:38.658Z"
   },
   {
    "duration": 14,
    "start_time": "2022-02-11T22:09:38.666Z"
   },
   {
    "duration": 7,
    "start_time": "2022-02-11T22:09:38.681Z"
   },
   {
    "duration": 7,
    "start_time": "2022-02-11T22:09:38.690Z"
   },
   {
    "duration": 10,
    "start_time": "2022-02-11T22:09:38.699Z"
   },
   {
    "duration": 7,
    "start_time": "2022-02-11T22:09:38.711Z"
   },
   {
    "duration": 54,
    "start_time": "2022-02-11T22:09:38.719Z"
   },
   {
    "duration": 45,
    "start_time": "2022-02-11T22:09:38.775Z"
   },
   {
    "duration": 8,
    "start_time": "2022-02-11T22:09:38.822Z"
   },
   {
    "duration": 41,
    "start_time": "2022-02-11T22:09:38.832Z"
   },
   {
    "duration": 12,
    "start_time": "2022-02-11T22:09:38.874Z"
   },
   {
    "duration": 35,
    "start_time": "2022-02-11T22:09:38.888Z"
   },
   {
    "duration": 9,
    "start_time": "2022-02-11T22:09:38.926Z"
   },
   {
    "duration": 40,
    "start_time": "2022-02-11T22:09:38.937Z"
   },
   {
    "duration": 5,
    "start_time": "2022-02-11T22:09:38.978Z"
   },
   {
    "duration": 12,
    "start_time": "2022-02-11T22:09:38.984Z"
   },
   {
    "duration": 36,
    "start_time": "2022-02-11T22:09:38.997Z"
   },
   {
    "duration": 28,
    "start_time": "2022-02-11T22:09:39.034Z"
   },
   {
    "duration": 4,
    "start_time": "2022-02-11T22:09:43.183Z"
   },
   {
    "duration": 6,
    "start_time": "2022-02-11T22:09:53.894Z"
   },
   {
    "duration": 5,
    "start_time": "2022-02-11T22:11:10.939Z"
   },
   {
    "duration": 24,
    "start_time": "2022-02-11T22:12:26.427Z"
   },
   {
    "duration": 469,
    "start_time": "2022-02-11T22:13:02.965Z"
   },
   {
    "duration": 458,
    "start_time": "2022-02-11T22:13:27.403Z"
   },
   {
    "duration": 468,
    "start_time": "2022-02-11T22:14:32.267Z"
   },
   {
    "duration": 1512,
    "start_time": "2022-02-12T09:33:29.149Z"
   },
   {
    "duration": 1192,
    "start_time": "2022-02-12T09:33:30.665Z"
   },
   {
    "duration": 17,
    "start_time": "2022-02-12T09:33:31.860Z"
   },
   {
    "duration": 29,
    "start_time": "2022-02-12T09:33:31.880Z"
   },
   {
    "duration": 12,
    "start_time": "2022-02-12T09:33:31.911Z"
   },
   {
    "duration": 52,
    "start_time": "2022-02-12T09:33:31.925Z"
   },
   {
    "duration": 10,
    "start_time": "2022-02-12T09:33:31.980Z"
   },
   {
    "duration": 25,
    "start_time": "2022-02-12T09:33:31.993Z"
   },
   {
    "duration": 11,
    "start_time": "2022-02-12T09:33:32.021Z"
   },
   {
    "duration": 41,
    "start_time": "2022-02-12T09:33:32.034Z"
   },
   {
    "duration": 32,
    "start_time": "2022-02-12T09:33:32.077Z"
   },
   {
    "duration": 11,
    "start_time": "2022-02-12T09:33:32.112Z"
   },
   {
    "duration": 44,
    "start_time": "2022-02-12T09:33:32.125Z"
   },
   {
    "duration": 63,
    "start_time": "2022-02-12T09:33:32.171Z"
   },
   {
    "duration": 11,
    "start_time": "2022-02-12T09:33:32.236Z"
   },
   {
    "duration": 21,
    "start_time": "2022-02-12T09:33:32.269Z"
   },
   {
    "duration": 19,
    "start_time": "2022-02-12T09:33:32.292Z"
   },
   {
    "duration": 72,
    "start_time": "2022-02-12T09:33:32.314Z"
   },
   {
    "duration": 12,
    "start_time": "2022-02-12T09:33:32.388Z"
   },
   {
    "duration": 49,
    "start_time": "2022-02-12T09:33:32.402Z"
   },
   {
    "duration": 21,
    "start_time": "2022-02-12T09:33:32.453Z"
   },
   {
    "duration": 25,
    "start_time": "2022-02-12T09:33:32.478Z"
   },
   {
    "duration": 13,
    "start_time": "2022-02-12T09:33:34.909Z"
   },
   {
    "duration": 6,
    "start_time": "2022-02-12T09:34:47.220Z"
   },
   {
    "duration": 5,
    "start_time": "2022-02-12T09:34:59.490Z"
   },
   {
    "duration": 3,
    "start_time": "2022-02-12T09:35:19.831Z"
   },
   {
    "duration": 496,
    "start_time": "2022-02-12T09:35:19.837Z"
   },
   {
    "duration": 11,
    "start_time": "2022-02-12T09:35:20.337Z"
   },
   {
    "duration": 31,
    "start_time": "2022-02-12T09:35:20.351Z"
   },
   {
    "duration": 12,
    "start_time": "2022-02-12T09:35:20.385Z"
   },
   {
    "duration": 25,
    "start_time": "2022-02-12T09:35:20.399Z"
   },
   {
    "duration": 11,
    "start_time": "2022-02-12T09:35:20.426Z"
   },
   {
    "duration": 20,
    "start_time": "2022-02-12T09:35:20.474Z"
   },
   {
    "duration": 13,
    "start_time": "2022-02-12T09:35:20.498Z"
   },
   {
    "duration": 11,
    "start_time": "2022-02-12T09:35:20.513Z"
   },
   {
    "duration": 53,
    "start_time": "2022-02-12T09:35:20.527Z"
   },
   {
    "duration": 11,
    "start_time": "2022-02-12T09:35:20.582Z"
   },
   {
    "duration": 30,
    "start_time": "2022-02-12T09:35:20.596Z"
   },
   {
    "duration": 95,
    "start_time": "2022-02-12T09:35:20.629Z"
   },
   {
    "duration": 12,
    "start_time": "2022-02-12T09:35:20.726Z"
   },
   {
    "duration": 40,
    "start_time": "2022-02-12T09:35:20.740Z"
   },
   {
    "duration": 18,
    "start_time": "2022-02-12T09:35:20.783Z"
   },
   {
    "duration": 65,
    "start_time": "2022-02-12T09:35:20.804Z"
   },
   {
    "duration": 14,
    "start_time": "2022-02-12T09:35:20.872Z"
   },
   {
    "duration": 38,
    "start_time": "2022-02-12T09:35:20.888Z"
   },
   {
    "duration": 43,
    "start_time": "2022-02-12T09:35:20.928Z"
   },
   {
    "duration": 16,
    "start_time": "2022-02-12T09:35:20.974Z"
   },
   {
    "duration": 41,
    "start_time": "2022-02-12T09:35:20.994Z"
   },
   {
    "duration": 32,
    "start_time": "2022-02-12T09:35:23.285Z"
   },
   {
    "duration": 12,
    "start_time": "2022-02-12T09:35:23.724Z"
   },
   {
    "duration": 3,
    "start_time": "2022-02-12T09:35:39.416Z"
   },
   {
    "duration": 508,
    "start_time": "2022-02-12T09:35:39.422Z"
   },
   {
    "duration": 14,
    "start_time": "2022-02-12T09:35:39.933Z"
   },
   {
    "duration": 31,
    "start_time": "2022-02-12T09:35:39.950Z"
   },
   {
    "duration": 14,
    "start_time": "2022-02-12T09:35:39.984Z"
   },
   {
    "duration": 29,
    "start_time": "2022-02-12T09:35:40.000Z"
   },
   {
    "duration": 10,
    "start_time": "2022-02-12T09:35:40.032Z"
   },
   {
    "duration": 21,
    "start_time": "2022-02-12T09:35:40.070Z"
   },
   {
    "duration": 15,
    "start_time": "2022-02-12T09:35:40.095Z"
   },
   {
    "duration": 20,
    "start_time": "2022-02-12T09:35:40.113Z"
   },
   {
    "duration": 48,
    "start_time": "2022-02-12T09:35:40.135Z"
   },
   {
    "duration": 17,
    "start_time": "2022-02-12T09:35:40.185Z"
   },
   {
    "duration": 25,
    "start_time": "2022-02-12T09:35:40.205Z"
   },
   {
    "duration": 84,
    "start_time": "2022-02-12T09:35:40.233Z"
   },
   {
    "duration": 11,
    "start_time": "2022-02-12T09:35:40.320Z"
   },
   {
    "duration": 46,
    "start_time": "2022-02-12T09:35:40.334Z"
   },
   {
    "duration": 19,
    "start_time": "2022-02-12T09:35:40.382Z"
   },
   {
    "duration": 42,
    "start_time": "2022-02-12T09:35:40.403Z"
   },
   {
    "duration": 34,
    "start_time": "2022-02-12T09:35:40.447Z"
   },
   {
    "duration": 38,
    "start_time": "2022-02-12T09:35:40.484Z"
   },
   {
    "duration": 7,
    "start_time": "2022-02-12T09:35:40.525Z"
   },
   {
    "duration": 46,
    "start_time": "2022-02-12T09:35:40.534Z"
   },
   {
    "duration": 44,
    "start_time": "2022-02-12T09:35:40.583Z"
   },
   {
    "duration": 1207,
    "start_time": "2022-02-12T09:38:07.798Z"
   },
   {
    "duration": 116,
    "start_time": "2022-02-12T09:38:22.044Z"
   },
   {
    "duration": 57,
    "start_time": "2022-02-12T09:39:00.356Z"
   },
   {
    "duration": 4,
    "start_time": "2022-02-12T09:41:46.318Z"
   },
   {
    "duration": 564,
    "start_time": "2022-02-12T09:41:46.325Z"
   },
   {
    "duration": 12,
    "start_time": "2022-02-12T09:41:46.892Z"
   },
   {
    "duration": 31,
    "start_time": "2022-02-12T09:41:46.907Z"
   },
   {
    "duration": 28,
    "start_time": "2022-02-12T09:41:50.699Z"
   },
   {
    "duration": 115,
    "start_time": "2022-02-12T09:41:51.437Z"
   },
   {
    "duration": 13,
    "start_time": "2022-02-12T09:41:58.824Z"
   },
   {
    "duration": 32,
    "start_time": "2022-02-12T09:41:59.625Z"
   },
   {
    "duration": 93,
    "start_time": "2022-02-12T09:42:18.685Z"
   },
   {
    "duration": 59,
    "start_time": "2022-02-12T09:42:35.039Z"
   },
   {
    "duration": 11,
    "start_time": "2022-02-12T09:45:51.421Z"
   },
   {
    "duration": 3,
    "start_time": "2022-02-12T09:46:07.267Z"
   },
   {
    "duration": 531,
    "start_time": "2022-02-12T09:46:07.273Z"
   },
   {
    "duration": 13,
    "start_time": "2022-02-12T09:46:07.808Z"
   },
   {
    "duration": 42,
    "start_time": "2022-02-12T09:46:07.825Z"
   },
   {
    "duration": 129,
    "start_time": "2022-02-12T09:46:07.870Z"
   },
   {
    "duration": 13,
    "start_time": "2022-02-12T09:46:08.002Z"
   },
   {
    "duration": 32,
    "start_time": "2022-02-12T09:46:08.019Z"
   },
   {
    "duration": 117,
    "start_time": "2022-02-12T09:46:08.054Z"
   },
   {
    "duration": 10,
    "start_time": "2022-02-12T09:46:08.173Z"
   },
   {
    "duration": 31,
    "start_time": "2022-02-12T09:46:08.185Z"
   },
   {
    "duration": 72,
    "start_time": "2022-02-12T09:46:08.219Z"
   },
   {
    "duration": 11,
    "start_time": "2022-02-12T09:46:08.294Z"
   },
   {
    "duration": 11,
    "start_time": "2022-02-12T09:46:08.307Z"
   },
   {
    "duration": 23,
    "start_time": "2022-02-12T09:46:08.320Z"
   },
   {
    "duration": 10,
    "start_time": "2022-02-12T09:46:08.369Z"
   },
   {
    "duration": 28,
    "start_time": "2022-02-12T09:46:08.381Z"
   },
   {
    "duration": 83,
    "start_time": "2022-02-12T09:46:08.412Z"
   },
   {
    "duration": 11,
    "start_time": "2022-02-12T09:46:08.497Z"
   },
   {
    "duration": 25,
    "start_time": "2022-02-12T09:46:08.513Z"
   },
   {
    "duration": 42,
    "start_time": "2022-02-12T09:46:08.541Z"
   },
   {
    "duration": 42,
    "start_time": "2022-02-12T09:46:08.586Z"
   },
   {
    "duration": 48,
    "start_time": "2022-02-12T09:46:08.631Z"
   },
   {
    "duration": 36,
    "start_time": "2022-02-12T09:46:08.682Z"
   },
   {
    "duration": 7,
    "start_time": "2022-02-12T09:46:08.720Z"
   },
   {
    "duration": 45,
    "start_time": "2022-02-12T09:46:08.729Z"
   },
   {
    "duration": 40,
    "start_time": "2022-02-12T09:46:08.777Z"
   },
   {
    "duration": 63,
    "start_time": "2022-02-12T09:46:23.324Z"
   },
   {
    "duration": 58,
    "start_time": "2022-02-12T09:46:56.146Z"
   },
   {
    "duration": 42,
    "start_time": "2022-02-12T09:47:02.662Z"
   },
   {
    "duration": 41,
    "start_time": "2022-02-12T09:47:09.678Z"
   },
   {
    "duration": 58,
    "start_time": "2022-02-12T09:47:25.332Z"
   },
   {
    "duration": 59,
    "start_time": "2022-02-12T09:48:02.606Z"
   },
   {
    "duration": 59,
    "start_time": "2022-02-12T09:48:19.600Z"
   },
   {
    "duration": 51,
    "start_time": "2022-02-12T09:48:32.925Z"
   },
   {
    "duration": 104,
    "start_time": "2022-02-12T09:49:04.974Z"
   },
   {
    "duration": 7,
    "start_time": "2022-02-12T09:49:28.612Z"
   },
   {
    "duration": 52,
    "start_time": "2022-02-12T09:50:51.029Z"
   },
   {
    "duration": 4,
    "start_time": "2022-02-12T09:52:02.969Z"
   },
   {
    "duration": 542,
    "start_time": "2022-02-12T09:52:02.975Z"
   },
   {
    "duration": 12,
    "start_time": "2022-02-12T09:52:03.519Z"
   },
   {
    "duration": 34,
    "start_time": "2022-02-12T09:52:03.534Z"
   },
   {
    "duration": 121,
    "start_time": "2022-02-12T09:52:03.570Z"
   },
   {
    "duration": 12,
    "start_time": "2022-02-12T09:52:03.694Z"
   },
   {
    "duration": 38,
    "start_time": "2022-02-12T09:52:03.709Z"
   },
   {
    "duration": 110,
    "start_time": "2022-02-12T09:52:03.751Z"
   },
   {
    "duration": 12,
    "start_time": "2022-02-12T09:52:03.870Z"
   },
   {
    "duration": 25,
    "start_time": "2022-02-12T09:52:03.884Z"
   },
   {
    "duration": 90,
    "start_time": "2022-02-12T09:52:03.912Z"
   },
   {
    "duration": 12,
    "start_time": "2022-02-12T09:52:04.005Z"
   },
   {
    "duration": 12,
    "start_time": "2022-02-12T09:52:04.020Z"
   },
   {
    "duration": 47,
    "start_time": "2022-02-12T09:52:04.035Z"
   },
   {
    "duration": 11,
    "start_time": "2022-02-12T09:52:04.085Z"
   },
   {
    "duration": 20,
    "start_time": "2022-02-12T09:52:04.099Z"
   },
   {
    "duration": 93,
    "start_time": "2022-02-12T09:52:04.122Z"
   },
   {
    "duration": 12,
    "start_time": "2022-02-12T09:52:04.217Z"
   },
   {
    "duration": 41,
    "start_time": "2022-02-12T09:52:04.234Z"
   },
   {
    "duration": 19,
    "start_time": "2022-02-12T09:52:04.278Z"
   },
   {
    "duration": 60,
    "start_time": "2022-02-12T09:52:04.299Z"
   },
   {
    "duration": 12,
    "start_time": "2022-02-12T09:52:04.369Z"
   },
   {
    "duration": 40,
    "start_time": "2022-02-12T09:52:04.384Z"
   },
   {
    "duration": 8,
    "start_time": "2022-02-12T09:52:04.426Z"
   },
   {
    "duration": 44,
    "start_time": "2022-02-12T09:52:04.436Z"
   },
   {
    "duration": 40,
    "start_time": "2022-02-12T09:52:04.482Z"
   },
   {
    "duration": 58,
    "start_time": "2022-02-12T09:52:06.757Z"
   },
   {
    "duration": 56,
    "start_time": "2022-02-12T09:52:40.891Z"
   },
   {
    "duration": 92,
    "start_time": "2022-02-12T09:53:50.109Z"
   },
   {
    "duration": 53,
    "start_time": "2022-02-12T09:55:47.931Z"
   },
   {
    "duration": 52,
    "start_time": "2022-02-12T09:56:02.777Z"
   },
   {
    "duration": 53,
    "start_time": "2022-02-12T09:56:08.296Z"
   },
   {
    "duration": 57,
    "start_time": "2022-02-12T09:56:21.674Z"
   },
   {
    "duration": 10,
    "start_time": "2022-02-12T09:57:28.094Z"
   },
   {
    "duration": 9,
    "start_time": "2022-02-12T09:58:24.102Z"
   },
   {
    "duration": 4,
    "start_time": "2022-02-12T09:58:51.977Z"
   },
   {
    "duration": 550,
    "start_time": "2022-02-12T09:58:51.983Z"
   },
   {
    "duration": 12,
    "start_time": "2022-02-12T09:58:52.536Z"
   },
   {
    "duration": 30,
    "start_time": "2022-02-12T09:58:52.551Z"
   },
   {
    "duration": 131,
    "start_time": "2022-02-12T09:58:52.583Z"
   },
   {
    "duration": 13,
    "start_time": "2022-02-12T09:58:52.716Z"
   },
   {
    "duration": 42,
    "start_time": "2022-02-12T09:58:52.732Z"
   },
   {
    "duration": 107,
    "start_time": "2022-02-12T09:58:52.776Z"
   },
   {
    "duration": 10,
    "start_time": "2022-02-12T09:58:52.888Z"
   },
   {
    "duration": 24,
    "start_time": "2022-02-12T09:58:52.902Z"
   },
   {
    "duration": 87,
    "start_time": "2022-02-12T09:58:52.929Z"
   },
   {
    "duration": 13,
    "start_time": "2022-02-12T09:58:53.019Z"
   },
   {
    "duration": 41,
    "start_time": "2022-02-12T09:58:53.035Z"
   },
   {
    "duration": 21,
    "start_time": "2022-02-12T09:58:53.079Z"
   },
   {
    "duration": 11,
    "start_time": "2022-02-12T09:58:53.103Z"
   },
   {
    "duration": 62,
    "start_time": "2022-02-12T09:58:53.117Z"
   },
   {
    "duration": 113,
    "start_time": "2022-02-12T09:58:53.182Z"
   },
   {
    "duration": 14,
    "start_time": "2022-02-12T09:58:53.298Z"
   },
   {
    "duration": 18,
    "start_time": "2022-02-12T09:58:53.315Z"
   },
   {
    "duration": 48,
    "start_time": "2022-02-12T09:58:53.336Z"
   },
   {
    "duration": 44,
    "start_time": "2022-02-12T09:58:53.387Z"
   },
   {
    "duration": 50,
    "start_time": "2022-02-12T09:58:53.434Z"
   },
   {
    "duration": 57,
    "start_time": "2022-02-12T09:58:53.487Z"
   },
   {
    "duration": 29,
    "start_time": "2022-02-12T09:58:53.547Z"
   },
   {
    "duration": 15,
    "start_time": "2022-02-12T09:58:53.579Z"
   },
   {
    "duration": 72,
    "start_time": "2022-02-12T09:58:53.597Z"
   },
   {
    "duration": 58,
    "start_time": "2022-02-12T09:58:53.675Z"
   },
   {
    "duration": 33,
    "start_time": "2022-02-12T09:58:53.737Z"
   },
   {
    "duration": 59,
    "start_time": "2022-02-12T09:58:53.773Z"
   },
   {
    "duration": 35,
    "start_time": "2022-02-12T09:58:53.836Z"
   },
   {
    "duration": 826,
    "start_time": "2022-02-12T10:00:24.097Z"
   },
   {
    "duration": 98,
    "start_time": "2022-02-12T10:06:01.146Z"
   },
   {
    "duration": 1445,
    "start_time": "2022-02-12T10:06:27.400Z"
   },
   {
    "duration": 517,
    "start_time": "2022-02-12T10:06:28.847Z"
   },
   {
    "duration": 16,
    "start_time": "2022-02-12T10:06:29.367Z"
   },
   {
    "duration": 35,
    "start_time": "2022-02-12T10:06:29.386Z"
   },
   {
    "duration": 200,
    "start_time": "2022-02-12T10:06:29.423Z"
   },
   {
    "duration": 17,
    "start_time": "2022-02-12T10:06:29.626Z"
   },
   {
    "duration": 55,
    "start_time": "2022-02-12T10:06:29.646Z"
   },
   {
    "duration": 126,
    "start_time": "2022-02-12T10:06:29.706Z"
   },
   {
    "duration": 10,
    "start_time": "2022-02-12T10:06:29.835Z"
   },
   {
    "duration": 36,
    "start_time": "2022-02-12T10:06:29.847Z"
   },
   {
    "duration": 62,
    "start_time": "2022-02-12T10:06:29.885Z"
   },
   {
    "duration": 12,
    "start_time": "2022-02-12T10:06:29.969Z"
   },
   {
    "duration": 13,
    "start_time": "2022-02-12T10:06:29.984Z"
   },
   {
    "duration": 25,
    "start_time": "2022-02-12T10:06:29.999Z"
   },
   {
    "duration": 11,
    "start_time": "2022-02-12T10:06:30.027Z"
   },
   {
    "duration": 34,
    "start_time": "2022-02-12T10:06:30.069Z"
   },
   {
    "duration": 91,
    "start_time": "2022-02-12T10:06:30.106Z"
   },
   {
    "duration": 11,
    "start_time": "2022-02-12T10:06:30.200Z"
   },
   {
    "duration": 37,
    "start_time": "2022-02-12T10:06:30.213Z"
   },
   {
    "duration": 36,
    "start_time": "2022-02-12T10:06:30.252Z"
   },
   {
    "duration": 41,
    "start_time": "2022-02-12T10:06:30.290Z"
   },
   {
    "duration": 39,
    "start_time": "2022-02-12T10:06:30.333Z"
   },
   {
    "duration": 39,
    "start_time": "2022-02-12T10:06:30.376Z"
   },
   {
    "duration": 7,
    "start_time": "2022-02-12T10:06:30.417Z"
   },
   {
    "duration": 45,
    "start_time": "2022-02-12T10:06:30.426Z"
   },
   {
    "duration": 4,
    "start_time": "2022-02-12T10:35:55.755Z"
   },
   {
    "duration": 530,
    "start_time": "2022-02-12T10:35:55.761Z"
   },
   {
    "duration": 11,
    "start_time": "2022-02-12T10:35:56.294Z"
   },
   {
    "duration": 29,
    "start_time": "2022-02-12T10:35:56.307Z"
   },
   {
    "duration": 123,
    "start_time": "2022-02-12T10:35:56.338Z"
   },
   {
    "duration": 16,
    "start_time": "2022-02-12T10:35:56.463Z"
   },
   {
    "duration": 29,
    "start_time": "2022-02-12T10:35:56.482Z"
   },
   {
    "duration": 121,
    "start_time": "2022-02-12T10:35:56.514Z"
   },
   {
    "duration": 11,
    "start_time": "2022-02-12T10:35:56.637Z"
   },
   {
    "duration": 34,
    "start_time": "2022-02-12T10:35:56.650Z"
   },
   {
    "duration": 60,
    "start_time": "2022-02-12T10:35:56.687Z"
   },
   {
    "duration": 28,
    "start_time": "2022-02-12T10:35:56.749Z"
   },
   {
    "duration": 10,
    "start_time": "2022-02-12T10:35:56.780Z"
   },
   {
    "duration": 15,
    "start_time": "2022-02-12T10:35:56.792Z"
   },
   {
    "duration": 15,
    "start_time": "2022-02-12T10:35:56.809Z"
   },
   {
    "duration": 63,
    "start_time": "2022-02-12T10:35:56.827Z"
   },
   {
    "duration": 61,
    "start_time": "2022-02-12T10:35:56.893Z"
   },
   {
    "duration": 22,
    "start_time": "2022-02-12T10:35:56.956Z"
   },
   {
    "duration": 21,
    "start_time": "2022-02-12T10:35:56.982Z"
   },
   {
    "duration": 27,
    "start_time": "2022-02-12T10:35:57.006Z"
   },
   {
    "duration": 69,
    "start_time": "2022-02-12T10:35:57.035Z"
   },
   {
    "duration": 15,
    "start_time": "2022-02-12T10:35:57.106Z"
   },
   {
    "duration": 70,
    "start_time": "2022-02-12T10:35:57.123Z"
   },
   {
    "duration": 8,
    "start_time": "2022-02-12T10:35:57.195Z"
   },
   {
    "duration": 30,
    "start_time": "2022-02-12T10:35:57.206Z"
   },
   {
    "duration": 332,
    "start_time": "2022-02-12T10:36:40.482Z"
   },
   {
    "duration": 1578,
    "start_time": "2022-02-12T10:36:47.998Z"
   },
   {
    "duration": 1120,
    "start_time": "2022-02-12T10:36:49.579Z"
   },
   {
    "duration": 20,
    "start_time": "2022-02-12T10:36:50.703Z"
   },
   {
    "duration": 28,
    "start_time": "2022-02-12T10:36:50.726Z"
   },
   {
    "duration": 144,
    "start_time": "2022-02-12T10:36:50.757Z"
   },
   {
    "duration": 13,
    "start_time": "2022-02-12T10:36:50.904Z"
   },
   {
    "duration": 27,
    "start_time": "2022-02-12T10:36:50.920Z"
   },
   {
    "duration": 131,
    "start_time": "2022-02-12T10:36:50.971Z"
   },
   {
    "duration": 10,
    "start_time": "2022-02-12T10:36:51.105Z"
   },
   {
    "duration": 21,
    "start_time": "2022-02-12T10:36:51.117Z"
   },
   {
    "duration": 87,
    "start_time": "2022-02-12T10:36:51.140Z"
   },
   {
    "duration": 11,
    "start_time": "2022-02-12T10:36:51.230Z"
   },
   {
    "duration": 30,
    "start_time": "2022-02-12T10:36:51.244Z"
   },
   {
    "duration": 16,
    "start_time": "2022-02-12T10:36:51.276Z"
   },
   {
    "duration": 15,
    "start_time": "2022-02-12T10:36:51.294Z"
   },
   {
    "duration": 59,
    "start_time": "2022-02-12T10:36:51.312Z"
   },
   {
    "duration": 65,
    "start_time": "2022-02-12T10:36:51.373Z"
   },
   {
    "duration": 30,
    "start_time": "2022-02-12T10:36:51.441Z"
   },
   {
    "duration": 25,
    "start_time": "2022-02-12T10:36:51.474Z"
   },
   {
    "duration": 20,
    "start_time": "2022-02-12T10:36:51.501Z"
   },
   {
    "duration": 71,
    "start_time": "2022-02-12T10:36:51.523Z"
   },
   {
    "duration": 14,
    "start_time": "2022-02-12T10:36:51.596Z"
   },
   {
    "duration": 69,
    "start_time": "2022-02-12T10:36:51.614Z"
   },
   {
    "duration": 7,
    "start_time": "2022-02-12T10:36:51.686Z"
   },
   {
    "duration": 17,
    "start_time": "2022-02-12T10:36:51.695Z"
   },
   {
    "duration": 1497,
    "start_time": "2022-02-12T10:57:27.960Z"
   },
   {
    "duration": 1184,
    "start_time": "2022-02-12T10:57:29.460Z"
   },
   {
    "duration": 16,
    "start_time": "2022-02-12T10:57:30.647Z"
   },
   {
    "duration": 42,
    "start_time": "2022-02-12T10:57:30.666Z"
   },
   {
    "duration": 140,
    "start_time": "2022-02-12T10:57:30.710Z"
   },
   {
    "duration": 21,
    "start_time": "2022-02-12T10:57:30.853Z"
   },
   {
    "duration": 35,
    "start_time": "2022-02-12T10:57:30.876Z"
   },
   {
    "duration": 148,
    "start_time": "2022-02-12T10:57:30.915Z"
   },
   {
    "duration": 12,
    "start_time": "2022-02-12T10:57:31.069Z"
   },
   {
    "duration": 32,
    "start_time": "2022-02-12T10:57:31.083Z"
   },
   {
    "duration": 90,
    "start_time": "2022-02-12T10:57:31.118Z"
   },
   {
    "duration": 12,
    "start_time": "2022-02-12T10:57:31.210Z"
   },
   {
    "duration": 22,
    "start_time": "2022-02-12T10:57:31.224Z"
   },
   {
    "duration": 33,
    "start_time": "2022-02-12T10:57:31.249Z"
   },
   {
    "duration": 17,
    "start_time": "2022-02-12T10:57:31.285Z"
   },
   {
    "duration": 44,
    "start_time": "2022-02-12T10:57:31.304Z"
   },
   {
    "duration": 77,
    "start_time": "2022-02-12T10:57:31.350Z"
   },
   {
    "duration": 11,
    "start_time": "2022-02-12T10:57:31.430Z"
   },
   {
    "duration": 43,
    "start_time": "2022-02-12T10:57:31.443Z"
   },
   {
    "duration": 20,
    "start_time": "2022-02-12T10:57:31.488Z"
   },
   {
    "duration": 73,
    "start_time": "2022-02-12T10:57:31.510Z"
   },
   {
    "duration": 15,
    "start_time": "2022-02-12T10:57:31.585Z"
   },
   {
    "duration": 63,
    "start_time": "2022-02-12T10:57:31.606Z"
   },
   {
    "duration": 8,
    "start_time": "2022-02-12T10:57:31.672Z"
   },
   {
    "duration": 23,
    "start_time": "2022-02-12T10:57:31.683Z"
   },
   {
    "duration": 68,
    "start_time": "2022-02-12T10:57:31.709Z"
   },
   {
    "duration": 61,
    "start_time": "2022-02-12T10:57:31.780Z"
   },
   {
    "duration": 26,
    "start_time": "2022-02-12T10:57:31.845Z"
   },
   {
    "duration": 61,
    "start_time": "2022-02-12T10:57:31.874Z"
   },
   {
    "duration": 11,
    "start_time": "2022-02-12T10:57:31.970Z"
   },
   {
    "duration": 900,
    "start_time": "2022-02-12T10:57:31.985Z"
   },
   {
    "duration": 508,
    "start_time": "2022-02-12T10:58:39.359Z"
   },
   {
    "duration": 31,
    "start_time": "2022-02-12T10:58:54.720Z"
   },
   {
    "duration": 323,
    "start_time": "2022-02-12T11:00:53.039Z"
   },
   {
    "duration": 61,
    "start_time": "2022-02-12T11:01:30.062Z"
   },
   {
    "duration": 9,
    "start_time": "2022-02-12T11:01:53.995Z"
   },
   {
    "duration": 12,
    "start_time": "2022-02-12T12:02:20.712Z"
   },
   {
    "duration": 35,
    "start_time": "2022-02-12T12:03:05.648Z"
   },
   {
    "duration": 54,
    "start_time": "2022-02-12T12:15:47.831Z"
   },
   {
    "duration": 14,
    "start_time": "2022-02-12T12:20:05.971Z"
   },
   {
    "duration": 41,
    "start_time": "2022-02-12T12:20:17.293Z"
   },
   {
    "duration": 22,
    "start_time": "2022-02-12T12:20:44.354Z"
   },
   {
    "duration": 4,
    "start_time": "2022-02-12T12:21:32.416Z"
   },
   {
    "duration": 500,
    "start_time": "2022-02-12T12:21:32.422Z"
   },
   {
    "duration": 12,
    "start_time": "2022-02-12T12:21:32.926Z"
   },
   {
    "duration": 33,
    "start_time": "2022-02-12T12:21:32.941Z"
   },
   {
    "duration": 132,
    "start_time": "2022-02-12T12:21:32.976Z"
   },
   {
    "duration": 12,
    "start_time": "2022-02-12T12:21:33.111Z"
   },
   {
    "duration": 47,
    "start_time": "2022-02-12T12:21:33.126Z"
   },
   {
    "duration": 119,
    "start_time": "2022-02-12T12:21:33.176Z"
   },
   {
    "duration": 11,
    "start_time": "2022-02-12T12:21:33.299Z"
   },
   {
    "duration": 22,
    "start_time": "2022-02-12T12:21:33.313Z"
   },
   {
    "duration": 78,
    "start_time": "2022-02-12T12:21:33.338Z"
   },
   {
    "duration": 12,
    "start_time": "2022-02-12T12:21:33.418Z"
   },
   {
    "duration": 11,
    "start_time": "2022-02-12T12:21:33.433Z"
   },
   {
    "duration": 15,
    "start_time": "2022-02-12T12:21:33.470Z"
   },
   {
    "duration": 9,
    "start_time": "2022-02-12T12:21:33.487Z"
   },
   {
    "duration": 20,
    "start_time": "2022-02-12T12:21:33.499Z"
   },
   {
    "duration": 94,
    "start_time": "2022-02-12T12:21:33.522Z"
   },
   {
    "duration": 12,
    "start_time": "2022-02-12T12:21:33.619Z"
   },
   {
    "duration": 44,
    "start_time": "2022-02-12T12:21:33.633Z"
   },
   {
    "duration": 20,
    "start_time": "2022-02-12T12:21:33.679Z"
   },
   {
    "duration": 68,
    "start_time": "2022-02-12T12:21:33.701Z"
   },
   {
    "duration": 14,
    "start_time": "2022-02-12T12:21:33.772Z"
   },
   {
    "duration": 38,
    "start_time": "2022-02-12T12:21:33.788Z"
   },
   {
    "duration": 7,
    "start_time": "2022-02-12T12:21:33.830Z"
   },
   {
    "duration": 15,
    "start_time": "2022-02-12T12:21:33.870Z"
   },
   {
    "duration": 49,
    "start_time": "2022-02-12T12:21:33.888Z"
   },
   {
    "duration": 76,
    "start_time": "2022-02-12T12:21:33.944Z"
   },
   {
    "duration": 11,
    "start_time": "2022-02-12T12:21:34.024Z"
   },
   {
    "duration": 85,
    "start_time": "2022-02-12T12:21:34.038Z"
   },
   {
    "duration": 10,
    "start_time": "2022-02-12T12:21:34.126Z"
   },
   {
    "duration": 875,
    "start_time": "2022-02-12T12:21:34.139Z"
   },
   {
    "duration": 31,
    "start_time": "2022-02-12T12:21:35.017Z"
   },
   {
    "duration": 60,
    "start_time": "2022-02-12T12:21:35.070Z"
   },
   {
    "duration": 10,
    "start_time": "2022-02-12T12:21:35.133Z"
   },
   {
    "duration": 35,
    "start_time": "2022-02-12T12:21:35.170Z"
   },
   {
    "duration": 36,
    "start_time": "2022-02-12T12:21:52.385Z"
   },
   {
    "duration": 50,
    "start_time": "2022-02-12T12:21:53.859Z"
   },
   {
    "duration": 22,
    "start_time": "2022-02-12T12:23:14.124Z"
   },
   {
    "duration": 10,
    "start_time": "2022-02-12T12:23:29.786Z"
   },
   {
    "duration": 11,
    "start_time": "2022-02-12T13:14:51.249Z"
   },
   {
    "duration": 15,
    "start_time": "2022-02-12T13:17:19.641Z"
   },
   {
    "duration": 46,
    "start_time": "2022-02-12T13:20:43.908Z"
   },
   {
    "duration": 3,
    "start_time": "2022-02-12T13:21:08.516Z"
   },
   {
    "duration": 517,
    "start_time": "2022-02-12T13:21:08.522Z"
   },
   {
    "duration": 11,
    "start_time": "2022-02-12T13:21:09.042Z"
   },
   {
    "duration": 28,
    "start_time": "2022-02-12T13:21:09.056Z"
   },
   {
    "duration": 133,
    "start_time": "2022-02-12T13:21:09.086Z"
   },
   {
    "duration": 12,
    "start_time": "2022-02-12T13:21:09.222Z"
   },
   {
    "duration": 43,
    "start_time": "2022-02-12T13:21:09.237Z"
   },
   {
    "duration": 106,
    "start_time": "2022-02-12T13:21:09.283Z"
   },
   {
    "duration": 11,
    "start_time": "2022-02-12T13:21:09.391Z"
   },
   {
    "duration": 21,
    "start_time": "2022-02-12T13:21:09.404Z"
   },
   {
    "duration": 85,
    "start_time": "2022-02-12T13:21:09.427Z"
   },
   {
    "duration": 12,
    "start_time": "2022-02-12T13:21:09.514Z"
   },
   {
    "duration": 9,
    "start_time": "2022-02-12T13:21:09.529Z"
   },
   {
    "duration": 36,
    "start_time": "2022-02-12T13:21:09.540Z"
   },
   {
    "duration": 10,
    "start_time": "2022-02-12T13:21:09.578Z"
   },
   {
    "duration": 20,
    "start_time": "2022-02-12T13:21:09.590Z"
   },
   {
    "duration": 100,
    "start_time": "2022-02-12T13:21:09.612Z"
   },
   {
    "duration": 11,
    "start_time": "2022-02-12T13:21:09.715Z"
   },
   {
    "duration": 41,
    "start_time": "2022-02-12T13:21:09.731Z"
   },
   {
    "duration": 20,
    "start_time": "2022-02-12T13:21:09.775Z"
   },
   {
    "duration": 41,
    "start_time": "2022-02-12T13:21:09.797Z"
   },
   {
    "duration": 38,
    "start_time": "2022-02-12T13:21:09.841Z"
   },
   {
    "duration": 38,
    "start_time": "2022-02-12T13:21:09.882Z"
   },
   {
    "duration": 7,
    "start_time": "2022-02-12T13:21:09.922Z"
   },
   {
    "duration": 50,
    "start_time": "2022-02-12T13:21:09.932Z"
   },
   {
    "duration": 43,
    "start_time": "2022-02-12T13:21:09.985Z"
   },
   {
    "duration": 83,
    "start_time": "2022-02-12T13:21:10.030Z"
   },
   {
    "duration": 9,
    "start_time": "2022-02-12T13:21:10.116Z"
   },
   {
    "duration": 73,
    "start_time": "2022-02-12T13:21:10.128Z"
   },
   {
    "duration": 9,
    "start_time": "2022-02-12T13:21:10.204Z"
   },
   {
    "duration": 906,
    "start_time": "2022-02-12T13:21:10.215Z"
   },
   {
    "duration": 29,
    "start_time": "2022-02-12T13:21:11.124Z"
   },
   {
    "duration": 58,
    "start_time": "2022-02-12T13:21:11.169Z"
   },
   {
    "duration": 9,
    "start_time": "2022-02-12T13:21:11.229Z"
   },
   {
    "duration": 64,
    "start_time": "2022-02-12T13:21:11.240Z"
   },
   {
    "duration": 63,
    "start_time": "2022-02-12T13:21:11.306Z"
   },
   {
    "duration": 22,
    "start_time": "2022-02-12T13:21:11.371Z"
   },
   {
    "duration": 10,
    "start_time": "2022-02-12T13:21:11.396Z"
   },
   {
    "duration": 16,
    "start_time": "2022-02-12T13:21:11.409Z"
   },
   {
    "duration": 16,
    "start_time": "2022-02-12T13:21:12.974Z"
   },
   {
    "duration": 67,
    "start_time": "2022-02-12T13:21:14.573Z"
   },
   {
    "duration": 21,
    "start_time": "2022-02-12T13:22:11.229Z"
   },
   {
    "duration": 32,
    "start_time": "2022-02-12T13:22:32.746Z"
   },
   {
    "duration": 6,
    "start_time": "2022-02-12T13:35:17.622Z"
   },
   {
    "duration": 3,
    "start_time": "2022-02-12T13:36:01.344Z"
   },
   {
    "duration": 534,
    "start_time": "2022-02-12T13:36:01.350Z"
   },
   {
    "duration": 13,
    "start_time": "2022-02-12T13:36:01.887Z"
   },
   {
    "duration": 39,
    "start_time": "2022-02-12T13:36:01.903Z"
   },
   {
    "duration": 149,
    "start_time": "2022-02-12T13:36:01.945Z"
   },
   {
    "duration": 13,
    "start_time": "2022-02-12T13:36:02.097Z"
   },
   {
    "duration": 34,
    "start_time": "2022-02-12T13:36:02.113Z"
   },
   {
    "duration": 132,
    "start_time": "2022-02-12T13:36:02.150Z"
   },
   {
    "duration": 11,
    "start_time": "2022-02-12T13:36:02.285Z"
   },
   {
    "duration": 35,
    "start_time": "2022-02-12T13:36:02.299Z"
   },
   {
    "duration": 82,
    "start_time": "2022-02-12T13:36:02.337Z"
   },
   {
    "duration": 12,
    "start_time": "2022-02-12T13:36:02.422Z"
   },
   {
    "duration": 33,
    "start_time": "2022-02-12T13:36:02.437Z"
   },
   {
    "duration": 32,
    "start_time": "2022-02-12T13:36:02.473Z"
   },
   {
    "duration": 19,
    "start_time": "2022-02-12T13:36:02.508Z"
   },
   {
    "duration": 35,
    "start_time": "2022-02-12T13:36:02.529Z"
   },
   {
    "duration": 66,
    "start_time": "2022-02-12T13:36:02.567Z"
   },
   {
    "duration": 12,
    "start_time": "2022-02-12T13:36:02.635Z"
   },
   {
    "duration": 39,
    "start_time": "2022-02-12T13:36:02.651Z"
   },
   {
    "duration": 20,
    "start_time": "2022-02-12T13:36:02.693Z"
   },
   {
    "duration": 80,
    "start_time": "2022-02-12T13:36:02.715Z"
   },
   {
    "duration": 12,
    "start_time": "2022-02-12T13:36:02.798Z"
   },
   {
    "duration": 59,
    "start_time": "2022-02-12T13:36:02.813Z"
   },
   {
    "duration": 8,
    "start_time": "2022-02-12T13:36:02.874Z"
   },
   {
    "duration": 19,
    "start_time": "2022-02-12T13:36:02.884Z"
   },
   {
    "duration": 65,
    "start_time": "2022-02-12T13:36:02.905Z"
   },
   {
    "duration": 58,
    "start_time": "2022-02-12T13:36:05.267Z"
   },
   {
    "duration": 4,
    "start_time": "2022-02-12T13:36:42.500Z"
   },
   {
    "duration": 547,
    "start_time": "2022-02-12T13:36:42.507Z"
   },
   {
    "duration": 13,
    "start_time": "2022-02-12T13:36:43.058Z"
   },
   {
    "duration": 46,
    "start_time": "2022-02-12T13:36:43.074Z"
   },
   {
    "duration": 125,
    "start_time": "2022-02-12T13:36:43.122Z"
   },
   {
    "duration": 20,
    "start_time": "2022-02-12T13:36:43.250Z"
   },
   {
    "duration": 23,
    "start_time": "2022-02-12T13:36:43.274Z"
   },
   {
    "duration": 128,
    "start_time": "2022-02-12T13:36:43.301Z"
   },
   {
    "duration": 13,
    "start_time": "2022-02-12T13:36:43.432Z"
   },
   {
    "duration": 41,
    "start_time": "2022-02-12T13:36:43.448Z"
   },
   {
    "duration": 79,
    "start_time": "2022-02-12T13:36:43.492Z"
   },
   {
    "duration": 13,
    "start_time": "2022-02-12T13:36:43.573Z"
   },
   {
    "duration": 21,
    "start_time": "2022-02-12T13:36:43.589Z"
   },
   {
    "duration": 22,
    "start_time": "2022-02-12T13:36:43.613Z"
   },
   {
    "duration": 36,
    "start_time": "2022-02-12T13:36:43.638Z"
   },
   {
    "duration": 20,
    "start_time": "2022-02-12T13:36:43.677Z"
   },
   {
    "duration": 84,
    "start_time": "2022-02-12T13:36:43.699Z"
   },
   {
    "duration": 11,
    "start_time": "2022-02-12T13:36:43.786Z"
   },
   {
    "duration": 26,
    "start_time": "2022-02-12T13:36:43.802Z"
   },
   {
    "duration": 43,
    "start_time": "2022-02-12T13:36:43.832Z"
   },
   {
    "duration": 43,
    "start_time": "2022-02-12T13:36:43.878Z"
   },
   {
    "duration": 15,
    "start_time": "2022-02-12T13:36:43.924Z"
   },
   {
    "duration": 64,
    "start_time": "2022-02-12T13:36:43.942Z"
   },
   {
    "duration": 7,
    "start_time": "2022-02-12T13:36:44.009Z"
   },
   {
    "duration": 36,
    "start_time": "2022-02-12T13:36:44.018Z"
   },
   {
    "duration": 65,
    "start_time": "2022-02-12T13:36:44.057Z"
   },
   {
    "duration": 75,
    "start_time": "2022-02-12T13:36:44.124Z"
   },
   {
    "duration": 9,
    "start_time": "2022-02-12T13:36:44.202Z"
   },
   {
    "duration": 70,
    "start_time": "2022-02-12T13:36:44.214Z"
   },
   {
    "duration": 9,
    "start_time": "2022-02-12T13:36:44.286Z"
   },
   {
    "duration": 898,
    "start_time": "2022-02-12T13:36:44.297Z"
   },
   {
    "duration": 29,
    "start_time": "2022-02-12T13:36:45.197Z"
   },
   {
    "duration": 75,
    "start_time": "2022-02-12T13:36:45.229Z"
   },
   {
    "duration": 9,
    "start_time": "2022-02-12T13:36:45.306Z"
   },
   {
    "duration": 57,
    "start_time": "2022-02-12T13:36:45.318Z"
   },
   {
    "duration": 56,
    "start_time": "2022-02-12T13:36:45.377Z"
   },
   {
    "duration": 43,
    "start_time": "2022-02-12T13:36:45.436Z"
   },
   {
    "duration": 19,
    "start_time": "2022-02-12T13:36:45.482Z"
   },
   {
    "duration": 40,
    "start_time": "2022-02-12T13:36:45.504Z"
   },
   {
    "duration": 58,
    "start_time": "2022-02-12T13:36:45.547Z"
   },
   {
    "duration": 33,
    "start_time": "2022-02-12T13:36:47.627Z"
   },
   {
    "duration": 7,
    "start_time": "2022-02-12T13:36:48.686Z"
   },
   {
    "duration": 12,
    "start_time": "2022-02-12T13:37:33.139Z"
   },
   {
    "duration": 1099,
    "start_time": "2022-02-12T13:39:00.790Z"
   },
   {
    "duration": 992,
    "start_time": "2022-02-12T13:39:26.917Z"
   },
   {
    "duration": 6644,
    "start_time": "2022-02-12T13:39:58.340Z"
   },
   {
    "duration": 4,
    "start_time": "2022-02-12T13:40:26.096Z"
   },
   {
    "duration": 516,
    "start_time": "2022-02-12T13:40:26.103Z"
   },
   {
    "duration": 13,
    "start_time": "2022-02-12T13:40:26.623Z"
   },
   {
    "duration": 32,
    "start_time": "2022-02-12T13:40:26.639Z"
   },
   {
    "duration": 170,
    "start_time": "2022-02-12T13:40:26.674Z"
   },
   {
    "duration": 23,
    "start_time": "2022-02-12T13:40:26.846Z"
   },
   {
    "duration": 22,
    "start_time": "2022-02-12T13:40:26.873Z"
   },
   {
    "duration": 122,
    "start_time": "2022-02-12T13:40:26.899Z"
   },
   {
    "duration": 10,
    "start_time": "2022-02-12T13:40:27.024Z"
   },
   {
    "duration": 40,
    "start_time": "2022-02-12T13:40:27.037Z"
   },
   {
    "duration": 58,
    "start_time": "2022-02-12T13:40:27.080Z"
   },
   {
    "duration": 33,
    "start_time": "2022-02-12T13:40:27.141Z"
   },
   {
    "duration": 17,
    "start_time": "2022-02-12T13:40:27.178Z"
   },
   {
    "duration": 16,
    "start_time": "2022-02-12T13:40:27.199Z"
   },
   {
    "duration": 53,
    "start_time": "2022-02-12T13:40:27.217Z"
   },
   {
    "duration": 31,
    "start_time": "2022-02-12T13:40:27.274Z"
   },
   {
    "duration": 110,
    "start_time": "2022-02-12T13:40:27.308Z"
   },
   {
    "duration": 14,
    "start_time": "2022-02-12T13:40:27.420Z"
   },
   {
    "duration": 58,
    "start_time": "2022-02-12T13:40:27.439Z"
   },
   {
    "duration": 19,
    "start_time": "2022-02-12T13:40:27.500Z"
   },
   {
    "duration": 55,
    "start_time": "2022-02-12T13:40:27.522Z"
   },
   {
    "duration": 12,
    "start_time": "2022-02-12T13:40:27.580Z"
   },
   {
    "duration": 55,
    "start_time": "2022-02-12T13:40:27.595Z"
   },
   {
    "duration": 11,
    "start_time": "2022-02-12T13:40:27.653Z"
   },
   {
    "duration": 18,
    "start_time": "2022-02-12T13:40:27.670Z"
   },
   {
    "duration": 41,
    "start_time": "2022-02-12T13:40:27.690Z"
   },
   {
    "duration": 63,
    "start_time": "2022-02-12T13:40:27.734Z"
   },
   {
    "duration": 9,
    "start_time": "2022-02-12T13:40:27.799Z"
   },
   {
    "duration": 60,
    "start_time": "2022-02-12T13:40:27.810Z"
   },
   {
    "duration": 12,
    "start_time": "2022-02-12T13:40:27.873Z"
   },
   {
    "duration": 1084,
    "start_time": "2022-02-12T13:40:27.888Z"
   },
   {
    "duration": 28,
    "start_time": "2022-02-12T13:40:28.975Z"
   },
   {
    "duration": 77,
    "start_time": "2022-02-12T13:40:29.006Z"
   },
   {
    "duration": 9,
    "start_time": "2022-02-12T13:40:29.085Z"
   },
   {
    "duration": 37,
    "start_time": "2022-02-12T13:40:29.096Z"
   },
   {
    "duration": 72,
    "start_time": "2022-02-12T13:40:29.136Z"
   },
   {
    "duration": 20,
    "start_time": "2022-02-12T13:40:29.210Z"
   },
   {
    "duration": 40,
    "start_time": "2022-02-12T13:40:29.233Z"
   },
   {
    "duration": 18,
    "start_time": "2022-02-12T13:40:29.276Z"
   },
   {
    "duration": 6440,
    "start_time": "2022-02-12T13:40:33.333Z"
   },
   {
    "duration": 40,
    "start_time": "2022-02-12T13:41:01.487Z"
   },
   {
    "duration": 4,
    "start_time": "2022-02-12T13:41:05.415Z"
   },
   {
    "duration": 509,
    "start_time": "2022-02-12T13:41:05.421Z"
   },
   {
    "duration": 12,
    "start_time": "2022-02-12T13:41:05.933Z"
   },
   {
    "duration": 31,
    "start_time": "2022-02-12T13:41:05.948Z"
   },
   {
    "duration": 128,
    "start_time": "2022-02-12T13:41:05.982Z"
   },
   {
    "duration": 12,
    "start_time": "2022-02-12T13:41:06.113Z"
   },
   {
    "duration": 49,
    "start_time": "2022-02-12T13:41:06.128Z"
   },
   {
    "duration": 108,
    "start_time": "2022-02-12T13:41:06.179Z"
   },
   {
    "duration": 11,
    "start_time": "2022-02-12T13:41:06.292Z"
   },
   {
    "duration": 22,
    "start_time": "2022-02-12T13:41:06.307Z"
   },
   {
    "duration": 88,
    "start_time": "2022-02-12T13:41:06.332Z"
   },
   {
    "duration": 13,
    "start_time": "2022-02-12T13:41:06.423Z"
   },
   {
    "duration": 36,
    "start_time": "2022-02-12T13:41:06.440Z"
   },
   {
    "duration": 15,
    "start_time": "2022-02-12T13:41:06.479Z"
   },
   {
    "duration": 9,
    "start_time": "2022-02-12T13:41:06.497Z"
   },
   {
    "duration": 21,
    "start_time": "2022-02-12T13:41:06.508Z"
   },
   {
    "duration": 93,
    "start_time": "2022-02-12T13:41:06.533Z"
   },
   {
    "duration": 13,
    "start_time": "2022-02-12T13:41:06.629Z"
   },
   {
    "duration": 17,
    "start_time": "2022-02-12T13:41:06.669Z"
   },
   {
    "duration": 20,
    "start_time": "2022-02-12T13:41:06.688Z"
   },
   {
    "duration": 75,
    "start_time": "2022-02-12T13:41:06.711Z"
   },
   {
    "duration": 13,
    "start_time": "2022-02-12T13:41:06.788Z"
   },
   {
    "duration": 65,
    "start_time": "2022-02-12T13:41:06.804Z"
   },
   {
    "duration": 9,
    "start_time": "2022-02-12T13:41:06.872Z"
   },
   {
    "duration": 18,
    "start_time": "2022-02-12T13:41:06.884Z"
   },
   {
    "duration": 74,
    "start_time": "2022-02-12T13:41:06.906Z"
   },
   {
    "duration": 58,
    "start_time": "2022-02-12T13:41:06.988Z"
   },
   {
    "duration": 29,
    "start_time": "2022-02-12T13:41:07.049Z"
   },
   {
    "duration": 62,
    "start_time": "2022-02-12T13:41:07.081Z"
   },
   {
    "duration": 30,
    "start_time": "2022-02-12T13:41:07.146Z"
   },
   {
    "duration": 839,
    "start_time": "2022-02-12T13:41:07.179Z"
   },
   {
    "duration": 50,
    "start_time": "2022-02-12T13:41:08.021Z"
   },
   {
    "duration": 55,
    "start_time": "2022-02-12T13:41:08.074Z"
   },
   {
    "duration": 9,
    "start_time": "2022-02-12T13:41:08.132Z"
   },
   {
    "duration": 57,
    "start_time": "2022-02-12T13:41:08.143Z"
   },
   {
    "duration": 78,
    "start_time": "2022-02-12T13:41:08.202Z"
   },
   {
    "duration": 22,
    "start_time": "2022-02-12T13:41:08.283Z"
   },
   {
    "duration": 11,
    "start_time": "2022-02-12T13:41:08.307Z"
   },
   {
    "duration": 36,
    "start_time": "2022-02-12T13:41:08.320Z"
   },
   {
    "duration": 31,
    "start_time": "2022-02-12T13:41:08.370Z"
   },
   {
    "duration": 50,
    "start_time": "2022-02-12T13:41:25.945Z"
   },
   {
    "duration": 29,
    "start_time": "2022-02-12T13:42:17.133Z"
   },
   {
    "duration": 7,
    "start_time": "2022-02-12T13:45:33.863Z"
   },
   {
    "duration": 4,
    "start_time": "2022-02-12T13:45:52.734Z"
   },
   {
    "duration": 503,
    "start_time": "2022-02-12T13:45:52.740Z"
   },
   {
    "duration": 12,
    "start_time": "2022-02-12T13:45:53.246Z"
   },
   {
    "duration": 34,
    "start_time": "2022-02-12T13:45:53.261Z"
   },
   {
    "duration": 128,
    "start_time": "2022-02-12T13:45:53.297Z"
   },
   {
    "duration": 12,
    "start_time": "2022-02-12T13:45:53.427Z"
   },
   {
    "duration": 36,
    "start_time": "2022-02-12T13:45:53.443Z"
   },
   {
    "duration": 109,
    "start_time": "2022-02-12T13:45:53.482Z"
   },
   {
    "duration": 11,
    "start_time": "2022-02-12T13:45:53.593Z"
   },
   {
    "duration": 19,
    "start_time": "2022-02-12T13:45:53.607Z"
   },
   {
    "duration": 85,
    "start_time": "2022-02-12T13:45:53.629Z"
   },
   {
    "duration": 11,
    "start_time": "2022-02-12T13:45:53.717Z"
   },
   {
    "duration": 39,
    "start_time": "2022-02-12T13:45:53.731Z"
   },
   {
    "duration": 25,
    "start_time": "2022-02-12T13:45:53.773Z"
   },
   {
    "duration": 12,
    "start_time": "2022-02-12T13:45:53.801Z"
   },
   {
    "duration": 27,
    "start_time": "2022-02-12T13:45:53.816Z"
   },
   {
    "duration": 80,
    "start_time": "2022-02-12T13:45:53.845Z"
   },
   {
    "duration": 12,
    "start_time": "2022-02-12T13:45:53.927Z"
   },
   {
    "duration": 41,
    "start_time": "2022-02-12T13:45:53.943Z"
   },
   {
    "duration": 20,
    "start_time": "2022-02-12T13:45:53.986Z"
   },
   {
    "duration": 67,
    "start_time": "2022-02-12T13:45:54.008Z"
   },
   {
    "duration": 14,
    "start_time": "2022-02-12T13:45:54.077Z"
   },
   {
    "duration": 41,
    "start_time": "2022-02-12T13:45:54.094Z"
   },
   {
    "duration": 36,
    "start_time": "2022-02-12T13:45:54.137Z"
   },
   {
    "duration": 14,
    "start_time": "2022-02-12T13:45:54.176Z"
   },
   {
    "duration": 14,
    "start_time": "2022-02-12T13:45:55.528Z"
   },
   {
    "duration": 13,
    "start_time": "2022-02-12T13:45:56.242Z"
   },
   {
    "duration": 4,
    "start_time": "2022-02-12T13:48:02.671Z"
   },
   {
    "duration": 542,
    "start_time": "2022-02-12T13:48:02.677Z"
   },
   {
    "duration": 12,
    "start_time": "2022-02-12T13:48:03.222Z"
   },
   {
    "duration": 33,
    "start_time": "2022-02-12T13:48:03.238Z"
   },
   {
    "duration": 135,
    "start_time": "2022-02-12T13:48:03.274Z"
   },
   {
    "duration": 12,
    "start_time": "2022-02-12T13:48:03.412Z"
   },
   {
    "duration": 44,
    "start_time": "2022-02-12T13:48:03.426Z"
   },
   {
    "duration": 107,
    "start_time": "2022-02-12T13:48:03.474Z"
   },
   {
    "duration": 12,
    "start_time": "2022-02-12T13:48:03.584Z"
   },
   {
    "duration": 28,
    "start_time": "2022-02-12T13:48:03.599Z"
   },
   {
    "duration": 87,
    "start_time": "2022-02-12T13:48:03.629Z"
   },
   {
    "duration": 11,
    "start_time": "2022-02-12T13:48:03.719Z"
   },
   {
    "duration": 13,
    "start_time": "2022-02-12T13:48:03.733Z"
   },
   {
    "duration": 15,
    "start_time": "2022-02-12T13:48:03.770Z"
   },
   {
    "duration": 11,
    "start_time": "2022-02-12T13:48:03.788Z"
   },
   {
    "duration": 21,
    "start_time": "2022-02-12T13:48:03.802Z"
   },
   {
    "duration": 96,
    "start_time": "2022-02-12T13:48:03.826Z"
   },
   {
    "duration": 11,
    "start_time": "2022-02-12T13:48:03.924Z"
   },
   {
    "duration": 43,
    "start_time": "2022-02-12T13:48:03.938Z"
   },
   {
    "duration": 21,
    "start_time": "2022-02-12T13:48:03.984Z"
   },
   {
    "duration": 65,
    "start_time": "2022-02-12T13:48:04.008Z"
   },
   {
    "duration": 15,
    "start_time": "2022-02-12T13:48:04.075Z"
   },
   {
    "duration": 37,
    "start_time": "2022-02-12T13:48:04.095Z"
   },
   {
    "duration": 42,
    "start_time": "2022-02-12T13:48:04.134Z"
   },
   {
    "duration": 2605,
    "start_time": "2022-02-12T13:48:06.635Z"
   },
   {
    "duration": 2584,
    "start_time": "2022-02-12T13:49:02.104Z"
   },
   {
    "duration": 4,
    "start_time": "2022-02-12T13:49:07.670Z"
   },
   {
    "duration": 516,
    "start_time": "2022-02-12T13:49:07.677Z"
   },
   {
    "duration": 11,
    "start_time": "2022-02-12T13:49:08.196Z"
   },
   {
    "duration": 34,
    "start_time": "2022-02-12T13:49:08.209Z"
   },
   {
    "duration": 115,
    "start_time": "2022-02-12T13:49:08.246Z"
   },
   {
    "duration": 17,
    "start_time": "2022-02-12T13:49:08.363Z"
   },
   {
    "duration": 26,
    "start_time": "2022-02-12T13:49:08.383Z"
   },
   {
    "duration": 122,
    "start_time": "2022-02-12T13:49:08.412Z"
   },
   {
    "duration": 11,
    "start_time": "2022-02-12T13:49:08.536Z"
   },
   {
    "duration": 32,
    "start_time": "2022-02-12T13:49:08.549Z"
   },
   {
    "duration": 53,
    "start_time": "2022-02-12T13:49:08.583Z"
   },
   {
    "duration": 34,
    "start_time": "2022-02-12T13:49:08.638Z"
   },
   {
    "duration": 10,
    "start_time": "2022-02-12T13:49:08.674Z"
   },
   {
    "duration": 15,
    "start_time": "2022-02-12T13:49:08.687Z"
   },
   {
    "duration": 11,
    "start_time": "2022-02-12T13:49:08.704Z"
   },
   {
    "duration": 65,
    "start_time": "2022-02-12T13:49:08.717Z"
   },
   {
    "duration": 57,
    "start_time": "2022-02-12T13:49:08.784Z"
   },
   {
    "duration": 27,
    "start_time": "2022-02-12T13:49:08.844Z"
   },
   {
    "duration": 21,
    "start_time": "2022-02-12T13:49:08.875Z"
   },
   {
    "duration": 20,
    "start_time": "2022-02-12T13:49:08.899Z"
   },
   {
    "duration": 78,
    "start_time": "2022-02-12T13:49:08.921Z"
   },
   {
    "duration": 15,
    "start_time": "2022-02-12T13:49:09.001Z"
   },
   {
    "duration": 60,
    "start_time": "2022-02-12T13:49:09.018Z"
   },
   {
    "duration": 8,
    "start_time": "2022-02-12T13:49:09.080Z"
   },
   {
    "duration": 17,
    "start_time": "2022-02-12T13:49:09.091Z"
   },
   {
    "duration": 14,
    "start_time": "2022-02-12T13:49:13.618Z"
   },
   {
    "duration": 15,
    "start_time": "2022-02-12T13:49:16.658Z"
   },
   {
    "duration": 5,
    "start_time": "2022-02-12T13:49:35.202Z"
   },
   {
    "duration": 486,
    "start_time": "2022-02-12T13:49:35.210Z"
   },
   {
    "duration": 11,
    "start_time": "2022-02-12T13:49:35.699Z"
   },
   {
    "duration": 31,
    "start_time": "2022-02-12T13:49:35.712Z"
   },
   {
    "duration": 138,
    "start_time": "2022-02-12T13:49:35.746Z"
   },
   {
    "duration": 12,
    "start_time": "2022-02-12T13:49:35.887Z"
   },
   {
    "duration": 24,
    "start_time": "2022-02-12T13:49:35.902Z"
   },
   {
    "duration": 168,
    "start_time": "2022-02-12T13:49:35.928Z"
   },
   {
    "duration": 11,
    "start_time": "2022-02-12T13:49:36.100Z"
   },
   {
    "duration": 27,
    "start_time": "2022-02-12T13:49:36.114Z"
   },
   {
    "duration": 87,
    "start_time": "2022-02-12T13:49:36.144Z"
   },
   {
    "duration": 11,
    "start_time": "2022-02-12T13:49:36.234Z"
   },
   {
    "duration": 29,
    "start_time": "2022-02-12T13:49:36.248Z"
   },
   {
    "duration": 22,
    "start_time": "2022-02-12T13:49:36.280Z"
   },
   {
    "duration": 22,
    "start_time": "2022-02-12T13:49:36.304Z"
   },
   {
    "duration": 44,
    "start_time": "2022-02-12T13:49:36.328Z"
   },
   {
    "duration": 61,
    "start_time": "2022-02-12T13:49:36.375Z"
   },
   {
    "duration": 11,
    "start_time": "2022-02-12T13:49:36.439Z"
   },
   {
    "duration": 20,
    "start_time": "2022-02-12T13:49:36.470Z"
   },
   {
    "duration": 20,
    "start_time": "2022-02-12T13:49:36.493Z"
   },
   {
    "duration": 78,
    "start_time": "2022-02-12T13:49:36.516Z"
   },
   {
    "duration": 14,
    "start_time": "2022-02-12T13:49:36.596Z"
   },
   {
    "duration": 57,
    "start_time": "2022-02-12T13:49:36.613Z"
   },
   {
    "duration": 7,
    "start_time": "2022-02-12T13:49:36.673Z"
   },
   {
    "duration": 28,
    "start_time": "2022-02-12T13:49:36.682Z"
   },
   {
    "duration": 1445,
    "start_time": "2022-02-12T13:50:46.311Z"
   },
   {
    "duration": 526,
    "start_time": "2022-02-12T13:50:47.759Z"
   },
   {
    "duration": 19,
    "start_time": "2022-02-12T13:50:48.289Z"
   },
   {
    "duration": 30,
    "start_time": "2022-02-12T13:50:48.312Z"
   },
   {
    "duration": 157,
    "start_time": "2022-02-12T13:50:48.345Z"
   },
   {
    "duration": 12,
    "start_time": "2022-02-12T13:50:48.504Z"
   },
   {
    "duration": 52,
    "start_time": "2022-02-12T13:50:48.518Z"
   },
   {
    "duration": 132,
    "start_time": "2022-02-12T13:50:48.573Z"
   },
   {
    "duration": 11,
    "start_time": "2022-02-12T13:50:48.708Z"
   },
   {
    "duration": 22,
    "start_time": "2022-02-12T13:50:48.721Z"
   },
   {
    "duration": 65,
    "start_time": "2022-02-12T13:50:48.770Z"
   },
   {
    "duration": 32,
    "start_time": "2022-02-12T13:50:48.837Z"
   },
   {
    "duration": 10,
    "start_time": "2022-02-12T13:50:48.871Z"
   },
   {
    "duration": 16,
    "start_time": "2022-02-12T13:50:48.884Z"
   },
   {
    "duration": 9,
    "start_time": "2022-02-12T13:50:48.903Z"
   },
   {
    "duration": 72,
    "start_time": "2022-02-12T13:50:48.915Z"
   },
   {
    "duration": 79,
    "start_time": "2022-02-12T13:50:48.990Z"
   },
   {
    "duration": 12,
    "start_time": "2022-02-12T13:50:49.071Z"
   },
   {
    "duration": 24,
    "start_time": "2022-02-12T13:50:49.085Z"
   },
   {
    "duration": 20,
    "start_time": "2022-02-12T13:50:49.112Z"
   },
   {
    "duration": 78,
    "start_time": "2022-02-12T13:50:49.135Z"
   },
   {
    "duration": 15,
    "start_time": "2022-02-12T13:50:49.216Z"
   },
   {
    "duration": 63,
    "start_time": "2022-02-12T13:50:49.236Z"
   },
   {
    "duration": 7,
    "start_time": "2022-02-12T13:50:49.302Z"
   },
   {
    "duration": 17,
    "start_time": "2022-02-12T13:50:49.312Z"
   },
   {
    "duration": 70,
    "start_time": "2022-02-12T13:50:49.332Z"
   },
   {
    "duration": 79,
    "start_time": "2022-02-12T13:50:49.404Z"
   },
   {
    "duration": 9,
    "start_time": "2022-02-12T13:50:49.485Z"
   },
   {
    "duration": 83,
    "start_time": "2022-02-12T13:50:49.498Z"
   },
   {
    "duration": 9,
    "start_time": "2022-02-12T13:50:49.584Z"
   },
   {
    "duration": 866,
    "start_time": "2022-02-12T13:50:49.595Z"
   },
   {
    "duration": 32,
    "start_time": "2022-02-12T13:50:50.463Z"
   },
   {
    "duration": 84,
    "start_time": "2022-02-12T13:50:50.497Z"
   },
   {
    "duration": 9,
    "start_time": "2022-02-12T13:50:50.584Z"
   },
   {
    "duration": 57,
    "start_time": "2022-02-12T13:50:50.596Z"
   },
   {
    "duration": 59,
    "start_time": "2022-02-12T13:50:50.656Z"
   },
   {
    "duration": 25,
    "start_time": "2022-02-12T13:50:50.717Z"
   },
   {
    "duration": 27,
    "start_time": "2022-02-12T13:50:50.744Z"
   },
   {
    "duration": 38,
    "start_time": "2022-02-12T13:50:50.773Z"
   },
   {
    "duration": 42,
    "start_time": "2022-02-12T13:50:50.813Z"
   },
   {
    "duration": 38,
    "start_time": "2022-02-12T13:50:50.857Z"
   },
   {
    "duration": 14,
    "start_time": "2022-02-12T13:50:56.780Z"
   },
   {
    "duration": 5,
    "start_time": "2022-02-12T13:51:58.931Z"
   },
   {
    "duration": 18,
    "start_time": "2022-02-12T13:52:10.376Z"
   },
   {
    "duration": 26,
    "start_time": "2022-02-12T13:52:36.542Z"
   },
   {
    "duration": 5,
    "start_time": "2022-02-12T13:52:53.945Z"
   },
   {
    "duration": 544,
    "start_time": "2022-02-12T13:52:53.953Z"
   },
   {
    "duration": 17,
    "start_time": "2022-02-12T13:52:54.502Z"
   },
   {
    "duration": 32,
    "start_time": "2022-02-12T13:52:54.522Z"
   },
   {
    "duration": 175,
    "start_time": "2022-02-12T13:52:54.557Z"
   },
   {
    "duration": 18,
    "start_time": "2022-02-12T13:52:54.735Z"
   },
   {
    "duration": 38,
    "start_time": "2022-02-12T13:52:54.756Z"
   },
   {
    "duration": 149,
    "start_time": "2022-02-12T13:52:54.797Z"
   },
   {
    "duration": 20,
    "start_time": "2022-02-12T13:52:54.951Z"
   },
   {
    "duration": 21,
    "start_time": "2022-02-12T13:52:54.974Z"
   },
   {
    "duration": 92,
    "start_time": "2022-02-12T13:52:54.998Z"
   },
   {
    "duration": 13,
    "start_time": "2022-02-12T13:52:55.093Z"
   },
   {
    "duration": 12,
    "start_time": "2022-02-12T13:52:55.110Z"
   },
   {
    "duration": 64,
    "start_time": "2022-02-12T13:52:55.125Z"
   },
   {
    "duration": 13,
    "start_time": "2022-02-12T13:52:55.192Z"
   },
   {
    "duration": 29,
    "start_time": "2022-02-12T13:52:55.208Z"
   },
   {
    "duration": 75,
    "start_time": "2022-02-12T13:52:55.239Z"
   },
   {
    "duration": 13,
    "start_time": "2022-02-12T13:52:55.316Z"
   },
   {
    "duration": 41,
    "start_time": "2022-02-12T13:52:55.331Z"
   },
   {
    "duration": 21,
    "start_time": "2022-02-12T13:52:55.374Z"
   },
   {
    "duration": 74,
    "start_time": "2022-02-12T13:52:55.397Z"
   },
   {
    "duration": 14,
    "start_time": "2022-02-12T13:52:55.474Z"
   },
   {
    "duration": 43,
    "start_time": "2022-02-12T13:52:55.491Z"
   },
   {
    "duration": 38,
    "start_time": "2022-02-12T13:52:55.537Z"
   },
   {
    "duration": 19,
    "start_time": "2022-02-12T13:52:55.579Z"
   },
   {
    "duration": 74,
    "start_time": "2022-02-12T13:52:55.602Z"
   },
   {
    "duration": 64,
    "start_time": "2022-02-12T13:52:55.683Z"
   },
   {
    "duration": 11,
    "start_time": "2022-02-12T13:52:55.770Z"
   },
   {
    "duration": 67,
    "start_time": "2022-02-12T13:52:55.784Z"
   },
   {
    "duration": 24,
    "start_time": "2022-02-12T13:52:55.853Z"
   },
   {
    "duration": 891,
    "start_time": "2022-02-12T13:52:55.879Z"
   },
   {
    "duration": 29,
    "start_time": "2022-02-12T13:52:56.773Z"
   },
   {
    "duration": 95,
    "start_time": "2022-02-12T13:52:56.805Z"
   },
   {
    "duration": 11,
    "start_time": "2022-02-12T13:52:56.903Z"
   },
   {
    "duration": 57,
    "start_time": "2022-02-12T13:52:56.917Z"
   },
   {
    "duration": 51,
    "start_time": "2022-02-12T13:52:56.977Z"
   },
   {
    "duration": 42,
    "start_time": "2022-02-12T13:52:57.030Z"
   },
   {
    "duration": 10,
    "start_time": "2022-02-12T13:52:57.075Z"
   },
   {
    "duration": 16,
    "start_time": "2022-02-12T13:52:57.088Z"
   },
   {
    "duration": 69,
    "start_time": "2022-02-12T13:52:57.107Z"
   },
   {
    "duration": 33,
    "start_time": "2022-02-12T13:52:57.179Z"
   },
   {
    "duration": 32,
    "start_time": "2022-02-12T13:52:58.899Z"
   },
   {
    "duration": 7256,
    "start_time": "2022-02-12T13:53:00.373Z"
   },
   {
    "duration": 4,
    "start_time": "2022-02-12T13:56:22.451Z"
   },
   {
    "duration": 4,
    "start_time": "2022-02-12T13:57:09.436Z"
   },
   {
    "duration": 511,
    "start_time": "2022-02-12T13:57:09.443Z"
   },
   {
    "duration": 12,
    "start_time": "2022-02-12T13:57:09.957Z"
   },
   {
    "duration": 29,
    "start_time": "2022-02-12T13:57:09.972Z"
   },
   {
    "duration": 145,
    "start_time": "2022-02-12T13:57:10.003Z"
   },
   {
    "duration": 19,
    "start_time": "2022-02-12T13:57:10.151Z"
   },
   {
    "duration": 23,
    "start_time": "2022-02-12T13:57:10.173Z"
   },
   {
    "duration": 132,
    "start_time": "2022-02-12T13:57:10.198Z"
   },
   {
    "duration": 10,
    "start_time": "2022-02-12T13:57:10.335Z"
   },
   {
    "duration": 48,
    "start_time": "2022-02-12T13:57:10.348Z"
   },
   {
    "duration": 93,
    "start_time": "2022-02-12T13:57:10.400Z"
   },
   {
    "duration": 17,
    "start_time": "2022-02-12T13:57:10.496Z"
   },
   {
    "duration": 10,
    "start_time": "2022-02-12T13:57:10.515Z"
   },
   {
    "duration": 45,
    "start_time": "2022-02-12T13:57:10.527Z"
   },
   {
    "duration": 12,
    "start_time": "2022-02-12T13:57:10.575Z"
   },
   {
    "duration": 21,
    "start_time": "2022-02-12T13:57:10.589Z"
   },
   {
    "duration": 84,
    "start_time": "2022-02-12T13:57:10.613Z"
   },
   {
    "duration": 10,
    "start_time": "2022-02-12T13:57:10.699Z"
   },
   {
    "duration": 23,
    "start_time": "2022-02-12T13:57:10.712Z"
   },
   {
    "duration": 47,
    "start_time": "2022-02-12T13:57:10.738Z"
   },
   {
    "duration": 44,
    "start_time": "2022-02-12T13:57:10.787Z"
   },
   {
    "duration": 37,
    "start_time": "2022-02-12T13:57:10.833Z"
   },
   {
    "duration": 38,
    "start_time": "2022-02-12T13:57:10.873Z"
   },
   {
    "duration": 8,
    "start_time": "2022-02-12T13:57:10.915Z"
   },
   {
    "duration": 52,
    "start_time": "2022-02-12T13:57:10.926Z"
   },
   {
    "duration": 46,
    "start_time": "2022-02-12T13:57:10.981Z"
   },
   {
    "duration": 61,
    "start_time": "2022-02-12T13:57:15.072Z"
   },
   {
    "duration": 4,
    "start_time": "2022-02-12T13:58:14.476Z"
   },
   {
    "duration": 536,
    "start_time": "2022-02-12T13:58:14.483Z"
   },
   {
    "duration": 11,
    "start_time": "2022-02-12T13:58:15.022Z"
   },
   {
    "duration": 29,
    "start_time": "2022-02-12T13:58:15.036Z"
   },
   {
    "duration": 123,
    "start_time": "2022-02-12T13:58:15.068Z"
   },
   {
    "duration": 12,
    "start_time": "2022-02-12T13:58:15.194Z"
   },
   {
    "duration": 28,
    "start_time": "2022-02-12T13:58:15.209Z"
   },
   {
    "duration": 115,
    "start_time": "2022-02-12T13:58:15.271Z"
   },
   {
    "duration": 12,
    "start_time": "2022-02-12T13:58:15.391Z"
   },
   {
    "duration": 22,
    "start_time": "2022-02-12T13:58:15.406Z"
   },
   {
    "duration": 86,
    "start_time": "2022-02-12T13:58:15.431Z"
   },
   {
    "duration": 13,
    "start_time": "2022-02-12T13:58:15.521Z"
   },
   {
    "duration": 38,
    "start_time": "2022-02-12T13:58:15.536Z"
   },
   {
    "duration": 16,
    "start_time": "2022-02-12T13:58:15.577Z"
   },
   {
    "duration": 9,
    "start_time": "2022-02-12T13:58:15.596Z"
   },
   {
    "duration": 18,
    "start_time": "2022-02-12T13:58:15.608Z"
   },
   {
    "duration": 97,
    "start_time": "2022-02-12T13:58:15.629Z"
   },
   {
    "duration": 12,
    "start_time": "2022-02-12T13:58:15.728Z"
   },
   {
    "duration": 38,
    "start_time": "2022-02-12T13:58:15.742Z"
   },
   {
    "duration": 19,
    "start_time": "2022-02-12T13:58:15.783Z"
   },
   {
    "duration": 70,
    "start_time": "2022-02-12T13:58:15.804Z"
   },
   {
    "duration": 12,
    "start_time": "2022-02-12T13:58:15.876Z"
   },
   {
    "duration": 37,
    "start_time": "2022-02-12T13:58:15.892Z"
   },
   {
    "duration": 38,
    "start_time": "2022-02-12T13:58:15.931Z"
   },
   {
    "duration": 18,
    "start_time": "2022-02-12T13:58:15.972Z"
   },
   {
    "duration": 77,
    "start_time": "2022-02-12T13:58:15.994Z"
   },
   {
    "duration": 3,
    "start_time": "2022-02-12T13:58:17.889Z"
   },
   {
    "duration": 57,
    "start_time": "2022-02-12T13:58:19.559Z"
   },
   {
    "duration": 9,
    "start_time": "2022-02-12T13:58:29.779Z"
   },
   {
    "duration": 56,
    "start_time": "2022-02-12T13:58:32.069Z"
   },
   {
    "duration": 10,
    "start_time": "2022-02-12T13:58:34.593Z"
   },
   {
    "duration": 833,
    "start_time": "2022-02-12T13:58:36.901Z"
   },
   {
    "duration": 29,
    "start_time": "2022-02-12T13:58:40.256Z"
   },
   {
    "duration": 58,
    "start_time": "2022-02-12T13:58:41.949Z"
   },
   {
    "duration": 10,
    "start_time": "2022-02-12T13:58:47.236Z"
   },
   {
    "duration": 37,
    "start_time": "2022-02-12T13:58:51.039Z"
   },
   {
    "duration": 51,
    "start_time": "2022-02-12T13:58:52.139Z"
   },
   {
    "duration": 27,
    "start_time": "2022-02-12T13:58:54.934Z"
   },
   {
    "duration": 10,
    "start_time": "2022-02-12T13:58:57.879Z"
   },
   {
    "duration": 16,
    "start_time": "2022-02-12T13:59:01.619Z"
   },
   {
    "duration": 33,
    "start_time": "2022-02-12T13:59:06.128Z"
   },
   {
    "duration": 31,
    "start_time": "2022-02-12T13:59:18.053Z"
   },
   {
    "duration": 4,
    "start_time": "2022-02-12T13:59:20.458Z"
   },
   {
    "duration": 478,
    "start_time": "2022-02-12T14:01:26.269Z"
   },
   {
    "duration": 5,
    "start_time": "2022-02-12T14:01:33.831Z"
   },
   {
    "duration": 18,
    "start_time": "2022-02-12T14:01:34.616Z"
   },
   {
    "duration": 7671,
    "start_time": "2022-02-12T14:01:59.643Z"
   },
   {
    "duration": 7395,
    "start_time": "2022-02-12T14:02:37.139Z"
   },
   {
    "duration": 6483,
    "start_time": "2022-02-12T14:03:09.061Z"
   },
   {
    "duration": 4,
    "start_time": "2022-02-12T14:03:32.014Z"
   },
   {
    "duration": 520,
    "start_time": "2022-02-12T14:03:32.021Z"
   },
   {
    "duration": 12,
    "start_time": "2022-02-12T14:03:32.544Z"
   },
   {
    "duration": 27,
    "start_time": "2022-02-12T14:03:32.559Z"
   },
   {
    "duration": 122,
    "start_time": "2022-02-12T14:03:32.589Z"
   },
   {
    "duration": 12,
    "start_time": "2022-02-12T14:03:32.714Z"
   },
   {
    "duration": 48,
    "start_time": "2022-02-12T14:03:32.728Z"
   },
   {
    "duration": 100,
    "start_time": "2022-02-12T14:03:32.780Z"
   },
   {
    "duration": 11,
    "start_time": "2022-02-12T14:03:32.883Z"
   },
   {
    "duration": 19,
    "start_time": "2022-02-12T14:03:32.897Z"
   },
   {
    "duration": 88,
    "start_time": "2022-02-12T14:03:32.919Z"
   },
   {
    "duration": 12,
    "start_time": "2022-02-12T14:03:33.009Z"
   },
   {
    "duration": 9,
    "start_time": "2022-02-12T14:03:33.023Z"
   },
   {
    "duration": 43,
    "start_time": "2022-02-12T14:03:33.035Z"
   },
   {
    "duration": 8,
    "start_time": "2022-02-12T14:03:33.081Z"
   },
   {
    "duration": 22,
    "start_time": "2022-02-12T14:03:33.092Z"
   },
   {
    "duration": 92,
    "start_time": "2022-02-12T14:03:33.116Z"
   },
   {
    "duration": 12,
    "start_time": "2022-02-12T14:03:33.211Z"
   },
   {
    "duration": 17,
    "start_time": "2022-02-12T14:03:33.225Z"
   },
   {
    "duration": 20,
    "start_time": "2022-02-12T14:03:33.269Z"
   },
   {
    "duration": 42,
    "start_time": "2022-02-12T14:03:33.291Z"
   },
   {
    "duration": 43,
    "start_time": "2022-02-12T14:03:33.336Z"
   },
   {
    "duration": 39,
    "start_time": "2022-02-12T14:03:33.384Z"
   },
   {
    "duration": 7,
    "start_time": "2022-02-12T14:03:33.426Z"
   },
   {
    "duration": 47,
    "start_time": "2022-02-12T14:03:33.436Z"
   },
   {
    "duration": 52,
    "start_time": "2022-02-12T14:03:33.486Z"
   },
   {
    "duration": 5,
    "start_time": "2022-02-12T14:03:33.541Z"
   },
   {
    "duration": 79,
    "start_time": "2022-02-12T14:03:33.549Z"
   },
   {
    "duration": 10,
    "start_time": "2022-02-12T14:03:33.631Z"
   },
   {
    "duration": 58,
    "start_time": "2022-02-12T14:03:33.670Z"
   },
   {
    "duration": 39,
    "start_time": "2022-02-12T14:03:33.731Z"
   },
   {
    "duration": 939,
    "start_time": "2022-02-12T14:03:33.773Z"
   },
   {
    "duration": 28,
    "start_time": "2022-02-12T14:03:34.715Z"
   },
   {
    "duration": 74,
    "start_time": "2022-02-12T14:03:34.746Z"
   },
   {
    "duration": 9,
    "start_time": "2022-02-12T14:03:34.822Z"
   },
   {
    "duration": 59,
    "start_time": "2022-02-12T14:03:34.834Z"
   },
   {
    "duration": 49,
    "start_time": "2022-02-12T14:03:34.895Z"
   },
   {
    "duration": 39,
    "start_time": "2022-02-12T14:03:34.946Z"
   },
   {
    "duration": 13,
    "start_time": "2022-02-12T14:03:34.988Z"
   },
   {
    "duration": 21,
    "start_time": "2022-02-12T14:03:35.003Z"
   },
   {
    "duration": 57,
    "start_time": "2022-02-12T14:03:35.026Z"
   },
   {
    "duration": 28,
    "start_time": "2022-02-12T14:03:35.086Z"
   },
   {
    "duration": 6,
    "start_time": "2022-02-12T14:03:35.117Z"
   },
   {
    "duration": 4,
    "start_time": "2022-02-12T14:03:43.558Z"
   },
   {
    "duration": 3,
    "start_time": "2022-02-12T14:03:48.642Z"
   },
   {
    "duration": 506,
    "start_time": "2022-02-12T14:03:48.648Z"
   },
   {
    "duration": 12,
    "start_time": "2022-02-12T14:03:49.157Z"
   },
   {
    "duration": 28,
    "start_time": "2022-02-12T14:03:49.171Z"
   },
   {
    "duration": 143,
    "start_time": "2022-02-12T14:03:49.202Z"
   },
   {
    "duration": 12,
    "start_time": "2022-02-12T14:03:49.347Z"
   },
   {
    "duration": 23,
    "start_time": "2022-02-12T14:03:49.371Z"
   },
   {
    "duration": 122,
    "start_time": "2022-02-12T14:03:49.398Z"
   },
   {
    "duration": 10,
    "start_time": "2022-02-12T14:03:49.523Z"
   },
   {
    "duration": 39,
    "start_time": "2022-02-12T14:03:49.536Z"
   },
   {
    "duration": 56,
    "start_time": "2022-02-12T14:03:49.577Z"
   },
   {
    "duration": 35,
    "start_time": "2022-02-12T14:03:49.636Z"
   },
   {
    "duration": 10,
    "start_time": "2022-02-12T14:03:49.674Z"
   },
   {
    "duration": 17,
    "start_time": "2022-02-12T14:03:49.687Z"
   },
   {
    "duration": 10,
    "start_time": "2022-02-12T14:03:49.706Z"
   },
   {
    "duration": 61,
    "start_time": "2022-02-12T14:03:49.718Z"
   },
   {
    "duration": 67,
    "start_time": "2022-02-12T14:03:49.781Z"
   },
   {
    "duration": 28,
    "start_time": "2022-02-12T14:03:49.850Z"
   },
   {
    "duration": 21,
    "start_time": "2022-02-12T14:03:49.886Z"
   },
   {
    "duration": 19,
    "start_time": "2022-02-12T14:03:49.911Z"
   },
   {
    "duration": 78,
    "start_time": "2022-02-12T14:03:49.932Z"
   },
   {
    "duration": 13,
    "start_time": "2022-02-12T14:03:50.013Z"
   },
   {
    "duration": 62,
    "start_time": "2022-02-12T14:03:50.029Z"
   },
   {
    "duration": 7,
    "start_time": "2022-02-12T14:03:50.094Z"
   },
   {
    "duration": 17,
    "start_time": "2022-02-12T14:03:50.104Z"
   },
   {
    "duration": 74,
    "start_time": "2022-02-12T14:03:50.124Z"
   },
   {
    "duration": 5,
    "start_time": "2022-02-12T14:03:50.201Z"
   },
   {
    "duration": 88,
    "start_time": "2022-02-12T14:03:50.209Z"
   },
   {
    "duration": 10,
    "start_time": "2022-02-12T14:03:50.299Z"
   },
   {
    "duration": 76,
    "start_time": "2022-02-12T14:03:50.311Z"
   },
   {
    "duration": 9,
    "start_time": "2022-02-12T14:03:50.389Z"
   },
   {
    "duration": 859,
    "start_time": "2022-02-12T14:03:50.401Z"
   },
   {
    "duration": 32,
    "start_time": "2022-02-12T14:03:51.263Z"
   },
   {
    "duration": 73,
    "start_time": "2022-02-12T14:03:51.298Z"
   },
   {
    "duration": 10,
    "start_time": "2022-02-12T14:03:51.373Z"
   },
   {
    "duration": 34,
    "start_time": "2022-02-12T14:03:51.385Z"
   },
   {
    "duration": 77,
    "start_time": "2022-02-12T14:03:51.422Z"
   },
   {
    "duration": 22,
    "start_time": "2022-02-12T14:03:51.501Z"
   },
   {
    "duration": 9,
    "start_time": "2022-02-12T14:03:51.525Z"
   },
   {
    "duration": 40,
    "start_time": "2022-02-12T14:03:51.536Z"
   },
   {
    "duration": 39,
    "start_time": "2022-02-12T14:03:51.578Z"
   },
   {
    "duration": 51,
    "start_time": "2022-02-12T14:03:51.619Z"
   },
   {
    "duration": 3,
    "start_time": "2022-02-12T14:03:51.673Z"
   },
   {
    "duration": 4,
    "start_time": "2022-02-12T14:03:55.353Z"
   },
   {
    "duration": 18,
    "start_time": "2022-02-12T14:03:56.214Z"
   },
   {
    "duration": 4,
    "start_time": "2022-02-12T14:04:29.950Z"
   },
   {
    "duration": 519,
    "start_time": "2022-02-12T14:04:29.957Z"
   },
   {
    "duration": 11,
    "start_time": "2022-02-12T14:04:30.479Z"
   },
   {
    "duration": 43,
    "start_time": "2022-02-12T14:04:30.492Z"
   },
   {
    "duration": 139,
    "start_time": "2022-02-12T14:04:30.537Z"
   },
   {
    "duration": 12,
    "start_time": "2022-02-12T14:04:30.679Z"
   },
   {
    "duration": 27,
    "start_time": "2022-02-12T14:04:30.693Z"
   },
   {
    "duration": 127,
    "start_time": "2022-02-12T14:04:30.724Z"
   },
   {
    "duration": 20,
    "start_time": "2022-02-12T14:04:30.854Z"
   },
   {
    "duration": 31,
    "start_time": "2022-02-12T14:04:30.877Z"
   },
   {
    "duration": 80,
    "start_time": "2022-02-12T14:04:30.911Z"
   },
   {
    "duration": 12,
    "start_time": "2022-02-12T14:04:30.993Z"
   },
   {
    "duration": 16,
    "start_time": "2022-02-12T14:04:31.007Z"
   },
   {
    "duration": 56,
    "start_time": "2022-02-12T14:04:31.025Z"
   },
   {
    "duration": 15,
    "start_time": "2022-02-12T14:04:31.084Z"
   },
   {
    "duration": 35,
    "start_time": "2022-02-12T14:04:31.101Z"
   },
   {
    "duration": 79,
    "start_time": "2022-02-12T14:04:31.139Z"
   },
   {
    "duration": 11,
    "start_time": "2022-02-12T14:04:31.221Z"
   },
   {
    "duration": 45,
    "start_time": "2022-02-12T14:04:31.234Z"
   },
   {
    "duration": 22,
    "start_time": "2022-02-12T14:04:31.281Z"
   },
   {
    "duration": 68,
    "start_time": "2022-02-12T14:04:31.305Z"
   },
   {
    "duration": 15,
    "start_time": "2022-02-12T14:04:31.376Z"
   },
   {
    "duration": 42,
    "start_time": "2022-02-12T14:04:31.397Z"
   },
   {
    "duration": 11,
    "start_time": "2022-02-12T14:04:31.471Z"
   },
   {
    "duration": 53,
    "start_time": "2022-02-12T14:04:31.484Z"
   },
   {
    "duration": 47,
    "start_time": "2022-02-12T14:04:31.540Z"
   },
   {
    "duration": 4,
    "start_time": "2022-02-12T14:04:31.591Z"
   },
   {
    "duration": 84,
    "start_time": "2022-02-12T14:04:31.598Z"
   },
   {
    "duration": 12,
    "start_time": "2022-02-12T14:04:31.684Z"
   },
   {
    "duration": 76,
    "start_time": "2022-02-12T14:04:31.699Z"
   },
   {
    "duration": 10,
    "start_time": "2022-02-12T14:04:31.777Z"
   },
   {
    "duration": 858,
    "start_time": "2022-02-12T14:04:31.789Z"
   },
   {
    "duration": 40,
    "start_time": "2022-02-12T14:04:32.650Z"
   },
   {
    "duration": 53,
    "start_time": "2022-02-12T14:04:32.693Z"
   },
   {
    "duration": 28,
    "start_time": "2022-02-12T14:04:32.748Z"
   },
   {
    "duration": 36,
    "start_time": "2022-02-12T14:04:32.779Z"
   },
   {
    "duration": 81,
    "start_time": "2022-02-12T14:04:32.818Z"
   },
   {
    "duration": 21,
    "start_time": "2022-02-12T14:04:32.901Z"
   },
   {
    "duration": 13,
    "start_time": "2022-02-12T14:04:32.924Z"
   },
   {
    "duration": 40,
    "start_time": "2022-02-12T14:04:32.940Z"
   },
   {
    "duration": 38,
    "start_time": "2022-02-12T14:04:32.983Z"
   },
   {
    "duration": 47,
    "start_time": "2022-02-12T14:04:33.023Z"
   },
   {
    "duration": 31,
    "start_time": "2022-02-12T14:04:34.902Z"
   },
   {
    "duration": 4,
    "start_time": "2022-02-12T14:04:38.503Z"
   },
   {
    "duration": 27,
    "start_time": "2022-02-12T14:04:39.726Z"
   },
   {
    "duration": 22,
    "start_time": "2022-02-12T14:08:21.349Z"
   },
   {
    "duration": 4,
    "start_time": "2022-02-12T14:08:46.782Z"
   },
   {
    "duration": 518,
    "start_time": "2022-02-12T14:08:46.788Z"
   },
   {
    "duration": 13,
    "start_time": "2022-02-12T14:08:47.309Z"
   },
   {
    "duration": 36,
    "start_time": "2022-02-12T14:08:47.326Z"
   },
   {
    "duration": 138,
    "start_time": "2022-02-12T14:08:47.365Z"
   },
   {
    "duration": 14,
    "start_time": "2022-02-12T14:08:47.507Z"
   },
   {
    "duration": 45,
    "start_time": "2022-02-12T14:08:47.524Z"
   },
   {
    "duration": 107,
    "start_time": "2022-02-12T14:08:47.573Z"
   },
   {
    "duration": 10,
    "start_time": "2022-02-12T14:08:47.684Z"
   },
   {
    "duration": 38,
    "start_time": "2022-02-12T14:08:47.697Z"
   },
   {
    "duration": 75,
    "start_time": "2022-02-12T14:08:47.737Z"
   },
   {
    "duration": 14,
    "start_time": "2022-02-12T14:08:47.816Z"
   },
   {
    "duration": 14,
    "start_time": "2022-02-12T14:08:47.833Z"
   },
   {
    "duration": 15,
    "start_time": "2022-02-12T14:08:47.869Z"
   },
   {
    "duration": 36,
    "start_time": "2022-02-12T14:08:47.886Z"
   },
   {
    "duration": 25,
    "start_time": "2022-02-12T14:08:47.924Z"
   },
   {
    "duration": 70,
    "start_time": "2022-02-12T14:08:47.951Z"
   },
   {
    "duration": 15,
    "start_time": "2022-02-12T14:08:48.024Z"
   },
   {
    "duration": 35,
    "start_time": "2022-02-12T14:08:48.041Z"
   },
   {
    "duration": 21,
    "start_time": "2022-02-12T14:08:48.078Z"
   },
   {
    "duration": 46,
    "start_time": "2022-02-12T14:08:48.101Z"
   },
   {
    "duration": 13,
    "start_time": "2022-02-12T14:08:48.170Z"
   },
   {
    "duration": 41,
    "start_time": "2022-02-12T14:08:48.188Z"
   },
   {
    "duration": 7,
    "start_time": "2022-02-12T14:08:48.232Z"
   },
   {
    "duration": 42,
    "start_time": "2022-02-12T14:08:48.241Z"
   },
   {
    "duration": 63,
    "start_time": "2022-02-12T14:08:48.286Z"
   },
   {
    "duration": 18,
    "start_time": "2022-02-12T14:08:48.352Z"
   },
   {
    "duration": 68,
    "start_time": "2022-02-12T14:08:48.373Z"
   },
   {
    "duration": 27,
    "start_time": "2022-02-12T14:08:48.445Z"
   },
   {
    "duration": 70,
    "start_time": "2022-02-12T14:08:48.475Z"
   },
   {
    "duration": 28,
    "start_time": "2022-02-12T14:08:48.548Z"
   },
   {
    "duration": 883,
    "start_time": "2022-02-12T14:08:48.580Z"
   },
   {
    "duration": 29,
    "start_time": "2022-02-12T14:08:49.466Z"
   },
   {
    "duration": 80,
    "start_time": "2022-02-12T14:08:49.497Z"
   },
   {
    "duration": 9,
    "start_time": "2022-02-12T14:08:49.579Z"
   },
   {
    "duration": 38,
    "start_time": "2022-02-12T14:08:49.590Z"
   },
   {
    "duration": 101,
    "start_time": "2022-02-12T14:08:49.631Z"
   },
   {
    "duration": 40,
    "start_time": "2022-02-12T14:08:49.735Z"
   },
   {
    "duration": 11,
    "start_time": "2022-02-12T14:08:49.778Z"
   },
   {
    "duration": 23,
    "start_time": "2022-02-12T14:08:49.792Z"
   },
   {
    "duration": 94,
    "start_time": "2022-02-12T14:08:49.818Z"
   },
   {
    "duration": 31,
    "start_time": "2022-02-12T14:08:49.915Z"
   },
   {
    "duration": 23,
    "start_time": "2022-02-12T14:08:49.950Z"
   },
   {
    "duration": 41,
    "start_time": "2022-02-12T14:08:49.976Z"
   },
   {
    "duration": 10,
    "start_time": "2022-02-12T14:11:09.226Z"
   },
   {
    "duration": 4,
    "start_time": "2022-02-12T14:11:12.936Z"
   },
   {
    "duration": 626,
    "start_time": "2022-02-12T14:11:12.943Z"
   },
   {
    "duration": 17,
    "start_time": "2022-02-12T14:11:13.573Z"
   },
   {
    "duration": 52,
    "start_time": "2022-02-12T14:11:13.594Z"
   },
   {
    "duration": 184,
    "start_time": "2022-02-12T14:11:13.649Z"
   },
   {
    "duration": 12,
    "start_time": "2022-02-12T14:11:13.836Z"
   },
   {
    "duration": 36,
    "start_time": "2022-02-12T14:11:13.852Z"
   },
   {
    "duration": 110,
    "start_time": "2022-02-12T14:11:13.891Z"
   },
   {
    "duration": 10,
    "start_time": "2022-02-12T14:11:14.003Z"
   },
   {
    "duration": 32,
    "start_time": "2022-02-12T14:11:14.015Z"
   },
   {
    "duration": 70,
    "start_time": "2022-02-12T14:11:14.050Z"
   },
   {
    "duration": 12,
    "start_time": "2022-02-12T14:11:14.123Z"
   },
   {
    "duration": 36,
    "start_time": "2022-02-12T14:11:14.137Z"
   },
   {
    "duration": 22,
    "start_time": "2022-02-12T14:11:14.176Z"
   },
   {
    "duration": 13,
    "start_time": "2022-02-12T14:11:14.200Z"
   },
   {
    "duration": 33,
    "start_time": "2022-02-12T14:11:14.215Z"
   },
   {
    "duration": 76,
    "start_time": "2022-02-12T14:11:14.251Z"
   },
   {
    "duration": 12,
    "start_time": "2022-02-12T14:11:14.330Z"
   },
   {
    "duration": 48,
    "start_time": "2022-02-12T14:11:14.347Z"
   },
   {
    "duration": 22,
    "start_time": "2022-02-12T14:11:14.398Z"
   },
   {
    "duration": 89,
    "start_time": "2022-02-12T14:11:14.423Z"
   },
   {
    "duration": 14,
    "start_time": "2022-02-12T14:11:14.515Z"
   },
   {
    "duration": 60,
    "start_time": "2022-02-12T14:11:14.531Z"
   },
   {
    "duration": 7,
    "start_time": "2022-02-12T14:11:14.594Z"
   },
   {
    "duration": 15,
    "start_time": "2022-02-12T14:11:14.604Z"
   },
   {
    "duration": 71,
    "start_time": "2022-02-12T14:11:14.621Z"
   },
   {
    "duration": 4,
    "start_time": "2022-02-12T14:11:14.695Z"
   },
   {
    "duration": 76,
    "start_time": "2022-02-12T14:11:14.702Z"
   },
   {
    "duration": 9,
    "start_time": "2022-02-12T14:11:14.781Z"
   },
   {
    "duration": 77,
    "start_time": "2022-02-12T14:11:14.792Z"
   },
   {
    "duration": 10,
    "start_time": "2022-02-12T14:11:14.872Z"
   },
   {
    "duration": 870,
    "start_time": "2022-02-12T14:11:14.885Z"
   },
   {
    "duration": 36,
    "start_time": "2022-02-12T14:11:15.757Z"
   },
   {
    "duration": 53,
    "start_time": "2022-02-12T14:11:15.796Z"
   },
   {
    "duration": 9,
    "start_time": "2022-02-12T14:11:15.870Z"
   },
   {
    "duration": 37,
    "start_time": "2022-02-12T14:11:15.881Z"
   },
   {
    "duration": 74,
    "start_time": "2022-02-12T14:11:15.921Z"
   },
   {
    "duration": 22,
    "start_time": "2022-02-12T14:11:15.998Z"
   },
   {
    "duration": 14,
    "start_time": "2022-02-12T14:11:16.023Z"
   },
   {
    "duration": 39,
    "start_time": "2022-02-12T14:11:16.040Z"
   },
   {
    "duration": 35,
    "start_time": "2022-02-12T14:11:16.081Z"
   },
   {
    "duration": 12,
    "start_time": "2022-02-12T14:11:16.118Z"
   },
   {
    "duration": 10,
    "start_time": "2022-02-12T14:11:20.857Z"
   },
   {
    "duration": 5,
    "start_time": "2022-02-12T14:11:39.507Z"
   },
   {
    "duration": 23,
    "start_time": "2022-02-12T14:11:41.703Z"
   },
   {
    "duration": 1530,
    "start_time": "2022-02-13T13:41:39.374Z"
   },
   {
    "duration": 519,
    "start_time": "2022-02-13T13:41:40.907Z"
   },
   {
    "duration": 17,
    "start_time": "2022-02-13T13:41:41.429Z"
   },
   {
    "duration": 40,
    "start_time": "2022-02-13T13:41:41.450Z"
   },
   {
    "duration": 147,
    "start_time": "2022-02-13T13:41:41.493Z"
   },
   {
    "duration": 13,
    "start_time": "2022-02-13T13:41:41.643Z"
   },
   {
    "duration": 28,
    "start_time": "2022-02-13T13:41:41.669Z"
   },
   {
    "duration": 127,
    "start_time": "2022-02-13T13:41:41.701Z"
   },
   {
    "duration": 11,
    "start_time": "2022-02-13T13:41:41.831Z"
   },
   {
    "duration": 40,
    "start_time": "2022-02-13T13:41:41.845Z"
   },
   {
    "duration": 74,
    "start_time": "2022-02-13T13:41:41.887Z"
   },
   {
    "duration": 16,
    "start_time": "2022-02-13T13:41:41.963Z"
   },
   {
    "duration": 18,
    "start_time": "2022-02-13T13:41:41.982Z"
   },
   {
    "duration": 28,
    "start_time": "2022-02-13T13:41:42.003Z"
   },
   {
    "duration": 13,
    "start_time": "2022-02-13T13:41:42.034Z"
   },
   {
    "duration": 32,
    "start_time": "2022-02-13T13:41:42.070Z"
   },
   {
    "duration": 94,
    "start_time": "2022-02-13T13:41:42.105Z"
   },
   {
    "duration": 12,
    "start_time": "2022-02-13T13:41:42.202Z"
   },
   {
    "duration": 36,
    "start_time": "2022-02-13T13:41:42.217Z"
   },
   {
    "duration": 29,
    "start_time": "2022-02-13T13:41:42.255Z"
   },
   {
    "duration": 41,
    "start_time": "2022-02-13T13:41:42.286Z"
   },
   {
    "duration": 13,
    "start_time": "2022-02-13T13:41:42.329Z"
   },
   {
    "duration": 52,
    "start_time": "2022-02-13T13:41:42.347Z"
   },
   {
    "duration": 7,
    "start_time": "2022-02-13T13:41:42.402Z"
   },
   {
    "duration": 64,
    "start_time": "2022-02-13T13:41:42.411Z"
   },
   {
    "duration": 48,
    "start_time": "2022-02-13T13:41:42.478Z"
   },
   {
    "duration": 42,
    "start_time": "2022-02-13T13:41:42.528Z"
   },
   {
    "duration": 74,
    "start_time": "2022-02-13T13:41:42.572Z"
   },
   {
    "duration": 10,
    "start_time": "2022-02-13T13:41:42.648Z"
   },
   {
    "duration": 66,
    "start_time": "2022-02-13T13:41:42.661Z"
   },
   {
    "duration": 9,
    "start_time": "2022-02-13T13:41:42.729Z"
   },
   {
    "duration": 909,
    "start_time": "2022-02-13T13:41:42.740Z"
   },
   {
    "duration": 34,
    "start_time": "2022-02-13T13:41:43.652Z"
   },
   {
    "duration": 91,
    "start_time": "2022-02-13T13:41:43.689Z"
   },
   {
    "duration": 10,
    "start_time": "2022-02-13T13:41:43.783Z"
   },
   {
    "duration": 90,
    "start_time": "2022-02-13T13:41:43.795Z"
   },
   {
    "duration": 81,
    "start_time": "2022-02-13T13:41:43.888Z"
   },
   {
    "duration": 32,
    "start_time": "2022-02-13T13:41:43.971Z"
   },
   {
    "duration": 9,
    "start_time": "2022-02-13T13:41:44.005Z"
   },
   {
    "duration": 31,
    "start_time": "2022-02-13T13:41:44.016Z"
   },
   {
    "duration": 47,
    "start_time": "2022-02-13T13:41:44.050Z"
   },
   {
    "duration": 14,
    "start_time": "2022-02-13T13:41:44.099Z"
   },
   {
    "duration": 18,
    "start_time": "2022-02-13T13:41:44.116Z"
   },
   {
    "duration": 68,
    "start_time": "2022-02-13T13:41:44.138Z"
   },
   {
    "duration": 7,
    "start_time": "2022-02-13T13:41:44.209Z"
   },
   {
    "duration": 13,
    "start_time": "2022-02-13T13:42:16.773Z"
   },
   {
    "duration": 5,
    "start_time": "2022-02-13T13:54:35.888Z"
   },
   {
    "duration": 805,
    "start_time": "2022-02-13T13:54:35.896Z"
   },
   {
    "duration": 11,
    "start_time": "2022-02-13T13:54:36.704Z"
   },
   {
    "duration": 321,
    "start_time": "2022-02-13T13:54:36.717Z"
   },
   {
    "duration": 360,
    "start_time": "2022-02-13T13:54:37.041Z"
   },
   {
    "duration": 205,
    "start_time": "2022-02-13T13:54:37.403Z"
   },
   {
    "duration": 328,
    "start_time": "2022-02-13T13:54:37.610Z"
   },
   {
    "duration": 390,
    "start_time": "2022-02-13T13:54:37.942Z"
   },
   {
    "duration": 248,
    "start_time": "2022-02-13T13:54:38.336Z"
   },
   {
    "duration": 341,
    "start_time": "2022-02-13T13:54:38.587Z"
   },
   {
    "duration": 337,
    "start_time": "2022-02-13T13:54:38.931Z"
   },
   {
    "duration": 299,
    "start_time": "2022-02-13T13:54:39.271Z"
   },
   {
    "duration": 301,
    "start_time": "2022-02-13T13:54:39.572Z"
   },
   {
    "duration": 281,
    "start_time": "2022-02-13T13:54:39.876Z"
   },
   {
    "duration": 342,
    "start_time": "2022-02-13T13:54:40.160Z"
   },
   {
    "duration": 258,
    "start_time": "2022-02-13T13:54:40.504Z"
   },
   {
    "duration": 329,
    "start_time": "2022-02-13T13:54:40.765Z"
   },
   {
    "duration": 260,
    "start_time": "2022-02-13T13:54:41.097Z"
   },
   {
    "duration": 303,
    "start_time": "2022-02-13T13:54:41.360Z"
   },
   {
    "duration": 337,
    "start_time": "2022-02-13T13:54:41.666Z"
   },
   {
    "duration": 370,
    "start_time": "2022-02-13T13:54:42.005Z"
   },
   {
    "duration": 179,
    "start_time": "2022-02-13T13:54:42.378Z"
   },
   {
    "duration": 256,
    "start_time": "2022-02-13T13:54:42.562Z"
   },
   {
    "duration": 264,
    "start_time": "2022-02-13T13:54:42.821Z"
   },
   {
    "duration": 334,
    "start_time": "2022-02-13T13:54:43.087Z"
   },
   {
    "duration": 350,
    "start_time": "2022-02-13T13:54:43.424Z"
   },
   {
    "duration": 398,
    "start_time": "2022-02-13T13:54:43.777Z"
   },
   {
    "duration": 569,
    "start_time": "2022-02-13T13:54:44.178Z"
   },
   {
    "duration": 220,
    "start_time": "2022-02-13T13:54:44.749Z"
   },
   {
    "duration": 331,
    "start_time": "2022-02-13T13:54:44.971Z"
   },
   {
    "duration": 251,
    "start_time": "2022-02-13T13:54:45.305Z"
   },
   {
    "duration": 1159,
    "start_time": "2022-02-13T13:54:45.558Z"
   },
   {
    "duration": 30,
    "start_time": "2022-02-13T13:54:46.720Z"
   },
   {
    "duration": 369,
    "start_time": "2022-02-13T13:54:46.752Z"
   },
   {
    "duration": 228,
    "start_time": "2022-02-13T13:54:47.123Z"
   },
   {
    "duration": 348,
    "start_time": "2022-02-13T13:54:47.353Z"
   },
   {
    "duration": 319,
    "start_time": "2022-02-13T13:54:47.704Z"
   },
   {
    "duration": 294,
    "start_time": "2022-02-13T13:54:48.026Z"
   },
   {
    "duration": 380,
    "start_time": "2022-02-13T13:54:48.323Z"
   },
   {
    "duration": 371,
    "start_time": "2022-02-13T13:54:48.705Z"
   },
   {
    "duration": 372,
    "start_time": "2022-02-13T13:54:49.079Z"
   },
   {
    "duration": 436,
    "start_time": "2022-02-13T13:54:49.454Z"
   },
   {
    "duration": 278,
    "start_time": "2022-02-13T13:54:49.893Z"
   },
   {
    "duration": 263,
    "start_time": "2022-02-13T13:54:50.174Z"
   },
   {
    "duration": 11,
    "start_time": "2022-02-13T13:55:44.197Z"
   },
   {
    "duration": 22,
    "start_time": "2022-02-13T13:55:45.685Z"
   },
   {
    "duration": 34,
    "start_time": "2022-02-13T13:58:18.360Z"
   },
   {
    "duration": 13,
    "start_time": "2022-02-13T13:58:58.554Z"
   },
   {
    "duration": 25,
    "start_time": "2022-02-13T14:04:57.945Z"
   },
   {
    "duration": 34,
    "start_time": "2022-02-13T14:08:06.052Z"
   },
   {
    "duration": 14,
    "start_time": "2022-02-13T14:08:17.335Z"
   },
   {
    "duration": 26,
    "start_time": "2022-02-13T14:09:16.882Z"
   },
   {
    "duration": 23,
    "start_time": "2022-02-13T14:54:31.983Z"
   },
   {
    "duration": 6875,
    "start_time": "2022-02-13T15:17:32.221Z"
   },
   {
    "duration": 6908,
    "start_time": "2022-02-13T15:17:46.430Z"
   },
   {
    "duration": 21,
    "start_time": "2022-02-13T15:19:12.749Z"
   },
   {
    "duration": 3,
    "start_time": "2022-02-13T15:35:01.684Z"
   },
   {
    "duration": 642,
    "start_time": "2022-02-13T15:35:01.699Z"
   },
   {
    "duration": 15,
    "start_time": "2022-02-13T15:35:02.344Z"
   },
   {
    "duration": 59,
    "start_time": "2022-02-13T15:35:02.362Z"
   },
   {
    "duration": 205,
    "start_time": "2022-02-13T15:35:02.424Z"
   },
   {
    "duration": 17,
    "start_time": "2022-02-13T15:35:02.632Z"
   },
   {
    "duration": 64,
    "start_time": "2022-02-13T15:35:02.669Z"
   },
   {
    "duration": 148,
    "start_time": "2022-02-13T15:35:02.736Z"
   },
   {
    "duration": 10,
    "start_time": "2022-02-13T15:35:02.886Z"
   },
   {
    "duration": 51,
    "start_time": "2022-02-13T15:35:02.900Z"
   },
   {
    "duration": 131,
    "start_time": "2022-02-13T15:35:02.955Z"
   },
   {
    "duration": 41,
    "start_time": "2022-02-13T15:35:03.089Z"
   },
   {
    "duration": 62,
    "start_time": "2022-02-13T15:35:03.133Z"
   },
   {
    "duration": 69,
    "start_time": "2022-02-13T15:35:03.198Z"
   },
   {
    "duration": 116,
    "start_time": "2022-02-13T15:35:03.270Z"
   },
   {
    "duration": 74,
    "start_time": "2022-02-13T15:35:03.388Z"
   },
   {
    "duration": 135,
    "start_time": "2022-02-13T15:35:03.465Z"
   },
   {
    "duration": 203,
    "start_time": "2022-02-13T15:35:03.603Z"
   },
   {
    "duration": 231,
    "start_time": "2022-02-13T15:35:03.809Z"
   },
   {
    "duration": 167,
    "start_time": "2022-02-13T15:35:04.042Z"
   },
   {
    "duration": 209,
    "start_time": "2022-02-13T15:35:04.212Z"
   },
   {
    "duration": 220,
    "start_time": "2022-02-13T15:35:04.424Z"
   },
   {
    "duration": 168,
    "start_time": "2022-02-13T15:35:04.646Z"
   },
   {
    "duration": 34,
    "start_time": "2022-02-13T15:35:04.817Z"
   },
   {
    "duration": 155,
    "start_time": "2022-02-13T15:35:04.853Z"
   },
   {
    "duration": 197,
    "start_time": "2022-02-13T15:35:05.010Z"
   },
   {
    "duration": 141,
    "start_time": "2022-02-13T15:35:05.209Z"
   },
   {
    "duration": 243,
    "start_time": "2022-02-13T15:35:05.356Z"
   },
   {
    "duration": 135,
    "start_time": "2022-02-13T15:35:05.603Z"
   },
   {
    "duration": 345,
    "start_time": "2022-02-13T15:35:05.741Z"
   },
   {
    "duration": 282,
    "start_time": "2022-02-13T15:35:06.089Z"
   },
   {
    "duration": 1103,
    "start_time": "2022-02-13T15:35:06.374Z"
   },
   {
    "duration": 30,
    "start_time": "2022-02-13T15:35:07.480Z"
   },
   {
    "duration": 265,
    "start_time": "2022-02-13T15:35:07.512Z"
   },
   {
    "duration": 257,
    "start_time": "2022-02-13T15:35:07.780Z"
   },
   {
    "duration": 480,
    "start_time": "2022-02-13T15:35:08.039Z"
   },
   {
    "duration": 338,
    "start_time": "2022-02-13T15:35:08.521Z"
   },
   {
    "duration": 278,
    "start_time": "2022-02-13T15:35:08.862Z"
   },
   {
    "duration": 343,
    "start_time": "2022-02-13T15:35:09.142Z"
   },
   {
    "duration": 217,
    "start_time": "2022-02-13T15:35:09.488Z"
   },
   {
    "duration": 265,
    "start_time": "2022-02-13T15:35:09.708Z"
   },
   {
    "duration": 224,
    "start_time": "2022-02-13T15:35:09.976Z"
   },
   {
    "duration": 211,
    "start_time": "2022-02-13T15:35:10.203Z"
   },
   {
    "duration": 198,
    "start_time": "2022-02-13T15:35:10.417Z"
   },
   {
    "duration": 388,
    "start_time": "2022-02-13T15:35:10.618Z"
   },
   {
    "duration": 265,
    "start_time": "2022-02-13T15:35:11.008Z"
   },
   {
    "duration": 323,
    "start_time": "2022-02-13T15:35:11.275Z"
   },
   {
    "duration": 363,
    "start_time": "2022-02-13T15:35:11.601Z"
   },
   {
    "duration": 320,
    "start_time": "2022-02-13T15:35:11.966Z"
   },
   {
    "duration": 198,
    "start_time": "2022-02-13T15:35:12.289Z"
   },
   {
    "duration": 245,
    "start_time": "2022-02-13T15:35:12.489Z"
   },
   {
    "duration": 279,
    "start_time": "2022-02-13T15:35:58.654Z"
   },
   {
    "duration": 257,
    "start_time": "2022-02-13T15:37:00.304Z"
   },
   {
    "duration": 290,
    "start_time": "2022-02-13T15:45:39.942Z"
   },
   {
    "duration": 5,
    "start_time": "2022-02-13T15:46:09.386Z"
   },
   {
    "duration": 4,
    "start_time": "2022-02-13T15:46:16.175Z"
   },
   {
    "duration": 692,
    "start_time": "2022-02-13T15:46:16.182Z"
   },
   {
    "duration": 13,
    "start_time": "2022-02-13T15:46:16.877Z"
   },
   {
    "duration": 263,
    "start_time": "2022-02-13T15:46:16.893Z"
   },
   {
    "duration": 303,
    "start_time": "2022-02-13T15:46:17.159Z"
   },
   {
    "duration": 76,
    "start_time": "2022-02-13T15:46:17.468Z"
   },
   {
    "duration": 348,
    "start_time": "2022-02-13T15:46:17.546Z"
   },
   {
    "duration": 294,
    "start_time": "2022-02-13T15:46:17.898Z"
   },
   {
    "duration": 221,
    "start_time": "2022-02-13T15:46:18.196Z"
   },
   {
    "duration": 341,
    "start_time": "2022-02-13T15:46:18.420Z"
   },
   {
    "duration": 269,
    "start_time": "2022-02-13T15:46:18.764Z"
   },
   {
    "duration": 172,
    "start_time": "2022-02-13T15:46:19.036Z"
   },
   {
    "duration": 224,
    "start_time": "2022-02-13T15:46:19.211Z"
   },
   {
    "duration": 225,
    "start_time": "2022-02-13T15:46:19.438Z"
   },
   {
    "duration": 208,
    "start_time": "2022-02-13T15:46:19.666Z"
   },
   {
    "duration": 196,
    "start_time": "2022-02-13T15:46:19.877Z"
   },
   {
    "duration": 238,
    "start_time": "2022-02-13T15:46:20.076Z"
   },
   {
    "duration": 249,
    "start_time": "2022-02-13T15:46:20.316Z"
   },
   {
    "duration": 204,
    "start_time": "2022-02-13T15:46:20.568Z"
   },
   {
    "duration": 209,
    "start_time": "2022-02-13T15:46:20.774Z"
   },
   {
    "duration": 307,
    "start_time": "2022-02-13T15:46:20.986Z"
   },
   {
    "duration": 127,
    "start_time": "2022-02-13T15:46:21.295Z"
   },
   {
    "duration": 299,
    "start_time": "2022-02-13T15:46:21.428Z"
   },
   {
    "duration": 255,
    "start_time": "2022-02-13T15:46:21.730Z"
   },
   {
    "duration": 219,
    "start_time": "2022-02-13T15:46:21.988Z"
   },
   {
    "duration": 239,
    "start_time": "2022-02-13T15:46:22.209Z"
   },
   {
    "duration": 223,
    "start_time": "2022-02-13T15:46:22.451Z"
   },
   {
    "duration": 264,
    "start_time": "2022-02-13T15:46:22.677Z"
   },
   {
    "duration": 219,
    "start_time": "2022-02-13T15:46:22.944Z"
   },
   {
    "duration": 196,
    "start_time": "2022-02-13T15:46:23.166Z"
   },
   {
    "duration": 257,
    "start_time": "2022-02-13T15:46:23.364Z"
   },
   {
    "duration": 1125,
    "start_time": "2022-02-13T15:46:23.623Z"
   },
   {
    "duration": 38,
    "start_time": "2022-02-13T15:46:24.750Z"
   },
   {
    "duration": 351,
    "start_time": "2022-02-13T15:46:24.791Z"
   },
   {
    "duration": 209,
    "start_time": "2022-02-13T15:46:25.144Z"
   },
   {
    "duration": 425,
    "start_time": "2022-02-13T15:46:25.357Z"
   },
   {
    "duration": 330,
    "start_time": "2022-02-13T15:46:25.784Z"
   },
   {
    "duration": 219,
    "start_time": "2022-02-13T15:46:26.116Z"
   },
   {
    "duration": 296,
    "start_time": "2022-02-13T15:46:26.338Z"
   },
   {
    "duration": 212,
    "start_time": "2022-02-13T15:46:26.637Z"
   },
   {
    "duration": 196,
    "start_time": "2022-02-13T15:46:26.851Z"
   },
   {
    "duration": 171,
    "start_time": "2022-02-13T15:46:27.050Z"
   },
   {
    "duration": 285,
    "start_time": "2022-02-13T15:46:27.223Z"
   },
   {
    "duration": 286,
    "start_time": "2022-02-13T15:46:27.511Z"
   },
   {
    "duration": 293,
    "start_time": "2022-02-13T15:46:27.799Z"
   },
   {
    "duration": 261,
    "start_time": "2022-02-13T15:46:28.095Z"
   },
   {
    "duration": 194,
    "start_time": "2022-02-13T15:46:28.358Z"
   },
   {
    "duration": 235,
    "start_time": "2022-02-13T15:46:28.554Z"
   },
   {
    "duration": 181,
    "start_time": "2022-02-13T15:46:28.792Z"
   },
   {
    "duration": 250,
    "start_time": "2022-02-13T15:46:28.975Z"
   },
   {
    "duration": 175,
    "start_time": "2022-02-13T15:46:29.228Z"
   },
   {
    "duration": 5,
    "start_time": "2022-02-13T15:46:36.034Z"
   },
   {
    "duration": 6,
    "start_time": "2022-02-13T15:47:25.924Z"
   },
   {
    "duration": 4,
    "start_time": "2022-02-13T15:47:29.206Z"
   },
   {
    "duration": 663,
    "start_time": "2022-02-13T15:47:29.213Z"
   },
   {
    "duration": 17,
    "start_time": "2022-02-13T15:47:29.880Z"
   },
   {
    "duration": 201,
    "start_time": "2022-02-13T15:47:29.900Z"
   },
   {
    "duration": 300,
    "start_time": "2022-02-13T15:47:30.104Z"
   },
   {
    "duration": 221,
    "start_time": "2022-02-13T15:47:30.406Z"
   },
   {
    "duration": 348,
    "start_time": "2022-02-13T15:47:30.632Z"
   },
   {
    "duration": 262,
    "start_time": "2022-02-13T15:47:30.984Z"
   },
   {
    "duration": 81,
    "start_time": "2022-02-13T15:47:31.248Z"
   },
   {
    "duration": 197,
    "start_time": "2022-02-13T15:47:31.332Z"
   },
   {
    "duration": 288,
    "start_time": "2022-02-13T15:47:31.533Z"
   },
   {
    "duration": 120,
    "start_time": "2022-02-13T15:47:31.824Z"
   },
   {
    "duration": 355,
    "start_time": "2022-02-13T15:47:31.947Z"
   },
   {
    "duration": 400,
    "start_time": "2022-02-13T15:47:32.304Z"
   },
   {
    "duration": 217,
    "start_time": "2022-02-13T15:47:32.706Z"
   },
   {
    "duration": 297,
    "start_time": "2022-02-13T15:47:32.927Z"
   },
   {
    "duration": 377,
    "start_time": "2022-02-13T15:47:33.227Z"
   },
   {
    "duration": 399,
    "start_time": "2022-02-13T15:47:33.607Z"
   },
   {
    "duration": 181,
    "start_time": "2022-02-13T15:47:34.011Z"
   },
   {
    "duration": 288,
    "start_time": "2022-02-13T15:47:34.196Z"
   },
   {
    "duration": 324,
    "start_time": "2022-02-13T15:47:34.487Z"
   },
   {
    "duration": 253,
    "start_time": "2022-02-13T15:47:34.814Z"
   },
   {
    "duration": 347,
    "start_time": "2022-02-13T15:47:35.070Z"
   },
   {
    "duration": 289,
    "start_time": "2022-02-13T15:47:35.420Z"
   },
   {
    "duration": 350,
    "start_time": "2022-02-13T15:47:35.712Z"
   },
   {
    "duration": 388,
    "start_time": "2022-02-13T15:47:36.065Z"
   },
   {
    "duration": 260,
    "start_time": "2022-02-13T15:47:36.456Z"
   },
   {
    "duration": 446,
    "start_time": "2022-02-13T15:47:36.719Z"
   },
   {
    "duration": 304,
    "start_time": "2022-02-13T15:47:37.168Z"
   },
   {
    "duration": 316,
    "start_time": "2022-02-13T15:47:37.476Z"
   },
   {
    "duration": 356,
    "start_time": "2022-02-13T15:47:37.794Z"
   },
   {
    "duration": 1139,
    "start_time": "2022-02-13T15:47:38.153Z"
   },
   {
    "duration": 29,
    "start_time": "2022-02-13T15:47:39.294Z"
   },
   {
    "duration": 264,
    "start_time": "2022-02-13T15:47:39.325Z"
   },
   {
    "duration": 181,
    "start_time": "2022-02-13T15:47:39.592Z"
   },
   {
    "duration": 303,
    "start_time": "2022-02-13T15:47:39.776Z"
   },
   {
    "duration": 246,
    "start_time": "2022-02-13T15:47:40.082Z"
   },
   {
    "duration": 296,
    "start_time": "2022-02-13T15:47:40.330Z"
   },
   {
    "duration": 372,
    "start_time": "2022-02-13T15:47:40.629Z"
   },
   {
    "duration": 364,
    "start_time": "2022-02-13T15:47:41.003Z"
   },
   {
    "duration": 411,
    "start_time": "2022-02-13T15:47:41.370Z"
   },
   {
    "duration": 220,
    "start_time": "2022-02-13T15:47:41.784Z"
   },
   {
    "duration": 387,
    "start_time": "2022-02-13T15:47:42.006Z"
   },
   {
    "duration": 496,
    "start_time": "2022-02-13T15:47:42.395Z"
   },
   {
    "duration": 411,
    "start_time": "2022-02-13T15:47:42.893Z"
   },
   {
    "duration": 304,
    "start_time": "2022-02-13T15:47:43.307Z"
   },
   {
    "duration": 407,
    "start_time": "2022-02-13T15:47:43.613Z"
   },
   {
    "duration": 450,
    "start_time": "2022-02-13T15:47:44.023Z"
   },
   {
    "duration": 172,
    "start_time": "2022-02-13T15:47:44.476Z"
   },
   {
    "duration": 295,
    "start_time": "2022-02-13T15:47:44.651Z"
   },
   {
    "duration": 298,
    "start_time": "2022-02-13T15:47:44.948Z"
   },
   {
    "duration": 252,
    "start_time": "2022-02-13T15:47:45.249Z"
   },
   {
    "duration": 6,
    "start_time": "2022-02-13T15:48:19.740Z"
   },
   {
    "duration": 570,
    "start_time": "2022-02-13T15:48:51.577Z"
   },
   {
    "duration": 4,
    "start_time": "2022-02-13T15:50:23.359Z"
   },
   {
    "duration": 700,
    "start_time": "2022-02-13T15:50:23.366Z"
   },
   {
    "duration": 13,
    "start_time": "2022-02-13T15:50:24.069Z"
   },
   {
    "duration": 304,
    "start_time": "2022-02-13T15:50:24.085Z"
   },
   {
    "duration": 330,
    "start_time": "2022-02-13T15:50:24.392Z"
   },
   {
    "duration": 88,
    "start_time": "2022-02-13T15:50:24.724Z"
   },
   {
    "duration": 244,
    "start_time": "2022-02-13T15:50:24.816Z"
   },
   {
    "duration": 249,
    "start_time": "2022-02-13T15:50:25.063Z"
   },
   {
    "duration": 79,
    "start_time": "2022-02-13T15:50:25.314Z"
   },
   {
    "duration": 268,
    "start_time": "2022-02-13T15:50:25.395Z"
   },
   {
    "duration": 231,
    "start_time": "2022-02-13T15:50:25.665Z"
   },
   {
    "duration": 137,
    "start_time": "2022-02-13T15:50:25.898Z"
   },
   {
    "duration": 188,
    "start_time": "2022-02-13T15:50:26.038Z"
   },
   {
    "duration": 214,
    "start_time": "2022-02-13T15:50:26.228Z"
   },
   {
    "duration": 315,
    "start_time": "2022-02-13T15:50:26.444Z"
   },
   {
    "duration": 222,
    "start_time": "2022-02-13T15:50:26.761Z"
   },
   {
    "duration": 291,
    "start_time": "2022-02-13T15:50:26.986Z"
   },
   {
    "duration": 216,
    "start_time": "2022-02-13T15:50:27.280Z"
   },
   {
    "duration": 285,
    "start_time": "2022-02-13T15:50:27.505Z"
   },
   {
    "duration": 165,
    "start_time": "2022-02-13T15:50:27.794Z"
   },
   {
    "duration": 210,
    "start_time": "2022-02-13T15:50:27.961Z"
   },
   {
    "duration": 210,
    "start_time": "2022-02-13T15:50:28.173Z"
   },
   {
    "duration": 251,
    "start_time": "2022-02-13T15:50:28.385Z"
   },
   {
    "duration": 172,
    "start_time": "2022-02-13T15:50:28.639Z"
   },
   {
    "duration": 225,
    "start_time": "2022-02-13T15:50:28.815Z"
   },
   {
    "duration": 229,
    "start_time": "2022-02-13T15:50:29.042Z"
   },
   {
    "duration": 179,
    "start_time": "2022-02-13T15:50:29.274Z"
   },
   {
    "duration": 255,
    "start_time": "2022-02-13T15:50:29.455Z"
   },
   {
    "duration": 178,
    "start_time": "2022-02-13T15:50:29.713Z"
   },
   {
    "duration": 258,
    "start_time": "2022-02-13T15:50:29.894Z"
   },
   {
    "duration": 240,
    "start_time": "2022-02-13T15:50:30.154Z"
   },
   {
    "duration": 1116,
    "start_time": "2022-02-13T15:50:30.396Z"
   },
   {
    "duration": 32,
    "start_time": "2022-02-13T15:50:31.515Z"
   },
   {
    "duration": 311,
    "start_time": "2022-02-13T15:50:31.549Z"
   },
   {
    "duration": 167,
    "start_time": "2022-02-13T15:50:31.863Z"
   },
   {
    "duration": 244,
    "start_time": "2022-02-13T15:50:32.033Z"
   },
   {
    "duration": 240,
    "start_time": "2022-02-13T15:50:32.281Z"
   },
   {
    "duration": 198,
    "start_time": "2022-02-13T15:50:32.524Z"
   },
   {
    "duration": 191,
    "start_time": "2022-02-13T15:50:32.724Z"
   },
   {
    "duration": 230,
    "start_time": "2022-02-13T15:50:32.917Z"
   },
   {
    "duration": 233,
    "start_time": "2022-02-13T15:50:33.149Z"
   },
   {
    "duration": 187,
    "start_time": "2022-02-13T15:50:33.385Z"
   },
   {
    "duration": 214,
    "start_time": "2022-02-13T15:50:33.574Z"
   },
   {
    "duration": 203,
    "start_time": "2022-02-13T15:50:33.791Z"
   },
   {
    "duration": 200,
    "start_time": "2022-02-13T15:50:33.997Z"
   },
   {
    "duration": 164,
    "start_time": "2022-02-13T15:50:34.200Z"
   },
   {
    "duration": 202,
    "start_time": "2022-02-13T15:50:34.367Z"
   },
   {
    "duration": 344,
    "start_time": "2022-02-13T15:50:34.571Z"
   },
   {
    "duration": 142,
    "start_time": "2022-02-13T15:50:34.918Z"
   },
   {
    "duration": 346,
    "start_time": "2022-02-13T15:50:35.063Z"
   },
   {
    "duration": 220,
    "start_time": "2022-02-13T15:50:35.411Z"
   },
   {
    "duration": 25,
    "start_time": "2022-02-13T15:50:37.670Z"
   },
   {
    "duration": 9,
    "start_time": "2022-02-13T15:50:40.046Z"
   },
   {
    "duration": 516,
    "start_time": "2022-02-13T15:50:42.743Z"
   },
   {
    "duration": 4,
    "start_time": "2022-02-13T15:51:00.418Z"
   },
   {
    "duration": 1244,
    "start_time": "2022-02-13T15:51:00.424Z"
   },
   {
    "duration": 11,
    "start_time": "2022-02-13T15:51:01.671Z"
   },
   {
    "duration": 252,
    "start_time": "2022-02-13T15:51:01.685Z"
   },
   {
    "duration": 438,
    "start_time": "2022-02-13T15:51:01.940Z"
   },
   {
    "duration": 87,
    "start_time": "2022-02-13T15:51:02.380Z"
   },
   {
    "duration": 335,
    "start_time": "2022-02-13T15:51:02.470Z"
   },
   {
    "duration": 312,
    "start_time": "2022-02-13T15:51:02.809Z"
   },
   {
    "duration": 136,
    "start_time": "2022-02-13T15:51:03.124Z"
   },
   {
    "duration": 229,
    "start_time": "2022-02-13T15:51:03.263Z"
   },
   {
    "duration": 286,
    "start_time": "2022-02-13T15:51:03.494Z"
   },
   {
    "duration": 103,
    "start_time": "2022-02-13T15:51:03.782Z"
   },
   {
    "duration": 231,
    "start_time": "2022-02-13T15:51:03.888Z"
   },
   {
    "duration": 227,
    "start_time": "2022-02-13T15:51:04.122Z"
   },
   {
    "duration": 227,
    "start_time": "2022-02-13T15:51:04.351Z"
   },
   {
    "duration": 241,
    "start_time": "2022-02-13T15:51:04.581Z"
   },
   {
    "duration": 234,
    "start_time": "2022-02-13T15:51:04.825Z"
   },
   {
    "duration": 165,
    "start_time": "2022-02-13T15:51:05.062Z"
   },
   {
    "duration": 340,
    "start_time": "2022-02-13T15:51:05.230Z"
   },
   {
    "duration": 185,
    "start_time": "2022-02-13T15:51:05.572Z"
   },
   {
    "duration": 81,
    "start_time": "2022-02-13T15:51:05.759Z"
   },
   {
    "duration": 15,
    "start_time": "2022-02-13T15:51:05.842Z"
   },
   {
    "duration": 52,
    "start_time": "2022-02-13T15:51:05.864Z"
   },
   {
    "duration": 152,
    "start_time": "2022-02-13T15:51:05.919Z"
   },
   {
    "duration": 177,
    "start_time": "2022-02-13T15:51:06.074Z"
   },
   {
    "duration": 192,
    "start_time": "2022-02-13T15:51:06.253Z"
   },
   {
    "duration": 244,
    "start_time": "2022-02-13T15:51:06.447Z"
   },
   {
    "duration": 284,
    "start_time": "2022-02-13T15:51:06.693Z"
   },
   {
    "duration": 206,
    "start_time": "2022-02-13T15:51:06.979Z"
   },
   {
    "duration": 288,
    "start_time": "2022-02-13T15:51:07.188Z"
   },
   {
    "duration": 191,
    "start_time": "2022-02-13T15:51:07.479Z"
   },
   {
    "duration": 1112,
    "start_time": "2022-02-13T15:51:07.673Z"
   },
   {
    "duration": 29,
    "start_time": "2022-02-13T15:51:08.788Z"
   },
   {
    "duration": 259,
    "start_time": "2022-02-13T15:51:08.819Z"
   },
   {
    "duration": 238,
    "start_time": "2022-02-13T15:51:09.080Z"
   },
   {
    "duration": 270,
    "start_time": "2022-02-13T15:51:09.322Z"
   },
   {
    "duration": 277,
    "start_time": "2022-02-13T15:51:09.594Z"
   },
   {
    "duration": 152,
    "start_time": "2022-02-13T15:51:09.874Z"
   },
   {
    "duration": 213,
    "start_time": "2022-02-13T15:51:10.029Z"
   },
   {
    "duration": 225,
    "start_time": "2022-02-13T15:51:10.245Z"
   },
   {
    "duration": 90,
    "start_time": "2022-02-13T15:51:10.473Z"
   },
   {
    "duration": 262,
    "start_time": "2022-02-13T15:51:10.565Z"
   },
   {
    "duration": 157,
    "start_time": "2022-02-13T15:51:10.830Z"
   },
   {
    "duration": 187,
    "start_time": "2022-02-13T15:51:10.990Z"
   },
   {
    "duration": 241,
    "start_time": "2022-02-13T15:51:11.179Z"
   },
   {
    "duration": 185,
    "start_time": "2022-02-13T15:51:11.422Z"
   },
   {
    "duration": 155,
    "start_time": "2022-02-13T15:51:11.610Z"
   },
   {
    "duration": 253,
    "start_time": "2022-02-13T15:51:11.767Z"
   },
   {
    "duration": 211,
    "start_time": "2022-02-13T15:51:12.022Z"
   },
   {
    "duration": 219,
    "start_time": "2022-02-13T15:51:12.236Z"
   },
   {
    "duration": 182,
    "start_time": "2022-02-13T15:51:12.458Z"
   },
   {
    "duration": 5,
    "start_time": "2022-02-13T15:51:18.118Z"
   },
   {
    "duration": 631,
    "start_time": "2022-02-13T15:51:19.218Z"
   },
   {
    "duration": 262,
    "start_time": "2022-02-13T15:52:12.342Z"
   },
   {
    "duration": 7,
    "start_time": "2022-02-13T15:52:45.586Z"
   },
   {
    "duration": 534,
    "start_time": "2022-02-13T15:52:47.682Z"
   },
   {
    "duration": 43,
    "start_time": "2022-02-13T15:53:12.133Z"
   },
   {
    "duration": 4,
    "start_time": "2022-02-13T18:11:18.017Z"
   },
   {
    "duration": 1169,
    "start_time": "2022-02-13T18:11:22.288Z"
   },
   {
    "duration": 378,
    "start_time": "2022-02-13T18:11:23.459Z"
   },
   {
    "duration": 12,
    "start_time": "2022-02-13T18:11:23.840Z"
   },
   {
    "duration": 25,
    "start_time": "2022-02-13T18:11:23.854Z"
   },
   {
    "duration": 101,
    "start_time": "2022-02-13T18:11:23.881Z"
   },
   {
    "duration": 8,
    "start_time": "2022-02-13T18:11:23.984Z"
   },
   {
    "duration": 32,
    "start_time": "2022-02-13T18:11:23.994Z"
   },
   {
    "duration": 69,
    "start_time": "2022-02-13T18:11:24.028Z"
   },
   {
    "duration": 20,
    "start_time": "2022-02-13T18:11:24.099Z"
   },
   {
    "duration": 16,
    "start_time": "2022-02-13T18:11:24.120Z"
   },
   {
    "duration": 48,
    "start_time": "2022-02-13T18:11:24.138Z"
   },
   {
    "duration": 29,
    "start_time": "2022-02-13T18:11:24.188Z"
   },
   {
    "duration": 8,
    "start_time": "2022-02-13T18:11:24.219Z"
   },
   {
    "duration": 11,
    "start_time": "2022-02-13T18:11:24.229Z"
   },
   {
    "duration": 8,
    "start_time": "2022-02-13T18:11:24.242Z"
   },
   {
    "duration": 25,
    "start_time": "2022-02-13T18:11:24.252Z"
   },
   {
    "duration": 74,
    "start_time": "2022-02-13T18:11:24.279Z"
   },
   {
    "duration": 8,
    "start_time": "2022-02-13T18:11:24.354Z"
   },
   {
    "duration": 17,
    "start_time": "2022-02-13T18:11:24.364Z"
   },
   {
    "duration": 35,
    "start_time": "2022-02-13T18:11:24.383Z"
   },
   {
    "duration": 32,
    "start_time": "2022-02-13T18:11:24.419Z"
   },
   {
    "duration": 10,
    "start_time": "2022-02-13T18:11:24.453Z"
   },
   {
    "duration": 57,
    "start_time": "2022-02-13T18:11:24.466Z"
   },
   {
    "duration": 5,
    "start_time": "2022-02-13T18:11:24.525Z"
   },
   {
    "duration": 16,
    "start_time": "2022-02-13T18:11:24.531Z"
   },
   {
    "duration": 34,
    "start_time": "2022-02-13T18:11:24.549Z"
   },
   {
    "duration": 3,
    "start_time": "2022-02-13T18:11:24.585Z"
   },
   {
    "duration": 70,
    "start_time": "2022-02-13T18:11:24.589Z"
   },
   {
    "duration": 7,
    "start_time": "2022-02-13T18:11:24.660Z"
   },
   {
    "duration": 55,
    "start_time": "2022-02-13T18:11:24.668Z"
   },
   {
    "duration": 6,
    "start_time": "2022-02-13T18:11:24.725Z"
   },
   {
    "duration": 551,
    "start_time": "2022-02-13T18:11:24.733Z"
   },
   {
    "duration": 28,
    "start_time": "2022-02-13T18:11:25.285Z"
   },
   {
    "duration": 39,
    "start_time": "2022-02-13T18:11:25.315Z"
   },
   {
    "duration": 6,
    "start_time": "2022-02-13T18:11:25.356Z"
   },
   {
    "duration": 26,
    "start_time": "2022-02-13T18:11:25.364Z"
   },
   {
    "duration": 35,
    "start_time": "2022-02-13T18:11:25.413Z"
   },
   {
    "duration": 14,
    "start_time": "2022-02-13T18:11:25.450Z"
   },
   {
    "duration": 6,
    "start_time": "2022-02-13T18:11:25.465Z"
   },
   {
    "duration": 11,
    "start_time": "2022-02-13T18:11:25.473Z"
   },
   {
    "duration": 48,
    "start_time": "2022-02-13T18:11:25.486Z"
   },
   {
    "duration": 8,
    "start_time": "2022-02-13T18:11:25.536Z"
   },
   {
    "duration": 4,
    "start_time": "2022-02-13T18:11:25.546Z"
   },
   {
    "duration": 15,
    "start_time": "2022-02-13T18:11:25.552Z"
   },
   {
    "duration": 55,
    "start_time": "2022-02-13T18:11:25.569Z"
   },
   {
    "duration": 8,
    "start_time": "2022-02-13T18:11:25.626Z"
   },
   {
    "duration": 16,
    "start_time": "2022-02-13T18:11:25.636Z"
   },
   {
    "duration": 22,
    "start_time": "2022-02-13T18:11:25.653Z"
   },
   {
    "duration": 41,
    "start_time": "2022-02-13T18:11:25.677Z"
   },
   {
    "duration": 17,
    "start_time": "2022-02-13T18:11:25.720Z"
   },
   {
    "duration": 14,
    "start_time": "2022-02-13T18:11:25.739Z"
   },
   {
    "duration": 4,
    "start_time": "2022-02-13T18:11:25.755Z"
   },
   {
    "duration": 1098,
    "start_time": "2022-02-13T18:11:43.850Z"
   },
   {
    "duration": 382,
    "start_time": "2022-02-13T18:11:44.950Z"
   },
   {
    "duration": 11,
    "start_time": "2022-02-13T18:11:45.334Z"
   },
   {
    "duration": 23,
    "start_time": "2022-02-13T18:11:45.347Z"
   },
   {
    "duration": 100,
    "start_time": "2022-02-13T18:11:45.372Z"
   },
   {
    "duration": 9,
    "start_time": "2022-02-13T18:11:45.474Z"
   },
   {
    "duration": 33,
    "start_time": "2022-02-13T18:11:45.484Z"
   },
   {
    "duration": 65,
    "start_time": "2022-02-13T18:11:45.520Z"
   },
   {
    "duration": 7,
    "start_time": "2022-02-13T18:11:45.588Z"
   },
   {
    "duration": 16,
    "start_time": "2022-02-13T18:11:45.612Z"
   },
   {
    "duration": 43,
    "start_time": "2022-02-13T18:11:45.630Z"
   },
   {
    "duration": 8,
    "start_time": "2022-02-13T18:11:45.675Z"
   },
   {
    "duration": 8,
    "start_time": "2022-02-13T18:11:45.713Z"
   },
   {
    "duration": 11,
    "start_time": "2022-02-13T18:11:45.723Z"
   },
   {
    "duration": 7,
    "start_time": "2022-02-13T18:11:45.736Z"
   },
   {
    "duration": 21,
    "start_time": "2022-02-13T18:11:45.744Z"
   },
   {
    "duration": 73,
    "start_time": "2022-02-13T18:11:45.767Z"
   },
   {
    "duration": 8,
    "start_time": "2022-02-13T18:11:45.842Z"
   },
   {
    "duration": 17,
    "start_time": "2022-02-13T18:11:45.852Z"
   },
   {
    "duration": 13,
    "start_time": "2022-02-13T18:11:45.871Z"
   },
   {
    "duration": 50,
    "start_time": "2022-02-13T18:11:45.886Z"
   },
   {
    "duration": 9,
    "start_time": "2022-02-13T18:11:45.938Z"
   },
   {
    "duration": 27,
    "start_time": "2022-02-13T18:11:45.951Z"
   },
   {
    "duration": 34,
    "start_time": "2022-02-13T18:11:45.980Z"
   },
   {
    "duration": 11,
    "start_time": "2022-02-13T18:11:46.015Z"
   },
   {
    "duration": 31,
    "start_time": "2022-02-13T18:11:46.028Z"
   },
   {
    "duration": 2,
    "start_time": "2022-02-13T18:11:46.061Z"
   },
   {
    "duration": 69,
    "start_time": "2022-02-13T18:11:46.065Z"
   },
   {
    "duration": 7,
    "start_time": "2022-02-13T18:11:46.136Z"
   },
   {
    "duration": 68,
    "start_time": "2022-02-13T18:11:46.145Z"
   },
   {
    "duration": 7,
    "start_time": "2022-02-13T18:11:46.215Z"
   },
   {
    "duration": 534,
    "start_time": "2022-02-13T18:11:46.223Z"
   },
   {
    "duration": 20,
    "start_time": "2022-02-13T18:11:46.759Z"
   },
   {
    "duration": 56,
    "start_time": "2022-02-13T18:11:46.781Z"
   },
   {
    "duration": 7,
    "start_time": "2022-02-13T18:11:46.839Z"
   },
   {
    "duration": 27,
    "start_time": "2022-02-13T18:11:46.848Z"
   },
   {
    "duration": 56,
    "start_time": "2022-02-13T18:11:46.877Z"
   },
   {
    "duration": 14,
    "start_time": "2022-02-13T18:11:46.935Z"
   },
   {
    "duration": 7,
    "start_time": "2022-02-13T18:11:46.950Z"
   },
   {
    "duration": 13,
    "start_time": "2022-02-13T18:11:46.959Z"
   },
   {
    "duration": 46,
    "start_time": "2022-02-13T18:11:46.974Z"
   },
   {
    "duration": 9,
    "start_time": "2022-02-13T18:11:47.022Z"
   },
   {
    "duration": 5,
    "start_time": "2022-02-13T18:11:47.032Z"
   },
   {
    "duration": 17,
    "start_time": "2022-02-13T18:11:47.039Z"
   },
   {
    "duration": 21,
    "start_time": "2022-02-13T18:11:47.057Z"
   },
   {
    "duration": 38,
    "start_time": "2022-02-13T18:11:47.080Z"
   },
   {
    "duration": 16,
    "start_time": "2022-02-13T18:11:47.120Z"
   },
   {
    "duration": 23,
    "start_time": "2022-02-13T18:11:47.137Z"
   },
   {
    "duration": 8,
    "start_time": "2022-02-13T18:11:47.162Z"
   },
   {
    "duration": 44,
    "start_time": "2022-02-13T18:11:47.171Z"
   },
   {
    "duration": 17,
    "start_time": "2022-02-13T18:11:47.217Z"
   },
   {
    "duration": 4,
    "start_time": "2022-02-13T18:11:47.236Z"
   },
   {
    "duration": 1107,
    "start_time": "2022-02-13T18:14:50.251Z"
   },
   {
    "duration": 377,
    "start_time": "2022-02-13T18:14:51.360Z"
   },
   {
    "duration": 12,
    "start_time": "2022-02-13T18:14:51.740Z"
   },
   {
    "duration": 26,
    "start_time": "2022-02-13T18:14:51.753Z"
   },
   {
    "duration": 96,
    "start_time": "2022-02-13T18:14:51.781Z"
   },
   {
    "duration": 8,
    "start_time": "2022-02-13T18:14:51.879Z"
   },
   {
    "duration": 28,
    "start_time": "2022-02-13T18:14:51.889Z"
   },
   {
    "duration": 67,
    "start_time": "2022-02-13T18:14:51.919Z"
   },
   {
    "duration": 25,
    "start_time": "2022-02-13T18:14:51.988Z"
   },
   {
    "duration": 20,
    "start_time": "2022-02-13T18:14:52.015Z"
   },
   {
    "duration": 49,
    "start_time": "2022-02-13T18:14:52.037Z"
   },
   {
    "duration": 25,
    "start_time": "2022-02-13T18:14:52.088Z"
   },
   {
    "duration": 8,
    "start_time": "2022-02-13T18:14:52.115Z"
   },
   {
    "duration": 11,
    "start_time": "2022-02-13T18:14:52.125Z"
   },
   {
    "duration": 7,
    "start_time": "2022-02-13T18:14:52.138Z"
   },
   {
    "duration": 25,
    "start_time": "2022-02-13T18:14:52.147Z"
   },
   {
    "duration": 75,
    "start_time": "2022-02-13T18:14:52.174Z"
   },
   {
    "duration": 8,
    "start_time": "2022-02-13T18:14:52.250Z"
   },
   {
    "duration": 20,
    "start_time": "2022-02-13T18:14:52.260Z"
   },
   {
    "duration": 33,
    "start_time": "2022-02-13T18:14:52.282Z"
   },
   {
    "duration": 31,
    "start_time": "2022-02-13T18:14:52.317Z"
   },
   {
    "duration": 11,
    "start_time": "2022-02-13T18:14:52.350Z"
   },
   {
    "duration": 53,
    "start_time": "2022-02-13T18:14:52.365Z"
   },
   {
    "duration": 6,
    "start_time": "2022-02-13T18:14:52.420Z"
   },
   {
    "duration": 13,
    "start_time": "2022-02-13T18:14:52.427Z"
   },
   {
    "duration": 36,
    "start_time": "2022-02-13T18:14:52.442Z"
   },
   {
    "duration": 3,
    "start_time": "2022-02-13T18:14:52.480Z"
   },
   {
    "duration": 70,
    "start_time": "2022-02-13T18:14:52.484Z"
   },
   {
    "duration": 7,
    "start_time": "2022-02-13T18:14:52.556Z"
   },
   {
    "duration": 59,
    "start_time": "2022-02-13T18:14:52.564Z"
   },
   {
    "duration": 6,
    "start_time": "2022-02-13T18:14:52.625Z"
   },
   {
    "duration": 556,
    "start_time": "2022-02-13T18:14:52.633Z"
   },
   {
    "duration": 33,
    "start_time": "2022-02-13T18:14:53.190Z"
   },
   {
    "duration": 40,
    "start_time": "2022-02-13T18:14:53.225Z"
   },
   {
    "duration": 6,
    "start_time": "2022-02-13T18:14:53.267Z"
   },
   {
    "duration": 42,
    "start_time": "2022-02-13T18:14:53.275Z"
   },
   {
    "duration": 35,
    "start_time": "2022-02-13T18:14:53.319Z"
   },
   {
    "duration": 15,
    "start_time": "2022-02-13T18:14:53.357Z"
   },
   {
    "duration": 8,
    "start_time": "2022-02-13T18:14:53.374Z"
   },
   {
    "duration": 11,
    "start_time": "2022-02-13T18:14:53.413Z"
   },
   {
    "duration": 22,
    "start_time": "2022-02-13T18:14:53.425Z"
   },
   {
    "duration": 8,
    "start_time": "2022-02-13T18:14:53.449Z"
   },
   {
    "duration": 3,
    "start_time": "2022-02-13T18:14:53.458Z"
   },
   {
    "duration": 49,
    "start_time": "2022-02-13T18:14:53.463Z"
   },
   {
    "duration": 23,
    "start_time": "2022-02-13T18:14:53.514Z"
   },
   {
    "duration": 9,
    "start_time": "2022-02-13T18:14:53.539Z"
   },
   {
    "duration": 17,
    "start_time": "2022-02-13T18:14:53.550Z"
   },
   {
    "duration": 59,
    "start_time": "2022-02-13T18:14:53.569Z"
   },
   {
    "duration": 9,
    "start_time": "2022-02-13T18:14:53.631Z"
   },
   {
    "duration": 16,
    "start_time": "2022-02-13T18:14:53.642Z"
   },
   {
    "duration": 18,
    "start_time": "2022-02-13T18:14:53.659Z"
   },
   {
    "duration": 35,
    "start_time": "2022-02-13T18:14:53.679Z"
   },
   {
    "duration": 1131,
    "start_time": "2022-02-13T18:16:31.510Z"
   },
   {
    "duration": 363,
    "start_time": "2022-02-13T18:16:32.643Z"
   },
   {
    "duration": 12,
    "start_time": "2022-02-13T18:16:33.008Z"
   },
   {
    "duration": 26,
    "start_time": "2022-02-13T18:16:33.022Z"
   },
   {
    "duration": 112,
    "start_time": "2022-02-13T18:16:33.049Z"
   },
   {
    "duration": 9,
    "start_time": "2022-02-13T18:16:33.162Z"
   },
   {
    "duration": 34,
    "start_time": "2022-02-13T18:16:33.173Z"
   },
   {
    "duration": 64,
    "start_time": "2022-02-13T18:16:33.209Z"
   },
   {
    "duration": 7,
    "start_time": "2022-02-13T18:16:33.275Z"
   },
   {
    "duration": 35,
    "start_time": "2022-02-13T18:16:33.284Z"
   },
   {
    "duration": 46,
    "start_time": "2022-02-13T18:16:33.321Z"
   },
   {
    "duration": 9,
    "start_time": "2022-02-13T18:16:33.369Z"
   },
   {
    "duration": 34,
    "start_time": "2022-02-13T18:16:33.380Z"
   },
   {
    "duration": 21,
    "start_time": "2022-02-13T18:16:33.416Z"
   },
   {
    "duration": 11,
    "start_time": "2022-02-13T18:16:33.439Z"
   },
   {
    "duration": 38,
    "start_time": "2022-02-13T18:16:33.452Z"
   },
   {
    "duration": 52,
    "start_time": "2022-02-13T18:16:33.492Z"
   },
   {
    "duration": 9,
    "start_time": "2022-02-13T18:16:33.546Z"
   },
   {
    "duration": 24,
    "start_time": "2022-02-13T18:16:33.557Z"
   },
   {
    "duration": 42,
    "start_time": "2022-02-13T18:16:33.583Z"
   },
   {
    "duration": 42,
    "start_time": "2022-02-13T18:16:33.628Z"
   },
   {
    "duration": 11,
    "start_time": "2022-02-13T18:16:33.672Z"
   },
   {
    "duration": 42,
    "start_time": "2022-02-13T18:16:33.687Z"
   },
   {
    "duration": 6,
    "start_time": "2022-02-13T18:16:33.731Z"
   },
   {
    "duration": 15,
    "start_time": "2022-02-13T18:16:33.738Z"
   },
   {
    "duration": 42,
    "start_time": "2022-02-13T18:16:33.754Z"
   },
   {
    "duration": 2,
    "start_time": "2022-02-13T18:16:33.798Z"
   },
   {
    "duration": 53,
    "start_time": "2022-02-13T18:16:33.802Z"
   },
   {
    "duration": 6,
    "start_time": "2022-02-13T18:16:33.857Z"
   },
   {
    "duration": 60,
    "start_time": "2022-02-13T18:16:33.865Z"
   },
   {
    "duration": 6,
    "start_time": "2022-02-13T18:16:33.927Z"
   },
   {
    "duration": 544,
    "start_time": "2022-02-13T18:16:33.935Z"
   },
   {
    "duration": 33,
    "start_time": "2022-02-13T18:16:34.480Z"
   },
   {
    "duration": 41,
    "start_time": "2022-02-13T18:16:34.516Z"
   },
   {
    "duration": 7,
    "start_time": "2022-02-13T18:16:34.559Z"
   },
   {
    "duration": 49,
    "start_time": "2022-02-13T18:16:34.568Z"
   },
   {
    "duration": 37,
    "start_time": "2022-02-13T18:16:34.619Z"
   },
   {
    "duration": 15,
    "start_time": "2022-02-13T18:16:34.658Z"
   },
   {
    "duration": 6,
    "start_time": "2022-02-13T18:16:34.675Z"
   },
   {
    "duration": 13,
    "start_time": "2022-02-13T18:16:34.711Z"
   },
   {
    "duration": 26,
    "start_time": "2022-02-13T18:16:34.725Z"
   },
   {
    "duration": 8,
    "start_time": "2022-02-13T18:16:34.752Z"
   },
   {
    "duration": 7,
    "start_time": "2022-02-13T18:16:34.762Z"
   },
   {
    "duration": 41,
    "start_time": "2022-02-13T18:16:34.771Z"
   },
   {
    "duration": 22,
    "start_time": "2022-02-13T18:16:34.814Z"
   },
   {
    "duration": 8,
    "start_time": "2022-02-13T18:16:34.838Z"
   },
   {
    "duration": 16,
    "start_time": "2022-02-13T18:16:34.848Z"
   },
   {
    "duration": 50,
    "start_time": "2022-02-13T18:16:34.865Z"
   },
   {
    "duration": 8,
    "start_time": "2022-02-13T18:16:34.917Z"
   },
   {
    "duration": 19,
    "start_time": "2022-02-13T18:16:34.926Z"
   },
   {
    "duration": 17,
    "start_time": "2022-02-13T18:16:34.946Z"
   },
   {
    "duration": 15,
    "start_time": "2022-02-13T18:16:38.626Z"
   },
   {
    "duration": 4,
    "start_time": "2022-02-13T18:16:39.819Z"
   },
   {
    "duration": 17,
    "start_time": "2022-02-13T18:16:41.483Z"
   },
   {
    "duration": 20,
    "start_time": "2022-02-13T18:16:50.918Z"
   },
   {
    "duration": 31,
    "start_time": "2022-02-13T18:17:01.228Z"
   },
   {
    "duration": 5,
    "start_time": "2022-02-13T18:17:28.882Z"
   },
   {
    "duration": 17,
    "start_time": "2022-02-13T18:17:29.666Z"
   },
   {
    "duration": 20,
    "start_time": "2022-02-13T18:17:30.355Z"
   },
   {
    "duration": 5,
    "start_time": "2022-02-13T18:18:47.458Z"
   },
   {
    "duration": 5,
    "start_time": "2022-02-13T18:18:49.467Z"
   },
   {
    "duration": 1095,
    "start_time": "2022-02-13T18:24:37.046Z"
   },
   {
    "duration": 477,
    "start_time": "2022-02-13T18:24:38.142Z"
   },
   {
    "duration": 11,
    "start_time": "2022-02-13T18:24:38.621Z"
   },
   {
    "duration": 21,
    "start_time": "2022-02-13T18:24:38.633Z"
   },
   {
    "duration": 109,
    "start_time": "2022-02-13T18:24:38.655Z"
   },
   {
    "duration": 8,
    "start_time": "2022-02-13T18:24:38.766Z"
   },
   {
    "duration": 18,
    "start_time": "2022-02-13T18:24:38.776Z"
   },
   {
    "duration": 79,
    "start_time": "2022-02-13T18:24:38.796Z"
   },
   {
    "duration": 6,
    "start_time": "2022-02-13T18:24:38.877Z"
   },
   {
    "duration": 31,
    "start_time": "2022-02-13T18:24:38.885Z"
   },
   {
    "duration": 41,
    "start_time": "2022-02-13T18:24:38.918Z"
   },
   {
    "duration": 7,
    "start_time": "2022-02-13T18:24:38.961Z"
   },
   {
    "duration": 8,
    "start_time": "2022-02-13T18:24:38.969Z"
   },
   {
    "duration": 11,
    "start_time": "2022-02-13T18:24:38.978Z"
   },
   {
    "duration": 6,
    "start_time": "2022-02-13T18:24:39.012Z"
   },
   {
    "duration": 25,
    "start_time": "2022-02-13T18:24:39.019Z"
   },
   {
    "duration": 42,
    "start_time": "2022-02-13T18:24:39.046Z"
   },
   {
    "duration": 28,
    "start_time": "2022-02-13T18:24:39.090Z"
   },
   {
    "duration": 19,
    "start_time": "2022-02-13T18:24:39.120Z"
   },
   {
    "duration": 12,
    "start_time": "2022-02-13T18:24:39.141Z"
   },
   {
    "duration": 29,
    "start_time": "2022-02-13T18:24:39.155Z"
   },
   {
    "duration": 11,
    "start_time": "2022-02-13T18:24:39.212Z"
   },
   {
    "duration": 26,
    "start_time": "2022-02-13T18:24:39.227Z"
   },
   {
    "duration": 4,
    "start_time": "2022-02-13T18:24:39.256Z"
   },
   {
    "duration": 11,
    "start_time": "2022-02-13T18:24:39.261Z"
   },
   {
    "duration": 56,
    "start_time": "2022-02-13T18:24:39.273Z"
   },
   {
    "duration": 2,
    "start_time": "2022-02-13T18:24:39.331Z"
   },
   {
    "duration": 45,
    "start_time": "2022-02-13T18:24:39.335Z"
   },
   {
    "duration": 5,
    "start_time": "2022-02-13T18:24:39.382Z"
   },
   {
    "duration": 56,
    "start_time": "2022-02-13T18:24:39.389Z"
   },
   {
    "duration": 5,
    "start_time": "2022-02-13T18:24:39.447Z"
   },
   {
    "duration": 507,
    "start_time": "2022-02-13T18:24:39.454Z"
   },
   {
    "duration": 21,
    "start_time": "2022-02-13T18:24:39.963Z"
   },
   {
    "duration": 56,
    "start_time": "2022-02-13T18:24:39.985Z"
   },
   {
    "duration": 6,
    "start_time": "2022-02-13T18:24:40.043Z"
   },
   {
    "duration": 24,
    "start_time": "2022-02-13T18:24:40.050Z"
   },
   {
    "duration": 54,
    "start_time": "2022-02-13T18:24:40.075Z"
   },
   {
    "duration": 13,
    "start_time": "2022-02-13T18:24:40.130Z"
   },
   {
    "duration": 6,
    "start_time": "2022-02-13T18:24:40.145Z"
   },
   {
    "duration": 10,
    "start_time": "2022-02-13T18:24:40.152Z"
   },
   {
    "duration": 19,
    "start_time": "2022-02-13T18:24:40.164Z"
   },
   {
    "duration": 7,
    "start_time": "2022-02-13T18:24:40.212Z"
   },
   {
    "duration": 4,
    "start_time": "2022-02-13T18:24:40.221Z"
   },
   {
    "duration": 14,
    "start_time": "2022-02-13T18:24:40.226Z"
   },
   {
    "duration": 21,
    "start_time": "2022-02-13T18:24:40.241Z"
   },
   {
    "duration": 7,
    "start_time": "2022-02-13T18:24:40.263Z"
   },
   {
    "duration": 41,
    "start_time": "2022-02-13T18:24:40.271Z"
   },
   {
    "duration": 20,
    "start_time": "2022-02-13T18:24:40.314Z"
   },
   {
    "duration": 11,
    "start_time": "2022-02-13T18:24:40.335Z"
   },
   {
    "duration": 15,
    "start_time": "2022-02-13T18:24:40.348Z"
   },
   {
    "duration": 16,
    "start_time": "2022-02-13T18:24:40.365Z"
   },
   {
    "duration": 31,
    "start_time": "2022-02-13T18:24:40.383Z"
   },
   {
    "duration": 4,
    "start_time": "2022-02-13T18:24:40.416Z"
   },
   {
    "duration": 15,
    "start_time": "2022-02-13T18:25:15.491Z"
   },
   {
    "duration": 653,
    "start_time": "2022-02-13T18:25:25.386Z"
   },
   {
    "duration": 3,
    "start_time": "2022-02-13T18:25:49.036Z"
   },
   {
    "duration": 373,
    "start_time": "2022-02-13T18:25:49.040Z"
   },
   {
    "duration": 8,
    "start_time": "2022-02-13T18:25:49.414Z"
   },
   {
    "duration": 22,
    "start_time": "2022-02-13T18:25:49.424Z"
   },
   {
    "duration": 106,
    "start_time": "2022-02-13T18:25:49.447Z"
   },
   {
    "duration": 8,
    "start_time": "2022-02-13T18:25:49.555Z"
   },
   {
    "duration": 17,
    "start_time": "2022-02-13T18:25:49.566Z"
   },
   {
    "duration": 80,
    "start_time": "2022-02-13T18:25:49.585Z"
   },
   {
    "duration": 8,
    "start_time": "2022-02-13T18:25:49.667Z"
   },
   {
    "duration": 17,
    "start_time": "2022-02-13T18:25:49.676Z"
   },
   {
    "duration": 47,
    "start_time": "2022-02-13T18:25:49.695Z"
   },
   {
    "duration": 8,
    "start_time": "2022-02-13T18:25:49.743Z"
   },
   {
    "duration": 7,
    "start_time": "2022-02-13T18:25:49.752Z"
   },
   {
    "duration": 10,
    "start_time": "2022-02-13T18:25:49.761Z"
   },
   {
    "duration": 7,
    "start_time": "2022-02-13T18:25:49.773Z"
   },
   {
    "duration": 13,
    "start_time": "2022-02-13T18:25:49.813Z"
   },
   {
    "duration": 43,
    "start_time": "2022-02-13T18:25:49.828Z"
   },
   {
    "duration": 7,
    "start_time": "2022-02-13T18:25:49.873Z"
   },
   {
    "duration": 43,
    "start_time": "2022-02-13T18:25:49.883Z"
   },
   {
    "duration": 17,
    "start_time": "2022-02-13T18:25:49.928Z"
   },
   {
    "duration": 33,
    "start_time": "2022-02-13T18:25:49.947Z"
   },
   {
    "duration": 32,
    "start_time": "2022-02-13T18:25:49.982Z"
   },
   {
    "duration": 33,
    "start_time": "2022-02-13T18:25:50.016Z"
   },
   {
    "duration": 6,
    "start_time": "2022-02-13T18:25:50.051Z"
   },
   {
    "duration": 12,
    "start_time": "2022-02-13T18:25:50.059Z"
   },
   {
    "duration": 58,
    "start_time": "2022-02-13T18:25:50.073Z"
   },
   {
    "duration": 3,
    "start_time": "2022-02-13T18:25:50.132Z"
   },
   {
    "duration": 44,
    "start_time": "2022-02-13T18:25:50.136Z"
   },
   {
    "duration": 7,
    "start_time": "2022-02-13T18:25:50.181Z"
   },
   {
    "duration": 38,
    "start_time": "2022-02-13T18:25:50.212Z"
   },
   {
    "duration": 6,
    "start_time": "2022-02-13T18:25:50.251Z"
   },
   {
    "duration": 531,
    "start_time": "2022-02-13T18:25:50.259Z"
   },
   {
    "duration": 29,
    "start_time": "2022-02-13T18:25:50.791Z"
   },
   {
    "duration": 39,
    "start_time": "2022-02-13T18:25:50.821Z"
   },
   {
    "duration": 6,
    "start_time": "2022-02-13T18:25:50.861Z"
   },
   {
    "duration": 50,
    "start_time": "2022-02-13T18:25:50.869Z"
   },
   {
    "duration": 39,
    "start_time": "2022-02-13T18:25:50.922Z"
   },
   {
    "duration": 13,
    "start_time": "2022-02-13T18:25:50.962Z"
   },
   {
    "duration": 6,
    "start_time": "2022-02-13T18:25:50.977Z"
   },
   {
    "duration": 33,
    "start_time": "2022-02-13T18:25:50.985Z"
   },
   {
    "duration": 29,
    "start_time": "2022-02-13T18:25:51.020Z"
   },
   {
    "duration": 7,
    "start_time": "2022-02-13T18:25:51.050Z"
   },
   {
    "duration": 4,
    "start_time": "2022-02-13T18:25:51.059Z"
   },
   {
    "duration": 15,
    "start_time": "2022-02-13T18:25:51.065Z"
   },
   {
    "duration": 50,
    "start_time": "2022-02-13T18:25:51.082Z"
   },
   {
    "duration": 7,
    "start_time": "2022-02-13T18:25:51.134Z"
   },
   {
    "duration": 14,
    "start_time": "2022-02-13T18:25:51.143Z"
   },
   {
    "duration": 20,
    "start_time": "2022-02-13T18:25:51.159Z"
   },
   {
    "duration": 37,
    "start_time": "2022-02-13T18:25:51.181Z"
   },
   {
    "duration": 14,
    "start_time": "2022-02-13T18:25:51.220Z"
   },
   {
    "duration": 13,
    "start_time": "2022-02-13T18:25:51.236Z"
   },
   {
    "duration": 5,
    "start_time": "2022-02-13T18:25:51.250Z"
   },
   {
    "duration": 3,
    "start_time": "2022-02-13T18:25:54.157Z"
   },
   {
    "duration": 602,
    "start_time": "2022-02-13T18:26:01.545Z"
   },
   {
    "duration": 4,
    "start_time": "2022-02-13T18:39:33.110Z"
   },
   {
    "duration": 1142,
    "start_time": "2022-02-13T19:11:04.711Z"
   },
   {
    "duration": 382,
    "start_time": "2022-02-13T19:11:05.855Z"
   },
   {
    "duration": 14,
    "start_time": "2022-02-13T19:11:06.239Z"
   },
   {
    "duration": 22,
    "start_time": "2022-02-13T19:11:06.255Z"
   },
   {
    "duration": 107,
    "start_time": "2022-02-13T19:11:06.279Z"
   },
   {
    "duration": 9,
    "start_time": "2022-02-13T19:11:06.388Z"
   },
   {
    "duration": 18,
    "start_time": "2022-02-13T19:11:06.412Z"
   },
   {
    "duration": 82,
    "start_time": "2022-02-13T19:11:06.433Z"
   },
   {
    "duration": 8,
    "start_time": "2022-02-13T19:11:06.518Z"
   },
   {
    "duration": 16,
    "start_time": "2022-02-13T19:11:06.529Z"
   },
   {
    "duration": 74,
    "start_time": "2022-02-13T19:11:06.547Z"
   },
   {
    "duration": 8,
    "start_time": "2022-02-13T19:11:06.623Z"
   },
   {
    "duration": 8,
    "start_time": "2022-02-13T19:11:06.632Z"
   },
   {
    "duration": 13,
    "start_time": "2022-02-13T19:11:06.641Z"
   },
   {
    "duration": 7,
    "start_time": "2022-02-13T19:11:06.655Z"
   },
   {
    "duration": 49,
    "start_time": "2022-02-13T19:11:06.664Z"
   },
   {
    "duration": 45,
    "start_time": "2022-02-13T19:11:06.715Z"
   },
   {
    "duration": 8,
    "start_time": "2022-02-13T19:11:06.762Z"
   },
   {
    "duration": 16,
    "start_time": "2022-02-13T19:11:06.771Z"
   },
   {
    "duration": 34,
    "start_time": "2022-02-13T19:11:06.789Z"
   },
   {
    "duration": 30,
    "start_time": "2022-02-13T19:11:06.824Z"
   },
   {
    "duration": 12,
    "start_time": "2022-02-13T19:11:06.855Z"
   },
   {
    "duration": 56,
    "start_time": "2022-02-13T19:11:06.870Z"
   },
   {
    "duration": 5,
    "start_time": "2022-02-13T19:11:06.929Z"
   },
   {
    "duration": 12,
    "start_time": "2022-02-13T19:11:06.935Z"
   },
   {
    "duration": 31,
    "start_time": "2022-02-13T19:11:06.948Z"
   },
   {
    "duration": 2,
    "start_time": "2022-02-13T19:11:06.981Z"
   },
   {
    "duration": 46,
    "start_time": "2022-02-13T19:11:07.012Z"
   },
   {
    "duration": 6,
    "start_time": "2022-02-13T19:11:07.060Z"
   },
   {
    "duration": 68,
    "start_time": "2022-02-13T19:11:07.068Z"
   },
   {
    "duration": 7,
    "start_time": "2022-02-13T19:11:07.138Z"
   },
   {
    "duration": 535,
    "start_time": "2022-02-13T19:11:07.147Z"
   },
   {
    "duration": 30,
    "start_time": "2022-02-13T19:11:07.685Z"
   },
   {
    "duration": 43,
    "start_time": "2022-02-13T19:11:07.717Z"
   },
   {
    "duration": 8,
    "start_time": "2022-02-13T19:11:07.762Z"
   },
   {
    "duration": 49,
    "start_time": "2022-02-13T19:11:07.772Z"
   },
   {
    "duration": 41,
    "start_time": "2022-02-13T19:11:07.823Z"
   },
   {
    "duration": 14,
    "start_time": "2022-02-13T19:11:07.866Z"
   },
   {
    "duration": 30,
    "start_time": "2022-02-13T19:11:07.882Z"
   },
   {
    "duration": 13,
    "start_time": "2022-02-13T19:11:07.914Z"
   },
   {
    "duration": 21,
    "start_time": "2022-02-13T19:11:07.929Z"
   },
   {
    "duration": 8,
    "start_time": "2022-02-13T19:11:07.951Z"
   },
   {
    "duration": 2,
    "start_time": "2022-02-13T19:11:07.961Z"
   },
   {
    "duration": 16,
    "start_time": "2022-02-13T19:11:07.965Z"
   },
   {
    "duration": 49,
    "start_time": "2022-02-13T19:11:07.983Z"
   },
   {
    "duration": 8,
    "start_time": "2022-02-13T19:11:08.034Z"
   },
   {
    "duration": 15,
    "start_time": "2022-02-13T19:11:08.044Z"
   },
   {
    "duration": 21,
    "start_time": "2022-02-13T19:11:08.060Z"
   },
   {
    "duration": 8,
    "start_time": "2022-02-13T19:11:08.112Z"
   },
   {
    "duration": 15,
    "start_time": "2022-02-13T19:11:08.122Z"
   },
   {
    "duration": 18,
    "start_time": "2022-02-13T19:11:08.139Z"
   },
   {
    "duration": 6,
    "start_time": "2022-02-13T19:11:08.159Z"
   },
   {
    "duration": 457,
    "start_time": "2022-02-13T19:11:28.708Z"
   },
   {
    "duration": 199,
    "start_time": "2022-02-13T19:12:21.102Z"
   },
   {
    "duration": 24,
    "start_time": "2022-02-13T19:12:26.812Z"
   },
   {
    "duration": 5,
    "start_time": "2022-02-13T19:12:50.891Z"
   },
   {
    "duration": 3,
    "start_time": "2022-02-13T19:14:26.993Z"
   },
   {
    "duration": 378,
    "start_time": "2022-02-13T19:14:26.998Z"
   },
   {
    "duration": 8,
    "start_time": "2022-02-13T19:14:27.378Z"
   },
   {
    "duration": 26,
    "start_time": "2022-02-13T19:14:27.388Z"
   },
   {
    "duration": 84,
    "start_time": "2022-02-13T19:14:27.416Z"
   },
   {
    "duration": 18,
    "start_time": "2022-02-13T19:14:27.501Z"
   },
   {
    "duration": 20,
    "start_time": "2022-02-13T19:14:27.521Z"
   },
   {
    "duration": 71,
    "start_time": "2022-02-13T19:14:27.543Z"
   },
   {
    "duration": 7,
    "start_time": "2022-02-13T19:14:27.615Z"
   },
   {
    "duration": 16,
    "start_time": "2022-02-13T19:14:27.624Z"
   },
   {
    "duration": 36,
    "start_time": "2022-02-13T19:14:27.642Z"
   },
   {
    "duration": 7,
    "start_time": "2022-02-13T19:14:27.680Z"
   },
   {
    "duration": 7,
    "start_time": "2022-02-13T19:14:27.712Z"
   },
   {
    "duration": 11,
    "start_time": "2022-02-13T19:14:27.720Z"
   },
   {
    "duration": 7,
    "start_time": "2022-02-13T19:14:27.733Z"
   },
   {
    "duration": 18,
    "start_time": "2022-02-13T19:14:27.741Z"
   },
   {
    "duration": 74,
    "start_time": "2022-02-13T19:14:27.761Z"
   },
   {
    "duration": 7,
    "start_time": "2022-02-13T19:14:27.837Z"
   },
   {
    "duration": 13,
    "start_time": "2022-02-13T19:14:27.848Z"
   },
   {
    "duration": 13,
    "start_time": "2022-02-13T19:14:27.863Z"
   },
   {
    "duration": 60,
    "start_time": "2022-02-13T19:14:27.878Z"
   },
   {
    "duration": 11,
    "start_time": "2022-02-13T19:14:27.941Z"
   },
   {
    "duration": 25,
    "start_time": "2022-02-13T19:14:27.954Z"
   },
   {
    "duration": 5,
    "start_time": "2022-02-13T19:14:27.981Z"
   },
   {
    "duration": 36,
    "start_time": "2022-02-13T19:14:27.988Z"
   },
   {
    "duration": 30,
    "start_time": "2022-02-13T19:14:28.026Z"
   },
   {
    "duration": 3,
    "start_time": "2022-02-13T19:14:28.058Z"
   },
   {
    "duration": 65,
    "start_time": "2022-02-13T19:14:28.063Z"
   },
   {
    "duration": 6,
    "start_time": "2022-02-13T19:14:28.130Z"
   },
   {
    "duration": 38,
    "start_time": "2022-02-13T19:14:28.138Z"
   },
   {
    "duration": 6,
    "start_time": "2022-02-13T19:14:28.178Z"
   },
   {
    "duration": 546,
    "start_time": "2022-02-13T19:14:28.186Z"
   },
   {
    "duration": 20,
    "start_time": "2022-02-13T19:14:28.733Z"
   },
   {
    "duration": 37,
    "start_time": "2022-02-13T19:14:28.754Z"
   },
   {
    "duration": 23,
    "start_time": "2022-02-13T19:14:28.792Z"
   },
   {
    "duration": 26,
    "start_time": "2022-02-13T19:14:28.816Z"
   },
   {
    "duration": 36,
    "start_time": "2022-02-13T19:14:28.843Z"
   },
   {
    "duration": 37,
    "start_time": "2022-02-13T19:14:28.880Z"
   },
   {
    "duration": 6,
    "start_time": "2022-02-13T19:14:28.919Z"
   },
   {
    "duration": 11,
    "start_time": "2022-02-13T19:14:28.927Z"
   },
   {
    "duration": 22,
    "start_time": "2022-02-13T19:14:28.939Z"
   },
   {
    "duration": 8,
    "start_time": "2022-02-13T19:14:28.962Z"
   },
   {
    "duration": 3,
    "start_time": "2022-02-13T19:14:28.971Z"
   },
   {
    "duration": 49,
    "start_time": "2022-02-13T19:14:28.975Z"
   },
   {
    "duration": 21,
    "start_time": "2022-02-13T19:14:29.026Z"
   },
   {
    "duration": 7,
    "start_time": "2022-02-13T19:14:29.049Z"
   },
   {
    "duration": 16,
    "start_time": "2022-02-13T19:14:29.058Z"
   },
   {
    "duration": 53,
    "start_time": "2022-02-13T19:14:29.075Z"
   },
   {
    "duration": 8,
    "start_time": "2022-02-13T19:14:29.130Z"
   },
   {
    "duration": 14,
    "start_time": "2022-02-13T19:14:29.140Z"
   },
   {
    "duration": 14,
    "start_time": "2022-02-13T19:14:29.155Z"
   },
   {
    "duration": 5,
    "start_time": "2022-02-13T19:14:39.561Z"
   },
   {
    "duration": 14,
    "start_time": "2022-02-13T19:14:40.805Z"
   },
   {
    "duration": 225,
    "start_time": "2022-02-13T19:19:48.489Z"
   },
   {
    "duration": 1107,
    "start_time": "2022-02-13T19:21:56.979Z"
   },
   {
    "duration": 356,
    "start_time": "2022-02-13T19:21:58.089Z"
   },
   {
    "duration": 11,
    "start_time": "2022-02-13T19:21:58.447Z"
   },
   {
    "duration": 24,
    "start_time": "2022-02-13T19:21:58.459Z"
   },
   {
    "duration": 111,
    "start_time": "2022-02-13T19:21:58.485Z"
   },
   {
    "duration": 15,
    "start_time": "2022-02-13T19:21:58.598Z"
   },
   {
    "duration": 19,
    "start_time": "2022-02-13T19:21:58.615Z"
   },
   {
    "duration": 87,
    "start_time": "2022-02-13T19:21:58.638Z"
   },
   {
    "duration": 8,
    "start_time": "2022-02-13T19:21:58.727Z"
   },
   {
    "duration": 17,
    "start_time": "2022-02-13T19:21:58.737Z"
   },
   {
    "duration": 72,
    "start_time": "2022-02-13T19:21:58.756Z"
   },
   {
    "duration": 9,
    "start_time": "2022-02-13T19:21:58.830Z"
   },
   {
    "duration": 7,
    "start_time": "2022-02-13T19:21:58.841Z"
   },
   {
    "duration": 11,
    "start_time": "2022-02-13T19:21:58.850Z"
   },
   {
    "duration": 7,
    "start_time": "2022-02-13T19:21:58.862Z"
   },
   {
    "duration": 64,
    "start_time": "2022-02-13T19:21:58.871Z"
   },
   {
    "duration": 47,
    "start_time": "2022-02-13T19:21:58.937Z"
   },
   {
    "duration": 9,
    "start_time": "2022-02-13T19:21:58.986Z"
   },
   {
    "duration": 17,
    "start_time": "2022-02-13T19:21:59.013Z"
   },
   {
    "duration": 15,
    "start_time": "2022-02-13T19:21:59.032Z"
   },
   {
    "duration": 31,
    "start_time": "2022-02-13T19:21:59.049Z"
   },
   {
    "duration": 12,
    "start_time": "2022-02-13T19:21:59.112Z"
   },
   {
    "duration": 29,
    "start_time": "2022-02-13T19:21:59.129Z"
   },
   {
    "duration": 6,
    "start_time": "2022-02-13T19:21:59.161Z"
   },
   {
    "duration": 47,
    "start_time": "2022-02-13T19:21:59.169Z"
   },
   {
    "duration": 29,
    "start_time": "2022-02-13T19:21:59.218Z"
   },
   {
    "duration": 2,
    "start_time": "2022-02-13T19:21:59.249Z"
   },
   {
    "duration": 65,
    "start_time": "2022-02-13T19:21:59.253Z"
   },
   {
    "duration": 6,
    "start_time": "2022-02-13T19:21:59.320Z"
   },
   {
    "duration": 44,
    "start_time": "2022-02-13T19:21:59.328Z"
   },
   {
    "duration": 6,
    "start_time": "2022-02-13T19:21:59.374Z"
   },
   {
    "duration": 533,
    "start_time": "2022-02-13T19:21:59.381Z"
   },
   {
    "duration": 20,
    "start_time": "2022-02-13T19:21:59.915Z"
   },
   {
    "duration": 43,
    "start_time": "2022-02-13T19:21:59.937Z"
   },
   {
    "duration": 7,
    "start_time": "2022-02-13T19:21:59.982Z"
   },
   {
    "duration": 26,
    "start_time": "2022-02-13T19:22:00.013Z"
   },
   {
    "duration": 34,
    "start_time": "2022-02-13T19:22:00.040Z"
   },
   {
    "duration": 38,
    "start_time": "2022-02-13T19:22:00.076Z"
   },
   {
    "duration": 6,
    "start_time": "2022-02-13T19:22:00.116Z"
   },
   {
    "duration": 13,
    "start_time": "2022-02-13T19:22:00.123Z"
   },
   {
    "duration": 26,
    "start_time": "2022-02-13T19:22:00.138Z"
   },
   {
    "duration": 7,
    "start_time": "2022-02-13T19:22:00.166Z"
   },
   {
    "duration": 4,
    "start_time": "2022-02-13T19:22:00.174Z"
   },
   {
    "duration": 41,
    "start_time": "2022-02-13T19:22:00.179Z"
   },
   {
    "duration": 20,
    "start_time": "2022-02-13T19:22:00.222Z"
   },
   {
    "duration": 7,
    "start_time": "2022-02-13T19:22:00.243Z"
   },
   {
    "duration": 15,
    "start_time": "2022-02-13T19:22:00.252Z"
   },
   {
    "duration": 45,
    "start_time": "2022-02-13T19:22:00.269Z"
   },
   {
    "duration": 12,
    "start_time": "2022-02-13T19:22:00.315Z"
   },
   {
    "duration": 14,
    "start_time": "2022-02-13T19:22:00.328Z"
   },
   {
    "duration": 12,
    "start_time": "2022-02-13T19:22:00.343Z"
   },
   {
    "duration": 10,
    "start_time": "2022-02-13T19:22:00.357Z"
   },
   {
    "duration": 15,
    "start_time": "2022-02-13T19:22:00.369Z"
   },
   {
    "duration": 29,
    "start_time": "2022-02-13T19:22:00.386Z"
   },
   {
    "duration": 462,
    "start_time": "2022-02-13T19:22:27.927Z"
   },
   {
    "duration": 1085,
    "start_time": "2022-02-13T19:31:51.342Z"
   },
   {
    "duration": 351,
    "start_time": "2022-02-13T19:31:52.429Z"
   },
   {
    "duration": 10,
    "start_time": "2022-02-13T19:31:52.782Z"
   },
   {
    "duration": 21,
    "start_time": "2022-02-13T19:31:52.794Z"
   },
   {
    "duration": 99,
    "start_time": "2022-02-13T19:31:52.816Z"
   },
   {
    "duration": 7,
    "start_time": "2022-02-13T19:31:52.917Z"
   },
   {
    "duration": 17,
    "start_time": "2022-02-13T19:31:52.926Z"
   },
   {
    "duration": 77,
    "start_time": "2022-02-13T19:31:52.944Z"
   },
   {
    "duration": 7,
    "start_time": "2022-02-13T19:31:53.023Z"
   },
   {
    "duration": 15,
    "start_time": "2022-02-13T19:31:53.032Z"
   },
   {
    "duration": 39,
    "start_time": "2022-02-13T19:31:53.048Z"
   },
   {
    "duration": 27,
    "start_time": "2022-02-13T19:31:53.089Z"
   },
   {
    "duration": 6,
    "start_time": "2022-02-13T19:31:53.118Z"
   },
   {
    "duration": 9,
    "start_time": "2022-02-13T19:31:53.126Z"
   },
   {
    "duration": 5,
    "start_time": "2022-02-13T19:31:53.137Z"
   },
   {
    "duration": 24,
    "start_time": "2022-02-13T19:31:53.143Z"
   },
   {
    "duration": 68,
    "start_time": "2022-02-13T19:31:53.168Z"
   },
   {
    "duration": 8,
    "start_time": "2022-02-13T19:31:53.237Z"
   },
   {
    "duration": 16,
    "start_time": "2022-02-13T19:31:53.246Z"
   },
   {
    "duration": 12,
    "start_time": "2022-02-13T19:31:53.264Z"
   },
   {
    "duration": 57,
    "start_time": "2022-02-13T19:31:53.278Z"
   },
   {
    "duration": 10,
    "start_time": "2022-02-13T19:31:53.337Z"
   },
   {
    "duration": 27,
    "start_time": "2022-02-13T19:31:53.349Z"
   },
   {
    "duration": 4,
    "start_time": "2022-02-13T19:31:53.378Z"
   },
   {
    "duration": 30,
    "start_time": "2022-02-13T19:31:53.383Z"
   },
   {
    "duration": 29,
    "start_time": "2022-02-13T19:31:53.415Z"
   },
   {
    "duration": 3,
    "start_time": "2022-02-13T19:31:53.447Z"
   },
   {
    "duration": 62,
    "start_time": "2022-02-13T19:31:53.451Z"
   },
   {
    "duration": 8,
    "start_time": "2022-02-13T19:31:53.515Z"
   },
   {
    "duration": 41,
    "start_time": "2022-02-13T19:31:53.525Z"
   },
   {
    "duration": 5,
    "start_time": "2022-02-13T19:31:53.567Z"
   },
   {
    "duration": 508,
    "start_time": "2022-02-13T19:31:53.573Z"
   },
   {
    "duration": 20,
    "start_time": "2022-02-13T19:31:54.082Z"
   },
   {
    "duration": 40,
    "start_time": "2022-02-13T19:31:54.112Z"
   },
   {
    "duration": 5,
    "start_time": "2022-02-13T19:31:54.154Z"
   },
   {
    "duration": 24,
    "start_time": "2022-02-13T19:31:54.160Z"
   },
   {
    "duration": 54,
    "start_time": "2022-02-13T19:31:54.185Z"
   },
   {
    "duration": 13,
    "start_time": "2022-02-13T19:31:54.241Z"
   },
   {
    "duration": 5,
    "start_time": "2022-02-13T19:31:54.255Z"
   },
   {
    "duration": 10,
    "start_time": "2022-02-13T19:31:54.262Z"
   },
   {
    "duration": 40,
    "start_time": "2022-02-13T19:31:54.274Z"
   },
   {
    "duration": 7,
    "start_time": "2022-02-13T19:31:54.316Z"
   },
   {
    "duration": 2,
    "start_time": "2022-02-13T19:31:54.325Z"
   },
   {
    "duration": 17,
    "start_time": "2022-02-13T19:31:54.329Z"
   },
   {
    "duration": 20,
    "start_time": "2022-02-13T19:31:54.347Z"
   },
   {
    "duration": 7,
    "start_time": "2022-02-13T19:31:54.368Z"
   },
   {
    "duration": 48,
    "start_time": "2022-02-13T19:31:54.376Z"
   },
   {
    "duration": 20,
    "start_time": "2022-02-13T19:31:54.425Z"
   },
   {
    "duration": 7,
    "start_time": "2022-02-13T19:31:54.447Z"
   },
   {
    "duration": 14,
    "start_time": "2022-02-13T19:31:54.455Z"
   },
   {
    "duration": 42,
    "start_time": "2022-02-13T19:31:54.471Z"
   },
   {
    "duration": 5,
    "start_time": "2022-02-13T19:31:54.514Z"
   },
   {
    "duration": 20,
    "start_time": "2022-02-13T19:31:54.521Z"
   },
   {
    "duration": 6,
    "start_time": "2022-02-13T19:32:02.883Z"
   },
   {
    "duration": 8992,
    "start_time": "2022-02-13T19:33:39.032Z"
   },
   {
    "duration": 2,
    "start_time": "2022-02-13T19:34:49.952Z"
   },
   {
    "duration": 361,
    "start_time": "2022-02-13T19:34:49.956Z"
   },
   {
    "duration": 7,
    "start_time": "2022-02-13T19:34:50.319Z"
   },
   {
    "duration": 20,
    "start_time": "2022-02-13T19:34:50.328Z"
   },
   {
    "duration": 87,
    "start_time": "2022-02-13T19:34:50.349Z"
   },
   {
    "duration": 8,
    "start_time": "2022-02-13T19:34:50.438Z"
   },
   {
    "duration": 19,
    "start_time": "2022-02-13T19:34:50.447Z"
   },
   {
    "duration": 62,
    "start_time": "2022-02-13T19:34:50.468Z"
   },
   {
    "duration": 7,
    "start_time": "2022-02-13T19:34:50.532Z"
   },
   {
    "duration": 15,
    "start_time": "2022-02-13T19:34:50.540Z"
   },
   {
    "duration": 34,
    "start_time": "2022-02-13T19:34:50.557Z"
   },
   {
    "duration": 26,
    "start_time": "2022-02-13T19:34:50.592Z"
   },
   {
    "duration": 8,
    "start_time": "2022-02-13T19:34:50.620Z"
   },
   {
    "duration": 11,
    "start_time": "2022-02-13T19:34:50.629Z"
   },
   {
    "duration": 7,
    "start_time": "2022-02-13T19:34:50.641Z"
   },
   {
    "duration": 13,
    "start_time": "2022-02-13T19:34:50.650Z"
   },
   {
    "duration": 69,
    "start_time": "2022-02-13T19:34:50.665Z"
   },
   {
    "duration": 7,
    "start_time": "2022-02-13T19:34:50.736Z"
   },
   {
    "duration": 12,
    "start_time": "2022-02-13T19:34:50.745Z"
   },
   {
    "duration": 12,
    "start_time": "2022-02-13T19:34:50.758Z"
   },
   {
    "duration": 50,
    "start_time": "2022-02-13T19:34:50.771Z"
   },
   {
    "duration": 10,
    "start_time": "2022-02-13T19:34:50.822Z"
   },
   {
    "duration": 24,
    "start_time": "2022-02-13T19:34:50.834Z"
   },
   {
    "duration": 5,
    "start_time": "2022-02-13T19:34:50.860Z"
   },
   {
    "duration": 9,
    "start_time": "2022-02-13T19:34:50.867Z"
   },
   {
    "duration": 57,
    "start_time": "2022-02-13T19:34:50.878Z"
   },
   {
    "duration": 2,
    "start_time": "2022-02-13T19:34:50.938Z"
   },
   {
    "duration": 42,
    "start_time": "2022-02-13T19:34:50.942Z"
   },
   {
    "duration": 6,
    "start_time": "2022-02-13T19:34:50.986Z"
   },
   {
    "duration": 34,
    "start_time": "2022-02-13T19:34:51.013Z"
   },
   {
    "duration": 6,
    "start_time": "2022-02-13T19:34:51.049Z"
   },
   {
    "duration": 506,
    "start_time": "2022-02-13T19:34:51.056Z"
   },
   {
    "duration": 19,
    "start_time": "2022-02-13T19:34:51.563Z"
   },
   {
    "duration": 49,
    "start_time": "2022-02-13T19:34:51.584Z"
   },
   {
    "duration": 6,
    "start_time": "2022-02-13T19:34:51.634Z"
   },
   {
    "duration": 25,
    "start_time": "2022-02-13T19:34:51.641Z"
   },
   {
    "duration": 56,
    "start_time": "2022-02-13T19:34:51.667Z"
   },
   {
    "duration": 13,
    "start_time": "2022-02-13T19:34:51.724Z"
   },
   {
    "duration": 5,
    "start_time": "2022-02-13T19:34:51.739Z"
   },
   {
    "duration": 14,
    "start_time": "2022-02-13T19:34:51.746Z"
   },
   {
    "duration": 23,
    "start_time": "2022-02-13T19:34:51.762Z"
   },
   {
    "duration": 28,
    "start_time": "2022-02-13T19:34:51.786Z"
   },
   {
    "duration": 3,
    "start_time": "2022-02-13T19:34:51.816Z"
   },
   {
    "duration": 19,
    "start_time": "2022-02-13T19:34:51.820Z"
   },
   {
    "duration": 21,
    "start_time": "2022-02-13T19:34:51.840Z"
   },
   {
    "duration": 8,
    "start_time": "2022-02-13T19:34:51.863Z"
   },
   {
    "duration": 43,
    "start_time": "2022-02-13T19:34:51.872Z"
   },
   {
    "duration": 20,
    "start_time": "2022-02-13T19:34:51.917Z"
   },
   {
    "duration": 7,
    "start_time": "2022-02-13T19:34:51.939Z"
   },
   {
    "duration": 14,
    "start_time": "2022-02-13T19:34:51.948Z"
   },
   {
    "duration": 13,
    "start_time": "2022-02-13T19:34:51.964Z"
   },
   {
    "duration": 35,
    "start_time": "2022-02-13T19:34:51.978Z"
   },
   {
    "duration": 13,
    "start_time": "2022-02-13T19:34:52.015Z"
   },
   {
    "duration": 13,
    "start_time": "2022-02-13T19:34:54.346Z"
   },
   {
    "duration": 5,
    "start_time": "2022-02-13T19:34:55.007Z"
   },
   {
    "duration": 8946,
    "start_time": "2022-02-13T19:34:56.803Z"
   },
   {
    "duration": 9395,
    "start_time": "2022-02-13T19:35:18.416Z"
   },
   {
    "duration": 2,
    "start_time": "2022-02-13T19:35:34.335Z"
   },
   {
    "duration": 350,
    "start_time": "2022-02-13T19:35:34.342Z"
   },
   {
    "duration": 8,
    "start_time": "2022-02-13T19:35:34.693Z"
   },
   {
    "duration": 21,
    "start_time": "2022-02-13T19:35:34.702Z"
   },
   {
    "duration": 76,
    "start_time": "2022-02-13T19:35:34.725Z"
   },
   {
    "duration": 15,
    "start_time": "2022-02-13T19:35:34.803Z"
   },
   {
    "duration": 17,
    "start_time": "2022-02-13T19:35:34.820Z"
   },
   {
    "duration": 46,
    "start_time": "2022-02-13T19:35:34.838Z"
   },
   {
    "duration": 27,
    "start_time": "2022-02-13T19:35:34.886Z"
   },
   {
    "duration": 13,
    "start_time": "2022-02-13T19:35:34.915Z"
   },
   {
    "duration": 36,
    "start_time": "2022-02-13T19:35:34.930Z"
   },
   {
    "duration": 8,
    "start_time": "2022-02-13T19:35:34.967Z"
   },
   {
    "duration": 6,
    "start_time": "2022-02-13T19:35:34.977Z"
   },
   {
    "duration": 39,
    "start_time": "2022-02-13T19:35:34.984Z"
   },
   {
    "duration": 6,
    "start_time": "2022-02-13T19:35:35.025Z"
   },
   {
    "duration": 15,
    "start_time": "2022-02-13T19:35:35.033Z"
   },
   {
    "duration": 76,
    "start_time": "2022-02-13T19:35:35.050Z"
   },
   {
    "duration": 9,
    "start_time": "2022-02-13T19:35:35.128Z"
   },
   {
    "duration": 13,
    "start_time": "2022-02-13T19:35:35.140Z"
   },
   {
    "duration": 15,
    "start_time": "2022-02-13T19:35:35.154Z"
   },
   {
    "duration": 60,
    "start_time": "2022-02-13T19:35:35.171Z"
   },
   {
    "duration": 9,
    "start_time": "2022-02-13T19:35:35.233Z"
   },
   {
    "duration": 33,
    "start_time": "2022-02-13T19:35:35.244Z"
   },
   {
    "duration": 30,
    "start_time": "2022-02-13T19:35:35.282Z"
   },
   {
    "duration": 10,
    "start_time": "2022-02-13T19:35:35.314Z"
   },
   {
    "duration": 27,
    "start_time": "2022-02-13T19:35:35.325Z"
   },
   {
    "duration": 2,
    "start_time": "2022-02-13T19:35:35.354Z"
   },
   {
    "duration": 60,
    "start_time": "2022-02-13T19:35:35.358Z"
   },
   {
    "duration": 5,
    "start_time": "2022-02-13T19:35:35.420Z"
   },
   {
    "duration": 37,
    "start_time": "2022-02-13T19:35:35.427Z"
   },
   {
    "duration": 5,
    "start_time": "2022-02-13T19:35:35.466Z"
   },
   {
    "duration": 523,
    "start_time": "2022-02-13T19:35:35.473Z"
   },
   {
    "duration": 30,
    "start_time": "2022-02-13T19:35:35.998Z"
   },
   {
    "duration": 39,
    "start_time": "2022-02-13T19:35:36.029Z"
   },
   {
    "duration": 8,
    "start_time": "2022-02-13T19:35:36.070Z"
   },
   {
    "duration": 47,
    "start_time": "2022-02-13T19:35:36.079Z"
   },
   {
    "duration": 39,
    "start_time": "2022-02-13T19:35:36.128Z"
   },
   {
    "duration": 13,
    "start_time": "2022-02-13T19:35:36.169Z"
   },
   {
    "duration": 32,
    "start_time": "2022-02-13T19:35:36.183Z"
   },
   {
    "duration": 23,
    "start_time": "2022-02-13T19:35:36.216Z"
   },
   {
    "duration": 36,
    "start_time": "2022-02-13T19:35:36.241Z"
   },
   {
    "duration": 7,
    "start_time": "2022-02-13T19:35:36.279Z"
   },
   {
    "duration": 10,
    "start_time": "2022-02-13T19:35:36.287Z"
   },
   {
    "duration": 17,
    "start_time": "2022-02-13T19:35:36.298Z"
   },
   {
    "duration": 23,
    "start_time": "2022-02-13T19:35:36.316Z"
   },
   {
    "duration": 9,
    "start_time": "2022-02-13T19:35:36.340Z"
   },
   {
    "duration": 16,
    "start_time": "2022-02-13T19:35:36.350Z"
   },
   {
    "duration": 45,
    "start_time": "2022-02-13T19:35:36.367Z"
   },
   {
    "duration": 8,
    "start_time": "2022-02-13T19:35:36.414Z"
   },
   {
    "duration": 17,
    "start_time": "2022-02-13T19:35:36.424Z"
   },
   {
    "duration": 26,
    "start_time": "2022-02-13T19:35:36.442Z"
   },
   {
    "duration": 13,
    "start_time": "2022-02-13T19:35:36.470Z"
   },
   {
    "duration": 26,
    "start_time": "2022-02-13T19:35:36.484Z"
   },
   {
    "duration": 11,
    "start_time": "2022-02-13T19:35:36.512Z"
   },
   {
    "duration": 8742,
    "start_time": "2022-02-13T19:35:43.515Z"
   },
   {
    "duration": 8904,
    "start_time": "2022-02-13T19:36:05.241Z"
   },
   {
    "duration": 3,
    "start_time": "2022-02-13T19:58:50.649Z"
   },
   {
    "duration": 380,
    "start_time": "2022-02-13T19:58:50.654Z"
   },
   {
    "duration": 8,
    "start_time": "2022-02-13T19:58:51.036Z"
   },
   {
    "duration": 21,
    "start_time": "2022-02-13T19:58:51.046Z"
   },
   {
    "duration": 75,
    "start_time": "2022-02-13T19:58:51.069Z"
   },
   {
    "duration": 8,
    "start_time": "2022-02-13T19:58:51.146Z"
   },
   {
    "duration": 18,
    "start_time": "2022-02-13T19:58:51.157Z"
   },
   {
    "duration": 72,
    "start_time": "2022-02-13T19:58:51.177Z"
   },
   {
    "duration": 8,
    "start_time": "2022-02-13T19:58:51.251Z"
   },
   {
    "duration": 18,
    "start_time": "2022-02-13T19:58:51.261Z"
   },
   {
    "duration": 63,
    "start_time": "2022-02-13T19:58:51.281Z"
   },
   {
    "duration": 9,
    "start_time": "2022-02-13T19:58:51.346Z"
   },
   {
    "duration": 7,
    "start_time": "2022-02-13T19:58:51.357Z"
   },
   {
    "duration": 10,
    "start_time": "2022-02-13T19:58:51.366Z"
   },
   {
    "duration": 7,
    "start_time": "2022-02-13T19:58:51.377Z"
   },
   {
    "duration": 14,
    "start_time": "2022-02-13T19:58:51.413Z"
   },
   {
    "duration": 42,
    "start_time": "2022-02-13T19:58:51.429Z"
   },
   {
    "duration": 9,
    "start_time": "2022-02-13T19:58:51.473Z"
   },
   {
    "duration": 14,
    "start_time": "2022-02-13T19:58:51.514Z"
   },
   {
    "duration": 14,
    "start_time": "2022-02-13T19:58:51.530Z"
   },
   {
    "duration": 30,
    "start_time": "2022-02-13T19:58:51.546Z"
   },
   {
    "duration": 40,
    "start_time": "2022-02-13T19:58:51.577Z"
   },
   {
    "duration": 25,
    "start_time": "2022-02-13T19:58:51.618Z"
   },
   {
    "duration": 5,
    "start_time": "2022-02-13T19:58:51.645Z"
   },
   {
    "duration": 10,
    "start_time": "2022-02-13T19:58:51.652Z"
   },
   {
    "duration": 51,
    "start_time": "2022-02-13T19:58:51.664Z"
   },
   {
    "duration": 3,
    "start_time": "2022-02-13T19:58:51.716Z"
   },
   {
    "duration": 41,
    "start_time": "2022-02-13T19:58:51.721Z"
   },
   {
    "duration": 5,
    "start_time": "2022-02-13T19:58:51.764Z"
   },
   {
    "duration": 59,
    "start_time": "2022-02-13T19:58:51.771Z"
   },
   {
    "duration": 5,
    "start_time": "2022-02-13T19:58:51.832Z"
   },
   {
    "duration": 511,
    "start_time": "2022-02-13T19:58:51.839Z"
   },
   {
    "duration": 19,
    "start_time": "2022-02-13T19:58:52.352Z"
   },
   {
    "duration": 48,
    "start_time": "2022-02-13T19:58:52.372Z"
   },
   {
    "duration": 5,
    "start_time": "2022-02-13T19:58:52.422Z"
   },
   {
    "duration": 25,
    "start_time": "2022-02-13T19:58:52.429Z"
   },
   {
    "duration": 34,
    "start_time": "2022-02-13T19:58:52.455Z"
   },
   {
    "duration": 13,
    "start_time": "2022-02-13T19:58:52.512Z"
   },
   {
    "duration": 10,
    "start_time": "2022-02-13T19:58:52.527Z"
   },
   {
    "duration": 21,
    "start_time": "2022-02-13T19:58:52.538Z"
   },
   {
    "duration": 21,
    "start_time": "2022-02-13T19:58:52.561Z"
   },
   {
    "duration": 7,
    "start_time": "2022-02-13T19:58:52.583Z"
   },
   {
    "duration": 22,
    "start_time": "2022-02-13T19:58:52.592Z"
   },
   {
    "duration": 22,
    "start_time": "2022-02-13T19:58:52.615Z"
   },
   {
    "duration": 20,
    "start_time": "2022-02-13T19:58:52.639Z"
   },
   {
    "duration": 7,
    "start_time": "2022-02-13T19:58:52.660Z"
   },
   {
    "duration": 14,
    "start_time": "2022-02-13T19:58:52.669Z"
   },
   {
    "duration": 46,
    "start_time": "2022-02-13T19:58:52.684Z"
   },
   {
    "duration": 7,
    "start_time": "2022-02-13T19:58:52.732Z"
   },
   {
    "duration": 15,
    "start_time": "2022-02-13T19:58:52.741Z"
   },
   {
    "duration": 13,
    "start_time": "2022-02-13T19:58:52.757Z"
   },
   {
    "duration": 5,
    "start_time": "2022-02-13T19:58:52.771Z"
   },
   {
    "duration": 42,
    "start_time": "2022-02-13T19:58:52.778Z"
   },
   {
    "duration": 1069,
    "start_time": "2022-02-13T19:59:25.875Z"
   },
   {
    "duration": 376,
    "start_time": "2022-02-13T19:59:26.946Z"
   },
   {
    "duration": 11,
    "start_time": "2022-02-13T19:59:27.324Z"
   },
   {
    "duration": 22,
    "start_time": "2022-02-13T19:59:27.337Z"
   },
   {
    "duration": 106,
    "start_time": "2022-02-13T19:59:27.360Z"
   },
   {
    "duration": 8,
    "start_time": "2022-02-13T19:59:27.468Z"
   },
   {
    "duration": 18,
    "start_time": "2022-02-13T19:59:27.477Z"
   },
   {
    "duration": 77,
    "start_time": "2022-02-13T19:59:27.497Z"
   },
   {
    "duration": 7,
    "start_time": "2022-02-13T19:59:27.576Z"
   },
   {
    "duration": 36,
    "start_time": "2022-02-13T19:59:27.585Z"
   },
   {
    "duration": 53,
    "start_time": "2022-02-13T19:59:27.623Z"
   },
   {
    "duration": 7,
    "start_time": "2022-02-13T19:59:27.678Z"
   },
   {
    "duration": 11,
    "start_time": "2022-02-13T19:59:27.687Z"
   },
   {
    "duration": 15,
    "start_time": "2022-02-13T19:59:27.700Z"
   },
   {
    "duration": 12,
    "start_time": "2022-02-13T19:59:27.717Z"
   },
   {
    "duration": 19,
    "start_time": "2022-02-13T19:59:27.731Z"
   },
   {
    "duration": 60,
    "start_time": "2022-02-13T19:59:27.752Z"
   },
   {
    "duration": 8,
    "start_time": "2022-02-13T19:59:27.814Z"
   },
   {
    "duration": 19,
    "start_time": "2022-02-13T19:59:27.824Z"
   },
   {
    "duration": 13,
    "start_time": "2022-02-13T19:59:27.845Z"
   },
   {
    "duration": 30,
    "start_time": "2022-02-13T19:59:27.859Z"
   },
   {
    "duration": 28,
    "start_time": "2022-02-13T19:59:27.890Z"
   },
   {
    "duration": 26,
    "start_time": "2022-02-13T19:59:27.922Z"
   },
   {
    "duration": 5,
    "start_time": "2022-02-13T19:59:27.950Z"
   },
   {
    "duration": 11,
    "start_time": "2022-02-13T19:59:27.956Z"
   },
   {
    "duration": 57,
    "start_time": "2022-02-13T19:59:27.969Z"
   },
   {
    "duration": 2,
    "start_time": "2022-02-13T19:59:28.028Z"
   },
   {
    "duration": 45,
    "start_time": "2022-02-13T19:59:28.032Z"
   },
   {
    "duration": 5,
    "start_time": "2022-02-13T19:59:28.079Z"
   },
   {
    "duration": 62,
    "start_time": "2022-02-13T19:59:28.086Z"
   },
   {
    "duration": 6,
    "start_time": "2022-02-13T19:59:28.149Z"
   },
   {
    "duration": 513,
    "start_time": "2022-02-13T19:59:28.157Z"
   },
   {
    "duration": 22,
    "start_time": "2022-02-13T19:59:28.671Z"
   },
   {
    "duration": 53,
    "start_time": "2022-02-13T19:59:28.695Z"
   },
   {
    "duration": 6,
    "start_time": "2022-02-13T19:59:28.750Z"
   },
   {
    "duration": 26,
    "start_time": "2022-02-13T19:59:28.758Z"
   },
   {
    "duration": 55,
    "start_time": "2022-02-13T19:59:28.785Z"
   },
   {
    "duration": 12,
    "start_time": "2022-02-13T19:59:28.842Z"
   },
   {
    "duration": 5,
    "start_time": "2022-02-13T19:59:28.856Z"
   },
   {
    "duration": 15,
    "start_time": "2022-02-13T19:59:28.863Z"
   },
   {
    "duration": 41,
    "start_time": "2022-02-13T19:59:28.879Z"
   },
   {
    "duration": 8,
    "start_time": "2022-02-13T19:59:28.921Z"
   },
   {
    "duration": 9,
    "start_time": "2022-02-13T19:59:28.930Z"
   },
   {
    "duration": 18,
    "start_time": "2022-02-13T19:59:28.941Z"
   },
   {
    "duration": 19,
    "start_time": "2022-02-13T19:59:28.961Z"
   },
   {
    "duration": 7,
    "start_time": "2022-02-13T19:59:28.982Z"
   },
   {
    "duration": 34,
    "start_time": "2022-02-13T19:59:28.991Z"
   },
   {
    "duration": 19,
    "start_time": "2022-02-13T19:59:29.027Z"
   },
   {
    "duration": 7,
    "start_time": "2022-02-13T19:59:29.048Z"
   },
   {
    "duration": 14,
    "start_time": "2022-02-13T19:59:29.056Z"
   },
   {
    "duration": 49,
    "start_time": "2022-02-13T19:59:29.071Z"
   },
   {
    "duration": 4,
    "start_time": "2022-02-13T19:59:44.752Z"
   },
   {
    "duration": 8547,
    "start_time": "2022-02-13T19:59:46.832Z"
   },
   {
    "duration": 2,
    "start_time": "2022-02-13T20:00:19.073Z"
   },
   {
    "duration": 400,
    "start_time": "2022-02-13T20:00:19.079Z"
   },
   {
    "duration": 8,
    "start_time": "2022-02-13T20:00:19.481Z"
   },
   {
    "duration": 20,
    "start_time": "2022-02-13T20:00:19.492Z"
   },
   {
    "duration": 88,
    "start_time": "2022-02-13T20:00:19.514Z"
   },
   {
    "duration": 12,
    "start_time": "2022-02-13T20:00:19.604Z"
   },
   {
    "duration": 19,
    "start_time": "2022-02-13T20:00:19.617Z"
   },
   {
    "duration": 74,
    "start_time": "2022-02-13T20:00:19.638Z"
   },
   {
    "duration": 8,
    "start_time": "2022-02-13T20:00:19.714Z"
   },
   {
    "duration": 14,
    "start_time": "2022-02-13T20:00:19.724Z"
   },
   {
    "duration": 43,
    "start_time": "2022-02-13T20:00:19.740Z"
   },
   {
    "duration": 33,
    "start_time": "2022-02-13T20:00:19.784Z"
   },
   {
    "duration": 8,
    "start_time": "2022-02-13T20:00:19.819Z"
   },
   {
    "duration": 11,
    "start_time": "2022-02-13T20:00:19.828Z"
   },
   {
    "duration": 7,
    "start_time": "2022-02-13T20:00:19.841Z"
   },
   {
    "duration": 20,
    "start_time": "2022-02-13T20:00:19.850Z"
   },
   {
    "duration": 73,
    "start_time": "2022-02-13T20:00:19.872Z"
   },
   {
    "duration": 7,
    "start_time": "2022-02-13T20:00:19.947Z"
   },
   {
    "duration": 17,
    "start_time": "2022-02-13T20:00:19.956Z"
   },
   {
    "duration": 13,
    "start_time": "2022-02-13T20:00:19.975Z"
   },
   {
    "duration": 29,
    "start_time": "2022-02-13T20:00:20.012Z"
   },
   {
    "duration": 10,
    "start_time": "2022-02-13T20:00:20.042Z"
   },
   {
    "duration": 25,
    "start_time": "2022-02-13T20:00:20.053Z"
   },
   {
    "duration": 31,
    "start_time": "2022-02-13T20:00:20.082Z"
   },
   {
    "duration": 12,
    "start_time": "2022-02-13T20:00:20.115Z"
   },
   {
    "duration": 27,
    "start_time": "2022-02-13T20:00:20.128Z"
   },
   {
    "duration": 2,
    "start_time": "2022-02-13T20:00:20.157Z"
   },
   {
    "duration": 65,
    "start_time": "2022-02-13T20:00:20.161Z"
   },
   {
    "duration": 5,
    "start_time": "2022-02-13T20:00:20.228Z"
   },
   {
    "duration": 38,
    "start_time": "2022-02-13T20:00:20.235Z"
   },
   {
    "duration": 6,
    "start_time": "2022-02-13T20:00:20.275Z"
   },
   {
    "duration": 532,
    "start_time": "2022-02-13T20:00:20.282Z"
   },
   {
    "duration": 21,
    "start_time": "2022-02-13T20:00:20.816Z"
   },
   {
    "duration": 38,
    "start_time": "2022-02-13T20:00:20.839Z"
   },
   {
    "duration": 6,
    "start_time": "2022-02-13T20:00:20.879Z"
   },
   {
    "duration": 48,
    "start_time": "2022-02-13T20:00:20.887Z"
   },
   {
    "duration": 39,
    "start_time": "2022-02-13T20:00:20.937Z"
   },
   {
    "duration": 13,
    "start_time": "2022-02-13T20:00:20.978Z"
   },
   {
    "duration": 6,
    "start_time": "2022-02-13T20:00:21.013Z"
   },
   {
    "duration": 11,
    "start_time": "2022-02-13T20:00:21.021Z"
   },
   {
    "duration": 24,
    "start_time": "2022-02-13T20:00:21.034Z"
   },
   {
    "duration": 8,
    "start_time": "2022-02-13T20:00:21.060Z"
   },
   {
    "duration": 2,
    "start_time": "2022-02-13T20:00:21.070Z"
   },
   {
    "duration": 48,
    "start_time": "2022-02-13T20:00:21.074Z"
   },
   {
    "duration": 21,
    "start_time": "2022-02-13T20:00:21.123Z"
   },
   {
    "duration": 8,
    "start_time": "2022-02-13T20:00:21.146Z"
   },
   {
    "duration": 14,
    "start_time": "2022-02-13T20:00:21.156Z"
   },
   {
    "duration": 45,
    "start_time": "2022-02-13T20:00:21.171Z"
   },
   {
    "duration": 8,
    "start_time": "2022-02-13T20:00:21.217Z"
   },
   {
    "duration": 17,
    "start_time": "2022-02-13T20:00:21.226Z"
   },
   {
    "duration": 15,
    "start_time": "2022-02-13T20:00:21.245Z"
   },
   {
    "duration": 7,
    "start_time": "2022-02-13T20:00:21.262Z"
   },
   {
    "duration": 8692,
    "start_time": "2022-02-13T20:00:21.271Z"
   },
   {
    "duration": 3,
    "start_time": "2022-02-13T20:00:52.809Z"
   },
   {
    "duration": 383,
    "start_time": "2022-02-13T20:00:52.814Z"
   },
   {
    "duration": 8,
    "start_time": "2022-02-13T20:00:53.199Z"
   },
   {
    "duration": 21,
    "start_time": "2022-02-13T20:00:53.209Z"
   },
   {
    "duration": 97,
    "start_time": "2022-02-13T20:00:53.232Z"
   },
   {
    "duration": 9,
    "start_time": "2022-02-13T20:00:53.332Z"
   },
   {
    "duration": 17,
    "start_time": "2022-02-13T20:00:53.344Z"
   },
   {
    "duration": 77,
    "start_time": "2022-02-13T20:00:53.364Z"
   },
   {
    "duration": 8,
    "start_time": "2022-02-13T20:00:53.443Z"
   },
   {
    "duration": 16,
    "start_time": "2022-02-13T20:00:53.453Z"
   },
   {
    "duration": 60,
    "start_time": "2022-02-13T20:00:53.470Z"
   },
   {
    "duration": 9,
    "start_time": "2022-02-13T20:00:53.532Z"
   },
   {
    "duration": 8,
    "start_time": "2022-02-13T20:00:53.543Z"
   },
   {
    "duration": 11,
    "start_time": "2022-02-13T20:00:53.553Z"
   },
   {
    "duration": 7,
    "start_time": "2022-02-13T20:00:53.565Z"
   },
   {
    "duration": 47,
    "start_time": "2022-02-13T20:00:53.574Z"
   },
   {
    "duration": 42,
    "start_time": "2022-02-13T20:00:53.622Z"
   },
   {
    "duration": 7,
    "start_time": "2022-02-13T20:00:53.666Z"
   },
   {
    "duration": 40,
    "start_time": "2022-02-13T20:00:53.676Z"
   },
   {
    "duration": 13,
    "start_time": "2022-02-13T20:00:53.718Z"
   },
   {
    "duration": 30,
    "start_time": "2022-02-13T20:00:53.733Z"
   },
   {
    "duration": 8,
    "start_time": "2022-02-13T20:00:53.764Z"
   },
   {
    "duration": 50,
    "start_time": "2022-02-13T20:00:53.774Z"
   },
   {
    "duration": 4,
    "start_time": "2022-02-13T20:00:53.826Z"
   },
   {
    "duration": 12,
    "start_time": "2022-02-13T20:00:53.832Z"
   },
   {
    "duration": 29,
    "start_time": "2022-02-13T20:00:53.846Z"
   },
   {
    "duration": 2,
    "start_time": "2022-02-13T20:00:53.876Z"
   },
   {
    "duration": 65,
    "start_time": "2022-02-13T20:00:53.880Z"
   },
   {
    "duration": 5,
    "start_time": "2022-02-13T20:00:53.946Z"
   },
   {
    "duration": 39,
    "start_time": "2022-02-13T20:00:53.953Z"
   },
   {
    "duration": 6,
    "start_time": "2022-02-13T20:00:54.012Z"
   },
   {
    "duration": 502,
    "start_time": "2022-02-13T20:00:54.020Z"
   },
   {
    "duration": 20,
    "start_time": "2022-02-13T20:00:54.523Z"
   },
   {
    "duration": 36,
    "start_time": "2022-02-13T20:00:54.544Z"
   },
   {
    "duration": 5,
    "start_time": "2022-02-13T20:00:54.581Z"
   },
   {
    "duration": 23,
    "start_time": "2022-02-13T20:00:54.612Z"
   },
   {
    "duration": 36,
    "start_time": "2022-02-13T20:00:54.637Z"
   },
   {
    "duration": 12,
    "start_time": "2022-02-13T20:00:54.674Z"
   },
   {
    "duration": 6,
    "start_time": "2022-02-13T20:00:54.712Z"
   },
   {
    "duration": 11,
    "start_time": "2022-02-13T20:00:54.720Z"
   },
   {
    "duration": 24,
    "start_time": "2022-02-13T20:00:54.732Z"
   },
   {
    "duration": 8,
    "start_time": "2022-02-13T20:00:54.758Z"
   },
   {
    "duration": 3,
    "start_time": "2022-02-13T20:00:54.767Z"
   },
   {
    "duration": 49,
    "start_time": "2022-02-13T20:00:54.772Z"
   },
   {
    "duration": 21,
    "start_time": "2022-02-13T20:00:54.823Z"
   },
   {
    "duration": 7,
    "start_time": "2022-02-13T20:00:54.845Z"
   },
   {
    "duration": 15,
    "start_time": "2022-02-13T20:00:54.854Z"
   },
   {
    "duration": 49,
    "start_time": "2022-02-13T20:00:54.871Z"
   },
   {
    "duration": 8,
    "start_time": "2022-02-13T20:00:54.922Z"
   },
   {
    "duration": 14,
    "start_time": "2022-02-13T20:00:54.931Z"
   },
   {
    "duration": 15,
    "start_time": "2022-02-13T20:00:54.946Z"
   },
   {
    "duration": 5,
    "start_time": "2022-02-13T20:00:54.963Z"
   },
   {
    "duration": 8591,
    "start_time": "2022-02-13T20:00:59.659Z"
   },
   {
    "duration": 8,
    "start_time": "2022-02-13T20:01:56.533Z"
   },
   {
    "duration": 1154,
    "start_time": "2022-02-13T20:19:09.803Z"
   },
   {
    "duration": 409,
    "start_time": "2022-02-13T20:19:10.959Z"
   },
   {
    "duration": 13,
    "start_time": "2022-02-13T20:19:11.370Z"
   },
   {
    "duration": 26,
    "start_time": "2022-02-13T20:19:11.386Z"
   },
   {
    "duration": 116,
    "start_time": "2022-02-13T20:19:11.414Z"
   },
   {
    "duration": 8,
    "start_time": "2022-02-13T20:19:11.532Z"
   },
   {
    "duration": 18,
    "start_time": "2022-02-13T20:19:11.542Z"
   },
   {
    "duration": 85,
    "start_time": "2022-02-13T20:19:11.562Z"
   },
   {
    "duration": 7,
    "start_time": "2022-02-13T20:19:11.650Z"
   },
   {
    "duration": 26,
    "start_time": "2022-02-13T20:19:11.659Z"
   },
   {
    "duration": 73,
    "start_time": "2022-02-13T20:19:11.687Z"
   },
   {
    "duration": 8,
    "start_time": "2022-02-13T20:19:11.761Z"
   },
   {
    "duration": 18,
    "start_time": "2022-02-13T20:19:11.771Z"
   },
   {
    "duration": 22,
    "start_time": "2022-02-13T20:19:11.791Z"
   },
   {
    "duration": 25,
    "start_time": "2022-02-13T20:19:11.816Z"
   },
   {
    "duration": 29,
    "start_time": "2022-02-13T20:19:11.843Z"
   },
   {
    "duration": 49,
    "start_time": "2022-02-13T20:19:11.873Z"
   },
   {
    "duration": 7,
    "start_time": "2022-02-13T20:19:11.924Z"
   },
   {
    "duration": 17,
    "start_time": "2022-02-13T20:19:11.933Z"
   },
   {
    "duration": 13,
    "start_time": "2022-02-13T20:19:11.952Z"
   },
   {
    "duration": 54,
    "start_time": "2022-02-13T20:19:11.967Z"
   },
   {
    "duration": 11,
    "start_time": "2022-02-13T20:19:12.023Z"
   },
   {
    "duration": 27,
    "start_time": "2022-02-13T20:19:12.038Z"
   },
   {
    "duration": 6,
    "start_time": "2022-02-13T20:19:12.067Z"
   },
   {
    "duration": 39,
    "start_time": "2022-02-13T20:19:12.074Z"
   },
   {
    "duration": 31,
    "start_time": "2022-02-13T20:19:12.115Z"
   },
   {
    "duration": 3,
    "start_time": "2022-02-13T20:19:12.148Z"
   },
   {
    "duration": 62,
    "start_time": "2022-02-13T20:19:12.153Z"
   },
   {
    "duration": 7,
    "start_time": "2022-02-13T20:19:12.216Z"
   },
   {
    "duration": 51,
    "start_time": "2022-02-13T20:19:12.225Z"
   },
   {
    "duration": 7,
    "start_time": "2022-02-13T20:19:12.278Z"
   },
   {
    "duration": 552,
    "start_time": "2022-02-13T20:19:12.311Z"
   },
   {
    "duration": 21,
    "start_time": "2022-02-13T20:19:12.865Z"
   },
   {
    "duration": 60,
    "start_time": "2022-02-13T20:19:12.889Z"
   },
   {
    "duration": 6,
    "start_time": "2022-02-13T20:19:12.951Z"
   },
   {
    "duration": 55,
    "start_time": "2022-02-13T20:19:12.959Z"
   },
   {
    "duration": 37,
    "start_time": "2022-02-13T20:19:13.016Z"
   },
   {
    "duration": 14,
    "start_time": "2022-02-13T20:19:13.056Z"
   },
   {
    "duration": 6,
    "start_time": "2022-02-13T20:19:13.072Z"
   },
   {
    "duration": 37,
    "start_time": "2022-02-13T20:19:13.080Z"
   },
   {
    "duration": 39,
    "start_time": "2022-02-13T20:19:13.119Z"
   },
   {
    "duration": 11,
    "start_time": "2022-02-13T20:19:13.161Z"
   },
   {
    "duration": 13,
    "start_time": "2022-02-13T20:19:13.173Z"
   },
   {
    "duration": 24,
    "start_time": "2022-02-13T20:19:13.188Z"
   },
   {
    "duration": 26,
    "start_time": "2022-02-13T20:19:13.214Z"
   },
   {
    "duration": 8,
    "start_time": "2022-02-13T20:19:13.242Z"
   },
   {
    "duration": 24,
    "start_time": "2022-02-13T20:19:13.252Z"
   },
   {
    "duration": 44,
    "start_time": "2022-02-13T20:19:13.278Z"
   },
   {
    "duration": 9,
    "start_time": "2022-02-13T20:19:13.325Z"
   },
   {
    "duration": 21,
    "start_time": "2022-02-13T20:19:13.336Z"
   },
   {
    "duration": 10,
    "start_time": "2022-02-13T20:19:13.359Z"
   },
   {
    "duration": 288,
    "start_time": "2022-02-13T20:19:16.652Z"
   },
   {
    "duration": 8802,
    "start_time": "2022-02-13T20:19:53.906Z"
   },
   {
    "duration": 15,
    "start_time": "2022-02-13T20:20:17.373Z"
   },
   {
    "duration": 22,
    "start_time": "2022-02-13T20:21:10.359Z"
   },
   {
    "duration": 17,
    "start_time": "2022-02-13T20:21:21.736Z"
   },
   {
    "duration": 7,
    "start_time": "2022-02-13T20:22:48.931Z"
   },
   {
    "duration": 8,
    "start_time": "2022-02-13T20:23:27.776Z"
   },
   {
    "duration": 3,
    "start_time": "2022-02-13T20:23:40.315Z"
   },
   {
    "duration": 404,
    "start_time": "2022-02-13T20:23:40.322Z"
   },
   {
    "duration": 8,
    "start_time": "2022-02-13T20:23:40.729Z"
   },
   {
    "duration": 23,
    "start_time": "2022-02-13T20:23:40.740Z"
   },
   {
    "duration": 101,
    "start_time": "2022-02-13T20:23:40.764Z"
   },
   {
    "duration": 8,
    "start_time": "2022-02-13T20:23:40.866Z"
   },
   {
    "duration": 18,
    "start_time": "2022-02-13T20:23:40.876Z"
   },
   {
    "duration": 62,
    "start_time": "2022-02-13T20:23:40.896Z"
   },
   {
    "duration": 7,
    "start_time": "2022-02-13T20:23:40.961Z"
   },
   {
    "duration": 16,
    "start_time": "2022-02-13T20:23:40.970Z"
   },
   {
    "duration": 61,
    "start_time": "2022-02-13T20:23:40.987Z"
   },
   {
    "duration": 7,
    "start_time": "2022-02-13T20:23:41.050Z"
   },
   {
    "duration": 7,
    "start_time": "2022-02-13T20:23:41.059Z"
   },
   {
    "duration": 11,
    "start_time": "2022-02-13T20:23:41.067Z"
   },
   {
    "duration": 35,
    "start_time": "2022-02-13T20:23:41.079Z"
   },
   {
    "duration": 16,
    "start_time": "2022-02-13T20:23:41.116Z"
   },
   {
    "duration": 52,
    "start_time": "2022-02-13T20:23:41.134Z"
   },
   {
    "duration": 26,
    "start_time": "2022-02-13T20:23:41.188Z"
   },
   {
    "duration": 13,
    "start_time": "2022-02-13T20:23:41.216Z"
   },
   {
    "duration": 13,
    "start_time": "2022-02-13T20:23:41.230Z"
   },
   {
    "duration": 33,
    "start_time": "2022-02-13T20:23:41.245Z"
   },
   {
    "duration": 41,
    "start_time": "2022-02-13T20:23:41.280Z"
   },
   {
    "duration": 35,
    "start_time": "2022-02-13T20:23:41.323Z"
   },
   {
    "duration": 6,
    "start_time": "2022-02-13T20:23:41.363Z"
   },
   {
    "duration": 43,
    "start_time": "2022-02-13T20:23:41.372Z"
   },
   {
    "duration": 31,
    "start_time": "2022-02-13T20:23:41.417Z"
   },
   {
    "duration": 4,
    "start_time": "2022-02-13T20:23:41.450Z"
   },
   {
    "duration": 67,
    "start_time": "2022-02-13T20:23:41.456Z"
   },
   {
    "duration": 7,
    "start_time": "2022-02-13T20:23:41.525Z"
   },
   {
    "duration": 39,
    "start_time": "2022-02-13T20:23:41.535Z"
   },
   {
    "duration": 6,
    "start_time": "2022-02-13T20:23:41.576Z"
   },
   {
    "duration": 529,
    "start_time": "2022-02-13T20:23:41.613Z"
   },
   {
    "duration": 19,
    "start_time": "2022-02-13T20:23:42.145Z"
   },
   {
    "duration": 57,
    "start_time": "2022-02-13T20:23:42.166Z"
   },
   {
    "duration": 5,
    "start_time": "2022-02-13T20:23:42.225Z"
   },
   {
    "duration": 29,
    "start_time": "2022-02-13T20:23:42.232Z"
   },
   {
    "duration": 53,
    "start_time": "2022-02-13T20:23:42.262Z"
   },
   {
    "duration": 14,
    "start_time": "2022-02-13T20:23:42.317Z"
   },
   {
    "duration": 8,
    "start_time": "2022-02-13T20:23:42.333Z"
   },
   {
    "duration": 14,
    "start_time": "2022-02-13T20:23:42.342Z"
   },
   {
    "duration": 20,
    "start_time": "2022-02-13T20:23:42.358Z"
   },
   {
    "duration": 40,
    "start_time": "2022-02-13T20:23:42.379Z"
   },
   {
    "duration": 4,
    "start_time": "2022-02-13T20:23:42.422Z"
   },
   {
    "duration": 22,
    "start_time": "2022-02-13T20:23:42.428Z"
   },
   {
    "duration": 21,
    "start_time": "2022-02-13T20:23:42.452Z"
   },
   {
    "duration": 37,
    "start_time": "2022-02-13T20:23:42.475Z"
   },
   {
    "duration": 21,
    "start_time": "2022-02-13T20:23:42.515Z"
   },
   {
    "duration": 25,
    "start_time": "2022-02-13T20:23:42.538Z"
   },
   {
    "duration": 7,
    "start_time": "2022-02-13T20:23:42.565Z"
   },
   {
    "duration": 49,
    "start_time": "2022-02-13T20:23:42.574Z"
   },
   {
    "duration": 6,
    "start_time": "2022-02-13T20:23:42.625Z"
   },
   {
    "duration": 8882,
    "start_time": "2022-02-13T20:23:42.632Z"
   },
   {
    "duration": 16,
    "start_time": "2022-02-13T20:23:51.516Z"
   },
   {
    "duration": 9,
    "start_time": "2022-02-13T20:23:51.533Z"
   },
   {
    "duration": 5,
    "start_time": "2022-02-13T20:26:41.497Z"
   },
   {
    "duration": 8844,
    "start_time": "2022-02-13T20:27:38.448Z"
   },
   {
    "duration": 8,
    "start_time": "2022-02-13T20:27:48.944Z"
   },
   {
    "duration": 16,
    "start_time": "2022-02-13T20:28:07.817Z"
   },
   {
    "duration": 16,
    "start_time": "2022-02-13T20:28:33.184Z"
   },
   {
    "duration": 27,
    "start_time": "2022-02-13T20:30:06.176Z"
   },
   {
    "duration": 3,
    "start_time": "2022-02-13T20:31:18.278Z"
   },
   {
    "duration": 386,
    "start_time": "2022-02-13T20:31:18.283Z"
   },
   {
    "duration": 7,
    "start_time": "2022-02-13T20:31:18.672Z"
   },
   {
    "duration": 22,
    "start_time": "2022-02-13T20:31:18.681Z"
   },
   {
    "duration": 80,
    "start_time": "2022-02-13T20:31:18.705Z"
   },
   {
    "duration": 9,
    "start_time": "2022-02-13T20:31:18.787Z"
   },
   {
    "duration": 19,
    "start_time": "2022-02-13T20:31:18.812Z"
   },
   {
    "duration": 52,
    "start_time": "2022-02-13T20:31:18.833Z"
   },
   {
    "duration": 26,
    "start_time": "2022-02-13T20:31:18.886Z"
   },
   {
    "duration": 14,
    "start_time": "2022-02-13T20:31:18.914Z"
   },
   {
    "duration": 39,
    "start_time": "2022-02-13T20:31:18.930Z"
   },
   {
    "duration": 8,
    "start_time": "2022-02-13T20:31:18.971Z"
   },
   {
    "duration": 32,
    "start_time": "2022-02-13T20:31:18.981Z"
   },
   {
    "duration": 10,
    "start_time": "2022-02-13T20:31:19.015Z"
   },
   {
    "duration": 8,
    "start_time": "2022-02-13T20:31:19.027Z"
   },
   {
    "duration": 16,
    "start_time": "2022-02-13T20:31:19.037Z"
   },
   {
    "duration": 72,
    "start_time": "2022-02-13T20:31:19.055Z"
   },
   {
    "duration": 8,
    "start_time": "2022-02-13T20:31:19.129Z"
   },
   {
    "duration": 14,
    "start_time": "2022-02-13T20:31:19.141Z"
   },
   {
    "duration": 13,
    "start_time": "2022-02-13T20:31:19.157Z"
   },
   {
    "duration": 59,
    "start_time": "2022-02-13T20:31:19.172Z"
   },
   {
    "duration": 9,
    "start_time": "2022-02-13T20:31:19.233Z"
   },
   {
    "duration": 25,
    "start_time": "2022-02-13T20:31:19.244Z"
   },
   {
    "duration": 5,
    "start_time": "2022-02-13T20:31:19.271Z"
   },
   {
    "duration": 38,
    "start_time": "2022-02-13T20:31:19.277Z"
   },
   {
    "duration": 28,
    "start_time": "2022-02-13T20:31:19.317Z"
   },
   {
    "duration": 2,
    "start_time": "2022-02-13T20:31:19.347Z"
   },
   {
    "duration": 72,
    "start_time": "2022-02-13T20:31:19.351Z"
   },
   {
    "duration": 7,
    "start_time": "2022-02-13T20:31:19.424Z"
   },
   {
    "duration": 43,
    "start_time": "2022-02-13T20:31:19.432Z"
   },
   {
    "duration": 6,
    "start_time": "2022-02-13T20:31:19.476Z"
   },
   {
    "duration": 566,
    "start_time": "2022-02-13T20:31:19.484Z"
   },
   {
    "duration": 21,
    "start_time": "2022-02-13T20:31:20.052Z"
   },
   {
    "duration": 57,
    "start_time": "2022-02-13T20:31:20.075Z"
   },
   {
    "duration": 6,
    "start_time": "2022-02-13T20:31:20.134Z"
   },
   {
    "duration": 26,
    "start_time": "2022-02-13T20:31:20.141Z"
   },
   {
    "duration": 62,
    "start_time": "2022-02-13T20:31:20.168Z"
   },
   {
    "duration": 13,
    "start_time": "2022-02-13T20:31:20.232Z"
   },
   {
    "duration": 7,
    "start_time": "2022-02-13T20:31:20.246Z"
   },
   {
    "duration": 12,
    "start_time": "2022-02-13T20:31:20.255Z"
   },
   {
    "duration": 55,
    "start_time": "2022-02-13T20:31:20.268Z"
   },
   {
    "duration": 10,
    "start_time": "2022-02-13T20:31:20.325Z"
   },
   {
    "duration": 3,
    "start_time": "2022-02-13T20:31:20.336Z"
   },
   {
    "duration": 18,
    "start_time": "2022-02-13T20:31:20.341Z"
   },
   {
    "duration": 52,
    "start_time": "2022-02-13T20:31:20.361Z"
   },
   {
    "duration": 8,
    "start_time": "2022-02-13T20:31:20.415Z"
   },
   {
    "duration": 16,
    "start_time": "2022-02-13T20:31:20.425Z"
   },
   {
    "duration": 20,
    "start_time": "2022-02-13T20:31:20.443Z"
   },
   {
    "duration": 48,
    "start_time": "2022-02-13T20:31:20.465Z"
   },
   {
    "duration": 15,
    "start_time": "2022-02-13T20:31:20.515Z"
   },
   {
    "duration": 10,
    "start_time": "2022-02-13T20:31:20.532Z"
   },
   {
    "duration": 8927,
    "start_time": "2022-02-13T20:31:20.544Z"
   },
   {
    "duration": 15,
    "start_time": "2022-02-13T20:31:34.720Z"
   },
   {
    "duration": 16,
    "start_time": "2022-02-13T20:31:44.061Z"
   },
   {
    "duration": 1103,
    "start_time": "2022-02-13T20:32:12.636Z"
   },
   {
    "duration": 345,
    "start_time": "2022-02-13T20:32:13.741Z"
   },
   {
    "duration": 13,
    "start_time": "2022-02-13T20:32:14.088Z"
   },
   {
    "duration": 22,
    "start_time": "2022-02-13T20:32:14.103Z"
   },
   {
    "duration": 100,
    "start_time": "2022-02-13T20:32:14.127Z"
   },
   {
    "duration": 8,
    "start_time": "2022-02-13T20:32:14.229Z"
   },
   {
    "duration": 19,
    "start_time": "2022-02-13T20:32:14.239Z"
   },
   {
    "duration": 80,
    "start_time": "2022-02-13T20:32:14.260Z"
   },
   {
    "duration": 7,
    "start_time": "2022-02-13T20:32:14.342Z"
   },
   {
    "duration": 15,
    "start_time": "2022-02-13T20:32:14.351Z"
   },
   {
    "duration": 60,
    "start_time": "2022-02-13T20:32:14.368Z"
   },
   {
    "duration": 8,
    "start_time": "2022-02-13T20:32:14.430Z"
   },
   {
    "duration": 7,
    "start_time": "2022-02-13T20:32:14.440Z"
   },
   {
    "duration": 15,
    "start_time": "2022-02-13T20:32:14.448Z"
   },
   {
    "duration": 7,
    "start_time": "2022-02-13T20:32:14.465Z"
   },
   {
    "duration": 47,
    "start_time": "2022-02-13T20:32:14.473Z"
   },
   {
    "duration": 43,
    "start_time": "2022-02-13T20:32:14.522Z"
   },
   {
    "duration": 8,
    "start_time": "2022-02-13T20:32:14.567Z"
   },
   {
    "duration": 36,
    "start_time": "2022-02-13T20:32:14.577Z"
   },
   {
    "duration": 13,
    "start_time": "2022-02-13T20:32:14.615Z"
   },
   {
    "duration": 29,
    "start_time": "2022-02-13T20:32:14.630Z"
   },
   {
    "duration": 10,
    "start_time": "2022-02-13T20:32:14.661Z"
   },
   {
    "duration": 56,
    "start_time": "2022-02-13T20:32:14.676Z"
   },
   {
    "duration": 5,
    "start_time": "2022-02-13T20:32:14.734Z"
   },
   {
    "duration": 10,
    "start_time": "2022-02-13T20:32:14.741Z"
   },
   {
    "duration": 27,
    "start_time": "2022-02-13T20:32:14.753Z"
   },
   {
    "duration": 2,
    "start_time": "2022-02-13T20:32:14.782Z"
   },
   {
    "duration": 44,
    "start_time": "2022-02-13T20:32:14.813Z"
   },
   {
    "duration": 6,
    "start_time": "2022-02-13T20:32:14.859Z"
   },
   {
    "duration": 71,
    "start_time": "2022-02-13T20:32:14.867Z"
   },
   {
    "duration": 7,
    "start_time": "2022-02-13T20:32:14.940Z"
   },
   {
    "duration": 515,
    "start_time": "2022-02-13T20:32:14.949Z"
   },
   {
    "duration": 21,
    "start_time": "2022-02-13T20:32:15.466Z"
   },
   {
    "duration": 60,
    "start_time": "2022-02-13T20:32:15.489Z"
   },
   {
    "duration": 7,
    "start_time": "2022-02-13T20:32:15.551Z"
   },
   {
    "duration": 24,
    "start_time": "2022-02-13T20:32:15.560Z"
   },
   {
    "duration": 54,
    "start_time": "2022-02-13T20:32:15.586Z"
   },
   {
    "duration": 14,
    "start_time": "2022-02-13T20:32:15.642Z"
   },
   {
    "duration": 6,
    "start_time": "2022-02-13T20:32:15.658Z"
   },
   {
    "duration": 11,
    "start_time": "2022-02-13T20:32:15.666Z"
   },
   {
    "duration": 23,
    "start_time": "2022-02-13T20:32:15.712Z"
   },
   {
    "duration": 10,
    "start_time": "2022-02-13T20:32:15.737Z"
   },
   {
    "duration": 3,
    "start_time": "2022-02-13T20:32:15.749Z"
   },
   {
    "duration": 17,
    "start_time": "2022-02-13T20:32:15.753Z"
   },
   {
    "duration": 54,
    "start_time": "2022-02-13T20:32:15.771Z"
   },
   {
    "duration": 10,
    "start_time": "2022-02-13T20:32:15.827Z"
   },
   {
    "duration": 15,
    "start_time": "2022-02-13T20:32:15.839Z"
   },
   {
    "duration": 21,
    "start_time": "2022-02-13T20:32:15.856Z"
   },
   {
    "duration": 40,
    "start_time": "2022-02-13T20:32:15.879Z"
   },
   {
    "duration": 15,
    "start_time": "2022-02-13T20:32:15.921Z"
   },
   {
    "duration": 8,
    "start_time": "2022-02-13T20:32:15.938Z"
   },
   {
    "duration": 291,
    "start_time": "2022-02-13T20:32:15.948Z"
   },
   {
    "duration": 42,
    "start_time": "2022-02-13T20:32:16.199Z"
   },
   {
    "duration": 1142,
    "start_time": "2022-02-13T20:34:12.479Z"
   },
   {
    "duration": 362,
    "start_time": "2022-02-13T20:34:13.623Z"
   },
   {
    "duration": 13,
    "start_time": "2022-02-13T20:34:13.987Z"
   },
   {
    "duration": 29,
    "start_time": "2022-02-13T20:34:14.002Z"
   },
   {
    "duration": 104,
    "start_time": "2022-02-13T20:34:14.033Z"
   },
   {
    "duration": 8,
    "start_time": "2022-02-13T20:34:14.139Z"
   },
   {
    "duration": 18,
    "start_time": "2022-02-13T20:34:14.149Z"
   },
   {
    "duration": 83,
    "start_time": "2022-02-13T20:34:14.170Z"
   },
   {
    "duration": 8,
    "start_time": "2022-02-13T20:34:14.256Z"
   },
   {
    "duration": 15,
    "start_time": "2022-02-13T20:34:14.266Z"
   },
   {
    "duration": 64,
    "start_time": "2022-02-13T20:34:14.283Z"
   },
   {
    "duration": 8,
    "start_time": "2022-02-13T20:34:14.349Z"
   },
   {
    "duration": 6,
    "start_time": "2022-02-13T20:34:14.358Z"
   },
   {
    "duration": 10,
    "start_time": "2022-02-13T20:34:14.366Z"
   },
   {
    "duration": 37,
    "start_time": "2022-02-13T20:34:14.378Z"
   },
   {
    "duration": 23,
    "start_time": "2022-02-13T20:34:14.417Z"
   },
   {
    "duration": 45,
    "start_time": "2022-02-13T20:34:14.442Z"
   },
   {
    "duration": 27,
    "start_time": "2022-02-13T20:34:14.489Z"
   },
   {
    "duration": 24,
    "start_time": "2022-02-13T20:34:14.518Z"
   },
   {
    "duration": 14,
    "start_time": "2022-02-13T20:34:14.543Z"
   },
   {
    "duration": 40,
    "start_time": "2022-02-13T20:34:14.558Z"
   },
   {
    "duration": 18,
    "start_time": "2022-02-13T20:34:14.600Z"
   },
   {
    "duration": 28,
    "start_time": "2022-02-13T20:34:14.621Z"
   },
   {
    "duration": 5,
    "start_time": "2022-02-13T20:34:14.651Z"
   },
   {
    "duration": 12,
    "start_time": "2022-02-13T20:34:14.657Z"
   },
   {
    "duration": 52,
    "start_time": "2022-02-13T20:34:14.671Z"
   },
   {
    "duration": 3,
    "start_time": "2022-02-13T20:34:14.725Z"
   },
   {
    "duration": 46,
    "start_time": "2022-02-13T20:34:14.729Z"
   },
   {
    "duration": 6,
    "start_time": "2022-02-13T20:34:14.777Z"
   },
   {
    "duration": 62,
    "start_time": "2022-02-13T20:34:14.785Z"
   },
   {
    "duration": 5,
    "start_time": "2022-02-13T20:34:14.849Z"
   },
   {
    "duration": 520,
    "start_time": "2022-02-13T20:34:14.856Z"
   },
   {
    "duration": 20,
    "start_time": "2022-02-13T20:34:15.378Z"
   },
   {
    "duration": 46,
    "start_time": "2022-02-13T20:34:15.399Z"
   },
   {
    "duration": 7,
    "start_time": "2022-02-13T20:34:15.447Z"
   },
   {
    "duration": 57,
    "start_time": "2022-02-13T20:34:15.456Z"
   },
   {
    "duration": 34,
    "start_time": "2022-02-13T20:34:15.514Z"
   },
   {
    "duration": 14,
    "start_time": "2022-02-13T20:34:15.549Z"
   },
   {
    "duration": 5,
    "start_time": "2022-02-13T20:34:15.565Z"
   },
   {
    "duration": 15,
    "start_time": "2022-02-13T20:34:15.572Z"
   },
   {
    "duration": 46,
    "start_time": "2022-02-13T20:34:15.588Z"
   },
   {
    "duration": 8,
    "start_time": "2022-02-13T20:34:15.636Z"
   },
   {
    "duration": 5,
    "start_time": "2022-02-13T20:34:15.645Z"
   },
   {
    "duration": 16,
    "start_time": "2022-02-13T20:34:15.651Z"
   },
   {
    "duration": 49,
    "start_time": "2022-02-13T20:34:15.669Z"
   },
   {
    "duration": 7,
    "start_time": "2022-02-13T20:34:15.720Z"
   },
   {
    "duration": 21,
    "start_time": "2022-02-13T20:34:15.729Z"
   },
   {
    "duration": 60,
    "start_time": "2022-02-13T20:34:15.752Z"
   },
   {
    "duration": 9,
    "start_time": "2022-02-13T20:34:15.814Z"
   },
   {
    "duration": 19,
    "start_time": "2022-02-13T20:34:15.824Z"
   },
   {
    "duration": 8,
    "start_time": "2022-02-13T20:34:15.845Z"
   },
   {
    "duration": 8695,
    "start_time": "2022-02-13T20:34:25.684Z"
   },
   {
    "duration": 268,
    "start_time": "2022-02-13T20:34:39.458Z"
   },
   {
    "duration": 1102,
    "start_time": "2022-02-13T20:37:05.534Z"
   },
   {
    "duration": 356,
    "start_time": "2022-02-13T20:37:06.638Z"
   },
   {
    "duration": 12,
    "start_time": "2022-02-13T20:37:06.996Z"
   },
   {
    "duration": 20,
    "start_time": "2022-02-13T20:37:07.009Z"
   },
   {
    "duration": 103,
    "start_time": "2022-02-13T20:37:07.031Z"
   },
   {
    "duration": 8,
    "start_time": "2022-02-13T20:37:07.135Z"
   },
   {
    "duration": 19,
    "start_time": "2022-02-13T20:37:07.145Z"
   },
   {
    "duration": 79,
    "start_time": "2022-02-13T20:37:07.167Z"
   },
   {
    "duration": 6,
    "start_time": "2022-02-13T20:37:07.248Z"
   },
   {
    "duration": 15,
    "start_time": "2022-02-13T20:37:07.256Z"
   },
   {
    "duration": 61,
    "start_time": "2022-02-13T20:37:07.272Z"
   },
   {
    "duration": 7,
    "start_time": "2022-02-13T20:37:07.335Z"
   },
   {
    "duration": 7,
    "start_time": "2022-02-13T20:37:07.344Z"
   },
   {
    "duration": 10,
    "start_time": "2022-02-13T20:37:07.353Z"
   },
   {
    "duration": 8,
    "start_time": "2022-02-13T20:37:07.364Z"
   },
   {
    "duration": 48,
    "start_time": "2022-02-13T20:37:07.374Z"
   },
   {
    "duration": 44,
    "start_time": "2022-02-13T20:37:07.424Z"
   },
   {
    "duration": 7,
    "start_time": "2022-02-13T20:37:07.470Z"
   },
   {
    "duration": 35,
    "start_time": "2022-02-13T20:37:07.478Z"
   },
   {
    "duration": 14,
    "start_time": "2022-02-13T20:37:07.515Z"
   },
   {
    "duration": 28,
    "start_time": "2022-02-13T20:37:07.530Z"
   },
   {
    "duration": 10,
    "start_time": "2022-02-13T20:37:07.560Z"
   },
   {
    "duration": 51,
    "start_time": "2022-02-13T20:37:07.573Z"
   },
   {
    "duration": 5,
    "start_time": "2022-02-13T20:37:07.626Z"
   },
   {
    "duration": 12,
    "start_time": "2022-02-13T20:37:07.632Z"
   },
   {
    "duration": 30,
    "start_time": "2022-02-13T20:37:07.645Z"
   },
   {
    "duration": 3,
    "start_time": "2022-02-13T20:37:07.676Z"
   },
   {
    "duration": 68,
    "start_time": "2022-02-13T20:37:07.680Z"
   },
   {
    "duration": 5,
    "start_time": "2022-02-13T20:37:07.750Z"
   },
   {
    "duration": 56,
    "start_time": "2022-02-13T20:37:07.757Z"
   },
   {
    "duration": 6,
    "start_time": "2022-02-13T20:37:07.815Z"
   },
   {
    "duration": 509,
    "start_time": "2022-02-13T20:37:07.822Z"
   },
   {
    "duration": 22,
    "start_time": "2022-02-13T20:37:08.333Z"
   },
   {
    "duration": 58,
    "start_time": "2022-02-13T20:37:08.357Z"
   },
   {
    "duration": 6,
    "start_time": "2022-02-13T20:37:08.417Z"
   },
   {
    "duration": 29,
    "start_time": "2022-02-13T20:37:08.425Z"
   },
   {
    "duration": 36,
    "start_time": "2022-02-13T20:37:08.456Z"
   },
   {
    "duration": 14,
    "start_time": "2022-02-13T20:37:08.513Z"
   },
   {
    "duration": 7,
    "start_time": "2022-02-13T20:37:08.528Z"
   },
   {
    "duration": 19,
    "start_time": "2022-02-13T20:37:08.536Z"
   },
   {
    "duration": 23,
    "start_time": "2022-02-13T20:37:08.557Z"
   },
   {
    "duration": 34,
    "start_time": "2022-02-13T20:37:08.582Z"
   },
   {
    "duration": 3,
    "start_time": "2022-02-13T20:37:08.618Z"
   },
   {
    "duration": 17,
    "start_time": "2022-02-13T20:37:08.622Z"
   },
   {
    "duration": 21,
    "start_time": "2022-02-13T20:37:08.641Z"
   },
   {
    "duration": 9,
    "start_time": "2022-02-13T20:37:08.664Z"
   },
   {
    "duration": 53,
    "start_time": "2022-02-13T20:37:08.674Z"
   },
   {
    "duration": 22,
    "start_time": "2022-02-13T20:37:08.728Z"
   },
   {
    "duration": 7,
    "start_time": "2022-02-13T20:37:08.752Z"
   },
   {
    "duration": 51,
    "start_time": "2022-02-13T20:37:08.761Z"
   },
   {
    "duration": 5,
    "start_time": "2022-02-13T20:37:11.018Z"
   },
   {
    "duration": 8574,
    "start_time": "2022-02-13T20:37:25.432Z"
   },
   {
    "duration": 263,
    "start_time": "2022-02-13T20:37:37.376Z"
   },
   {
    "duration": 1098,
    "start_time": "2022-02-13T20:38:21.679Z"
   },
   {
    "duration": 373,
    "start_time": "2022-02-13T20:38:22.778Z"
   },
   {
    "duration": 11,
    "start_time": "2022-02-13T20:38:23.153Z"
   },
   {
    "duration": 21,
    "start_time": "2022-02-13T20:38:23.166Z"
   },
   {
    "duration": 100,
    "start_time": "2022-02-13T20:38:23.189Z"
   },
   {
    "duration": 8,
    "start_time": "2022-02-13T20:38:23.291Z"
   },
   {
    "duration": 26,
    "start_time": "2022-02-13T20:38:23.301Z"
   },
   {
    "duration": 64,
    "start_time": "2022-02-13T20:38:23.330Z"
   },
   {
    "duration": 20,
    "start_time": "2022-02-13T20:38:23.396Z"
   },
   {
    "duration": 16,
    "start_time": "2022-02-13T20:38:23.418Z"
   },
   {
    "duration": 43,
    "start_time": "2022-02-13T20:38:23.436Z"
   },
   {
    "duration": 32,
    "start_time": "2022-02-13T20:38:23.481Z"
   },
   {
    "duration": 7,
    "start_time": "2022-02-13T20:38:23.515Z"
   },
   {
    "duration": 11,
    "start_time": "2022-02-13T20:38:23.524Z"
   },
   {
    "duration": 7,
    "start_time": "2022-02-13T20:38:23.536Z"
   },
   {
    "duration": 26,
    "start_time": "2022-02-13T20:38:23.545Z"
   },
   {
    "duration": 83,
    "start_time": "2022-02-13T20:38:23.572Z"
   },
   {
    "duration": 8,
    "start_time": "2022-02-13T20:38:23.657Z"
   },
   {
    "duration": 18,
    "start_time": "2022-02-13T20:38:23.667Z"
   },
   {
    "duration": 39,
    "start_time": "2022-02-13T20:38:23.686Z"
   },
   {
    "duration": 30,
    "start_time": "2022-02-13T20:38:23.727Z"
   },
   {
    "duration": 12,
    "start_time": "2022-02-13T20:38:23.759Z"
   },
   {
    "duration": 59,
    "start_time": "2022-02-13T20:38:23.776Z"
   },
   {
    "duration": 6,
    "start_time": "2022-02-13T20:38:23.838Z"
   },
   {
    "duration": 11,
    "start_time": "2022-02-13T20:38:23.846Z"
   },
   {
    "duration": 54,
    "start_time": "2022-02-13T20:38:23.859Z"
   },
   {
    "duration": 4,
    "start_time": "2022-02-13T20:38:23.915Z"
   },
   {
    "duration": 46,
    "start_time": "2022-02-13T20:38:23.921Z"
   },
   {
    "duration": 7,
    "start_time": "2022-02-13T20:38:23.969Z"
   },
   {
    "duration": 69,
    "start_time": "2022-02-13T20:38:23.978Z"
   },
   {
    "duration": 6,
    "start_time": "2022-02-13T20:38:24.049Z"
   },
   {
    "duration": 566,
    "start_time": "2022-02-13T20:38:24.057Z"
   },
   {
    "duration": 21,
    "start_time": "2022-02-13T20:38:24.624Z"
   },
   {
    "duration": 41,
    "start_time": "2022-02-13T20:38:24.647Z"
   },
   {
    "duration": 5,
    "start_time": "2022-02-13T20:38:24.689Z"
   },
   {
    "duration": 29,
    "start_time": "2022-02-13T20:38:24.696Z"
   },
   {
    "duration": 36,
    "start_time": "2022-02-13T20:38:24.726Z"
   },
   {
    "duration": 13,
    "start_time": "2022-02-13T20:38:24.764Z"
   },
   {
    "duration": 5,
    "start_time": "2022-02-13T20:38:24.779Z"
   },
   {
    "duration": 17,
    "start_time": "2022-02-13T20:38:24.786Z"
   },
   {
    "duration": 24,
    "start_time": "2022-02-13T20:38:24.805Z"
   },
   {
    "duration": 8,
    "start_time": "2022-02-13T20:38:24.830Z"
   },
   {
    "duration": 3,
    "start_time": "2022-02-13T20:38:24.839Z"
   },
   {
    "duration": 17,
    "start_time": "2022-02-13T20:38:24.843Z"
   },
   {
    "duration": 22,
    "start_time": "2022-02-13T20:38:24.861Z"
   },
   {
    "duration": 7,
    "start_time": "2022-02-13T20:38:24.885Z"
   },
   {
    "duration": 23,
    "start_time": "2022-02-13T20:38:24.893Z"
   },
   {
    "duration": 21,
    "start_time": "2022-02-13T20:38:24.917Z"
   },
   {
    "duration": 8,
    "start_time": "2022-02-13T20:38:24.940Z"
   },
   {
    "duration": 17,
    "start_time": "2022-02-13T20:38:24.949Z"
   },
   {
    "duration": 8,
    "start_time": "2022-02-13T20:38:24.967Z"
   },
   {
    "duration": 9120,
    "start_time": "2022-02-13T20:38:24.977Z"
   },
   {
    "duration": 1043,
    "start_time": "2022-02-13T20:39:44.677Z"
   },
   {
    "duration": 346,
    "start_time": "2022-02-13T20:39:45.722Z"
   },
   {
    "duration": 10,
    "start_time": "2022-02-13T20:39:46.070Z"
   },
   {
    "duration": 23,
    "start_time": "2022-02-13T20:39:46.082Z"
   },
   {
    "duration": 87,
    "start_time": "2022-02-13T20:39:46.107Z"
   },
   {
    "duration": 16,
    "start_time": "2022-02-13T20:39:46.196Z"
   },
   {
    "duration": 16,
    "start_time": "2022-02-13T20:39:46.214Z"
   },
   {
    "duration": 58,
    "start_time": "2022-02-13T20:39:46.233Z"
   },
   {
    "duration": 24,
    "start_time": "2022-02-13T20:39:46.293Z"
   },
   {
    "duration": 15,
    "start_time": "2022-02-13T20:39:46.318Z"
   },
   {
    "duration": 40,
    "start_time": "2022-02-13T20:39:46.335Z"
   },
   {
    "duration": 7,
    "start_time": "2022-02-13T20:39:46.377Z"
   },
   {
    "duration": 6,
    "start_time": "2022-02-13T20:39:46.412Z"
   },
   {
    "duration": 11,
    "start_time": "2022-02-13T20:39:46.420Z"
   },
   {
    "duration": 6,
    "start_time": "2022-02-13T20:39:46.433Z"
   },
   {
    "duration": 23,
    "start_time": "2022-02-13T20:39:46.441Z"
   },
   {
    "duration": 67,
    "start_time": "2022-02-13T20:39:46.465Z"
   },
   {
    "duration": 8,
    "start_time": "2022-02-13T20:39:46.533Z"
   },
   {
    "duration": 17,
    "start_time": "2022-02-13T20:39:46.543Z"
   },
   {
    "duration": 13,
    "start_time": "2022-02-13T20:39:46.562Z"
   },
   {
    "duration": 58,
    "start_time": "2022-02-13T20:39:46.577Z"
   },
   {
    "duration": 11,
    "start_time": "2022-02-13T20:39:46.636Z"
   },
   {
    "duration": 25,
    "start_time": "2022-02-13T20:39:46.650Z"
   },
   {
    "duration": 4,
    "start_time": "2022-02-13T20:39:46.678Z"
   },
   {
    "duration": 35,
    "start_time": "2022-02-13T20:39:46.684Z"
   },
   {
    "duration": 27,
    "start_time": "2022-02-13T20:39:46.721Z"
   },
   {
    "duration": 2,
    "start_time": "2022-02-13T20:39:46.750Z"
   },
   {
    "duration": 41,
    "start_time": "2022-02-13T20:39:46.754Z"
   },
   {
    "duration": 6,
    "start_time": "2022-02-13T20:39:46.812Z"
   },
   {
    "duration": 39,
    "start_time": "2022-02-13T20:39:46.820Z"
   },
   {
    "duration": 6,
    "start_time": "2022-02-13T20:39:46.861Z"
   },
   {
    "duration": 513,
    "start_time": "2022-02-13T20:39:46.869Z"
   },
   {
    "duration": 36,
    "start_time": "2022-02-13T20:39:47.384Z"
   },
   {
    "duration": 40,
    "start_time": "2022-02-13T20:39:47.422Z"
   },
   {
    "duration": 6,
    "start_time": "2022-02-13T20:39:47.464Z"
   },
   {
    "duration": 43,
    "start_time": "2022-02-13T20:39:47.472Z"
   },
   {
    "duration": 32,
    "start_time": "2022-02-13T20:39:47.517Z"
   },
   {
    "duration": 12,
    "start_time": "2022-02-13T20:39:47.550Z"
   },
   {
    "duration": 6,
    "start_time": "2022-02-13T20:39:47.564Z"
   },
   {
    "duration": 10,
    "start_time": "2022-02-13T20:39:47.571Z"
   },
   {
    "duration": 52,
    "start_time": "2022-02-13T20:39:47.582Z"
   },
   {
    "duration": 8,
    "start_time": "2022-02-13T20:39:47.636Z"
   },
   {
    "duration": 3,
    "start_time": "2022-02-13T20:39:47.646Z"
   },
   {
    "duration": 15,
    "start_time": "2022-02-13T20:39:47.651Z"
   },
   {
    "duration": 62,
    "start_time": "2022-02-13T20:39:47.667Z"
   },
   {
    "duration": 9,
    "start_time": "2022-02-13T20:39:47.731Z"
   },
   {
    "duration": 16,
    "start_time": "2022-02-13T20:39:47.742Z"
   },
   {
    "duration": 21,
    "start_time": "2022-02-13T20:39:47.759Z"
   },
   {
    "duration": 37,
    "start_time": "2022-02-13T20:39:47.782Z"
   },
   {
    "duration": 14,
    "start_time": "2022-02-13T20:39:47.821Z"
   },
   {
    "duration": 9,
    "start_time": "2022-02-13T20:39:47.837Z"
   },
   {
    "duration": 8291,
    "start_time": "2022-02-13T20:39:50.499Z"
   },
   {
    "duration": 17,
    "start_time": "2022-02-13T20:40:01.470Z"
   },
   {
    "duration": 8,
    "start_time": "2022-02-13T20:40:38.938Z"
   },
   {
    "duration": 5,
    "start_time": "2022-02-13T20:45:13.073Z"
   },
   {
    "duration": 8726,
    "start_time": "2022-02-13T20:45:17.634Z"
   },
   {
    "duration": 16,
    "start_time": "2022-02-13T20:45:28.167Z"
   },
   {
    "duration": 1051,
    "start_time": "2022-02-13T20:47:48.266Z"
   },
   {
    "duration": 344,
    "start_time": "2022-02-13T20:47:49.318Z"
   },
   {
    "duration": 11,
    "start_time": "2022-02-13T20:47:49.664Z"
   },
   {
    "duration": 19,
    "start_time": "2022-02-13T20:47:49.677Z"
   },
   {
    "duration": 91,
    "start_time": "2022-02-13T20:47:49.698Z"
   },
   {
    "duration": 9,
    "start_time": "2022-02-13T20:47:49.791Z"
   },
   {
    "duration": 18,
    "start_time": "2022-02-13T20:47:49.812Z"
   },
   {
    "duration": 59,
    "start_time": "2022-02-13T20:47:49.832Z"
   },
   {
    "duration": 7,
    "start_time": "2022-02-13T20:47:49.912Z"
   },
   {
    "duration": 17,
    "start_time": "2022-02-13T20:47:49.921Z"
   },
   {
    "duration": 44,
    "start_time": "2022-02-13T20:47:49.940Z"
   },
   {
    "duration": 34,
    "start_time": "2022-02-13T20:47:49.986Z"
   },
   {
    "duration": 7,
    "start_time": "2022-02-13T20:47:50.021Z"
   },
   {
    "duration": 12,
    "start_time": "2022-02-13T20:47:50.029Z"
   },
   {
    "duration": 7,
    "start_time": "2022-02-13T20:47:50.043Z"
   },
   {
    "duration": 24,
    "start_time": "2022-02-13T20:47:50.051Z"
   },
   {
    "duration": 71,
    "start_time": "2022-02-13T20:47:50.076Z"
   },
   {
    "duration": 7,
    "start_time": "2022-02-13T20:47:50.149Z"
   },
   {
    "duration": 16,
    "start_time": "2022-02-13T20:47:50.158Z"
   },
   {
    "duration": 11,
    "start_time": "2022-02-13T20:47:50.176Z"
   },
   {
    "duration": 28,
    "start_time": "2022-02-13T20:47:50.213Z"
   },
   {
    "duration": 11,
    "start_time": "2022-02-13T20:47:50.243Z"
   },
   {
    "duration": 27,
    "start_time": "2022-02-13T20:47:50.258Z"
   },
   {
    "duration": 6,
    "start_time": "2022-02-13T20:47:50.311Z"
   },
   {
    "duration": 11,
    "start_time": "2022-02-13T20:47:50.318Z"
   },
   {
    "duration": 26,
    "start_time": "2022-02-13T20:47:50.330Z"
   },
   {
    "duration": 3,
    "start_time": "2022-02-13T20:47:50.357Z"
   },
   {
    "duration": 72,
    "start_time": "2022-02-13T20:47:50.361Z"
   },
   {
    "duration": 6,
    "start_time": "2022-02-13T20:47:50.434Z"
   },
   {
    "duration": 40,
    "start_time": "2022-02-13T20:47:50.442Z"
   },
   {
    "duration": 5,
    "start_time": "2022-02-13T20:47:50.484Z"
   },
   {
    "duration": 518,
    "start_time": "2022-02-13T20:47:50.490Z"
   },
   {
    "duration": 22,
    "start_time": "2022-02-13T20:47:51.012Z"
   },
   {
    "duration": 35,
    "start_time": "2022-02-13T20:47:51.035Z"
   },
   {
    "duration": 5,
    "start_time": "2022-02-13T20:47:51.072Z"
   },
   {
    "duration": 46,
    "start_time": "2022-02-13T20:47:51.078Z"
   },
   {
    "duration": 31,
    "start_time": "2022-02-13T20:47:51.126Z"
   },
   {
    "duration": 13,
    "start_time": "2022-02-13T20:47:51.159Z"
   },
   {
    "duration": 5,
    "start_time": "2022-02-13T20:47:51.174Z"
   },
   {
    "duration": 36,
    "start_time": "2022-02-13T20:47:51.181Z"
   },
   {
    "duration": 20,
    "start_time": "2022-02-13T20:47:51.218Z"
   },
   {
    "duration": 7,
    "start_time": "2022-02-13T20:47:51.240Z"
   },
   {
    "duration": 3,
    "start_time": "2022-02-13T20:47:51.248Z"
   },
   {
    "duration": 16,
    "start_time": "2022-02-13T20:47:51.253Z"
   },
   {
    "duration": 49,
    "start_time": "2022-02-13T20:47:51.270Z"
   },
   {
    "duration": 7,
    "start_time": "2022-02-13T20:47:51.320Z"
   },
   {
    "duration": 16,
    "start_time": "2022-02-13T20:47:51.329Z"
   },
   {
    "duration": 16,
    "start_time": "2022-02-13T20:47:51.346Z"
   },
   {
    "duration": 31,
    "start_time": "2022-02-13T20:48:06.995Z"
   },
   {
    "duration": 9,
    "start_time": "2022-02-13T20:48:07.705Z"
   },
   {
    "duration": 16,
    "start_time": "2022-02-13T20:48:08.789Z"
   },
   {
    "duration": 5,
    "start_time": "2022-02-13T20:48:10.437Z"
   },
   {
    "duration": 8553,
    "start_time": "2022-02-13T20:48:10.830Z"
   },
   {
    "duration": 14,
    "start_time": "2022-02-13T20:48:19.385Z"
   },
   {
    "duration": 16,
    "start_time": "2022-02-13T20:48:19.401Z"
   },
   {
    "duration": 5,
    "start_time": "2022-02-13T20:48:23.850Z"
   },
   {
    "duration": 9029,
    "start_time": "2022-02-13T20:48:24.365Z"
   },
   {
    "duration": 21,
    "start_time": "2022-02-13T20:48:34.010Z"
   },
   {
    "duration": 1104,
    "start_time": "2022-02-14T10:00:56.870Z"
   },
   {
    "duration": 381,
    "start_time": "2022-02-14T10:00:57.976Z"
   },
   {
    "duration": 11,
    "start_time": "2022-02-14T10:00:58.359Z"
   },
   {
    "duration": 35,
    "start_time": "2022-02-14T10:00:58.372Z"
   },
   {
    "duration": 120,
    "start_time": "2022-02-14T10:00:58.408Z"
   },
   {
    "duration": 8,
    "start_time": "2022-02-14T10:00:58.530Z"
   },
   {
    "duration": 20,
    "start_time": "2022-02-14T10:00:58.540Z"
   },
   {
    "duration": 87,
    "start_time": "2022-02-14T10:00:58.563Z"
   },
   {
    "duration": 7,
    "start_time": "2022-02-14T10:00:58.652Z"
   },
   {
    "duration": 20,
    "start_time": "2022-02-14T10:00:58.661Z"
   },
   {
    "duration": 67,
    "start_time": "2022-02-14T10:00:58.682Z"
   },
   {
    "duration": 7,
    "start_time": "2022-02-14T10:00:58.751Z"
   },
   {
    "duration": 10,
    "start_time": "2022-02-14T10:00:58.760Z"
   },
   {
    "duration": 15,
    "start_time": "2022-02-14T10:00:58.771Z"
   },
   {
    "duration": 11,
    "start_time": "2022-02-14T10:00:58.787Z"
   },
   {
    "duration": 38,
    "start_time": "2022-02-14T10:00:58.800Z"
   },
   {
    "duration": 48,
    "start_time": "2022-02-14T10:00:58.840Z"
   },
   {
    "duration": 28,
    "start_time": "2022-02-14T10:00:58.890Z"
   },
   {
    "duration": 17,
    "start_time": "2022-02-14T10:00:58.920Z"
   },
   {
    "duration": 14,
    "start_time": "2022-02-14T10:00:58.938Z"
   },
   {
    "duration": 38,
    "start_time": "2022-02-14T10:00:58.953Z"
   },
   {
    "duration": 34,
    "start_time": "2022-02-14T10:00:58.993Z"
   },
   {
    "duration": 29,
    "start_time": "2022-02-14T10:00:59.031Z"
   },
   {
    "duration": 5,
    "start_time": "2022-02-14T10:00:59.063Z"
   },
   {
    "duration": 16,
    "start_time": "2022-02-14T10:00:59.069Z"
   },
   {
    "duration": 54,
    "start_time": "2022-02-14T10:00:59.087Z"
   },
   {
    "duration": 410,
    "start_time": "2022-02-14T10:01:12.414Z"
   },
   {
    "duration": 29,
    "start_time": "2022-02-14T10:01:21.884Z"
   },
   {
    "duration": 5,
    "start_time": "2022-02-14T10:02:24.274Z"
   },
   {
    "duration": 3,
    "start_time": "2022-02-14T10:03:17.525Z"
   },
   {
    "duration": 547,
    "start_time": "2022-02-14T10:03:17.530Z"
   },
   {
    "duration": 8,
    "start_time": "2022-02-14T10:03:18.079Z"
   },
   {
    "duration": 23,
    "start_time": "2022-02-14T10:03:18.088Z"
   },
   {
    "duration": 91,
    "start_time": "2022-02-14T10:03:18.112Z"
   },
   {
    "duration": 9,
    "start_time": "2022-02-14T10:03:18.204Z"
   },
   {
    "duration": 21,
    "start_time": "2022-02-14T10:03:18.215Z"
   },
   {
    "duration": 60,
    "start_time": "2022-02-14T10:03:18.238Z"
   },
   {
    "duration": 7,
    "start_time": "2022-02-14T10:03:18.299Z"
   },
   {
    "duration": 23,
    "start_time": "2022-02-14T10:03:18.307Z"
   },
   {
    "duration": 55,
    "start_time": "2022-02-14T10:03:18.332Z"
   },
   {
    "duration": 8,
    "start_time": "2022-02-14T10:03:18.388Z"
   },
   {
    "duration": 32,
    "start_time": "2022-02-14T10:03:18.397Z"
   },
   {
    "duration": 24,
    "start_time": "2022-02-14T10:03:18.432Z"
   },
   {
    "duration": 18,
    "start_time": "2022-02-14T10:03:18.457Z"
   },
   {
    "duration": 15,
    "start_time": "2022-02-14T10:03:18.477Z"
   },
   {
    "duration": 48,
    "start_time": "2022-02-14T10:03:18.494Z"
   },
   {
    "duration": 7,
    "start_time": "2022-02-14T10:03:18.544Z"
   },
   {
    "duration": 13,
    "start_time": "2022-02-14T10:03:18.554Z"
   },
   {
    "duration": 13,
    "start_time": "2022-02-14T10:03:18.568Z"
   },
   {
    "duration": 38,
    "start_time": "2022-02-14T10:03:18.583Z"
   },
   {
    "duration": 9,
    "start_time": "2022-02-14T10:03:18.623Z"
   },
   {
    "duration": 30,
    "start_time": "2022-02-14T10:03:18.633Z"
   },
   {
    "duration": 5,
    "start_time": "2022-02-14T10:03:18.665Z"
   },
   {
    "duration": 15,
    "start_time": "2022-02-14T10:03:18.672Z"
   },
   {
    "duration": 30,
    "start_time": "2022-02-14T10:03:25.663Z"
   },
   {
    "duration": 32,
    "start_time": "2022-02-14T10:03:29.505Z"
   },
   {
    "duration": 5,
    "start_time": "2022-02-14T10:04:18.967Z"
   },
   {
    "duration": 7,
    "start_time": "2022-02-14T10:04:28.231Z"
   },
   {
    "duration": 4,
    "start_time": "2022-02-14T10:04:44.224Z"
   },
   {
    "duration": 1233,
    "start_time": "2022-02-14T10:05:09.798Z"
   },
   {
    "duration": 380,
    "start_time": "2022-02-14T10:05:11.033Z"
   },
   {
    "duration": 11,
    "start_time": "2022-02-14T10:05:11.415Z"
   },
   {
    "duration": 25,
    "start_time": "2022-02-14T10:05:11.428Z"
   },
   {
    "duration": 130,
    "start_time": "2022-02-14T10:05:11.455Z"
   },
   {
    "duration": 8,
    "start_time": "2022-02-14T10:05:11.587Z"
   },
   {
    "duration": 27,
    "start_time": "2022-02-14T10:05:11.596Z"
   },
   {
    "duration": 69,
    "start_time": "2022-02-14T10:05:11.626Z"
   },
   {
    "duration": 23,
    "start_time": "2022-02-14T10:05:11.697Z"
   },
   {
    "duration": 17,
    "start_time": "2022-02-14T10:05:11.722Z"
   },
   {
    "duration": 52,
    "start_time": "2022-02-14T10:05:11.740Z"
   },
   {
    "duration": 26,
    "start_time": "2022-02-14T10:05:11.794Z"
   },
   {
    "duration": 17,
    "start_time": "2022-02-14T10:05:11.821Z"
   },
   {
    "duration": 47,
    "start_time": "2022-02-14T10:05:11.840Z"
   },
   {
    "duration": 40,
    "start_time": "2022-02-14T10:05:11.889Z"
   },
   {
    "duration": 34,
    "start_time": "2022-02-14T10:05:11.931Z"
   },
   {
    "duration": 47,
    "start_time": "2022-02-14T10:05:11.967Z"
   },
   {
    "duration": 9,
    "start_time": "2022-02-14T10:05:12.015Z"
   },
   {
    "duration": 23,
    "start_time": "2022-02-14T10:05:12.025Z"
   },
   {
    "duration": 14,
    "start_time": "2022-02-14T10:05:12.049Z"
   },
   {
    "duration": 34,
    "start_time": "2022-02-14T10:05:12.065Z"
   },
   {
    "duration": 11,
    "start_time": "2022-02-14T10:05:12.118Z"
   },
   {
    "duration": 27,
    "start_time": "2022-02-14T10:05:12.132Z"
   },
   {
    "duration": 5,
    "start_time": "2022-02-14T10:05:12.160Z"
   },
   {
    "duration": 20,
    "start_time": "2022-02-14T10:05:12.167Z"
   },
   {
    "duration": 52,
    "start_time": "2022-02-14T10:05:12.188Z"
   },
   {
    "duration": 32,
    "start_time": "2022-02-14T10:05:14.436Z"
   },
   {
    "duration": 36,
    "start_time": "2022-02-14T10:05:15.292Z"
   },
   {
    "duration": 23,
    "start_time": "2022-02-14T10:08:01.655Z"
   },
   {
    "duration": 339,
    "start_time": "2022-02-14T10:09:11.720Z"
   },
   {
    "duration": 3,
    "start_time": "2022-02-14T10:10:44.378Z"
   },
   {
    "duration": 381,
    "start_time": "2022-02-14T10:10:44.383Z"
   },
   {
    "duration": 8,
    "start_time": "2022-02-14T10:10:44.767Z"
   },
   {
    "duration": 24,
    "start_time": "2022-02-14T10:10:44.777Z"
   },
   {
    "duration": 92,
    "start_time": "2022-02-14T10:10:44.802Z"
   },
   {
    "duration": 8,
    "start_time": "2022-02-14T10:10:44.896Z"
   },
   {
    "duration": 28,
    "start_time": "2022-02-14T10:10:44.905Z"
   },
   {
    "duration": 55,
    "start_time": "2022-02-14T10:10:44.935Z"
   },
   {
    "duration": 8,
    "start_time": "2022-02-14T10:10:44.993Z"
   },
   {
    "duration": 17,
    "start_time": "2022-02-14T10:10:45.020Z"
   },
   {
    "duration": 47,
    "start_time": "2022-02-14T10:10:45.039Z"
   },
   {
    "duration": 7,
    "start_time": "2022-02-14T10:10:45.088Z"
   },
   {
    "duration": 7,
    "start_time": "2022-02-14T10:10:45.119Z"
   },
   {
    "duration": 18,
    "start_time": "2022-02-14T10:10:45.128Z"
   },
   {
    "duration": 11,
    "start_time": "2022-02-14T10:10:45.147Z"
   },
   {
    "duration": 31,
    "start_time": "2022-02-14T10:10:45.159Z"
   },
   {
    "duration": 61,
    "start_time": "2022-02-14T10:10:45.192Z"
   },
   {
    "duration": 9,
    "start_time": "2022-02-14T10:10:45.255Z"
   },
   {
    "duration": 19,
    "start_time": "2022-02-14T10:10:45.266Z"
   },
   {
    "duration": 43,
    "start_time": "2022-02-14T10:10:45.287Z"
   },
   {
    "duration": 32,
    "start_time": "2022-02-14T10:10:45.332Z"
   },
   {
    "duration": 12,
    "start_time": "2022-02-14T10:10:45.366Z"
   },
   {
    "duration": 53,
    "start_time": "2022-02-14T10:10:45.379Z"
   },
   {
    "duration": 6,
    "start_time": "2022-02-14T10:10:45.433Z"
   },
   {
    "duration": 12,
    "start_time": "2022-02-14T10:10:45.441Z"
   },
   {
    "duration": 38,
    "start_time": "2022-02-14T10:10:45.454Z"
   },
   {
    "duration": 49,
    "start_time": "2022-02-14T10:10:45.496Z"
   },
   {
    "duration": 20,
    "start_time": "2022-02-14T10:10:45.547Z"
   },
   {
    "duration": 290,
    "start_time": "2022-02-14T10:10:50.102Z"
   },
   {
    "duration": 3,
    "start_time": "2022-02-14T10:11:50.709Z"
   },
   {
    "duration": 394,
    "start_time": "2022-02-14T10:11:50.714Z"
   },
   {
    "duration": 8,
    "start_time": "2022-02-14T10:11:51.110Z"
   },
   {
    "duration": 24,
    "start_time": "2022-02-14T10:11:51.120Z"
   },
   {
    "duration": 101,
    "start_time": "2022-02-14T10:11:51.146Z"
   },
   {
    "duration": 9,
    "start_time": "2022-02-14T10:11:51.249Z"
   },
   {
    "duration": 21,
    "start_time": "2022-02-14T10:11:51.260Z"
   },
   {
    "duration": 73,
    "start_time": "2022-02-14T10:11:51.283Z"
   },
   {
    "duration": 7,
    "start_time": "2022-02-14T10:11:51.360Z"
   },
   {
    "duration": 27,
    "start_time": "2022-02-14T10:11:51.369Z"
   },
   {
    "duration": 52,
    "start_time": "2022-02-14T10:11:51.398Z"
   },
   {
    "duration": 8,
    "start_time": "2022-02-14T10:11:51.452Z"
   },
   {
    "duration": 25,
    "start_time": "2022-02-14T10:11:51.462Z"
   },
   {
    "duration": 32,
    "start_time": "2022-02-14T10:11:51.489Z"
   },
   {
    "duration": 17,
    "start_time": "2022-02-14T10:11:51.522Z"
   },
   {
    "duration": 21,
    "start_time": "2022-02-14T10:11:51.540Z"
   },
   {
    "duration": 45,
    "start_time": "2022-02-14T10:11:51.563Z"
   },
   {
    "duration": 7,
    "start_time": "2022-02-14T10:11:51.619Z"
   },
   {
    "duration": 39,
    "start_time": "2022-02-14T10:11:51.628Z"
   },
   {
    "duration": 18,
    "start_time": "2022-02-14T10:11:51.669Z"
   },
   {
    "duration": 35,
    "start_time": "2022-02-14T10:11:51.689Z"
   },
   {
    "duration": 10,
    "start_time": "2022-02-14T10:11:51.725Z"
   },
   {
    "duration": 36,
    "start_time": "2022-02-14T10:11:51.736Z"
   },
   {
    "duration": 5,
    "start_time": "2022-02-14T10:11:51.774Z"
   },
   {
    "duration": 11,
    "start_time": "2022-02-14T10:11:51.781Z"
   },
   {
    "duration": 51,
    "start_time": "2022-02-14T10:11:51.794Z"
   },
   {
    "duration": 32,
    "start_time": "2022-02-14T10:11:51.848Z"
   },
   {
    "duration": 46,
    "start_time": "2022-02-14T10:11:51.882Z"
   },
   {
    "duration": 23,
    "start_time": "2022-02-14T10:11:56.061Z"
   },
   {
    "duration": 22,
    "start_time": "2022-02-14T10:12:08.904Z"
   },
   {
    "duration": 3,
    "start_time": "2022-02-14T10:12:13.972Z"
   },
   {
    "duration": 369,
    "start_time": "2022-02-14T10:12:13.977Z"
   },
   {
    "duration": 8,
    "start_time": "2022-02-14T10:12:14.348Z"
   },
   {
    "duration": 24,
    "start_time": "2022-02-14T10:12:14.358Z"
   },
   {
    "duration": 82,
    "start_time": "2022-02-14T10:12:14.383Z"
   },
   {
    "duration": 8,
    "start_time": "2022-02-14T10:12:14.467Z"
   },
   {
    "duration": 26,
    "start_time": "2022-02-14T10:12:14.476Z"
   },
   {
    "duration": 61,
    "start_time": "2022-02-14T10:12:14.504Z"
   },
   {
    "duration": 9,
    "start_time": "2022-02-14T10:12:14.567Z"
   },
   {
    "duration": 28,
    "start_time": "2022-02-14T10:12:14.578Z"
   },
   {
    "duration": 56,
    "start_time": "2022-02-14T10:12:14.607Z"
   },
   {
    "duration": 8,
    "start_time": "2022-02-14T10:12:14.665Z"
   },
   {
    "duration": 22,
    "start_time": "2022-02-14T10:12:14.674Z"
   },
   {
    "duration": 32,
    "start_time": "2022-02-14T10:12:14.698Z"
   },
   {
    "duration": 14,
    "start_time": "2022-02-14T10:12:14.732Z"
   },
   {
    "duration": 24,
    "start_time": "2022-02-14T10:12:14.748Z"
   },
   {
    "duration": 44,
    "start_time": "2022-02-14T10:12:14.774Z"
   },
   {
    "duration": 8,
    "start_time": "2022-02-14T10:12:14.820Z"
   },
   {
    "duration": 19,
    "start_time": "2022-02-14T10:12:14.829Z"
   },
   {
    "duration": 14,
    "start_time": "2022-02-14T10:12:14.850Z"
   },
   {
    "duration": 35,
    "start_time": "2022-02-14T10:12:14.865Z"
   },
   {
    "duration": 9,
    "start_time": "2022-02-14T10:12:14.919Z"
   },
   {
    "duration": 30,
    "start_time": "2022-02-14T10:12:14.930Z"
   },
   {
    "duration": 6,
    "start_time": "2022-02-14T10:12:14.962Z"
   },
   {
    "duration": 14,
    "start_time": "2022-02-14T10:12:14.969Z"
   },
   {
    "duration": 56,
    "start_time": "2022-02-14T10:12:14.984Z"
   },
   {
    "duration": 30,
    "start_time": "2022-02-14T10:12:15.043Z"
   },
   {
    "duration": 20,
    "start_time": "2022-02-14T10:12:15.075Z"
   },
   {
    "duration": 21,
    "start_time": "2022-02-14T10:12:17.243Z"
   },
   {
    "duration": 26,
    "start_time": "2022-02-14T10:13:04.315Z"
   },
   {
    "duration": 21,
    "start_time": "2022-02-14T10:14:20.867Z"
   },
   {
    "duration": 13,
    "start_time": "2022-02-14T10:15:59.716Z"
   },
   {
    "duration": 4,
    "start_time": "2022-02-14T10:17:10.077Z"
   },
   {
    "duration": 4,
    "start_time": "2022-02-14T10:17:26.344Z"
   },
   {
    "duration": 10,
    "start_time": "2022-02-14T10:40:47.402Z"
   },
   {
    "duration": 9,
    "start_time": "2022-02-14T10:40:53.802Z"
   },
   {
    "duration": 11,
    "start_time": "2022-02-14T10:51:31.830Z"
   },
   {
    "duration": 9,
    "start_time": "2022-02-14T11:21:24.435Z"
   },
   {
    "duration": 5,
    "start_time": "2022-02-14T11:26:38.754Z"
   },
   {
    "duration": 5,
    "start_time": "2022-02-14T11:27:35.904Z"
   },
   {
    "duration": 5,
    "start_time": "2022-02-14T11:28:25.497Z"
   },
   {
    "duration": 8,
    "start_time": "2022-02-14T12:01:03.112Z"
   },
   {
    "duration": 2,
    "start_time": "2022-02-14T12:51:23.414Z"
   },
   {
    "duration": 389,
    "start_time": "2022-02-14T12:51:23.418Z"
   },
   {
    "duration": 8,
    "start_time": "2022-02-14T12:51:23.809Z"
   },
   {
    "duration": 25,
    "start_time": "2022-02-14T12:51:23.819Z"
   },
   {
    "duration": 90,
    "start_time": "2022-02-14T12:51:23.845Z"
   },
   {
    "duration": 9,
    "start_time": "2022-02-14T12:51:23.937Z"
   },
   {
    "duration": 19,
    "start_time": "2022-02-14T12:51:23.948Z"
   },
   {
    "duration": 67,
    "start_time": "2022-02-14T12:51:23.969Z"
   },
   {
    "duration": 8,
    "start_time": "2022-02-14T12:51:24.037Z"
   },
   {
    "duration": 22,
    "start_time": "2022-02-14T12:51:24.046Z"
   },
   {
    "duration": 64,
    "start_time": "2022-02-14T12:51:24.069Z"
   },
   {
    "duration": 8,
    "start_time": "2022-02-14T12:51:24.135Z"
   },
   {
    "duration": 28,
    "start_time": "2022-02-14T12:51:24.144Z"
   },
   {
    "duration": 21,
    "start_time": "2022-02-14T12:51:24.174Z"
   },
   {
    "duration": 31,
    "start_time": "2022-02-14T12:51:24.197Z"
   },
   {
    "duration": 26,
    "start_time": "2022-02-14T12:51:24.229Z"
   },
   {
    "duration": 62,
    "start_time": "2022-02-14T12:51:24.257Z"
   },
   {
    "duration": 7,
    "start_time": "2022-02-14T12:51:24.321Z"
   },
   {
    "duration": 24,
    "start_time": "2022-02-14T12:51:24.331Z"
   },
   {
    "duration": 30,
    "start_time": "2022-02-14T12:51:24.357Z"
   },
   {
    "duration": 35,
    "start_time": "2022-02-14T12:51:24.389Z"
   },
   {
    "duration": 11,
    "start_time": "2022-02-14T12:51:24.426Z"
   },
   {
    "duration": 32,
    "start_time": "2022-02-14T12:51:24.439Z"
   },
   {
    "duration": 6,
    "start_time": "2022-02-14T12:51:24.473Z"
   },
   {
    "duration": 37,
    "start_time": "2022-02-14T12:51:24.481Z"
   },
   {
    "duration": 30,
    "start_time": "2022-02-14T12:51:24.520Z"
   },
   {
    "duration": 32,
    "start_time": "2022-02-14T12:51:24.552Z"
   },
   {
    "duration": 32,
    "start_time": "2022-02-14T12:51:24.586Z"
   },
   {
    "duration": 22,
    "start_time": "2022-02-14T12:51:24.620Z"
   },
   {
    "duration": 19,
    "start_time": "2022-02-14T12:51:24.644Z"
   },
   {
    "duration": 4,
    "start_time": "2022-02-14T12:51:24.665Z"
   },
   {
    "duration": 49,
    "start_time": "2022-02-14T12:51:24.671Z"
   },
   {
    "duration": 19,
    "start_time": "2022-02-14T12:51:24.722Z"
   },
   {
    "duration": 8,
    "start_time": "2022-02-14T12:51:24.743Z"
   },
   {
    "duration": 17,
    "start_time": "2022-02-14T12:51:24.752Z"
   },
   {
    "duration": 19,
    "start_time": "2022-02-14T12:51:24.771Z"
   },
   {
    "duration": 22,
    "start_time": "2022-02-14T12:51:27.502Z"
   },
   {
    "duration": 21,
    "start_time": "2022-02-14T12:52:13.963Z"
   },
   {
    "duration": 21,
    "start_time": "2022-02-14T12:52:23.668Z"
   },
   {
    "duration": 24,
    "start_time": "2022-02-14T12:52:43.419Z"
   },
   {
    "duration": 4,
    "start_time": "2022-02-14T12:53:06.801Z"
   },
   {
    "duration": 5,
    "start_time": "2022-02-14T12:53:46.462Z"
   },
   {
    "duration": 10,
    "start_time": "2022-02-14T13:06:48.068Z"
   },
   {
    "duration": 28,
    "start_time": "2022-02-14T13:06:56.512Z"
   },
   {
    "duration": 33,
    "start_time": "2022-02-14T13:07:56.494Z"
   },
   {
    "duration": 1137,
    "start_time": "2022-02-14T13:08:28.028Z"
   },
   {
    "duration": 384,
    "start_time": "2022-02-14T13:08:29.167Z"
   },
   {
    "duration": 12,
    "start_time": "2022-02-14T13:08:29.553Z"
   },
   {
    "duration": 24,
    "start_time": "2022-02-14T13:08:29.567Z"
   },
   {
    "duration": 105,
    "start_time": "2022-02-14T13:08:29.593Z"
   },
   {
    "duration": 8,
    "start_time": "2022-02-14T13:08:29.699Z"
   },
   {
    "duration": 33,
    "start_time": "2022-02-14T13:08:29.709Z"
   },
   {
    "duration": 67,
    "start_time": "2022-02-14T13:08:29.745Z"
   },
   {
    "duration": 7,
    "start_time": "2022-02-14T13:08:29.818Z"
   },
   {
    "duration": 16,
    "start_time": "2022-02-14T13:08:29.827Z"
   },
   {
    "duration": 47,
    "start_time": "2022-02-14T13:08:29.845Z"
   },
   {
    "duration": 6,
    "start_time": "2022-02-14T13:08:29.894Z"
   },
   {
    "duration": 21,
    "start_time": "2022-02-14T13:08:29.902Z"
   },
   {
    "duration": 11,
    "start_time": "2022-02-14T13:08:29.925Z"
   },
   {
    "duration": 8,
    "start_time": "2022-02-14T13:08:29.938Z"
   },
   {
    "duration": 26,
    "start_time": "2022-02-14T13:08:29.948Z"
   },
   {
    "duration": 73,
    "start_time": "2022-02-14T13:08:29.975Z"
   },
   {
    "duration": 9,
    "start_time": "2022-02-14T13:08:30.049Z"
   },
   {
    "duration": 27,
    "start_time": "2022-02-14T13:08:30.060Z"
   },
   {
    "duration": 30,
    "start_time": "2022-02-14T13:08:30.088Z"
   },
   {
    "duration": 32,
    "start_time": "2022-02-14T13:08:30.120Z"
   },
   {
    "duration": 10,
    "start_time": "2022-02-14T13:08:30.154Z"
   },
   {
    "duration": 51,
    "start_time": "2022-02-14T13:08:30.167Z"
   },
   {
    "duration": 6,
    "start_time": "2022-02-14T13:08:30.220Z"
   },
   {
    "duration": 45,
    "start_time": "2022-02-14T13:08:30.229Z"
   },
   {
    "duration": 36,
    "start_time": "2022-02-14T13:08:30.276Z"
   },
   {
    "duration": 37,
    "start_time": "2022-02-14T13:08:30.314Z"
   },
   {
    "duration": 5,
    "start_time": "2022-02-14T13:08:30.354Z"
   },
   {
    "duration": 32,
    "start_time": "2022-02-14T13:08:30.361Z"
   },
   {
    "duration": 41,
    "start_time": "2022-02-14T13:08:30.395Z"
   },
   {
    "duration": 5,
    "start_time": "2022-02-14T13:08:30.439Z"
   },
   {
    "duration": 35,
    "start_time": "2022-02-14T13:08:30.446Z"
   },
   {
    "duration": 43,
    "start_time": "2022-02-14T13:08:30.483Z"
   },
   {
    "duration": 12,
    "start_time": "2022-02-14T13:08:30.528Z"
   },
   {
    "duration": 26,
    "start_time": "2022-02-14T13:08:30.542Z"
   },
   {
    "duration": 27,
    "start_time": "2022-02-14T13:08:30.570Z"
   },
   {
    "duration": 21,
    "start_time": "2022-02-14T13:08:30.599Z"
   },
   {
    "duration": 5,
    "start_time": "2022-02-14T13:09:41.010Z"
   },
   {
    "duration": 11,
    "start_time": "2022-02-14T13:10:15.329Z"
   },
   {
    "duration": 1246,
    "start_time": "2022-02-14T13:59:32.519Z"
   },
   {
    "duration": 369,
    "start_time": "2022-02-14T13:59:33.767Z"
   },
   {
    "duration": 11,
    "start_time": "2022-02-14T13:59:34.138Z"
   },
   {
    "duration": 24,
    "start_time": "2022-02-14T13:59:34.334Z"
   },
   {
    "duration": 116,
    "start_time": "2022-02-14T13:59:35.017Z"
   },
   {
    "duration": 9,
    "start_time": "2022-02-14T13:59:36.187Z"
   },
   {
    "duration": 18,
    "start_time": "2022-02-14T13:59:37.073Z"
   },
   {
    "duration": 73,
    "start_time": "2022-02-14T13:59:37.725Z"
   },
   {
    "duration": 8,
    "start_time": "2022-02-14T13:59:38.705Z"
   },
   {
    "duration": 16,
    "start_time": "2022-02-14T13:59:40.033Z"
   },
   {
    "duration": 49,
    "start_time": "2022-02-14T13:59:40.699Z"
   },
   {
    "duration": 8,
    "start_time": "2022-02-14T13:59:41.636Z"
   },
   {
    "duration": 7,
    "start_time": "2022-02-14T13:59:42.090Z"
   },
   {
    "duration": 12,
    "start_time": "2022-02-14T13:59:44.742Z"
   },
   {
    "duration": 7,
    "start_time": "2022-02-14T13:59:45.175Z"
   },
   {
    "duration": 26,
    "start_time": "2022-02-14T14:00:17.232Z"
   },
   {
    "duration": 50,
    "start_time": "2022-02-14T14:00:17.474Z"
   },
   {
    "duration": 8,
    "start_time": "2022-02-14T14:00:17.761Z"
   },
   {
    "duration": 18,
    "start_time": "2022-02-14T14:00:24.111Z"
   },
   {
    "duration": 16,
    "start_time": "2022-02-14T14:00:24.408Z"
   },
   {
    "duration": 32,
    "start_time": "2022-02-14T14:00:24.670Z"
   },
   {
    "duration": 13,
    "start_time": "2022-02-14T14:00:25.227Z"
   },
   {
    "duration": 32,
    "start_time": "2022-02-14T14:00:25.537Z"
   },
   {
    "duration": 7,
    "start_time": "2022-02-14T14:00:26.416Z"
   },
   {
    "duration": 11,
    "start_time": "2022-02-14T14:00:26.902Z"
   },
   {
    "duration": 30,
    "start_time": "2022-02-14T14:00:34.509Z"
   },
   {
    "duration": 38,
    "start_time": "2022-02-14T14:00:36.863Z"
   },
   {
    "duration": 5,
    "start_time": "2022-02-14T14:00:38.726Z"
   },
   {
    "duration": 22,
    "start_time": "2022-02-14T14:00:41.233Z"
   },
   {
    "duration": 25,
    "start_time": "2022-02-14T14:00:43.226Z"
   },
   {
    "duration": 5,
    "start_time": "2022-02-14T14:00:45.206Z"
   },
   {
    "duration": 25,
    "start_time": "2022-02-14T14:00:47.703Z"
   },
   {
    "duration": 23,
    "start_time": "2022-02-14T14:00:48.213Z"
   },
   {
    "duration": 13,
    "start_time": "2022-02-14T14:00:50.568Z"
   },
   {
    "duration": 5,
    "start_time": "2022-02-14T14:00:52.937Z"
   },
   {
    "duration": 21,
    "start_time": "2022-02-14T14:00:55.403Z"
   },
   {
    "duration": 21,
    "start_time": "2022-02-14T14:00:55.875Z"
   },
   {
    "duration": 9,
    "start_time": "2022-02-14T14:00:59.209Z"
   },
   {
    "duration": 7,
    "start_time": "2022-02-14T14:43:12.694Z"
   },
   {
    "duration": 1251,
    "start_time": "2022-02-14T14:45:40.258Z"
   },
   {
    "duration": 369,
    "start_time": "2022-02-14T14:45:41.511Z"
   },
   {
    "duration": 10,
    "start_time": "2022-02-14T14:45:41.882Z"
   },
   {
    "duration": 22,
    "start_time": "2022-02-14T14:45:41.894Z"
   },
   {
    "duration": 101,
    "start_time": "2022-02-14T14:45:41.918Z"
   },
   {
    "duration": 8,
    "start_time": "2022-02-14T14:45:42.020Z"
   },
   {
    "duration": 20,
    "start_time": "2022-02-14T14:45:42.029Z"
   },
   {
    "duration": 76,
    "start_time": "2022-02-14T14:45:42.051Z"
   },
   {
    "duration": 6,
    "start_time": "2022-02-14T14:45:42.130Z"
   },
   {
    "duration": 16,
    "start_time": "2022-02-14T14:45:42.138Z"
   },
   {
    "duration": 43,
    "start_time": "2022-02-14T14:45:42.155Z"
   },
   {
    "duration": 7,
    "start_time": "2022-02-14T14:45:42.218Z"
   },
   {
    "duration": 13,
    "start_time": "2022-02-14T14:45:42.227Z"
   },
   {
    "duration": 22,
    "start_time": "2022-02-14T14:45:42.242Z"
   },
   {
    "duration": 18,
    "start_time": "2022-02-14T14:45:42.265Z"
   },
   {
    "duration": 35,
    "start_time": "2022-02-14T14:45:42.285Z"
   },
   {
    "duration": 46,
    "start_time": "2022-02-14T14:45:42.322Z"
   },
   {
    "duration": 9,
    "start_time": "2022-02-14T14:45:42.370Z"
   },
   {
    "duration": 41,
    "start_time": "2022-02-14T14:45:42.381Z"
   },
   {
    "duration": 14,
    "start_time": "2022-02-14T14:45:42.424Z"
   },
   {
    "duration": 37,
    "start_time": "2022-02-14T14:45:42.440Z"
   },
   {
    "duration": 13,
    "start_time": "2022-02-14T14:45:42.479Z"
   },
   {
    "duration": 52,
    "start_time": "2022-02-14T14:45:42.493Z"
   },
   {
    "duration": 4,
    "start_time": "2022-02-14T14:45:42.547Z"
   },
   {
    "duration": 13,
    "start_time": "2022-02-14T14:45:42.553Z"
   },
   {
    "duration": 30,
    "start_time": "2022-02-14T14:45:42.568Z"
   },
   {
    "duration": 33,
    "start_time": "2022-02-14T14:45:42.617Z"
   },
   {
    "duration": 3,
    "start_time": "2022-02-14T14:45:42.652Z"
   },
   {
    "duration": 28,
    "start_time": "2022-02-14T14:45:42.657Z"
   },
   {
    "duration": 40,
    "start_time": "2022-02-14T14:45:42.687Z"
   },
   {
    "duration": 4,
    "start_time": "2022-02-14T14:45:42.728Z"
   },
   {
    "duration": 25,
    "start_time": "2022-02-14T14:45:42.733Z"
   },
   {
    "duration": 20,
    "start_time": "2022-02-14T14:45:42.760Z"
   },
   {
    "duration": 36,
    "start_time": "2022-02-14T14:45:42.782Z"
   },
   {
    "duration": 5,
    "start_time": "2022-02-14T14:45:42.820Z"
   },
   {
    "duration": 26,
    "start_time": "2022-02-14T14:45:42.826Z"
   },
   {
    "duration": 19,
    "start_time": "2022-02-14T14:45:42.853Z"
   },
   {
    "duration": 7,
    "start_time": "2022-02-14T14:45:42.873Z"
   },
   {
    "duration": 7555,
    "start_time": "2022-02-14T14:45:48.289Z"
   },
   {
    "duration": 7,
    "start_time": "2022-02-14T14:46:16.033Z"
   },
   {
    "duration": 7,
    "start_time": "2022-02-14T14:46:18.181Z"
   },
   {
    "duration": 10,
    "start_time": "2022-02-14T14:46:46.325Z"
   },
   {
    "duration": 6,
    "start_time": "2022-02-14T14:47:39.385Z"
   },
   {
    "duration": 14,
    "start_time": "2022-02-14T14:48:36.364Z"
   },
   {
    "duration": 3,
    "start_time": "2022-02-14T15:05:12.703Z"
   },
   {
    "duration": 398,
    "start_time": "2022-02-14T15:05:12.708Z"
   },
   {
    "duration": 9,
    "start_time": "2022-02-14T15:05:13.108Z"
   },
   {
    "duration": 34,
    "start_time": "2022-02-14T15:05:13.119Z"
   },
   {
    "duration": 104,
    "start_time": "2022-02-14T15:05:13.155Z"
   },
   {
    "duration": 9,
    "start_time": "2022-02-14T15:05:13.261Z"
   },
   {
    "duration": 22,
    "start_time": "2022-02-14T15:05:13.273Z"
   },
   {
    "duration": 72,
    "start_time": "2022-02-14T15:05:13.297Z"
   },
   {
    "duration": 8,
    "start_time": "2022-02-14T15:05:13.371Z"
   },
   {
    "duration": 24,
    "start_time": "2022-02-14T15:05:13.380Z"
   },
   {
    "duration": 52,
    "start_time": "2022-02-14T15:05:13.406Z"
   },
   {
    "duration": 8,
    "start_time": "2022-02-14T15:05:13.461Z"
   },
   {
    "duration": 18,
    "start_time": "2022-02-14T15:05:13.471Z"
   },
   {
    "duration": 27,
    "start_time": "2022-02-14T15:05:13.491Z"
   },
   {
    "duration": 11,
    "start_time": "2022-02-14T15:05:13.520Z"
   },
   {
    "duration": 27,
    "start_time": "2022-02-14T15:05:13.533Z"
   },
   {
    "duration": 58,
    "start_time": "2022-02-14T15:05:13.562Z"
   },
   {
    "duration": 8,
    "start_time": "2022-02-14T15:05:13.622Z"
   },
   {
    "duration": 29,
    "start_time": "2022-02-14T15:05:13.634Z"
   },
   {
    "duration": 19,
    "start_time": "2022-02-14T15:05:13.666Z"
   },
   {
    "duration": 76,
    "start_time": "2022-02-14T15:05:13.687Z"
   },
   {
    "duration": 12,
    "start_time": "2022-02-14T15:05:13.765Z"
   },
   {
    "duration": 41,
    "start_time": "2022-02-14T15:05:13.779Z"
   },
   {
    "duration": 5,
    "start_time": "2022-02-14T15:05:13.822Z"
   },
   {
    "duration": 21,
    "start_time": "2022-02-14T15:05:13.829Z"
   },
   {
    "duration": 45,
    "start_time": "2022-02-14T15:05:13.852Z"
   },
   {
    "duration": 34,
    "start_time": "2022-02-14T15:05:13.899Z"
   },
   {
    "duration": 4,
    "start_time": "2022-02-14T15:05:13.935Z"
   },
   {
    "duration": 24,
    "start_time": "2022-02-14T15:05:13.941Z"
   },
   {
    "duration": 22,
    "start_time": "2022-02-14T15:05:13.966Z"
   },
   {
    "duration": 29,
    "start_time": "2022-02-14T15:05:13.990Z"
   },
   {
    "duration": 25,
    "start_time": "2022-02-14T15:05:14.021Z"
   },
   {
    "duration": 25,
    "start_time": "2022-02-14T15:05:14.047Z"
   },
   {
    "duration": 7,
    "start_time": "2022-02-14T15:05:14.074Z"
   },
   {
    "duration": 9,
    "start_time": "2022-02-14T15:05:14.083Z"
   },
   {
    "duration": 43,
    "start_time": "2022-02-14T15:05:14.094Z"
   },
   {
    "duration": 21,
    "start_time": "2022-02-14T15:05:14.139Z"
   },
   {
    "duration": 9,
    "start_time": "2022-02-14T15:05:14.161Z"
   },
   {
    "duration": 13,
    "start_time": "2022-02-14T15:05:14.172Z"
   },
   {
    "duration": 108,
    "start_time": "2022-02-14T15:05:29.004Z"
   },
   {
    "duration": 248,
    "start_time": "2022-02-14T15:05:43.101Z"
   },
   {
    "duration": 9,
    "start_time": "2022-02-14T15:08:34.388Z"
   },
   {
    "duration": 15,
    "start_time": "2022-02-14T15:08:58.141Z"
   },
   {
    "duration": 1200,
    "start_time": "2022-02-14T15:13:50.666Z"
   },
   {
    "duration": 387,
    "start_time": "2022-02-14T15:13:51.869Z"
   },
   {
    "duration": 10,
    "start_time": "2022-02-14T15:13:52.258Z"
   },
   {
    "duration": 24,
    "start_time": "2022-02-14T15:13:52.270Z"
   },
   {
    "duration": 105,
    "start_time": "2022-02-14T15:13:52.295Z"
   },
   {
    "duration": 15,
    "start_time": "2022-02-14T15:13:52.403Z"
   },
   {
    "duration": 19,
    "start_time": "2022-02-14T15:13:52.420Z"
   },
   {
    "duration": 86,
    "start_time": "2022-02-14T15:13:52.442Z"
   },
   {
    "duration": 7,
    "start_time": "2022-02-14T15:13:52.531Z"
   },
   {
    "duration": 22,
    "start_time": "2022-02-14T15:13:52.540Z"
   },
   {
    "duration": 62,
    "start_time": "2022-02-14T15:13:52.565Z"
   },
   {
    "duration": 8,
    "start_time": "2022-02-14T15:13:52.629Z"
   },
   {
    "duration": 28,
    "start_time": "2022-02-14T15:13:52.638Z"
   },
   {
    "duration": 18,
    "start_time": "2022-02-14T15:13:52.668Z"
   },
   {
    "duration": 19,
    "start_time": "2022-02-14T15:13:52.688Z"
   },
   {
    "duration": 29,
    "start_time": "2022-02-14T15:13:52.708Z"
   },
   {
    "duration": 46,
    "start_time": "2022-02-14T15:13:52.738Z"
   },
   {
    "duration": 8,
    "start_time": "2022-02-14T15:13:52.786Z"
   },
   {
    "duration": 28,
    "start_time": "2022-02-14T15:13:52.796Z"
   },
   {
    "duration": 13,
    "start_time": "2022-02-14T15:13:52.826Z"
   },
   {
    "duration": 44,
    "start_time": "2022-02-14T15:13:52.841Z"
   },
   {
    "duration": 11,
    "start_time": "2022-02-14T15:13:52.887Z"
   },
   {
    "duration": 44,
    "start_time": "2022-02-14T15:13:52.900Z"
   },
   {
    "duration": 5,
    "start_time": "2022-02-14T15:13:52.946Z"
   },
   {
    "duration": 15,
    "start_time": "2022-02-14T15:13:52.952Z"
   },
   {
    "duration": 54,
    "start_time": "2022-02-14T15:13:52.971Z"
   },
   {
    "duration": 37,
    "start_time": "2022-02-14T15:13:53.027Z"
   },
   {
    "duration": 5,
    "start_time": "2022-02-14T15:13:53.066Z"
   },
   {
    "duration": 24,
    "start_time": "2022-02-14T15:13:53.072Z"
   },
   {
    "duration": 24,
    "start_time": "2022-02-14T15:13:53.119Z"
   },
   {
    "duration": 5,
    "start_time": "2022-02-14T15:13:53.145Z"
   },
   {
    "duration": 30,
    "start_time": "2022-02-14T15:13:53.152Z"
   },
   {
    "duration": 47,
    "start_time": "2022-02-14T15:13:53.184Z"
   },
   {
    "duration": 12,
    "start_time": "2022-02-14T15:13:53.233Z"
   },
   {
    "duration": 5,
    "start_time": "2022-02-14T15:13:53.247Z"
   },
   {
    "duration": 29,
    "start_time": "2022-02-14T15:13:53.254Z"
   },
   {
    "duration": 42,
    "start_time": "2022-02-14T15:13:53.284Z"
   },
   {
    "duration": 11,
    "start_time": "2022-02-14T15:13:53.327Z"
   },
   {
    "duration": 19,
    "start_time": "2022-02-14T15:13:53.340Z"
   },
   {
    "duration": 14,
    "start_time": "2022-02-14T15:13:53.361Z"
   },
   {
    "duration": 8,
    "start_time": "2022-02-14T15:14:01.584Z"
   },
   {
    "duration": 9,
    "start_time": "2022-02-14T15:14:03.966Z"
   },
   {
    "duration": 1265,
    "start_time": "2022-02-14T15:14:40.779Z"
   },
   {
    "duration": 396,
    "start_time": "2022-02-14T15:14:42.046Z"
   },
   {
    "duration": 12,
    "start_time": "2022-02-14T15:14:42.445Z"
   },
   {
    "duration": 22,
    "start_time": "2022-02-14T15:14:42.459Z"
   },
   {
    "duration": 112,
    "start_time": "2022-02-14T15:14:42.483Z"
   },
   {
    "duration": 8,
    "start_time": "2022-02-14T15:14:42.597Z"
   },
   {
    "duration": 18,
    "start_time": "2022-02-14T15:14:42.618Z"
   },
   {
    "duration": 87,
    "start_time": "2022-02-14T15:14:42.639Z"
   },
   {
    "duration": 9,
    "start_time": "2022-02-14T15:14:42.728Z"
   },
   {
    "duration": 17,
    "start_time": "2022-02-14T15:14:42.738Z"
   },
   {
    "duration": 71,
    "start_time": "2022-02-14T15:14:42.757Z"
   },
   {
    "duration": 9,
    "start_time": "2022-02-14T15:14:42.830Z"
   },
   {
    "duration": 9,
    "start_time": "2022-02-14T15:14:42.841Z"
   },
   {
    "duration": 12,
    "start_time": "2022-02-14T15:14:42.851Z"
   },
   {
    "duration": 9,
    "start_time": "2022-02-14T15:14:42.865Z"
   },
   {
    "duration": 53,
    "start_time": "2022-02-14T15:14:42.876Z"
   },
   {
    "duration": 49,
    "start_time": "2022-02-14T15:14:42.931Z"
   },
   {
    "duration": 7,
    "start_time": "2022-02-14T15:14:42.982Z"
   },
   {
    "duration": 38,
    "start_time": "2022-02-14T15:14:42.991Z"
   },
   {
    "duration": 15,
    "start_time": "2022-02-14T15:14:43.031Z"
   },
   {
    "duration": 36,
    "start_time": "2022-02-14T15:14:43.047Z"
   },
   {
    "duration": 35,
    "start_time": "2022-02-14T15:14:43.085Z"
   },
   {
    "duration": 29,
    "start_time": "2022-02-14T15:14:43.124Z"
   },
   {
    "duration": 5,
    "start_time": "2022-02-14T15:14:43.156Z"
   },
   {
    "duration": 13,
    "start_time": "2022-02-14T15:14:43.162Z"
   },
   {
    "duration": 62,
    "start_time": "2022-02-14T15:14:43.177Z"
   },
   {
    "duration": 38,
    "start_time": "2022-02-14T15:14:43.240Z"
   },
   {
    "duration": 4,
    "start_time": "2022-02-14T15:14:43.280Z"
   },
   {
    "duration": 45,
    "start_time": "2022-02-14T15:14:43.286Z"
   },
   {
    "duration": 26,
    "start_time": "2022-02-14T15:14:43.333Z"
   },
   {
    "duration": 4,
    "start_time": "2022-02-14T15:14:43.361Z"
   },
   {
    "duration": 30,
    "start_time": "2022-02-14T15:14:43.367Z"
   },
   {
    "duration": 22,
    "start_time": "2022-02-14T15:14:43.419Z"
   },
   {
    "duration": 13,
    "start_time": "2022-02-14T15:14:43.443Z"
   },
   {
    "duration": 5,
    "start_time": "2022-02-14T15:14:43.458Z"
   },
   {
    "duration": 29,
    "start_time": "2022-02-14T15:14:43.464Z"
   },
   {
    "duration": 43,
    "start_time": "2022-02-14T15:14:43.495Z"
   },
   {
    "duration": 8,
    "start_time": "2022-02-14T15:14:43.540Z"
   },
   {
    "duration": 12,
    "start_time": "2022-02-14T15:14:43.550Z"
   },
   {
    "duration": 11,
    "start_time": "2022-02-14T15:14:43.564Z"
   },
   {
    "duration": 7,
    "start_time": "2022-02-14T15:14:51.164Z"
   },
   {
    "duration": 9,
    "start_time": "2022-02-14T15:14:53.289Z"
   },
   {
    "duration": 4,
    "start_time": "2022-02-14T15:14:57.767Z"
   },
   {
    "duration": 6,
    "start_time": "2022-02-14T15:17:35.083Z"
   },
   {
    "duration": 13,
    "start_time": "2022-02-14T15:21:56.436Z"
   },
   {
    "duration": 8,
    "start_time": "2022-02-14T15:35:21.946Z"
   },
   {
    "duration": 1283,
    "start_time": "2022-02-14T15:54:20.616Z"
   },
   {
    "duration": 396,
    "start_time": "2022-02-14T15:54:21.901Z"
   },
   {
    "duration": 13,
    "start_time": "2022-02-14T15:54:22.300Z"
   },
   {
    "duration": 29,
    "start_time": "2022-02-14T15:54:22.316Z"
   },
   {
    "duration": 121,
    "start_time": "2022-02-14T15:54:22.347Z"
   },
   {
    "duration": 9,
    "start_time": "2022-02-14T15:54:22.471Z"
   },
   {
    "duration": 24,
    "start_time": "2022-02-14T15:54:22.481Z"
   },
   {
    "duration": 73,
    "start_time": "2022-02-14T15:54:22.520Z"
   },
   {
    "duration": 7,
    "start_time": "2022-02-14T15:54:22.595Z"
   },
   {
    "duration": 27,
    "start_time": "2022-02-14T15:54:22.604Z"
   },
   {
    "duration": 55,
    "start_time": "2022-02-14T15:54:22.633Z"
   },
   {
    "duration": 28,
    "start_time": "2022-02-14T15:54:22.690Z"
   },
   {
    "duration": 8,
    "start_time": "2022-02-14T15:54:22.720Z"
   },
   {
    "duration": 14,
    "start_time": "2022-02-14T15:54:22.730Z"
   },
   {
    "duration": 15,
    "start_time": "2022-02-14T15:54:22.746Z"
   },
   {
    "duration": 34,
    "start_time": "2022-02-14T15:54:22.763Z"
   },
   {
    "duration": 60,
    "start_time": "2022-02-14T15:54:22.799Z"
   },
   {
    "duration": 8,
    "start_time": "2022-02-14T15:54:22.861Z"
   },
   {
    "duration": 22,
    "start_time": "2022-02-14T15:54:22.871Z"
   },
   {
    "duration": 35,
    "start_time": "2022-02-14T15:54:22.895Z"
   },
   {
    "duration": 31,
    "start_time": "2022-02-14T15:54:22.932Z"
   },
   {
    "duration": 12,
    "start_time": "2022-02-14T15:54:22.965Z"
   },
   {
    "duration": 56,
    "start_time": "2022-02-14T15:54:22.980Z"
   },
   {
    "duration": 5,
    "start_time": "2022-02-14T15:54:23.038Z"
   },
   {
    "duration": 12,
    "start_time": "2022-02-14T15:54:23.045Z"
   },
   {
    "duration": 33,
    "start_time": "2022-02-14T15:54:23.058Z"
   },
   {
    "duration": 55,
    "start_time": "2022-02-14T15:54:23.093Z"
   },
   {
    "duration": 4,
    "start_time": "2022-02-14T15:54:23.151Z"
   },
   {
    "duration": 23,
    "start_time": "2022-02-14T15:54:23.157Z"
   },
   {
    "duration": 48,
    "start_time": "2022-02-14T15:54:23.182Z"
   },
   {
    "duration": 4,
    "start_time": "2022-02-14T15:54:23.231Z"
   },
   {
    "duration": 26,
    "start_time": "2022-02-14T15:54:23.237Z"
   },
   {
    "duration": 21,
    "start_time": "2022-02-14T15:54:23.265Z"
   },
   {
    "duration": 34,
    "start_time": "2022-02-14T15:54:23.288Z"
   },
   {
    "duration": 4,
    "start_time": "2022-02-14T15:54:23.324Z"
   },
   {
    "duration": 24,
    "start_time": "2022-02-14T15:54:23.329Z"
   },
   {
    "duration": 21,
    "start_time": "2022-02-14T15:54:23.355Z"
   },
   {
    "duration": 8,
    "start_time": "2022-02-14T15:54:23.378Z"
   },
   {
    "duration": 15,
    "start_time": "2022-02-14T15:54:23.418Z"
   },
   {
    "duration": 11,
    "start_time": "2022-02-14T15:54:23.435Z"
   },
   {
    "duration": 7,
    "start_time": "2022-02-14T15:54:23.448Z"
   },
   {
    "duration": 8,
    "start_time": "2022-02-14T15:54:23.457Z"
   },
   {
    "duration": 12,
    "start_time": "2022-02-14T15:54:23.467Z"
   },
   {
    "duration": 4,
    "start_time": "2022-02-14T15:54:26.857Z"
   },
   {
    "duration": 82,
    "start_time": "2022-02-14T15:55:50.726Z"
   },
   {
    "duration": 23,
    "start_time": "2022-02-14T15:56:40.348Z"
   },
   {
    "duration": 8,
    "start_time": "2022-02-14T15:56:55.325Z"
   },
   {
    "duration": 1246,
    "start_time": "2022-02-14T15:58:28.943Z"
   },
   {
    "duration": 429,
    "start_time": "2022-02-14T15:58:30.191Z"
   },
   {
    "duration": 12,
    "start_time": "2022-02-14T15:58:30.623Z"
   },
   {
    "duration": 24,
    "start_time": "2022-02-14T15:58:30.638Z"
   },
   {
    "duration": 136,
    "start_time": "2022-02-14T15:58:30.664Z"
   },
   {
    "duration": 18,
    "start_time": "2022-02-14T15:58:30.803Z"
   },
   {
    "duration": 25,
    "start_time": "2022-02-14T15:58:30.823Z"
   },
   {
    "duration": 85,
    "start_time": "2022-02-14T15:58:30.851Z"
   },
   {
    "duration": 8,
    "start_time": "2022-02-14T15:58:30.939Z"
   },
   {
    "duration": 24,
    "start_time": "2022-02-14T15:58:30.949Z"
   },
   {
    "duration": 72,
    "start_time": "2022-02-14T15:58:30.975Z"
   },
   {
    "duration": 11,
    "start_time": "2022-02-14T15:58:31.049Z"
   },
   {
    "duration": 17,
    "start_time": "2022-02-14T15:58:31.061Z"
   },
   {
    "duration": 17,
    "start_time": "2022-02-14T15:58:31.080Z"
   },
   {
    "duration": 20,
    "start_time": "2022-02-14T15:58:31.099Z"
   },
   {
    "duration": 34,
    "start_time": "2022-02-14T15:58:31.120Z"
   },
   {
    "duration": 48,
    "start_time": "2022-02-14T15:58:31.156Z"
   },
   {
    "duration": 9,
    "start_time": "2022-02-14T15:58:31.218Z"
   },
   {
    "duration": 27,
    "start_time": "2022-02-14T15:58:31.228Z"
   },
   {
    "duration": 14,
    "start_time": "2022-02-14T15:58:31.257Z"
   },
   {
    "duration": 50,
    "start_time": "2022-02-14T15:58:31.272Z"
   },
   {
    "duration": 12,
    "start_time": "2022-02-14T15:58:31.324Z"
   },
   {
    "duration": 29,
    "start_time": "2022-02-14T15:58:31.339Z"
   },
   {
    "duration": 5,
    "start_time": "2022-02-14T15:58:31.370Z"
   },
   {
    "duration": 16,
    "start_time": "2022-02-14T15:58:31.377Z"
   },
   {
    "duration": 29,
    "start_time": "2022-02-14T15:58:31.419Z"
   },
   {
    "duration": 38,
    "start_time": "2022-02-14T15:58:31.450Z"
   },
   {
    "duration": 4,
    "start_time": "2022-02-14T15:58:31.490Z"
   },
   {
    "duration": 52,
    "start_time": "2022-02-14T15:58:31.496Z"
   },
   {
    "duration": 33,
    "start_time": "2022-02-14T15:58:31.550Z"
   },
   {
    "duration": 5,
    "start_time": "2022-02-14T15:58:31.585Z"
   },
   {
    "duration": 25,
    "start_time": "2022-02-14T15:58:31.619Z"
   },
   {
    "duration": 23,
    "start_time": "2022-02-14T15:58:31.646Z"
   },
   {
    "duration": 14,
    "start_time": "2022-02-14T15:58:31.671Z"
   },
   {
    "duration": 33,
    "start_time": "2022-02-14T15:58:31.686Z"
   },
   {
    "duration": 26,
    "start_time": "2022-02-14T15:58:31.721Z"
   },
   {
    "duration": 23,
    "start_time": "2022-02-14T15:58:31.748Z"
   },
   {
    "duration": 8,
    "start_time": "2022-02-14T15:58:31.773Z"
   },
   {
    "duration": 45,
    "start_time": "2022-02-14T15:58:31.783Z"
   },
   {
    "duration": 28,
    "start_time": "2022-02-14T15:58:31.830Z"
   },
   {
    "duration": 22,
    "start_time": "2022-02-14T15:58:31.860Z"
   },
   {
    "duration": 28,
    "start_time": "2022-02-14T15:58:31.884Z"
   },
   {
    "duration": 27,
    "start_time": "2022-02-14T15:58:31.914Z"
   },
   {
    "duration": 12,
    "start_time": "2022-02-14T15:58:31.942Z"
   },
   {
    "duration": 92,
    "start_time": "2022-02-14T15:58:38.268Z"
   },
   {
    "duration": 3,
    "start_time": "2022-02-14T16:01:56.822Z"
   },
   {
    "duration": 82,
    "start_time": "2022-02-14T16:01:58.768Z"
   },
   {
    "duration": 9,
    "start_time": "2022-02-14T16:02:30.243Z"
   },
   {
    "duration": 24,
    "start_time": "2022-02-14T16:02:36.274Z"
   },
   {
    "duration": 13,
    "start_time": "2022-02-14T16:03:21.732Z"
   },
   {
    "duration": 4,
    "start_time": "2022-02-14T16:06:57.190Z"
   },
   {
    "duration": 88,
    "start_time": "2022-02-14T16:07:29.634Z"
   },
   {
    "duration": 24,
    "start_time": "2022-02-14T16:08:05.810Z"
   },
   {
    "duration": 25,
    "start_time": "2022-02-14T16:08:36.816Z"
   },
   {
    "duration": 85,
    "start_time": "2022-02-14T16:14:23.838Z"
   },
   {
    "duration": 86,
    "start_time": "2022-02-14T16:14:49.111Z"
   },
   {
    "duration": 5,
    "start_time": "2022-02-14T16:15:00.943Z"
   },
   {
    "duration": 1153,
    "start_time": "2022-02-14T16:16:10.832Z"
   },
   {
    "duration": 395,
    "start_time": "2022-02-14T16:16:11.988Z"
   },
   {
    "duration": 11,
    "start_time": "2022-02-14T16:16:12.386Z"
   },
   {
    "duration": 27,
    "start_time": "2022-02-14T16:16:12.399Z"
   },
   {
    "duration": 119,
    "start_time": "2022-02-14T16:16:12.428Z"
   },
   {
    "duration": 9,
    "start_time": "2022-02-14T16:16:12.548Z"
   },
   {
    "duration": 22,
    "start_time": "2022-02-14T16:16:12.558Z"
   },
   {
    "duration": 89,
    "start_time": "2022-02-14T16:16:12.583Z"
   },
   {
    "duration": 8,
    "start_time": "2022-02-14T16:16:12.675Z"
   },
   {
    "duration": 34,
    "start_time": "2022-02-14T16:16:12.685Z"
   },
   {
    "duration": 49,
    "start_time": "2022-02-14T16:16:12.721Z"
   },
   {
    "duration": 8,
    "start_time": "2022-02-14T16:16:12.772Z"
   },
   {
    "duration": 8,
    "start_time": "2022-02-14T16:16:12.782Z"
   },
   {
    "duration": 30,
    "start_time": "2022-02-14T16:16:12.792Z"
   },
   {
    "duration": 9,
    "start_time": "2022-02-14T16:16:12.824Z"
   },
   {
    "duration": 27,
    "start_time": "2022-02-14T16:16:12.835Z"
   },
   {
    "duration": 73,
    "start_time": "2022-02-14T16:16:12.864Z"
   },
   {
    "duration": 8,
    "start_time": "2022-02-14T16:16:12.939Z"
   },
   {
    "duration": 21,
    "start_time": "2022-02-14T16:16:12.949Z"
   },
   {
    "duration": 15,
    "start_time": "2022-02-14T16:16:12.972Z"
   },
   {
    "duration": 59,
    "start_time": "2022-02-14T16:16:12.989Z"
   },
   {
    "duration": 11,
    "start_time": "2022-02-14T16:16:13.050Z"
   },
   {
    "duration": 30,
    "start_time": "2022-02-14T16:16:13.065Z"
   },
   {
    "duration": 5,
    "start_time": "2022-02-14T16:16:13.119Z"
   },
   {
    "duration": 15,
    "start_time": "2022-02-14T16:16:13.126Z"
   },
   {
    "duration": 34,
    "start_time": "2022-02-14T16:16:13.143Z"
   },
   {
    "duration": 56,
    "start_time": "2022-02-14T16:16:13.178Z"
   },
   {
    "duration": 4,
    "start_time": "2022-02-14T16:16:13.236Z"
   },
   {
    "duration": 26,
    "start_time": "2022-02-14T16:16:13.242Z"
   },
   {
    "duration": 26,
    "start_time": "2022-02-14T16:16:13.269Z"
   },
   {
    "duration": 24,
    "start_time": "2022-02-14T16:16:13.297Z"
   },
   {
    "duration": 30,
    "start_time": "2022-02-14T16:16:13.323Z"
   },
   {
    "duration": 21,
    "start_time": "2022-02-14T16:16:13.354Z"
   },
   {
    "duration": 12,
    "start_time": "2022-02-14T16:16:13.377Z"
   },
   {
    "duration": 30,
    "start_time": "2022-02-14T16:16:13.391Z"
   },
   {
    "duration": 29,
    "start_time": "2022-02-14T16:16:13.423Z"
   },
   {
    "duration": 23,
    "start_time": "2022-02-14T16:16:13.455Z"
   },
   {
    "duration": 8,
    "start_time": "2022-02-14T16:16:13.480Z"
   },
   {
    "duration": 38,
    "start_time": "2022-02-14T16:16:13.489Z"
   },
   {
    "duration": 17,
    "start_time": "2022-02-14T16:16:13.529Z"
   },
   {
    "duration": 35,
    "start_time": "2022-02-14T16:16:13.547Z"
   },
   {
    "duration": 15,
    "start_time": "2022-02-14T16:16:13.584Z"
   },
   {
    "duration": 14,
    "start_time": "2022-02-14T16:16:13.601Z"
   },
   {
    "duration": 6,
    "start_time": "2022-02-14T16:16:13.617Z"
   },
   {
    "duration": 90,
    "start_time": "2022-02-14T16:16:13.625Z"
   },
   {
    "duration": 3,
    "start_time": "2022-02-14T16:16:13.718Z"
   },
   {
    "duration": 98,
    "start_time": "2022-02-14T16:16:13.723Z"
   },
   {
    "duration": 4,
    "start_time": "2022-02-14T16:16:13.822Z"
   },
   {
    "duration": 95,
    "start_time": "2022-02-14T16:16:13.828Z"
   },
   {
    "duration": 4,
    "start_time": "2022-02-14T16:16:13.924Z"
   },
   {
    "duration": 4,
    "start_time": "2022-02-14T16:16:16.519Z"
   },
   {
    "duration": 125,
    "start_time": "2022-02-14T16:16:17.067Z"
   },
   {
    "duration": 119,
    "start_time": "2022-02-14T16:16:55.660Z"
   },
   {
    "duration": 200,
    "start_time": "2022-02-14T16:17:39.957Z"
   },
   {
    "duration": 10,
    "start_time": "2022-02-14T16:18:54.063Z"
   },
   {
    "duration": 4112,
    "start_time": "2022-02-14T16:55:24.765Z"
   },
   {
    "duration": 1194,
    "start_time": "2022-02-14T16:55:47.651Z"
   },
   {
    "duration": 387,
    "start_time": "2022-02-14T16:55:48.847Z"
   },
   {
    "duration": 11,
    "start_time": "2022-02-14T16:55:49.236Z"
   },
   {
    "duration": 31,
    "start_time": "2022-02-14T16:55:49.248Z"
   },
   {
    "duration": 113,
    "start_time": "2022-02-14T16:55:49.281Z"
   },
   {
    "duration": 8,
    "start_time": "2022-02-14T16:55:49.396Z"
   },
   {
    "duration": 21,
    "start_time": "2022-02-14T16:55:49.406Z"
   },
   {
    "duration": 72,
    "start_time": "2022-02-14T16:55:49.429Z"
   },
   {
    "duration": 20,
    "start_time": "2022-02-14T16:55:49.503Z"
   },
   {
    "duration": 23,
    "start_time": "2022-02-14T16:55:49.525Z"
   },
   {
    "duration": 45,
    "start_time": "2022-02-14T16:55:49.550Z"
   },
   {
    "duration": 22,
    "start_time": "2022-02-14T16:55:49.597Z"
   },
   {
    "duration": 9,
    "start_time": "2022-02-14T16:55:49.621Z"
   },
   {
    "duration": 14,
    "start_time": "2022-02-14T16:55:49.632Z"
   },
   {
    "duration": 10,
    "start_time": "2022-02-14T16:55:49.647Z"
   },
   {
    "duration": 26,
    "start_time": "2022-02-14T16:55:49.658Z"
   },
   {
    "duration": 66,
    "start_time": "2022-02-14T16:55:49.685Z"
   },
   {
    "duration": 8,
    "start_time": "2022-02-14T16:55:49.752Z"
   },
   {
    "duration": 22,
    "start_time": "2022-02-14T16:55:49.761Z"
   },
   {
    "duration": 13,
    "start_time": "2022-02-14T16:55:49.785Z"
   },
   {
    "duration": 44,
    "start_time": "2022-02-14T16:55:49.800Z"
   },
   {
    "duration": 10,
    "start_time": "2022-02-14T16:55:49.846Z"
   },
   {
    "duration": 27,
    "start_time": "2022-02-14T16:55:49.860Z"
   },
   {
    "duration": 32,
    "start_time": "2022-02-14T16:55:49.890Z"
   },
   {
    "duration": 12,
    "start_time": "2022-02-14T16:55:49.924Z"
   },
   {
    "duration": 28,
    "start_time": "2022-02-14T16:55:49.938Z"
   },
   {
    "duration": 66,
    "start_time": "2022-02-14T16:55:49.968Z"
   },
   {
    "duration": 5,
    "start_time": "2022-02-14T16:55:50.036Z"
   },
   {
    "duration": 24,
    "start_time": "2022-02-14T16:55:50.043Z"
   },
   {
    "duration": 24,
    "start_time": "2022-02-14T16:55:50.069Z"
   },
   {
    "duration": 26,
    "start_time": "2022-02-14T16:55:50.095Z"
   },
   {
    "duration": 28,
    "start_time": "2022-02-14T16:55:50.122Z"
   },
   {
    "duration": 20,
    "start_time": "2022-02-14T16:55:50.152Z"
   },
   {
    "duration": 12,
    "start_time": "2022-02-14T16:55:50.174Z"
   },
   {
    "duration": 4,
    "start_time": "2022-02-14T16:55:50.188Z"
   },
   {
    "duration": 23,
    "start_time": "2022-02-14T16:55:50.219Z"
   },
   {
    "duration": 26,
    "start_time": "2022-02-14T16:55:50.243Z"
   },
   {
    "duration": 8,
    "start_time": "2022-02-14T16:55:50.271Z"
   },
   {
    "duration": 46,
    "start_time": "2022-02-14T16:55:50.281Z"
   },
   {
    "duration": 12,
    "start_time": "2022-02-14T16:55:50.329Z"
   },
   {
    "duration": 7,
    "start_time": "2022-02-14T16:55:50.343Z"
   },
   {
    "duration": 15,
    "start_time": "2022-02-14T16:55:50.352Z"
   },
   {
    "duration": 14,
    "start_time": "2022-02-14T16:55:50.369Z"
   },
   {
    "duration": 6,
    "start_time": "2022-02-14T16:55:50.385Z"
   },
   {
    "duration": 105,
    "start_time": "2022-02-14T16:55:50.393Z"
   },
   {
    "duration": 3,
    "start_time": "2022-02-14T16:55:50.500Z"
   },
   {
    "duration": 95,
    "start_time": "2022-02-14T16:55:50.505Z"
   },
   {
    "duration": 3,
    "start_time": "2022-02-14T16:55:50.602Z"
   },
   {
    "duration": 92,
    "start_time": "2022-02-14T16:55:50.606Z"
   },
   {
    "duration": 19,
    "start_time": "2022-02-14T16:55:50.699Z"
   },
   {
    "duration": 120,
    "start_time": "2022-02-14T16:55:50.720Z"
   },
   {
    "duration": 9,
    "start_time": "2022-02-14T16:55:50.843Z"
   },
   {
    "duration": 8,
    "start_time": "2022-02-14T16:55:55.344Z"
   },
   {
    "duration": 4782,
    "start_time": "2022-02-14T16:55:57.302Z"
   },
   {
    "duration": 4914,
    "start_time": "2022-02-14T16:56:11.112Z"
   },
   {
    "duration": 358,
    "start_time": "2022-02-14T17:20:10.497Z"
   },
   {
    "duration": 322,
    "start_time": "2022-02-14T17:20:23.752Z"
   },
   {
    "duration": 24,
    "start_time": "2022-02-14T17:20:49.110Z"
   },
   {
    "duration": 1248,
    "start_time": "2022-02-14T17:25:06.102Z"
   },
   {
    "duration": 374,
    "start_time": "2022-02-14T17:25:07.352Z"
   },
   {
    "duration": 11,
    "start_time": "2022-02-14T17:25:07.728Z"
   },
   {
    "duration": 26,
    "start_time": "2022-02-14T17:25:07.741Z"
   },
   {
    "duration": 116,
    "start_time": "2022-02-14T17:25:07.768Z"
   },
   {
    "duration": 8,
    "start_time": "2022-02-14T17:25:07.886Z"
   },
   {
    "duration": 33,
    "start_time": "2022-02-14T17:25:07.896Z"
   },
   {
    "duration": 73,
    "start_time": "2022-02-14T17:25:07.932Z"
   },
   {
    "duration": 8,
    "start_time": "2022-02-14T17:25:08.019Z"
   },
   {
    "duration": 17,
    "start_time": "2022-02-14T17:25:08.029Z"
   },
   {
    "duration": 71,
    "start_time": "2022-02-14T17:25:08.048Z"
   },
   {
    "duration": 9,
    "start_time": "2022-02-14T17:25:08.122Z"
   },
   {
    "duration": 9,
    "start_time": "2022-02-14T17:25:08.133Z"
   },
   {
    "duration": 12,
    "start_time": "2022-02-14T17:25:08.143Z"
   },
   {
    "duration": 7,
    "start_time": "2022-02-14T17:25:08.157Z"
   },
   {
    "duration": 28,
    "start_time": "2022-02-14T17:25:08.166Z"
   },
   {
    "duration": 46,
    "start_time": "2022-02-14T17:25:08.219Z"
   },
   {
    "duration": 7,
    "start_time": "2022-02-14T17:25:08.267Z"
   },
   {
    "duration": 19,
    "start_time": "2022-02-14T17:25:08.276Z"
   },
   {
    "duration": 31,
    "start_time": "2022-02-14T17:25:08.296Z"
   },
   {
    "duration": 33,
    "start_time": "2022-02-14T17:25:08.328Z"
   },
   {
    "duration": 12,
    "start_time": "2022-02-14T17:25:08.363Z"
   },
   {
    "duration": 58,
    "start_time": "2022-02-14T17:25:08.378Z"
   },
   {
    "duration": 5,
    "start_time": "2022-02-14T17:25:08.438Z"
   },
   {
    "duration": 14,
    "start_time": "2022-02-14T17:25:08.445Z"
   },
   {
    "duration": 30,
    "start_time": "2022-02-14T17:25:08.461Z"
   },
   {
    "duration": 50,
    "start_time": "2022-02-14T17:25:08.493Z"
   },
   {
    "duration": 4,
    "start_time": "2022-02-14T17:25:08.545Z"
   },
   {
    "duration": 24,
    "start_time": "2022-02-14T17:25:08.550Z"
   },
   {
    "duration": 42,
    "start_time": "2022-02-14T17:25:08.576Z"
   },
   {
    "duration": 3,
    "start_time": "2022-02-14T17:25:08.620Z"
   },
   {
    "duration": 26,
    "start_time": "2022-02-14T17:25:08.625Z"
   },
   {
    "duration": 19,
    "start_time": "2022-02-14T17:25:08.653Z"
   },
   {
    "duration": 12,
    "start_time": "2022-02-14T17:25:08.673Z"
   },
   {
    "duration": 32,
    "start_time": "2022-02-14T17:25:08.686Z"
   },
   {
    "duration": 26,
    "start_time": "2022-02-14T17:25:08.720Z"
   },
   {
    "duration": 20,
    "start_time": "2022-02-14T17:25:08.748Z"
   },
   {
    "duration": 7,
    "start_time": "2022-02-14T17:25:08.770Z"
   },
   {
    "duration": 13,
    "start_time": "2022-02-14T17:25:08.778Z"
   },
   {
    "duration": 30,
    "start_time": "2022-02-14T17:25:08.792Z"
   },
   {
    "duration": 7,
    "start_time": "2022-02-14T17:25:08.824Z"
   },
   {
    "duration": 7,
    "start_time": "2022-02-14T17:25:08.833Z"
   },
   {
    "duration": 12,
    "start_time": "2022-02-14T17:25:08.841Z"
   },
   {
    "duration": 5,
    "start_time": "2022-02-14T17:25:08.854Z"
   },
   {
    "duration": 109,
    "start_time": "2022-02-14T17:25:08.860Z"
   },
   {
    "duration": 3,
    "start_time": "2022-02-14T17:25:08.970Z"
   },
   {
    "duration": 92,
    "start_time": "2022-02-14T17:25:08.975Z"
   },
   {
    "duration": 4,
    "start_time": "2022-02-14T17:25:09.068Z"
   },
   {
    "duration": 98,
    "start_time": "2022-02-14T17:25:09.073Z"
   },
   {
    "duration": 4,
    "start_time": "2022-02-14T17:25:09.174Z"
   },
   {
    "duration": 158,
    "start_time": "2022-02-14T17:25:09.180Z"
   },
   {
    "duration": 9,
    "start_time": "2022-02-14T17:25:09.340Z"
   },
   {
    "duration": 8,
    "start_time": "2022-02-14T19:03:19.750Z"
   },
   {
    "duration": 7,
    "start_time": "2022-02-14T19:03:44.901Z"
   },
   {
    "duration": 4,
    "start_time": "2022-02-14T19:04:30.408Z"
   },
   {
    "duration": 6,
    "start_time": "2022-02-14T19:04:34.916Z"
   },
   {
    "duration": 1236,
    "start_time": "2022-02-14T19:06:51.535Z"
   },
   {
    "duration": 386,
    "start_time": "2022-02-14T19:06:52.773Z"
   },
   {
    "duration": 11,
    "start_time": "2022-02-14T19:06:53.161Z"
   },
   {
    "duration": 41,
    "start_time": "2022-02-14T19:06:53.174Z"
   },
   {
    "duration": 153,
    "start_time": "2022-02-14T19:06:53.217Z"
   },
   {
    "duration": 12,
    "start_time": "2022-02-14T19:06:53.372Z"
   },
   {
    "duration": 33,
    "start_time": "2022-02-14T19:06:53.386Z"
   },
   {
    "duration": 71,
    "start_time": "2022-02-14T19:06:53.421Z"
   },
   {
    "duration": 7,
    "start_time": "2022-02-14T19:06:53.494Z"
   },
   {
    "duration": 15,
    "start_time": "2022-02-14T19:06:53.519Z"
   },
   {
    "duration": 55,
    "start_time": "2022-02-14T19:06:53.535Z"
   },
   {
    "duration": 7,
    "start_time": "2022-02-14T19:06:53.592Z"
   },
   {
    "duration": 28,
    "start_time": "2022-02-14T19:06:53.601Z"
   },
   {
    "duration": 20,
    "start_time": "2022-02-14T19:06:53.630Z"
   },
   {
    "duration": 28,
    "start_time": "2022-02-14T19:06:53.652Z"
   },
   {
    "duration": 35,
    "start_time": "2022-02-14T19:06:53.682Z"
   },
   {
    "duration": 44,
    "start_time": "2022-02-14T19:06:53.719Z"
   },
   {
    "duration": 8,
    "start_time": "2022-02-14T19:06:53.765Z"
   },
   {
    "duration": 31,
    "start_time": "2022-02-14T19:06:53.775Z"
   },
   {
    "duration": 19,
    "start_time": "2022-02-14T19:06:53.808Z"
   },
   {
    "duration": 48,
    "start_time": "2022-02-14T19:06:53.828Z"
   },
   {
    "duration": 10,
    "start_time": "2022-02-14T19:06:53.878Z"
   },
   {
    "duration": 38,
    "start_time": "2022-02-14T19:06:53.891Z"
   },
   {
    "duration": 6,
    "start_time": "2022-02-14T19:06:53.931Z"
   },
   {
    "duration": 11,
    "start_time": "2022-02-14T19:06:53.939Z"
   },
   {
    "duration": 51,
    "start_time": "2022-02-14T19:06:53.952Z"
   },
   {
    "duration": 32,
    "start_time": "2022-02-14T19:06:54.005Z"
   },
   {
    "duration": 4,
    "start_time": "2022-02-14T19:06:54.039Z"
   },
   {
    "duration": 30,
    "start_time": "2022-02-14T19:06:54.045Z"
   },
   {
    "duration": 24,
    "start_time": "2022-02-14T19:06:54.077Z"
   },
   {
    "duration": 18,
    "start_time": "2022-02-14T19:06:54.103Z"
   },
   {
    "duration": 42,
    "start_time": "2022-02-14T19:06:54.123Z"
   },
   {
    "duration": 21,
    "start_time": "2022-02-14T19:06:54.167Z"
   },
   {
    "duration": 13,
    "start_time": "2022-02-14T19:06:54.190Z"
   },
   {
    "duration": 6,
    "start_time": "2022-02-14T19:06:54.217Z"
   },
   {
    "duration": 28,
    "start_time": "2022-02-14T19:06:54.224Z"
   },
   {
    "duration": 36,
    "start_time": "2022-02-14T19:06:54.254Z"
   },
   {
    "duration": 13,
    "start_time": "2022-02-14T19:06:54.291Z"
   },
   {
    "duration": 29,
    "start_time": "2022-02-14T19:06:54.306Z"
   },
   {
    "duration": 12,
    "start_time": "2022-02-14T19:06:54.338Z"
   },
   {
    "duration": 14,
    "start_time": "2022-02-14T19:06:54.353Z"
   },
   {
    "duration": 16,
    "start_time": "2022-02-14T19:06:54.370Z"
   },
   {
    "duration": 24,
    "start_time": "2022-02-14T19:06:54.388Z"
   },
   {
    "duration": 11,
    "start_time": "2022-02-14T19:06:54.419Z"
   },
   {
    "duration": 90,
    "start_time": "2022-02-14T19:06:54.432Z"
   },
   {
    "duration": 5,
    "start_time": "2022-02-14T19:06:54.524Z"
   },
   {
    "duration": 111,
    "start_time": "2022-02-14T19:06:54.531Z"
   },
   {
    "duration": 3,
    "start_time": "2022-02-14T19:06:54.644Z"
   },
   {
    "duration": 153,
    "start_time": "2022-02-14T19:06:54.649Z"
   },
   {
    "duration": 5,
    "start_time": "2022-02-14T19:06:54.804Z"
   },
   {
    "duration": 224,
    "start_time": "2022-02-14T19:06:54.811Z"
   },
   {
    "duration": 11,
    "start_time": "2022-02-14T19:06:55.038Z"
   },
   {
    "duration": 19,
    "start_time": "2022-02-14T19:06:55.051Z"
   },
   {
    "duration": 5,
    "start_time": "2022-02-14T19:06:57.357Z"
   },
   {
    "duration": 4,
    "start_time": "2022-02-14T19:07:26.780Z"
   },
   {
    "duration": 6,
    "start_time": "2022-02-14T19:07:32.408Z"
   },
   {
    "duration": 1332,
    "start_time": "2022-02-14T19:11:31.028Z"
   },
   {
    "duration": 552,
    "start_time": "2022-02-14T19:11:32.363Z"
   },
   {
    "duration": 16,
    "start_time": "2022-02-14T19:11:32.918Z"
   },
   {
    "duration": 53,
    "start_time": "2022-02-14T19:11:32.936Z"
   },
   {
    "duration": 166,
    "start_time": "2022-02-14T19:11:32.992Z"
   },
   {
    "duration": 14,
    "start_time": "2022-02-14T19:11:33.161Z"
   },
   {
    "duration": 24,
    "start_time": "2022-02-14T19:11:33.176Z"
   },
   {
    "duration": 76,
    "start_time": "2022-02-14T19:11:33.219Z"
   },
   {
    "duration": 23,
    "start_time": "2022-02-14T19:11:33.297Z"
   },
   {
    "duration": 17,
    "start_time": "2022-02-14T19:11:33.322Z"
   },
   {
    "duration": 53,
    "start_time": "2022-02-14T19:11:33.341Z"
   },
   {
    "duration": 25,
    "start_time": "2022-02-14T19:11:33.395Z"
   },
   {
    "duration": 9,
    "start_time": "2022-02-14T19:11:33.422Z"
   },
   {
    "duration": 13,
    "start_time": "2022-02-14T19:11:33.433Z"
   },
   {
    "duration": 12,
    "start_time": "2022-02-14T19:11:33.448Z"
   },
   {
    "duration": 30,
    "start_time": "2022-02-14T19:11:33.461Z"
   },
   {
    "duration": 45,
    "start_time": "2022-02-14T19:11:33.518Z"
   },
   {
    "duration": 9,
    "start_time": "2022-02-14T19:11:33.565Z"
   },
   {
    "duration": 42,
    "start_time": "2022-02-14T19:11:33.576Z"
   },
   {
    "duration": 18,
    "start_time": "2022-02-14T19:11:33.621Z"
   },
   {
    "duration": 51,
    "start_time": "2022-02-14T19:11:33.642Z"
   },
   {
    "duration": 30,
    "start_time": "2022-02-14T19:11:33.695Z"
   },
   {
    "duration": 41,
    "start_time": "2022-02-14T19:11:33.730Z"
   },
   {
    "duration": 6,
    "start_time": "2022-02-14T19:11:33.774Z"
   },
   {
    "duration": 36,
    "start_time": "2022-02-14T19:11:33.782Z"
   },
   {
    "duration": 29,
    "start_time": "2022-02-14T19:11:33.820Z"
   },
   {
    "duration": 35,
    "start_time": "2022-02-14T19:11:33.852Z"
   },
   {
    "duration": 30,
    "start_time": "2022-02-14T19:11:33.889Z"
   },
   {
    "duration": 21,
    "start_time": "2022-02-14T19:11:33.921Z"
   },
   {
    "duration": 23,
    "start_time": "2022-02-14T19:11:33.944Z"
   },
   {
    "duration": 4,
    "start_time": "2022-02-14T19:11:33.968Z"
   },
   {
    "duration": 58,
    "start_time": "2022-02-14T19:11:33.974Z"
   },
   {
    "duration": 23,
    "start_time": "2022-02-14T19:11:34.034Z"
   },
   {
    "duration": 13,
    "start_time": "2022-02-14T19:11:34.058Z"
   },
   {
    "duration": 8,
    "start_time": "2022-02-14T19:11:34.073Z"
   },
   {
    "duration": 51,
    "start_time": "2022-02-14T19:11:34.083Z"
   },
   {
    "duration": 23,
    "start_time": "2022-02-14T19:11:34.136Z"
   },
   {
    "duration": 9,
    "start_time": "2022-02-14T19:11:34.160Z"
   },
   {
    "duration": 33,
    "start_time": "2022-02-14T19:11:34.171Z"
   },
   {
    "duration": 28,
    "start_time": "2022-02-14T19:11:34.206Z"
   },
   {
    "duration": 31,
    "start_time": "2022-02-14T19:11:34.237Z"
   },
   {
    "duration": 26,
    "start_time": "2022-02-14T19:11:34.270Z"
   },
   {
    "duration": 29,
    "start_time": "2022-02-14T19:11:34.298Z"
   },
   {
    "duration": 22,
    "start_time": "2022-02-14T19:11:34.330Z"
   },
   {
    "duration": 152,
    "start_time": "2022-02-14T19:11:34.355Z"
   },
   {
    "duration": 10,
    "start_time": "2022-02-14T19:11:34.509Z"
   },
   {
    "duration": 153,
    "start_time": "2022-02-14T19:11:34.521Z"
   },
   {
    "duration": 5,
    "start_time": "2022-02-14T19:11:34.676Z"
   },
   {
    "duration": 146,
    "start_time": "2022-02-14T19:11:34.683Z"
   },
   {
    "duration": 4,
    "start_time": "2022-02-14T19:11:34.831Z"
   },
   {
    "duration": 222,
    "start_time": "2022-02-14T19:11:34.837Z"
   },
   {
    "duration": 11,
    "start_time": "2022-02-14T19:11:35.061Z"
   },
   {
    "duration": 14,
    "start_time": "2022-02-14T19:11:35.074Z"
   },
   {
    "duration": 6,
    "start_time": "2022-02-14T19:11:37.236Z"
   },
   {
    "duration": 1169,
    "start_time": "2022-02-14T19:13:50.088Z"
   },
   {
    "duration": 381,
    "start_time": "2022-02-14T19:13:51.259Z"
   },
   {
    "duration": 12,
    "start_time": "2022-02-14T19:13:51.642Z"
   },
   {
    "duration": 23,
    "start_time": "2022-02-14T19:13:51.657Z"
   },
   {
    "duration": 116,
    "start_time": "2022-02-14T19:13:51.682Z"
   },
   {
    "duration": 8,
    "start_time": "2022-02-14T19:13:51.799Z"
   },
   {
    "duration": 25,
    "start_time": "2022-02-14T19:13:51.809Z"
   },
   {
    "duration": 83,
    "start_time": "2022-02-14T19:13:51.836Z"
   },
   {
    "duration": 7,
    "start_time": "2022-02-14T19:13:51.921Z"
   },
   {
    "duration": 18,
    "start_time": "2022-02-14T19:13:51.929Z"
   },
   {
    "duration": 46,
    "start_time": "2022-02-14T19:13:51.949Z"
   },
   {
    "duration": 29,
    "start_time": "2022-02-14T19:13:51.997Z"
   },
   {
    "duration": 8,
    "start_time": "2022-02-14T19:13:52.028Z"
   },
   {
    "duration": 13,
    "start_time": "2022-02-14T19:13:52.038Z"
   },
   {
    "duration": 9,
    "start_time": "2022-02-14T19:13:52.053Z"
   },
   {
    "duration": 55,
    "start_time": "2022-02-14T19:13:52.064Z"
   },
   {
    "duration": 45,
    "start_time": "2022-02-14T19:13:52.121Z"
   },
   {
    "duration": 8,
    "start_time": "2022-02-14T19:13:52.168Z"
   },
   {
    "duration": 21,
    "start_time": "2022-02-14T19:13:52.178Z"
   },
   {
    "duration": 15,
    "start_time": "2022-02-14T19:13:52.218Z"
   },
   {
    "duration": 30,
    "start_time": "2022-02-14T19:13:52.235Z"
   },
   {
    "duration": 12,
    "start_time": "2022-02-14T19:13:52.267Z"
   },
   {
    "duration": 56,
    "start_time": "2022-02-14T19:13:52.283Z"
   },
   {
    "duration": 5,
    "start_time": "2022-02-14T19:13:52.342Z"
   },
   {
    "duration": 11,
    "start_time": "2022-02-14T19:13:52.349Z"
   },
   {
    "duration": 31,
    "start_time": "2022-02-14T19:13:52.362Z"
   },
   {
    "duration": 35,
    "start_time": "2022-02-14T19:13:52.419Z"
   },
   {
    "duration": 5,
    "start_time": "2022-02-14T19:13:52.456Z"
   },
   {
    "duration": 25,
    "start_time": "2022-02-14T19:13:52.464Z"
   },
   {
    "duration": 47,
    "start_time": "2022-02-14T19:13:52.491Z"
   },
   {
    "duration": 4,
    "start_time": "2022-02-14T19:13:52.539Z"
   },
   {
    "duration": 28,
    "start_time": "2022-02-14T19:13:52.545Z"
   },
   {
    "duration": 44,
    "start_time": "2022-02-14T19:13:52.575Z"
   },
   {
    "duration": 13,
    "start_time": "2022-02-14T19:13:52.621Z"
   },
   {
    "duration": 4,
    "start_time": "2022-02-14T19:13:52.636Z"
   },
   {
    "duration": 27,
    "start_time": "2022-02-14T19:13:52.641Z"
   },
   {
    "duration": 20,
    "start_time": "2022-02-14T19:13:52.670Z"
   },
   {
    "duration": 32,
    "start_time": "2022-02-14T19:13:52.692Z"
   },
   {
    "duration": 13,
    "start_time": "2022-02-14T19:13:52.726Z"
   },
   {
    "duration": 10,
    "start_time": "2022-02-14T19:13:52.740Z"
   },
   {
    "duration": 6,
    "start_time": "2022-02-14T19:13:52.752Z"
   },
   {
    "duration": 7,
    "start_time": "2022-02-14T19:13:52.759Z"
   },
   {
    "duration": 12,
    "start_time": "2022-02-14T19:13:52.768Z"
   },
   {
    "duration": 10,
    "start_time": "2022-02-14T19:13:52.782Z"
   },
   {
    "duration": 85,
    "start_time": "2022-02-14T19:13:52.819Z"
   },
   {
    "duration": 3,
    "start_time": "2022-02-14T19:13:52.906Z"
   },
   {
    "duration": 87,
    "start_time": "2022-02-14T19:13:52.910Z"
   },
   {
    "duration": 4,
    "start_time": "2022-02-14T19:13:52.998Z"
   },
   {
    "duration": 98,
    "start_time": "2022-02-14T19:13:53.004Z"
   },
   {
    "duration": 15,
    "start_time": "2022-02-14T19:13:53.104Z"
   },
   {
    "duration": 189,
    "start_time": "2022-02-14T19:13:53.121Z"
   },
   {
    "duration": 14,
    "start_time": "2022-02-14T19:13:53.312Z"
   },
   {
    "duration": 9,
    "start_time": "2022-02-14T19:13:53.328Z"
   },
   {
    "duration": 7,
    "start_time": "2022-02-14T19:13:56.126Z"
   },
   {
    "duration": 8,
    "start_time": "2022-02-14T19:14:46.016Z"
   },
   {
    "duration": 5,
    "start_time": "2022-02-14T19:19:24.125Z"
   },
   {
    "duration": 1159,
    "start_time": "2022-02-14T19:24:57.291Z"
   },
   {
    "duration": 366,
    "start_time": "2022-02-14T19:24:58.452Z"
   },
   {
    "duration": 11,
    "start_time": "2022-02-14T19:24:58.821Z"
   },
   {
    "duration": 24,
    "start_time": "2022-02-14T19:24:58.833Z"
   },
   {
    "duration": 112,
    "start_time": "2022-02-14T19:24:58.859Z"
   },
   {
    "duration": 8,
    "start_time": "2022-02-14T19:24:58.973Z"
   },
   {
    "duration": 19,
    "start_time": "2022-02-14T19:24:58.983Z"
   },
   {
    "duration": 75,
    "start_time": "2022-02-14T19:24:59.004Z"
   },
   {
    "duration": 7,
    "start_time": "2022-02-14T19:24:59.081Z"
   },
   {
    "duration": 34,
    "start_time": "2022-02-14T19:24:59.089Z"
   },
   {
    "duration": 46,
    "start_time": "2022-02-14T19:24:59.124Z"
   },
   {
    "duration": 7,
    "start_time": "2022-02-14T19:24:59.172Z"
   },
   {
    "duration": 7,
    "start_time": "2022-02-14T19:24:59.181Z"
   },
   {
    "duration": 32,
    "start_time": "2022-02-14T19:24:59.190Z"
   },
   {
    "duration": 7,
    "start_time": "2022-02-14T19:24:59.224Z"
   },
   {
    "duration": 27,
    "start_time": "2022-02-14T19:24:59.233Z"
   },
   {
    "duration": 60,
    "start_time": "2022-02-14T19:24:59.261Z"
   },
   {
    "duration": 7,
    "start_time": "2022-02-14T19:24:59.322Z"
   },
   {
    "duration": 18,
    "start_time": "2022-02-14T19:24:59.331Z"
   },
   {
    "duration": 13,
    "start_time": "2022-02-14T19:24:59.350Z"
   },
   {
    "duration": 57,
    "start_time": "2022-02-14T19:24:59.364Z"
   },
   {
    "duration": 11,
    "start_time": "2022-02-14T19:24:59.423Z"
   },
   {
    "duration": 33,
    "start_time": "2022-02-14T19:24:59.438Z"
   },
   {
    "duration": 5,
    "start_time": "2022-02-14T19:24:59.474Z"
   },
   {
    "duration": 22,
    "start_time": "2022-02-14T19:24:59.481Z"
   },
   {
    "duration": 27,
    "start_time": "2022-02-14T19:24:59.518Z"
   },
   {
    "duration": 34,
    "start_time": "2022-02-14T19:24:59.547Z"
   },
   {
    "duration": 4,
    "start_time": "2022-02-14T19:24:59.583Z"
   },
   {
    "duration": 48,
    "start_time": "2022-02-14T19:24:59.589Z"
   },
   {
    "duration": 26,
    "start_time": "2022-02-14T19:24:59.639Z"
   },
   {
    "duration": 4,
    "start_time": "2022-02-14T19:24:59.666Z"
   },
   {
    "duration": 31,
    "start_time": "2022-02-14T19:24:59.672Z"
   },
   {
    "duration": 34,
    "start_time": "2022-02-14T19:24:59.705Z"
   },
   {
    "duration": 11,
    "start_time": "2022-02-14T19:24:59.740Z"
   },
   {
    "duration": 4,
    "start_time": "2022-02-14T19:24:59.753Z"
   },
   {
    "duration": 42,
    "start_time": "2022-02-14T19:24:59.759Z"
   },
   {
    "duration": 30,
    "start_time": "2022-02-14T19:24:59.803Z"
   },
   {
    "duration": 8,
    "start_time": "2022-02-14T19:24:59.835Z"
   },
   {
    "duration": 17,
    "start_time": "2022-02-14T19:24:59.844Z"
   },
   {
    "duration": 19,
    "start_time": "2022-02-14T19:24:59.862Z"
   },
   {
    "duration": 6,
    "start_time": "2022-02-14T19:24:59.883Z"
   },
   {
    "duration": 28,
    "start_time": "2022-02-14T19:24:59.890Z"
   },
   {
    "duration": 30,
    "start_time": "2022-02-14T19:24:59.919Z"
   },
   {
    "duration": 11,
    "start_time": "2022-02-14T19:24:59.951Z"
   },
   {
    "duration": 112,
    "start_time": "2022-02-14T19:24:59.964Z"
   },
   {
    "duration": 4,
    "start_time": "2022-02-14T19:25:00.078Z"
   },
   {
    "duration": 109,
    "start_time": "2022-02-14T19:25:00.084Z"
   },
   {
    "duration": 3,
    "start_time": "2022-02-14T19:25:00.195Z"
   },
   {
    "duration": 101,
    "start_time": "2022-02-14T19:25:00.200Z"
   },
   {
    "duration": 4,
    "start_time": "2022-02-14T19:25:00.303Z"
   },
   {
    "duration": 139,
    "start_time": "2022-02-14T19:25:00.309Z"
   },
   {
    "duration": 9,
    "start_time": "2022-02-14T19:25:00.451Z"
   },
   {
    "duration": 8,
    "start_time": "2022-02-14T19:25:00.462Z"
   },
   {
    "duration": 12,
    "start_time": "2022-02-14T19:25:00.472Z"
   },
   {
    "duration": 6,
    "start_time": "2022-02-14T19:25:04.406Z"
   },
   {
    "duration": 4,
    "start_time": "2022-02-14T19:25:37.756Z"
   },
   {
    "duration": 698,
    "start_time": "2022-02-14T19:25:51.103Z"
   },
   {
    "duration": 258,
    "start_time": "2022-02-14T19:25:58.311Z"
   },
   {
    "duration": 1242,
    "start_time": "2022-02-14T19:27:38.111Z"
   },
   {
    "duration": 388,
    "start_time": "2022-02-14T19:27:39.356Z"
   },
   {
    "duration": 11,
    "start_time": "2022-02-14T19:27:39.747Z"
   },
   {
    "duration": 22,
    "start_time": "2022-02-14T19:27:39.760Z"
   },
   {
    "duration": 119,
    "start_time": "2022-02-14T19:27:39.784Z"
   },
   {
    "duration": 14,
    "start_time": "2022-02-14T19:27:39.904Z"
   },
   {
    "duration": 20,
    "start_time": "2022-02-14T19:27:39.920Z"
   },
   {
    "duration": 83,
    "start_time": "2022-02-14T19:27:39.943Z"
   },
   {
    "duration": 9,
    "start_time": "2022-02-14T19:27:40.029Z"
   },
   {
    "duration": 22,
    "start_time": "2022-02-14T19:27:40.039Z"
   },
   {
    "duration": 72,
    "start_time": "2022-02-14T19:27:40.063Z"
   },
   {
    "duration": 8,
    "start_time": "2022-02-14T19:27:40.137Z"
   },
   {
    "duration": 34,
    "start_time": "2022-02-14T19:27:40.147Z"
   },
   {
    "duration": 23,
    "start_time": "2022-02-14T19:27:40.183Z"
   },
   {
    "duration": 30,
    "start_time": "2022-02-14T19:27:40.208Z"
   },
   {
    "duration": 54,
    "start_time": "2022-02-14T19:27:40.240Z"
   },
   {
    "duration": 46,
    "start_time": "2022-02-14T19:27:40.296Z"
   },
   {
    "duration": 8,
    "start_time": "2022-02-14T19:27:40.344Z"
   },
   {
    "duration": 36,
    "start_time": "2022-02-14T19:27:40.353Z"
   },
   {
    "duration": 17,
    "start_time": "2022-02-14T19:27:40.391Z"
   },
   {
    "duration": 51,
    "start_time": "2022-02-14T19:27:40.410Z"
   },
   {
    "duration": 11,
    "start_time": "2022-02-14T19:27:40.462Z"
   },
   {
    "duration": 41,
    "start_time": "2022-02-14T19:27:40.477Z"
   },
   {
    "duration": 5,
    "start_time": "2022-02-14T19:27:40.521Z"
   },
   {
    "duration": 18,
    "start_time": "2022-02-14T19:27:40.527Z"
   },
   {
    "duration": 39,
    "start_time": "2022-02-14T19:27:40.547Z"
   },
   {
    "duration": 58,
    "start_time": "2022-02-14T19:27:40.588Z"
   },
   {
    "duration": 5,
    "start_time": "2022-02-14T19:27:40.648Z"
   },
   {
    "duration": 36,
    "start_time": "2022-02-14T19:27:40.655Z"
   },
   {
    "duration": 54,
    "start_time": "2022-02-14T19:27:40.693Z"
   },
   {
    "duration": 6,
    "start_time": "2022-02-14T19:27:40.749Z"
   },
   {
    "duration": 41,
    "start_time": "2022-02-14T19:27:40.757Z"
   },
   {
    "duration": 30,
    "start_time": "2022-02-14T19:27:40.800Z"
   },
   {
    "duration": 23,
    "start_time": "2022-02-14T19:27:40.833Z"
   },
   {
    "duration": 4,
    "start_time": "2022-02-14T19:27:40.858Z"
   },
   {
    "duration": 24,
    "start_time": "2022-02-14T19:27:40.864Z"
   },
   {
    "duration": 38,
    "start_time": "2022-02-14T19:27:40.890Z"
   },
   {
    "duration": 9,
    "start_time": "2022-02-14T19:27:40.930Z"
   },
   {
    "duration": 13,
    "start_time": "2022-02-14T19:27:40.941Z"
   },
   {
    "duration": 8,
    "start_time": "2022-02-14T19:27:40.956Z"
   },
   {
    "duration": 7,
    "start_time": "2022-02-14T19:27:40.966Z"
   },
   {
    "duration": 13,
    "start_time": "2022-02-14T19:27:40.975Z"
   },
   {
    "duration": 41,
    "start_time": "2022-02-14T19:27:40.989Z"
   },
   {
    "duration": 6,
    "start_time": "2022-02-14T19:27:41.032Z"
   },
   {
    "duration": 105,
    "start_time": "2022-02-14T19:27:41.039Z"
   },
   {
    "duration": 4,
    "start_time": "2022-02-14T19:27:41.146Z"
   },
   {
    "duration": 96,
    "start_time": "2022-02-14T19:27:41.152Z"
   },
   {
    "duration": 4,
    "start_time": "2022-02-14T19:27:41.249Z"
   },
   {
    "duration": 98,
    "start_time": "2022-02-14T19:27:41.254Z"
   },
   {
    "duration": 3,
    "start_time": "2022-02-14T19:27:41.354Z"
   },
   {
    "duration": 142,
    "start_time": "2022-02-14T19:27:41.359Z"
   },
   {
    "duration": 7,
    "start_time": "2022-02-14T19:27:41.503Z"
   },
   {
    "duration": 7,
    "start_time": "2022-02-14T19:27:41.518Z"
   },
   {
    "duration": 11,
    "start_time": "2022-02-14T19:27:41.527Z"
   },
   {
    "duration": 8,
    "start_time": "2022-02-14T19:27:41.540Z"
   },
   {
    "duration": 4,
    "start_time": "2022-02-14T19:27:44.615Z"
   },
   {
    "duration": 9,
    "start_time": "2022-02-14T19:33:14.526Z"
   },
   {
    "duration": 1340,
    "start_time": "2022-02-14T19:37:22.966Z"
   },
   {
    "duration": 502,
    "start_time": "2022-02-14T19:37:24.309Z"
   },
   {
    "duration": 10,
    "start_time": "2022-02-14T19:37:24.813Z"
   },
   {
    "duration": 23,
    "start_time": "2022-02-14T19:37:24.825Z"
   },
   {
    "duration": 100,
    "start_time": "2022-02-14T19:37:24.850Z"
   },
   {
    "duration": 8,
    "start_time": "2022-02-14T19:37:24.951Z"
   },
   {
    "duration": 20,
    "start_time": "2022-02-14T19:37:24.960Z"
   },
   {
    "duration": 89,
    "start_time": "2022-02-14T19:37:24.983Z"
   },
   {
    "duration": 8,
    "start_time": "2022-02-14T19:37:25.074Z"
   },
   {
    "duration": 16,
    "start_time": "2022-02-14T19:37:25.084Z"
   },
   {
    "duration": 53,
    "start_time": "2022-02-14T19:37:25.118Z"
   },
   {
    "duration": 8,
    "start_time": "2022-02-14T19:37:25.173Z"
   },
   {
    "duration": 9,
    "start_time": "2022-02-14T19:37:25.183Z"
   },
   {
    "duration": 41,
    "start_time": "2022-02-14T19:37:25.193Z"
   },
   {
    "duration": 9,
    "start_time": "2022-02-14T19:37:25.237Z"
   },
   {
    "duration": 26,
    "start_time": "2022-02-14T19:37:25.248Z"
   },
   {
    "duration": 54,
    "start_time": "2022-02-14T19:37:25.276Z"
   },
   {
    "duration": 9,
    "start_time": "2022-02-14T19:37:25.332Z"
   },
   {
    "duration": 19,
    "start_time": "2022-02-14T19:37:25.342Z"
   },
   {
    "duration": 14,
    "start_time": "2022-02-14T19:37:25.363Z"
   },
   {
    "duration": 56,
    "start_time": "2022-02-14T19:37:25.379Z"
   },
   {
    "duration": 11,
    "start_time": "2022-02-14T19:37:25.437Z"
   },
   {
    "duration": 29,
    "start_time": "2022-02-14T19:37:25.453Z"
   },
   {
    "duration": 35,
    "start_time": "2022-02-14T19:37:25.485Z"
   },
   {
    "duration": 11,
    "start_time": "2022-02-14T19:37:25.522Z"
   },
   {
    "duration": 30,
    "start_time": "2022-02-14T19:37:25.535Z"
   },
   {
    "duration": 51,
    "start_time": "2022-02-14T19:37:25.567Z"
   },
   {
    "duration": 5,
    "start_time": "2022-02-14T19:37:25.620Z"
   },
   {
    "duration": 29,
    "start_time": "2022-02-14T19:37:25.627Z"
   },
   {
    "duration": 32,
    "start_time": "2022-02-14T19:37:25.658Z"
   },
   {
    "duration": 29,
    "start_time": "2022-02-14T19:37:25.692Z"
   },
   {
    "duration": 31,
    "start_time": "2022-02-14T19:37:25.723Z"
   },
   {
    "duration": 24,
    "start_time": "2022-02-14T19:37:25.756Z"
   },
   {
    "duration": 19,
    "start_time": "2022-02-14T19:37:25.782Z"
   },
   {
    "duration": 5,
    "start_time": "2022-02-14T19:37:25.818Z"
   },
   {
    "duration": 25,
    "start_time": "2022-02-14T19:37:25.825Z"
   },
   {
    "duration": 22,
    "start_time": "2022-02-14T19:37:25.852Z"
   },
   {
    "duration": 7,
    "start_time": "2022-02-14T19:37:25.876Z"
   },
   {
    "duration": 44,
    "start_time": "2022-02-14T19:37:25.885Z"
   },
   {
    "duration": 10,
    "start_time": "2022-02-14T19:37:25.932Z"
   },
   {
    "duration": 7,
    "start_time": "2022-02-14T19:37:25.943Z"
   },
   {
    "duration": 8,
    "start_time": "2022-02-14T19:37:25.952Z"
   },
   {
    "duration": 12,
    "start_time": "2022-02-14T19:37:25.962Z"
   },
   {
    "duration": 4,
    "start_time": "2022-02-14T19:37:25.976Z"
   },
   {
    "duration": 100,
    "start_time": "2022-02-14T19:37:26.019Z"
   },
   {
    "duration": 4,
    "start_time": "2022-02-14T19:37:26.122Z"
   },
   {
    "duration": 141,
    "start_time": "2022-02-14T19:37:26.128Z"
   },
   {
    "duration": 4,
    "start_time": "2022-02-14T19:37:26.271Z"
   },
   {
    "duration": 94,
    "start_time": "2022-02-14T19:37:26.277Z"
   },
   {
    "duration": 3,
    "start_time": "2022-02-14T19:37:26.373Z"
   },
   {
    "duration": 133,
    "start_time": "2022-02-14T19:37:26.378Z"
   },
   {
    "duration": 12,
    "start_time": "2022-02-14T19:37:26.512Z"
   },
   {
    "duration": 8,
    "start_time": "2022-02-14T19:37:26.526Z"
   },
   {
    "duration": 12,
    "start_time": "2022-02-14T19:37:26.536Z"
   },
   {
    "duration": 11,
    "start_time": "2022-02-14T19:37:26.550Z"
   },
   {
    "duration": 5,
    "start_time": "2022-02-14T19:37:36.343Z"
   },
   {
    "duration": 291,
    "start_time": "2022-02-14T19:52:01.187Z"
   },
   {
    "duration": 1164,
    "start_time": "2022-02-14T19:52:15.985Z"
   },
   {
    "duration": 358,
    "start_time": "2022-02-14T19:52:17.151Z"
   },
   {
    "duration": 11,
    "start_time": "2022-02-14T19:52:17.510Z"
   },
   {
    "duration": 36,
    "start_time": "2022-02-14T19:52:17.522Z"
   },
   {
    "duration": 151,
    "start_time": "2022-02-14T19:52:17.560Z"
   },
   {
    "duration": 12,
    "start_time": "2022-02-14T19:52:17.718Z"
   },
   {
    "duration": 19,
    "start_time": "2022-02-14T19:52:17.732Z"
   },
   {
    "duration": 85,
    "start_time": "2022-02-14T19:52:17.752Z"
   },
   {
    "duration": 7,
    "start_time": "2022-02-14T19:52:17.841Z"
   },
   {
    "duration": 16,
    "start_time": "2022-02-14T19:52:17.851Z"
   },
   {
    "duration": 69,
    "start_time": "2022-02-14T19:52:17.869Z"
   },
   {
    "duration": 8,
    "start_time": "2022-02-14T19:52:17.941Z"
   },
   {
    "duration": 10,
    "start_time": "2022-02-14T19:52:17.951Z"
   },
   {
    "duration": 12,
    "start_time": "2022-02-14T19:52:17.963Z"
   },
   {
    "duration": 10,
    "start_time": "2022-02-14T19:52:17.977Z"
   },
   {
    "duration": 49,
    "start_time": "2022-02-14T19:52:17.989Z"
   },
   {
    "duration": 48,
    "start_time": "2022-02-14T19:52:18.040Z"
   },
   {
    "duration": 29,
    "start_time": "2022-02-14T19:52:18.091Z"
   },
   {
    "duration": 18,
    "start_time": "2022-02-14T19:52:18.122Z"
   },
   {
    "duration": 18,
    "start_time": "2022-02-14T19:52:18.142Z"
   },
   {
    "duration": 73,
    "start_time": "2022-02-14T19:52:18.162Z"
   },
   {
    "duration": 26,
    "start_time": "2022-02-14T19:52:18.238Z"
   },
   {
    "duration": 29,
    "start_time": "2022-02-14T19:52:18.267Z"
   },
   {
    "duration": 6,
    "start_time": "2022-02-14T19:52:18.298Z"
   },
   {
    "duration": 11,
    "start_time": "2022-02-14T19:52:18.319Z"
   },
   {
    "duration": 33,
    "start_time": "2022-02-14T19:52:18.332Z"
   },
   {
    "duration": 64,
    "start_time": "2022-02-14T19:52:18.370Z"
   },
   {
    "duration": 5,
    "start_time": "2022-02-14T19:52:18.437Z"
   },
   {
    "duration": 26,
    "start_time": "2022-02-14T19:52:18.444Z"
   },
   {
    "duration": 25,
    "start_time": "2022-02-14T19:52:18.472Z"
   },
   {
    "duration": 5,
    "start_time": "2022-02-14T19:52:18.519Z"
   },
   {
    "duration": 26,
    "start_time": "2022-02-14T19:52:18.525Z"
   },
   {
    "duration": 21,
    "start_time": "2022-02-14T19:52:18.552Z"
   },
   {
    "duration": 14,
    "start_time": "2022-02-14T19:52:18.575Z"
   },
   {
    "duration": 32,
    "start_time": "2022-02-14T19:52:18.590Z"
   },
   {
    "duration": 38,
    "start_time": "2022-02-14T19:52:18.623Z"
   },
   {
    "duration": 23,
    "start_time": "2022-02-14T19:52:18.662Z"
   },
   {
    "duration": 34,
    "start_time": "2022-02-14T19:52:18.687Z"
   },
   {
    "duration": 15,
    "start_time": "2022-02-14T19:52:18.723Z"
   },
   {
    "duration": 14,
    "start_time": "2022-02-14T19:52:18.740Z"
   },
   {
    "duration": 9,
    "start_time": "2022-02-14T19:52:18.756Z"
   },
   {
    "duration": 17,
    "start_time": "2022-02-14T19:52:18.767Z"
   },
   {
    "duration": 37,
    "start_time": "2022-02-14T19:52:18.786Z"
   },
   {
    "duration": 5,
    "start_time": "2022-02-14T19:52:18.825Z"
   },
   {
    "duration": 100,
    "start_time": "2022-02-14T19:52:18.831Z"
   },
   {
    "duration": 4,
    "start_time": "2022-02-14T19:52:18.933Z"
   },
   {
    "duration": 95,
    "start_time": "2022-02-14T19:52:18.939Z"
   },
   {
    "duration": 4,
    "start_time": "2022-02-14T19:52:19.036Z"
   },
   {
    "duration": 94,
    "start_time": "2022-02-14T19:52:19.042Z"
   },
   {
    "duration": 3,
    "start_time": "2022-02-14T19:52:19.138Z"
   },
   {
    "duration": 128,
    "start_time": "2022-02-14T19:52:19.143Z"
   },
   {
    "duration": 10,
    "start_time": "2022-02-14T19:52:19.272Z"
   },
   {
    "duration": 9,
    "start_time": "2022-02-14T19:52:19.284Z"
   },
   {
    "duration": 24,
    "start_time": "2022-02-14T19:52:19.295Z"
   },
   {
    "duration": 20,
    "start_time": "2022-02-14T19:52:19.322Z"
   },
   {
    "duration": 10,
    "start_time": "2022-02-14T19:52:19.344Z"
   },
   {
    "duration": 622,
    "start_time": "2022-02-14T20:15:07.666Z"
   },
   {
    "duration": 393,
    "start_time": "2022-02-14T20:15:16.528Z"
   },
   {
    "duration": 714,
    "start_time": "2022-02-14T20:15:46.485Z"
   },
   {
    "duration": 446,
    "start_time": "2022-02-14T20:16:14.434Z"
   },
   {
    "duration": 73,
    "start_time": "2022-02-14T20:36:16.761Z"
   },
   {
    "duration": 378,
    "start_time": "2022-02-15T09:16:30.630Z"
   },
   {
    "duration": 1503,
    "start_time": "2022-02-15T09:16:35.258Z"
   },
   {
    "duration": 503,
    "start_time": "2022-02-15T09:16:36.764Z"
   },
   {
    "duration": 16,
    "start_time": "2022-02-15T09:16:37.270Z"
   },
   {
    "duration": 34,
    "start_time": "2022-02-15T09:16:37.289Z"
   },
   {
    "duration": 163,
    "start_time": "2022-02-15T09:16:37.326Z"
   },
   {
    "duration": 13,
    "start_time": "2022-02-15T09:16:37.492Z"
   },
   {
    "duration": 34,
    "start_time": "2022-02-15T09:16:37.507Z"
   },
   {
    "duration": 126,
    "start_time": "2022-02-15T09:16:37.544Z"
   },
   {
    "duration": 10,
    "start_time": "2022-02-15T09:16:37.673Z"
   },
   {
    "duration": 23,
    "start_time": "2022-02-15T09:16:37.685Z"
   },
   {
    "duration": 97,
    "start_time": "2022-02-15T09:16:37.711Z"
   },
   {
    "duration": 12,
    "start_time": "2022-02-15T09:16:37.811Z"
   },
   {
    "duration": 13,
    "start_time": "2022-02-15T09:16:37.825Z"
   },
   {
    "duration": 40,
    "start_time": "2022-02-15T09:16:37.841Z"
   },
   {
    "duration": 14,
    "start_time": "2022-02-15T09:16:37.883Z"
   },
   {
    "duration": 35,
    "start_time": "2022-02-15T09:16:37.899Z"
   },
   {
    "duration": 87,
    "start_time": "2022-02-15T09:16:37.936Z"
   },
   {
    "duration": 11,
    "start_time": "2022-02-15T09:16:38.026Z"
   },
   {
    "duration": 42,
    "start_time": "2022-02-15T09:16:38.040Z"
   },
   {
    "duration": 19,
    "start_time": "2022-02-15T09:16:38.085Z"
   },
   {
    "duration": 71,
    "start_time": "2022-02-15T09:16:38.107Z"
   },
   {
    "duration": 15,
    "start_time": "2022-02-15T09:16:38.181Z"
   },
   {
    "duration": 39,
    "start_time": "2022-02-15T09:16:38.202Z"
   },
   {
    "duration": 8,
    "start_time": "2022-02-15T09:16:38.270Z"
   },
   {
    "duration": 22,
    "start_time": "2022-02-15T09:16:38.280Z"
   },
   {
    "duration": 56,
    "start_time": "2022-02-15T09:16:38.304Z"
   },
   {
    "duration": 49,
    "start_time": "2022-02-15T09:16:38.363Z"
   },
   {
    "duration": 6,
    "start_time": "2022-02-15T09:16:38.414Z"
   },
   {
    "duration": 60,
    "start_time": "2022-02-15T09:16:38.422Z"
   },
   {
    "duration": 32,
    "start_time": "2022-02-15T09:16:38.484Z"
   },
   {
    "duration": 6,
    "start_time": "2022-02-15T09:16:38.518Z"
   },
   {
    "duration": 62,
    "start_time": "2022-02-15T09:16:38.526Z"
   },
   {
    "duration": 28,
    "start_time": "2022-02-15T09:16:38.590Z"
   },
   {
    "duration": 16,
    "start_time": "2022-02-15T09:16:38.621Z"
   },
   {
    "duration": 30,
    "start_time": "2022-02-15T09:16:38.640Z"
   },
   {
    "duration": 44,
    "start_time": "2022-02-15T09:16:38.673Z"
   },
   {
    "duration": 33,
    "start_time": "2022-02-15T09:16:38.719Z"
   },
   {
    "duration": 24,
    "start_time": "2022-02-15T09:16:38.754Z"
   },
   {
    "duration": 40,
    "start_time": "2022-02-15T09:16:38.780Z"
   },
   {
    "duration": 29,
    "start_time": "2022-02-15T09:16:38.822Z"
   },
   {
    "duration": 29,
    "start_time": "2022-02-15T09:16:38.854Z"
   },
   {
    "duration": 35,
    "start_time": "2022-02-15T09:16:38.885Z"
   },
   {
    "duration": 31,
    "start_time": "2022-02-15T09:16:38.922Z"
   },
   {
    "duration": 27,
    "start_time": "2022-02-15T09:16:38.955Z"
   },
   {
    "duration": 168,
    "start_time": "2022-02-15T09:16:38.984Z"
   },
   {
    "duration": 15,
    "start_time": "2022-02-15T09:16:39.155Z"
   },
   {
    "duration": 155,
    "start_time": "2022-02-15T09:16:39.173Z"
   },
   {
    "duration": 5,
    "start_time": "2022-02-15T09:16:39.330Z"
   },
   {
    "duration": 149,
    "start_time": "2022-02-15T09:16:39.337Z"
   },
   {
    "duration": 4,
    "start_time": "2022-02-15T09:16:39.488Z"
   },
   {
    "duration": 234,
    "start_time": "2022-02-15T09:16:39.495Z"
   },
   {
    "duration": 12,
    "start_time": "2022-02-15T09:16:39.731Z"
   },
   {
    "duration": 39,
    "start_time": "2022-02-15T09:16:39.746Z"
   },
   {
    "duration": 15,
    "start_time": "2022-02-15T09:16:39.788Z"
   },
   {
    "duration": 48,
    "start_time": "2022-02-15T09:16:39.806Z"
   },
   {
    "duration": 30,
    "start_time": "2022-02-15T09:16:39.858Z"
   },
   {
    "duration": 1381,
    "start_time": "2022-02-15T09:16:39.891Z"
   },
   {
    "duration": 1378,
    "start_time": "2022-02-15T09:16:46.561Z"
   },
   {
    "duration": 1615,
    "start_time": "2022-02-15T10:07:41.846Z"
   },
   {
    "duration": 515,
    "start_time": "2022-02-15T10:07:43.464Z"
   },
   {
    "duration": 21,
    "start_time": "2022-02-15T10:07:43.983Z"
   },
   {
    "duration": 30,
    "start_time": "2022-02-15T10:07:44.008Z"
   },
   {
    "duration": 159,
    "start_time": "2022-02-15T10:07:44.042Z"
   },
   {
    "duration": 12,
    "start_time": "2022-02-15T10:07:44.204Z"
   },
   {
    "duration": 28,
    "start_time": "2022-02-15T10:07:44.218Z"
   },
   {
    "duration": 111,
    "start_time": "2022-02-15T10:07:44.271Z"
   },
   {
    "duration": 10,
    "start_time": "2022-02-15T10:07:44.385Z"
   },
   {
    "duration": 20,
    "start_time": "2022-02-15T10:07:44.398Z"
   },
   {
    "duration": 91,
    "start_time": "2022-02-15T10:07:44.421Z"
   },
   {
    "duration": 13,
    "start_time": "2022-02-15T10:07:44.514Z"
   },
   {
    "duration": 12,
    "start_time": "2022-02-15T10:07:44.529Z"
   },
   {
    "duration": 16,
    "start_time": "2022-02-15T10:07:44.568Z"
   },
   {
    "duration": 13,
    "start_time": "2022-02-15T10:07:44.586Z"
   },
   {
    "duration": 33,
    "start_time": "2022-02-15T10:07:44.602Z"
   },
   {
    "duration": 93,
    "start_time": "2022-02-15T10:07:44.637Z"
   },
   {
    "duration": 11,
    "start_time": "2022-02-15T10:07:44.732Z"
   },
   {
    "duration": 22,
    "start_time": "2022-02-15T10:07:44.770Z"
   },
   {
    "duration": 28,
    "start_time": "2022-02-15T10:07:44.794Z"
   },
   {
    "duration": 68,
    "start_time": "2022-02-15T10:07:44.825Z"
   },
   {
    "duration": 14,
    "start_time": "2022-02-15T10:07:44.895Z"
   },
   {
    "duration": 64,
    "start_time": "2022-02-15T10:07:44.915Z"
   },
   {
    "duration": 7,
    "start_time": "2022-02-15T10:07:44.982Z"
   },
   {
    "duration": 22,
    "start_time": "2022-02-15T10:07:44.992Z"
   },
   {
    "duration": 70,
    "start_time": "2022-02-15T10:07:45.017Z"
   },
   {
    "duration": 47,
    "start_time": "2022-02-15T10:07:45.090Z"
   },
   {
    "duration": 5,
    "start_time": "2022-02-15T10:07:45.140Z"
   },
   {
    "duration": 29,
    "start_time": "2022-02-15T10:07:45.170Z"
   },
   {
    "duration": 31,
    "start_time": "2022-02-15T10:07:45.201Z"
   },
   {
    "duration": 5,
    "start_time": "2022-02-15T10:07:45.235Z"
   },
   {
    "duration": 34,
    "start_time": "2022-02-15T10:07:45.270Z"
   },
   {
    "duration": 29,
    "start_time": "2022-02-15T10:07:45.306Z"
   },
   {
    "duration": 44,
    "start_time": "2022-02-15T10:07:45.337Z"
   },
   {
    "duration": 11,
    "start_time": "2022-02-15T10:07:45.383Z"
   },
   {
    "duration": 39,
    "start_time": "2022-02-15T10:07:45.397Z"
   },
   {
    "duration": 56,
    "start_time": "2022-02-15T10:07:45.439Z"
   },
   {
    "duration": 15,
    "start_time": "2022-02-15T10:07:45.498Z"
   },
   {
    "duration": 28,
    "start_time": "2022-02-15T10:07:45.516Z"
   },
   {
    "duration": 13,
    "start_time": "2022-02-15T10:07:45.570Z"
   },
   {
    "duration": 20,
    "start_time": "2022-02-15T10:07:45.585Z"
   },
   {
    "duration": 23,
    "start_time": "2022-02-15T10:07:45.607Z"
   },
   {
    "duration": 20,
    "start_time": "2022-02-15T10:07:45.633Z"
   },
   {
    "duration": 8,
    "start_time": "2022-02-15T10:07:45.671Z"
   },
   {
    "duration": 160,
    "start_time": "2022-02-15T10:07:45.682Z"
   },
   {
    "duration": 6,
    "start_time": "2022-02-15T10:07:45.846Z"
   },
   {
    "duration": 141,
    "start_time": "2022-02-15T10:07:45.870Z"
   },
   {
    "duration": 5,
    "start_time": "2022-02-15T10:07:46.014Z"
   },
   {
    "duration": 153,
    "start_time": "2022-02-15T10:07:46.021Z"
   },
   {
    "duration": 4,
    "start_time": "2022-02-15T10:07:46.177Z"
   },
   {
    "duration": 209,
    "start_time": "2022-02-15T10:07:46.183Z"
   },
   {
    "duration": 11,
    "start_time": "2022-02-15T10:07:46.395Z"
   },
   {
    "duration": 10,
    "start_time": "2022-02-15T10:07:46.408Z"
   },
   {
    "duration": 11,
    "start_time": "2022-02-15T10:07:46.420Z"
   },
   {
    "duration": 45,
    "start_time": "2022-02-15T10:07:46.434Z"
   },
   {
    "duration": 9,
    "start_time": "2022-02-15T10:07:46.481Z"
   },
   {
    "duration": 1468,
    "start_time": "2022-02-15T10:07:46.492Z"
   },
   {
    "duration": 745,
    "start_time": "2022-02-15T10:12:58.843Z"
   },
   {
    "duration": 6,
    "start_time": "2022-02-15T10:13:48.955Z"
   },
   {
    "duration": 7,
    "start_time": "2022-02-15T10:13:51.327Z"
   },
   {
    "duration": 90,
    "start_time": "2022-02-15T10:20:59.759Z"
   },
   {
    "duration": 655,
    "start_time": "2022-02-15T10:21:13.611Z"
   },
   {
    "duration": 979,
    "start_time": "2022-02-15T10:21:25.699Z"
   },
   {
    "duration": 1693,
    "start_time": "2022-02-15T10:24:59.909Z"
   },
   {
    "duration": 1518,
    "start_time": "2022-02-15T12:04:26.558Z"
   },
   {
    "duration": 553,
    "start_time": "2022-02-15T12:04:28.078Z"
   },
   {
    "duration": 18,
    "start_time": "2022-02-15T12:04:28.634Z"
   },
   {
    "duration": 49,
    "start_time": "2022-02-15T12:04:28.655Z"
   },
   {
    "duration": 144,
    "start_time": "2022-02-15T12:04:28.706Z"
   },
   {
    "duration": 21,
    "start_time": "2022-02-15T12:04:28.852Z"
   },
   {
    "duration": 28,
    "start_time": "2022-02-15T12:04:28.876Z"
   },
   {
    "duration": 124,
    "start_time": "2022-02-15T12:04:28.908Z"
   },
   {
    "duration": 11,
    "start_time": "2022-02-15T12:04:29.035Z"
   },
   {
    "duration": 40,
    "start_time": "2022-02-15T12:04:29.049Z"
   },
   {
    "duration": 86,
    "start_time": "2022-02-15T12:04:29.091Z"
   },
   {
    "duration": 12,
    "start_time": "2022-02-15T12:04:29.180Z"
   },
   {
    "duration": 9,
    "start_time": "2022-02-15T12:04:29.195Z"
   },
   {
    "duration": 21,
    "start_time": "2022-02-15T12:04:29.206Z"
   },
   {
    "duration": 45,
    "start_time": "2022-02-15T12:04:29.230Z"
   },
   {
    "duration": 38,
    "start_time": "2022-02-15T12:04:29.277Z"
   },
   {
    "duration": 78,
    "start_time": "2022-02-15T12:04:29.317Z"
   },
   {
    "duration": 11,
    "start_time": "2022-02-15T12:04:29.397Z"
   },
   {
    "duration": 23,
    "start_time": "2022-02-15T12:04:29.411Z"
   },
   {
    "duration": 52,
    "start_time": "2022-02-15T12:04:29.437Z"
   },
   {
    "duration": 44,
    "start_time": "2022-02-15T12:04:29.492Z"
   },
   {
    "duration": 45,
    "start_time": "2022-02-15T12:04:29.539Z"
   },
   {
    "duration": 41,
    "start_time": "2022-02-15T12:04:29.592Z"
   },
   {
    "duration": 37,
    "start_time": "2022-02-15T12:04:29.638Z"
   },
   {
    "duration": 18,
    "start_time": "2022-02-15T12:04:29.678Z"
   },
   {
    "duration": 77,
    "start_time": "2022-02-15T12:04:29.699Z"
   },
   {
    "duration": 46,
    "start_time": "2022-02-15T12:04:29.779Z"
   },
   {
    "duration": 7,
    "start_time": "2022-02-15T12:04:29.828Z"
   },
   {
    "duration": 60,
    "start_time": "2022-02-15T12:04:29.838Z"
   },
   {
    "duration": 33,
    "start_time": "2022-02-15T12:04:29.901Z"
   },
   {
    "duration": 6,
    "start_time": "2022-02-15T12:04:29.969Z"
   },
   {
    "duration": 41,
    "start_time": "2022-02-15T12:04:29.977Z"
   },
   {
    "duration": 53,
    "start_time": "2022-02-15T12:04:30.020Z"
   },
   {
    "duration": 15,
    "start_time": "2022-02-15T12:04:30.076Z"
   },
   {
    "duration": 6,
    "start_time": "2022-02-15T12:04:30.093Z"
   },
   {
    "duration": 68,
    "start_time": "2022-02-15T12:04:30.101Z"
   },
   {
    "duration": 37,
    "start_time": "2022-02-15T12:04:30.172Z"
   },
   {
    "duration": 13,
    "start_time": "2022-02-15T12:04:30.211Z"
   },
   {
    "duration": 51,
    "start_time": "2022-02-15T12:04:30.227Z"
   },
   {
    "duration": 18,
    "start_time": "2022-02-15T12:04:30.280Z"
   },
   {
    "duration": 10,
    "start_time": "2022-02-15T12:04:30.300Z"
   },
   {
    "duration": 26,
    "start_time": "2022-02-15T12:04:30.312Z"
   },
   {
    "duration": 44,
    "start_time": "2022-02-15T12:04:30.340Z"
   },
   {
    "duration": 6,
    "start_time": "2022-02-15T12:04:30.386Z"
   },
   {
    "duration": 155,
    "start_time": "2022-02-15T12:04:30.394Z"
   },
   {
    "duration": 5,
    "start_time": "2022-02-15T12:04:30.551Z"
   },
   {
    "duration": 151,
    "start_time": "2022-02-15T12:04:30.558Z"
   },
   {
    "duration": 5,
    "start_time": "2022-02-15T12:04:30.712Z"
   },
   {
    "duration": 153,
    "start_time": "2022-02-15T12:04:30.719Z"
   },
   {
    "duration": 4,
    "start_time": "2022-02-15T12:04:30.875Z"
   },
   {
    "duration": 313,
    "start_time": "2022-02-15T12:04:30.882Z"
   },
   {
    "duration": 12,
    "start_time": "2022-02-15T12:04:31.197Z"
   },
   {
    "duration": 11,
    "start_time": "2022-02-15T12:04:31.211Z"
   },
   {
    "duration": 45,
    "start_time": "2022-02-15T12:04:31.225Z"
   },
   {
    "duration": 12,
    "start_time": "2022-02-15T12:04:31.273Z"
   },
   {
    "duration": 27,
    "start_time": "2022-02-15T12:04:31.287Z"
   },
   {
    "duration": 662,
    "start_time": "2022-02-15T12:04:35.716Z"
   },
   {
    "duration": 504,
    "start_time": "2022-02-15T12:05:08.797Z"
   },
   {
    "duration": 341,
    "start_time": "2022-02-15T12:08:32.464Z"
   },
   {
    "duration": 563,
    "start_time": "2022-02-15T12:08:55.664Z"
   },
   {
    "duration": 1232,
    "start_time": "2022-02-15T12:09:27.931Z"
   },
   {
    "duration": 429,
    "start_time": "2022-02-15T12:10:19.601Z"
   },
   {
    "duration": 436,
    "start_time": "2022-02-15T12:10:54.347Z"
   },
   {
    "duration": 445,
    "start_time": "2022-02-15T12:11:11.761Z"
   },
   {
    "duration": 431,
    "start_time": "2022-02-15T12:16:10.282Z"
   },
   {
    "duration": 426,
    "start_time": "2022-02-15T12:16:22.545Z"
   },
   {
    "duration": 4,
    "start_time": "2022-02-15T12:38:43.817Z"
   },
   {
    "duration": 553,
    "start_time": "2022-02-15T12:38:43.825Z"
   },
   {
    "duration": 14,
    "start_time": "2022-02-15T12:38:44.381Z"
   },
   {
    "duration": 30,
    "start_time": "2022-02-15T12:38:44.398Z"
   },
   {
    "duration": 164,
    "start_time": "2022-02-15T12:38:44.431Z"
   },
   {
    "duration": 12,
    "start_time": "2022-02-15T12:38:44.598Z"
   },
   {
    "duration": 24,
    "start_time": "2022-02-15T12:38:44.614Z"
   },
   {
    "duration": 132,
    "start_time": "2022-02-15T12:38:44.642Z"
   },
   {
    "duration": 13,
    "start_time": "2022-02-15T12:38:44.777Z"
   },
   {
    "duration": 23,
    "start_time": "2022-02-15T12:38:44.792Z"
   },
   {
    "duration": 94,
    "start_time": "2022-02-15T12:38:44.818Z"
   },
   {
    "duration": 13,
    "start_time": "2022-02-15T12:38:44.916Z"
   },
   {
    "duration": 37,
    "start_time": "2022-02-15T12:38:44.932Z"
   },
   {
    "duration": 16,
    "start_time": "2022-02-15T12:38:44.972Z"
   },
   {
    "duration": 10,
    "start_time": "2022-02-15T12:38:44.991Z"
   },
   {
    "duration": 31,
    "start_time": "2022-02-15T12:38:45.004Z"
   },
   {
    "duration": 90,
    "start_time": "2022-02-15T12:38:45.038Z"
   },
   {
    "duration": 12,
    "start_time": "2022-02-15T12:38:45.131Z"
   },
   {
    "duration": 21,
    "start_time": "2022-02-15T12:38:45.170Z"
   },
   {
    "duration": 20,
    "start_time": "2022-02-15T12:38:45.195Z"
   },
   {
    "duration": 79,
    "start_time": "2022-02-15T12:38:45.218Z"
   },
   {
    "duration": 13,
    "start_time": "2022-02-15T12:38:45.299Z"
   },
   {
    "duration": 58,
    "start_time": "2022-02-15T12:38:45.316Z"
   },
   {
    "duration": 10,
    "start_time": "2022-02-15T12:38:45.378Z"
   },
   {
    "duration": 17,
    "start_time": "2022-02-15T12:38:45.391Z"
   },
   {
    "duration": 79,
    "start_time": "2022-02-15T12:38:45.411Z"
   },
   {
    "duration": 46,
    "start_time": "2022-02-15T12:38:45.493Z"
   },
   {
    "duration": 33,
    "start_time": "2022-02-15T12:38:45.542Z"
   },
   {
    "duration": 34,
    "start_time": "2022-02-15T12:38:45.578Z"
   },
   {
    "duration": 29,
    "start_time": "2022-02-15T12:38:45.615Z"
   },
   {
    "duration": 9,
    "start_time": "2022-02-15T12:38:45.670Z"
   },
   {
    "duration": 40,
    "start_time": "2022-02-15T12:38:45.682Z"
   },
   {
    "duration": 64,
    "start_time": "2022-02-15T12:38:45.725Z"
   },
   {
    "duration": 11,
    "start_time": "2022-02-15T12:38:45.791Z"
   },
   {
    "duration": 7,
    "start_time": "2022-02-15T12:38:45.805Z"
   },
   {
    "duration": 62,
    "start_time": "2022-02-15T12:38:45.815Z"
   },
   {
    "duration": 36,
    "start_time": "2022-02-15T12:38:45.880Z"
   },
   {
    "duration": 12,
    "start_time": "2022-02-15T12:38:45.919Z"
   },
   {
    "duration": 50,
    "start_time": "2022-02-15T12:38:45.934Z"
   },
   {
    "duration": 26,
    "start_time": "2022-02-15T12:38:45.988Z"
   },
   {
    "duration": 11,
    "start_time": "2022-02-15T12:38:46.017Z"
   },
   {
    "duration": 46,
    "start_time": "2022-02-15T12:38:46.031Z"
   },
   {
    "duration": 24,
    "start_time": "2022-02-15T12:38:46.080Z"
   },
   {
    "duration": 7,
    "start_time": "2022-02-15T12:38:46.107Z"
   },
   {
    "duration": 200,
    "start_time": "2022-02-15T12:38:46.117Z"
   },
   {
    "duration": 5,
    "start_time": "2022-02-15T12:38:46.320Z"
   },
   {
    "duration": 158,
    "start_time": "2022-02-15T12:38:46.328Z"
   },
   {
    "duration": 5,
    "start_time": "2022-02-15T12:38:46.488Z"
   },
   {
    "duration": 168,
    "start_time": "2022-02-15T12:38:46.496Z"
   },
   {
    "duration": 5,
    "start_time": "2022-02-15T12:38:46.669Z"
   },
   {
    "duration": 463,
    "start_time": "2022-02-15T12:38:46.677Z"
   },
   {
    "duration": 29,
    "start_time": "2022-02-15T12:38:47.143Z"
   },
   {
    "duration": 14,
    "start_time": "2022-02-15T12:38:47.175Z"
   },
   {
    "duration": 15,
    "start_time": "2022-02-15T12:38:47.192Z"
   },
   {
    "duration": 17,
    "start_time": "2022-02-15T12:38:47.216Z"
   },
   {
    "duration": 46,
    "start_time": "2022-02-15T12:38:47.235Z"
   },
   {
    "duration": 487,
    "start_time": "2022-02-15T12:38:47.285Z"
   },
   {
    "duration": 1216,
    "start_time": "2022-02-15T13:29:55.807Z"
   },
   {
    "duration": 424,
    "start_time": "2022-02-15T13:29:57.025Z"
   },
   {
    "duration": 13,
    "start_time": "2022-02-15T13:29:57.451Z"
   },
   {
    "duration": 25,
    "start_time": "2022-02-15T13:29:57.466Z"
   },
   {
    "duration": 109,
    "start_time": "2022-02-15T13:29:57.493Z"
   },
   {
    "duration": 11,
    "start_time": "2022-02-15T13:29:57.605Z"
   },
   {
    "duration": 22,
    "start_time": "2022-02-15T13:29:57.618Z"
   },
   {
    "duration": 86,
    "start_time": "2022-02-15T13:29:57.642Z"
   },
   {
    "duration": 7,
    "start_time": "2022-02-15T13:29:57.730Z"
   },
   {
    "duration": 32,
    "start_time": "2022-02-15T13:29:57.738Z"
   },
   {
    "duration": 48,
    "start_time": "2022-02-15T13:29:57.772Z"
   },
   {
    "duration": 8,
    "start_time": "2022-02-15T13:29:57.822Z"
   },
   {
    "duration": 7,
    "start_time": "2022-02-15T13:29:57.832Z"
   },
   {
    "duration": 36,
    "start_time": "2022-02-15T13:29:57.841Z"
   },
   {
    "duration": 8,
    "start_time": "2022-02-15T13:29:57.879Z"
   },
   {
    "duration": 30,
    "start_time": "2022-02-15T13:29:57.889Z"
   },
   {
    "duration": 67,
    "start_time": "2022-02-15T13:29:57.920Z"
   },
   {
    "duration": 8,
    "start_time": "2022-02-15T13:29:57.989Z"
   },
   {
    "duration": 17,
    "start_time": "2022-02-15T13:29:57.998Z"
   },
   {
    "duration": 13,
    "start_time": "2022-02-15T13:29:58.017Z"
   },
   {
    "duration": 56,
    "start_time": "2022-02-15T13:29:58.032Z"
   },
   {
    "duration": 11,
    "start_time": "2022-02-15T13:29:58.090Z"
   },
   {
    "duration": 28,
    "start_time": "2022-02-15T13:29:58.104Z"
   },
   {
    "duration": 5,
    "start_time": "2022-02-15T13:29:58.134Z"
   },
   {
    "duration": 10,
    "start_time": "2022-02-15T13:29:58.170Z"
   },
   {
    "duration": 31,
    "start_time": "2022-02-15T13:29:58.182Z"
   },
   {
    "duration": 54,
    "start_time": "2022-02-15T13:29:58.215Z"
   },
   {
    "duration": 4,
    "start_time": "2022-02-15T13:29:58.271Z"
   },
   {
    "duration": 27,
    "start_time": "2022-02-15T13:29:58.277Z"
   },
   {
    "duration": 25,
    "start_time": "2022-02-15T13:29:58.306Z"
   },
   {
    "duration": 5,
    "start_time": "2022-02-15T13:29:58.333Z"
   },
   {
    "duration": 51,
    "start_time": "2022-02-15T13:29:58.340Z"
   },
   {
    "duration": 23,
    "start_time": "2022-02-15T13:29:58.393Z"
   },
   {
    "duration": 10,
    "start_time": "2022-02-15T13:29:58.418Z"
   },
   {
    "duration": 41,
    "start_time": "2022-02-15T13:29:58.429Z"
   },
   {
    "duration": 23,
    "start_time": "2022-02-15T13:29:58.473Z"
   },
   {
    "duration": 24,
    "start_time": "2022-02-15T13:29:58.498Z"
   },
   {
    "duration": 9,
    "start_time": "2022-02-15T13:29:58.524Z"
   },
   {
    "duration": 47,
    "start_time": "2022-02-15T13:29:58.535Z"
   },
   {
    "duration": 26,
    "start_time": "2022-02-15T13:29:58.584Z"
   },
   {
    "duration": 10,
    "start_time": "2022-02-15T13:29:58.612Z"
   },
   {
    "duration": 22,
    "start_time": "2022-02-15T13:29:58.624Z"
   },
   {
    "duration": 25,
    "start_time": "2022-02-15T13:29:58.647Z"
   },
   {
    "duration": 21,
    "start_time": "2022-02-15T13:29:58.674Z"
   },
   {
    "duration": 105,
    "start_time": "2022-02-15T13:29:58.697Z"
   },
   {
    "duration": 3,
    "start_time": "2022-02-15T13:29:58.804Z"
   },
   {
    "duration": 94,
    "start_time": "2022-02-15T13:29:58.809Z"
   },
   {
    "duration": 4,
    "start_time": "2022-02-15T13:29:58.905Z"
   },
   {
    "duration": 92,
    "start_time": "2022-02-15T13:29:58.911Z"
   },
   {
    "duration": 3,
    "start_time": "2022-02-15T13:29:59.004Z"
   },
   {
    "duration": 122,
    "start_time": "2022-02-15T13:29:59.009Z"
   },
   {
    "duration": 8,
    "start_time": "2022-02-15T13:29:59.133Z"
   },
   {
    "duration": 9,
    "start_time": "2022-02-15T13:29:59.142Z"
   },
   {
    "duration": 8,
    "start_time": "2022-02-15T13:29:59.169Z"
   },
   {
    "duration": 12,
    "start_time": "2022-02-15T13:29:59.179Z"
   },
   {
    "duration": 8,
    "start_time": "2022-02-15T13:29:59.192Z"
   },
   {
    "duration": 329,
    "start_time": "2022-02-15T13:29:59.202Z"
   },
   {
    "duration": 3,
    "start_time": "2022-02-15T13:43:50.213Z"
   },
   {
    "duration": 444,
    "start_time": "2022-02-15T13:43:50.218Z"
   },
   {
    "duration": 9,
    "start_time": "2022-02-15T13:43:50.664Z"
   },
   {
    "duration": 26,
    "start_time": "2022-02-15T13:43:50.674Z"
   },
   {
    "duration": 107,
    "start_time": "2022-02-15T13:43:50.701Z"
   },
   {
    "duration": 9,
    "start_time": "2022-02-15T13:43:50.810Z"
   },
   {
    "duration": 22,
    "start_time": "2022-02-15T13:43:50.821Z"
   },
   {
    "duration": 74,
    "start_time": "2022-02-15T13:43:50.845Z"
   },
   {
    "duration": 8,
    "start_time": "2022-02-15T13:43:50.920Z"
   },
   {
    "duration": 19,
    "start_time": "2022-02-15T13:43:50.929Z"
   },
   {
    "duration": 66,
    "start_time": "2022-02-15T13:43:50.950Z"
   },
   {
    "duration": 9,
    "start_time": "2022-02-15T13:43:51.018Z"
   },
   {
    "duration": 13,
    "start_time": "2022-02-15T13:43:51.029Z"
   },
   {
    "duration": 34,
    "start_time": "2022-02-15T13:43:51.044Z"
   },
   {
    "duration": 11,
    "start_time": "2022-02-15T13:43:51.080Z"
   },
   {
    "duration": 21,
    "start_time": "2022-02-15T13:43:51.092Z"
   },
   {
    "duration": 66,
    "start_time": "2022-02-15T13:43:51.114Z"
   },
   {
    "duration": 9,
    "start_time": "2022-02-15T13:43:51.182Z"
   },
   {
    "duration": 19,
    "start_time": "2022-02-15T13:43:51.194Z"
   },
   {
    "duration": 14,
    "start_time": "2022-02-15T13:43:51.216Z"
   },
   {
    "duration": 59,
    "start_time": "2022-02-15T13:43:51.232Z"
   },
   {
    "duration": 10,
    "start_time": "2022-02-15T13:43:51.293Z"
   },
   {
    "duration": 29,
    "start_time": "2022-02-15T13:43:51.305Z"
   },
   {
    "duration": 5,
    "start_time": "2022-02-15T13:43:51.336Z"
   },
   {
    "duration": 37,
    "start_time": "2022-02-15T13:43:51.343Z"
   },
   {
    "duration": 32,
    "start_time": "2022-02-15T13:43:51.382Z"
   },
   {
    "duration": 54,
    "start_time": "2022-02-15T13:43:51.416Z"
   },
   {
    "duration": 5,
    "start_time": "2022-02-15T13:43:51.473Z"
   },
   {
    "duration": 30,
    "start_time": "2022-02-15T13:43:51.480Z"
   },
   {
    "duration": 23,
    "start_time": "2022-02-15T13:43:51.513Z"
   },
   {
    "duration": 34,
    "start_time": "2022-02-15T13:43:51.538Z"
   },
   {
    "duration": 35,
    "start_time": "2022-02-15T13:43:51.574Z"
   },
   {
    "duration": 21,
    "start_time": "2022-02-15T13:43:51.612Z"
   },
   {
    "duration": 9,
    "start_time": "2022-02-15T13:43:51.636Z"
   },
   {
    "duration": 27,
    "start_time": "2022-02-15T13:43:51.647Z"
   },
   {
    "duration": 29,
    "start_time": "2022-02-15T13:43:51.676Z"
   },
   {
    "duration": 24,
    "start_time": "2022-02-15T13:43:51.707Z"
   },
   {
    "duration": 36,
    "start_time": "2022-02-15T13:43:51.733Z"
   },
   {
    "duration": 18,
    "start_time": "2022-02-15T13:43:51.772Z"
   },
   {
    "duration": 12,
    "start_time": "2022-02-15T13:43:51.792Z"
   },
   {
    "duration": 9,
    "start_time": "2022-02-15T13:43:51.806Z"
   },
   {
    "duration": 13,
    "start_time": "2022-02-15T13:43:51.817Z"
   },
   {
    "duration": 15,
    "start_time": "2022-02-15T13:43:51.870Z"
   },
   {
    "duration": 10,
    "start_time": "2022-02-15T13:43:51.887Z"
   },
   {
    "duration": 106,
    "start_time": "2022-02-15T13:43:51.899Z"
   },
   {
    "duration": 5,
    "start_time": "2022-02-15T13:43:52.007Z"
   },
   {
    "duration": 108,
    "start_time": "2022-02-15T13:43:52.014Z"
   },
   {
    "duration": 6,
    "start_time": "2022-02-15T13:43:52.124Z"
   },
   {
    "duration": 105,
    "start_time": "2022-02-15T13:43:52.132Z"
   },
   {
    "duration": 4,
    "start_time": "2022-02-15T13:43:52.240Z"
   },
   {
    "duration": 138,
    "start_time": "2022-02-15T13:43:52.246Z"
   },
   {
    "duration": 10,
    "start_time": "2022-02-15T13:43:52.386Z"
   },
   {
    "duration": 9,
    "start_time": "2022-02-15T13:43:52.398Z"
   },
   {
    "duration": 10,
    "start_time": "2022-02-15T13:43:52.409Z"
   },
   {
    "duration": 44,
    "start_time": "2022-02-15T13:43:52.425Z"
   },
   {
    "duration": 8,
    "start_time": "2022-02-15T13:43:52.472Z"
   },
   {
    "duration": 335,
    "start_time": "2022-02-15T13:43:52.482Z"
   },
   {
    "duration": 331,
    "start_time": "2022-02-15T13:43:57.279Z"
   },
   {
    "duration": 883,
    "start_time": "2022-02-15T13:49:37.215Z"
   },
   {
    "duration": 297,
    "start_time": "2022-02-15T13:50:01.523Z"
   },
   {
    "duration": 289,
    "start_time": "2022-02-15T13:50:23.955Z"
   },
   {
    "duration": 292,
    "start_time": "2022-02-15T13:50:38.323Z"
   },
   {
    "duration": 322,
    "start_time": "2022-02-15T13:50:56.972Z"
   },
   {
    "duration": 285,
    "start_time": "2022-02-15T13:51:04.731Z"
   },
   {
    "duration": 284,
    "start_time": "2022-02-15T13:51:30.170Z"
   },
   {
    "duration": 295,
    "start_time": "2022-02-15T13:58:05.921Z"
   },
   {
    "duration": 313,
    "start_time": "2022-02-15T13:59:01.498Z"
   },
   {
    "duration": 379,
    "start_time": "2022-02-15T14:00:04.762Z"
   },
   {
    "duration": 317,
    "start_time": "2022-02-15T14:27:09.752Z"
   },
   {
    "duration": 311,
    "start_time": "2022-02-15T14:28:46.415Z"
   },
   {
    "duration": 313,
    "start_time": "2022-02-15T14:29:58.862Z"
   },
   {
    "duration": 290,
    "start_time": "2022-02-15T14:30:50.163Z"
   },
   {
    "duration": 349,
    "start_time": "2022-02-15T14:31:10.839Z"
   },
   {
    "duration": 323,
    "start_time": "2022-02-15T14:31:19.537Z"
   },
   {
    "duration": 290,
    "start_time": "2022-02-15T14:31:31.815Z"
   },
   {
    "duration": 317,
    "start_time": "2022-02-15T14:31:40.611Z"
   },
   {
    "duration": 334,
    "start_time": "2022-02-15T14:31:48.433Z"
   },
   {
    "duration": 294,
    "start_time": "2022-02-15T14:31:57.770Z"
   },
   {
    "duration": 397,
    "start_time": "2022-02-15T14:32:17.878Z"
   },
   {
    "duration": 313,
    "start_time": "2022-02-15T14:32:27.902Z"
   },
   {
    "duration": 325,
    "start_time": "2022-02-15T14:32:55.119Z"
   },
   {
    "duration": 326,
    "start_time": "2022-02-15T14:33:10.172Z"
   },
   {
    "duration": 5,
    "start_time": "2022-02-15T14:52:51.501Z"
   },
   {
    "duration": 256,
    "start_time": "2022-02-15T14:52:53.084Z"
   },
   {
    "duration": 6,
    "start_time": "2022-02-15T14:53:04.380Z"
   },
   {
    "duration": 7,
    "start_time": "2022-02-15T14:54:22.351Z"
   },
   {
    "duration": 4,
    "start_time": "2022-02-15T14:59:45.858Z"
   },
   {
    "duration": 4,
    "start_time": "2022-02-15T14:59:47.054Z"
   },
   {
    "duration": 4,
    "start_time": "2022-02-15T15:01:36.741Z"
   },
   {
    "duration": 4,
    "start_time": "2022-02-15T15:01:38.699Z"
   },
   {
    "duration": 1224,
    "start_time": "2022-02-15T15:03:25.289Z"
   },
   {
    "duration": 428,
    "start_time": "2022-02-15T15:03:26.515Z"
   },
   {
    "duration": 12,
    "start_time": "2022-02-15T15:03:26.945Z"
   },
   {
    "duration": 26,
    "start_time": "2022-02-15T15:03:26.959Z"
   },
   {
    "duration": 108,
    "start_time": "2022-02-15T15:03:26.987Z"
   },
   {
    "duration": 10,
    "start_time": "2022-02-15T15:03:27.097Z"
   },
   {
    "duration": 19,
    "start_time": "2022-02-15T15:03:27.109Z"
   },
   {
    "duration": 93,
    "start_time": "2022-02-15T15:03:27.132Z"
   },
   {
    "duration": 8,
    "start_time": "2022-02-15T15:03:27.228Z"
   },
   {
    "duration": 31,
    "start_time": "2022-02-15T15:03:27.238Z"
   },
   {
    "duration": 48,
    "start_time": "2022-02-15T15:03:27.271Z"
   },
   {
    "duration": 9,
    "start_time": "2022-02-15T15:03:27.321Z"
   },
   {
    "duration": 10,
    "start_time": "2022-02-15T15:03:27.331Z"
   },
   {
    "duration": 34,
    "start_time": "2022-02-15T15:03:27.342Z"
   },
   {
    "duration": 6,
    "start_time": "2022-02-15T15:03:27.378Z"
   },
   {
    "duration": 28,
    "start_time": "2022-02-15T15:03:27.386Z"
   },
   {
    "duration": 70,
    "start_time": "2022-02-15T15:03:27.415Z"
   },
   {
    "duration": 8,
    "start_time": "2022-02-15T15:03:27.487Z"
   },
   {
    "duration": 19,
    "start_time": "2022-02-15T15:03:27.497Z"
   },
   {
    "duration": 13,
    "start_time": "2022-02-15T15:03:27.518Z"
   },
   {
    "duration": 59,
    "start_time": "2022-02-15T15:03:27.533Z"
   },
   {
    "duration": 11,
    "start_time": "2022-02-15T15:03:27.593Z"
   },
   {
    "duration": 32,
    "start_time": "2022-02-15T15:03:27.607Z"
   },
   {
    "duration": 5,
    "start_time": "2022-02-15T15:03:27.641Z"
   },
   {
    "duration": 10,
    "start_time": "2022-02-15T15:03:27.670Z"
   },
   {
    "duration": 31,
    "start_time": "2022-02-15T15:03:27.682Z"
   },
   {
    "duration": 54,
    "start_time": "2022-02-15T15:03:27.715Z"
   },
   {
    "duration": 5,
    "start_time": "2022-02-15T15:03:27.771Z"
   },
   {
    "duration": 24,
    "start_time": "2022-02-15T15:03:27.777Z"
   },
   {
    "duration": 24,
    "start_time": "2022-02-15T15:03:27.802Z"
   },
   {
    "duration": 4,
    "start_time": "2022-02-15T15:03:27.827Z"
   },
   {
    "duration": 53,
    "start_time": "2022-02-15T15:03:27.833Z"
   },
   {
    "duration": 20,
    "start_time": "2022-02-15T15:03:27.888Z"
   },
   {
    "duration": 8,
    "start_time": "2022-02-15T15:03:27.910Z"
   },
   {
    "duration": 4,
    "start_time": "2022-02-15T15:03:27.920Z"
   },
   {
    "duration": 53,
    "start_time": "2022-02-15T15:03:27.926Z"
   },
   {
    "duration": 24,
    "start_time": "2022-02-15T15:03:27.981Z"
   },
   {
    "duration": 9,
    "start_time": "2022-02-15T15:03:28.007Z"
   },
   {
    "duration": 15,
    "start_time": "2022-02-15T15:03:28.018Z"
   },
   {
    "duration": 44,
    "start_time": "2022-02-15T15:03:28.035Z"
   },
   {
    "duration": 8,
    "start_time": "2022-02-15T15:03:28.081Z"
   },
   {
    "duration": 9,
    "start_time": "2022-02-15T15:03:28.091Z"
   },
   {
    "duration": 13,
    "start_time": "2022-02-15T15:03:28.102Z"
   },
   {
    "duration": 5,
    "start_time": "2022-02-15T15:03:28.117Z"
   },
   {
    "duration": 131,
    "start_time": "2022-02-15T15:03:28.124Z"
   },
   {
    "duration": 14,
    "start_time": "2022-02-15T15:03:28.257Z"
   },
   {
    "duration": 98,
    "start_time": "2022-02-15T15:03:28.272Z"
   },
   {
    "duration": 3,
    "start_time": "2022-02-15T15:03:28.372Z"
   },
   {
    "duration": 98,
    "start_time": "2022-02-15T15:03:28.377Z"
   },
   {
    "duration": 3,
    "start_time": "2022-02-15T15:03:28.477Z"
   },
   {
    "duration": 136,
    "start_time": "2022-02-15T15:03:28.482Z"
   },
   {
    "duration": 8,
    "start_time": "2022-02-15T15:03:28.619Z"
   },
   {
    "duration": 10,
    "start_time": "2022-02-15T15:03:28.629Z"
   },
   {
    "duration": 7,
    "start_time": "2022-02-15T15:03:28.641Z"
   },
   {
    "duration": 26,
    "start_time": "2022-02-15T15:03:28.650Z"
   },
   {
    "duration": 9,
    "start_time": "2022-02-15T15:03:28.678Z"
   },
   {
    "duration": 8,
    "start_time": "2022-02-15T15:03:28.689Z"
   },
   {
    "duration": 6,
    "start_time": "2022-02-15T15:03:28.699Z"
   },
   {
    "duration": 330,
    "start_time": "2022-02-15T15:03:28.707Z"
   },
   {
    "duration": 294,
    "start_time": "2022-02-15T15:06:36.677Z"
   },
   {
    "duration": 663,
    "start_time": "2022-02-15T15:09:43.368Z"
   },
   {
    "duration": 380,
    "start_time": "2022-02-15T15:10:08.797Z"
   },
   {
    "duration": 674,
    "start_time": "2022-02-15T15:11:30.529Z"
   },
   {
    "duration": 653,
    "start_time": "2022-02-15T15:11:59.220Z"
   },
   {
    "duration": 466,
    "start_time": "2022-02-15T15:12:03.872Z"
   },
   {
    "duration": 444,
    "start_time": "2022-02-15T15:12:26.238Z"
   },
   {
    "duration": 390,
    "start_time": "2022-02-15T15:12:52.608Z"
   },
   {
    "duration": 306,
    "start_time": "2022-02-15T15:13:48.619Z"
   },
   {
    "duration": 8,
    "start_time": "2022-02-15T15:14:07.151Z"
   },
   {
    "duration": 457,
    "start_time": "2022-02-15T15:14:27.970Z"
   },
   {
    "duration": 448,
    "start_time": "2022-02-15T15:15:07.818Z"
   },
   {
    "duration": 1224,
    "start_time": "2022-02-15T15:17:53.966Z"
   },
   {
    "duration": 447,
    "start_time": "2022-02-15T15:17:55.192Z"
   },
   {
    "duration": 11,
    "start_time": "2022-02-15T15:17:55.641Z"
   },
   {
    "duration": 26,
    "start_time": "2022-02-15T15:17:55.654Z"
   },
   {
    "duration": 108,
    "start_time": "2022-02-15T15:17:55.682Z"
   },
   {
    "duration": 9,
    "start_time": "2022-02-15T15:17:55.792Z"
   },
   {
    "duration": 20,
    "start_time": "2022-02-15T15:17:55.802Z"
   },
   {
    "duration": 90,
    "start_time": "2022-02-15T15:17:55.825Z"
   },
   {
    "duration": 7,
    "start_time": "2022-02-15T15:17:55.918Z"
   },
   {
    "duration": 18,
    "start_time": "2022-02-15T15:17:55.927Z"
   },
   {
    "duration": 68,
    "start_time": "2022-02-15T15:17:55.947Z"
   },
   {
    "duration": 8,
    "start_time": "2022-02-15T15:17:56.017Z"
   },
   {
    "duration": 18,
    "start_time": "2022-02-15T15:17:56.027Z"
   },
   {
    "duration": 23,
    "start_time": "2022-02-15T15:17:56.047Z"
   },
   {
    "duration": 13,
    "start_time": "2022-02-15T15:17:56.072Z"
   },
   {
    "duration": 30,
    "start_time": "2022-02-15T15:17:56.087Z"
   },
   {
    "duration": 65,
    "start_time": "2022-02-15T15:17:56.119Z"
   },
   {
    "duration": 9,
    "start_time": "2022-02-15T15:17:56.186Z"
   },
   {
    "duration": 20,
    "start_time": "2022-02-15T15:17:56.197Z"
   },
   {
    "duration": 15,
    "start_time": "2022-02-15T15:17:56.218Z"
   },
   {
    "duration": 63,
    "start_time": "2022-02-15T15:17:56.235Z"
   },
   {
    "duration": 12,
    "start_time": "2022-02-15T15:17:56.300Z"
   },
   {
    "duration": 31,
    "start_time": "2022-02-15T15:17:56.316Z"
   },
   {
    "duration": 5,
    "start_time": "2022-02-15T15:17:56.370Z"
   },
   {
    "duration": 15,
    "start_time": "2022-02-15T15:17:56.377Z"
   },
   {
    "duration": 35,
    "start_time": "2022-02-15T15:17:56.394Z"
   },
   {
    "duration": 58,
    "start_time": "2022-02-15T15:17:56.431Z"
   },
   {
    "duration": 4,
    "start_time": "2022-02-15T15:17:56.491Z"
   },
   {
    "duration": 27,
    "start_time": "2022-02-15T15:17:56.497Z"
   },
   {
    "duration": 24,
    "start_time": "2022-02-15T15:17:56.526Z"
   },
   {
    "duration": 4,
    "start_time": "2022-02-15T15:17:56.570Z"
   },
   {
    "duration": 41,
    "start_time": "2022-02-15T15:17:56.576Z"
   },
   {
    "duration": 20,
    "start_time": "2022-02-15T15:17:56.619Z"
   },
   {
    "duration": 9,
    "start_time": "2022-02-15T15:17:56.641Z"
   },
   {
    "duration": 21,
    "start_time": "2022-02-15T15:17:56.652Z"
   },
   {
    "duration": 32,
    "start_time": "2022-02-15T15:17:56.674Z"
   },
   {
    "duration": 26,
    "start_time": "2022-02-15T15:17:56.708Z"
   },
   {
    "duration": 18,
    "start_time": "2022-02-15T15:17:56.736Z"
   },
   {
    "duration": 27,
    "start_time": "2022-02-15T15:17:56.756Z"
   },
   {
    "duration": 19,
    "start_time": "2022-02-15T15:17:56.785Z"
   },
   {
    "duration": 23,
    "start_time": "2022-02-15T15:17:56.806Z"
   },
   {
    "duration": 8,
    "start_time": "2022-02-15T15:17:56.831Z"
   },
   {
    "duration": 29,
    "start_time": "2022-02-15T15:17:56.841Z"
   },
   {
    "duration": 22,
    "start_time": "2022-02-15T15:17:56.871Z"
   },
   {
    "duration": 99,
    "start_time": "2022-02-15T15:17:56.894Z"
   },
   {
    "duration": 5,
    "start_time": "2022-02-15T15:17:56.994Z"
   },
   {
    "duration": 94,
    "start_time": "2022-02-15T15:17:57.001Z"
   },
   {
    "duration": 3,
    "start_time": "2022-02-15T15:17:57.097Z"
   },
   {
    "duration": 111,
    "start_time": "2022-02-15T15:17:57.102Z"
   },
   {
    "duration": 3,
    "start_time": "2022-02-15T15:17:57.215Z"
   },
   {
    "duration": 135,
    "start_time": "2022-02-15T15:17:57.220Z"
   },
   {
    "duration": 13,
    "start_time": "2022-02-15T15:17:57.356Z"
   },
   {
    "duration": 20,
    "start_time": "2022-02-15T15:17:57.370Z"
   },
   {
    "duration": 14,
    "start_time": "2022-02-15T15:17:57.392Z"
   },
   {
    "duration": 28,
    "start_time": "2022-02-15T15:17:57.408Z"
   },
   {
    "duration": 19,
    "start_time": "2022-02-15T15:17:57.438Z"
   },
   {
    "duration": 16,
    "start_time": "2022-02-15T15:17:57.458Z"
   },
   {
    "duration": 14,
    "start_time": "2022-02-15T15:17:57.475Z"
   },
   {
    "duration": 401,
    "start_time": "2022-02-15T15:18:02.091Z"
   },
   {
    "duration": 403,
    "start_time": "2022-02-15T15:21:48.571Z"
   },
   {
    "duration": 10,
    "start_time": "2022-02-15T15:39:32.585Z"
   },
   {
    "duration": 462,
    "start_time": "2022-02-15T16:00:38.938Z"
   },
   {
    "duration": 437,
    "start_time": "2022-02-15T16:06:55.321Z"
   },
   {
    "duration": 9,
    "start_time": "2022-02-15T16:13:35.685Z"
   },
   {
    "duration": 3,
    "start_time": "2022-02-15T17:35:06.825Z"
   },
   {
    "duration": 437,
    "start_time": "2022-02-15T17:35:06.830Z"
   },
   {
    "duration": 9,
    "start_time": "2022-02-15T17:35:07.269Z"
   },
   {
    "duration": 25,
    "start_time": "2022-02-15T17:35:07.280Z"
   },
   {
    "duration": 111,
    "start_time": "2022-02-15T17:35:07.307Z"
   },
   {
    "duration": 9,
    "start_time": "2022-02-15T17:35:07.420Z"
   },
   {
    "duration": 41,
    "start_time": "2022-02-15T17:35:07.431Z"
   },
   {
    "duration": 53,
    "start_time": "2022-02-15T17:35:07.474Z"
   },
   {
    "duration": 7,
    "start_time": "2022-02-15T17:35:07.529Z"
   },
   {
    "duration": 38,
    "start_time": "2022-02-15T17:35:07.538Z"
   },
   {
    "duration": 116,
    "start_time": "2022-02-15T17:35:07.578Z"
   },
   {
    "duration": 8,
    "start_time": "2022-02-15T17:35:07.696Z"
   },
   {
    "duration": 8,
    "start_time": "2022-02-15T17:35:07.705Z"
   },
   {
    "duration": 13,
    "start_time": "2022-02-15T17:35:07.715Z"
   },
   {
    "duration": 10,
    "start_time": "2022-02-15T17:35:07.730Z"
   },
   {
    "duration": 14,
    "start_time": "2022-02-15T17:35:07.770Z"
   },
   {
    "duration": 44,
    "start_time": "2022-02-15T17:35:07.785Z"
   },
   {
    "duration": 8,
    "start_time": "2022-02-15T17:35:07.831Z"
   },
   {
    "duration": 39,
    "start_time": "2022-02-15T17:35:07.843Z"
   },
   {
    "duration": 14,
    "start_time": "2022-02-15T17:35:07.885Z"
   },
   {
    "duration": 34,
    "start_time": "2022-02-15T17:35:07.900Z"
   },
   {
    "duration": 40,
    "start_time": "2022-02-15T17:35:07.936Z"
   },
   {
    "duration": 29,
    "start_time": "2022-02-15T17:35:07.978Z"
   },
   {
    "duration": 6,
    "start_time": "2022-02-15T17:35:08.008Z"
   },
   {
    "duration": 12,
    "start_time": "2022-02-15T17:35:08.016Z"
   },
   {
    "duration": 63,
    "start_time": "2022-02-15T17:35:08.030Z"
   },
   {
    "duration": 32,
    "start_time": "2022-02-15T17:35:08.094Z"
   },
   {
    "duration": 5,
    "start_time": "2022-02-15T17:35:08.129Z"
   },
   {
    "duration": 47,
    "start_time": "2022-02-15T17:35:08.136Z"
   },
   {
    "duration": 20,
    "start_time": "2022-02-15T17:35:08.185Z"
   },
   {
    "duration": 4,
    "start_time": "2022-02-15T17:35:08.207Z"
   },
   {
    "duration": 33,
    "start_time": "2022-02-15T17:35:08.214Z"
   },
   {
    "duration": 38,
    "start_time": "2022-02-15T17:35:08.249Z"
   },
   {
    "duration": 8,
    "start_time": "2022-02-15T17:35:08.289Z"
   },
   {
    "duration": 8,
    "start_time": "2022-02-15T17:35:08.298Z"
   },
   {
    "duration": 22,
    "start_time": "2022-02-15T17:35:08.308Z"
   },
   {
    "duration": 53,
    "start_time": "2022-02-15T17:35:08.332Z"
   },
   {
    "duration": 8,
    "start_time": "2022-02-15T17:35:08.387Z"
   },
   {
    "duration": 14,
    "start_time": "2022-02-15T17:35:08.397Z"
   },
   {
    "duration": 10,
    "start_time": "2022-02-15T17:35:08.413Z"
   },
   {
    "duration": 7,
    "start_time": "2022-02-15T17:35:08.425Z"
   },
   {
    "duration": 9,
    "start_time": "2022-02-15T17:35:08.470Z"
   },
   {
    "duration": 14,
    "start_time": "2022-02-15T17:35:08.481Z"
   },
   {
    "duration": 6,
    "start_time": "2022-02-15T17:35:08.497Z"
   },
   {
    "duration": 112,
    "start_time": "2022-02-15T17:35:08.505Z"
   },
   {
    "duration": 4,
    "start_time": "2022-02-15T17:35:08.619Z"
   },
   {
    "duration": 101,
    "start_time": "2022-02-15T17:35:08.624Z"
   },
   {
    "duration": 4,
    "start_time": "2022-02-15T17:35:08.727Z"
   },
   {
    "duration": 99,
    "start_time": "2022-02-15T17:35:08.732Z"
   },
   {
    "duration": 4,
    "start_time": "2022-02-15T17:35:08.833Z"
   },
   {
    "duration": 140,
    "start_time": "2022-02-15T17:35:08.838Z"
   },
   {
    "duration": 8,
    "start_time": "2022-02-15T17:35:08.979Z"
   },
   {
    "duration": 7,
    "start_time": "2022-02-15T17:35:08.989Z"
   },
   {
    "duration": 8,
    "start_time": "2022-02-15T17:35:12.090Z"
   },
   {
    "duration": 9,
    "start_time": "2022-02-15T17:35:12.909Z"
   },
   {
    "duration": 9,
    "start_time": "2022-02-15T17:36:14.171Z"
   },
   {
    "duration": 10,
    "start_time": "2022-02-15T17:43:47.191Z"
   },
   {
    "duration": 8,
    "start_time": "2022-02-15T17:53:49.266Z"
   },
   {
    "duration": 1254,
    "start_time": "2022-02-15T17:54:24.160Z"
   },
   {
    "duration": 432,
    "start_time": "2022-02-15T17:54:25.417Z"
   },
   {
    "duration": 12,
    "start_time": "2022-02-15T17:54:25.852Z"
   },
   {
    "duration": 25,
    "start_time": "2022-02-15T17:54:25.866Z"
   },
   {
    "duration": 108,
    "start_time": "2022-02-15T17:54:25.893Z"
   },
   {
    "duration": 13,
    "start_time": "2022-02-15T17:54:26.003Z"
   },
   {
    "duration": 35,
    "start_time": "2022-02-15T17:54:26.018Z"
   },
   {
    "duration": 76,
    "start_time": "2022-02-15T17:54:26.071Z"
   },
   {
    "duration": 21,
    "start_time": "2022-02-15T17:54:26.150Z"
   },
   {
    "duration": 18,
    "start_time": "2022-02-15T17:54:26.173Z"
   },
   {
    "duration": 46,
    "start_time": "2022-02-15T17:54:26.193Z"
   },
   {
    "duration": 7,
    "start_time": "2022-02-15T17:54:26.241Z"
   },
   {
    "duration": 13,
    "start_time": "2022-02-15T17:54:26.270Z"
   },
   {
    "duration": 13,
    "start_time": "2022-02-15T17:54:26.285Z"
   },
   {
    "duration": 9,
    "start_time": "2022-02-15T17:54:26.300Z"
   },
   {
    "duration": 29,
    "start_time": "2022-02-15T17:54:26.310Z"
   },
   {
    "duration": 64,
    "start_time": "2022-02-15T17:54:26.341Z"
   },
   {
    "duration": 8,
    "start_time": "2022-02-15T17:54:26.407Z"
   },
   {
    "duration": 18,
    "start_time": "2022-02-15T17:54:26.417Z"
   },
   {
    "duration": 36,
    "start_time": "2022-02-15T17:54:26.437Z"
   },
   {
    "duration": 33,
    "start_time": "2022-02-15T17:54:26.475Z"
   },
   {
    "duration": 12,
    "start_time": "2022-02-15T17:54:26.511Z"
   },
   {
    "duration": 62,
    "start_time": "2022-02-15T17:54:26.529Z"
   },
   {
    "duration": 6,
    "start_time": "2022-02-15T17:54:26.594Z"
   },
   {
    "duration": 14,
    "start_time": "2022-02-15T17:54:26.602Z"
   },
   {
    "duration": 53,
    "start_time": "2022-02-15T17:54:26.618Z"
   },
   {
    "duration": 37,
    "start_time": "2022-02-15T17:54:26.673Z"
   },
   {
    "duration": 5,
    "start_time": "2022-02-15T17:54:26.713Z"
   },
   {
    "duration": 51,
    "start_time": "2022-02-15T17:54:26.721Z"
   },
   {
    "duration": 25,
    "start_time": "2022-02-15T17:54:26.774Z"
   },
   {
    "duration": 5,
    "start_time": "2022-02-15T17:54:26.801Z"
   },
   {
    "duration": 27,
    "start_time": "2022-02-15T17:54:26.808Z"
   },
   {
    "duration": 52,
    "start_time": "2022-02-15T17:54:26.838Z"
   },
   {
    "duration": 11,
    "start_time": "2022-02-15T17:54:26.892Z"
   },
   {
    "duration": 13,
    "start_time": "2022-02-15T17:54:26.905Z"
   },
   {
    "duration": 34,
    "start_time": "2022-02-15T17:54:26.920Z"
   },
   {
    "duration": 35,
    "start_time": "2022-02-15T17:54:26.956Z"
   },
   {
    "duration": 9,
    "start_time": "2022-02-15T17:54:26.993Z"
   },
   {
    "duration": 24,
    "start_time": "2022-02-15T17:54:27.003Z"
   },
   {
    "duration": 24,
    "start_time": "2022-02-15T17:54:27.029Z"
   },
   {
    "duration": 7,
    "start_time": "2022-02-15T17:54:27.068Z"
   },
   {
    "duration": 26,
    "start_time": "2022-02-15T17:54:27.076Z"
   },
   {
    "duration": 35,
    "start_time": "2022-02-15T17:54:27.104Z"
   },
   {
    "duration": 16,
    "start_time": "2022-02-15T17:54:27.141Z"
   },
   {
    "duration": 109,
    "start_time": "2022-02-15T17:54:27.158Z"
   },
   {
    "duration": 4,
    "start_time": "2022-02-15T17:54:27.269Z"
   },
   {
    "duration": 99,
    "start_time": "2022-02-15T17:54:27.274Z"
   },
   {
    "duration": 4,
    "start_time": "2022-02-15T17:54:27.374Z"
   },
   {
    "duration": 95,
    "start_time": "2022-02-15T17:54:27.379Z"
   },
   {
    "duration": 3,
    "start_time": "2022-02-15T17:54:27.476Z"
   },
   {
    "duration": 140,
    "start_time": "2022-02-15T17:54:27.480Z"
   },
   {
    "duration": 8,
    "start_time": "2022-02-15T17:54:27.621Z"
   },
   {
    "duration": 16,
    "start_time": "2022-02-15T17:54:27.631Z"
   },
   {
    "duration": 22,
    "start_time": "2022-02-15T17:54:27.649Z"
   },
   {
    "duration": 41,
    "start_time": "2022-02-15T17:54:27.672Z"
   },
   {
    "duration": 27,
    "start_time": "2022-02-15T17:54:27.714Z"
   },
   {
    "duration": 27,
    "start_time": "2022-02-15T17:54:27.743Z"
   },
   {
    "duration": 17,
    "start_time": "2022-02-15T17:54:27.772Z"
   },
   {
    "duration": 441,
    "start_time": "2022-02-15T17:54:27.791Z"
   },
   {
    "duration": 437,
    "start_time": "2022-02-15T17:54:28.234Z"
   },
   {
    "duration": 419,
    "start_time": "2022-02-15T17:54:28.673Z"
   },
   {
    "duration": 1193,
    "start_time": "2022-02-15T20:48:36.540Z"
   },
   {
    "duration": 404,
    "start_time": "2022-02-15T20:48:37.735Z"
   },
   {
    "duration": 12,
    "start_time": "2022-02-15T20:48:38.141Z"
   },
   {
    "duration": 22,
    "start_time": "2022-02-15T20:48:38.155Z"
   },
   {
    "duration": 100,
    "start_time": "2022-02-15T20:48:38.179Z"
   },
   {
    "duration": 9,
    "start_time": "2022-02-15T20:48:38.281Z"
   },
   {
    "duration": 21,
    "start_time": "2022-02-15T20:48:38.292Z"
   },
   {
    "duration": 90,
    "start_time": "2022-02-15T20:48:38.316Z"
   },
   {
    "duration": 7,
    "start_time": "2022-02-15T20:48:38.409Z"
   },
   {
    "duration": 20,
    "start_time": "2022-02-15T20:48:38.418Z"
   },
   {
    "duration": 68,
    "start_time": "2022-02-15T20:48:38.440Z"
   },
   {
    "duration": 9,
    "start_time": "2022-02-15T20:48:38.509Z"
   },
   {
    "duration": 25,
    "start_time": "2022-02-15T20:48:38.519Z"
   },
   {
    "duration": 21,
    "start_time": "2022-02-15T20:48:38.546Z"
   },
   {
    "duration": 12,
    "start_time": "2022-02-15T20:48:38.570Z"
   },
   {
    "duration": 29,
    "start_time": "2022-02-15T20:48:38.584Z"
   },
   {
    "duration": 62,
    "start_time": "2022-02-15T20:48:38.615Z"
   },
   {
    "duration": 8,
    "start_time": "2022-02-15T20:48:38.679Z"
   },
   {
    "duration": 23,
    "start_time": "2022-02-15T20:48:38.689Z"
   },
   {
    "duration": 14,
    "start_time": "2022-02-15T20:48:38.714Z"
   },
   {
    "duration": 61,
    "start_time": "2022-02-15T20:48:38.730Z"
   },
   {
    "duration": 10,
    "start_time": "2022-02-15T20:48:38.793Z"
   },
   {
    "duration": 29,
    "start_time": "2022-02-15T20:48:38.807Z"
   },
   {
    "duration": 31,
    "start_time": "2022-02-15T20:48:38.838Z"
   },
   {
    "duration": 11,
    "start_time": "2022-02-15T20:48:38.871Z"
   },
   {
    "duration": 35,
    "start_time": "2022-02-15T20:48:38.884Z"
   },
   {
    "duration": 60,
    "start_time": "2022-02-15T20:48:38.920Z"
   },
   {
    "duration": 4,
    "start_time": "2022-02-15T20:48:38.982Z"
   },
   {
    "duration": 26,
    "start_time": "2022-02-15T20:48:38.987Z"
   },
   {
    "duration": 23,
    "start_time": "2022-02-15T20:48:39.015Z"
   },
   {
    "duration": 31,
    "start_time": "2022-02-15T20:48:39.040Z"
   },
   {
    "duration": 30,
    "start_time": "2022-02-15T20:48:39.073Z"
   },
   {
    "duration": 21,
    "start_time": "2022-02-15T20:48:39.105Z"
   },
   {
    "duration": 9,
    "start_time": "2022-02-15T20:48:39.127Z"
   },
   {
    "duration": 34,
    "start_time": "2022-02-15T20:48:39.138Z"
   },
   {
    "duration": 25,
    "start_time": "2022-02-15T20:48:39.173Z"
   },
   {
    "duration": 21,
    "start_time": "2022-02-15T20:48:39.200Z"
   },
   {
    "duration": 8,
    "start_time": "2022-02-15T20:48:39.223Z"
   },
   {
    "duration": 49,
    "start_time": "2022-02-15T20:48:39.233Z"
   },
   {
    "duration": 9,
    "start_time": "2022-02-15T20:48:39.284Z"
   },
   {
    "duration": 7,
    "start_time": "2022-02-15T20:48:39.295Z"
   },
   {
    "duration": 8,
    "start_time": "2022-02-15T20:48:39.304Z"
   },
   {
    "duration": 56,
    "start_time": "2022-02-15T20:48:39.313Z"
   },
   {
    "duration": 4,
    "start_time": "2022-02-15T20:48:39.371Z"
   },
   {
    "duration": 100,
    "start_time": "2022-02-15T20:48:39.377Z"
   },
   {
    "duration": 4,
    "start_time": "2022-02-15T20:48:39.479Z"
   },
   {
    "duration": 100,
    "start_time": "2022-02-15T20:48:39.484Z"
   },
   {
    "duration": 4,
    "start_time": "2022-02-15T20:48:39.586Z"
   },
   {
    "duration": 105,
    "start_time": "2022-02-15T20:48:39.592Z"
   },
   {
    "duration": 5,
    "start_time": "2022-02-15T20:48:39.699Z"
   },
   {
    "duration": 138,
    "start_time": "2022-02-15T20:48:39.706Z"
   },
   {
    "duration": 8,
    "start_time": "2022-02-15T20:48:39.845Z"
   },
   {
    "duration": 8,
    "start_time": "2022-02-15T20:48:39.869Z"
   },
   {
    "duration": 12,
    "start_time": "2022-02-15T20:48:39.878Z"
   },
   {
    "duration": 11,
    "start_time": "2022-02-15T20:48:39.891Z"
   },
   {
    "duration": 9,
    "start_time": "2022-02-15T20:48:39.904Z"
   },
   {
    "duration": 23,
    "start_time": "2022-02-15T20:48:39.915Z"
   },
   {
    "duration": 6,
    "start_time": "2022-02-15T20:48:39.940Z"
   },
   {
    "duration": 428,
    "start_time": "2022-02-15T20:48:39.969Z"
   },
   {
    "duration": 384,
    "start_time": "2022-02-15T20:48:40.398Z"
   },
   {
    "duration": 412,
    "start_time": "2022-02-15T20:48:40.784Z"
   },
   {
    "duration": 4,
    "start_time": "2022-02-15T20:48:49.235Z"
   },
   {
    "duration": 3,
    "start_time": "2022-02-15T20:48:49.856Z"
   },
   {
    "duration": 5,
    "start_time": "2022-02-15T20:52:26.268Z"
   },
   {
    "duration": 14,
    "start_time": "2022-02-15T21:00:25.005Z"
   },
   {
    "duration": 6553,
    "start_time": "2022-02-15T21:01:42.558Z"
   },
   {
    "duration": 4,
    "start_time": "2022-02-15T21:01:59.508Z"
   },
   {
    "duration": 4,
    "start_time": "2022-02-15T21:02:41.285Z"
   },
   {
    "duration": 290,
    "start_time": "2022-02-15T21:03:32.446Z"
   },
   {
    "duration": 15,
    "start_time": "2022-02-15T21:03:45.433Z"
   },
   {
    "duration": 254,
    "start_time": "2022-02-15T21:05:25.020Z"
   },
   {
    "duration": 5,
    "start_time": "2022-02-15T21:06:03.287Z"
   },
   {
    "duration": 6,
    "start_time": "2022-02-15T21:07:41.188Z"
   },
   {
    "duration": 6,
    "start_time": "2022-02-15T21:07:46.523Z"
   },
   {
    "duration": 5,
    "start_time": "2022-02-15T21:08:02.448Z"
   },
   {
    "duration": 5,
    "start_time": "2022-02-15T21:09:02.136Z"
   },
   {
    "duration": 5,
    "start_time": "2022-02-15T21:09:06.374Z"
   },
   {
    "duration": 6,
    "start_time": "2022-02-15T21:09:19.195Z"
   },
   {
    "duration": 272,
    "start_time": "2022-02-15T21:16:06.146Z"
   },
   {
    "duration": 7,
    "start_time": "2022-02-15T21:16:46.072Z"
   },
   {
    "duration": 98,
    "start_time": "2022-02-15T21:17:19.971Z"
   },
   {
    "duration": 93,
    "start_time": "2022-02-15T21:17:49.119Z"
   },
   {
    "duration": 88,
    "start_time": "2022-02-15T21:18:28.455Z"
   },
   {
    "duration": 6,
    "start_time": "2022-02-15T21:18:42.446Z"
   },
   {
    "duration": 7,
    "start_time": "2022-02-15T21:19:06.116Z"
   },
   {
    "duration": 13,
    "start_time": "2022-02-15T21:28:41.655Z"
   },
   {
    "duration": 103,
    "start_time": "2022-02-15T21:29:39.754Z"
   },
   {
    "duration": 8,
    "start_time": "2022-02-15T21:30:03.784Z"
   },
   {
    "duration": 14,
    "start_time": "2022-02-15T21:30:19.118Z"
   },
   {
    "duration": 15,
    "start_time": "2022-02-15T21:30:27.004Z"
   },
   {
    "duration": 4,
    "start_time": "2022-02-15T21:30:42.700Z"
   },
   {
    "duration": 4,
    "start_time": "2022-02-15T21:30:54.123Z"
   },
   {
    "duration": 5,
    "start_time": "2022-02-15T21:33:52.302Z"
   },
   {
    "duration": 5,
    "start_time": "2022-02-15T21:35:05.441Z"
   },
   {
    "duration": 4,
    "start_time": "2022-02-15T21:35:38.223Z"
   },
   {
    "duration": 6,
    "start_time": "2022-02-15T21:38:32.171Z"
   },
   {
    "duration": 1191,
    "start_time": "2022-02-15T22:07:47.423Z"
   },
   {
    "duration": 435,
    "start_time": "2022-02-15T22:07:48.616Z"
   },
   {
    "duration": 12,
    "start_time": "2022-02-15T22:07:49.053Z"
   },
   {
    "duration": 27,
    "start_time": "2022-02-15T22:07:49.067Z"
   },
   {
    "duration": 116,
    "start_time": "2022-02-15T22:07:49.096Z"
   },
   {
    "duration": 9,
    "start_time": "2022-02-15T22:07:49.213Z"
   },
   {
    "duration": 24,
    "start_time": "2022-02-15T22:07:49.224Z"
   },
   {
    "duration": 69,
    "start_time": "2022-02-15T22:07:49.270Z"
   },
   {
    "duration": 29,
    "start_time": "2022-02-15T22:07:49.341Z"
   },
   {
    "duration": 17,
    "start_time": "2022-02-15T22:07:49.372Z"
   },
   {
    "duration": 47,
    "start_time": "2022-02-15T22:07:49.391Z"
   },
   {
    "duration": 36,
    "start_time": "2022-02-15T22:07:49.440Z"
   },
   {
    "duration": 10,
    "start_time": "2022-02-15T22:07:49.478Z"
   },
   {
    "duration": 15,
    "start_time": "2022-02-15T22:07:49.490Z"
   },
   {
    "duration": 12,
    "start_time": "2022-02-15T22:07:49.507Z"
   },
   {
    "duration": 69,
    "start_time": "2022-02-15T22:07:49.520Z"
   },
   {
    "duration": 47,
    "start_time": "2022-02-15T22:07:49.590Z"
   },
   {
    "duration": 8,
    "start_time": "2022-02-15T22:07:49.639Z"
   },
   {
    "duration": 35,
    "start_time": "2022-02-15T22:07:49.648Z"
   },
   {
    "duration": 14,
    "start_time": "2022-02-15T22:07:49.685Z"
   },
   {
    "duration": 50,
    "start_time": "2022-02-15T22:07:49.701Z"
   },
   {
    "duration": 26,
    "start_time": "2022-02-15T22:07:49.753Z"
   },
   {
    "duration": 44,
    "start_time": "2022-02-15T22:07:49.783Z"
   },
   {
    "duration": 5,
    "start_time": "2022-02-15T22:07:49.830Z"
   },
   {
    "duration": 36,
    "start_time": "2022-02-15T22:07:49.837Z"
   },
   {
    "duration": 50,
    "start_time": "2022-02-15T22:07:49.875Z"
   },
   {
    "duration": 35,
    "start_time": "2022-02-15T22:07:49.927Z"
   },
   {
    "duration": 4,
    "start_time": "2022-02-15T22:07:49.970Z"
   },
   {
    "duration": 47,
    "start_time": "2022-02-15T22:07:49.976Z"
   },
   {
    "duration": 27,
    "start_time": "2022-02-15T22:07:50.025Z"
   },
   {
    "duration": 16,
    "start_time": "2022-02-15T22:07:50.054Z"
   },
   {
    "duration": 42,
    "start_time": "2022-02-15T22:07:50.072Z"
   },
   {
    "duration": 22,
    "start_time": "2022-02-15T22:07:50.115Z"
   },
   {
    "duration": 16,
    "start_time": "2022-02-15T22:07:50.139Z"
   },
   {
    "duration": 16,
    "start_time": "2022-02-15T22:07:50.157Z"
   },
   {
    "duration": 55,
    "start_time": "2022-02-15T22:07:50.174Z"
   },
   {
    "duration": 30,
    "start_time": "2022-02-15T22:07:50.230Z"
   },
   {
    "duration": 9,
    "start_time": "2022-02-15T22:07:50.262Z"
   },
   {
    "duration": 33,
    "start_time": "2022-02-15T22:07:50.273Z"
   },
   {
    "duration": 48,
    "start_time": "2022-02-15T22:07:50.308Z"
   },
   {
    "duration": 14,
    "start_time": "2022-02-15T22:07:50.358Z"
   },
   {
    "duration": 19,
    "start_time": "2022-02-15T22:07:50.375Z"
   },
   {
    "duration": 37,
    "start_time": "2022-02-15T22:07:50.396Z"
   },
   {
    "duration": 34,
    "start_time": "2022-02-15T22:07:50.435Z"
   },
   {
    "duration": 110,
    "start_time": "2022-02-15T22:07:50.471Z"
   },
   {
    "duration": 3,
    "start_time": "2022-02-15T22:07:50.583Z"
   },
   {
    "duration": 102,
    "start_time": "2022-02-15T22:07:50.588Z"
   },
   {
    "duration": 4,
    "start_time": "2022-02-15T22:07:50.692Z"
   },
   {
    "duration": 132,
    "start_time": "2022-02-15T22:07:50.698Z"
   },
   {
    "duration": 4,
    "start_time": "2022-02-15T22:07:50.832Z"
   },
   {
    "duration": 147,
    "start_time": "2022-02-15T22:07:50.837Z"
   },
   {
    "duration": 8,
    "start_time": "2022-02-15T22:07:50.986Z"
   },
   {
    "duration": 26,
    "start_time": "2022-02-15T22:07:50.996Z"
   },
   {
    "duration": 22,
    "start_time": "2022-02-15T22:07:51.023Z"
   },
   {
    "duration": 58,
    "start_time": "2022-02-15T22:07:51.047Z"
   },
   {
    "duration": 35,
    "start_time": "2022-02-15T22:07:51.107Z"
   },
   {
    "duration": 12,
    "start_time": "2022-02-15T22:07:51.143Z"
   },
   {
    "duration": 13,
    "start_time": "2022-02-15T22:07:51.157Z"
   },
   {
    "duration": 445,
    "start_time": "2022-02-15T22:07:51.172Z"
   },
   {
    "duration": 471,
    "start_time": "2022-02-15T22:07:51.619Z"
   },
   {
    "duration": 401,
    "start_time": "2022-02-15T22:07:52.092Z"
   },
   {
    "duration": 3,
    "start_time": "2022-02-15T22:07:52.496Z"
   },
   {
    "duration": 10,
    "start_time": "2022-02-15T22:07:52.502Z"
   },
   {
    "duration": 10,
    "start_time": "2022-02-15T22:07:52.514Z"
   },
   {
    "duration": 10,
    "start_time": "2022-02-15T22:07:52.526Z"
   },
   {
    "duration": 39,
    "start_time": "2022-02-15T22:07:52.538Z"
   },
   {
    "duration": 14,
    "start_time": "2022-02-15T22:07:52.580Z"
   },
   {
    "duration": 17,
    "start_time": "2022-02-15T22:07:52.601Z"
   },
   {
    "duration": 11,
    "start_time": "2022-02-15T22:07:52.621Z"
   },
   {
    "duration": 10,
    "start_time": "2022-02-15T22:07:52.634Z"
   },
   {
    "duration": 25,
    "start_time": "2022-02-15T22:07:52.647Z"
   },
   {
    "duration": 10,
    "start_time": "2022-02-15T22:07:52.674Z"
   },
   {
    "duration": 9,
    "start_time": "2022-02-15T22:07:52.686Z"
   },
   {
    "duration": 11,
    "start_time": "2022-02-15T22:07:52.698Z"
   },
   {
    "duration": 11,
    "start_time": "2022-02-15T22:07:52.712Z"
   },
   {
    "duration": 80,
    "start_time": "2022-02-23T16:52:51.324Z"
   },
   {
    "duration": 284,
    "start_time": "2022-02-23T17:09:30.767Z"
   },
   {
    "duration": 242,
    "start_time": "2022-02-23T17:09:36.828Z"
   },
   {
    "duration": 234,
    "start_time": "2022-02-23T17:09:43.502Z"
   },
   {
    "duration": 332,
    "start_time": "2022-02-23T17:10:07.489Z"
   },
   {
    "duration": 10,
    "start_time": "2022-02-23T17:10:28.887Z"
   },
   {
    "duration": 80,
    "start_time": "2022-02-23T17:18:27.745Z"
   },
   {
    "duration": 76,
    "start_time": "2022-02-23T17:18:29.695Z"
   },
   {
    "duration": 90,
    "start_time": "2022-02-23T17:48:07.819Z"
   },
   {
    "duration": 78,
    "start_time": "2022-02-23T17:48:25.627Z"
   },
   {
    "duration": 300,
    "start_time": "2022-02-23T17:48:31.353Z"
   },
   {
    "duration": 80,
    "start_time": "2022-02-23T17:49:46.775Z"
   },
   {
    "duration": 84,
    "start_time": "2022-02-23T17:49:52.924Z"
   },
   {
    "duration": 84,
    "start_time": "2022-02-23T17:49:57.389Z"
   },
   {
    "duration": 302,
    "start_time": "2022-02-23T17:50:12.389Z"
   },
   {
    "duration": 1292,
    "start_time": "2022-02-23T17:51:04.880Z"
   },
   {
    "duration": 396,
    "start_time": "2022-02-23T17:51:06.175Z"
   },
   {
    "duration": 12,
    "start_time": "2022-02-23T17:51:06.573Z"
   },
   {
    "duration": 29,
    "start_time": "2022-02-23T17:51:06.587Z"
   },
   {
    "duration": 125,
    "start_time": "2022-02-23T17:51:06.619Z"
   },
   {
    "duration": 10,
    "start_time": "2022-02-23T17:51:06.746Z"
   },
   {
    "duration": 21,
    "start_time": "2022-02-23T17:51:06.759Z"
   },
   {
    "duration": 101,
    "start_time": "2022-02-23T17:51:06.783Z"
   },
   {
    "duration": 8,
    "start_time": "2022-02-23T17:51:06.886Z"
   },
   {
    "duration": 32,
    "start_time": "2022-02-23T17:51:06.896Z"
   },
   {
    "duration": 51,
    "start_time": "2022-02-23T17:51:06.930Z"
   },
   {
    "duration": 8,
    "start_time": "2022-02-23T17:51:06.983Z"
   },
   {
    "duration": 27,
    "start_time": "2022-02-23T17:51:06.993Z"
   },
   {
    "duration": 18,
    "start_time": "2022-02-23T17:51:07.022Z"
   },
   {
    "duration": 9,
    "start_time": "2022-02-23T17:51:07.042Z"
   },
   {
    "duration": 29,
    "start_time": "2022-02-23T17:51:07.052Z"
   },
   {
    "duration": 69,
    "start_time": "2022-02-23T17:51:07.083Z"
   },
   {
    "duration": 9,
    "start_time": "2022-02-23T17:51:07.154Z"
   },
   {
    "duration": 20,
    "start_time": "2022-02-23T17:51:07.165Z"
   },
   {
    "duration": 38,
    "start_time": "2022-02-23T17:51:07.187Z"
   },
   {
    "duration": 33,
    "start_time": "2022-02-23T17:51:07.226Z"
   },
   {
    "duration": 12,
    "start_time": "2022-02-23T17:51:07.261Z"
   },
   {
    "duration": 53,
    "start_time": "2022-02-23T17:51:07.278Z"
   },
   {
    "duration": 5,
    "start_time": "2022-02-23T17:51:07.334Z"
   },
   {
    "duration": 19,
    "start_time": "2022-02-23T17:51:07.341Z"
   },
   {
    "duration": 34,
    "start_time": "2022-02-23T17:51:07.362Z"
   },
   {
    "duration": 49,
    "start_time": "2022-02-23T17:51:07.398Z"
   },
   {
    "duration": 5,
    "start_time": "2022-02-23T17:51:07.448Z"
   },
   {
    "duration": 26,
    "start_time": "2022-02-23T17:51:07.454Z"
   },
   {
    "duration": 50,
    "start_time": "2022-02-23T17:51:07.482Z"
   },
   {
    "duration": 5,
    "start_time": "2022-02-23T17:51:07.533Z"
   },
   {
    "duration": 30,
    "start_time": "2022-02-23T17:51:07.539Z"
   },
   {
    "duration": 22,
    "start_time": "2022-02-23T17:51:07.571Z"
   },
   {
    "duration": 14,
    "start_time": "2022-02-23T17:51:07.619Z"
   },
   {
    "duration": 5,
    "start_time": "2022-02-23T17:51:07.634Z"
   },
   {
    "duration": 24,
    "start_time": "2022-02-23T17:51:07.640Z"
   },
   {
    "duration": 21,
    "start_time": "2022-02-23T17:51:07.666Z"
   },
   {
    "duration": 35,
    "start_time": "2022-02-23T17:51:07.689Z"
   },
   {
    "duration": 14,
    "start_time": "2022-02-23T17:51:07.726Z"
   },
   {
    "duration": 11,
    "start_time": "2022-02-23T17:51:07.742Z"
   },
   {
    "duration": 8,
    "start_time": "2022-02-23T17:51:07.755Z"
   },
   {
    "duration": 9,
    "start_time": "2022-02-23T17:51:07.765Z"
   },
   {
    "duration": 49,
    "start_time": "2022-02-23T17:51:07.776Z"
   },
   {
    "duration": 5,
    "start_time": "2022-02-23T17:51:07.828Z"
   },
   {
    "duration": 99,
    "start_time": "2022-02-23T17:51:07.836Z"
   },
   {
    "duration": 4,
    "start_time": "2022-02-23T17:51:07.937Z"
   },
   {
    "duration": 100,
    "start_time": "2022-02-23T17:51:07.943Z"
   },
   {
    "duration": 3,
    "start_time": "2022-02-23T17:51:08.045Z"
   },
   {
    "duration": 103,
    "start_time": "2022-02-23T17:51:08.050Z"
   },
   {
    "duration": 4,
    "start_time": "2022-02-23T17:51:08.155Z"
   },
   {
    "duration": 139,
    "start_time": "2022-02-23T17:51:08.161Z"
   },
   {
    "duration": 8518,
    "start_time": "2022-02-23T17:51:08.302Z"
   },
   {
    "duration": -276,
    "start_time": "2022-02-23T17:51:17.099Z"
   },
   {
    "duration": -279,
    "start_time": "2022-02-23T17:51:17.103Z"
   },
   {
    "duration": -281,
    "start_time": "2022-02-23T17:51:17.106Z"
   },
   {
    "duration": -283,
    "start_time": "2022-02-23T17:51:17.109Z"
   },
   {
    "duration": -287,
    "start_time": "2022-02-23T17:51:17.114Z"
   },
   {
    "duration": -288,
    "start_time": "2022-02-23T17:51:17.117Z"
   },
   {
    "duration": -290,
    "start_time": "2022-02-23T17:51:17.120Z"
   },
   {
    "duration": -293,
    "start_time": "2022-02-23T17:51:17.124Z"
   },
   {
    "duration": -295,
    "start_time": "2022-02-23T17:51:17.127Z"
   },
   {
    "duration": -298,
    "start_time": "2022-02-23T17:51:17.131Z"
   },
   {
    "duration": -300,
    "start_time": "2022-02-23T17:51:17.134Z"
   },
   {
    "duration": -302,
    "start_time": "2022-02-23T17:51:17.137Z"
   },
   {
    "duration": -304,
    "start_time": "2022-02-23T17:51:17.140Z"
   },
   {
    "duration": -306,
    "start_time": "2022-02-23T17:51:17.143Z"
   },
   {
    "duration": -307,
    "start_time": "2022-02-23T17:51:17.146Z"
   },
   {
    "duration": -309,
    "start_time": "2022-02-23T17:51:17.149Z"
   },
   {
    "duration": -311,
    "start_time": "2022-02-23T17:51:17.152Z"
   },
   {
    "duration": -315,
    "start_time": "2022-02-23T17:51:17.156Z"
   },
   {
    "duration": -315,
    "start_time": "2022-02-23T17:51:17.158Z"
   },
   {
    "duration": -317,
    "start_time": "2022-02-23T17:51:17.161Z"
   },
   {
    "duration": -319,
    "start_time": "2022-02-23T17:51:17.164Z"
   },
   {
    "duration": -322,
    "start_time": "2022-02-23T17:51:17.168Z"
   },
   {
    "duration": -324,
    "start_time": "2022-02-23T17:51:17.171Z"
   },
   {
    "duration": -326,
    "start_time": "2022-02-23T17:51:17.174Z"
   },
   {
    "duration": -327,
    "start_time": "2022-02-23T17:51:17.176Z"
   },
   {
    "duration": 8703,
    "start_time": "2022-02-23T17:52:15.230Z"
   },
   {
    "duration": 6,
    "start_time": "2022-02-23T17:52:41.926Z"
   },
   {
    "duration": 6,
    "start_time": "2022-02-23T17:53:13.894Z"
   },
   {
    "duration": 10,
    "start_time": "2022-02-23T17:54:01.312Z"
   },
   {
    "duration": 7868,
    "start_time": "2022-02-23T17:55:03.738Z"
   },
   {
    "duration": 1132,
    "start_time": "2022-02-23T17:59:32.483Z"
   },
   {
    "duration": 8372,
    "start_time": "2022-02-23T18:03:46.812Z"
   },
   {
    "duration": 7673,
    "start_time": "2022-02-23T18:04:09.229Z"
   },
   {
    "duration": 86,
    "start_time": "2022-02-23T18:04:35.271Z"
   },
   {
    "duration": 89,
    "start_time": "2022-02-23T18:04:46.015Z"
   },
   {
    "duration": 103,
    "start_time": "2022-02-23T18:05:33.694Z"
   },
   {
    "duration": 22,
    "start_time": "2022-02-23T18:07:39.397Z"
   },
   {
    "duration": 3,
    "start_time": "2022-02-23T18:07:44.158Z"
   },
   {
    "duration": 7,
    "start_time": "2022-02-23T18:09:36.449Z"
   },
   {
    "duration": 8,
    "start_time": "2022-02-23T18:09:51.026Z"
   },
   {
    "duration": 10,
    "start_time": "2022-02-23T18:37:01.308Z"
   },
   {
    "duration": 8,
    "start_time": "2022-02-23T18:37:18.366Z"
   },
   {
    "duration": 10,
    "start_time": "2022-02-23T18:37:30.014Z"
   },
   {
    "duration": 10,
    "start_time": "2022-02-23T18:38:45.785Z"
   },
   {
    "duration": 10,
    "start_time": "2022-02-23T18:38:59.683Z"
   },
   {
    "duration": 5,
    "start_time": "2022-02-23T18:39:22.962Z"
   },
   {
    "duration": 12,
    "start_time": "2022-02-23T18:39:53.339Z"
   },
   {
    "duration": 9,
    "start_time": "2022-02-23T18:40:03.348Z"
   },
   {
    "duration": 11,
    "start_time": "2022-02-23T18:40:31.215Z"
   },
   {
    "duration": 10,
    "start_time": "2022-02-23T19:05:26.596Z"
   },
   {
    "duration": 3,
    "start_time": "2022-02-23T19:05:33.037Z"
   },
   {
    "duration": 123,
    "start_time": "2022-02-23T19:06:04.382Z"
   },
   {
    "duration": 9,
    "start_time": "2022-02-23T19:08:59.915Z"
   },
   {
    "duration": 10,
    "start_time": "2022-02-23T19:09:02.749Z"
   },
   {
    "duration": 11,
    "start_time": "2022-02-23T19:09:48.295Z"
   },
   {
    "duration": 10,
    "start_time": "2022-02-23T19:10:53.768Z"
   },
   {
    "duration": 10,
    "start_time": "2022-02-23T19:11:02.212Z"
   },
   {
    "duration": 83,
    "start_time": "2022-02-23T19:13:20.709Z"
   },
   {
    "duration": 78,
    "start_time": "2022-02-23T19:13:24.078Z"
   },
   {
    "duration": 9,
    "start_time": "2022-02-23T19:13:42.519Z"
   },
   {
    "duration": 10,
    "start_time": "2022-02-23T19:14:12.168Z"
   },
   {
    "duration": 318,
    "start_time": "2022-02-23T19:14:29.743Z"
   },
   {
    "duration": 10,
    "start_time": "2022-02-23T19:14:37.177Z"
   },
   {
    "duration": 9,
    "start_time": "2022-02-23T19:14:40.840Z"
   },
   {
    "duration": 9,
    "start_time": "2022-02-23T19:14:53.776Z"
   },
   {
    "duration": 7,
    "start_time": "2022-02-23T19:14:57.576Z"
   },
   {
    "duration": 8,
    "start_time": "2022-02-23T19:18:19.952Z"
   },
   {
    "duration": 93,
    "start_time": "2022-02-23T19:18:23.064Z"
   },
   {
    "duration": 6,
    "start_time": "2022-02-23T19:19:52.429Z"
   },
   {
    "duration": 7809,
    "start_time": "2022-02-23T19:24:35.646Z"
   },
   {
    "duration": 20,
    "start_time": "2022-02-23T19:24:50.599Z"
   },
   {
    "duration": 29,
    "start_time": "2022-02-23T19:25:15.632Z"
   },
   {
    "duration": 37,
    "start_time": "2022-02-23T19:25:43.129Z"
   },
   {
    "duration": 43,
    "start_time": "2022-02-23T19:26:11.977Z"
   },
   {
    "duration": 42,
    "start_time": "2022-02-23T19:28:43.752Z"
   },
   {
    "duration": 83,
    "start_time": "2022-02-23T19:29:26.128Z"
   },
   {
    "duration": 5,
    "start_time": "2022-02-23T19:30:10.364Z"
   },
   {
    "duration": 4,
    "start_time": "2022-02-23T19:30:12.409Z"
   },
   {
    "duration": 424,
    "start_time": "2022-02-23T19:30:14.811Z"
   },
   {
    "duration": 418,
    "start_time": "2022-02-23T19:31:05.270Z"
   },
   {
    "duration": 385,
    "start_time": "2022-02-23T19:31:16.638Z"
   },
   {
    "duration": 5,
    "start_time": "2022-02-23T19:33:40.371Z"
   },
   {
    "duration": 5,
    "start_time": "2022-02-23T19:33:41.322Z"
   },
   {
    "duration": 4,
    "start_time": "2022-02-23T19:33:42.819Z"
   },
   {
    "duration": 4,
    "start_time": "2022-02-23T19:33:45.419Z"
   },
   {
    "duration": 5,
    "start_time": "2022-02-23T19:33:47.054Z"
   },
   {
    "duration": 7,
    "start_time": "2022-02-23T19:38:36.095Z"
   },
   {
    "duration": 285,
    "start_time": "2022-02-23T19:42:13.212Z"
   },
   {
    "duration": 14,
    "start_time": "2022-02-23T19:42:18.310Z"
   },
   {
    "duration": 8,
    "start_time": "2022-02-23T19:42:18.564Z"
   },
   {
    "duration": 4,
    "start_time": "2022-02-23T19:42:18.766Z"
   },
   {
    "duration": 4,
    "start_time": "2022-02-23T19:42:18.990Z"
   },
   {
    "duration": 5,
    "start_time": "2022-02-23T19:42:19.460Z"
   },
   {
    "duration": 5,
    "start_time": "2022-02-23T19:42:19.941Z"
   },
   {
    "duration": 5,
    "start_time": "2022-02-23T19:42:20.590Z"
   },
   {
    "duration": 6,
    "start_time": "2022-02-23T19:42:22.038Z"
   },
   {
    "duration": 249,
    "start_time": "2022-02-23T19:52:46.956Z"
   },
   {
    "duration": 1047,
    "start_time": "2022-02-23T19:53:11.821Z"
   },
   {
    "duration": 22,
    "start_time": "2022-02-23T19:53:28.558Z"
   },
   {
    "duration": 1244,
    "start_time": "2022-02-23T19:54:16.239Z"
   },
   {
    "duration": 1416,
    "start_time": "2022-02-23T19:54:32.784Z"
   },
   {
    "duration": 19,
    "start_time": "2022-02-23T19:56:26.485Z"
   },
   {
    "duration": 17,
    "start_time": "2022-02-23T19:58:01.737Z"
   },
   {
    "duration": 1178,
    "start_time": "2022-02-23T19:58:11.352Z"
   },
   {
    "duration": 397,
    "start_time": "2022-02-23T19:58:12.532Z"
   },
   {
    "duration": 13,
    "start_time": "2022-02-23T19:58:12.931Z"
   },
   {
    "duration": 27,
    "start_time": "2022-02-23T19:58:12.946Z"
   },
   {
    "duration": 122,
    "start_time": "2022-02-23T19:58:12.975Z"
   },
   {
    "duration": 8,
    "start_time": "2022-02-23T19:58:13.099Z"
   },
   {
    "duration": 25,
    "start_time": "2022-02-23T19:58:13.109Z"
   },
   {
    "duration": 92,
    "start_time": "2022-02-23T19:58:13.136Z"
   },
   {
    "duration": 8,
    "start_time": "2022-02-23T19:58:13.230Z"
   },
   {
    "duration": 21,
    "start_time": "2022-02-23T19:58:13.239Z"
   },
   {
    "duration": 68,
    "start_time": "2022-02-23T19:58:13.262Z"
   },
   {
    "duration": 8,
    "start_time": "2022-02-23T19:58:13.332Z"
   },
   {
    "duration": 9,
    "start_time": "2022-02-23T19:58:13.341Z"
   },
   {
    "duration": 13,
    "start_time": "2022-02-23T19:58:13.352Z"
   },
   {
    "duration": 9,
    "start_time": "2022-02-23T19:58:13.367Z"
   },
   {
    "duration": 56,
    "start_time": "2022-02-23T19:58:13.378Z"
   },
   {
    "duration": 52,
    "start_time": "2022-02-23T19:58:13.435Z"
   },
   {
    "duration": 8,
    "start_time": "2022-02-23T19:58:13.489Z"
   },
   {
    "duration": 17,
    "start_time": "2022-02-23T19:58:13.519Z"
   },
   {
    "duration": 14,
    "start_time": "2022-02-23T19:58:13.538Z"
   },
   {
    "duration": 39,
    "start_time": "2022-02-23T19:58:13.554Z"
   },
   {
    "duration": 13,
    "start_time": "2022-02-23T19:58:13.618Z"
   },
   {
    "duration": 33,
    "start_time": "2022-02-23T19:58:13.634Z"
   },
   {
    "duration": 6,
    "start_time": "2022-02-23T19:58:13.669Z"
   },
   {
    "duration": 13,
    "start_time": "2022-02-23T19:58:13.676Z"
   },
   {
    "duration": 34,
    "start_time": "2022-02-23T19:58:13.718Z"
   },
   {
    "duration": 43,
    "start_time": "2022-02-23T19:58:13.754Z"
   },
   {
    "duration": 5,
    "start_time": "2022-02-23T19:58:13.818Z"
   },
   {
    "duration": 22,
    "start_time": "2022-02-23T19:58:13.825Z"
   },
   {
    "duration": 24,
    "start_time": "2022-02-23T19:58:13.849Z"
   },
   {
    "duration": 4,
    "start_time": "2022-02-23T19:58:13.875Z"
   },
   {
    "duration": 55,
    "start_time": "2022-02-23T19:58:13.881Z"
   },
   {
    "duration": 21,
    "start_time": "2022-02-23T19:58:13.939Z"
   },
   {
    "duration": 12,
    "start_time": "2022-02-23T19:58:13.962Z"
   },
   {
    "duration": 4,
    "start_time": "2022-02-23T19:58:13.976Z"
   },
   {
    "duration": 50,
    "start_time": "2022-02-23T19:58:13.982Z"
   },
   {
    "duration": 24,
    "start_time": "2022-02-23T19:58:14.034Z"
   },
   {
    "duration": 10,
    "start_time": "2022-02-23T19:58:14.060Z"
   },
   {
    "duration": 14,
    "start_time": "2022-02-23T19:58:14.072Z"
   },
   {
    "duration": 9,
    "start_time": "2022-02-23T19:58:14.119Z"
   },
   {
    "duration": 8,
    "start_time": "2022-02-23T19:58:14.130Z"
   },
   {
    "duration": 10,
    "start_time": "2022-02-23T19:58:14.139Z"
   },
   {
    "duration": 23,
    "start_time": "2022-02-23T19:58:14.150Z"
   },
   {
    "duration": 8,
    "start_time": "2022-02-23T19:58:14.176Z"
   },
   {
    "duration": 118,
    "start_time": "2022-02-23T19:58:14.186Z"
   },
   {
    "duration": 3,
    "start_time": "2022-02-23T19:58:14.306Z"
   },
   {
    "duration": 87,
    "start_time": "2022-02-23T19:58:14.319Z"
   },
   {
    "duration": 12,
    "start_time": "2022-02-23T19:58:14.407Z"
   },
   {
    "duration": 98,
    "start_time": "2022-02-23T19:58:14.421Z"
   },
   {
    "duration": 5,
    "start_time": "2022-02-23T19:58:14.521Z"
   },
   {
    "duration": 139,
    "start_time": "2022-02-23T19:58:14.527Z"
   },
   {
    "duration": 9,
    "start_time": "2022-02-23T19:58:14.668Z"
   },
   {
    "duration": 9,
    "start_time": "2022-02-23T19:58:14.679Z"
   },
   {
    "duration": 29,
    "start_time": "2022-02-23T19:58:14.689Z"
   },
   {
    "duration": 41,
    "start_time": "2022-02-23T19:58:14.720Z"
   },
   {
    "duration": 7,
    "start_time": "2022-02-23T19:58:14.762Z"
   },
   {
    "duration": 8,
    "start_time": "2022-02-23T19:58:14.770Z"
   },
   {
    "duration": 43,
    "start_time": "2022-02-23T19:58:14.780Z"
   },
   {
    "duration": 8,
    "start_time": "2022-02-23T19:58:14.825Z"
   },
   {
    "duration": 12,
    "start_time": "2022-02-23T19:58:14.834Z"
   },
   {
    "duration": 7,
    "start_time": "2022-02-23T19:58:14.847Z"
   },
   {
    "duration": 458,
    "start_time": "2022-02-23T19:58:14.855Z"
   },
   {
    "duration": 391,
    "start_time": "2022-02-23T19:58:15.319Z"
   },
   {
    "duration": 395,
    "start_time": "2022-02-23T19:58:15.712Z"
   },
   {
    "duration": 10,
    "start_time": "2022-02-23T19:58:16.109Z"
   },
   {
    "duration": 16,
    "start_time": "2022-02-23T19:58:16.121Z"
   },
   {
    "duration": 11,
    "start_time": "2022-02-23T19:58:16.139Z"
   },
   {
    "duration": 11,
    "start_time": "2022-02-23T19:58:16.155Z"
   },
   {
    "duration": 28,
    "start_time": "2022-02-23T19:58:16.168Z"
   },
   {
    "duration": 20,
    "start_time": "2022-02-23T19:58:16.197Z"
   },
   {
    "duration": 24,
    "start_time": "2022-02-23T19:58:16.219Z"
   },
   {
    "duration": 9,
    "start_time": "2022-02-23T19:58:16.245Z"
   },
   {
    "duration": 13,
    "start_time": "2022-02-23T19:58:16.255Z"
   },
   {
    "duration": 8,
    "start_time": "2022-02-23T19:58:16.270Z"
   },
   {
    "duration": 18,
    "start_time": "2022-02-23T19:58:16.280Z"
   },
   {
    "duration": 36,
    "start_time": "2022-02-23T19:58:16.300Z"
   },
   {
    "duration": 19,
    "start_time": "2022-02-23T19:58:16.338Z"
   },
   {
    "duration": 14,
    "start_time": "2022-02-23T19:58:16.359Z"
   },
   {
    "duration": 1429,
    "start_time": "2022-02-23T19:58:16.375Z"
   },
   {
    "duration": 22,
    "start_time": "2022-02-23T19:58:17.806Z"
   },
   {
    "duration": 1230,
    "start_time": "2022-02-23T20:07:25.049Z"
   },
   {
    "duration": 406,
    "start_time": "2022-02-23T20:07:26.281Z"
   },
   {
    "duration": 11,
    "start_time": "2022-02-23T20:07:26.689Z"
   },
   {
    "duration": 24,
    "start_time": "2022-02-23T20:07:26.702Z"
   },
   {
    "duration": 119,
    "start_time": "2022-02-23T20:07:26.728Z"
   },
   {
    "duration": 9,
    "start_time": "2022-02-23T20:07:26.849Z"
   },
   {
    "duration": 21,
    "start_time": "2022-02-23T20:07:26.860Z"
   },
   {
    "duration": 92,
    "start_time": "2022-02-23T20:07:26.882Z"
   },
   {
    "duration": 8,
    "start_time": "2022-02-23T20:07:26.977Z"
   },
   {
    "duration": 35,
    "start_time": "2022-02-23T20:07:26.988Z"
   },
   {
    "duration": 74,
    "start_time": "2022-02-23T20:07:27.025Z"
   },
   {
    "duration": 8,
    "start_time": "2022-02-23T20:07:27.102Z"
   },
   {
    "duration": 16,
    "start_time": "2022-02-23T20:07:27.112Z"
   },
   {
    "duration": 28,
    "start_time": "2022-02-23T20:07:27.129Z"
   },
   {
    "duration": 9,
    "start_time": "2022-02-23T20:07:27.159Z"
   },
   {
    "duration": 30,
    "start_time": "2022-02-23T20:07:27.170Z"
   },
   {
    "duration": 56,
    "start_time": "2022-02-23T20:07:27.202Z"
   },
   {
    "duration": 8,
    "start_time": "2022-02-23T20:07:27.260Z"
   },
   {
    "duration": 19,
    "start_time": "2022-02-23T20:07:27.270Z"
   },
   {
    "duration": 32,
    "start_time": "2022-02-23T20:07:27.291Z"
   },
   {
    "duration": 35,
    "start_time": "2022-02-23T20:07:27.324Z"
   },
   {
    "duration": 11,
    "start_time": "2022-02-23T20:07:27.360Z"
   },
   {
    "duration": 45,
    "start_time": "2022-02-23T20:07:27.373Z"
   },
   {
    "duration": 6,
    "start_time": "2022-02-23T20:07:27.420Z"
   },
   {
    "duration": 12,
    "start_time": "2022-02-23T20:07:27.427Z"
   },
   {
    "duration": 31,
    "start_time": "2022-02-23T20:07:27.441Z"
   },
   {
    "duration": 65,
    "start_time": "2022-02-23T20:07:27.476Z"
   },
   {
    "duration": 5,
    "start_time": "2022-02-23T20:07:27.544Z"
   },
   {
    "duration": 24,
    "start_time": "2022-02-23T20:07:27.550Z"
   },
   {
    "duration": 47,
    "start_time": "2022-02-23T20:07:27.576Z"
   },
   {
    "duration": 5,
    "start_time": "2022-02-23T20:07:27.625Z"
   },
   {
    "duration": 30,
    "start_time": "2022-02-23T20:07:27.631Z"
   },
   {
    "duration": 22,
    "start_time": "2022-02-23T20:07:27.663Z"
   },
   {
    "duration": 33,
    "start_time": "2022-02-23T20:07:27.687Z"
   },
   {
    "duration": 4,
    "start_time": "2022-02-23T20:07:27.722Z"
   },
   {
    "duration": 24,
    "start_time": "2022-02-23T20:07:27.728Z"
   },
   {
    "duration": 23,
    "start_time": "2022-02-23T20:07:27.754Z"
   },
   {
    "duration": 41,
    "start_time": "2022-02-23T20:07:27.778Z"
   },
   {
    "duration": 14,
    "start_time": "2022-02-23T20:07:27.821Z"
   },
   {
    "duration": 10,
    "start_time": "2022-02-23T20:07:27.837Z"
   },
   {
    "duration": 7,
    "start_time": "2022-02-23T20:07:27.849Z"
   },
   {
    "duration": 9,
    "start_time": "2022-02-23T20:07:27.857Z"
   },
   {
    "duration": 16,
    "start_time": "2022-02-23T20:07:27.867Z"
   },
   {
    "duration": 4,
    "start_time": "2022-02-23T20:07:27.885Z"
   },
   {
    "duration": 116,
    "start_time": "2022-02-23T20:07:27.891Z"
   },
   {
    "duration": 10,
    "start_time": "2022-02-23T20:07:28.009Z"
   },
   {
    "duration": 94,
    "start_time": "2022-02-23T20:07:28.020Z"
   },
   {
    "duration": 3,
    "start_time": "2022-02-23T20:07:28.118Z"
   },
   {
    "duration": 105,
    "start_time": "2022-02-23T20:07:28.123Z"
   },
   {
    "duration": 3,
    "start_time": "2022-02-23T20:07:28.230Z"
   },
   {
    "duration": 136,
    "start_time": "2022-02-23T20:07:28.235Z"
   },
   {
    "duration": 10,
    "start_time": "2022-02-23T20:07:28.372Z"
   },
   {
    "duration": 38,
    "start_time": "2022-02-23T20:07:28.384Z"
   },
   {
    "duration": 12,
    "start_time": "2022-02-23T20:07:28.424Z"
   },
   {
    "duration": 68,
    "start_time": "2022-02-23T20:07:28.438Z"
   },
   {
    "duration": 26,
    "start_time": "2022-02-23T20:07:28.508Z"
   },
   {
    "duration": 15,
    "start_time": "2022-02-23T20:07:28.536Z"
   },
   {
    "duration": 37,
    "start_time": "2022-02-23T20:07:28.553Z"
   },
   {
    "duration": 54,
    "start_time": "2022-02-23T20:07:28.592Z"
   },
   {
    "duration": 43,
    "start_time": "2022-02-23T20:07:28.648Z"
   },
   {
    "duration": 32,
    "start_time": "2022-02-23T20:07:28.693Z"
   },
   {
    "duration": 451,
    "start_time": "2022-02-23T20:07:28.727Z"
   },
   {
    "duration": 440,
    "start_time": "2022-02-23T20:07:29.180Z"
   },
   {
    "duration": 515,
    "start_time": "2022-02-23T20:07:29.622Z"
   },
   {
    "duration": 4,
    "start_time": "2022-02-23T20:07:30.140Z"
   },
   {
    "duration": 9,
    "start_time": "2022-02-23T20:07:30.145Z"
   },
   {
    "duration": 7,
    "start_time": "2022-02-23T20:07:30.156Z"
   },
   {
    "duration": 8,
    "start_time": "2022-02-23T20:07:30.165Z"
   },
   {
    "duration": 15,
    "start_time": "2022-02-23T20:07:30.174Z"
   },
   {
    "duration": 30,
    "start_time": "2022-02-23T20:07:30.191Z"
   },
   {
    "duration": 16,
    "start_time": "2022-02-23T20:07:30.223Z"
   },
   {
    "duration": 13,
    "start_time": "2022-02-23T20:07:30.241Z"
   },
   {
    "duration": 8,
    "start_time": "2022-02-23T20:07:30.256Z"
   },
   {
    "duration": 9,
    "start_time": "2022-02-23T20:07:30.266Z"
   },
   {
    "duration": 13,
    "start_time": "2022-02-23T20:07:30.277Z"
   },
   {
    "duration": 25,
    "start_time": "2022-02-23T20:07:30.293Z"
   },
   {
    "duration": 7,
    "start_time": "2022-02-23T20:07:30.320Z"
   },
   {
    "duration": 10,
    "start_time": "2022-02-23T20:07:30.328Z"
   },
   {
    "duration": 1380,
    "start_time": "2022-02-23T20:07:30.340Z"
   },
   {
    "duration": 17,
    "start_time": "2022-02-23T20:07:31.722Z"
   },
   {
    "duration": 1067,
    "start_time": "2022-02-24T17:48:05.392Z"
   },
   {
    "duration": 407,
    "start_time": "2022-02-24T17:48:06.461Z"
   },
   {
    "duration": 11,
    "start_time": "2022-02-24T17:48:09.241Z"
   },
   {
    "duration": 21,
    "start_time": "2022-02-24T17:48:09.917Z"
   },
   {
    "duration": 101,
    "start_time": "2022-02-24T17:48:12.498Z"
   },
   {
    "duration": 8,
    "start_time": "2022-02-24T17:48:13.686Z"
   },
   {
    "duration": 3,
    "start_time": "2022-02-24T17:48:46.842Z"
   },
   {
    "duration": 390,
    "start_time": "2022-02-24T17:48:46.846Z"
   },
   {
    "duration": 8,
    "start_time": "2022-02-24T17:48:47.238Z"
   },
   {
    "duration": 22,
    "start_time": "2022-02-24T17:48:47.248Z"
   },
   {
    "duration": 105,
    "start_time": "2022-02-24T17:48:47.272Z"
   },
   {
    "duration": 8,
    "start_time": "2022-02-24T17:48:50.492Z"
   },
   {
    "duration": 3,
    "start_time": "2022-02-24T17:49:06.030Z"
   },
   {
    "duration": 378,
    "start_time": "2022-02-24T17:49:06.037Z"
   },
   {
    "duration": 8,
    "start_time": "2022-02-24T17:49:06.417Z"
   },
   {
    "duration": 21,
    "start_time": "2022-02-24T17:49:06.427Z"
   },
   {
    "duration": 92,
    "start_time": "2022-02-24T17:49:06.450Z"
   },
   {
    "duration": 10,
    "start_time": "2022-02-24T17:49:06.544Z"
   },
   {
    "duration": 4,
    "start_time": "2022-02-24T17:50:26.841Z"
   },
   {
    "duration": 423,
    "start_time": "2022-02-24T17:50:26.847Z"
   },
   {
    "duration": 7,
    "start_time": "2022-02-24T17:50:27.273Z"
   },
   {
    "duration": 24,
    "start_time": "2022-02-24T17:50:27.282Z"
   },
   {
    "duration": 89,
    "start_time": "2022-02-24T17:50:27.309Z"
   },
   {
    "duration": 8,
    "start_time": "2022-02-24T17:50:27.400Z"
   },
   {
    "duration": 3,
    "start_time": "2022-02-24T17:50:50.711Z"
   },
   {
    "duration": 382,
    "start_time": "2022-02-24T17:50:50.718Z"
   },
   {
    "duration": 8,
    "start_time": "2022-02-24T17:50:51.101Z"
   },
   {
    "duration": 25,
    "start_time": "2022-02-24T17:50:51.111Z"
   },
   {
    "duration": 94,
    "start_time": "2022-02-24T17:50:51.138Z"
   },
   {
    "duration": 8,
    "start_time": "2022-02-24T17:50:51.234Z"
   },
   {
    "duration": 16,
    "start_time": "2022-02-24T17:50:51.244Z"
   },
   {
    "duration": 39,
    "start_time": "2022-02-24T17:50:51.262Z"
   },
   {
    "duration": 3,
    "start_time": "2022-02-24T17:58:33.028Z"
   },
   {
    "duration": 391,
    "start_time": "2022-02-24T17:58:33.033Z"
   },
   {
    "duration": 7,
    "start_time": "2022-02-24T17:58:33.426Z"
   },
   {
    "duration": 26,
    "start_time": "2022-02-24T17:58:33.435Z"
   },
   {
    "duration": 94,
    "start_time": "2022-02-24T17:58:33.463Z"
   },
   {
    "duration": 8,
    "start_time": "2022-02-24T17:58:33.559Z"
   },
   {
    "duration": 18,
    "start_time": "2022-02-24T17:58:33.569Z"
   },
   {
    "duration": 57,
    "start_time": "2022-02-24T17:58:33.588Z"
   },
   {
    "duration": 7,
    "start_time": "2022-02-24T17:58:33.646Z"
   },
   {
    "duration": 17,
    "start_time": "2022-02-24T17:58:33.655Z"
   },
   {
    "duration": 38,
    "start_time": "2022-02-24T17:58:33.673Z"
   },
   {
    "duration": 25,
    "start_time": "2022-02-24T17:58:33.713Z"
   },
   {
    "duration": 8,
    "start_time": "2022-02-24T17:58:33.740Z"
   },
   {
    "duration": 11,
    "start_time": "2022-02-24T17:58:33.750Z"
   },
   {
    "duration": 12,
    "start_time": "2022-02-24T17:58:33.763Z"
   },
   {
    "duration": 16,
    "start_time": "2022-02-24T17:58:33.776Z"
   },
   {
    "duration": 65,
    "start_time": "2022-02-24T17:58:33.794Z"
   },
   {
    "duration": 7,
    "start_time": "2022-02-24T17:58:33.861Z"
   },
   {
    "duration": 12,
    "start_time": "2022-02-24T17:58:33.871Z"
   },
   {
    "duration": 268,
    "start_time": "2022-02-24T17:58:33.885Z"
   },
   {
    "duration": -361,
    "start_time": "2022-02-24T17:58:34.516Z"
   },
   {
    "duration": -366,
    "start_time": "2022-02-24T17:58:34.522Z"
   },
   {
    "duration": -374,
    "start_time": "2022-02-24T17:58:34.530Z"
   },
   {
    "duration": -378,
    "start_time": "2022-02-24T17:58:34.535Z"
   },
   {
    "duration": -382,
    "start_time": "2022-02-24T17:58:34.541Z"
   },
   {
    "duration": -387,
    "start_time": "2022-02-24T17:58:34.547Z"
   },
   {
    "duration": 28,
    "start_time": "2022-02-24T17:58:40.134Z"
   },
   {
    "duration": 38,
    "start_time": "2022-02-24T17:58:44.462Z"
   },
   {
    "duration": 5,
    "start_time": "2022-02-24T17:59:14.093Z"
   },
   {
    "duration": 4,
    "start_time": "2022-02-24T17:59:25.586Z"
   },
   {
    "duration": 3,
    "start_time": "2022-02-24T18:23:26.529Z"
   },
   {
    "duration": 4,
    "start_time": "2022-02-24T18:23:38.608Z"
   },
   {
    "duration": 4,
    "start_time": "2022-02-24T18:23:41.570Z"
   },
   {
    "duration": 4,
    "start_time": "2022-02-24T18:23:52.510Z"
   },
   {
    "duration": 3,
    "start_time": "2022-02-24T18:24:04.862Z"
   },
   {
    "duration": 4,
    "start_time": "2022-02-24T18:24:21.538Z"
   },
   {
    "duration": 5,
    "start_time": "2022-02-24T18:24:39.757Z"
   },
   {
    "duration": 3,
    "start_time": "2022-02-24T18:24:44.386Z"
   },
   {
    "duration": 4,
    "start_time": "2022-02-24T18:25:01.678Z"
   },
   {
    "duration": 220,
    "start_time": "2022-02-24T18:25:04.809Z"
   },
   {
    "duration": 4,
    "start_time": "2022-02-24T18:25:13.859Z"
   },
   {
    "duration": 2,
    "start_time": "2022-02-24T18:26:15.474Z"
   },
   {
    "duration": 379,
    "start_time": "2022-02-24T18:26:15.485Z"
   },
   {
    "duration": 8,
    "start_time": "2022-02-24T18:26:15.865Z"
   },
   {
    "duration": 27,
    "start_time": "2022-02-24T18:26:15.874Z"
   },
   {
    "duration": 79,
    "start_time": "2022-02-24T18:26:15.903Z"
   },
   {
    "duration": 8,
    "start_time": "2022-02-24T18:26:15.984Z"
   },
   {
    "duration": 22,
    "start_time": "2022-02-24T18:26:15.994Z"
   },
   {
    "duration": 46,
    "start_time": "2022-02-24T18:26:16.018Z"
   },
   {
    "duration": 7,
    "start_time": "2022-02-24T18:26:16.067Z"
   },
   {
    "duration": 15,
    "start_time": "2022-02-24T18:26:16.076Z"
   },
   {
    "duration": 60,
    "start_time": "2022-02-24T18:26:16.093Z"
   },
   {
    "duration": 7,
    "start_time": "2022-02-24T18:26:16.155Z"
   },
   {
    "duration": 9,
    "start_time": "2022-02-24T18:26:16.164Z"
   },
   {
    "duration": 13,
    "start_time": "2022-02-24T18:26:16.175Z"
   },
   {
    "duration": 9,
    "start_time": "2022-02-24T18:26:16.190Z"
   },
   {
    "duration": 37,
    "start_time": "2022-02-24T18:26:16.200Z"
   },
   {
    "duration": 41,
    "start_time": "2022-02-24T18:26:16.239Z"
   },
   {
    "duration": 7,
    "start_time": "2022-02-24T18:26:16.282Z"
   },
   {
    "duration": 15,
    "start_time": "2022-02-24T18:26:16.291Z"
   },
   {
    "duration": 191,
    "start_time": "2022-02-24T18:26:16.308Z"
   },
   {
    "duration": -433,
    "start_time": "2022-02-24T18:26:16.934Z"
   },
   {
    "duration": -438,
    "start_time": "2022-02-24T18:26:16.940Z"
   },
   {
    "duration": -443,
    "start_time": "2022-02-24T18:26:16.945Z"
   },
   {
    "duration": -446,
    "start_time": "2022-02-24T18:26:16.949Z"
   },
   {
    "duration": -453,
    "start_time": "2022-02-24T18:26:16.956Z"
   },
   {
    "duration": -456,
    "start_time": "2022-02-24T18:26:16.960Z"
   },
   {
    "duration": -460,
    "start_time": "2022-02-24T18:26:16.965Z"
   },
   {
    "duration": -467,
    "start_time": "2022-02-24T18:26:16.972Z"
   },
   {
    "duration": -472,
    "start_time": "2022-02-24T18:26:16.978Z"
   },
   {
    "duration": -478,
    "start_time": "2022-02-24T18:26:16.984Z"
   },
   {
    "duration": -483,
    "start_time": "2022-02-24T18:26:16.990Z"
   },
   {
    "duration": -487,
    "start_time": "2022-02-24T18:26:16.995Z"
   },
   {
    "duration": 3,
    "start_time": "2022-02-24T18:26:23.229Z"
   },
   {
    "duration": 393,
    "start_time": "2022-02-24T18:26:23.234Z"
   },
   {
    "duration": 7,
    "start_time": "2022-02-24T18:26:23.629Z"
   },
   {
    "duration": 21,
    "start_time": "2022-02-24T18:26:23.638Z"
   },
   {
    "duration": 120,
    "start_time": "2022-02-24T18:26:23.661Z"
   },
   {
    "duration": 9,
    "start_time": "2022-02-24T18:26:23.782Z"
   },
   {
    "duration": 41,
    "start_time": "2022-02-24T18:26:23.794Z"
   },
   {
    "duration": 41,
    "start_time": "2022-02-24T18:26:23.837Z"
   },
   {
    "duration": 7,
    "start_time": "2022-02-24T18:26:23.880Z"
   },
   {
    "duration": 17,
    "start_time": "2022-02-24T18:26:23.889Z"
   },
   {
    "duration": 56,
    "start_time": "2022-02-24T18:26:23.908Z"
   },
   {
    "duration": 8,
    "start_time": "2022-02-24T18:26:23.965Z"
   },
   {
    "duration": 11,
    "start_time": "2022-02-24T18:26:23.974Z"
   },
   {
    "duration": 14,
    "start_time": "2022-02-24T18:26:23.987Z"
   },
   {
    "duration": 28,
    "start_time": "2022-02-24T18:26:24.003Z"
   },
   {
    "duration": 17,
    "start_time": "2022-02-24T18:26:24.033Z"
   },
   {
    "duration": 47,
    "start_time": "2022-02-24T18:26:24.051Z"
   },
   {
    "duration": 9,
    "start_time": "2022-02-24T18:26:24.100Z"
   },
   {
    "duration": 12,
    "start_time": "2022-02-24T18:26:24.132Z"
   },
   {
    "duration": 173,
    "start_time": "2022-02-24T18:26:24.146Z"
   },
   {
    "duration": -364,
    "start_time": "2022-02-24T18:26:24.685Z"
   },
   {
    "duration": -370,
    "start_time": "2022-02-24T18:26:24.692Z"
   },
   {
    "duration": -374,
    "start_time": "2022-02-24T18:26:24.697Z"
   },
   {
    "duration": -379,
    "start_time": "2022-02-24T18:26:24.703Z"
   },
   {
    "duration": -383,
    "start_time": "2022-02-24T18:26:24.708Z"
   },
   {
    "duration": -388,
    "start_time": "2022-02-24T18:26:24.714Z"
   },
   {
    "duration": -392,
    "start_time": "2022-02-24T18:26:24.719Z"
   },
   {
    "duration": -396,
    "start_time": "2022-02-24T18:26:24.724Z"
   },
   {
    "duration": -400,
    "start_time": "2022-02-24T18:26:24.729Z"
   },
   {
    "duration": -404,
    "start_time": "2022-02-24T18:26:24.734Z"
   },
   {
    "duration": -408,
    "start_time": "2022-02-24T18:26:24.739Z"
   },
   {
    "duration": 3,
    "start_time": "2022-02-24T18:26:38.047Z"
   },
   {
    "duration": 393,
    "start_time": "2022-02-24T18:26:38.053Z"
   },
   {
    "duration": 10,
    "start_time": "2022-02-24T18:26:38.448Z"
   },
   {
    "duration": 26,
    "start_time": "2022-02-24T18:26:38.460Z"
   },
   {
    "duration": 87,
    "start_time": "2022-02-24T18:26:38.488Z"
   },
   {
    "duration": 8,
    "start_time": "2022-02-24T18:26:38.577Z"
   },
   {
    "duration": 17,
    "start_time": "2022-02-24T18:26:38.586Z"
   },
   {
    "duration": 57,
    "start_time": "2022-02-24T18:26:38.605Z"
   },
   {
    "duration": 9,
    "start_time": "2022-02-24T18:26:38.665Z"
   },
   {
    "duration": 21,
    "start_time": "2022-02-24T18:26:38.676Z"
   },
   {
    "duration": 58,
    "start_time": "2022-02-24T18:26:38.698Z"
   },
   {
    "duration": 10,
    "start_time": "2022-02-24T18:26:38.757Z"
   },
   {
    "duration": 11,
    "start_time": "2022-02-24T18:26:38.769Z"
   },
   {
    "duration": 34,
    "start_time": "2022-02-24T18:26:38.781Z"
   },
   {
    "duration": 13,
    "start_time": "2022-02-24T18:26:38.817Z"
   },
   {
    "duration": 21,
    "start_time": "2022-02-24T18:26:38.832Z"
   },
   {
    "duration": 44,
    "start_time": "2022-02-24T18:26:38.855Z"
   },
   {
    "duration": 7,
    "start_time": "2022-02-24T18:26:38.901Z"
   },
   {
    "duration": 29,
    "start_time": "2022-02-24T18:26:38.910Z"
   },
   {
    "duration": 177,
    "start_time": "2022-02-24T18:26:38.941Z"
   },
   {
    "duration": -410,
    "start_time": "2022-02-24T18:26:39.530Z"
   },
   {
    "duration": -415,
    "start_time": "2022-02-24T18:26:39.536Z"
   },
   {
    "duration": -419,
    "start_time": "2022-02-24T18:26:39.541Z"
   },
   {
    "duration": -423,
    "start_time": "2022-02-24T18:26:39.546Z"
   },
   {
    "duration": -427,
    "start_time": "2022-02-24T18:26:39.551Z"
   },
   {
    "duration": -431,
    "start_time": "2022-02-24T18:26:39.556Z"
   },
   {
    "duration": -436,
    "start_time": "2022-02-24T18:26:39.562Z"
   },
   {
    "duration": -439,
    "start_time": "2022-02-24T18:26:39.566Z"
   },
   {
    "duration": -443,
    "start_time": "2022-02-24T18:26:39.571Z"
   },
   {
    "duration": -447,
    "start_time": "2022-02-24T18:26:39.576Z"
   },
   {
    "duration": -452,
    "start_time": "2022-02-24T18:26:39.582Z"
   },
   {
    "duration": -489,
    "start_time": "2022-02-24T18:26:39.620Z"
   },
   {
    "duration": 175,
    "start_time": "2022-02-24T18:26:41.248Z"
   },
   {
    "duration": 2,
    "start_time": "2022-02-24T18:26:48.280Z"
   },
   {
    "duration": 386,
    "start_time": "2022-02-24T18:26:48.285Z"
   },
   {
    "duration": 7,
    "start_time": "2022-02-24T18:26:48.673Z"
   },
   {
    "duration": 33,
    "start_time": "2022-02-24T18:26:48.682Z"
   },
   {
    "duration": 85,
    "start_time": "2022-02-24T18:26:48.718Z"
   },
   {
    "duration": 8,
    "start_time": "2022-02-24T18:26:48.804Z"
   },
   {
    "duration": 29,
    "start_time": "2022-02-24T18:26:48.814Z"
   },
   {
    "duration": 37,
    "start_time": "2022-02-24T18:26:48.845Z"
   },
   {
    "duration": 7,
    "start_time": "2022-02-24T18:26:48.885Z"
   },
   {
    "duration": 14,
    "start_time": "2022-02-24T18:26:48.894Z"
   },
   {
    "duration": 34,
    "start_time": "2022-02-24T18:26:48.930Z"
   },
   {
    "duration": 7,
    "start_time": "2022-02-24T18:26:48.966Z"
   },
   {
    "duration": 6,
    "start_time": "2022-02-24T18:26:48.975Z"
   },
   {
    "duration": 12,
    "start_time": "2022-02-24T18:26:48.983Z"
   },
   {
    "duration": 34,
    "start_time": "2022-02-24T18:26:48.997Z"
   },
   {
    "duration": 14,
    "start_time": "2022-02-24T18:26:49.032Z"
   },
   {
    "duration": 42,
    "start_time": "2022-02-24T18:26:49.048Z"
   },
   {
    "duration": 8,
    "start_time": "2022-02-24T18:26:49.092Z"
   },
   {
    "duration": 38,
    "start_time": "2022-02-24T18:26:49.101Z"
   },
   {
    "duration": 174,
    "start_time": "2022-02-24T18:26:49.141Z"
   },
   {
    "duration": -433,
    "start_time": "2022-02-24T18:26:49.751Z"
   },
   {
    "duration": -437,
    "start_time": "2022-02-24T18:26:49.757Z"
   },
   {
    "duration": -440,
    "start_time": "2022-02-24T18:26:49.761Z"
   },
   {
    "duration": -443,
    "start_time": "2022-02-24T18:26:49.766Z"
   },
   {
    "duration": -447,
    "start_time": "2022-02-24T18:26:49.771Z"
   },
   {
    "duration": -451,
    "start_time": "2022-02-24T18:26:49.776Z"
   },
   {
    "duration": -454,
    "start_time": "2022-02-24T18:26:49.781Z"
   },
   {
    "duration": -458,
    "start_time": "2022-02-24T18:26:49.786Z"
   },
   {
    "duration": -461,
    "start_time": "2022-02-24T18:26:49.791Z"
   },
   {
    "duration": -466,
    "start_time": "2022-02-24T18:26:49.797Z"
   },
   {
    "duration": -472,
    "start_time": "2022-02-24T18:26:49.804Z"
   },
   {
    "duration": -476,
    "start_time": "2022-02-24T18:26:49.810Z"
   },
   {
    "duration": -480,
    "start_time": "2022-02-24T18:26:49.816Z"
   },
   {
    "duration": 194,
    "start_time": "2022-02-24T18:27:10.573Z"
   },
   {
    "duration": 1134,
    "start_time": "2022-02-24T18:27:20.416Z"
   },
   {
    "duration": 379,
    "start_time": "2022-02-24T18:27:21.552Z"
   },
   {
    "duration": 12,
    "start_time": "2022-02-24T18:27:21.933Z"
   },
   {
    "duration": 22,
    "start_time": "2022-02-24T18:27:21.947Z"
   },
   {
    "duration": 126,
    "start_time": "2022-02-24T18:27:21.971Z"
   },
   {
    "duration": 8,
    "start_time": "2022-02-24T18:27:22.099Z"
   },
   {
    "duration": 28,
    "start_time": "2022-02-24T18:27:22.108Z"
   },
   {
    "duration": 43,
    "start_time": "2022-02-24T18:27:22.139Z"
   },
   {
    "duration": 7,
    "start_time": "2022-02-24T18:27:22.185Z"
   },
   {
    "duration": 16,
    "start_time": "2022-02-24T18:27:22.193Z"
   },
   {
    "duration": 45,
    "start_time": "2022-02-24T18:27:22.230Z"
   },
   {
    "duration": 8,
    "start_time": "2022-02-24T18:27:22.277Z"
   },
   {
    "duration": 8,
    "start_time": "2022-02-24T18:27:22.287Z"
   },
   {
    "duration": 13,
    "start_time": "2022-02-24T18:27:22.296Z"
   },
   {
    "duration": 12,
    "start_time": "2022-02-24T18:27:22.331Z"
   },
   {
    "duration": 23,
    "start_time": "2022-02-24T18:27:22.345Z"
   },
   {
    "duration": 43,
    "start_time": "2022-02-24T18:27:22.370Z"
   },
   {
    "duration": 16,
    "start_time": "2022-02-24T18:27:22.415Z"
   },
   {
    "duration": 25,
    "start_time": "2022-02-24T18:27:22.433Z"
   },
   {
    "duration": 307,
    "start_time": "2022-02-24T18:27:22.460Z"
   },
   {
    "duration": -354,
    "start_time": "2022-02-24T18:27:23.123Z"
   },
   {
    "duration": -359,
    "start_time": "2022-02-24T18:27:23.129Z"
   },
   {
    "duration": -363,
    "start_time": "2022-02-24T18:27:23.134Z"
   },
   {
    "duration": -369,
    "start_time": "2022-02-24T18:27:23.141Z"
   },
   {
    "duration": -372,
    "start_time": "2022-02-24T18:27:23.145Z"
   },
   {
    "duration": -377,
    "start_time": "2022-02-24T18:27:23.151Z"
   },
   {
    "duration": -382,
    "start_time": "2022-02-24T18:27:23.157Z"
   },
   {
    "duration": -387,
    "start_time": "2022-02-24T18:27:23.163Z"
   },
   {
    "duration": -393,
    "start_time": "2022-02-24T18:27:23.170Z"
   },
   {
    "duration": -399,
    "start_time": "2022-02-24T18:27:23.177Z"
   },
   {
    "duration": -404,
    "start_time": "2022-02-24T18:27:23.183Z"
   },
   {
    "duration": 3,
    "start_time": "2022-02-24T18:28:11.711Z"
   },
   {
    "duration": 380,
    "start_time": "2022-02-24T18:28:11.716Z"
   },
   {
    "duration": 8,
    "start_time": "2022-02-24T18:28:12.099Z"
   },
   {
    "duration": 21,
    "start_time": "2022-02-24T18:28:12.109Z"
   },
   {
    "duration": 91,
    "start_time": "2022-02-24T18:28:12.132Z"
   },
   {
    "duration": 8,
    "start_time": "2022-02-24T18:28:12.230Z"
   },
   {
    "duration": 21,
    "start_time": "2022-02-24T18:28:12.239Z"
   },
   {
    "duration": 42,
    "start_time": "2022-02-24T18:28:12.261Z"
   },
   {
    "duration": 29,
    "start_time": "2022-02-24T18:28:12.305Z"
   },
   {
    "duration": 17,
    "start_time": "2022-02-24T18:28:12.336Z"
   },
   {
    "duration": 37,
    "start_time": "2022-02-24T18:28:12.355Z"
   },
   {
    "duration": 7,
    "start_time": "2022-02-24T18:28:12.394Z"
   },
   {
    "duration": 28,
    "start_time": "2022-02-24T18:28:12.403Z"
   },
   {
    "duration": 14,
    "start_time": "2022-02-24T18:28:12.432Z"
   },
   {
    "duration": 9,
    "start_time": "2022-02-24T18:28:12.448Z"
   },
   {
    "duration": 19,
    "start_time": "2022-02-24T18:28:12.458Z"
   },
   {
    "duration": 64,
    "start_time": "2022-02-24T18:28:12.479Z"
   },
   {
    "duration": 7,
    "start_time": "2022-02-24T18:28:12.545Z"
   },
   {
    "duration": 16,
    "start_time": "2022-02-24T18:28:12.554Z"
   },
   {
    "duration": 180,
    "start_time": "2022-02-24T18:28:12.572Z"
   },
   {
    "duration": -590,
    "start_time": "2022-02-24T18:28:13.344Z"
   },
   {
    "duration": -597,
    "start_time": "2022-02-24T18:28:13.352Z"
   },
   {
    "duration": -604,
    "start_time": "2022-02-24T18:28:13.360Z"
   },
   {
    "duration": -612,
    "start_time": "2022-02-24T18:28:13.369Z"
   },
   {
    "duration": -619,
    "start_time": "2022-02-24T18:28:13.377Z"
   },
   {
    "duration": -626,
    "start_time": "2022-02-24T18:28:13.385Z"
   },
   {
    "duration": -632,
    "start_time": "2022-02-24T18:28:13.392Z"
   },
   {
    "duration": -641,
    "start_time": "2022-02-24T18:28:13.401Z"
   },
   {
    "duration": -685,
    "start_time": "2022-02-24T18:28:13.446Z"
   },
   {
    "duration": -693,
    "start_time": "2022-02-24T18:28:13.455Z"
   },
   {
    "duration": -702,
    "start_time": "2022-02-24T18:28:13.465Z"
   },
   {
    "duration": 3,
    "start_time": "2022-02-24T18:28:21.697Z"
   },
   {
    "duration": 386,
    "start_time": "2022-02-24T18:28:21.701Z"
   },
   {
    "duration": 8,
    "start_time": "2022-02-24T18:28:22.089Z"
   },
   {
    "duration": 24,
    "start_time": "2022-02-24T18:28:22.099Z"
   },
   {
    "duration": 95,
    "start_time": "2022-02-24T18:28:22.124Z"
   },
   {
    "duration": 16,
    "start_time": "2022-02-24T18:28:22.221Z"
   },
   {
    "duration": 20,
    "start_time": "2022-02-24T18:28:22.239Z"
   },
   {
    "duration": 39,
    "start_time": "2022-02-24T18:28:22.261Z"
   },
   {
    "duration": 31,
    "start_time": "2022-02-24T18:28:22.302Z"
   },
   {
    "duration": 15,
    "start_time": "2022-02-24T18:28:22.335Z"
   },
   {
    "duration": 37,
    "start_time": "2022-02-24T18:28:22.351Z"
   },
   {
    "duration": 8,
    "start_time": "2022-02-24T18:28:22.390Z"
   },
   {
    "duration": 31,
    "start_time": "2022-02-24T18:28:22.400Z"
   },
   {
    "duration": 14,
    "start_time": "2022-02-24T18:28:22.433Z"
   },
   {
    "duration": 7,
    "start_time": "2022-02-24T18:28:22.448Z"
   },
   {
    "duration": 18,
    "start_time": "2022-02-24T18:28:22.456Z"
   },
   {
    "duration": 68,
    "start_time": "2022-02-24T18:28:22.476Z"
   },
   {
    "duration": 7,
    "start_time": "2022-02-24T18:28:22.546Z"
   },
   {
    "duration": 11,
    "start_time": "2022-02-24T18:28:22.556Z"
   },
   {
    "duration": 226,
    "start_time": "2022-02-24T18:28:22.569Z"
   },
   {
    "duration": -337,
    "start_time": "2022-02-24T18:28:23.134Z"
   },
   {
    "duration": -342,
    "start_time": "2022-02-24T18:28:23.140Z"
   },
   {
    "duration": -345,
    "start_time": "2022-02-24T18:28:23.144Z"
   },
   {
    "duration": -349,
    "start_time": "2022-02-24T18:28:23.149Z"
   },
   {
    "duration": -353,
    "start_time": "2022-02-24T18:28:23.154Z"
   },
   {
    "duration": -357,
    "start_time": "2022-02-24T18:28:23.159Z"
   },
   {
    "duration": -359,
    "start_time": "2022-02-24T18:28:23.163Z"
   },
   {
    "duration": -363,
    "start_time": "2022-02-24T18:28:23.168Z"
   },
   {
    "duration": -367,
    "start_time": "2022-02-24T18:28:23.173Z"
   },
   {
    "duration": -371,
    "start_time": "2022-02-24T18:28:23.178Z"
   },
   {
    "duration": -374,
    "start_time": "2022-02-24T18:28:23.182Z"
   },
   {
    "duration": 3,
    "start_time": "2022-02-24T18:28:32.563Z"
   },
   {
    "duration": 388,
    "start_time": "2022-02-24T18:28:32.568Z"
   },
   {
    "duration": 7,
    "start_time": "2022-02-24T18:28:32.958Z"
   },
   {
    "duration": 23,
    "start_time": "2022-02-24T18:28:32.967Z"
   },
   {
    "duration": 88,
    "start_time": "2022-02-24T18:28:32.992Z"
   },
   {
    "duration": 8,
    "start_time": "2022-02-24T18:28:33.081Z"
   },
   {
    "duration": 26,
    "start_time": "2022-02-24T18:28:33.091Z"
   },
   {
    "duration": 42,
    "start_time": "2022-02-24T18:28:33.120Z"
   },
   {
    "duration": 6,
    "start_time": "2022-02-24T18:28:33.164Z"
   },
   {
    "duration": 16,
    "start_time": "2022-02-24T18:28:33.172Z"
   },
   {
    "duration": 60,
    "start_time": "2022-02-24T18:28:33.190Z"
   },
   {
    "duration": 7,
    "start_time": "2022-02-24T18:28:33.251Z"
   },
   {
    "duration": 10,
    "start_time": "2022-02-24T18:28:33.260Z"
   },
   {
    "duration": 11,
    "start_time": "2022-02-24T18:28:33.272Z"
   },
   {
    "duration": 13,
    "start_time": "2022-02-24T18:28:33.285Z"
   },
   {
    "duration": 35,
    "start_time": "2022-02-24T18:28:33.300Z"
   },
   {
    "duration": 45,
    "start_time": "2022-02-24T18:28:33.337Z"
   },
   {
    "duration": 8,
    "start_time": "2022-02-24T18:28:33.384Z"
   },
   {
    "duration": 36,
    "start_time": "2022-02-24T18:28:33.395Z"
   },
   {
    "duration": 174,
    "start_time": "2022-02-24T18:28:33.433Z"
   },
   {
    "duration": -394,
    "start_time": "2022-02-24T18:28:34.003Z"
   },
   {
    "duration": -400,
    "start_time": "2022-02-24T18:28:34.010Z"
   },
   {
    "duration": -406,
    "start_time": "2022-02-24T18:28:34.017Z"
   },
   {
    "duration": -410,
    "start_time": "2022-02-24T18:28:34.022Z"
   },
   {
    "duration": -415,
    "start_time": "2022-02-24T18:28:34.028Z"
   },
   {
    "duration": -421,
    "start_time": "2022-02-24T18:28:34.035Z"
   },
   {
    "duration": -427,
    "start_time": "2022-02-24T18:28:34.042Z"
   },
   {
    "duration": -431,
    "start_time": "2022-02-24T18:28:34.047Z"
   },
   {
    "duration": -437,
    "start_time": "2022-02-24T18:28:34.054Z"
   },
   {
    "duration": -442,
    "start_time": "2022-02-24T18:28:34.060Z"
   },
   {
    "duration": 178,
    "start_time": "2022-02-24T18:28:36.707Z"
   },
   {
    "duration": 3,
    "start_time": "2022-02-24T18:28:57.518Z"
   },
   {
    "duration": 386,
    "start_time": "2022-02-24T18:28:57.522Z"
   },
   {
    "duration": 11,
    "start_time": "2022-02-24T18:28:57.910Z"
   },
   {
    "duration": 37,
    "start_time": "2022-02-24T18:28:57.923Z"
   },
   {
    "duration": 127,
    "start_time": "2022-02-24T18:28:57.962Z"
   },
   {
    "duration": 8,
    "start_time": "2022-02-24T18:28:58.091Z"
   },
   {
    "duration": 29,
    "start_time": "2022-02-24T18:28:58.102Z"
   },
   {
    "duration": 61,
    "start_time": "2022-02-24T18:28:58.134Z"
   },
   {
    "duration": 11,
    "start_time": "2022-02-24T18:28:58.197Z"
   },
   {
    "duration": 24,
    "start_time": "2022-02-24T18:28:58.230Z"
   },
   {
    "duration": 40,
    "start_time": "2022-02-24T18:28:58.256Z"
   },
   {
    "duration": 10,
    "start_time": "2022-02-24T18:28:58.298Z"
   },
   {
    "duration": 8,
    "start_time": "2022-02-24T18:28:58.330Z"
   },
   {
    "duration": 13,
    "start_time": "2022-02-24T18:28:58.340Z"
   },
   {
    "duration": 8,
    "start_time": "2022-02-24T18:28:58.355Z"
   },
   {
    "duration": 16,
    "start_time": "2022-02-24T18:28:58.365Z"
   },
   {
    "duration": 74,
    "start_time": "2022-02-24T18:28:58.383Z"
   },
   {
    "duration": 8,
    "start_time": "2022-02-24T18:28:58.459Z"
   },
   {
    "duration": 12,
    "start_time": "2022-02-24T18:28:58.470Z"
   },
   {
    "duration": 183,
    "start_time": "2022-02-24T18:28:58.484Z"
   },
   {
    "duration": -355,
    "start_time": "2022-02-24T18:28:59.024Z"
   },
   {
    "duration": -359,
    "start_time": "2022-02-24T18:28:59.030Z"
   },
   {
    "duration": -366,
    "start_time": "2022-02-24T18:28:59.038Z"
   },
   {
    "duration": -373,
    "start_time": "2022-02-24T18:28:59.047Z"
   },
   {
    "duration": -379,
    "start_time": "2022-02-24T18:28:59.054Z"
   },
   {
    "duration": -386,
    "start_time": "2022-02-24T18:28:59.063Z"
   },
   {
    "duration": -390,
    "start_time": "2022-02-24T18:28:59.068Z"
   },
   {
    "duration": -395,
    "start_time": "2022-02-24T18:28:59.074Z"
   },
   {
    "duration": -398,
    "start_time": "2022-02-24T18:28:59.079Z"
   },
   {
    "duration": -403,
    "start_time": "2022-02-24T18:28:59.085Z"
   },
   {
    "duration": 4,
    "start_time": "2022-02-24T18:29:01.730Z"
   },
   {
    "duration": 433,
    "start_time": "2022-02-24T18:29:01.736Z"
   },
   {
    "duration": 9,
    "start_time": "2022-02-24T18:29:02.171Z"
   },
   {
    "duration": 22,
    "start_time": "2022-02-24T18:29:02.181Z"
   },
   {
    "duration": 103,
    "start_time": "2022-02-24T18:29:02.204Z"
   },
   {
    "duration": 9,
    "start_time": "2022-02-24T18:29:02.309Z"
   },
   {
    "duration": 18,
    "start_time": "2022-02-24T18:29:02.331Z"
   },
   {
    "duration": 45,
    "start_time": "2022-02-24T18:29:02.351Z"
   },
   {
    "duration": 7,
    "start_time": "2022-02-24T18:29:02.398Z"
   },
   {
    "duration": 14,
    "start_time": "2022-02-24T18:29:02.430Z"
   },
   {
    "duration": 37,
    "start_time": "2022-02-24T18:29:02.446Z"
   },
   {
    "duration": 7,
    "start_time": "2022-02-24T18:29:02.484Z"
   },
   {
    "duration": 9,
    "start_time": "2022-02-24T18:29:02.493Z"
   },
   {
    "duration": 35,
    "start_time": "2022-02-24T18:29:02.504Z"
   },
   {
    "duration": 7,
    "start_time": "2022-02-24T18:29:02.541Z"
   },
   {
    "duration": 15,
    "start_time": "2022-02-24T18:29:02.550Z"
   },
   {
    "duration": 71,
    "start_time": "2022-02-24T18:29:02.567Z"
   },
   {
    "duration": 7,
    "start_time": "2022-02-24T18:29:02.640Z"
   },
   {
    "duration": 14,
    "start_time": "2022-02-24T18:29:02.649Z"
   },
   {
    "duration": 171,
    "start_time": "2022-02-24T18:29:02.665Z"
   },
   {
    "duration": -1202,
    "start_time": "2022-02-24T18:29:04.041Z"
   },
   {
    "duration": -1208,
    "start_time": "2022-02-24T18:29:04.048Z"
   },
   {
    "duration": -1216,
    "start_time": "2022-02-24T18:29:04.057Z"
   },
   {
    "duration": -1246,
    "start_time": "2022-02-24T18:29:04.089Z"
   },
   {
    "duration": -1253,
    "start_time": "2022-02-24T18:29:04.097Z"
   },
   {
    "duration": -1258,
    "start_time": "2022-02-24T18:29:04.102Z"
   },
   {
    "duration": -1264,
    "start_time": "2022-02-24T18:29:04.109Z"
   },
   {
    "duration": -1268,
    "start_time": "2022-02-24T18:29:04.114Z"
   },
   {
    "duration": -1273,
    "start_time": "2022-02-24T18:29:04.120Z"
   },
   {
    "duration": -1278,
    "start_time": "2022-02-24T18:29:04.126Z"
   },
   {
    "duration": -1284,
    "start_time": "2022-02-24T18:29:04.133Z"
   },
   {
    "duration": -1287,
    "start_time": "2022-02-24T18:29:04.138Z"
   },
   {
    "duration": -1292,
    "start_time": "2022-02-24T18:29:04.144Z"
   },
   {
    "duration": -1296,
    "start_time": "2022-02-24T18:29:04.149Z"
   },
   {
    "duration": -1301,
    "start_time": "2022-02-24T18:29:04.155Z"
   },
   {
    "duration": -1306,
    "start_time": "2022-02-24T18:29:04.161Z"
   },
   {
    "duration": -1312,
    "start_time": "2022-02-24T18:29:04.168Z"
   },
   {
    "duration": -1316,
    "start_time": "2022-02-24T18:29:04.173Z"
   },
   {
    "duration": -1321,
    "start_time": "2022-02-24T18:29:04.179Z"
   },
   {
    "duration": -1324,
    "start_time": "2022-02-24T18:29:04.184Z"
   },
   {
    "duration": -1338,
    "start_time": "2022-02-24T18:29:04.199Z"
   },
   {
    "duration": -1342,
    "start_time": "2022-02-24T18:29:04.204Z"
   },
   {
    "duration": -1346,
    "start_time": "2022-02-24T18:29:04.209Z"
   },
   {
    "duration": -1351,
    "start_time": "2022-02-24T18:29:04.215Z"
   },
   {
    "duration": -1355,
    "start_time": "2022-02-24T18:29:04.220Z"
   },
   {
    "duration": -1359,
    "start_time": "2022-02-24T18:29:04.225Z"
   },
   {
    "duration": -1363,
    "start_time": "2022-02-24T18:29:04.230Z"
   },
   {
    "duration": -1365,
    "start_time": "2022-02-24T18:29:04.234Z"
   },
   {
    "duration": -1367,
    "start_time": "2022-02-24T18:29:04.239Z"
   },
   {
    "duration": -1371,
    "start_time": "2022-02-24T18:29:04.244Z"
   },
   {
    "duration": -1377,
    "start_time": "2022-02-24T18:29:04.251Z"
   },
   {
    "duration": -1397,
    "start_time": "2022-02-24T18:29:04.272Z"
   },
   {
    "duration": -1416,
    "start_time": "2022-02-24T18:29:04.292Z"
   },
   {
    "duration": -1421,
    "start_time": "2022-02-24T18:29:04.298Z"
   },
   {
    "duration": -1432,
    "start_time": "2022-02-24T18:29:04.310Z"
   },
   {
    "duration": -1442,
    "start_time": "2022-02-24T18:29:04.321Z"
   },
   {
    "duration": -1447,
    "start_time": "2022-02-24T18:29:04.326Z"
   },
   {
    "duration": -1461,
    "start_time": "2022-02-24T18:29:04.341Z"
   },
   {
    "duration": -1468,
    "start_time": "2022-02-24T18:29:04.348Z"
   },
   {
    "duration": -1430,
    "start_time": "2022-02-24T18:29:04.359Z"
   },
   {
    "duration": -1435,
    "start_time": "2022-02-24T18:29:04.366Z"
   },
   {
    "duration": -1438,
    "start_time": "2022-02-24T18:29:04.370Z"
   },
   {
    "duration": -1442,
    "start_time": "2022-02-24T18:29:04.375Z"
   },
   {
    "duration": -1446,
    "start_time": "2022-02-24T18:29:04.380Z"
   },
   {
    "duration": -1450,
    "start_time": "2022-02-24T18:29:04.385Z"
   },
   {
    "duration": -1453,
    "start_time": "2022-02-24T18:29:04.389Z"
   },
   {
    "duration": -1459,
    "start_time": "2022-02-24T18:29:04.396Z"
   },
   {
    "duration": -1462,
    "start_time": "2022-02-24T18:29:04.400Z"
   },
   {
    "duration": -1466,
    "start_time": "2022-02-24T18:29:04.406Z"
   },
   {
    "duration": -1471,
    "start_time": "2022-02-24T18:29:04.412Z"
   },
   {
    "duration": -1474,
    "start_time": "2022-02-24T18:29:04.417Z"
   },
   {
    "duration": -1478,
    "start_time": "2022-02-24T18:29:04.422Z"
   },
   {
    "duration": -1482,
    "start_time": "2022-02-24T18:29:04.427Z"
   },
   {
    "duration": -1485,
    "start_time": "2022-02-24T18:29:04.431Z"
   },
   {
    "duration": -1488,
    "start_time": "2022-02-24T18:29:04.436Z"
   },
   {
    "duration": -1490,
    "start_time": "2022-02-24T18:29:04.441Z"
   },
   {
    "duration": -1495,
    "start_time": "2022-02-24T18:29:04.447Z"
   },
   {
    "duration": -1499,
    "start_time": "2022-02-24T18:29:04.452Z"
   },
   {
    "duration": -1504,
    "start_time": "2022-02-24T18:29:04.458Z"
   },
   {
    "duration": -1516,
    "start_time": "2022-02-24T18:29:04.471Z"
   },
   {
    "duration": -1520,
    "start_time": "2022-02-24T18:29:04.476Z"
   },
   {
    "duration": 184,
    "start_time": "2022-02-24T18:47:31.318Z"
   },
   {
    "duration": 3,
    "start_time": "2022-02-24T18:47:38.579Z"
   },
   {
    "duration": 401,
    "start_time": "2022-02-24T18:47:38.584Z"
   },
   {
    "duration": 8,
    "start_time": "2022-02-24T18:47:38.987Z"
   },
   {
    "duration": 24,
    "start_time": "2022-02-24T18:47:38.997Z"
   },
   {
    "duration": 85,
    "start_time": "2022-02-24T18:47:39.022Z"
   },
   {
    "duration": 8,
    "start_time": "2022-02-24T18:47:39.108Z"
   },
   {
    "duration": 26,
    "start_time": "2022-02-24T18:47:39.119Z"
   },
   {
    "duration": 41,
    "start_time": "2022-02-24T18:47:39.147Z"
   },
   {
    "duration": 7,
    "start_time": "2022-02-24T18:47:39.190Z"
   },
   {
    "duration": 41,
    "start_time": "2022-02-24T18:47:39.199Z"
   },
   {
    "duration": 43,
    "start_time": "2022-02-24T18:47:39.242Z"
   },
   {
    "duration": 8,
    "start_time": "2022-02-24T18:47:39.286Z"
   },
   {
    "duration": 13,
    "start_time": "2022-02-24T18:47:39.296Z"
   },
   {
    "duration": 28,
    "start_time": "2022-02-24T18:47:39.311Z"
   },
   {
    "duration": 8,
    "start_time": "2022-02-24T18:47:39.341Z"
   },
   {
    "duration": 16,
    "start_time": "2022-02-24T18:47:39.351Z"
   },
   {
    "duration": 90,
    "start_time": "2022-02-24T18:47:39.369Z"
   },
   {
    "duration": 7,
    "start_time": "2022-02-24T18:47:39.461Z"
   },
   {
    "duration": 11,
    "start_time": "2022-02-24T18:47:39.472Z"
   },
   {
    "duration": 173,
    "start_time": "2022-02-24T18:47:39.484Z"
   },
   {
    "duration": -316,
    "start_time": "2022-02-24T18:47:39.975Z"
   },
   {
    "duration": -335,
    "start_time": "2022-02-24T18:47:39.996Z"
   },
   {
    "duration": -339,
    "start_time": "2022-02-24T18:47:40.001Z"
   },
   {
    "duration": -342,
    "start_time": "2022-02-24T18:47:40.005Z"
   },
   {
    "duration": -367,
    "start_time": "2022-02-24T18:47:40.031Z"
   },
   {
    "duration": -372,
    "start_time": "2022-02-24T18:47:40.037Z"
   },
   {
    "duration": -376,
    "start_time": "2022-02-24T18:47:40.042Z"
   },
   {
    "duration": -381,
    "start_time": "2022-02-24T18:47:40.048Z"
   },
   {
    "duration": -387,
    "start_time": "2022-02-24T18:47:40.055Z"
   },
   {
    "duration": -390,
    "start_time": "2022-02-24T18:47:40.060Z"
   },
   {
    "duration": -395,
    "start_time": "2022-02-24T18:47:40.066Z"
   },
   {
    "duration": -399,
    "start_time": "2022-02-24T18:47:40.071Z"
   },
   {
    "duration": -403,
    "start_time": "2022-02-24T18:47:40.076Z"
   },
   {
    "duration": -407,
    "start_time": "2022-02-24T18:47:40.081Z"
   },
   {
    "duration": 1194,
    "start_time": "2022-02-24T18:47:56.228Z"
   },
   {
    "duration": 416,
    "start_time": "2022-02-24T18:47:57.424Z"
   },
   {
    "duration": 12,
    "start_time": "2022-02-24T18:47:57.843Z"
   },
   {
    "duration": 22,
    "start_time": "2022-02-24T18:47:57.857Z"
   },
   {
    "duration": 126,
    "start_time": "2022-02-24T18:47:57.881Z"
   },
   {
    "duration": 7,
    "start_time": "2022-02-24T18:47:58.009Z"
   },
   {
    "duration": 29,
    "start_time": "2022-02-24T18:47:58.018Z"
   },
   {
    "duration": 62,
    "start_time": "2022-02-24T18:47:58.050Z"
   },
   {
    "duration": 7,
    "start_time": "2022-02-24T18:47:58.131Z"
   },
   {
    "duration": 22,
    "start_time": "2022-02-24T18:47:58.140Z"
   },
   {
    "duration": 49,
    "start_time": "2022-02-24T18:47:58.164Z"
   },
   {
    "duration": 22,
    "start_time": "2022-02-24T18:47:58.214Z"
   },
   {
    "duration": 6,
    "start_time": "2022-02-24T18:47:58.238Z"
   },
   {
    "duration": 12,
    "start_time": "2022-02-24T18:47:58.245Z"
   },
   {
    "duration": 9,
    "start_time": "2022-02-24T18:47:58.259Z"
   },
   {
    "duration": 19,
    "start_time": "2022-02-24T18:47:58.270Z"
   },
   {
    "duration": 77,
    "start_time": "2022-02-24T18:47:58.291Z"
   },
   {
    "duration": 9,
    "start_time": "2022-02-24T18:47:58.370Z"
   },
   {
    "duration": 13,
    "start_time": "2022-02-24T18:47:58.380Z"
   },
   {
    "duration": 271,
    "start_time": "2022-02-24T18:47:58.395Z"
   },
   {
    "duration": -695,
    "start_time": "2022-02-24T18:47:59.365Z"
   },
   {
    "duration": -700,
    "start_time": "2022-02-24T18:47:59.371Z"
   },
   {
    "duration": -704,
    "start_time": "2022-02-24T18:47:59.376Z"
   },
   {
    "duration": -709,
    "start_time": "2022-02-24T18:47:59.382Z"
   },
   {
    "duration": -713,
    "start_time": "2022-02-24T18:47:59.387Z"
   },
   {
    "duration": -718,
    "start_time": "2022-02-24T18:47:59.393Z"
   },
   {
    "duration": -722,
    "start_time": "2022-02-24T18:47:59.398Z"
   },
   {
    "duration": -727,
    "start_time": "2022-02-24T18:47:59.404Z"
   },
   {
    "duration": -731,
    "start_time": "2022-02-24T18:47:59.409Z"
   },
   {
    "duration": -736,
    "start_time": "2022-02-24T18:47:59.415Z"
   },
   {
    "duration": -741,
    "start_time": "2022-02-24T18:47:59.421Z"
   },
   {
    "duration": -746,
    "start_time": "2022-02-24T18:47:59.427Z"
   },
   {
    "duration": -750,
    "start_time": "2022-02-24T18:47:59.432Z"
   },
   {
    "duration": -755,
    "start_time": "2022-02-24T18:47:59.438Z"
   },
   {
    "duration": -759,
    "start_time": "2022-02-24T18:47:59.443Z"
   },
   {
    "duration": -765,
    "start_time": "2022-02-24T18:47:59.450Z"
   },
   {
    "duration": -769,
    "start_time": "2022-02-24T18:47:59.455Z"
   },
   {
    "duration": -799,
    "start_time": "2022-02-24T18:47:59.486Z"
   },
   {
    "duration": -805,
    "start_time": "2022-02-24T18:47:59.493Z"
   },
   {
    "duration": -810,
    "start_time": "2022-02-24T18:47:59.499Z"
   },
   {
    "duration": -814,
    "start_time": "2022-02-24T18:47:59.504Z"
   },
   {
    "duration": -820,
    "start_time": "2022-02-24T18:47:59.511Z"
   },
   {
    "duration": -823,
    "start_time": "2022-02-24T18:47:59.516Z"
   },
   {
    "duration": -827,
    "start_time": "2022-02-24T18:47:59.521Z"
   },
   {
    "duration": -831,
    "start_time": "2022-02-24T18:47:59.526Z"
   },
   {
    "duration": -835,
    "start_time": "2022-02-24T18:47:59.531Z"
   },
   {
    "duration": -838,
    "start_time": "2022-02-24T18:47:59.535Z"
   },
   {
    "duration": -842,
    "start_time": "2022-02-24T18:47:59.540Z"
   },
   {
    "duration": -846,
    "start_time": "2022-02-24T18:47:59.545Z"
   },
   {
    "duration": -850,
    "start_time": "2022-02-24T18:47:59.550Z"
   },
   {
    "duration": -853,
    "start_time": "2022-02-24T18:47:59.554Z"
   },
   {
    "duration": -858,
    "start_time": "2022-02-24T18:47:59.560Z"
   },
   {
    "duration": -862,
    "start_time": "2022-02-24T18:47:59.565Z"
   },
   {
    "duration": -866,
    "start_time": "2022-02-24T18:47:59.570Z"
   },
   {
    "duration": -870,
    "start_time": "2022-02-24T18:47:59.575Z"
   },
   {
    "duration": -850,
    "start_time": "2022-02-24T18:47:59.580Z"
   },
   {
    "duration": -863,
    "start_time": "2022-02-24T18:47:59.594Z"
   },
   {
    "duration": -867,
    "start_time": "2022-02-24T18:47:59.599Z"
   },
   {
    "duration": -871,
    "start_time": "2022-02-24T18:47:59.604Z"
   },
   {
    "duration": -876,
    "start_time": "2022-02-24T18:47:59.610Z"
   },
   {
    "duration": -880,
    "start_time": "2022-02-24T18:47:59.615Z"
   },
   {
    "duration": -885,
    "start_time": "2022-02-24T18:47:59.620Z"
   },
   {
    "duration": -888,
    "start_time": "2022-02-24T18:47:59.625Z"
   },
   {
    "duration": -892,
    "start_time": "2022-02-24T18:47:59.630Z"
   },
   {
    "duration": -895,
    "start_time": "2022-02-24T18:47:59.634Z"
   },
   {
    "duration": -899,
    "start_time": "2022-02-24T18:47:59.639Z"
   },
   {
    "duration": -902,
    "start_time": "2022-02-24T18:47:59.644Z"
   },
   {
    "duration": -906,
    "start_time": "2022-02-24T18:47:59.649Z"
   },
   {
    "duration": -909,
    "start_time": "2022-02-24T18:47:59.653Z"
   },
   {
    "duration": -913,
    "start_time": "2022-02-24T18:47:59.658Z"
   },
   {
    "duration": -916,
    "start_time": "2022-02-24T18:47:59.663Z"
   },
   {
    "duration": -920,
    "start_time": "2022-02-24T18:47:59.668Z"
   },
   {
    "duration": -922,
    "start_time": "2022-02-24T18:47:59.672Z"
   },
   {
    "duration": -926,
    "start_time": "2022-02-24T18:47:59.677Z"
   },
   {
    "duration": -930,
    "start_time": "2022-02-24T18:47:59.682Z"
   },
   {
    "duration": -934,
    "start_time": "2022-02-24T18:47:59.687Z"
   },
   {
    "duration": -938,
    "start_time": "2022-02-24T18:47:59.692Z"
   },
   {
    "duration": -950,
    "start_time": "2022-02-24T18:47:59.705Z"
   },
   {
    "duration": -954,
    "start_time": "2022-02-24T18:47:59.710Z"
   },
   {
    "duration": -960,
    "start_time": "2022-02-24T18:47:59.717Z"
   },
   {
    "duration": 3,
    "start_time": "2022-02-24T18:49:09.225Z"
   },
   {
    "duration": 378,
    "start_time": "2022-02-24T18:49:09.767Z"
   },
   {
    "duration": 8,
    "start_time": "2022-02-24T18:49:13.429Z"
   },
   {
    "duration": 20,
    "start_time": "2022-02-24T18:49:15.207Z"
   },
   {
    "duration": 3,
    "start_time": "2022-02-24T18:49:32.339Z"
   },
   {
    "duration": 397,
    "start_time": "2022-02-24T18:49:32.344Z"
   },
   {
    "duration": 11,
    "start_time": "2022-02-24T18:49:32.743Z"
   },
   {
    "duration": 36,
    "start_time": "2022-02-24T18:49:32.757Z"
   },
   {
    "duration": 105,
    "start_time": "2022-02-24T18:49:32.796Z"
   },
   {
    "duration": 8,
    "start_time": "2022-02-24T18:49:32.903Z"
   },
   {
    "duration": 26,
    "start_time": "2022-02-24T18:49:32.913Z"
   },
   {
    "duration": 40,
    "start_time": "2022-02-24T18:49:32.942Z"
   },
   {
    "duration": 8,
    "start_time": "2022-02-24T18:49:32.983Z"
   },
   {
    "duration": 44,
    "start_time": "2022-02-24T18:49:32.993Z"
   },
   {
    "duration": 38,
    "start_time": "2022-02-24T18:49:33.039Z"
   },
   {
    "duration": 7,
    "start_time": "2022-02-24T18:49:33.079Z"
   },
   {
    "duration": 7,
    "start_time": "2022-02-24T18:49:33.088Z"
   },
   {
    "duration": 11,
    "start_time": "2022-02-24T18:49:33.096Z"
   },
   {
    "duration": 6,
    "start_time": "2022-02-24T18:49:33.131Z"
   },
   {
    "duration": 19,
    "start_time": "2022-02-24T18:49:33.138Z"
   },
   {
    "duration": 42,
    "start_time": "2022-02-24T18:49:33.159Z"
   },
   {
    "duration": 29,
    "start_time": "2022-02-24T18:49:33.202Z"
   },
   {
    "duration": 15,
    "start_time": "2022-02-24T18:49:33.235Z"
   },
   {
    "duration": 243,
    "start_time": "2022-02-24T18:49:33.252Z"
   },
   {
    "duration": -349,
    "start_time": "2022-02-24T18:49:33.846Z"
   },
   {
    "duration": -354,
    "start_time": "2022-02-24T18:49:33.852Z"
   },
   {
    "duration": -359,
    "start_time": "2022-02-24T18:49:33.858Z"
   },
   {
    "duration": -363,
    "start_time": "2022-02-24T18:49:33.863Z"
   },
   {
    "duration": -367,
    "start_time": "2022-02-24T18:49:33.868Z"
   },
   {
    "duration": 1129,
    "start_time": "2022-02-24T18:50:03.718Z"
   },
   {
    "duration": 376,
    "start_time": "2022-02-24T18:50:04.849Z"
   },
   {
    "duration": 12,
    "start_time": "2022-02-24T18:50:05.227Z"
   },
   {
    "duration": 21,
    "start_time": "2022-02-24T18:50:05.241Z"
   },
   {
    "duration": 151,
    "start_time": "2022-02-24T18:50:05.264Z"
   },
   {
    "duration": 17,
    "start_time": "2022-02-24T18:50:05.417Z"
   },
   {
    "duration": 18,
    "start_time": "2022-02-24T18:50:05.436Z"
   },
   {
    "duration": 102,
    "start_time": "2022-02-24T18:50:05.457Z"
   },
   {
    "duration": 10,
    "start_time": "2022-02-24T18:50:05.561Z"
   },
   {
    "duration": 23,
    "start_time": "2022-02-24T18:50:05.573Z"
   },
   {
    "duration": 82,
    "start_time": "2022-02-24T18:50:05.598Z"
   },
   {
    "duration": 10,
    "start_time": "2022-02-24T18:50:05.682Z"
   },
   {
    "duration": 9,
    "start_time": "2022-02-24T18:50:05.695Z"
   },
   {
    "duration": 34,
    "start_time": "2022-02-24T18:50:05.706Z"
   },
   {
    "duration": 8,
    "start_time": "2022-02-24T18:50:05.742Z"
   },
   {
    "duration": 31,
    "start_time": "2022-02-24T18:50:05.752Z"
   },
   {
    "duration": 83,
    "start_time": "2022-02-24T18:50:05.785Z"
   },
   {
    "duration": 10,
    "start_time": "2022-02-24T18:50:05.871Z"
   },
   {
    "duration": 22,
    "start_time": "2022-02-24T18:50:05.883Z"
   },
   {
    "duration": 35,
    "start_time": "2022-02-24T18:50:05.906Z"
   },
   {
    "duration": 59,
    "start_time": "2022-02-24T18:50:05.943Z"
   },
   {
    "duration": 14,
    "start_time": "2022-02-24T18:50:06.004Z"
   },
   {
    "duration": 50,
    "start_time": "2022-02-24T18:50:06.022Z"
   },
   {
    "duration": 8,
    "start_time": "2022-02-24T18:50:06.074Z"
   },
   {
    "duration": 14,
    "start_time": "2022-02-24T18:50:06.084Z"
   },
   {
    "duration": 45,
    "start_time": "2022-02-24T18:50:06.100Z"
   },
   {
    "duration": 33,
    "start_time": "2022-02-24T18:50:13.113Z"
   },
   {
    "duration": 6,
    "start_time": "2022-02-24T18:50:13.607Z"
   },
   {
    "duration": 19,
    "start_time": "2022-02-24T18:50:16.842Z"
   },
   {
    "duration": 24,
    "start_time": "2022-02-24T18:50:17.046Z"
   },
   {
    "duration": 4,
    "start_time": "2022-02-24T18:50:17.257Z"
   },
   {
    "duration": 22,
    "start_time": "2022-02-24T18:50:17.907Z"
   },
   {
    "duration": 21,
    "start_time": "2022-02-24T18:50:20.770Z"
   },
   {
    "duration": 271,
    "start_time": "2022-02-24T18:51:16.060Z"
   },
   {
    "duration": 210,
    "start_time": "2022-02-24T18:53:40.324Z"
   },
   {
    "duration": 3,
    "start_time": "2022-02-24T18:55:17.043Z"
   },
   {
    "duration": 363,
    "start_time": "2022-02-24T18:55:17.049Z"
   },
   {
    "duration": 8,
    "start_time": "2022-02-24T18:55:17.414Z"
   },
   {
    "duration": 24,
    "start_time": "2022-02-24T18:55:17.423Z"
   },
   {
    "duration": 87,
    "start_time": "2022-02-24T18:55:17.448Z"
   },
   {
    "duration": 8,
    "start_time": "2022-02-24T18:55:17.537Z"
   },
   {
    "duration": 17,
    "start_time": "2022-02-24T18:55:17.547Z"
   },
   {
    "duration": 70,
    "start_time": "2022-02-24T18:55:17.566Z"
   },
   {
    "duration": 7,
    "start_time": "2022-02-24T18:55:17.640Z"
   },
   {
    "duration": 14,
    "start_time": "2022-02-24T18:55:17.649Z"
   },
   {
    "duration": 38,
    "start_time": "2022-02-24T18:55:17.664Z"
   },
   {
    "duration": 30,
    "start_time": "2022-02-24T18:55:17.704Z"
   },
   {
    "duration": 8,
    "start_time": "2022-02-24T18:55:17.736Z"
   },
   {
    "duration": 10,
    "start_time": "2022-02-24T18:55:17.746Z"
   },
   {
    "duration": 6,
    "start_time": "2022-02-24T18:55:17.758Z"
   },
   {
    "duration": 16,
    "start_time": "2022-02-24T18:55:17.765Z"
   },
   {
    "duration": 68,
    "start_time": "2022-02-24T18:55:17.782Z"
   },
   {
    "duration": 7,
    "start_time": "2022-02-24T18:55:17.852Z"
   },
   {
    "duration": 17,
    "start_time": "2022-02-24T18:55:17.861Z"
   },
   {
    "duration": 13,
    "start_time": "2022-02-24T18:55:17.880Z"
   },
   {
    "duration": 50,
    "start_time": "2022-02-24T18:55:17.894Z"
   },
   {
    "duration": 11,
    "start_time": "2022-02-24T18:55:17.946Z"
   },
   {
    "duration": 27,
    "start_time": "2022-02-24T18:55:17.959Z"
   },
   {
    "duration": 5,
    "start_time": "2022-02-24T18:55:17.989Z"
   },
   {
    "duration": 35,
    "start_time": "2022-02-24T18:55:17.996Z"
   },
   {
    "duration": 33,
    "start_time": "2022-02-24T18:55:18.033Z"
   },
   {
    "duration": 32,
    "start_time": "2022-02-24T18:55:18.068Z"
   },
   {
    "duration": 29,
    "start_time": "2022-02-24T18:55:18.102Z"
   },
   {
    "duration": 30,
    "start_time": "2022-02-24T18:55:18.133Z"
   },
   {
    "duration": 22,
    "start_time": "2022-02-24T18:55:18.165Z"
   },
   {
    "duration": 5,
    "start_time": "2022-02-24T18:55:18.188Z"
   },
   {
    "duration": 23,
    "start_time": "2022-02-24T18:55:22.623Z"
   },
   {
    "duration": 19,
    "start_time": "2022-02-24T18:55:28.707Z"
   },
   {
    "duration": 170,
    "start_time": "2022-02-24T18:55:39.790Z"
   },
   {
    "duration": 4,
    "start_time": "2022-02-24T18:57:05.290Z"
   },
   {
    "duration": 8,
    "start_time": "2022-02-24T19:00:55.407Z"
   },
   {
    "duration": 9,
    "start_time": "2022-02-24T19:01:11.076Z"
   },
   {
    "duration": 9,
    "start_time": "2022-02-24T19:01:21.494Z"
   },
   {
    "duration": 3,
    "start_time": "2022-02-24T19:01:24.361Z"
   },
   {
    "duration": 370,
    "start_time": "2022-02-24T19:01:24.366Z"
   },
   {
    "duration": 8,
    "start_time": "2022-02-24T19:01:24.738Z"
   },
   {
    "duration": 24,
    "start_time": "2022-02-24T19:01:24.747Z"
   },
   {
    "duration": 86,
    "start_time": "2022-02-24T19:01:24.773Z"
   },
   {
    "duration": 7,
    "start_time": "2022-02-24T19:01:24.861Z"
   },
   {
    "duration": 19,
    "start_time": "2022-02-24T19:01:24.871Z"
   },
   {
    "duration": 68,
    "start_time": "2022-02-24T19:01:24.892Z"
   },
   {
    "duration": 7,
    "start_time": "2022-02-24T19:01:24.961Z"
   },
   {
    "duration": 15,
    "start_time": "2022-02-24T19:01:24.970Z"
   },
   {
    "duration": 55,
    "start_time": "2022-02-24T19:01:24.987Z"
   },
   {
    "duration": 8,
    "start_time": "2022-02-24T19:01:25.044Z"
   },
   {
    "duration": 7,
    "start_time": "2022-02-24T19:01:25.054Z"
   },
   {
    "duration": 13,
    "start_time": "2022-02-24T19:01:25.063Z"
   },
   {
    "duration": 6,
    "start_time": "2022-02-24T19:01:25.078Z"
   },
   {
    "duration": 13,
    "start_time": "2022-02-24T19:01:25.086Z"
   },
   {
    "duration": 70,
    "start_time": "2022-02-24T19:01:25.100Z"
   },
   {
    "duration": 9,
    "start_time": "2022-02-24T19:01:25.172Z"
   },
   {
    "duration": 14,
    "start_time": "2022-02-24T19:01:25.185Z"
   },
   {
    "duration": 38,
    "start_time": "2022-02-24T19:01:25.202Z"
   },
   {
    "duration": 29,
    "start_time": "2022-02-24T19:01:25.242Z"
   },
   {
    "duration": 10,
    "start_time": "2022-02-24T19:01:25.273Z"
   },
   {
    "duration": 60,
    "start_time": "2022-02-24T19:01:25.285Z"
   },
   {
    "duration": 6,
    "start_time": "2022-02-24T19:01:25.347Z"
   },
   {
    "duration": 11,
    "start_time": "2022-02-24T19:01:25.355Z"
   },
   {
    "duration": 28,
    "start_time": "2022-02-24T19:01:25.368Z"
   },
   {
    "duration": 57,
    "start_time": "2022-02-24T19:01:25.398Z"
   },
   {
    "duration": 5,
    "start_time": "2022-02-24T19:01:25.457Z"
   },
   {
    "duration": 22,
    "start_time": "2022-02-24T19:01:25.464Z"
   },
   {
    "duration": 50,
    "start_time": "2022-02-24T19:01:25.488Z"
   },
   {
    "duration": 5,
    "start_time": "2022-02-24T19:01:25.540Z"
   },
   {
    "duration": 27,
    "start_time": "2022-02-24T19:01:25.547Z"
   },
   {
    "duration": 19,
    "start_time": "2022-02-24T19:01:25.576Z"
   },
   {
    "duration": 32,
    "start_time": "2022-02-24T19:01:25.598Z"
   },
   {
    "duration": 10,
    "start_time": "2022-02-24T19:01:25.632Z"
   },
   {
    "duration": 9,
    "start_time": "2022-02-24T19:01:37.042Z"
   },
   {
    "duration": 3,
    "start_time": "2022-02-24T19:01:52.902Z"
   },
   {
    "duration": 354,
    "start_time": "2022-02-24T19:01:52.907Z"
   },
   {
    "duration": 7,
    "start_time": "2022-02-24T19:01:53.263Z"
   },
   {
    "duration": 21,
    "start_time": "2022-02-24T19:01:53.272Z"
   },
   {
    "duration": 75,
    "start_time": "2022-02-24T19:01:53.295Z"
   },
   {
    "duration": 8,
    "start_time": "2022-02-24T19:01:53.371Z"
   },
   {
    "duration": 20,
    "start_time": "2022-02-24T19:01:53.381Z"
   },
   {
    "duration": 68,
    "start_time": "2022-02-24T19:01:53.404Z"
   },
   {
    "duration": 8,
    "start_time": "2022-02-24T19:01:53.474Z"
   },
   {
    "duration": 19,
    "start_time": "2022-02-24T19:01:53.483Z"
   },
   {
    "duration": 59,
    "start_time": "2022-02-24T19:01:53.503Z"
   },
   {
    "duration": 8,
    "start_time": "2022-02-24T19:01:53.564Z"
   },
   {
    "duration": 10,
    "start_time": "2022-02-24T19:01:53.574Z"
   },
   {
    "duration": 12,
    "start_time": "2022-02-24T19:01:53.585Z"
   },
   {
    "duration": 7,
    "start_time": "2022-02-24T19:01:53.598Z"
   },
   {
    "duration": 30,
    "start_time": "2022-02-24T19:01:53.606Z"
   },
   {
    "duration": 39,
    "start_time": "2022-02-24T19:01:53.638Z"
   },
   {
    "duration": 7,
    "start_time": "2022-02-24T19:01:53.679Z"
   },
   {
    "duration": 11,
    "start_time": "2022-02-24T19:01:53.690Z"
   },
   {
    "duration": 14,
    "start_time": "2022-02-24T19:01:53.731Z"
   },
   {
    "duration": 35,
    "start_time": "2022-02-24T19:01:53.747Z"
   },
   {
    "duration": 9,
    "start_time": "2022-02-24T19:01:53.784Z"
   },
   {
    "duration": 60,
    "start_time": "2022-02-24T19:01:53.795Z"
   },
   {
    "duration": 5,
    "start_time": "2022-02-24T19:01:53.857Z"
   },
   {
    "duration": 11,
    "start_time": "2022-02-24T19:01:53.864Z"
   },
   {
    "duration": 32,
    "start_time": "2022-02-24T19:01:53.876Z"
   },
   {
    "duration": 32,
    "start_time": "2022-02-24T19:01:53.930Z"
   },
   {
    "duration": 4,
    "start_time": "2022-02-24T19:01:53.964Z"
   },
   {
    "duration": 24,
    "start_time": "2022-02-24T19:01:53.969Z"
   },
   {
    "duration": 37,
    "start_time": "2022-02-24T19:01:53.994Z"
   },
   {
    "duration": 4,
    "start_time": "2022-02-24T19:01:54.033Z"
   },
   {
    "duration": 25,
    "start_time": "2022-02-24T19:01:54.038Z"
   },
   {
    "duration": 19,
    "start_time": "2022-02-24T19:01:54.065Z"
   },
   {
    "duration": 4,
    "start_time": "2022-02-24T19:01:54.086Z"
   },
   {
    "duration": 8,
    "start_time": "2022-02-24T19:02:00.266Z"
   },
   {
    "duration": 4,
    "start_time": "2022-02-24T19:33:44.488Z"
   },
   {
    "duration": 377,
    "start_time": "2022-02-24T19:33:44.494Z"
   },
   {
    "duration": 7,
    "start_time": "2022-02-24T19:33:44.873Z"
   },
   {
    "duration": 21,
    "start_time": "2022-02-24T19:33:44.882Z"
   },
   {
    "duration": 71,
    "start_time": "2022-02-24T19:33:44.904Z"
   },
   {
    "duration": 8,
    "start_time": "2022-02-24T19:33:44.976Z"
   },
   {
    "duration": 18,
    "start_time": "2022-02-24T19:33:44.986Z"
   },
   {
    "duration": 71,
    "start_time": "2022-02-24T19:33:45.006Z"
   },
   {
    "duration": 6,
    "start_time": "2022-02-24T19:33:45.079Z"
   },
   {
    "duration": 18,
    "start_time": "2022-02-24T19:33:45.087Z"
   },
   {
    "duration": 50,
    "start_time": "2022-02-24T19:33:45.107Z"
   },
   {
    "duration": 7,
    "start_time": "2022-02-24T19:33:45.159Z"
   },
   {
    "duration": 7,
    "start_time": "2022-02-24T19:33:45.168Z"
   },
   {
    "duration": 10,
    "start_time": "2022-02-24T19:33:45.177Z"
   },
   {
    "duration": 7,
    "start_time": "2022-02-24T19:33:45.188Z"
   },
   {
    "duration": 40,
    "start_time": "2022-02-24T19:33:45.196Z"
   },
   {
    "duration": 39,
    "start_time": "2022-02-24T19:33:45.238Z"
   },
   {
    "duration": 7,
    "start_time": "2022-02-24T19:33:45.280Z"
   },
   {
    "duration": 12,
    "start_time": "2022-02-24T19:33:45.290Z"
   },
   {
    "duration": 36,
    "start_time": "2022-02-24T19:33:45.304Z"
   },
   {
    "duration": 30,
    "start_time": "2022-02-24T19:33:45.341Z"
   },
   {
    "duration": 10,
    "start_time": "2022-02-24T19:33:45.372Z"
   },
   {
    "duration": 46,
    "start_time": "2022-02-24T19:33:45.384Z"
   },
   {
    "duration": 5,
    "start_time": "2022-02-24T19:33:45.432Z"
   },
   {
    "duration": 11,
    "start_time": "2022-02-24T19:33:45.439Z"
   },
   {
    "duration": 30,
    "start_time": "2022-02-24T19:33:45.452Z"
   },
   {
    "duration": 54,
    "start_time": "2022-02-24T19:33:45.484Z"
   },
   {
    "duration": 5,
    "start_time": "2022-02-24T19:33:45.540Z"
   },
   {
    "duration": 22,
    "start_time": "2022-02-24T19:33:45.547Z"
   },
   {
    "duration": 19,
    "start_time": "2022-02-24T19:33:45.571Z"
   },
   {
    "duration": 4,
    "start_time": "2022-02-24T19:33:45.592Z"
   },
   {
    "duration": 24,
    "start_time": "2022-02-24T19:33:45.630Z"
   },
   {
    "duration": 20,
    "start_time": "2022-02-24T19:33:45.656Z"
   },
   {
    "duration": 9,
    "start_time": "2022-02-24T19:33:45.677Z"
   },
   {
    "duration": 2,
    "start_time": "2022-02-24T19:35:41.514Z"
   },
   {
    "duration": 341,
    "start_time": "2022-02-24T19:35:41.518Z"
   },
   {
    "duration": 7,
    "start_time": "2022-02-24T19:35:41.861Z"
   },
   {
    "duration": 24,
    "start_time": "2022-02-24T19:35:41.869Z"
   },
   {
    "duration": 74,
    "start_time": "2022-02-24T19:35:41.895Z"
   },
   {
    "duration": 8,
    "start_time": "2022-02-24T19:35:41.971Z"
   },
   {
    "duration": 20,
    "start_time": "2022-02-24T19:35:41.982Z"
   },
   {
    "duration": 64,
    "start_time": "2022-02-24T19:35:42.005Z"
   },
   {
    "duration": 7,
    "start_time": "2022-02-24T19:35:42.070Z"
   },
   {
    "duration": 15,
    "start_time": "2022-02-24T19:35:42.079Z"
   },
   {
    "duration": 53,
    "start_time": "2022-02-24T19:35:42.096Z"
   },
   {
    "duration": 8,
    "start_time": "2022-02-24T19:35:42.151Z"
   },
   {
    "duration": 7,
    "start_time": "2022-02-24T19:35:42.161Z"
   },
   {
    "duration": 11,
    "start_time": "2022-02-24T19:35:42.170Z"
   },
   {
    "duration": 9,
    "start_time": "2022-02-24T19:35:42.183Z"
   },
   {
    "duration": 13,
    "start_time": "2022-02-24T19:35:42.193Z"
   },
   {
    "duration": 60,
    "start_time": "2022-02-24T19:35:42.208Z"
   },
   {
    "duration": 7,
    "start_time": "2022-02-24T19:35:42.270Z"
   },
   {
    "duration": 13,
    "start_time": "2022-02-24T19:35:42.280Z"
   },
   {
    "duration": 37,
    "start_time": "2022-02-24T19:35:42.294Z"
   },
   {
    "duration": 30,
    "start_time": "2022-02-24T19:35:42.332Z"
   },
   {
    "duration": 10,
    "start_time": "2022-02-24T19:35:42.363Z"
   },
   {
    "duration": 24,
    "start_time": "2022-02-24T19:35:42.375Z"
   },
   {
    "duration": 32,
    "start_time": "2022-02-24T19:35:42.401Z"
   },
   {
    "duration": 13,
    "start_time": "2022-02-24T19:35:42.434Z"
   },
   {
    "duration": 33,
    "start_time": "2022-02-24T19:35:42.449Z"
   },
   {
    "duration": 29,
    "start_time": "2022-02-24T19:35:42.483Z"
   },
   {
    "duration": 19,
    "start_time": "2022-02-24T19:35:42.513Z"
   },
   {
    "duration": 25,
    "start_time": "2022-02-24T19:35:42.534Z"
   },
   {
    "duration": 21,
    "start_time": "2022-02-24T19:35:42.561Z"
   },
   {
    "duration": 4,
    "start_time": "2022-02-24T19:35:42.584Z"
   },
   {
    "duration": 48,
    "start_time": "2022-02-24T19:35:42.589Z"
   },
   {
    "duration": 18,
    "start_time": "2022-02-24T19:35:42.639Z"
   },
   {
    "duration": 8,
    "start_time": "2022-02-24T19:35:42.658Z"
   },
   {
    "duration": 3,
    "start_time": "2022-02-24T19:36:26.766Z"
   },
   {
    "duration": 343,
    "start_time": "2022-02-24T19:36:26.771Z"
   },
   {
    "duration": 8,
    "start_time": "2022-02-24T19:36:27.117Z"
   },
   {
    "duration": 22,
    "start_time": "2022-02-24T19:36:27.127Z"
   },
   {
    "duration": 84,
    "start_time": "2022-02-24T19:36:27.150Z"
   },
   {
    "duration": 8,
    "start_time": "2022-02-24T19:36:27.235Z"
   },
   {
    "duration": 18,
    "start_time": "2022-02-24T19:36:27.245Z"
   },
   {
    "duration": 70,
    "start_time": "2022-02-24T19:36:27.265Z"
   },
   {
    "duration": 7,
    "start_time": "2022-02-24T19:36:27.338Z"
   },
   {
    "duration": 18,
    "start_time": "2022-02-24T19:36:27.348Z"
   },
   {
    "duration": 38,
    "start_time": "2022-02-24T19:36:27.368Z"
   },
   {
    "duration": 29,
    "start_time": "2022-02-24T19:36:27.408Z"
   },
   {
    "duration": 10,
    "start_time": "2022-02-24T19:36:27.439Z"
   },
   {
    "duration": 14,
    "start_time": "2022-02-24T19:36:27.451Z"
   },
   {
    "duration": 13,
    "start_time": "2022-02-24T19:36:27.467Z"
   },
   {
    "duration": 15,
    "start_time": "2022-02-24T19:36:27.482Z"
   },
   {
    "duration": 69,
    "start_time": "2022-02-24T19:36:27.499Z"
   },
   {
    "duration": 8,
    "start_time": "2022-02-24T19:36:27.570Z"
   },
   {
    "duration": 18,
    "start_time": "2022-02-24T19:36:27.580Z"
   },
   {
    "duration": 33,
    "start_time": "2022-02-24T19:36:27.600Z"
   },
   {
    "duration": 30,
    "start_time": "2022-02-24T19:36:27.635Z"
   },
   {
    "duration": 10,
    "start_time": "2022-02-24T19:36:27.667Z"
   },
   {
    "duration": 27,
    "start_time": "2022-02-24T19:36:27.680Z"
   },
   {
    "duration": 25,
    "start_time": "2022-02-24T19:36:27.709Z"
   },
   {
    "duration": 11,
    "start_time": "2022-02-24T19:36:27.736Z"
   },
   {
    "duration": 31,
    "start_time": "2022-02-24T19:36:27.749Z"
   },
   {
    "duration": 47,
    "start_time": "2022-02-24T19:36:27.784Z"
   },
   {
    "duration": 5,
    "start_time": "2022-02-24T19:36:27.833Z"
   },
   {
    "duration": 25,
    "start_time": "2022-02-24T19:36:27.840Z"
   },
   {
    "duration": 19,
    "start_time": "2022-02-24T19:36:27.867Z"
   },
   {
    "duration": 5,
    "start_time": "2022-02-24T19:36:27.888Z"
   },
   {
    "duration": 49,
    "start_time": "2022-02-24T19:36:27.894Z"
   },
   {
    "duration": 20,
    "start_time": "2022-02-24T19:36:27.945Z"
   },
   {
    "duration": 9,
    "start_time": "2022-02-24T19:36:27.967Z"
   },
   {
    "duration": 2,
    "start_time": "2022-02-24T19:36:44.456Z"
   },
   {
    "duration": 348,
    "start_time": "2022-02-24T19:36:44.462Z"
   },
   {
    "duration": 7,
    "start_time": "2022-02-24T19:36:44.812Z"
   },
   {
    "duration": 20,
    "start_time": "2022-02-24T19:36:44.821Z"
   },
   {
    "duration": 73,
    "start_time": "2022-02-24T19:36:44.843Z"
   },
   {
    "duration": 16,
    "start_time": "2022-02-24T19:36:44.918Z"
   },
   {
    "duration": 19,
    "start_time": "2022-02-24T19:36:44.936Z"
   },
   {
    "duration": 47,
    "start_time": "2022-02-24T19:36:44.956Z"
   },
   {
    "duration": 29,
    "start_time": "2022-02-24T19:36:45.007Z"
   },
   {
    "duration": 15,
    "start_time": "2022-02-24T19:36:45.039Z"
   },
   {
    "duration": 42,
    "start_time": "2022-02-24T19:36:45.056Z"
   },
   {
    "duration": 30,
    "start_time": "2022-02-24T19:36:45.100Z"
   },
   {
    "duration": 6,
    "start_time": "2022-02-24T19:36:45.132Z"
   },
   {
    "duration": 11,
    "start_time": "2022-02-24T19:36:45.140Z"
   },
   {
    "duration": 10,
    "start_time": "2022-02-24T19:36:45.152Z"
   },
   {
    "duration": 13,
    "start_time": "2022-02-24T19:36:45.163Z"
   },
   {
    "duration": 64,
    "start_time": "2022-02-24T19:36:45.178Z"
   },
   {
    "duration": 7,
    "start_time": "2022-02-24T19:36:45.244Z"
   },
   {
    "duration": 13,
    "start_time": "2022-02-24T19:36:45.252Z"
   },
   {
    "duration": 11,
    "start_time": "2022-02-24T19:36:45.267Z"
   },
   {
    "duration": 51,
    "start_time": "2022-02-24T19:36:45.279Z"
   },
   {
    "duration": 10,
    "start_time": "2022-02-24T19:36:45.332Z"
   },
   {
    "duration": 25,
    "start_time": "2022-02-24T19:36:45.343Z"
   },
   {
    "duration": 5,
    "start_time": "2022-02-24T19:36:45.372Z"
   },
   {
    "duration": 16,
    "start_time": "2022-02-24T19:36:45.378Z"
   },
   {
    "duration": 53,
    "start_time": "2022-02-24T19:36:45.396Z"
   },
   {
    "duration": 29,
    "start_time": "2022-02-24T19:36:45.451Z"
   },
   {
    "duration": 4,
    "start_time": "2022-02-24T19:36:45.481Z"
   },
   {
    "duration": 23,
    "start_time": "2022-02-24T19:36:45.486Z"
   },
   {
    "duration": 20,
    "start_time": "2022-02-24T19:36:45.530Z"
   },
   {
    "duration": 3,
    "start_time": "2022-02-24T19:36:45.552Z"
   },
   {
    "duration": 22,
    "start_time": "2022-02-24T19:36:45.557Z"
   },
   {
    "duration": 18,
    "start_time": "2022-02-24T19:36:45.581Z"
   },
   {
    "duration": 37,
    "start_time": "2022-02-24T19:36:45.600Z"
   },
   {
    "duration": 5,
    "start_time": "2022-02-24T19:37:37.032Z"
   },
   {
    "duration": 22,
    "start_time": "2022-02-24T19:37:41.634Z"
   },
   {
    "duration": 21,
    "start_time": "2022-02-24T19:37:42.661Z"
   },
   {
    "duration": 3,
    "start_time": "2022-02-24T19:40:07.470Z"
   },
   {
    "duration": 344,
    "start_time": "2022-02-24T19:40:07.476Z"
   },
   {
    "duration": 8,
    "start_time": "2022-02-24T19:40:07.822Z"
   },
   {
    "duration": 23,
    "start_time": "2022-02-24T19:40:07.831Z"
   },
   {
    "duration": 91,
    "start_time": "2022-02-24T19:40:07.856Z"
   },
   {
    "duration": 9,
    "start_time": "2022-02-24T19:40:07.948Z"
   },
   {
    "duration": 18,
    "start_time": "2022-02-24T19:40:07.959Z"
   },
   {
    "duration": 66,
    "start_time": "2022-02-24T19:40:07.979Z"
   },
   {
    "duration": 6,
    "start_time": "2022-02-24T19:40:08.047Z"
   },
   {
    "duration": 31,
    "start_time": "2022-02-24T19:40:08.055Z"
   },
   {
    "duration": 47,
    "start_time": "2022-02-24T19:40:08.088Z"
   },
   {
    "duration": 8,
    "start_time": "2022-02-24T19:40:08.137Z"
   },
   {
    "duration": 10,
    "start_time": "2022-02-24T19:40:08.147Z"
   },
   {
    "duration": 12,
    "start_time": "2022-02-24T19:40:08.159Z"
   },
   {
    "duration": 7,
    "start_time": "2022-02-24T19:40:08.173Z"
   },
   {
    "duration": 6,
    "start_time": "2022-02-24T19:40:08.182Z"
   },
   {
    "duration": 3,
    "start_time": "2022-02-24T19:42:51.193Z"
   },
   {
    "duration": 352,
    "start_time": "2022-02-24T19:42:51.199Z"
   },
   {
    "duration": 7,
    "start_time": "2022-02-24T19:42:51.553Z"
   },
   {
    "duration": 22,
    "start_time": "2022-02-24T19:42:51.562Z"
   },
   {
    "duration": 84,
    "start_time": "2022-02-24T19:42:51.586Z"
   },
   {
    "duration": 8,
    "start_time": "2022-02-24T19:42:51.672Z"
   },
   {
    "duration": 18,
    "start_time": "2022-02-24T19:42:51.681Z"
   },
   {
    "duration": 69,
    "start_time": "2022-02-24T19:42:51.700Z"
   },
   {
    "duration": 9,
    "start_time": "2022-02-24T19:42:51.772Z"
   },
   {
    "duration": 16,
    "start_time": "2022-02-24T19:42:51.783Z"
   },
   {
    "duration": 59,
    "start_time": "2022-02-24T19:42:51.801Z"
   },
   {
    "duration": 9,
    "start_time": "2022-02-24T19:42:51.862Z"
   },
   {
    "duration": 12,
    "start_time": "2022-02-24T19:42:51.873Z"
   },
   {
    "duration": 10,
    "start_time": "2022-02-24T19:42:51.887Z"
   },
   {
    "duration": 8,
    "start_time": "2022-02-24T19:42:51.898Z"
   },
   {
    "duration": 26,
    "start_time": "2022-02-24T19:42:51.907Z"
   },
   {
    "duration": 18,
    "start_time": "2022-02-24T19:42:51.935Z"
   },
   {
    "duration": 43,
    "start_time": "2022-02-24T19:42:51.955Z"
   },
   {
    "duration": 30,
    "start_time": "2022-02-24T19:42:52.000Z"
   },
   {
    "duration": 14,
    "start_time": "2022-02-24T19:42:52.031Z"
   },
   {
    "duration": 13,
    "start_time": "2022-02-24T19:42:52.046Z"
   },
   {
    "duration": 31,
    "start_time": "2022-02-24T19:42:52.061Z"
   },
   {
    "duration": 43,
    "start_time": "2022-02-24T19:42:52.094Z"
   },
   {
    "duration": 26,
    "start_time": "2022-02-24T19:42:52.140Z"
   },
   {
    "duration": 5,
    "start_time": "2022-02-24T19:42:52.168Z"
   },
   {
    "duration": 11,
    "start_time": "2022-02-24T19:42:52.175Z"
   },
   {
    "duration": 50,
    "start_time": "2022-02-24T19:42:52.188Z"
   },
   {
    "duration": 28,
    "start_time": "2022-02-24T19:42:52.239Z"
   },
   {
    "duration": 4,
    "start_time": "2022-02-24T19:42:52.269Z"
   },
   {
    "duration": 21,
    "start_time": "2022-02-24T19:42:52.274Z"
   },
   {
    "duration": 44,
    "start_time": "2022-02-24T19:42:52.296Z"
   },
   {
    "duration": 4,
    "start_time": "2022-02-24T19:42:52.342Z"
   },
   {
    "duration": 23,
    "start_time": "2022-02-24T19:42:52.349Z"
   },
   {
    "duration": 19,
    "start_time": "2022-02-24T19:42:52.374Z"
   },
   {
    "duration": 42,
    "start_time": "2022-02-24T19:42:52.395Z"
   },
   {
    "duration": 4,
    "start_time": "2022-02-24T19:42:52.439Z"
   },
   {
    "duration": 23,
    "start_time": "2022-02-24T19:42:52.445Z"
   },
   {
    "duration": 20,
    "start_time": "2022-02-24T19:42:52.470Z"
   },
   {
    "duration": 9,
    "start_time": "2022-02-24T19:43:00.057Z"
   },
   {
    "duration": 13,
    "start_time": "2022-02-24T19:44:06.874Z"
   },
   {
    "duration": 3,
    "start_time": "2022-02-24T21:12:54.450Z"
   },
   {
    "duration": 389,
    "start_time": "2022-02-24T21:12:54.456Z"
   },
   {
    "duration": 8,
    "start_time": "2022-02-24T21:12:54.847Z"
   },
   {
    "duration": 21,
    "start_time": "2022-02-24T21:12:54.857Z"
   },
   {
    "duration": 80,
    "start_time": "2022-02-24T21:12:54.880Z"
   },
   {
    "duration": 9,
    "start_time": "2022-02-24T21:12:54.962Z"
   },
   {
    "duration": 18,
    "start_time": "2022-02-24T21:12:54.973Z"
   },
   {
    "duration": 73,
    "start_time": "2022-02-24T21:12:54.993Z"
   },
   {
    "duration": 7,
    "start_time": "2022-02-24T21:12:55.068Z"
   },
   {
    "duration": 15,
    "start_time": "2022-02-24T21:12:55.077Z"
   },
   {
    "duration": 59,
    "start_time": "2022-02-24T21:12:55.094Z"
   },
   {
    "duration": 8,
    "start_time": "2022-02-24T21:12:55.154Z"
   },
   {
    "duration": 9,
    "start_time": "2022-02-24T21:12:55.163Z"
   },
   {
    "duration": 12,
    "start_time": "2022-02-24T21:12:55.174Z"
   },
   {
    "duration": 8,
    "start_time": "2022-02-24T21:12:55.187Z"
   },
   {
    "duration": 11,
    "start_time": "2022-02-24T21:12:55.196Z"
   },
   {
    "duration": 33,
    "start_time": "2022-02-24T21:12:55.209Z"
   },
   {
    "duration": 42,
    "start_time": "2022-02-24T21:12:55.244Z"
   },
   {
    "duration": 8,
    "start_time": "2022-02-24T21:12:55.288Z"
   },
   {
    "duration": 38,
    "start_time": "2022-02-24T21:12:55.298Z"
   },
   {
    "duration": 13,
    "start_time": "2022-02-24T21:12:55.338Z"
   },
   {
    "duration": 30,
    "start_time": "2022-02-24T21:12:55.353Z"
   },
   {
    "duration": 10,
    "start_time": "2022-02-24T21:12:55.385Z"
   },
   {
    "duration": 52,
    "start_time": "2022-02-24T21:12:55.399Z"
   },
   {
    "duration": 4,
    "start_time": "2022-02-24T21:12:55.453Z"
   },
   {
    "duration": 13,
    "start_time": "2022-02-24T21:12:55.459Z"
   },
   {
    "duration": 29,
    "start_time": "2022-02-24T21:12:55.474Z"
   },
   {
    "duration": 51,
    "start_time": "2022-02-24T21:12:55.504Z"
   },
   {
    "duration": 4,
    "start_time": "2022-02-24T21:12:55.557Z"
   },
   {
    "duration": 21,
    "start_time": "2022-02-24T21:12:55.562Z"
   },
   {
    "duration": 19,
    "start_time": "2022-02-24T21:12:55.585Z"
   },
   {
    "duration": 26,
    "start_time": "2022-02-24T21:12:55.605Z"
   },
   {
    "duration": 22,
    "start_time": "2022-02-24T21:12:55.632Z"
   },
   {
    "duration": 18,
    "start_time": "2022-02-24T21:12:55.656Z"
   },
   {
    "duration": 7,
    "start_time": "2022-02-24T21:12:55.675Z"
   },
   {
    "duration": 4,
    "start_time": "2022-02-24T21:12:55.684Z"
   },
   {
    "duration": 49,
    "start_time": "2022-02-24T21:12:55.690Z"
   },
   {
    "duration": 19,
    "start_time": "2022-02-24T21:12:55.741Z"
   },
   {
    "duration": 7,
    "start_time": "2022-02-24T21:12:55.762Z"
   },
   {
    "duration": 13,
    "start_time": "2022-02-24T21:12:55.771Z"
   },
   {
    "duration": 10,
    "start_time": "2022-02-24T21:12:55.785Z"
   },
   {
    "duration": 38,
    "start_time": "2022-02-24T21:12:55.797Z"
   },
   {
    "duration": 8,
    "start_time": "2022-02-24T21:12:55.837Z"
   },
   {
    "duration": 13,
    "start_time": "2022-02-24T21:12:58.599Z"
   },
   {
    "duration": 3,
    "start_time": "2022-02-24T21:23:28.205Z"
   },
   {
    "duration": 384,
    "start_time": "2022-02-24T21:23:28.210Z"
   },
   {
    "duration": 8,
    "start_time": "2022-02-24T21:23:28.596Z"
   },
   {
    "duration": 20,
    "start_time": "2022-02-24T21:23:28.606Z"
   },
   {
    "duration": 81,
    "start_time": "2022-02-24T21:23:28.628Z"
   },
   {
    "duration": 20,
    "start_time": "2022-02-24T21:23:28.711Z"
   },
   {
    "duration": 17,
    "start_time": "2022-02-24T21:23:28.733Z"
   },
   {
    "duration": 53,
    "start_time": "2022-02-24T21:23:28.752Z"
   },
   {
    "duration": 29,
    "start_time": "2022-02-24T21:23:28.806Z"
   },
   {
    "duration": 15,
    "start_time": "2022-02-24T21:23:28.836Z"
   },
   {
    "duration": 37,
    "start_time": "2022-02-24T21:23:28.852Z"
   },
   {
    "duration": 8,
    "start_time": "2022-02-24T21:23:28.890Z"
   },
   {
    "duration": 34,
    "start_time": "2022-02-24T21:23:28.899Z"
   },
   {
    "duration": 11,
    "start_time": "2022-02-24T21:23:28.934Z"
   },
   {
    "duration": 6,
    "start_time": "2022-02-24T21:23:28.947Z"
   },
   {
    "duration": 4,
    "start_time": "2022-02-24T21:23:28.955Z"
   },
   {
    "duration": 18,
    "start_time": "2022-02-24T21:23:28.961Z"
   },
   {
    "duration": 64,
    "start_time": "2022-02-24T21:23:28.980Z"
   },
   {
    "duration": 8,
    "start_time": "2022-02-24T21:23:29.047Z"
   },
   {
    "duration": 13,
    "start_time": "2022-02-24T21:23:29.056Z"
   },
   {
    "duration": 12,
    "start_time": "2022-02-24T21:23:29.070Z"
   },
   {
    "duration": 54,
    "start_time": "2022-02-24T21:23:29.084Z"
   },
   {
    "duration": 10,
    "start_time": "2022-02-24T21:23:29.140Z"
   },
   {
    "duration": 25,
    "start_time": "2022-02-24T21:23:29.151Z"
   },
   {
    "duration": 4,
    "start_time": "2022-02-24T21:23:29.178Z"
   },
   {
    "duration": 14,
    "start_time": "2022-02-24T21:23:29.184Z"
   },
   {
    "duration": 50,
    "start_time": "2022-02-24T21:23:29.200Z"
   },
   {
    "duration": 30,
    "start_time": "2022-02-24T21:23:29.252Z"
   },
   {
    "duration": 4,
    "start_time": "2022-02-24T21:23:29.284Z"
   },
   {
    "duration": 42,
    "start_time": "2022-02-24T21:23:29.289Z"
   },
   {
    "duration": 20,
    "start_time": "2022-02-24T21:23:29.333Z"
   },
   {
    "duration": 4,
    "start_time": "2022-02-24T21:23:29.354Z"
   },
   {
    "duration": 25,
    "start_time": "2022-02-24T21:23:29.360Z"
   },
   {
    "duration": 44,
    "start_time": "2022-02-24T21:23:29.387Z"
   },
   {
    "duration": 8,
    "start_time": "2022-02-24T21:23:29.433Z"
   },
   {
    "duration": 11,
    "start_time": "2022-02-24T21:23:29.443Z"
   },
   {
    "duration": 22,
    "start_time": "2022-02-24T21:23:29.455Z"
   },
   {
    "duration": 21,
    "start_time": "2022-02-24T21:23:29.479Z"
   },
   {
    "duration": 29,
    "start_time": "2022-02-24T21:23:29.502Z"
   },
   {
    "duration": 15,
    "start_time": "2022-02-24T21:23:29.532Z"
   },
   {
    "duration": 13,
    "start_time": "2022-02-24T21:23:29.548Z"
   },
   {
    "duration": 7,
    "start_time": "2022-02-24T21:23:29.562Z"
   },
   {
    "duration": 11,
    "start_time": "2022-02-24T21:23:29.570Z"
   },
   {
    "duration": 13,
    "start_time": "2022-02-24T21:23:29.582Z"
   },
   {
    "duration": 8,
    "start_time": "2022-02-24T21:23:29.596Z"
   },
   {
    "duration": 9,
    "start_time": "2022-02-24T21:23:29.631Z"
   },
   {
    "duration": 90,
    "start_time": "2022-02-24T21:23:29.641Z"
   },
   {
    "duration": 4,
    "start_time": "2022-02-24T21:23:29.733Z"
   },
   {
    "duration": 93,
    "start_time": "2022-02-24T21:23:29.738Z"
   },
   {
    "duration": 4,
    "start_time": "2022-02-24T21:23:29.832Z"
   },
   {
    "duration": 85,
    "start_time": "2022-02-24T21:23:29.837Z"
   },
   {
    "duration": 7,
    "start_time": "2022-02-24T21:23:29.924Z"
   },
   {
    "duration": 128,
    "start_time": "2022-02-24T21:23:29.933Z"
   },
   {
    "duration": 3,
    "start_time": "2022-02-24T21:23:48.089Z"
   },
   {
    "duration": 484,
    "start_time": "2022-02-24T21:23:48.094Z"
   },
   {
    "duration": 8,
    "start_time": "2022-02-24T21:23:48.581Z"
   },
   {
    "duration": 26,
    "start_time": "2022-02-24T21:23:48.591Z"
   },
   {
    "duration": 77,
    "start_time": "2022-02-24T21:23:48.619Z"
   },
   {
    "duration": 8,
    "start_time": "2022-02-24T21:23:48.698Z"
   },
   {
    "duration": 29,
    "start_time": "2022-02-24T21:23:48.709Z"
   },
   {
    "duration": 49,
    "start_time": "2022-02-24T21:23:48.740Z"
   },
   {
    "duration": 9,
    "start_time": "2022-02-24T21:23:48.791Z"
   },
   {
    "duration": 33,
    "start_time": "2022-02-24T21:23:48.802Z"
   },
   {
    "duration": 40,
    "start_time": "2022-02-24T21:23:48.837Z"
   },
   {
    "duration": 10,
    "start_time": "2022-02-24T21:23:48.880Z"
   },
   {
    "duration": 7,
    "start_time": "2022-02-24T21:23:48.892Z"
   },
   {
    "duration": 36,
    "start_time": "2022-02-24T21:23:48.901Z"
   },
   {
    "duration": 6,
    "start_time": "2022-02-24T21:23:48.938Z"
   },
   {
    "duration": 6,
    "start_time": "2022-02-24T21:23:48.946Z"
   },
   {
    "duration": 17,
    "start_time": "2022-02-24T21:23:48.954Z"
   },
   {
    "duration": 61,
    "start_time": "2022-02-24T21:23:48.973Z"
   },
   {
    "duration": 8,
    "start_time": "2022-02-24T21:23:49.038Z"
   },
   {
    "duration": 17,
    "start_time": "2022-02-24T21:23:49.048Z"
   },
   {
    "duration": 12,
    "start_time": "2022-02-24T21:23:49.067Z"
   },
   {
    "duration": 49,
    "start_time": "2022-02-24T21:23:49.081Z"
   },
   {
    "duration": 10,
    "start_time": "2022-02-24T21:23:49.132Z"
   },
   {
    "duration": 25,
    "start_time": "2022-02-24T21:23:49.143Z"
   },
   {
    "duration": 6,
    "start_time": "2022-02-24T21:23:49.170Z"
   },
   {
    "duration": 18,
    "start_time": "2022-02-24T21:23:49.179Z"
   },
   {
    "duration": 53,
    "start_time": "2022-02-24T21:23:49.199Z"
   },
   {
    "duration": 31,
    "start_time": "2022-02-24T21:23:49.254Z"
   },
   {
    "duration": 4,
    "start_time": "2022-02-24T21:23:49.287Z"
   },
   {
    "duration": 44,
    "start_time": "2022-02-24T21:23:49.293Z"
   },
   {
    "duration": 21,
    "start_time": "2022-02-24T21:23:49.338Z"
   },
   {
    "duration": 5,
    "start_time": "2022-02-24T21:23:49.361Z"
   },
   {
    "duration": 27,
    "start_time": "2022-02-24T21:23:49.368Z"
   },
   {
    "duration": 45,
    "start_time": "2022-02-24T21:23:49.396Z"
   },
   {
    "duration": 8,
    "start_time": "2022-02-24T21:23:49.442Z"
   },
   {
    "duration": 10,
    "start_time": "2022-02-24T21:23:49.451Z"
   },
   {
    "duration": 29,
    "start_time": "2022-02-24T21:23:49.462Z"
   },
   {
    "duration": 20,
    "start_time": "2022-02-24T21:23:49.492Z"
   },
   {
    "duration": 7,
    "start_time": "2022-02-24T21:23:49.530Z"
   },
   {
    "duration": 13,
    "start_time": "2022-02-24T21:23:49.538Z"
   },
   {
    "duration": 8,
    "start_time": "2022-02-24T21:23:49.553Z"
   },
   {
    "duration": 7,
    "start_time": "2022-02-24T21:23:49.563Z"
   },
   {
    "duration": 6,
    "start_time": "2022-02-24T21:23:49.572Z"
   },
   {
    "duration": 11,
    "start_time": "2022-02-24T21:23:49.580Z"
   },
   {
    "duration": 38,
    "start_time": "2022-02-24T21:23:49.593Z"
   },
   {
    "duration": 81,
    "start_time": "2022-02-24T21:23:49.633Z"
   },
   {
    "duration": 3,
    "start_time": "2022-02-24T21:23:49.716Z"
   },
   {
    "duration": 82,
    "start_time": "2022-02-24T21:23:49.731Z"
   },
   {
    "duration": 15,
    "start_time": "2022-02-24T21:23:49.815Z"
   },
   {
    "duration": 83,
    "start_time": "2022-02-24T21:23:49.832Z"
   },
   {
    "duration": 3,
    "start_time": "2022-02-24T21:23:49.916Z"
   },
   {
    "duration": 129,
    "start_time": "2022-02-24T21:23:49.920Z"
   },
   {
    "duration": 13,
    "start_time": "2022-02-24T21:26:36.118Z"
   },
   {
    "duration": 4,
    "start_time": "2022-02-24T21:26:37.002Z"
   },
   {
    "duration": 76,
    "start_time": "2022-02-24T21:26:37.444Z"
   },
   {
    "duration": 4,
    "start_time": "2022-02-24T21:26:38.366Z"
   },
   {
    "duration": 98,
    "start_time": "2022-02-24T21:26:38.776Z"
   },
   {
    "duration": 3,
    "start_time": "2022-02-24T21:26:39.738Z"
   },
   {
    "duration": 139,
    "start_time": "2022-02-24T21:26:40.679Z"
   },
   {
    "duration": 3,
    "start_time": "2022-02-24T21:26:43.284Z"
   },
   {
    "duration": 119,
    "start_time": "2022-02-24T21:26:43.926Z"
   },
   {
    "duration": 9,
    "start_time": "2022-02-24T21:26:48.118Z"
   },
   {
    "duration": 3,
    "start_time": "2022-02-24T21:43:37.785Z"
   },
   {
    "duration": 401,
    "start_time": "2022-02-24T21:43:37.789Z"
   },
   {
    "duration": 7,
    "start_time": "2022-02-24T21:43:38.192Z"
   },
   {
    "duration": 23,
    "start_time": "2022-02-24T21:43:38.201Z"
   },
   {
    "duration": 94,
    "start_time": "2022-02-24T21:43:38.226Z"
   },
   {
    "duration": 20,
    "start_time": "2022-02-24T21:43:38.321Z"
   },
   {
    "duration": 29,
    "start_time": "2022-02-24T21:43:38.343Z"
   },
   {
    "duration": 70,
    "start_time": "2022-02-24T21:43:38.375Z"
   },
   {
    "duration": 7,
    "start_time": "2022-02-24T21:43:38.449Z"
   },
   {
    "duration": 16,
    "start_time": "2022-02-24T21:43:38.458Z"
   },
   {
    "duration": 71,
    "start_time": "2022-02-24T21:43:38.476Z"
   },
   {
    "duration": 8,
    "start_time": "2022-02-24T21:43:38.549Z"
   },
   {
    "duration": 15,
    "start_time": "2022-02-24T21:43:38.559Z"
   },
   {
    "duration": 13,
    "start_time": "2022-02-24T21:43:38.576Z"
   },
   {
    "duration": 12,
    "start_time": "2022-02-24T21:43:38.591Z"
   },
   {
    "duration": 10,
    "start_time": "2022-02-24T21:43:38.605Z"
   },
   {
    "duration": 29,
    "start_time": "2022-02-24T21:43:38.617Z"
   },
   {
    "duration": 42,
    "start_time": "2022-02-24T21:43:38.648Z"
   },
   {
    "duration": 8,
    "start_time": "2022-02-24T21:43:38.692Z"
   },
   {
    "duration": 39,
    "start_time": "2022-02-24T21:43:38.701Z"
   },
   {
    "duration": 15,
    "start_time": "2022-02-24T21:43:38.742Z"
   },
   {
    "duration": 38,
    "start_time": "2022-02-24T21:43:38.759Z"
   },
   {
    "duration": 10,
    "start_time": "2022-02-24T21:43:38.802Z"
   },
   {
    "duration": 30,
    "start_time": "2022-02-24T21:43:38.836Z"
   },
   {
    "duration": 5,
    "start_time": "2022-02-24T21:43:38.867Z"
   },
   {
    "duration": 17,
    "start_time": "2022-02-24T21:43:38.873Z"
   },
   {
    "duration": 50,
    "start_time": "2022-02-24T21:43:38.892Z"
   },
   {
    "duration": 29,
    "start_time": "2022-02-24T21:43:38.944Z"
   },
   {
    "duration": 4,
    "start_time": "2022-02-24T21:43:38.974Z"
   },
   {
    "duration": 35,
    "start_time": "2022-02-24T21:43:38.979Z"
   },
   {
    "duration": 35,
    "start_time": "2022-02-24T21:43:39.015Z"
   },
   {
    "duration": 4,
    "start_time": "2022-02-24T21:43:39.052Z"
   },
   {
    "duration": 26,
    "start_time": "2022-02-24T21:43:39.058Z"
   },
   {
    "duration": 19,
    "start_time": "2022-02-24T21:43:39.086Z"
   },
   {
    "duration": 30,
    "start_time": "2022-02-24T21:43:39.107Z"
   },
   {
    "duration": 6,
    "start_time": "2022-02-24T21:43:39.139Z"
   },
   {
    "duration": 22,
    "start_time": "2022-02-24T21:43:39.147Z"
   },
   {
    "duration": 20,
    "start_time": "2022-02-24T21:43:39.171Z"
   },
   {
    "duration": 7,
    "start_time": "2022-02-24T21:43:39.193Z"
   },
   {
    "duration": 21,
    "start_time": "2022-02-24T21:43:39.231Z"
   },
   {
    "duration": 15,
    "start_time": "2022-02-24T21:43:39.253Z"
   },
   {
    "duration": 9,
    "start_time": "2022-02-24T21:43:39.269Z"
   },
   {
    "duration": 11,
    "start_time": "2022-02-24T21:43:39.280Z"
   },
   {
    "duration": 13,
    "start_time": "2022-02-24T21:43:39.293Z"
   },
   {
    "duration": 4,
    "start_time": "2022-02-24T21:43:39.308Z"
   },
   {
    "duration": 94,
    "start_time": "2022-02-24T21:43:39.330Z"
   },
   {
    "duration": 4,
    "start_time": "2022-02-24T21:43:39.431Z"
   },
   {
    "duration": 106,
    "start_time": "2022-02-24T21:43:39.437Z"
   },
   {
    "duration": 4,
    "start_time": "2022-02-24T21:43:39.546Z"
   },
   {
    "duration": 94,
    "start_time": "2022-02-24T21:43:39.552Z"
   },
   {
    "duration": 3,
    "start_time": "2022-02-24T21:43:39.648Z"
   },
   {
    "duration": 7,
    "start_time": "2022-02-24T21:43:42.749Z"
   },
   {
    "duration": 19,
    "start_time": "2022-02-24T21:43:52.369Z"
   },
   {
    "duration": 3,
    "start_time": "2022-02-24T21:48:19.539Z"
   },
   {
    "duration": 382,
    "start_time": "2022-02-24T21:48:19.544Z"
   },
   {
    "duration": 8,
    "start_time": "2022-02-24T21:48:19.928Z"
   },
   {
    "duration": 21,
    "start_time": "2022-02-24T21:48:19.938Z"
   },
   {
    "duration": 95,
    "start_time": "2022-02-24T21:48:19.961Z"
   },
   {
    "duration": 8,
    "start_time": "2022-02-24T21:48:20.058Z"
   },
   {
    "duration": 21,
    "start_time": "2022-02-24T21:48:20.069Z"
   },
   {
    "duration": 71,
    "start_time": "2022-02-24T21:48:20.092Z"
   },
   {
    "duration": 7,
    "start_time": "2022-02-24T21:48:20.165Z"
   },
   {
    "duration": 19,
    "start_time": "2022-02-24T21:48:20.173Z"
   },
   {
    "duration": 56,
    "start_time": "2022-02-24T21:48:20.194Z"
   },
   {
    "duration": 8,
    "start_time": "2022-02-24T21:48:20.252Z"
   },
   {
    "duration": 6,
    "start_time": "2022-02-24T21:48:20.262Z"
   },
   {
    "duration": 12,
    "start_time": "2022-02-24T21:48:20.270Z"
   },
   {
    "duration": 7,
    "start_time": "2022-02-24T21:48:20.283Z"
   },
   {
    "duration": 6,
    "start_time": "2022-02-24T21:48:20.291Z"
   },
   {
    "duration": 42,
    "start_time": "2022-02-24T21:48:20.298Z"
   },
   {
    "duration": 42,
    "start_time": "2022-02-24T21:48:20.342Z"
   },
   {
    "duration": 8,
    "start_time": "2022-02-24T21:48:20.388Z"
   },
   {
    "duration": 36,
    "start_time": "2022-02-24T21:48:20.397Z"
   },
   {
    "duration": 13,
    "start_time": "2022-02-24T21:48:20.435Z"
   },
   {
    "duration": 40,
    "start_time": "2022-02-24T21:48:20.450Z"
   },
   {
    "duration": 9,
    "start_time": "2022-02-24T21:48:20.492Z"
   },
   {
    "duration": 42,
    "start_time": "2022-02-24T21:48:20.503Z"
   },
   {
    "duration": 5,
    "start_time": "2022-02-24T21:48:20.547Z"
   },
   {
    "duration": 11,
    "start_time": "2022-02-24T21:48:20.554Z"
   },
   {
    "duration": 28,
    "start_time": "2022-02-24T21:48:20.567Z"
   },
   {
    "duration": 54,
    "start_time": "2022-02-24T21:48:20.597Z"
   },
   {
    "duration": 4,
    "start_time": "2022-02-24T21:48:20.653Z"
   },
   {
    "duration": 20,
    "start_time": "2022-02-24T21:48:20.659Z"
   },
   {
    "duration": 19,
    "start_time": "2022-02-24T21:48:20.680Z"
   },
   {
    "duration": 3,
    "start_time": "2022-02-24T21:48:20.701Z"
   },
   {
    "duration": 48,
    "start_time": "2022-02-24T21:48:20.706Z"
   },
   {
    "duration": 18,
    "start_time": "2022-02-24T21:48:20.756Z"
   },
   {
    "duration": 8,
    "start_time": "2022-02-24T21:48:20.775Z"
   },
   {
    "duration": 5,
    "start_time": "2022-02-24T21:48:20.785Z"
   },
   {
    "duration": 51,
    "start_time": "2022-02-24T21:48:20.792Z"
   },
   {
    "duration": 21,
    "start_time": "2022-02-24T21:48:20.845Z"
   },
   {
    "duration": 7,
    "start_time": "2022-02-24T21:48:20.868Z"
   },
   {
    "duration": 13,
    "start_time": "2022-02-24T21:48:20.876Z"
   },
   {
    "duration": 42,
    "start_time": "2022-02-24T21:48:20.890Z"
   },
   {
    "duration": 7,
    "start_time": "2022-02-24T21:48:20.934Z"
   },
   {
    "duration": 12,
    "start_time": "2022-02-24T21:48:20.942Z"
   },
   {
    "duration": 11,
    "start_time": "2022-02-24T21:48:20.955Z"
   },
   {
    "duration": 4,
    "start_time": "2022-02-24T21:48:20.968Z"
   },
   {
    "duration": 104,
    "start_time": "2022-02-24T21:48:20.974Z"
   },
   {
    "duration": 3,
    "start_time": "2022-02-24T21:48:21.080Z"
   },
   {
    "duration": 88,
    "start_time": "2022-02-24T21:48:21.084Z"
   },
   {
    "duration": 4,
    "start_time": "2022-02-24T21:48:21.173Z"
   },
   {
    "duration": 89,
    "start_time": "2022-02-24T21:48:21.178Z"
   },
   {
    "duration": 17,
    "start_time": "2022-02-24T21:48:24.224Z"
   },
   {
    "duration": 5,
    "start_time": "2022-02-24T21:55:02.329Z"
   },
   {
    "duration": 403,
    "start_time": "2022-02-24T21:55:02.337Z"
   },
   {
    "duration": 9,
    "start_time": "2022-02-24T21:55:02.742Z"
   },
   {
    "duration": 23,
    "start_time": "2022-02-24T21:55:02.752Z"
   },
   {
    "duration": 91,
    "start_time": "2022-02-24T21:55:02.777Z"
   },
   {
    "duration": 8,
    "start_time": "2022-02-24T21:55:02.870Z"
   },
   {
    "duration": 19,
    "start_time": "2022-02-24T21:55:02.880Z"
   },
   {
    "duration": 69,
    "start_time": "2022-02-24T21:55:02.901Z"
   },
   {
    "duration": 7,
    "start_time": "2022-02-24T21:55:02.973Z"
   },
   {
    "duration": 15,
    "start_time": "2022-02-24T21:55:02.982Z"
   },
   {
    "duration": 56,
    "start_time": "2022-02-24T21:55:02.998Z"
   },
   {
    "duration": 8,
    "start_time": "2022-02-24T21:55:03.056Z"
   },
   {
    "duration": 9,
    "start_time": "2022-02-24T21:55:03.066Z"
   },
   {
    "duration": 14,
    "start_time": "2022-02-24T21:55:03.076Z"
   },
   {
    "duration": 9,
    "start_time": "2022-02-24T21:55:03.091Z"
   },
   {
    "duration": 30,
    "start_time": "2022-02-24T21:55:03.101Z"
   },
   {
    "duration": 14,
    "start_time": "2022-02-24T21:55:03.133Z"
   },
   {
    "duration": 42,
    "start_time": "2022-02-24T21:55:03.149Z"
   },
   {
    "duration": 8,
    "start_time": "2022-02-24T21:55:03.193Z"
   },
   {
    "duration": 38,
    "start_time": "2022-02-24T21:55:03.203Z"
   },
   {
    "duration": 13,
    "start_time": "2022-02-24T21:55:03.243Z"
   },
   {
    "duration": 29,
    "start_time": "2022-02-24T21:55:03.258Z"
   },
   {
    "duration": 42,
    "start_time": "2022-02-24T21:55:03.290Z"
   },
   {
    "duration": 26,
    "start_time": "2022-02-24T21:55:03.336Z"
   },
   {
    "duration": 7,
    "start_time": "2022-02-24T21:55:03.364Z"
   },
   {
    "duration": 11,
    "start_time": "2022-02-24T21:55:03.372Z"
   },
   {
    "duration": 55,
    "start_time": "2022-02-24T21:55:03.385Z"
   },
   {
    "duration": 30,
    "start_time": "2022-02-24T21:55:03.442Z"
   },
   {
    "duration": 4,
    "start_time": "2022-02-24T21:55:03.474Z"
   },
   {
    "duration": 23,
    "start_time": "2022-02-24T21:55:03.479Z"
   },
   {
    "duration": 45,
    "start_time": "2022-02-24T21:55:03.503Z"
   },
   {
    "duration": 4,
    "start_time": "2022-02-24T21:55:03.549Z"
   },
   {
    "duration": 29,
    "start_time": "2022-02-24T21:55:03.554Z"
   },
   {
    "duration": 18,
    "start_time": "2022-02-24T21:55:03.584Z"
   },
   {
    "duration": 33,
    "start_time": "2022-02-24T21:55:03.604Z"
   },
   {
    "duration": 5,
    "start_time": "2022-02-24T21:55:03.639Z"
   },
   {
    "duration": 21,
    "start_time": "2022-02-24T21:55:03.645Z"
   },
   {
    "duration": 21,
    "start_time": "2022-02-24T21:55:03.668Z"
   },
   {
    "duration": 8,
    "start_time": "2022-02-24T21:55:03.691Z"
   },
   {
    "duration": 14,
    "start_time": "2022-02-24T21:55:03.729Z"
   },
   {
    "duration": 10,
    "start_time": "2022-02-24T21:55:03.745Z"
   },
   {
    "duration": 8,
    "start_time": "2022-02-24T21:55:03.757Z"
   },
   {
    "duration": 11,
    "start_time": "2022-02-24T21:55:03.767Z"
   },
   {
    "duration": 13,
    "start_time": "2022-02-24T21:55:03.779Z"
   },
   {
    "duration": 36,
    "start_time": "2022-02-24T21:55:03.794Z"
   },
   {
    "duration": 85,
    "start_time": "2022-02-24T21:55:03.832Z"
   },
   {
    "duration": 12,
    "start_time": "2022-02-24T21:55:03.919Z"
   },
   {
    "duration": 84,
    "start_time": "2022-02-24T21:55:03.933Z"
   },
   {
    "duration": 12,
    "start_time": "2022-02-24T21:55:04.019Z"
   },
   {
    "duration": 83,
    "start_time": "2022-02-24T21:55:04.032Z"
   },
   {
    "duration": 25,
    "start_time": "2022-02-24T21:55:04.117Z"
   },
   {
    "duration": 11,
    "start_time": "2022-02-24T21:55:10.747Z"
   },
   {
    "duration": 12,
    "start_time": "2022-02-24T21:55:12.000Z"
   },
   {
    "duration": 10,
    "start_time": "2022-02-24T21:55:12.207Z"
   },
   {
    "duration": 36,
    "start_time": "2022-02-24T21:55:14.014Z"
   },
   {
    "duration": 36,
    "start_time": "2022-02-24T21:57:00.272Z"
   },
   {
    "duration": 8,
    "start_time": "2022-02-24T21:57:03.526Z"
   },
   {
    "duration": 9,
    "start_time": "2022-02-24T22:06:52.567Z"
   },
   {
    "duration": 7,
    "start_time": "2022-02-24T22:07:12.672Z"
   },
   {
    "duration": 2,
    "start_time": "2022-02-24T22:07:53.514Z"
   },
   {
    "duration": 406,
    "start_time": "2022-02-24T22:07:53.519Z"
   },
   {
    "duration": 9,
    "start_time": "2022-02-24T22:07:53.928Z"
   },
   {
    "duration": 21,
    "start_time": "2022-02-24T22:07:53.940Z"
   },
   {
    "duration": 105,
    "start_time": "2022-02-24T22:07:53.963Z"
   },
   {
    "duration": 8,
    "start_time": "2022-02-24T22:07:54.069Z"
   },
   {
    "duration": 24,
    "start_time": "2022-02-24T22:07:54.079Z"
   },
   {
    "duration": 82,
    "start_time": "2022-02-24T22:07:54.105Z"
   },
   {
    "duration": 7,
    "start_time": "2022-02-24T22:07:54.189Z"
   },
   {
    "duration": 32,
    "start_time": "2022-02-24T22:07:54.198Z"
   },
   {
    "duration": 37,
    "start_time": "2022-02-24T22:07:54.231Z"
   },
   {
    "duration": 9,
    "start_time": "2022-02-24T22:07:54.270Z"
   },
   {
    "duration": 15,
    "start_time": "2022-02-24T22:07:54.281Z"
   },
   {
    "duration": 12,
    "start_time": "2022-02-24T22:07:54.298Z"
   },
   {
    "duration": 25,
    "start_time": "2022-02-24T22:07:54.312Z"
   },
   {
    "duration": 5,
    "start_time": "2022-02-24T22:07:54.339Z"
   },
   {
    "duration": 13,
    "start_time": "2022-02-24T22:07:54.346Z"
   },
   {
    "duration": 41,
    "start_time": "2022-02-24T22:07:54.361Z"
   },
   {
    "duration": 8,
    "start_time": "2022-02-24T22:07:54.430Z"
   },
   {
    "duration": 18,
    "start_time": "2022-02-24T22:07:54.440Z"
   },
   {
    "duration": 11,
    "start_time": "2022-02-24T22:07:54.460Z"
   },
   {
    "duration": 31,
    "start_time": "2022-02-24T22:07:54.473Z"
   },
   {
    "duration": 29,
    "start_time": "2022-02-24T22:07:54.506Z"
   },
   {
    "duration": 25,
    "start_time": "2022-02-24T22:07:54.538Z"
   },
   {
    "duration": 5,
    "start_time": "2022-02-24T22:07:54.565Z"
   },
   {
    "duration": 11,
    "start_time": "2022-02-24T22:07:54.571Z"
   },
   {
    "duration": 51,
    "start_time": "2022-02-24T22:07:54.584Z"
   },
   {
    "duration": 29,
    "start_time": "2022-02-24T22:07:54.637Z"
   },
   {
    "duration": 4,
    "start_time": "2022-02-24T22:07:54.668Z"
   },
   {
    "duration": 21,
    "start_time": "2022-02-24T22:07:54.674Z"
   },
   {
    "duration": 45,
    "start_time": "2022-02-24T22:07:54.697Z"
   },
   {
    "duration": 4,
    "start_time": "2022-02-24T22:07:54.745Z"
   },
   {
    "duration": 23,
    "start_time": "2022-02-24T22:07:54.751Z"
   },
   {
    "duration": 19,
    "start_time": "2022-02-24T22:07:54.776Z"
   },
   {
    "duration": 38,
    "start_time": "2022-02-24T22:07:54.797Z"
   },
   {
    "duration": 5,
    "start_time": "2022-02-24T22:07:54.836Z"
   },
   {
    "duration": 22,
    "start_time": "2022-02-24T22:07:54.842Z"
   },
   {
    "duration": 21,
    "start_time": "2022-02-24T22:07:54.866Z"
   },
   {
    "duration": 7,
    "start_time": "2022-02-24T22:07:54.888Z"
   },
   {
    "duration": 42,
    "start_time": "2022-02-24T22:07:54.897Z"
   },
   {
    "duration": 10,
    "start_time": "2022-02-24T22:07:54.940Z"
   },
   {
    "duration": 6,
    "start_time": "2022-02-24T22:07:54.952Z"
   },
   {
    "duration": 7,
    "start_time": "2022-02-24T22:07:54.959Z"
   },
   {
    "duration": 10,
    "start_time": "2022-02-24T22:07:54.968Z"
   },
   {
    "duration": 3,
    "start_time": "2022-02-24T22:07:54.980Z"
   },
   {
    "duration": 111,
    "start_time": "2022-02-24T22:07:54.985Z"
   },
   {
    "duration": 4,
    "start_time": "2022-02-24T22:07:55.097Z"
   },
   {
    "duration": 89,
    "start_time": "2022-02-24T22:07:55.102Z"
   },
   {
    "duration": 3,
    "start_time": "2022-02-24T22:07:55.193Z"
   },
   {
    "duration": 94,
    "start_time": "2022-02-24T22:07:55.198Z"
   },
   {
    "duration": 17,
    "start_time": "2022-02-24T22:07:55.293Z"
   },
   {
    "duration": 21,
    "start_time": "2022-02-24T22:07:55.312Z"
   },
   {
    "duration": 8,
    "start_time": "2022-02-24T22:07:55.334Z"
   },
   {
    "duration": 9,
    "start_time": "2022-02-24T22:07:55.344Z"
   },
   {
    "duration": 37,
    "start_time": "2022-02-24T22:07:55.355Z"
   },
   {
    "duration": 38,
    "start_time": "2022-02-24T22:08:00.373Z"
   },
   {
    "duration": 7,
    "start_time": "2022-02-24T22:08:03.971Z"
   },
   {
    "duration": 7,
    "start_time": "2022-02-24T22:08:38.104Z"
   },
   {
    "duration": 6,
    "start_time": "2022-02-24T22:12:42.596Z"
   },
   {
    "duration": 1493,
    "start_time": "2022-02-24T22:15:26.467Z"
   },
   {
    "duration": 367,
    "start_time": "2022-02-24T22:15:27.962Z"
   },
   {
    "duration": 10,
    "start_time": "2022-02-24T22:15:28.331Z"
   },
   {
    "duration": 25,
    "start_time": "2022-02-24T22:15:28.343Z"
   },
   {
    "duration": 116,
    "start_time": "2022-02-24T22:15:28.369Z"
   },
   {
    "duration": 9,
    "start_time": "2022-02-24T22:15:28.487Z"
   },
   {
    "duration": 33,
    "start_time": "2022-02-24T22:15:28.497Z"
   },
   {
    "duration": 66,
    "start_time": "2022-02-24T22:15:28.533Z"
   },
   {
    "duration": 7,
    "start_time": "2022-02-24T22:15:28.601Z"
   },
   {
    "duration": 28,
    "start_time": "2022-02-24T22:15:28.609Z"
   },
   {
    "duration": 43,
    "start_time": "2022-02-24T22:15:28.640Z"
   },
   {
    "duration": 9,
    "start_time": "2022-02-24T22:15:28.684Z"
   },
   {
    "duration": 36,
    "start_time": "2022-02-24T22:15:28.695Z"
   },
   {
    "duration": 12,
    "start_time": "2022-02-24T22:15:28.733Z"
   },
   {
    "duration": 7,
    "start_time": "2022-02-24T22:15:28.747Z"
   },
   {
    "duration": 8,
    "start_time": "2022-02-24T22:15:28.756Z"
   },
   {
    "duration": 25,
    "start_time": "2022-02-24T22:15:28.766Z"
   },
   {
    "duration": 70,
    "start_time": "2022-02-24T22:15:28.792Z"
   },
   {
    "duration": 8,
    "start_time": "2022-02-24T22:15:28.864Z"
   },
   {
    "duration": 15,
    "start_time": "2022-02-24T22:15:28.874Z"
   },
   {
    "duration": 13,
    "start_time": "2022-02-24T22:15:28.891Z"
   },
   {
    "duration": 29,
    "start_time": "2022-02-24T22:15:28.930Z"
   },
   {
    "duration": 9,
    "start_time": "2022-02-24T22:15:28.964Z"
   },
   {
    "duration": 27,
    "start_time": "2022-02-24T22:15:28.975Z"
   },
   {
    "duration": 30,
    "start_time": "2022-02-24T22:15:29.004Z"
   },
   {
    "duration": 10,
    "start_time": "2022-02-24T22:15:29.035Z"
   },
   {
    "duration": 29,
    "start_time": "2022-02-24T22:15:29.047Z"
   },
   {
    "duration": 53,
    "start_time": "2022-02-24T22:15:29.078Z"
   },
   {
    "duration": 4,
    "start_time": "2022-02-24T22:15:29.133Z"
   },
   {
    "duration": 28,
    "start_time": "2022-02-24T22:15:29.138Z"
   },
   {
    "duration": 26,
    "start_time": "2022-02-24T22:15:29.168Z"
   },
   {
    "duration": 4,
    "start_time": "2022-02-24T22:15:29.195Z"
   },
   {
    "duration": 48,
    "start_time": "2022-02-24T22:15:29.201Z"
   },
   {
    "duration": 21,
    "start_time": "2022-02-24T22:15:29.251Z"
   },
   {
    "duration": 8,
    "start_time": "2022-02-24T22:15:29.274Z"
   },
   {
    "duration": 4,
    "start_time": "2022-02-24T22:15:29.284Z"
   },
   {
    "duration": 51,
    "start_time": "2022-02-24T22:15:29.290Z"
   },
   {
    "duration": 21,
    "start_time": "2022-02-24T22:15:29.343Z"
   },
   {
    "duration": 9,
    "start_time": "2022-02-24T22:15:29.366Z"
   },
   {
    "duration": 12,
    "start_time": "2022-02-24T22:15:29.377Z"
   },
   {
    "duration": 11,
    "start_time": "2022-02-24T22:15:29.391Z"
   },
   {
    "duration": 31,
    "start_time": "2022-02-24T22:15:29.404Z"
   },
   {
    "duration": 7,
    "start_time": "2022-02-24T22:15:29.436Z"
   },
   {
    "duration": 12,
    "start_time": "2022-02-24T22:15:29.445Z"
   },
   {
    "duration": 3,
    "start_time": "2022-02-24T22:15:29.459Z"
   },
   {
    "duration": 105,
    "start_time": "2022-02-24T22:15:29.464Z"
   },
   {
    "duration": 4,
    "start_time": "2022-02-24T22:15:29.571Z"
   },
   {
    "duration": 91,
    "start_time": "2022-02-24T22:15:29.576Z"
   },
   {
    "duration": 3,
    "start_time": "2022-02-24T22:15:29.669Z"
   },
   {
    "duration": 83,
    "start_time": "2022-02-24T22:15:29.673Z"
   },
   {
    "duration": 15,
    "start_time": "2022-02-24T22:15:29.758Z"
   },
   {
    "duration": 7,
    "start_time": "2022-02-24T22:15:29.775Z"
   },
   {
    "duration": 10,
    "start_time": "2022-02-24T22:15:29.784Z"
   },
   {
    "duration": 8,
    "start_time": "2022-02-24T22:15:29.796Z"
   },
   {
    "duration": 58,
    "start_time": "2022-02-24T22:15:29.805Z"
   },
   {
    "duration": 6,
    "start_time": "2022-02-24T22:15:29.864Z"
   },
   {
    "duration": 8,
    "start_time": "2022-02-24T22:15:39.749Z"
   },
   {
    "duration": 7,
    "start_time": "2022-02-24T22:15:47.776Z"
   },
   {
    "duration": 1097,
    "start_time": "2022-02-24T22:22:49.850Z"
   },
   {
    "duration": 377,
    "start_time": "2022-02-24T22:22:50.949Z"
   },
   {
    "duration": 12,
    "start_time": "2022-02-24T22:22:51.328Z"
   },
   {
    "duration": 38,
    "start_time": "2022-02-24T22:22:51.342Z"
   },
   {
    "duration": 97,
    "start_time": "2022-02-24T22:22:51.381Z"
   },
   {
    "duration": 7,
    "start_time": "2022-02-24T22:22:51.480Z"
   },
   {
    "duration": 19,
    "start_time": "2022-02-24T22:22:51.489Z"
   },
   {
    "duration": 78,
    "start_time": "2022-02-24T22:22:51.511Z"
   },
   {
    "duration": 6,
    "start_time": "2022-02-24T22:22:51.591Z"
   },
   {
    "duration": 14,
    "start_time": "2022-02-24T22:22:51.599Z"
   },
   {
    "duration": 41,
    "start_time": "2022-02-24T22:22:51.629Z"
   },
   {
    "duration": 7,
    "start_time": "2022-02-24T22:22:51.672Z"
   },
   {
    "duration": 12,
    "start_time": "2022-02-24T22:22:51.681Z"
   },
   {
    "duration": 10,
    "start_time": "2022-02-24T22:22:51.695Z"
   },
   {
    "duration": 6,
    "start_time": "2022-02-24T22:22:51.731Z"
   },
   {
    "duration": 5,
    "start_time": "2022-02-24T22:22:51.739Z"
   },
   {
    "duration": 24,
    "start_time": "2022-02-24T22:22:51.746Z"
   },
   {
    "duration": 73,
    "start_time": "2022-02-24T22:22:51.772Z"
   },
   {
    "duration": 9,
    "start_time": "2022-02-24T22:22:51.847Z"
   },
   {
    "duration": 16,
    "start_time": "2022-02-24T22:22:51.858Z"
   },
   {
    "duration": 13,
    "start_time": "2022-02-24T22:22:51.876Z"
   },
   {
    "duration": 58,
    "start_time": "2022-02-24T22:22:51.891Z"
   },
   {
    "duration": 11,
    "start_time": "2022-02-24T22:22:51.953Z"
   },
   {
    "duration": 27,
    "start_time": "2022-02-24T22:22:51.967Z"
   },
   {
    "duration": 5,
    "start_time": "2022-02-24T22:22:51.996Z"
   },
   {
    "duration": 10,
    "start_time": "2022-02-24T22:22:52.031Z"
   },
   {
    "duration": 30,
    "start_time": "2022-02-24T22:22:52.042Z"
   },
   {
    "duration": 32,
    "start_time": "2022-02-24T22:22:52.074Z"
   },
   {
    "duration": 25,
    "start_time": "2022-02-24T22:22:52.107Z"
   },
   {
    "duration": 22,
    "start_time": "2022-02-24T22:22:52.134Z"
   },
   {
    "duration": 22,
    "start_time": "2022-02-24T22:22:52.158Z"
   },
   {
    "duration": 4,
    "start_time": "2022-02-24T22:22:52.182Z"
   },
   {
    "duration": 48,
    "start_time": "2022-02-24T22:22:52.187Z"
   },
   {
    "duration": 20,
    "start_time": "2022-02-24T22:22:52.237Z"
   },
   {
    "duration": 8,
    "start_time": "2022-02-24T22:22:52.259Z"
   },
   {
    "duration": 4,
    "start_time": "2022-02-24T22:22:52.268Z"
   },
   {
    "duration": 21,
    "start_time": "2022-02-24T22:22:52.274Z"
   },
   {
    "duration": 43,
    "start_time": "2022-02-24T22:22:52.297Z"
   },
   {
    "duration": 8,
    "start_time": "2022-02-24T22:22:52.341Z"
   },
   {
    "duration": 12,
    "start_time": "2022-02-24T22:22:52.350Z"
   },
   {
    "duration": 9,
    "start_time": "2022-02-24T22:22:52.363Z"
   },
   {
    "duration": 6,
    "start_time": "2022-02-24T22:22:52.373Z"
   },
   {
    "duration": 7,
    "start_time": "2022-02-24T22:22:52.380Z"
   },
   {
    "duration": 48,
    "start_time": "2022-02-24T22:22:52.389Z"
   },
   {
    "duration": 4,
    "start_time": "2022-02-24T22:22:52.438Z"
   },
   {
    "duration": 95,
    "start_time": "2022-02-24T22:22:52.444Z"
   },
   {
    "duration": 3,
    "start_time": "2022-02-24T22:22:52.541Z"
   },
   {
    "duration": 88,
    "start_time": "2022-02-24T22:22:52.546Z"
   },
   {
    "duration": 3,
    "start_time": "2022-02-24T22:22:52.636Z"
   },
   {
    "duration": 78,
    "start_time": "2022-02-24T22:22:52.641Z"
   },
   {
    "duration": 17,
    "start_time": "2022-02-24T22:22:52.730Z"
   },
   {
    "duration": 8,
    "start_time": "2022-02-24T22:22:52.749Z"
   },
   {
    "duration": 11,
    "start_time": "2022-02-24T22:22:52.759Z"
   },
   {
    "duration": 8,
    "start_time": "2022-02-24T22:22:52.772Z"
   },
   {
    "duration": 72,
    "start_time": "2022-02-24T22:22:52.782Z"
   },
   {
    "duration": 6,
    "start_time": "2022-02-24T22:22:52.856Z"
   },
   {
    "duration": 6,
    "start_time": "2022-02-24T22:22:52.863Z"
   },
   {
    "duration": 9,
    "start_time": "2022-02-24T22:22:52.871Z"
   },
   {
    "duration": 8,
    "start_time": "2022-02-24T22:22:52.882Z"
   },
   {
    "duration": 38,
    "start_time": "2022-02-24T22:22:52.892Z"
   },
   {
    "duration": 3,
    "start_time": "2022-02-24T22:22:52.932Z"
   },
   {
    "duration": 389,
    "start_time": "2022-02-24T22:22:52.937Z"
   },
   {
    "duration": 370,
    "start_time": "2022-02-24T22:22:53.328Z"
   },
   {
    "duration": 402,
    "start_time": "2022-02-24T22:22:53.700Z"
   },
   {
    "duration": 4,
    "start_time": "2022-02-24T22:22:59.027Z"
   },
   {
    "duration": 4,
    "start_time": "2022-02-24T22:22:59.647Z"
   },
   {
    "duration": 4,
    "start_time": "2022-02-24T22:24:19.879Z"
   },
   {
    "duration": 4,
    "start_time": "2022-02-24T22:24:20.311Z"
   },
   {
    "duration": 4,
    "start_time": "2022-02-24T22:24:20.764Z"
   },
   {
    "duration": 3,
    "start_time": "2022-02-24T22:28:42.912Z"
   },
   {
    "duration": 403,
    "start_time": "2022-02-24T22:28:42.917Z"
   },
   {
    "duration": 8,
    "start_time": "2022-02-24T22:28:43.322Z"
   },
   {
    "duration": 24,
    "start_time": "2022-02-24T22:28:43.332Z"
   },
   {
    "duration": 103,
    "start_time": "2022-02-24T22:28:43.358Z"
   },
   {
    "duration": 9,
    "start_time": "2022-02-24T22:28:43.463Z"
   },
   {
    "duration": 20,
    "start_time": "2022-02-24T22:28:43.473Z"
   },
   {
    "duration": 76,
    "start_time": "2022-02-24T22:28:43.495Z"
   },
   {
    "duration": 7,
    "start_time": "2022-02-24T22:28:43.574Z"
   },
   {
    "duration": 14,
    "start_time": "2022-02-24T22:28:43.584Z"
   },
   {
    "duration": 55,
    "start_time": "2022-02-24T22:28:43.600Z"
   },
   {
    "duration": 6,
    "start_time": "2022-02-24T22:28:43.657Z"
   },
   {
    "duration": 10,
    "start_time": "2022-02-24T22:28:43.665Z"
   },
   {
    "duration": 13,
    "start_time": "2022-02-24T22:28:43.676Z"
   },
   {
    "duration": 8,
    "start_time": "2022-02-24T22:28:43.690Z"
   },
   {
    "duration": 5,
    "start_time": "2022-02-24T22:28:43.699Z"
   },
   {
    "duration": 38,
    "start_time": "2022-02-24T22:28:43.705Z"
   },
   {
    "duration": 44,
    "start_time": "2022-02-24T22:28:43.744Z"
   },
   {
    "duration": 8,
    "start_time": "2022-02-24T22:28:43.790Z"
   },
   {
    "duration": 32,
    "start_time": "2022-02-24T22:28:43.799Z"
   },
   {
    "duration": 14,
    "start_time": "2022-02-24T22:28:43.833Z"
   },
   {
    "duration": 31,
    "start_time": "2022-02-24T22:28:43.849Z"
   },
   {
    "duration": 9,
    "start_time": "2022-02-24T22:28:43.882Z"
   },
   {
    "duration": 51,
    "start_time": "2022-02-24T22:28:43.893Z"
   },
   {
    "duration": 6,
    "start_time": "2022-02-24T22:28:43.946Z"
   },
   {
    "duration": 17,
    "start_time": "2022-02-24T22:28:43.954Z"
   },
   {
    "duration": 27,
    "start_time": "2022-02-24T22:28:43.975Z"
   },
   {
    "duration": 53,
    "start_time": "2022-02-24T22:28:44.005Z"
   },
   {
    "duration": 4,
    "start_time": "2022-02-24T22:28:44.060Z"
   },
   {
    "duration": 22,
    "start_time": "2022-02-24T22:28:44.065Z"
   },
   {
    "duration": 42,
    "start_time": "2022-02-24T22:28:44.088Z"
   },
   {
    "duration": 5,
    "start_time": "2022-02-24T22:28:44.132Z"
   },
   {
    "duration": 28,
    "start_time": "2022-02-24T22:28:44.139Z"
   },
   {
    "duration": 18,
    "start_time": "2022-02-24T22:28:44.169Z"
   },
   {
    "duration": 8,
    "start_time": "2022-02-24T22:28:44.189Z"
   },
   {
    "duration": 7,
    "start_time": "2022-02-24T22:28:44.199Z"
   },
   {
    "duration": 40,
    "start_time": "2022-02-24T22:28:44.207Z"
   },
   {
    "duration": 19,
    "start_time": "2022-02-24T22:28:44.249Z"
   },
   {
    "duration": 7,
    "start_time": "2022-02-24T22:28:44.270Z"
   },
   {
    "duration": 12,
    "start_time": "2022-02-24T22:28:44.279Z"
   },
   {
    "duration": 46,
    "start_time": "2022-02-24T22:28:44.292Z"
   },
   {
    "duration": 7,
    "start_time": "2022-02-24T22:28:44.340Z"
   },
   {
    "duration": 10,
    "start_time": "2022-02-24T22:28:44.348Z"
   },
   {
    "duration": 11,
    "start_time": "2022-02-24T22:28:44.360Z"
   },
   {
    "duration": 3,
    "start_time": "2022-02-24T22:28:44.373Z"
   },
   {
    "duration": 101,
    "start_time": "2022-02-24T22:28:44.378Z"
   },
   {
    "duration": 3,
    "start_time": "2022-02-24T22:28:44.481Z"
   },
   {
    "duration": 150,
    "start_time": "2022-02-24T22:28:44.486Z"
   },
   {
    "duration": 3,
    "start_time": "2022-02-24T22:28:44.637Z"
   },
   {
    "duration": 97,
    "start_time": "2022-02-24T22:28:44.642Z"
   },
   {
    "duration": 17,
    "start_time": "2022-02-24T22:28:44.740Z"
   },
   {
    "duration": 9,
    "start_time": "2022-02-24T22:28:44.759Z"
   },
   {
    "duration": 10,
    "start_time": "2022-02-24T22:28:44.769Z"
   },
   {
    "duration": 10,
    "start_time": "2022-02-24T22:28:44.780Z"
   },
   {
    "duration": 65,
    "start_time": "2022-02-24T22:28:44.792Z"
   },
   {
    "duration": 7,
    "start_time": "2022-02-24T22:28:44.859Z"
   },
   {
    "duration": 12,
    "start_time": "2022-02-24T22:28:44.867Z"
   },
   {
    "duration": 9,
    "start_time": "2022-02-24T22:28:44.881Z"
   },
   {
    "duration": 7,
    "start_time": "2022-02-24T22:28:44.891Z"
   },
   {
    "duration": 31,
    "start_time": "2022-02-24T22:28:44.900Z"
   },
   {
    "duration": 4,
    "start_time": "2022-02-24T22:28:44.932Z"
   },
   {
    "duration": 397,
    "start_time": "2022-02-24T22:28:44.937Z"
   },
   {
    "duration": 372,
    "start_time": "2022-02-24T22:28:45.335Z"
   },
   {
    "duration": 406,
    "start_time": "2022-02-24T22:28:45.709Z"
   },
   {
    "duration": 4,
    "start_time": "2022-02-24T22:28:46.116Z"
   },
   {
    "duration": 4,
    "start_time": "2022-02-24T22:28:48.517Z"
   },
   {
    "duration": 3,
    "start_time": "2022-02-24T22:30:33.557Z"
   },
   {
    "duration": 377,
    "start_time": "2022-02-24T22:30:33.562Z"
   },
   {
    "duration": 7,
    "start_time": "2022-02-24T22:30:33.941Z"
   },
   {
    "duration": 21,
    "start_time": "2022-02-24T22:30:33.950Z"
   },
   {
    "duration": 96,
    "start_time": "2022-02-24T22:30:33.972Z"
   },
   {
    "duration": 8,
    "start_time": "2022-02-24T22:30:34.070Z"
   },
   {
    "duration": 18,
    "start_time": "2022-02-24T22:30:34.081Z"
   },
   {
    "duration": 70,
    "start_time": "2022-02-24T22:30:34.101Z"
   },
   {
    "duration": 7,
    "start_time": "2022-02-24T22:30:34.173Z"
   },
   {
    "duration": 19,
    "start_time": "2022-02-24T22:30:34.182Z"
   },
   {
    "duration": 49,
    "start_time": "2022-02-24T22:30:34.203Z"
   },
   {
    "duration": 7,
    "start_time": "2022-02-24T22:30:34.254Z"
   },
   {
    "duration": 8,
    "start_time": "2022-02-24T22:30:34.263Z"
   },
   {
    "duration": 15,
    "start_time": "2022-02-24T22:30:34.273Z"
   },
   {
    "duration": 8,
    "start_time": "2022-02-24T22:30:34.290Z"
   },
   {
    "duration": 10,
    "start_time": "2022-02-24T22:30:34.300Z"
   },
   {
    "duration": 27,
    "start_time": "2022-02-24T22:30:34.312Z"
   },
   {
    "duration": 41,
    "start_time": "2022-02-24T22:30:34.341Z"
   },
   {
    "duration": 8,
    "start_time": "2022-02-24T22:30:34.386Z"
   },
   {
    "duration": 38,
    "start_time": "2022-02-24T22:30:34.397Z"
   },
   {
    "duration": 15,
    "start_time": "2022-02-24T22:30:34.437Z"
   },
   {
    "duration": 34,
    "start_time": "2022-02-24T22:30:34.454Z"
   },
   {
    "duration": 9,
    "start_time": "2022-02-24T22:30:34.490Z"
   },
   {
    "duration": 49,
    "start_time": "2022-02-24T22:30:34.500Z"
   },
   {
    "duration": 5,
    "start_time": "2022-02-24T22:30:34.551Z"
   },
   {
    "duration": 13,
    "start_time": "2022-02-24T22:30:34.557Z"
   },
   {
    "duration": 26,
    "start_time": "2022-02-24T22:30:34.572Z"
   },
   {
    "duration": 51,
    "start_time": "2022-02-24T22:30:34.600Z"
   },
   {
    "duration": 5,
    "start_time": "2022-02-24T22:30:34.652Z"
   },
   {
    "duration": 27,
    "start_time": "2022-02-24T22:30:34.658Z"
   },
   {
    "duration": 20,
    "start_time": "2022-02-24T22:30:34.687Z"
   },
   {
    "duration": 24,
    "start_time": "2022-02-24T22:30:34.709Z"
   },
   {
    "duration": 28,
    "start_time": "2022-02-24T22:30:34.734Z"
   },
   {
    "duration": 19,
    "start_time": "2022-02-24T22:30:34.764Z"
   },
   {
    "duration": 8,
    "start_time": "2022-02-24T22:30:34.784Z"
   },
   {
    "duration": 9,
    "start_time": "2022-02-24T22:30:34.794Z"
   },
   {
    "duration": 46,
    "start_time": "2022-02-24T22:30:34.804Z"
   },
   {
    "duration": 22,
    "start_time": "2022-02-24T22:30:34.852Z"
   },
   {
    "duration": 8,
    "start_time": "2022-02-24T22:30:34.876Z"
   },
   {
    "duration": 13,
    "start_time": "2022-02-24T22:30:34.885Z"
   },
   {
    "duration": 36,
    "start_time": "2022-02-24T22:30:34.900Z"
   },
   {
    "duration": 7,
    "start_time": "2022-02-24T22:30:34.938Z"
   },
   {
    "duration": 12,
    "start_time": "2022-02-24T22:30:34.946Z"
   },
   {
    "duration": 13,
    "start_time": "2022-02-24T22:30:34.960Z"
   },
   {
    "duration": 4,
    "start_time": "2022-02-24T22:30:34.975Z"
   },
   {
    "duration": 104,
    "start_time": "2022-02-24T22:30:34.981Z"
   },
   {
    "duration": 3,
    "start_time": "2022-02-24T22:30:35.087Z"
   },
   {
    "duration": 94,
    "start_time": "2022-02-24T22:30:35.092Z"
   },
   {
    "duration": 3,
    "start_time": "2022-02-24T22:30:35.188Z"
   },
   {
    "duration": 92,
    "start_time": "2022-02-24T22:30:35.193Z"
   },
   {
    "duration": 17,
    "start_time": "2022-02-24T22:30:35.286Z"
   },
   {
    "duration": 26,
    "start_time": "2022-02-24T22:30:35.304Z"
   },
   {
    "duration": 8,
    "start_time": "2022-02-24T22:30:35.332Z"
   },
   {
    "duration": 8,
    "start_time": "2022-02-24T22:30:35.342Z"
   },
   {
    "duration": 36,
    "start_time": "2022-02-24T22:30:35.354Z"
   },
   {
    "duration": 6,
    "start_time": "2022-02-24T22:30:35.391Z"
   },
   {
    "duration": 36,
    "start_time": "2022-02-24T22:30:35.398Z"
   },
   {
    "duration": 10,
    "start_time": "2022-02-24T22:30:35.435Z"
   },
   {
    "duration": 10,
    "start_time": "2022-02-24T22:30:35.446Z"
   },
   {
    "duration": 11,
    "start_time": "2022-02-24T22:30:35.458Z"
   },
   {
    "duration": 7,
    "start_time": "2022-02-24T22:30:35.470Z"
   },
   {
    "duration": 422,
    "start_time": "2022-02-24T22:30:35.478Z"
   },
   {
    "duration": 387,
    "start_time": "2022-02-24T22:30:35.902Z"
   },
   {
    "duration": 416,
    "start_time": "2022-02-24T22:30:36.291Z"
   },
   {
    "duration": 5,
    "start_time": "2022-02-24T22:30:36.709Z"
   },
   {
    "duration": 15,
    "start_time": "2022-02-24T22:30:36.715Z"
   },
   {
    "duration": 7,
    "start_time": "2022-02-24T22:30:41.369Z"
   },
   {
    "duration": 3,
    "start_time": "2022-02-24T22:32:50.943Z"
   },
   {
    "duration": 390,
    "start_time": "2022-02-24T22:32:50.948Z"
   },
   {
    "duration": 7,
    "start_time": "2022-02-24T22:32:51.341Z"
   },
   {
    "duration": 21,
    "start_time": "2022-02-24T22:32:51.350Z"
   },
   {
    "duration": 93,
    "start_time": "2022-02-24T22:32:51.372Z"
   },
   {
    "duration": 7,
    "start_time": "2022-02-24T22:32:51.467Z"
   },
   {
    "duration": 16,
    "start_time": "2022-02-24T22:32:51.477Z"
   },
   {
    "duration": 72,
    "start_time": "2022-02-24T22:32:51.495Z"
   },
   {
    "duration": 7,
    "start_time": "2022-02-24T22:32:51.568Z"
   },
   {
    "duration": 15,
    "start_time": "2022-02-24T22:32:51.577Z"
   },
   {
    "duration": 59,
    "start_time": "2022-02-24T22:32:51.594Z"
   },
   {
    "duration": 9,
    "start_time": "2022-02-24T22:32:51.655Z"
   },
   {
    "duration": 8,
    "start_time": "2022-02-24T22:32:51.665Z"
   },
   {
    "duration": 11,
    "start_time": "2022-02-24T22:32:51.675Z"
   },
   {
    "duration": 7,
    "start_time": "2022-02-24T22:32:51.687Z"
   },
   {
    "duration": 5,
    "start_time": "2022-02-24T22:32:51.696Z"
   },
   {
    "duration": 41,
    "start_time": "2022-02-24T22:32:51.702Z"
   },
   {
    "duration": 43,
    "start_time": "2022-02-24T22:32:51.745Z"
   },
   {
    "duration": 8,
    "start_time": "2022-02-24T22:32:51.791Z"
   },
   {
    "duration": 39,
    "start_time": "2022-02-24T22:32:51.802Z"
   },
   {
    "duration": 13,
    "start_time": "2022-02-24T22:32:51.843Z"
   },
   {
    "duration": 28,
    "start_time": "2022-02-24T22:32:51.858Z"
   },
   {
    "duration": 11,
    "start_time": "2022-02-24T22:32:51.888Z"
   },
   {
    "duration": 53,
    "start_time": "2022-02-24T22:32:51.901Z"
   },
   {
    "duration": 4,
    "start_time": "2022-02-24T22:32:51.956Z"
   },
   {
    "duration": 10,
    "start_time": "2022-02-24T22:32:51.962Z"
   },
   {
    "duration": 27,
    "start_time": "2022-02-24T22:32:51.974Z"
   },
   {
    "duration": 54,
    "start_time": "2022-02-24T22:32:52.003Z"
   },
   {
    "duration": 4,
    "start_time": "2022-02-24T22:32:52.058Z"
   },
   {
    "duration": 23,
    "start_time": "2022-02-24T22:32:52.063Z"
   },
   {
    "duration": 45,
    "start_time": "2022-02-24T22:32:52.088Z"
   },
   {
    "duration": 4,
    "start_time": "2022-02-24T22:32:52.135Z"
   },
   {
    "duration": 25,
    "start_time": "2022-02-24T22:32:52.140Z"
   },
   {
    "duration": 20,
    "start_time": "2022-02-24T22:32:52.166Z"
   },
   {
    "duration": 8,
    "start_time": "2022-02-24T22:32:52.187Z"
   },
   {
    "duration": 35,
    "start_time": "2022-02-24T22:32:52.197Z"
   },
   {
    "duration": 19,
    "start_time": "2022-02-24T22:32:52.233Z"
   },
   {
    "duration": 20,
    "start_time": "2022-02-24T22:32:52.254Z"
   },
   {
    "duration": 8,
    "start_time": "2022-02-24T22:32:52.276Z"
   },
   {
    "duration": 12,
    "start_time": "2022-02-24T22:32:52.286Z"
   },
   {
    "duration": 8,
    "start_time": "2022-02-24T22:32:52.331Z"
   },
   {
    "duration": 8,
    "start_time": "2022-02-24T22:32:52.341Z"
   },
   {
    "duration": 7,
    "start_time": "2022-02-24T22:32:52.351Z"
   },
   {
    "duration": 12,
    "start_time": "2022-02-24T22:32:52.360Z"
   },
   {
    "duration": 4,
    "start_time": "2022-02-24T22:32:52.373Z"
   },
   {
    "duration": 103,
    "start_time": "2022-02-24T22:32:52.378Z"
   },
   {
    "duration": 3,
    "start_time": "2022-02-24T22:32:52.483Z"
   },
   {
    "duration": 94,
    "start_time": "2022-02-24T22:32:52.488Z"
   },
   {
    "duration": 3,
    "start_time": "2022-02-24T22:32:52.584Z"
   },
   {
    "duration": 86,
    "start_time": "2022-02-24T22:32:52.589Z"
   },
   {
    "duration": 17,
    "start_time": "2022-02-24T22:32:52.677Z"
   },
   {
    "duration": 10,
    "start_time": "2022-02-24T22:32:52.696Z"
   },
   {
    "duration": 11,
    "start_time": "2022-02-24T22:32:52.730Z"
   },
   {
    "duration": 8,
    "start_time": "2022-02-24T22:32:52.743Z"
   },
   {
    "duration": 37,
    "start_time": "2022-02-24T22:32:52.755Z"
   },
   {
    "duration": 6,
    "start_time": "2022-02-24T22:32:52.794Z"
   },
   {
    "duration": 6,
    "start_time": "2022-02-24T22:32:52.830Z"
   },
   {
    "duration": 9,
    "start_time": "2022-02-24T22:32:52.838Z"
   },
   {
    "duration": 7,
    "start_time": "2022-02-24T22:32:52.849Z"
   },
   {
    "duration": 11,
    "start_time": "2022-02-24T22:32:52.858Z"
   },
   {
    "duration": 5,
    "start_time": "2022-02-24T22:32:52.870Z"
   },
   {
    "duration": 500,
    "start_time": "2022-02-24T22:32:52.876Z"
   },
   {
    "duration": 357,
    "start_time": "2022-02-24T22:32:53.377Z"
   },
   {
    "duration": 387,
    "start_time": "2022-02-24T22:32:53.736Z"
   },
   {
    "duration": 6,
    "start_time": "2022-02-24T22:32:54.125Z"
   },
   {
    "duration": 11,
    "start_time": "2022-02-24T22:32:54.133Z"
   },
   {
    "duration": 9,
    "start_time": "2022-02-24T22:32:54.146Z"
   },
   {
    "duration": 13,
    "start_time": "2022-02-24T22:32:54.157Z"
   },
   {
    "duration": 8,
    "start_time": "2022-02-24T22:32:54.172Z"
   },
   {
    "duration": 3,
    "start_time": "2022-02-24T22:32:54.182Z"
   },
   {
    "duration": 5,
    "start_time": "2022-02-24T22:32:54.187Z"
   },
   {
    "duration": 5,
    "start_time": "2022-02-24T22:32:56.821Z"
   },
   {
    "duration": 4,
    "start_time": "2022-02-24T22:32:57.078Z"
   },
   {
    "duration": 4,
    "start_time": "2022-02-24T22:32:57.339Z"
   },
   {
    "duration": 4,
    "start_time": "2022-02-24T22:33:47.351Z"
   },
   {
    "duration": 5,
    "start_time": "2022-02-24T22:33:47.906Z"
   },
   {
    "duration": 3,
    "start_time": "2022-02-24T22:37:53.426Z"
   },
   {
    "duration": 406,
    "start_time": "2022-02-24T22:37:53.432Z"
   },
   {
    "duration": 7,
    "start_time": "2022-02-24T22:37:53.840Z"
   },
   {
    "duration": 21,
    "start_time": "2022-02-24T22:37:53.849Z"
   },
   {
    "duration": 92,
    "start_time": "2022-02-24T22:37:53.872Z"
   },
   {
    "duration": 7,
    "start_time": "2022-02-24T22:37:53.966Z"
   },
   {
    "duration": 19,
    "start_time": "2022-02-24T22:37:53.975Z"
   },
   {
    "duration": 66,
    "start_time": "2022-02-24T22:37:53.995Z"
   },
   {
    "duration": 7,
    "start_time": "2022-02-24T22:37:54.064Z"
   },
   {
    "duration": 16,
    "start_time": "2022-02-24T22:37:54.073Z"
   },
   {
    "duration": 54,
    "start_time": "2022-02-24T22:37:54.091Z"
   },
   {
    "duration": 7,
    "start_time": "2022-02-24T22:37:54.146Z"
   },
   {
    "duration": 7,
    "start_time": "2022-02-24T22:37:54.155Z"
   },
   {
    "duration": 10,
    "start_time": "2022-02-24T22:37:54.163Z"
   },
   {
    "duration": 6,
    "start_time": "2022-02-24T22:37:54.175Z"
   },
   {
    "duration": 5,
    "start_time": "2022-02-24T22:37:54.183Z"
   },
   {
    "duration": 42,
    "start_time": "2022-02-24T22:37:54.189Z"
   },
   {
    "duration": 43,
    "start_time": "2022-02-24T22:37:54.232Z"
   },
   {
    "duration": 8,
    "start_time": "2022-02-24T22:37:54.277Z"
   },
   {
    "duration": 13,
    "start_time": "2022-02-24T22:37:54.287Z"
   },
   {
    "duration": 38,
    "start_time": "2022-02-24T22:37:54.302Z"
   },
   {
    "duration": 31,
    "start_time": "2022-02-24T22:37:54.342Z"
   },
   {
    "duration": 10,
    "start_time": "2022-02-24T22:37:54.375Z"
   },
   {
    "duration": 53,
    "start_time": "2022-02-24T22:37:54.390Z"
   },
   {
    "duration": 6,
    "start_time": "2022-02-24T22:37:54.447Z"
   },
   {
    "duration": 12,
    "start_time": "2022-02-24T22:37:54.455Z"
   },
   {
    "duration": 31,
    "start_time": "2022-02-24T22:37:54.469Z"
   },
   {
    "duration": 54,
    "start_time": "2022-02-24T22:37:54.502Z"
   },
   {
    "duration": 5,
    "start_time": "2022-02-24T22:37:54.558Z"
   },
   {
    "duration": 23,
    "start_time": "2022-02-24T22:37:54.564Z"
   },
   {
    "duration": 42,
    "start_time": "2022-02-24T22:37:54.589Z"
   },
   {
    "duration": 4,
    "start_time": "2022-02-24T22:37:54.632Z"
   },
   {
    "duration": 23,
    "start_time": "2022-02-24T22:37:54.638Z"
   },
   {
    "duration": 17,
    "start_time": "2022-02-24T22:37:54.663Z"
   },
   {
    "duration": 8,
    "start_time": "2022-02-24T22:37:54.681Z"
   },
   {
    "duration": 5,
    "start_time": "2022-02-24T22:37:54.691Z"
   },
   {
    "duration": 52,
    "start_time": "2022-02-24T22:37:54.697Z"
   },
   {
    "duration": 19,
    "start_time": "2022-02-24T22:37:54.751Z"
   },
   {
    "duration": 9,
    "start_time": "2022-02-24T22:37:54.772Z"
   },
   {
    "duration": 13,
    "start_time": "2022-02-24T22:37:54.783Z"
   },
   {
    "duration": 39,
    "start_time": "2022-02-24T22:37:54.797Z"
   },
   {
    "duration": 7,
    "start_time": "2022-02-24T22:37:54.838Z"
   },
   {
    "duration": 9,
    "start_time": "2022-02-24T22:37:54.847Z"
   },
   {
    "duration": 11,
    "start_time": "2022-02-24T22:37:54.858Z"
   },
   {
    "duration": 4,
    "start_time": "2022-02-24T22:37:54.870Z"
   },
   {
    "duration": 107,
    "start_time": "2022-02-24T22:37:54.875Z"
   },
   {
    "duration": 3,
    "start_time": "2022-02-24T22:37:54.984Z"
   },
   {
    "duration": 89,
    "start_time": "2022-02-24T22:37:54.989Z"
   },
   {
    "duration": 3,
    "start_time": "2022-02-24T22:37:55.080Z"
   },
   {
    "duration": 91,
    "start_time": "2022-02-24T22:37:55.085Z"
   },
   {
    "duration": 16,
    "start_time": "2022-02-24T22:37:55.177Z"
   },
   {
    "duration": 10,
    "start_time": "2022-02-24T22:37:55.195Z"
   },
   {
    "duration": 25,
    "start_time": "2022-02-24T22:37:55.207Z"
   },
   {
    "duration": 8,
    "start_time": "2022-02-24T22:37:55.233Z"
   },
   {
    "duration": 37,
    "start_time": "2022-02-24T22:37:55.243Z"
   },
   {
    "duration": 5,
    "start_time": "2022-02-24T22:37:55.281Z"
   },
   {
    "duration": 6,
    "start_time": "2022-02-24T22:37:55.288Z"
   },
   {
    "duration": 35,
    "start_time": "2022-02-24T22:37:55.295Z"
   },
   {
    "duration": 7,
    "start_time": "2022-02-24T22:37:55.332Z"
   },
   {
    "duration": 5,
    "start_time": "2022-02-24T22:37:55.341Z"
   },
   {
    "duration": 4,
    "start_time": "2022-02-24T22:37:55.348Z"
   },
   {
    "duration": 380,
    "start_time": "2022-02-24T22:37:55.354Z"
   },
   {
    "duration": 386,
    "start_time": "2022-02-24T22:37:55.735Z"
   },
   {
    "duration": 397,
    "start_time": "2022-02-24T22:37:56.123Z"
   },
   {
    "duration": 11,
    "start_time": "2022-02-24T22:37:56.522Z"
   },
   {
    "duration": 5,
    "start_time": "2022-02-24T22:37:56.535Z"
   },
   {
    "duration": 7,
    "start_time": "2022-02-24T22:37:56.542Z"
   },
   {
    "duration": 15,
    "start_time": "2022-02-24T22:37:56.550Z"
   },
   {
    "duration": 7,
    "start_time": "2022-02-24T22:37:56.569Z"
   },
   {
    "duration": 5,
    "start_time": "2022-02-24T22:37:56.578Z"
   },
   {
    "duration": 5,
    "start_time": "2022-02-24T22:37:56.585Z"
   },
   {
    "duration": 7,
    "start_time": "2022-02-24T22:38:05.659Z"
   },
   {
    "duration": 1187,
    "start_time": "2022-02-24T22:48:14.343Z"
   },
   {
    "duration": 350,
    "start_time": "2022-02-24T22:48:15.532Z"
   },
   {
    "duration": 10,
    "start_time": "2022-02-24T22:48:15.884Z"
   },
   {
    "duration": 20,
    "start_time": "2022-02-24T22:48:15.896Z"
   },
   {
    "duration": 101,
    "start_time": "2022-02-24T22:48:15.917Z"
   },
   {
    "duration": 12,
    "start_time": "2022-02-24T22:48:16.020Z"
   },
   {
    "duration": 18,
    "start_time": "2022-02-24T22:48:16.033Z"
   },
   {
    "duration": 78,
    "start_time": "2022-02-24T22:48:16.053Z"
   },
   {
    "duration": 7,
    "start_time": "2022-02-24T22:48:16.133Z"
   },
   {
    "duration": 16,
    "start_time": "2022-02-24T22:48:16.141Z"
   },
   {
    "duration": 45,
    "start_time": "2022-02-24T22:48:16.159Z"
   },
   {
    "duration": 29,
    "start_time": "2022-02-24T22:48:16.205Z"
   },
   {
    "duration": 10,
    "start_time": "2022-02-24T22:48:16.236Z"
   },
   {
    "duration": 11,
    "start_time": "2022-02-24T22:48:16.247Z"
   },
   {
    "duration": 11,
    "start_time": "2022-02-24T22:48:16.259Z"
   },
   {
    "duration": 7,
    "start_time": "2022-02-24T22:48:16.272Z"
   },
   {
    "duration": 24,
    "start_time": "2022-02-24T22:48:16.280Z"
   },
   {
    "duration": 63,
    "start_time": "2022-02-24T22:48:16.305Z"
   },
   {
    "duration": 7,
    "start_time": "2022-02-24T22:48:16.370Z"
   },
   {
    "duration": 15,
    "start_time": "2022-02-24T22:48:16.379Z"
   },
   {
    "duration": 12,
    "start_time": "2022-02-24T22:48:16.395Z"
   },
   {
    "duration": 28,
    "start_time": "2022-02-24T22:48:16.431Z"
   },
   {
    "duration": 9,
    "start_time": "2022-02-24T22:48:16.463Z"
   },
   {
    "duration": 26,
    "start_time": "2022-02-24T22:48:16.475Z"
   },
   {
    "duration": 29,
    "start_time": "2022-02-24T22:48:16.503Z"
   },
   {
    "duration": 10,
    "start_time": "2022-02-24T22:48:16.534Z"
   },
   {
    "duration": 30,
    "start_time": "2022-02-24T22:48:16.545Z"
   },
   {
    "duration": 57,
    "start_time": "2022-02-24T22:48:16.577Z"
   },
   {
    "duration": 4,
    "start_time": "2022-02-24T22:48:16.636Z"
   },
   {
    "duration": 19,
    "start_time": "2022-02-24T22:48:16.641Z"
   },
   {
    "duration": 21,
    "start_time": "2022-02-24T22:48:16.662Z"
   },
   {
    "duration": 4,
    "start_time": "2022-02-24T22:48:16.685Z"
   },
   {
    "duration": 53,
    "start_time": "2022-02-24T22:48:16.691Z"
   },
   {
    "duration": 21,
    "start_time": "2022-02-24T22:48:16.745Z"
   },
   {
    "duration": 9,
    "start_time": "2022-02-24T22:48:16.767Z"
   },
   {
    "duration": 4,
    "start_time": "2022-02-24T22:48:16.778Z"
   },
   {
    "duration": 47,
    "start_time": "2022-02-24T22:48:16.784Z"
   },
   {
    "duration": 20,
    "start_time": "2022-02-24T22:48:16.833Z"
   },
   {
    "duration": 7,
    "start_time": "2022-02-24T22:48:16.855Z"
   },
   {
    "duration": 11,
    "start_time": "2022-02-24T22:48:16.864Z"
   },
   {
    "duration": 8,
    "start_time": "2022-02-24T22:48:16.877Z"
   },
   {
    "duration": 6,
    "start_time": "2022-02-24T22:48:16.887Z"
   },
   {
    "duration": 37,
    "start_time": "2022-02-24T22:48:16.894Z"
   },
   {
    "duration": 11,
    "start_time": "2022-02-24T22:48:16.933Z"
   },
   {
    "duration": 4,
    "start_time": "2022-02-24T22:48:16.945Z"
   },
   {
    "duration": 95,
    "start_time": "2022-02-24T22:48:16.950Z"
   },
   {
    "duration": 2,
    "start_time": "2022-02-24T22:48:17.047Z"
   },
   {
    "duration": 90,
    "start_time": "2022-02-24T22:48:17.051Z"
   },
   {
    "duration": 3,
    "start_time": "2022-02-24T22:48:17.143Z"
   },
   {
    "duration": 88,
    "start_time": "2022-02-24T22:48:17.147Z"
   },
   {
    "duration": 17,
    "start_time": "2022-02-24T22:48:17.236Z"
   },
   {
    "duration": 9,
    "start_time": "2022-02-24T22:48:17.254Z"
   },
   {
    "duration": 8,
    "start_time": "2022-02-24T22:48:17.264Z"
   },
   {
    "duration": 8,
    "start_time": "2022-02-24T22:48:17.273Z"
   },
   {
    "duration": 67,
    "start_time": "2022-02-24T22:48:17.283Z"
   },
   {
    "duration": 5,
    "start_time": "2022-02-24T22:48:17.352Z"
   },
   {
    "duration": 6,
    "start_time": "2022-02-24T22:48:17.358Z"
   },
   {
    "duration": 9,
    "start_time": "2022-02-24T22:48:17.365Z"
   },
   {
    "duration": 8,
    "start_time": "2022-02-24T22:48:17.376Z"
   },
   {
    "duration": 10,
    "start_time": "2022-02-24T22:48:17.386Z"
   },
   {
    "duration": 6,
    "start_time": "2022-02-24T22:48:17.398Z"
   },
   {
    "duration": 401,
    "start_time": "2022-02-24T22:48:17.405Z"
   },
   {
    "duration": 409,
    "start_time": "2022-02-24T22:48:17.808Z"
   },
   {
    "duration": 384,
    "start_time": "2022-02-24T22:48:18.219Z"
   },
   {
    "duration": 3,
    "start_time": "2022-02-24T22:48:18.605Z"
   },
   {
    "duration": 5,
    "start_time": "2022-02-24T22:48:18.610Z"
   },
   {
    "duration": 257,
    "start_time": "2022-02-24T22:48:18.617Z"
   },
   {
    "duration": -193,
    "start_time": "2022-02-24T22:48:19.069Z"
   },
   {
    "duration": -199,
    "start_time": "2022-02-24T22:48:19.076Z"
   },
   {
    "duration": -204,
    "start_time": "2022-02-24T22:48:19.083Z"
   },
   {
    "duration": -216,
    "start_time": "2022-02-24T22:48:19.096Z"
   },
   {
    "duration": -222,
    "start_time": "2022-02-24T22:48:19.103Z"
   },
   {
    "duration": -226,
    "start_time": "2022-02-24T22:48:19.108Z"
   },
   {
    "duration": -232,
    "start_time": "2022-02-24T22:48:19.115Z"
   },
   {
    "duration": 6,
    "start_time": "2022-02-24T22:48:50.291Z"
   },
   {
    "duration": 1073,
    "start_time": "2022-02-24T22:49:15.168Z"
   },
   {
    "duration": 360,
    "start_time": "2022-02-24T22:49:16.243Z"
   },
   {
    "duration": 11,
    "start_time": "2022-02-24T22:49:16.606Z"
   },
   {
    "duration": 19,
    "start_time": "2022-02-24T22:49:16.619Z"
   },
   {
    "duration": 106,
    "start_time": "2022-02-24T22:49:16.640Z"
   },
   {
    "duration": 8,
    "start_time": "2022-02-24T22:49:16.748Z"
   },
   {
    "duration": 21,
    "start_time": "2022-02-24T22:49:16.757Z"
   },
   {
    "duration": 84,
    "start_time": "2022-02-24T22:49:16.781Z"
   },
   {
    "duration": 7,
    "start_time": "2022-02-24T22:49:16.867Z"
   },
   {
    "duration": 14,
    "start_time": "2022-02-24T22:49:16.876Z"
   },
   {
    "duration": 61,
    "start_time": "2022-02-24T22:49:16.892Z"
   },
   {
    "duration": 8,
    "start_time": "2022-02-24T22:49:16.954Z"
   },
   {
    "duration": 10,
    "start_time": "2022-02-24T22:49:16.963Z"
   },
   {
    "duration": 13,
    "start_time": "2022-02-24T22:49:16.974Z"
   },
   {
    "duration": 6,
    "start_time": "2022-02-24T22:49:16.988Z"
   },
   {
    "duration": 5,
    "start_time": "2022-02-24T22:49:16.995Z"
   },
   {
    "duration": 46,
    "start_time": "2022-02-24T22:49:17.001Z"
   },
   {
    "duration": 43,
    "start_time": "2022-02-24T22:49:17.049Z"
   },
   {
    "duration": 8,
    "start_time": "2022-02-24T22:49:17.094Z"
   },
   {
    "duration": 38,
    "start_time": "2022-02-24T22:49:17.103Z"
   },
   {
    "duration": 13,
    "start_time": "2022-02-24T22:49:17.143Z"
   },
   {
    "duration": 31,
    "start_time": "2022-02-24T22:49:17.158Z"
   },
   {
    "duration": 39,
    "start_time": "2022-02-24T22:49:17.194Z"
   },
   {
    "duration": 27,
    "start_time": "2022-02-24T22:49:17.236Z"
   },
   {
    "duration": 6,
    "start_time": "2022-02-24T22:49:17.265Z"
   },
   {
    "duration": 10,
    "start_time": "2022-02-24T22:49:17.273Z"
   },
   {
    "duration": 62,
    "start_time": "2022-02-24T22:49:17.285Z"
   },
   {
    "duration": 34,
    "start_time": "2022-02-24T22:49:17.349Z"
   },
   {
    "duration": 5,
    "start_time": "2022-02-24T22:49:17.385Z"
   },
   {
    "duration": 40,
    "start_time": "2022-02-24T22:49:17.391Z"
   },
   {
    "duration": 22,
    "start_time": "2022-02-24T22:49:17.433Z"
   },
   {
    "duration": 4,
    "start_time": "2022-02-24T22:49:17.456Z"
   },
   {
    "duration": 27,
    "start_time": "2022-02-24T22:49:17.461Z"
   },
   {
    "duration": 42,
    "start_time": "2022-02-24T22:49:17.490Z"
   },
   {
    "duration": 8,
    "start_time": "2022-02-24T22:49:17.533Z"
   },
   {
    "duration": 3,
    "start_time": "2022-02-24T22:49:17.543Z"
   },
   {
    "duration": 19,
    "start_time": "2022-02-24T22:49:17.548Z"
   },
   {
    "duration": 20,
    "start_time": "2022-02-24T22:49:17.569Z"
   },
   {
    "duration": 39,
    "start_time": "2022-02-24T22:49:17.591Z"
   },
   {
    "duration": 13,
    "start_time": "2022-02-24T22:49:17.632Z"
   },
   {
    "duration": 10,
    "start_time": "2022-02-24T22:49:17.647Z"
   },
   {
    "duration": 6,
    "start_time": "2022-02-24T22:49:17.659Z"
   },
   {
    "duration": 10,
    "start_time": "2022-02-24T22:49:17.666Z"
   },
   {
    "duration": 10,
    "start_time": "2022-02-24T22:49:17.678Z"
   },
   {
    "duration": 4,
    "start_time": "2022-02-24T22:49:17.690Z"
   },
   {
    "duration": 107,
    "start_time": "2022-02-24T22:49:17.695Z"
   },
   {
    "duration": 3,
    "start_time": "2022-02-24T22:49:17.803Z"
   },
   {
    "duration": 90,
    "start_time": "2022-02-24T22:49:17.808Z"
   },
   {
    "duration": 3,
    "start_time": "2022-02-24T22:49:17.900Z"
   },
   {
    "duration": 89,
    "start_time": "2022-02-24T22:49:17.905Z"
   },
   {
    "duration": 17,
    "start_time": "2022-02-24T22:49:17.996Z"
   },
   {
    "duration": 9,
    "start_time": "2022-02-24T22:49:18.031Z"
   },
   {
    "duration": 11,
    "start_time": "2022-02-24T22:49:18.041Z"
   },
   {
    "duration": 8,
    "start_time": "2022-02-24T22:49:18.054Z"
   },
   {
    "duration": 45,
    "start_time": "2022-02-24T22:49:18.063Z"
   },
   {
    "duration": 27,
    "start_time": "2022-02-24T22:49:18.110Z"
   },
   {
    "duration": 8,
    "start_time": "2022-02-24T22:49:18.139Z"
   },
   {
    "duration": 14,
    "start_time": "2022-02-24T22:49:18.150Z"
   },
   {
    "duration": 7,
    "start_time": "2022-02-24T22:49:18.166Z"
   },
   {
    "duration": 9,
    "start_time": "2022-02-24T22:49:18.175Z"
   },
   {
    "duration": 8,
    "start_time": "2022-02-24T22:49:18.185Z"
   },
   {
    "duration": 418,
    "start_time": "2022-02-24T22:49:18.195Z"
   },
   {
    "duration": 468,
    "start_time": "2022-02-24T22:49:18.615Z"
   },
   {
    "duration": 408,
    "start_time": "2022-02-24T22:49:19.085Z"
   },
   {
    "duration": 4,
    "start_time": "2022-02-24T22:49:19.495Z"
   },
   {
    "duration": 5,
    "start_time": "2022-02-24T22:49:19.501Z"
   },
   {
    "duration": 23,
    "start_time": "2022-02-24T22:49:19.508Z"
   },
   {
    "duration": 12,
    "start_time": "2022-02-24T22:49:19.537Z"
   },
   {
    "duration": 9,
    "start_time": "2022-02-24T22:49:19.551Z"
   },
   {
    "duration": 7,
    "start_time": "2022-02-24T22:49:19.561Z"
   },
   {
    "duration": 5,
    "start_time": "2022-02-24T22:49:19.570Z"
   },
   {
    "duration": 8,
    "start_time": "2022-02-24T22:49:19.577Z"
   },
   {
    "duration": 1415,
    "start_time": "2022-02-24T22:49:19.587Z"
   },
   {
    "duration": 16,
    "start_time": "2022-02-24T22:49:21.004Z"
   },
   {
    "duration": 80,
    "start_time": "2022-02-25T03:20:28.170Z"
   },
   {
    "duration": 1230,
    "start_time": "2022-02-25T03:25:07.765Z"
   },
   {
    "duration": 422,
    "start_time": "2022-02-25T03:25:08.998Z"
   },
   {
    "duration": 13,
    "start_time": "2022-02-25T03:25:09.422Z"
   },
   {
    "duration": 30,
    "start_time": "2022-02-25T03:25:09.437Z"
   },
   {
    "duration": 124,
    "start_time": "2022-02-25T03:25:09.469Z"
   },
   {
    "duration": 14,
    "start_time": "2022-02-25T03:25:09.595Z"
   },
   {
    "duration": 20,
    "start_time": "2022-02-25T03:25:09.611Z"
   },
   {
    "duration": 101,
    "start_time": "2022-02-25T03:25:09.634Z"
   },
   {
    "duration": 8,
    "start_time": "2022-02-25T03:25:09.738Z"
   },
   {
    "duration": 22,
    "start_time": "2022-02-25T03:25:09.748Z"
   },
   {
    "duration": 74,
    "start_time": "2022-02-25T03:25:09.772Z"
   },
   {
    "duration": 11,
    "start_time": "2022-02-25T03:25:09.848Z"
   },
   {
    "duration": 11,
    "start_time": "2022-02-25T03:25:09.861Z"
   },
   {
    "duration": 35,
    "start_time": "2022-02-25T03:25:09.874Z"
   },
   {
    "duration": 9,
    "start_time": "2022-02-25T03:25:09.911Z"
   },
   {
    "duration": 5,
    "start_time": "2022-02-25T03:25:09.922Z"
   },
   {
    "duration": 29,
    "start_time": "2022-02-25T03:25:09.929Z"
   },
   {
    "duration": 85,
    "start_time": "2022-02-25T03:25:09.960Z"
   },
   {
    "duration": 10,
    "start_time": "2022-02-25T03:25:10.047Z"
   },
   {
    "duration": 23,
    "start_time": "2022-02-25T03:25:10.059Z"
   },
   {
    "duration": 36,
    "start_time": "2022-02-25T03:25:10.083Z"
   },
   {
    "duration": 35,
    "start_time": "2022-02-25T03:25:10.121Z"
   },
   {
    "duration": 12,
    "start_time": "2022-02-25T03:25:10.160Z"
   },
   {
    "duration": 56,
    "start_time": "2022-02-25T03:25:10.175Z"
   },
   {
    "duration": 6,
    "start_time": "2022-02-25T03:25:10.233Z"
   },
   {
    "duration": 17,
    "start_time": "2022-02-25T03:25:10.241Z"
   },
   {
    "duration": 54,
    "start_time": "2022-02-25T03:25:10.260Z"
   },
   {
    "duration": 39,
    "start_time": "2022-02-25T03:25:10.316Z"
   },
   {
    "duration": 4,
    "start_time": "2022-02-25T03:25:10.357Z"
   },
   {
    "duration": 46,
    "start_time": "2022-02-25T03:25:10.363Z"
   },
   {
    "duration": 26,
    "start_time": "2022-02-25T03:25:10.411Z"
   },
   {
    "duration": 5,
    "start_time": "2022-02-25T03:25:10.439Z"
   },
   {
    "duration": 31,
    "start_time": "2022-02-25T03:25:10.446Z"
   },
   {
    "duration": 49,
    "start_time": "2022-02-25T03:25:10.479Z"
   },
   {
    "duration": 13,
    "start_time": "2022-02-25T03:25:10.531Z"
   },
   {
    "duration": 5,
    "start_time": "2022-02-25T03:25:10.546Z"
   },
   {
    "duration": 27,
    "start_time": "2022-02-25T03:25:10.553Z"
   },
   {
    "duration": 27,
    "start_time": "2022-02-25T03:25:10.606Z"
   },
   {
    "duration": 9,
    "start_time": "2022-02-25T03:25:10.634Z"
   },
   {
    "duration": 16,
    "start_time": "2022-02-25T03:25:10.646Z"
   },
   {
    "duration": 44,
    "start_time": "2022-02-25T03:25:10.664Z"
   },
   {
    "duration": 13,
    "start_time": "2022-02-25T03:25:10.710Z"
   },
   {
    "duration": 15,
    "start_time": "2022-02-25T03:25:10.725Z"
   },
   {
    "duration": 14,
    "start_time": "2022-02-25T03:25:10.742Z"
   },
   {
    "duration": 6,
    "start_time": "2022-02-25T03:25:10.758Z"
   },
   {
    "duration": 117,
    "start_time": "2022-02-25T03:25:10.766Z"
   },
   {
    "duration": 4,
    "start_time": "2022-02-25T03:25:10.885Z"
   },
   {
    "duration": 105,
    "start_time": "2022-02-25T03:25:10.891Z"
   },
   {
    "duration": 9,
    "start_time": "2022-02-25T03:25:10.998Z"
   },
   {
    "duration": 105,
    "start_time": "2022-02-25T03:25:11.010Z"
   },
   {
    "duration": 20,
    "start_time": "2022-02-25T03:25:11.118Z"
   },
   {
    "duration": 13,
    "start_time": "2022-02-25T03:25:11.140Z"
   },
   {
    "duration": 11,
    "start_time": "2022-02-25T03:25:11.155Z"
   },
   {
    "duration": 40,
    "start_time": "2022-02-25T03:25:11.168Z"
   },
   {
    "duration": 45,
    "start_time": "2022-02-25T03:25:11.210Z"
   },
   {
    "duration": 8,
    "start_time": "2022-02-25T03:25:11.257Z"
   },
   {
    "duration": 11,
    "start_time": "2022-02-25T03:25:11.267Z"
   },
   {
    "duration": 39,
    "start_time": "2022-02-25T03:25:11.280Z"
   },
   {
    "duration": 14,
    "start_time": "2022-02-25T03:25:11.321Z"
   },
   {
    "duration": 11,
    "start_time": "2022-02-25T03:25:11.337Z"
   },
   {
    "duration": 7,
    "start_time": "2022-02-25T03:25:11.350Z"
   },
   {
    "duration": 460,
    "start_time": "2022-02-25T03:25:11.358Z"
   },
   {
    "duration": 398,
    "start_time": "2022-02-25T03:25:11.820Z"
   },
   {
    "duration": 389,
    "start_time": "2022-02-25T03:25:12.220Z"
   },
   {
    "duration": 5,
    "start_time": "2022-02-25T03:25:12.612Z"
   },
   {
    "duration": 28,
    "start_time": "2022-02-25T03:25:12.618Z"
   },
   {
    "duration": 9,
    "start_time": "2022-02-25T03:25:12.648Z"
   },
   {
    "duration": 18,
    "start_time": "2022-02-25T03:25:12.663Z"
   },
   {
    "duration": 23,
    "start_time": "2022-02-25T03:25:12.684Z"
   },
   {
    "duration": 5,
    "start_time": "2022-02-25T03:25:12.710Z"
   },
   {
    "duration": 8,
    "start_time": "2022-02-25T03:25:12.717Z"
   },
   {
    "duration": 8,
    "start_time": "2022-02-25T03:25:12.728Z"
   },
   {
    "duration": 1469,
    "start_time": "2022-02-25T03:25:12.738Z"
   },
   {
    "duration": 18,
    "start_time": "2022-02-25T03:25:14.209Z"
   },
   {
    "duration": 371,
    "start_time": "2022-02-25T03:26:02.675Z"
   },
   {
    "duration": 370,
    "start_time": "2022-02-25T03:27:34.864Z"
   },
   {
    "duration": 1239,
    "start_time": "2022-02-25T03:53:57.675Z"
   },
   {
    "duration": 541,
    "start_time": "2022-02-25T03:53:58.916Z"
   },
   {
    "duration": 47,
    "start_time": "2022-02-25T03:53:59.460Z"
   },
   {
    "duration": 23,
    "start_time": "2022-02-25T03:53:59.510Z"
   },
   {
    "duration": 123,
    "start_time": "2022-02-25T03:53:59.536Z"
   },
   {
    "duration": 10,
    "start_time": "2022-02-25T03:53:59.661Z"
   },
   {
    "duration": 20,
    "start_time": "2022-02-25T03:53:59.673Z"
   },
   {
    "duration": 82,
    "start_time": "2022-02-25T03:53:59.696Z"
   },
   {
    "duration": 9,
    "start_time": "2022-02-25T03:53:59.781Z"
   },
   {
    "duration": 20,
    "start_time": "2022-02-25T03:53:59.792Z"
   },
   {
    "duration": 58,
    "start_time": "2022-02-25T03:53:59.814Z"
   },
   {
    "duration": 10,
    "start_time": "2022-02-25T03:53:59.874Z"
   },
   {
    "duration": 18,
    "start_time": "2022-02-25T03:53:59.886Z"
   },
   {
    "duration": 19,
    "start_time": "2022-02-25T03:53:59.906Z"
   },
   {
    "duration": 11,
    "start_time": "2022-02-25T03:53:59.926Z"
   },
   {
    "duration": 7,
    "start_time": "2022-02-25T03:53:59.938Z"
   },
   {
    "duration": 33,
    "start_time": "2022-02-25T03:53:59.948Z"
   },
   {
    "duration": 53,
    "start_time": "2022-02-25T03:53:59.983Z"
   },
   {
    "duration": 11,
    "start_time": "2022-02-25T03:54:00.038Z"
   },
   {
    "duration": 22,
    "start_time": "2022-02-25T03:54:00.051Z"
   },
   {
    "duration": 15,
    "start_time": "2022-02-25T03:54:00.075Z"
   },
   {
    "duration": 520,
    "start_time": "2022-02-25T03:54:00.092Z"
   },
   {
    "duration": 32,
    "start_time": "2022-02-25T03:54:00.614Z"
   },
   {
    "duration": 64,
    "start_time": "2022-02-25T03:54:00.648Z"
   },
   {
    "duration": 32,
    "start_time": "2022-02-25T03:54:00.714Z"
   },
   {
    "duration": 60,
    "start_time": "2022-02-25T03:54:00.748Z"
   },
   {
    "duration": 12,
    "start_time": "2022-02-25T03:54:00.813Z"
   },
   {
    "duration": 90,
    "start_time": "2022-02-25T03:54:00.827Z"
   },
   {
    "duration": 40,
    "start_time": "2022-02-25T03:54:00.919Z"
   },
   {
    "duration": 4,
    "start_time": "2022-02-25T03:54:00.961Z"
   },
   {
    "duration": 40,
    "start_time": "2022-02-25T03:54:00.967Z"
   },
   {
    "duration": 26,
    "start_time": "2022-02-25T03:54:01.010Z"
   },
   {
    "duration": 4,
    "start_time": "2022-02-25T03:54:01.038Z"
   },
   {
    "duration": 63,
    "start_time": "2022-02-25T03:54:01.044Z"
   },
   {
    "duration": 20,
    "start_time": "2022-02-25T03:54:01.110Z"
   },
   {
    "duration": 10,
    "start_time": "2022-02-25T03:54:01.132Z"
   },
   {
    "duration": 4,
    "start_time": "2022-02-25T03:54:01.144Z"
   },
   {
    "duration": 80,
    "start_time": "2022-02-25T03:54:01.150Z"
   },
   {
    "duration": 77,
    "start_time": "2022-02-25T03:54:01.232Z"
   },
   {
    "duration": 10,
    "start_time": "2022-02-25T03:54:01.311Z"
   },
   {
    "duration": 33,
    "start_time": "2022-02-25T03:54:01.324Z"
   },
   {
    "duration": 16,
    "start_time": "2022-02-25T03:54:01.360Z"
   },
   {
    "duration": 18,
    "start_time": "2022-02-25T03:54:01.378Z"
   },
   {
    "duration": 15,
    "start_time": "2022-02-25T03:54:01.398Z"
   },
   {
    "duration": 29,
    "start_time": "2022-02-25T03:54:01.415Z"
   },
   {
    "duration": 15,
    "start_time": "2022-02-25T03:54:01.446Z"
   },
   {
    "duration": 186,
    "start_time": "2022-02-25T03:54:01.463Z"
   },
   {
    "duration": 4,
    "start_time": "2022-02-25T03:54:01.652Z"
   },
   {
    "duration": 188,
    "start_time": "2022-02-25T03:54:01.658Z"
   },
   {
    "duration": 4,
    "start_time": "2022-02-25T03:54:01.848Z"
   },
   {
    "duration": 261,
    "start_time": "2022-02-25T03:54:01.854Z"
   },
   {
    "duration": 21,
    "start_time": "2022-02-25T03:54:02.117Z"
   },
   {
    "duration": 72,
    "start_time": "2022-02-25T03:54:02.140Z"
   },
   {
    "duration": 12,
    "start_time": "2022-02-25T03:54:02.213Z"
   },
   {
    "duration": 19,
    "start_time": "2022-02-25T03:54:02.228Z"
   },
   {
    "duration": 98,
    "start_time": "2022-02-25T03:54:02.249Z"
   },
   {
    "duration": 62,
    "start_time": "2022-02-25T03:54:02.349Z"
   },
   {
    "duration": 8,
    "start_time": "2022-02-25T03:54:02.414Z"
   },
   {
    "duration": 17,
    "start_time": "2022-02-25T03:54:02.424Z"
   },
   {
    "duration": 67,
    "start_time": "2022-02-25T03:54:02.443Z"
   },
   {
    "duration": 22,
    "start_time": "2022-02-25T03:54:02.512Z"
   },
   {
    "duration": 13,
    "start_time": "2022-02-25T03:54:02.536Z"
   },
   {
    "duration": 684,
    "start_time": "2022-02-25T03:54:02.551Z"
   },
   {
    "duration": 686,
    "start_time": "2022-02-25T03:54:03.237Z"
   },
   {
    "duration": 575,
    "start_time": "2022-02-25T03:54:03.924Z"
   },
   {
    "duration": 9,
    "start_time": "2022-02-25T03:54:04.500Z"
   },
   {
    "duration": 13,
    "start_time": "2022-02-25T03:54:04.511Z"
   },
   {
    "duration": 11,
    "start_time": "2022-02-25T03:54:04.526Z"
   },
   {
    "duration": 19,
    "start_time": "2022-02-25T03:54:04.539Z"
   },
   {
    "duration": 15,
    "start_time": "2022-02-25T03:54:04.560Z"
   },
   {
    "duration": 8,
    "start_time": "2022-02-25T03:54:04.577Z"
   },
   {
    "duration": 24,
    "start_time": "2022-02-25T03:54:04.587Z"
   },
   {
    "duration": 13,
    "start_time": "2022-02-25T03:54:04.613Z"
   },
   {
    "duration": 1403,
    "start_time": "2022-02-25T03:54:04.628Z"
   },
   {
    "duration": 19,
    "start_time": "2022-02-25T03:54:06.033Z"
   }
  ],
  "kernelspec": {
   "display_name": "Python 3 (ipykernel)",
   "language": "python",
   "name": "python3"
  },
  "language_info": {
   "codemirror_mode": {
    "name": "ipython",
    "version": 3
   },
   "file_extension": ".py",
   "mimetype": "text/x-python",
   "name": "python",
   "nbconvert_exporter": "python",
   "pygments_lexer": "ipython3",
   "version": "3.9.12"
  },
  "toc": {
   "base_numbering": "1",
   "nav_menu": {},
   "number_sections": false,
   "sideBar": true,
   "skip_h1_title": true,
   "title_cell": "Table of Contents",
   "title_sidebar": "Contents",
   "toc_cell": false,
   "toc_position": {
    "height": "calc(100% - 180px)",
    "left": "10px",
    "top": "150px",
    "width": "302.391px"
   },
   "toc_section_display": true,
   "toc_window_display": true
  }
 },
 "nbformat": 4,
 "nbformat_minor": 2
}
